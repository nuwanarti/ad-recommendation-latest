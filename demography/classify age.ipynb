{
 "cells": [
  {
   "cell_type": "code",
   "execution_count": 1,
   "metadata": {
    "scrolled": true
   },
   "outputs": [
    {
     "name": "stderr",
     "output_type": "stream",
     "text": [
      "/home/hicup/anaconda3/envs/tf_gpu/lib/python3.7/site-packages/tensorflow/python/framework/dtypes.py:516: FutureWarning: Passing (type, 1) or '1type' as a synonym of type is deprecated; in a future version of numpy, it will be understood as (type, (1,)) / '(1,)type'.\n",
      "  _np_qint8 = np.dtype([(\"qint8\", np.int8, 1)])\n",
      "/home/hicup/anaconda3/envs/tf_gpu/lib/python3.7/site-packages/tensorflow/python/framework/dtypes.py:517: FutureWarning: Passing (type, 1) or '1type' as a synonym of type is deprecated; in a future version of numpy, it will be understood as (type, (1,)) / '(1,)type'.\n",
      "  _np_quint8 = np.dtype([(\"quint8\", np.uint8, 1)])\n",
      "/home/hicup/anaconda3/envs/tf_gpu/lib/python3.7/site-packages/tensorflow/python/framework/dtypes.py:518: FutureWarning: Passing (type, 1) or '1type' as a synonym of type is deprecated; in a future version of numpy, it will be understood as (type, (1,)) / '(1,)type'.\n",
      "  _np_qint16 = np.dtype([(\"qint16\", np.int16, 1)])\n",
      "/home/hicup/anaconda3/envs/tf_gpu/lib/python3.7/site-packages/tensorflow/python/framework/dtypes.py:519: FutureWarning: Passing (type, 1) or '1type' as a synonym of type is deprecated; in a future version of numpy, it will be understood as (type, (1,)) / '(1,)type'.\n",
      "  _np_quint16 = np.dtype([(\"quint16\", np.uint16, 1)])\n",
      "/home/hicup/anaconda3/envs/tf_gpu/lib/python3.7/site-packages/tensorflow/python/framework/dtypes.py:520: FutureWarning: Passing (type, 1) or '1type' as a synonym of type is deprecated; in a future version of numpy, it will be understood as (type, (1,)) / '(1,)type'.\n",
      "  _np_qint32 = np.dtype([(\"qint32\", np.int32, 1)])\n",
      "/home/hicup/anaconda3/envs/tf_gpu/lib/python3.7/site-packages/tensorflow/python/framework/dtypes.py:525: FutureWarning: Passing (type, 1) or '1type' as a synonym of type is deprecated; in a future version of numpy, it will be understood as (type, (1,)) / '(1,)type'.\n",
      "  np_resource = np.dtype([(\"resource\", np.ubyte, 1)])\n",
      "/home/hicup/anaconda3/envs/tf_gpu/lib/python3.7/site-packages/tensorboard/compat/tensorflow_stub/dtypes.py:541: FutureWarning: Passing (type, 1) or '1type' as a synonym of type is deprecated; in a future version of numpy, it will be understood as (type, (1,)) / '(1,)type'.\n",
      "  _np_qint8 = np.dtype([(\"qint8\", np.int8, 1)])\n",
      "/home/hicup/anaconda3/envs/tf_gpu/lib/python3.7/site-packages/tensorboard/compat/tensorflow_stub/dtypes.py:542: FutureWarning: Passing (type, 1) or '1type' as a synonym of type is deprecated; in a future version of numpy, it will be understood as (type, (1,)) / '(1,)type'.\n",
      "  _np_quint8 = np.dtype([(\"quint8\", np.uint8, 1)])\n",
      "/home/hicup/anaconda3/envs/tf_gpu/lib/python3.7/site-packages/tensorboard/compat/tensorflow_stub/dtypes.py:543: FutureWarning: Passing (type, 1) or '1type' as a synonym of type is deprecated; in a future version of numpy, it will be understood as (type, (1,)) / '(1,)type'.\n",
      "  _np_qint16 = np.dtype([(\"qint16\", np.int16, 1)])\n",
      "/home/hicup/anaconda3/envs/tf_gpu/lib/python3.7/site-packages/tensorboard/compat/tensorflow_stub/dtypes.py:544: FutureWarning: Passing (type, 1) or '1type' as a synonym of type is deprecated; in a future version of numpy, it will be understood as (type, (1,)) / '(1,)type'.\n",
      "  _np_quint16 = np.dtype([(\"quint16\", np.uint16, 1)])\n",
      "/home/hicup/anaconda3/envs/tf_gpu/lib/python3.7/site-packages/tensorboard/compat/tensorflow_stub/dtypes.py:545: FutureWarning: Passing (type, 1) or '1type' as a synonym of type is deprecated; in a future version of numpy, it will be understood as (type, (1,)) / '(1,)type'.\n",
      "  _np_qint32 = np.dtype([(\"qint32\", np.int32, 1)])\n",
      "/home/hicup/anaconda3/envs/tf_gpu/lib/python3.7/site-packages/tensorboard/compat/tensorflow_stub/dtypes.py:550: FutureWarning: Passing (type, 1) or '1type' as a synonym of type is deprecated; in a future version of numpy, it will be understood as (type, (1,)) / '(1,)type'.\n",
      "  np_resource = np.dtype([(\"resource\", np.ubyte, 1)])\n"
     ]
    }
   ],
   "source": [
    "from __future__ import absolute_import\n",
    "from __future__ import division\n",
    "from __future__ import print_function\n",
    "\n",
    "from datetime import datetime\n",
    "import math\n",
    "import time\n",
    "from data import inputs\n",
    "import numpy as np\n",
    "import tensorflow as tf\n",
    "from model import select_model, get_checkpoint\n",
    "from utils import *\n",
    "import os\n",
    "import json\n",
    "import csv\n",
    "from glob import glob"
   ]
  },
  {
   "cell_type": "code",
   "execution_count": 2,
   "metadata": {},
   "outputs": [],
   "source": [
    "# python guess.py --model_type inception --model_dir ./age/ --filename ../../recommendation/images/lahiru_23_malexxx_1.png \n"
   ]
  },
  {
   "cell_type": "code",
   "execution_count": 3,
   "metadata": {},
   "outputs": [],
   "source": [
    "\n",
    "RESIZE_FINAL = 227\n",
    "# GENDER_LIST =['M','F']\n",
    "AGE_LIST = ['(0, 2)','(4, 6)','(8, 12)','(15, 20)','(25, 32)','(38, 43)','(48, 53)','(60, 100)']\n",
    "MAX_BATCH_SZ = 128\n",
    "\n",
    "tf.app.flags.DEFINE_string('model_dir', './age',\n",
    "                           'Model directory (where training data lives)')\n",
    "\n",
    "tf.app.flags.DEFINE_string('class_type', 'age',\n",
    "                           'Classification type (age|gender)')\n",
    "\n",
    "\n",
    "tf.app.flags.DEFINE_string('device_id', '/cpu:0',\n",
    "                           'What processing unit to execute inference on')\n",
    "\n",
    "tf.app.flags.DEFINE_string('filename', '../recommendation/images/lahiru_23_malexxx_1.png',\n",
    "                           'File (Image) or File list (Text/No header TSV) to process')\n",
    "\n",
    "tf.app.flags.DEFINE_string('target', '',\n",
    "                           'CSV file containing the filename processed along with best guess and score')\n",
    "\n",
    "tf.app.flags.DEFINE_string('checkpoint', 'checkpoint',\n",
    "                          'Checkpoint basename')\n",
    "\n",
    "tf.app.flags.DEFINE_string('model_type', 'inception',\n",
    "                           'Type of convnet')\n",
    "\n",
    "tf.app.flags.DEFINE_string('requested_step', '', 'Within the model directory, a requested step to restore e.g., 9000')\n",
    "\n",
    "tf.app.flags.DEFINE_boolean('single_look', False, 'single look at the image or multiple crops')\n",
    "\n",
    "tf.app.flags.DEFINE_string('face_detection_model', '', 'Do frontal face detection with model specified')\n",
    "\n",
    "tf.app.flags.DEFINE_string('face_detection_type', 'cascade', 'Face detection model type (yolo_tiny|cascade)')\n",
    "\n",
    "FLAGS = tf.app.flags.FLAGS"
   ]
  },
  {
   "cell_type": "code",
   "execution_count": 4,
   "metadata": {},
   "outputs": [],
   "source": [
    "\n",
    "def one_of(fname, types):\n",
    "    return any([fname.endswith('.' + ty) for ty in types])\n",
    "\n",
    "def resolve_file(fname):\n",
    "    if os.path.exists(fname): return fname\n",
    "    for suffix in ('.jpg', '.png', '.JPG', '.PNG', '.jpeg'):\n",
    "        cand = fname + suffix\n",
    "        if os.path.exists(cand):\n",
    "            return cand\n",
    "    return None\n",
    "\n",
    "\n",
    "def classify_many_single_crop(sess, label_list, softmax_output, coder, images, image_files, writer):\n",
    "    try:\n",
    "        num_batches = math.ceil(len(image_files) / MAX_BATCH_SZ)\n",
    "        pg = ProgressBar(num_batches)\n",
    "        for j in range(num_batches):\n",
    "            start_offset = j * MAX_BATCH_SZ\n",
    "            end_offset = min((j + 1) * MAX_BATCH_SZ, len(image_files))\n",
    "            \n",
    "            batch_image_files = image_files[start_offset:end_offset]\n",
    "            print(start_offset, end_offset, len(batch_image_files))\n",
    "            image_batch = make_multi_image_batch(batch_image_files, coder)\n",
    "            batch_results = sess.run(softmax_output, feed_dict={images:image_batch.eval()})\n",
    "            batch_sz = batch_results.shape[0]\n",
    "            for i in range(batch_sz):\n",
    "                output_i = batch_results[i]\n",
    "                best_i = np.argmax(output_i)\n",
    "                best_choice = (label_list[best_i], output_i[best_i])\n",
    "                print('Guess @ 1 %s, prob = %.2f' % best_choice)\n",
    "                if writer is not None:\n",
    "                    f = batch_image_files[i]\n",
    "                    writer.writerow((f, best_choice[0], '%.2f' % best_choice[1]))\n",
    "            pg.update()\n",
    "        pg.done()\n",
    "    except Exception as e:\n",
    "        print(e)\n",
    "        print('Failed to run all images')\n",
    "\n",
    "def classify_one_multi_crop(sess, label_list, softmax_output, coder, images, image_file, writer):\n",
    "    try:\n",
    "\n",
    "        print('Running file %s' % image_file)\n",
    "        image_batch = make_multi_crop_batch(image_file, coder)\n",
    "\n",
    "        batch_results = sess.run(softmax_output, feed_dict={images:image_batch.eval()})\n",
    "        output = batch_results[0]\n",
    "        batch_sz = batch_results.shape[0]\n",
    "    \n",
    "        for i in range(1, batch_sz):\n",
    "            output = output + batch_results[i]\n",
    "        \n",
    "        output /= batch_sz\n",
    "        best = np.argmax(output)\n",
    "        best_choice = (label_list[best], output[best])\n",
    "        print('Guess @ 1 %s, prob = %.2f' % best_choice)\n",
    "    \n",
    "        nlabels = len(label_list)\n",
    "        if nlabels > 2:\n",
    "            output[best] = 0\n",
    "            second_best = np.argmax(output)\n",
    "            print('Guess @ 2 %s, prob = %.2f' % (label_list[second_best], output[second_best]))\n",
    "\n",
    "        if writer is not None:\n",
    "            writer.writerow((image_file, best_choice[0], '%.2f' % best_choice[1]))\n",
    "    except Exception as e:\n",
    "        print(e)\n",
    "        print('Failed to run image %s ' % image_file)\n",
    "\n",
    "def list_images(srcfile):\n",
    "    with open(srcfile, 'r') as csvfile:\n",
    "        delim = ',' if srcfile.endswith('.csv') else '\\t'\n",
    "        reader = csv.reader(csvfile, delimiter=delim)\n",
    "        if srcfile.endswith('.csv') or srcfile.endswith('.tsv'):\n",
    "            print('skipping header')\n",
    "            _ = next(reader)\n",
    "        \n",
    "        return [row[0] for row in reader]\n"
   ]
  },
  {
   "cell_type": "code",
   "execution_count": 5,
   "metadata": {},
   "outputs": [],
   "source": [
    "def main(argv=None):  # pylint: disable=unused-argument\n",
    "\n",
    "#     files = []\n",
    "    files = glob('../recommendation/images/*')\n",
    "    \n",
    "    if FLAGS.face_detection_model:\n",
    "        print('Using face detector (%s) %s' % (FLAGS.face_detection_type, FLAGS.face_detection_model))\n",
    "        face_detect = face_detection_model(FLAGS.face_detection_type, FLAGS.face_detection_model)\n",
    "        face_files, rectangles = face_detect.run(FLAGS.filename)\n",
    "        print(face_files)\n",
    "        files += face_files\n",
    "\n",
    "    config = tf.ConfigProto(allow_soft_placement=True)\n",
    "    with tf.Session(config=config) as sess:\n",
    "\n",
    "        label_list = AGE_LIST if FLAGS.class_type == 'age' else GENDER_LIST\n",
    "        nlabels = len(label_list)\n",
    "\n",
    "        print('Executing on %s' % FLAGS.device_id)\n",
    "        model_fn = select_model(FLAGS.model_type)\n",
    "\n",
    "        with tf.device(FLAGS.device_id):\n",
    "            \n",
    "            images = tf.placeholder(tf.float32, [None, RESIZE_FINAL, RESIZE_FINAL, 3])\n",
    "            logits = model_fn(nlabels, images, 1, False)\n",
    "            init = tf.global_variables_initializer()\n",
    "            \n",
    "            requested_step = FLAGS.requested_step if FLAGS.requested_step else None\n",
    "        \n",
    "            checkpoint_path = '%s' % (FLAGS.model_dir)\n",
    "\n",
    "            model_checkpoint_path, global_step = get_checkpoint(checkpoint_path, requested_step, FLAGS.checkpoint)\n",
    "            \n",
    "            saver = tf.train.Saver()\n",
    "            saver.restore(sess, model_checkpoint_path)\n",
    "                        \n",
    "            softmax_output = tf.nn.softmax(logits)\n",
    "\n",
    "            coder = ImageCoder()\n",
    "\n",
    "            # Support a batch mode if no face detection model\n",
    "            if len(files) == 0:\n",
    "                if (os.path.isdir(FLAGS.filename)):\n",
    "                    for relpath in os.listdir(FLAGS.filename):\n",
    "                        abspath = os.path.join(FLAGS.filename, relpath)\n",
    "                        \n",
    "                        if os.path.isfile(abspath) and any([abspath.endswith('.' + ty) for ty in ('jpg', 'png', 'JPG', 'PNG', 'jpeg')]):\n",
    "                            print(abspath)\n",
    "                            files.append(abspath)\n",
    "                else:\n",
    "                    files.append(FLAGS.filename)\n",
    "                    # If it happens to be a list file, read the list and clobber the files\n",
    "                    if any([FLAGS.filename.endswith('.' + ty) for ty in ('csv', 'tsv', 'txt')]):\n",
    "                        files = list_images(FLAGS.filename)\n",
    "                \n",
    "            writer = None\n",
    "            output = None\n",
    "            if FLAGS.target:\n",
    "                print('Creating output file %s' % FLAGS.target)\n",
    "                output = open(FLAGS.target, 'w')\n",
    "                writer = csv.writer(output)\n",
    "                writer.writerow(('file', 'label', 'score'))\n",
    "            image_files = list(filter(lambda x: x is not None, [resolve_file(f) for f in files]))\n",
    "            print(image_files)\n",
    "            if FLAGS.single_look:\n",
    "                classify_many_single_crop(sess, label_list, softmax_output, coder, images, image_files, writer)\n",
    "\n",
    "            else:\n",
    "                for image_file in image_files:\n",
    "                    classify_one_multi_crop(sess, label_list, softmax_output, coder, images, image_file, writer)\n",
    "\n",
    "            if output is not None:\n",
    "                output.close()\n",
    "        "
   ]
  },
  {
   "cell_type": "code",
   "execution_count": 6,
   "metadata": {},
   "outputs": [
    {
     "name": "stdout",
     "output_type": "stream",
     "text": [
      "Executing on /cpu:0\n",
      "selected (fine-tuning) inception model\n",
      "WARNING:tensorflow:From /home/hicup/Documents/ad-recommendation/demography/model.py:77: The name tf.variable_scope is deprecated. Please use tf.compat.v1.variable_scope instead.\n",
      "\n"
     ]
    },
    {
     "name": "stderr",
     "output_type": "stream",
     "text": [
      "W0703 16:37:41.660514 140698822833920 deprecation_wrapper.py:119] From /home/hicup/Documents/ad-recommendation/demography/model.py:77: The name tf.variable_scope is deprecated. Please use tf.compat.v1.variable_scope instead.\n",
      "\n"
     ]
    },
    {
     "name": "stdout",
     "output_type": "stream",
     "text": [
      "WARNING:tensorflow:Entity <bound method Conv.call of <tensorflow.python.layers.convolutional.Conv2D object at 0x7ff62f6f15d0>> could not be transformed and will be executed as-is. Please report this to the AutgoGraph team. When filing the bug, set the verbosity to 10 (on Linux, `export AUTOGRAPH_VERBOSITY=10`) and attach the full output. Cause: converting <bound method Conv.call of <tensorflow.python.layers.convolutional.Conv2D object at 0x7ff62f6f15d0>>: AssertionError: Bad argument number for Name: 3, expecting 4\n"
     ]
    },
    {
     "name": "stderr",
     "output_type": "stream",
     "text": [
      "W0703 16:37:41.723783 140698822833920 ag_logging.py:145] Entity <bound method Conv.call of <tensorflow.python.layers.convolutional.Conv2D object at 0x7ff62f6f15d0>> could not be transformed and will be executed as-is. Please report this to the AutgoGraph team. When filing the bug, set the verbosity to 10 (on Linux, `export AUTOGRAPH_VERBOSITY=10`) and attach the full output. Cause: converting <bound method Conv.call of <tensorflow.python.layers.convolutional.Conv2D object at 0x7ff62f6f15d0>>: AssertionError: Bad argument number for Name: 3, expecting 4\n"
     ]
    },
    {
     "name": "stdout",
     "output_type": "stream",
     "text": [
      "WARNING: Entity <bound method Conv.call of <tensorflow.python.layers.convolutional.Conv2D object at 0x7ff62f6f15d0>> could not be transformed and will be executed as-is. Please report this to the AutgoGraph team. When filing the bug, set the verbosity to 10 (on Linux, `export AUTOGRAPH_VERBOSITY=10`) and attach the full output. Cause: converting <bound method Conv.call of <tensorflow.python.layers.convolutional.Conv2D object at 0x7ff62f6f15d0>>: AssertionError: Bad argument number for Name: 3, expecting 4\n",
      "WARNING:tensorflow:Entity <bound method BatchNormalization.call of <tensorflow.python.layers.normalization.BatchNormalization object at 0x7ff62c1e8c10>> could not be transformed and will be executed as-is. Please report this to the AutgoGraph team. When filing the bug, set the verbosity to 10 (on Linux, `export AUTOGRAPH_VERBOSITY=10`) and attach the full output. Cause: converting <bound method BatchNormalization.call of <tensorflow.python.layers.normalization.BatchNormalization object at 0x7ff62c1e8c10>>: AssertionError: Bad argument number for Name: 3, expecting 4\n"
     ]
    },
    {
     "name": "stderr",
     "output_type": "stream",
     "text": [
      "W0703 16:37:41.745929 140698822833920 ag_logging.py:145] Entity <bound method BatchNormalization.call of <tensorflow.python.layers.normalization.BatchNormalization object at 0x7ff62c1e8c10>> could not be transformed and will be executed as-is. Please report this to the AutgoGraph team. When filing the bug, set the verbosity to 10 (on Linux, `export AUTOGRAPH_VERBOSITY=10`) and attach the full output. Cause: converting <bound method BatchNormalization.call of <tensorflow.python.layers.normalization.BatchNormalization object at 0x7ff62c1e8c10>>: AssertionError: Bad argument number for Name: 3, expecting 4\n"
     ]
    },
    {
     "name": "stdout",
     "output_type": "stream",
     "text": [
      "WARNING: Entity <bound method BatchNormalization.call of <tensorflow.python.layers.normalization.BatchNormalization object at 0x7ff62c1e8c10>> could not be transformed and will be executed as-is. Please report this to the AutgoGraph team. When filing the bug, set the verbosity to 10 (on Linux, `export AUTOGRAPH_VERBOSITY=10`) and attach the full output. Cause: converting <bound method BatchNormalization.call of <tensorflow.python.layers.normalization.BatchNormalization object at 0x7ff62c1e8c10>>: AssertionError: Bad argument number for Name: 3, expecting 4\n",
      "WARNING:tensorflow:Entity <bound method Conv.call of <tensorflow.python.layers.convolutional.Conv2D object at 0x7ff62f6f1310>> could not be transformed and will be executed as-is. Please report this to the AutgoGraph team. When filing the bug, set the verbosity to 10 (on Linux, `export AUTOGRAPH_VERBOSITY=10`) and attach the full output. Cause: converting <bound method Conv.call of <tensorflow.python.layers.convolutional.Conv2D object at 0x7ff62f6f1310>>: AssertionError: Bad argument number for Name: 3, expecting 4\n"
     ]
    },
    {
     "name": "stderr",
     "output_type": "stream",
     "text": [
      "W0703 16:37:41.802588 140698822833920 ag_logging.py:145] Entity <bound method Conv.call of <tensorflow.python.layers.convolutional.Conv2D object at 0x7ff62f6f1310>> could not be transformed and will be executed as-is. Please report this to the AutgoGraph team. When filing the bug, set the verbosity to 10 (on Linux, `export AUTOGRAPH_VERBOSITY=10`) and attach the full output. Cause: converting <bound method Conv.call of <tensorflow.python.layers.convolutional.Conv2D object at 0x7ff62f6f1310>>: AssertionError: Bad argument number for Name: 3, expecting 4\n"
     ]
    },
    {
     "name": "stdout",
     "output_type": "stream",
     "text": [
      "WARNING: Entity <bound method Conv.call of <tensorflow.python.layers.convolutional.Conv2D object at 0x7ff62f6f1310>> could not be transformed and will be executed as-is. Please report this to the AutgoGraph team. When filing the bug, set the verbosity to 10 (on Linux, `export AUTOGRAPH_VERBOSITY=10`) and attach the full output. Cause: converting <bound method Conv.call of <tensorflow.python.layers.convolutional.Conv2D object at 0x7ff62f6f1310>>: AssertionError: Bad argument number for Name: 3, expecting 4\n",
      "WARNING:tensorflow:Entity <bound method BatchNormalization.call of <tensorflow.python.layers.normalization.BatchNormalization object at 0x7ff62c1b3e50>> could not be transformed and will be executed as-is. Please report this to the AutgoGraph team. When filing the bug, set the verbosity to 10 (on Linux, `export AUTOGRAPH_VERBOSITY=10`) and attach the full output. Cause: converting <bound method BatchNormalization.call of <tensorflow.python.layers.normalization.BatchNormalization object at 0x7ff62c1b3e50>>: AssertionError: Bad argument number for Name: 3, expecting 4\n"
     ]
    },
    {
     "name": "stderr",
     "output_type": "stream",
     "text": [
      "W0703 16:37:41.824610 140698822833920 ag_logging.py:145] Entity <bound method BatchNormalization.call of <tensorflow.python.layers.normalization.BatchNormalization object at 0x7ff62c1b3e50>> could not be transformed and will be executed as-is. Please report this to the AutgoGraph team. When filing the bug, set the verbosity to 10 (on Linux, `export AUTOGRAPH_VERBOSITY=10`) and attach the full output. Cause: converting <bound method BatchNormalization.call of <tensorflow.python.layers.normalization.BatchNormalization object at 0x7ff62c1b3e50>>: AssertionError: Bad argument number for Name: 3, expecting 4\n"
     ]
    },
    {
     "name": "stdout",
     "output_type": "stream",
     "text": [
      "WARNING: Entity <bound method BatchNormalization.call of <tensorflow.python.layers.normalization.BatchNormalization object at 0x7ff62c1b3e50>> could not be transformed and will be executed as-is. Please report this to the AutgoGraph team. When filing the bug, set the verbosity to 10 (on Linux, `export AUTOGRAPH_VERBOSITY=10`) and attach the full output. Cause: converting <bound method BatchNormalization.call of <tensorflow.python.layers.normalization.BatchNormalization object at 0x7ff62c1b3e50>>: AssertionError: Bad argument number for Name: 3, expecting 4\n",
      "WARNING:tensorflow:Entity <bound method Conv.call of <tensorflow.python.layers.convolutional.Conv2D object at 0x7ff62c1eaa90>> could not be transformed and will be executed as-is. Please report this to the AutgoGraph team. When filing the bug, set the verbosity to 10 (on Linux, `export AUTOGRAPH_VERBOSITY=10`) and attach the full output. Cause: converting <bound method Conv.call of <tensorflow.python.layers.convolutional.Conv2D object at 0x7ff62c1eaa90>>: AssertionError: Bad argument number for Name: 3, expecting 4\n"
     ]
    },
    {
     "name": "stderr",
     "output_type": "stream",
     "text": [
      "W0703 16:37:41.883136 140698822833920 ag_logging.py:145] Entity <bound method Conv.call of <tensorflow.python.layers.convolutional.Conv2D object at 0x7ff62c1eaa90>> could not be transformed and will be executed as-is. Please report this to the AutgoGraph team. When filing the bug, set the verbosity to 10 (on Linux, `export AUTOGRAPH_VERBOSITY=10`) and attach the full output. Cause: converting <bound method Conv.call of <tensorflow.python.layers.convolutional.Conv2D object at 0x7ff62c1eaa90>>: AssertionError: Bad argument number for Name: 3, expecting 4\n"
     ]
    },
    {
     "name": "stdout",
     "output_type": "stream",
     "text": [
      "WARNING: Entity <bound method Conv.call of <tensorflow.python.layers.convolutional.Conv2D object at 0x7ff62c1eaa90>> could not be transformed and will be executed as-is. Please report this to the AutgoGraph team. When filing the bug, set the verbosity to 10 (on Linux, `export AUTOGRAPH_VERBOSITY=10`) and attach the full output. Cause: converting <bound method Conv.call of <tensorflow.python.layers.convolutional.Conv2D object at 0x7ff62c1eaa90>>: AssertionError: Bad argument number for Name: 3, expecting 4\n",
      "WARNING:tensorflow:Entity <bound method BatchNormalization.call of <tensorflow.python.layers.normalization.BatchNormalization object at 0x7ff62c1120d0>> could not be transformed and will be executed as-is. Please report this to the AutgoGraph team. When filing the bug, set the verbosity to 10 (on Linux, `export AUTOGRAPH_VERBOSITY=10`) and attach the full output. Cause: converting <bound method BatchNormalization.call of <tensorflow.python.layers.normalization.BatchNormalization object at 0x7ff62c1120d0>>: AssertionError: Bad argument number for Name: 3, expecting 4\n"
     ]
    },
    {
     "name": "stderr",
     "output_type": "stream",
     "text": [
      "W0703 16:37:41.905247 140698822833920 ag_logging.py:145] Entity <bound method BatchNormalization.call of <tensorflow.python.layers.normalization.BatchNormalization object at 0x7ff62c1120d0>> could not be transformed and will be executed as-is. Please report this to the AutgoGraph team. When filing the bug, set the verbosity to 10 (on Linux, `export AUTOGRAPH_VERBOSITY=10`) and attach the full output. Cause: converting <bound method BatchNormalization.call of <tensorflow.python.layers.normalization.BatchNormalization object at 0x7ff62c1120d0>>: AssertionError: Bad argument number for Name: 3, expecting 4\n"
     ]
    },
    {
     "name": "stdout",
     "output_type": "stream",
     "text": [
      "WARNING: Entity <bound method BatchNormalization.call of <tensorflow.python.layers.normalization.BatchNormalization object at 0x7ff62c1120d0>> could not be transformed and will be executed as-is. Please report this to the AutgoGraph team. When filing the bug, set the verbosity to 10 (on Linux, `export AUTOGRAPH_VERBOSITY=10`) and attach the full output. Cause: converting <bound method BatchNormalization.call of <tensorflow.python.layers.normalization.BatchNormalization object at 0x7ff62c1120d0>>: AssertionError: Bad argument number for Name: 3, expecting 4\n",
      "WARNING:tensorflow:Entity <bound method Pooling2D.call of <tensorflow.python.layers.pooling.MaxPooling2D object at 0x7ff62f69c210>> could not be transformed and will be executed as-is. Please report this to the AutgoGraph team. When filing the bug, set the verbosity to 10 (on Linux, `export AUTOGRAPH_VERBOSITY=10`) and attach the full output. Cause: converting <bound method Pooling2D.call of <tensorflow.python.layers.pooling.MaxPooling2D object at 0x7ff62f69c210>>: AssertionError: Bad argument number for Name: 3, expecting 4\n"
     ]
    },
    {
     "name": "stderr",
     "output_type": "stream",
     "text": [
      "W0703 16:37:41.944004 140698822833920 ag_logging.py:145] Entity <bound method Pooling2D.call of <tensorflow.python.layers.pooling.MaxPooling2D object at 0x7ff62f69c210>> could not be transformed and will be executed as-is. Please report this to the AutgoGraph team. When filing the bug, set the verbosity to 10 (on Linux, `export AUTOGRAPH_VERBOSITY=10`) and attach the full output. Cause: converting <bound method Pooling2D.call of <tensorflow.python.layers.pooling.MaxPooling2D object at 0x7ff62f69c210>>: AssertionError: Bad argument number for Name: 3, expecting 4\n"
     ]
    },
    {
     "name": "stdout",
     "output_type": "stream",
     "text": [
      "WARNING: Entity <bound method Pooling2D.call of <tensorflow.python.layers.pooling.MaxPooling2D object at 0x7ff62f69c210>> could not be transformed and will be executed as-is. Please report this to the AutgoGraph team. When filing the bug, set the verbosity to 10 (on Linux, `export AUTOGRAPH_VERBOSITY=10`) and attach the full output. Cause: converting <bound method Pooling2D.call of <tensorflow.python.layers.pooling.MaxPooling2D object at 0x7ff62f69c210>>: AssertionError: Bad argument number for Name: 3, expecting 4\n",
      "WARNING:tensorflow:Entity <bound method Conv.call of <tensorflow.python.layers.convolutional.Conv2D object at 0x7ff62c1ea890>> could not be transformed and will be executed as-is. Please report this to the AutgoGraph team. When filing the bug, set the verbosity to 10 (on Linux, `export AUTOGRAPH_VERBOSITY=10`) and attach the full output. Cause: converting <bound method Conv.call of <tensorflow.python.layers.convolutional.Conv2D object at 0x7ff62c1ea890>>: AssertionError: Bad argument number for Name: 3, expecting 4\n"
     ]
    },
    {
     "name": "stderr",
     "output_type": "stream",
     "text": [
      "W0703 16:37:42.001230 140698822833920 ag_logging.py:145] Entity <bound method Conv.call of <tensorflow.python.layers.convolutional.Conv2D object at 0x7ff62c1ea890>> could not be transformed and will be executed as-is. Please report this to the AutgoGraph team. When filing the bug, set the verbosity to 10 (on Linux, `export AUTOGRAPH_VERBOSITY=10`) and attach the full output. Cause: converting <bound method Conv.call of <tensorflow.python.layers.convolutional.Conv2D object at 0x7ff62c1ea890>>: AssertionError: Bad argument number for Name: 3, expecting 4\n"
     ]
    },
    {
     "name": "stdout",
     "output_type": "stream",
     "text": [
      "WARNING: Entity <bound method Conv.call of <tensorflow.python.layers.convolutional.Conv2D object at 0x7ff62c1ea890>> could not be transformed and will be executed as-is. Please report this to the AutgoGraph team. When filing the bug, set the verbosity to 10 (on Linux, `export AUTOGRAPH_VERBOSITY=10`) and attach the full output. Cause: converting <bound method Conv.call of <tensorflow.python.layers.convolutional.Conv2D object at 0x7ff62c1ea890>>: AssertionError: Bad argument number for Name: 3, expecting 4\n",
      "WARNING:tensorflow:Entity <bound method BatchNormalization.call of <tensorflow.python.layers.normalization.BatchNormalization object at 0x7ff62c266790>> could not be transformed and will be executed as-is. Please report this to the AutgoGraph team. When filing the bug, set the verbosity to 10 (on Linux, `export AUTOGRAPH_VERBOSITY=10`) and attach the full output. Cause: converting <bound method BatchNormalization.call of <tensorflow.python.layers.normalization.BatchNormalization object at 0x7ff62c266790>>: AssertionError: Bad argument number for Name: 3, expecting 4\n"
     ]
    },
    {
     "name": "stderr",
     "output_type": "stream",
     "text": [
      "W0703 16:37:42.024873 140698822833920 ag_logging.py:145] Entity <bound method BatchNormalization.call of <tensorflow.python.layers.normalization.BatchNormalization object at 0x7ff62c266790>> could not be transformed and will be executed as-is. Please report this to the AutgoGraph team. When filing the bug, set the verbosity to 10 (on Linux, `export AUTOGRAPH_VERBOSITY=10`) and attach the full output. Cause: converting <bound method BatchNormalization.call of <tensorflow.python.layers.normalization.BatchNormalization object at 0x7ff62c266790>>: AssertionError: Bad argument number for Name: 3, expecting 4\n"
     ]
    },
    {
     "name": "stdout",
     "output_type": "stream",
     "text": [
      "WARNING: Entity <bound method BatchNormalization.call of <tensorflow.python.layers.normalization.BatchNormalization object at 0x7ff62c266790>> could not be transformed and will be executed as-is. Please report this to the AutgoGraph team. When filing the bug, set the verbosity to 10 (on Linux, `export AUTOGRAPH_VERBOSITY=10`) and attach the full output. Cause: converting <bound method BatchNormalization.call of <tensorflow.python.layers.normalization.BatchNormalization object at 0x7ff62c266790>>: AssertionError: Bad argument number for Name: 3, expecting 4\n",
      "WARNING:tensorflow:Entity <bound method Conv.call of <tensorflow.python.layers.convolutional.Conv2D object at 0x7ff62c1a59d0>> could not be transformed and will be executed as-is. Please report this to the AutgoGraph team. When filing the bug, set the verbosity to 10 (on Linux, `export AUTOGRAPH_VERBOSITY=10`) and attach the full output. Cause: converting <bound method Conv.call of <tensorflow.python.layers.convolutional.Conv2D object at 0x7ff62c1a59d0>>: AssertionError: Bad argument number for Name: 3, expecting 4\n"
     ]
    },
    {
     "name": "stderr",
     "output_type": "stream",
     "text": [
      "W0703 16:37:42.083652 140698822833920 ag_logging.py:145] Entity <bound method Conv.call of <tensorflow.python.layers.convolutional.Conv2D object at 0x7ff62c1a59d0>> could not be transformed and will be executed as-is. Please report this to the AutgoGraph team. When filing the bug, set the verbosity to 10 (on Linux, `export AUTOGRAPH_VERBOSITY=10`) and attach the full output. Cause: converting <bound method Conv.call of <tensorflow.python.layers.convolutional.Conv2D object at 0x7ff62c1a59d0>>: AssertionError: Bad argument number for Name: 3, expecting 4\n"
     ]
    },
    {
     "name": "stdout",
     "output_type": "stream",
     "text": [
      "WARNING: Entity <bound method Conv.call of <tensorflow.python.layers.convolutional.Conv2D object at 0x7ff62c1a59d0>> could not be transformed and will be executed as-is. Please report this to the AutgoGraph team. When filing the bug, set the verbosity to 10 (on Linux, `export AUTOGRAPH_VERBOSITY=10`) and attach the full output. Cause: converting <bound method Conv.call of <tensorflow.python.layers.convolutional.Conv2D object at 0x7ff62c1a59d0>>: AssertionError: Bad argument number for Name: 3, expecting 4\n",
      "WARNING:tensorflow:Entity <bound method BatchNormalization.call of <tensorflow.python.layers.normalization.BatchNormalization object at 0x7ff62c0d3a10>> could not be transformed and will be executed as-is. Please report this to the AutgoGraph team. When filing the bug, set the verbosity to 10 (on Linux, `export AUTOGRAPH_VERBOSITY=10`) and attach the full output. Cause: converting <bound method BatchNormalization.call of <tensorflow.python.layers.normalization.BatchNormalization object at 0x7ff62c0d3a10>>: AssertionError: Bad argument number for Name: 3, expecting 4\n"
     ]
    },
    {
     "name": "stderr",
     "output_type": "stream",
     "text": [
      "W0703 16:37:42.106125 140698822833920 ag_logging.py:145] Entity <bound method BatchNormalization.call of <tensorflow.python.layers.normalization.BatchNormalization object at 0x7ff62c0d3a10>> could not be transformed and will be executed as-is. Please report this to the AutgoGraph team. When filing the bug, set the verbosity to 10 (on Linux, `export AUTOGRAPH_VERBOSITY=10`) and attach the full output. Cause: converting <bound method BatchNormalization.call of <tensorflow.python.layers.normalization.BatchNormalization object at 0x7ff62c0d3a10>>: AssertionError: Bad argument number for Name: 3, expecting 4\n"
     ]
    },
    {
     "name": "stdout",
     "output_type": "stream",
     "text": [
      "WARNING: Entity <bound method BatchNormalization.call of <tensorflow.python.layers.normalization.BatchNormalization object at 0x7ff62c0d3a10>> could not be transformed and will be executed as-is. Please report this to the AutgoGraph team. When filing the bug, set the verbosity to 10 (on Linux, `export AUTOGRAPH_VERBOSITY=10`) and attach the full output. Cause: converting <bound method BatchNormalization.call of <tensorflow.python.layers.normalization.BatchNormalization object at 0x7ff62c0d3a10>>: AssertionError: Bad argument number for Name: 3, expecting 4\n",
      "WARNING:tensorflow:Entity <bound method Pooling2D.call of <tensorflow.python.layers.pooling.MaxPooling2D object at 0x7ff62c1a6a10>> could not be transformed and will be executed as-is. Please report this to the AutgoGraph team. When filing the bug, set the verbosity to 10 (on Linux, `export AUTOGRAPH_VERBOSITY=10`) and attach the full output. Cause: converting <bound method Pooling2D.call of <tensorflow.python.layers.pooling.MaxPooling2D object at 0x7ff62c1a6a10>>: AssertionError: Bad argument number for Name: 3, expecting 4\n"
     ]
    },
    {
     "name": "stderr",
     "output_type": "stream",
     "text": [
      "W0703 16:37:42.145008 140698822833920 ag_logging.py:145] Entity <bound method Pooling2D.call of <tensorflow.python.layers.pooling.MaxPooling2D object at 0x7ff62c1a6a10>> could not be transformed and will be executed as-is. Please report this to the AutgoGraph team. When filing the bug, set the verbosity to 10 (on Linux, `export AUTOGRAPH_VERBOSITY=10`) and attach the full output. Cause: converting <bound method Pooling2D.call of <tensorflow.python.layers.pooling.MaxPooling2D object at 0x7ff62c1a6a10>>: AssertionError: Bad argument number for Name: 3, expecting 4\n"
     ]
    },
    {
     "name": "stdout",
     "output_type": "stream",
     "text": [
      "WARNING: Entity <bound method Pooling2D.call of <tensorflow.python.layers.pooling.MaxPooling2D object at 0x7ff62c1a6a10>> could not be transformed and will be executed as-is. Please report this to the AutgoGraph team. When filing the bug, set the verbosity to 10 (on Linux, `export AUTOGRAPH_VERBOSITY=10`) and attach the full output. Cause: converting <bound method Pooling2D.call of <tensorflow.python.layers.pooling.MaxPooling2D object at 0x7ff62c1a6a10>>: AssertionError: Bad argument number for Name: 3, expecting 4\n",
      "WARNING:tensorflow:Entity <bound method Conv.call of <tensorflow.python.layers.convolutional.Conv2D object at 0x7ff62c0d3ad0>> could not be transformed and will be executed as-is. Please report this to the AutgoGraph team. When filing the bug, set the verbosity to 10 (on Linux, `export AUTOGRAPH_VERBOSITY=10`) and attach the full output. Cause: converting <bound method Conv.call of <tensorflow.python.layers.convolutional.Conv2D object at 0x7ff62c0d3ad0>>: AssertionError: Bad argument number for Name: 3, expecting 4\n"
     ]
    },
    {
     "name": "stderr",
     "output_type": "stream",
     "text": [
      "W0703 16:37:42.201849 140698822833920 ag_logging.py:145] Entity <bound method Conv.call of <tensorflow.python.layers.convolutional.Conv2D object at 0x7ff62c0d3ad0>> could not be transformed and will be executed as-is. Please report this to the AutgoGraph team. When filing the bug, set the verbosity to 10 (on Linux, `export AUTOGRAPH_VERBOSITY=10`) and attach the full output. Cause: converting <bound method Conv.call of <tensorflow.python.layers.convolutional.Conv2D object at 0x7ff62c0d3ad0>>: AssertionError: Bad argument number for Name: 3, expecting 4\n"
     ]
    },
    {
     "name": "stdout",
     "output_type": "stream",
     "text": [
      "WARNING: Entity <bound method Conv.call of <tensorflow.python.layers.convolutional.Conv2D object at 0x7ff62c0d3ad0>> could not be transformed and will be executed as-is. Please report this to the AutgoGraph team. When filing the bug, set the verbosity to 10 (on Linux, `export AUTOGRAPH_VERBOSITY=10`) and attach the full output. Cause: converting <bound method Conv.call of <tensorflow.python.layers.convolutional.Conv2D object at 0x7ff62c0d3ad0>>: AssertionError: Bad argument number for Name: 3, expecting 4\n",
      "WARNING:tensorflow:Entity <bound method BatchNormalization.call of <tensorflow.python.layers.normalization.BatchNormalization object at 0x7ff62c112350>> could not be transformed and will be executed as-is. Please report this to the AutgoGraph team. When filing the bug, set the verbosity to 10 (on Linux, `export AUTOGRAPH_VERBOSITY=10`) and attach the full output. Cause: converting <bound method BatchNormalization.call of <tensorflow.python.layers.normalization.BatchNormalization object at 0x7ff62c112350>>: AssertionError: Bad argument number for Name: 3, expecting 4\n"
     ]
    },
    {
     "name": "stderr",
     "output_type": "stream",
     "text": [
      "W0703 16:37:42.224206 140698822833920 ag_logging.py:145] Entity <bound method BatchNormalization.call of <tensorflow.python.layers.normalization.BatchNormalization object at 0x7ff62c112350>> could not be transformed and will be executed as-is. Please report this to the AutgoGraph team. When filing the bug, set the verbosity to 10 (on Linux, `export AUTOGRAPH_VERBOSITY=10`) and attach the full output. Cause: converting <bound method BatchNormalization.call of <tensorflow.python.layers.normalization.BatchNormalization object at 0x7ff62c112350>>: AssertionError: Bad argument number for Name: 3, expecting 4\n"
     ]
    },
    {
     "name": "stdout",
     "output_type": "stream",
     "text": [
      "WARNING: Entity <bound method BatchNormalization.call of <tensorflow.python.layers.normalization.BatchNormalization object at 0x7ff62c112350>> could not be transformed and will be executed as-is. Please report this to the AutgoGraph team. When filing the bug, set the verbosity to 10 (on Linux, `export AUTOGRAPH_VERBOSITY=10`) and attach the full output. Cause: converting <bound method BatchNormalization.call of <tensorflow.python.layers.normalization.BatchNormalization object at 0x7ff62c112350>>: AssertionError: Bad argument number for Name: 3, expecting 4\n",
      "WARNING:tensorflow:Entity <bound method Conv.call of <tensorflow.python.layers.convolutional.Conv2D object at 0x7ff62c1a5810>> could not be transformed and will be executed as-is. Please report this to the AutgoGraph team. When filing the bug, set the verbosity to 10 (on Linux, `export AUTOGRAPH_VERBOSITY=10`) and attach the full output. Cause: converting <bound method Conv.call of <tensorflow.python.layers.convolutional.Conv2D object at 0x7ff62c1a5810>>: AssertionError: Bad argument number for Name: 3, expecting 4\n"
     ]
    },
    {
     "name": "stderr",
     "output_type": "stream",
     "text": [
      "W0703 16:37:42.356506 140698822833920 ag_logging.py:145] Entity <bound method Conv.call of <tensorflow.python.layers.convolutional.Conv2D object at 0x7ff62c1a5810>> could not be transformed and will be executed as-is. Please report this to the AutgoGraph team. When filing the bug, set the verbosity to 10 (on Linux, `export AUTOGRAPH_VERBOSITY=10`) and attach the full output. Cause: converting <bound method Conv.call of <tensorflow.python.layers.convolutional.Conv2D object at 0x7ff62c1a5810>>: AssertionError: Bad argument number for Name: 3, expecting 4\n"
     ]
    },
    {
     "name": "stdout",
     "output_type": "stream",
     "text": [
      "WARNING: Entity <bound method Conv.call of <tensorflow.python.layers.convolutional.Conv2D object at 0x7ff62c1a5810>> could not be transformed and will be executed as-is. Please report this to the AutgoGraph team. When filing the bug, set the verbosity to 10 (on Linux, `export AUTOGRAPH_VERBOSITY=10`) and attach the full output. Cause: converting <bound method Conv.call of <tensorflow.python.layers.convolutional.Conv2D object at 0x7ff62c1a5810>>: AssertionError: Bad argument number for Name: 3, expecting 4\n",
      "WARNING:tensorflow:Entity <bound method BatchNormalization.call of <tensorflow.python.layers.normalization.BatchNormalization object at 0x7ff62c1a6b10>> could not be transformed and will be executed as-is. Please report this to the AutgoGraph team. When filing the bug, set the verbosity to 10 (on Linux, `export AUTOGRAPH_VERBOSITY=10`) and attach the full output. Cause: converting <bound method BatchNormalization.call of <tensorflow.python.layers.normalization.BatchNormalization object at 0x7ff62c1a6b10>>: AssertionError: Bad argument number for Name: 3, expecting 4\n"
     ]
    },
    {
     "name": "stderr",
     "output_type": "stream",
     "text": [
      "W0703 16:37:42.378781 140698822833920 ag_logging.py:145] Entity <bound method BatchNormalization.call of <tensorflow.python.layers.normalization.BatchNormalization object at 0x7ff62c1a6b10>> could not be transformed and will be executed as-is. Please report this to the AutgoGraph team. When filing the bug, set the verbosity to 10 (on Linux, `export AUTOGRAPH_VERBOSITY=10`) and attach the full output. Cause: converting <bound method BatchNormalization.call of <tensorflow.python.layers.normalization.BatchNormalization object at 0x7ff62c1a6b10>>: AssertionError: Bad argument number for Name: 3, expecting 4\n"
     ]
    },
    {
     "name": "stdout",
     "output_type": "stream",
     "text": [
      "WARNING: Entity <bound method BatchNormalization.call of <tensorflow.python.layers.normalization.BatchNormalization object at 0x7ff62c1a6b10>> could not be transformed and will be executed as-is. Please report this to the AutgoGraph team. When filing the bug, set the verbosity to 10 (on Linux, `export AUTOGRAPH_VERBOSITY=10`) and attach the full output. Cause: converting <bound method BatchNormalization.call of <tensorflow.python.layers.normalization.BatchNormalization object at 0x7ff62c1a6b10>>: AssertionError: Bad argument number for Name: 3, expecting 4\n",
      "WARNING:tensorflow:Entity <bound method Conv.call of <tensorflow.python.layers.convolutional.Conv2D object at 0x7ff62c1eaa10>> could not be transformed and will be executed as-is. Please report this to the AutgoGraph team. When filing the bug, set the verbosity to 10 (on Linux, `export AUTOGRAPH_VERBOSITY=10`) and attach the full output. Cause: converting <bound method Conv.call of <tensorflow.python.layers.convolutional.Conv2D object at 0x7ff62c1eaa10>>: AssertionError: Bad argument number for Name: 3, expecting 4\n"
     ]
    },
    {
     "name": "stderr",
     "output_type": "stream",
     "text": [
      "W0703 16:37:42.436900 140698822833920 ag_logging.py:145] Entity <bound method Conv.call of <tensorflow.python.layers.convolutional.Conv2D object at 0x7ff62c1eaa10>> could not be transformed and will be executed as-is. Please report this to the AutgoGraph team. When filing the bug, set the verbosity to 10 (on Linux, `export AUTOGRAPH_VERBOSITY=10`) and attach the full output. Cause: converting <bound method Conv.call of <tensorflow.python.layers.convolutional.Conv2D object at 0x7ff62c1eaa10>>: AssertionError: Bad argument number for Name: 3, expecting 4\n"
     ]
    },
    {
     "name": "stdout",
     "output_type": "stream",
     "text": [
      "WARNING: Entity <bound method Conv.call of <tensorflow.python.layers.convolutional.Conv2D object at 0x7ff62c1eaa10>> could not be transformed and will be executed as-is. Please report this to the AutgoGraph team. When filing the bug, set the verbosity to 10 (on Linux, `export AUTOGRAPH_VERBOSITY=10`) and attach the full output. Cause: converting <bound method Conv.call of <tensorflow.python.layers.convolutional.Conv2D object at 0x7ff62c1eaa10>>: AssertionError: Bad argument number for Name: 3, expecting 4\n",
      "WARNING:tensorflow:Entity <bound method BatchNormalization.call of <tensorflow.python.layers.normalization.BatchNormalization object at 0x7ff61450be90>> could not be transformed and will be executed as-is. Please report this to the AutgoGraph team. When filing the bug, set the verbosity to 10 (on Linux, `export AUTOGRAPH_VERBOSITY=10`) and attach the full output. Cause: converting <bound method BatchNormalization.call of <tensorflow.python.layers.normalization.BatchNormalization object at 0x7ff61450be90>>: AssertionError: Bad argument number for Name: 3, expecting 4\n"
     ]
    },
    {
     "name": "stderr",
     "output_type": "stream",
     "text": [
      "W0703 16:37:42.459038 140698822833920 ag_logging.py:145] Entity <bound method BatchNormalization.call of <tensorflow.python.layers.normalization.BatchNormalization object at 0x7ff61450be90>> could not be transformed and will be executed as-is. Please report this to the AutgoGraph team. When filing the bug, set the verbosity to 10 (on Linux, `export AUTOGRAPH_VERBOSITY=10`) and attach the full output. Cause: converting <bound method BatchNormalization.call of <tensorflow.python.layers.normalization.BatchNormalization object at 0x7ff61450be90>>: AssertionError: Bad argument number for Name: 3, expecting 4\n"
     ]
    },
    {
     "name": "stdout",
     "output_type": "stream",
     "text": [
      "WARNING: Entity <bound method BatchNormalization.call of <tensorflow.python.layers.normalization.BatchNormalization object at 0x7ff61450be90>> could not be transformed and will be executed as-is. Please report this to the AutgoGraph team. When filing the bug, set the verbosity to 10 (on Linux, `export AUTOGRAPH_VERBOSITY=10`) and attach the full output. Cause: converting <bound method BatchNormalization.call of <tensorflow.python.layers.normalization.BatchNormalization object at 0x7ff61450be90>>: AssertionError: Bad argument number for Name: 3, expecting 4\n",
      "WARNING:tensorflow:Entity <bound method Conv.call of <tensorflow.python.layers.convolutional.Conv2D object at 0x7ff62c1eaa10>> could not be transformed and will be executed as-is. Please report this to the AutgoGraph team. When filing the bug, set the verbosity to 10 (on Linux, `export AUTOGRAPH_VERBOSITY=10`) and attach the full output. Cause: converting <bound method Conv.call of <tensorflow.python.layers.convolutional.Conv2D object at 0x7ff62c1eaa10>>: AssertionError: Bad argument number for Name: 3, expecting 4\n"
     ]
    },
    {
     "name": "stderr",
     "output_type": "stream",
     "text": [
      "W0703 16:37:42.517576 140698822833920 ag_logging.py:145] Entity <bound method Conv.call of <tensorflow.python.layers.convolutional.Conv2D object at 0x7ff62c1eaa10>> could not be transformed and will be executed as-is. Please report this to the AutgoGraph team. When filing the bug, set the verbosity to 10 (on Linux, `export AUTOGRAPH_VERBOSITY=10`) and attach the full output. Cause: converting <bound method Conv.call of <tensorflow.python.layers.convolutional.Conv2D object at 0x7ff62c1eaa10>>: AssertionError: Bad argument number for Name: 3, expecting 4\n"
     ]
    },
    {
     "name": "stdout",
     "output_type": "stream",
     "text": [
      "WARNING: Entity <bound method Conv.call of <tensorflow.python.layers.convolutional.Conv2D object at 0x7ff62c1eaa10>> could not be transformed and will be executed as-is. Please report this to the AutgoGraph team. When filing the bug, set the verbosity to 10 (on Linux, `export AUTOGRAPH_VERBOSITY=10`) and attach the full output. Cause: converting <bound method Conv.call of <tensorflow.python.layers.convolutional.Conv2D object at 0x7ff62c1eaa10>>: AssertionError: Bad argument number for Name: 3, expecting 4\n",
      "WARNING:tensorflow:Entity <bound method BatchNormalization.call of <tensorflow.python.layers.normalization.BatchNormalization object at 0x7ff61441e7d0>> could not be transformed and will be executed as-is. Please report this to the AutgoGraph team. When filing the bug, set the verbosity to 10 (on Linux, `export AUTOGRAPH_VERBOSITY=10`) and attach the full output. Cause: converting <bound method BatchNormalization.call of <tensorflow.python.layers.normalization.BatchNormalization object at 0x7ff61441e7d0>>: AssertionError: Bad argument number for Name: 3, expecting 4\n"
     ]
    },
    {
     "name": "stderr",
     "output_type": "stream",
     "text": [
      "W0703 16:37:42.539730 140698822833920 ag_logging.py:145] Entity <bound method BatchNormalization.call of <tensorflow.python.layers.normalization.BatchNormalization object at 0x7ff61441e7d0>> could not be transformed and will be executed as-is. Please report this to the AutgoGraph team. When filing the bug, set the verbosity to 10 (on Linux, `export AUTOGRAPH_VERBOSITY=10`) and attach the full output. Cause: converting <bound method BatchNormalization.call of <tensorflow.python.layers.normalization.BatchNormalization object at 0x7ff61441e7d0>>: AssertionError: Bad argument number for Name: 3, expecting 4\n"
     ]
    },
    {
     "name": "stdout",
     "output_type": "stream",
     "text": [
      "WARNING: Entity <bound method BatchNormalization.call of <tensorflow.python.layers.normalization.BatchNormalization object at 0x7ff61441e7d0>> could not be transformed and will be executed as-is. Please report this to the AutgoGraph team. When filing the bug, set the verbosity to 10 (on Linux, `export AUTOGRAPH_VERBOSITY=10`) and attach the full output. Cause: converting <bound method BatchNormalization.call of <tensorflow.python.layers.normalization.BatchNormalization object at 0x7ff61441e7d0>>: AssertionError: Bad argument number for Name: 3, expecting 4\n",
      "WARNING:tensorflow:Entity <bound method Conv.call of <tensorflow.python.layers.convolutional.Conv2D object at 0x7ff64aa72190>> could not be transformed and will be executed as-is. Please report this to the AutgoGraph team. When filing the bug, set the verbosity to 10 (on Linux, `export AUTOGRAPH_VERBOSITY=10`) and attach the full output. Cause: converting <bound method Conv.call of <tensorflow.python.layers.convolutional.Conv2D object at 0x7ff64aa72190>>: AssertionError: Bad argument number for Name: 3, expecting 4\n"
     ]
    },
    {
     "name": "stderr",
     "output_type": "stream",
     "text": [
      "W0703 16:37:42.603468 140698822833920 ag_logging.py:145] Entity <bound method Conv.call of <tensorflow.python.layers.convolutional.Conv2D object at 0x7ff64aa72190>> could not be transformed and will be executed as-is. Please report this to the AutgoGraph team. When filing the bug, set the verbosity to 10 (on Linux, `export AUTOGRAPH_VERBOSITY=10`) and attach the full output. Cause: converting <bound method Conv.call of <tensorflow.python.layers.convolutional.Conv2D object at 0x7ff64aa72190>>: AssertionError: Bad argument number for Name: 3, expecting 4\n"
     ]
    },
    {
     "name": "stdout",
     "output_type": "stream",
     "text": [
      "WARNING: Entity <bound method Conv.call of <tensorflow.python.layers.convolutional.Conv2D object at 0x7ff64aa72190>> could not be transformed and will be executed as-is. Please report this to the AutgoGraph team. When filing the bug, set the verbosity to 10 (on Linux, `export AUTOGRAPH_VERBOSITY=10`) and attach the full output. Cause: converting <bound method Conv.call of <tensorflow.python.layers.convolutional.Conv2D object at 0x7ff64aa72190>>: AssertionError: Bad argument number for Name: 3, expecting 4\n",
      "WARNING:tensorflow:Entity <bound method BatchNormalization.call of <tensorflow.python.layers.normalization.BatchNormalization object at 0x7ff61441e590>> could not be transformed and will be executed as-is. Please report this to the AutgoGraph team. When filing the bug, set the verbosity to 10 (on Linux, `export AUTOGRAPH_VERBOSITY=10`) and attach the full output. Cause: converting <bound method BatchNormalization.call of <tensorflow.python.layers.normalization.BatchNormalization object at 0x7ff61441e590>>: AssertionError: Bad argument number for Name: 3, expecting 4\n"
     ]
    },
    {
     "name": "stderr",
     "output_type": "stream",
     "text": [
      "W0703 16:37:42.625509 140698822833920 ag_logging.py:145] Entity <bound method BatchNormalization.call of <tensorflow.python.layers.normalization.BatchNormalization object at 0x7ff61441e590>> could not be transformed and will be executed as-is. Please report this to the AutgoGraph team. When filing the bug, set the verbosity to 10 (on Linux, `export AUTOGRAPH_VERBOSITY=10`) and attach the full output. Cause: converting <bound method BatchNormalization.call of <tensorflow.python.layers.normalization.BatchNormalization object at 0x7ff61441e590>>: AssertionError: Bad argument number for Name: 3, expecting 4\n"
     ]
    },
    {
     "name": "stdout",
     "output_type": "stream",
     "text": [
      "WARNING: Entity <bound method BatchNormalization.call of <tensorflow.python.layers.normalization.BatchNormalization object at 0x7ff61441e590>> could not be transformed and will be executed as-is. Please report this to the AutgoGraph team. When filing the bug, set the verbosity to 10 (on Linux, `export AUTOGRAPH_VERBOSITY=10`) and attach the full output. Cause: converting <bound method BatchNormalization.call of <tensorflow.python.layers.normalization.BatchNormalization object at 0x7ff61441e590>>: AssertionError: Bad argument number for Name: 3, expecting 4\n",
      "WARNING:tensorflow:Entity <bound method Conv.call of <tensorflow.python.layers.convolutional.Conv2D object at 0x7ff61450dcd0>> could not be transformed and will be executed as-is. Please report this to the AutgoGraph team. When filing the bug, set the verbosity to 10 (on Linux, `export AUTOGRAPH_VERBOSITY=10`) and attach the full output. Cause: converting <bound method Conv.call of <tensorflow.python.layers.convolutional.Conv2D object at 0x7ff61450dcd0>>: AssertionError: Bad argument number for Name: 3, expecting 4\n"
     ]
    },
    {
     "name": "stderr",
     "output_type": "stream",
     "text": [
      "W0703 16:37:42.685373 140698822833920 ag_logging.py:145] Entity <bound method Conv.call of <tensorflow.python.layers.convolutional.Conv2D object at 0x7ff61450dcd0>> could not be transformed and will be executed as-is. Please report this to the AutgoGraph team. When filing the bug, set the verbosity to 10 (on Linux, `export AUTOGRAPH_VERBOSITY=10`) and attach the full output. Cause: converting <bound method Conv.call of <tensorflow.python.layers.convolutional.Conv2D object at 0x7ff61450dcd0>>: AssertionError: Bad argument number for Name: 3, expecting 4\n"
     ]
    },
    {
     "name": "stdout",
     "output_type": "stream",
     "text": [
      "WARNING: Entity <bound method Conv.call of <tensorflow.python.layers.convolutional.Conv2D object at 0x7ff61450dcd0>> could not be transformed and will be executed as-is. Please report this to the AutgoGraph team. When filing the bug, set the verbosity to 10 (on Linux, `export AUTOGRAPH_VERBOSITY=10`) and attach the full output. Cause: converting <bound method Conv.call of <tensorflow.python.layers.convolutional.Conv2D object at 0x7ff61450dcd0>>: AssertionError: Bad argument number for Name: 3, expecting 4\n",
      "WARNING:tensorflow:Entity <bound method BatchNormalization.call of <tensorflow.python.layers.normalization.BatchNormalization object at 0x7ff614417510>> could not be transformed and will be executed as-is. Please report this to the AutgoGraph team. When filing the bug, set the verbosity to 10 (on Linux, `export AUTOGRAPH_VERBOSITY=10`) and attach the full output. Cause: converting <bound method BatchNormalization.call of <tensorflow.python.layers.normalization.BatchNormalization object at 0x7ff614417510>>: AssertionError: Bad argument number for Name: 3, expecting 4\n"
     ]
    },
    {
     "name": "stderr",
     "output_type": "stream",
     "text": [
      "W0703 16:37:42.707447 140698822833920 ag_logging.py:145] Entity <bound method BatchNormalization.call of <tensorflow.python.layers.normalization.BatchNormalization object at 0x7ff614417510>> could not be transformed and will be executed as-is. Please report this to the AutgoGraph team. When filing the bug, set the verbosity to 10 (on Linux, `export AUTOGRAPH_VERBOSITY=10`) and attach the full output. Cause: converting <bound method BatchNormalization.call of <tensorflow.python.layers.normalization.BatchNormalization object at 0x7ff614417510>>: AssertionError: Bad argument number for Name: 3, expecting 4\n"
     ]
    },
    {
     "name": "stdout",
     "output_type": "stream",
     "text": [
      "WARNING: Entity <bound method BatchNormalization.call of <tensorflow.python.layers.normalization.BatchNormalization object at 0x7ff614417510>> could not be transformed and will be executed as-is. Please report this to the AutgoGraph team. When filing the bug, set the verbosity to 10 (on Linux, `export AUTOGRAPH_VERBOSITY=10`) and attach the full output. Cause: converting <bound method BatchNormalization.call of <tensorflow.python.layers.normalization.BatchNormalization object at 0x7ff614417510>>: AssertionError: Bad argument number for Name: 3, expecting 4\n",
      "WARNING:tensorflow:Entity <bound method Pooling2D.call of <tensorflow.python.layers.pooling.AveragePooling2D object at 0x7ff62c06be50>> could not be transformed and will be executed as-is. Please report this to the AutgoGraph team. When filing the bug, set the verbosity to 10 (on Linux, `export AUTOGRAPH_VERBOSITY=10`) and attach the full output. Cause: converting <bound method Pooling2D.call of <tensorflow.python.layers.pooling.AveragePooling2D object at 0x7ff62c06be50>>: AssertionError: Bad argument number for Name: 3, expecting 4\n"
     ]
    },
    {
     "name": "stderr",
     "output_type": "stream",
     "text": [
      "W0703 16:37:42.750890 140698822833920 ag_logging.py:145] Entity <bound method Pooling2D.call of <tensorflow.python.layers.pooling.AveragePooling2D object at 0x7ff62c06be50>> could not be transformed and will be executed as-is. Please report this to the AutgoGraph team. When filing the bug, set the verbosity to 10 (on Linux, `export AUTOGRAPH_VERBOSITY=10`) and attach the full output. Cause: converting <bound method Pooling2D.call of <tensorflow.python.layers.pooling.AveragePooling2D object at 0x7ff62c06be50>>: AssertionError: Bad argument number for Name: 3, expecting 4\n"
     ]
    },
    {
     "name": "stdout",
     "output_type": "stream",
     "text": [
      "WARNING: Entity <bound method Pooling2D.call of <tensorflow.python.layers.pooling.AveragePooling2D object at 0x7ff62c06be50>> could not be transformed and will be executed as-is. Please report this to the AutgoGraph team. When filing the bug, set the verbosity to 10 (on Linux, `export AUTOGRAPH_VERBOSITY=10`) and attach the full output. Cause: converting <bound method Pooling2D.call of <tensorflow.python.layers.pooling.AveragePooling2D object at 0x7ff62c06be50>>: AssertionError: Bad argument number for Name: 3, expecting 4\n",
      "WARNING:tensorflow:Entity <bound method Conv.call of <tensorflow.python.layers.convolutional.Conv2D object at 0x7ff62c10b710>> could not be transformed and will be executed as-is. Please report this to the AutgoGraph team. When filing the bug, set the verbosity to 10 (on Linux, `export AUTOGRAPH_VERBOSITY=10`) and attach the full output. Cause: converting <bound method Conv.call of <tensorflow.python.layers.convolutional.Conv2D object at 0x7ff62c10b710>>: AssertionError: Bad argument number for Name: 3, expecting 4\n"
     ]
    },
    {
     "name": "stderr",
     "output_type": "stream",
     "text": [
      "W0703 16:37:42.808017 140698822833920 ag_logging.py:145] Entity <bound method Conv.call of <tensorflow.python.layers.convolutional.Conv2D object at 0x7ff62c10b710>> could not be transformed and will be executed as-is. Please report this to the AutgoGraph team. When filing the bug, set the verbosity to 10 (on Linux, `export AUTOGRAPH_VERBOSITY=10`) and attach the full output. Cause: converting <bound method Conv.call of <tensorflow.python.layers.convolutional.Conv2D object at 0x7ff62c10b710>>: AssertionError: Bad argument number for Name: 3, expecting 4\n"
     ]
    },
    {
     "name": "stdout",
     "output_type": "stream",
     "text": [
      "WARNING: Entity <bound method Conv.call of <tensorflow.python.layers.convolutional.Conv2D object at 0x7ff62c10b710>> could not be transformed and will be executed as-is. Please report this to the AutgoGraph team. When filing the bug, set the verbosity to 10 (on Linux, `export AUTOGRAPH_VERBOSITY=10`) and attach the full output. Cause: converting <bound method Conv.call of <tensorflow.python.layers.convolutional.Conv2D object at 0x7ff62c10b710>>: AssertionError: Bad argument number for Name: 3, expecting 4\n",
      "WARNING:tensorflow:Entity <bound method BatchNormalization.call of <tensorflow.python.layers.normalization.BatchNormalization object at 0x7ff614346790>> could not be transformed and will be executed as-is. Please report this to the AutgoGraph team. When filing the bug, set the verbosity to 10 (on Linux, `export AUTOGRAPH_VERBOSITY=10`) and attach the full output. Cause: converting <bound method BatchNormalization.call of <tensorflow.python.layers.normalization.BatchNormalization object at 0x7ff614346790>>: AssertionError: Bad argument number for Name: 3, expecting 4\n"
     ]
    },
    {
     "name": "stderr",
     "output_type": "stream",
     "text": [
      "W0703 16:37:42.830319 140698822833920 ag_logging.py:145] Entity <bound method BatchNormalization.call of <tensorflow.python.layers.normalization.BatchNormalization object at 0x7ff614346790>> could not be transformed and will be executed as-is. Please report this to the AutgoGraph team. When filing the bug, set the verbosity to 10 (on Linux, `export AUTOGRAPH_VERBOSITY=10`) and attach the full output. Cause: converting <bound method BatchNormalization.call of <tensorflow.python.layers.normalization.BatchNormalization object at 0x7ff614346790>>: AssertionError: Bad argument number for Name: 3, expecting 4\n"
     ]
    },
    {
     "name": "stdout",
     "output_type": "stream",
     "text": [
      "WARNING: Entity <bound method BatchNormalization.call of <tensorflow.python.layers.normalization.BatchNormalization object at 0x7ff614346790>> could not be transformed and will be executed as-is. Please report this to the AutgoGraph team. When filing the bug, set the verbosity to 10 (on Linux, `export AUTOGRAPH_VERBOSITY=10`) and attach the full output. Cause: converting <bound method BatchNormalization.call of <tensorflow.python.layers.normalization.BatchNormalization object at 0x7ff614346790>>: AssertionError: Bad argument number for Name: 3, expecting 4\n",
      "WARNING:tensorflow:Entity <bound method Conv.call of <tensorflow.python.layers.convolutional.Conv2D object at 0x7ff6143f60d0>> could not be transformed and will be executed as-is. Please report this to the AutgoGraph team. When filing the bug, set the verbosity to 10 (on Linux, `export AUTOGRAPH_VERBOSITY=10`) and attach the full output. Cause: converting <bound method Conv.call of <tensorflow.python.layers.convolutional.Conv2D object at 0x7ff6143f60d0>>: AssertionError: Bad argument number for Name: 3, expecting 4\n"
     ]
    },
    {
     "name": "stderr",
     "output_type": "stream",
     "text": [
      "W0703 16:37:42.889002 140698822833920 ag_logging.py:145] Entity <bound method Conv.call of <tensorflow.python.layers.convolutional.Conv2D object at 0x7ff6143f60d0>> could not be transformed and will be executed as-is. Please report this to the AutgoGraph team. When filing the bug, set the verbosity to 10 (on Linux, `export AUTOGRAPH_VERBOSITY=10`) and attach the full output. Cause: converting <bound method Conv.call of <tensorflow.python.layers.convolutional.Conv2D object at 0x7ff6143f60d0>>: AssertionError: Bad argument number for Name: 3, expecting 4\n"
     ]
    },
    {
     "name": "stdout",
     "output_type": "stream",
     "text": [
      "WARNING: Entity <bound method Conv.call of <tensorflow.python.layers.convolutional.Conv2D object at 0x7ff6143f60d0>> could not be transformed and will be executed as-is. Please report this to the AutgoGraph team. When filing the bug, set the verbosity to 10 (on Linux, `export AUTOGRAPH_VERBOSITY=10`) and attach the full output. Cause: converting <bound method Conv.call of <tensorflow.python.layers.convolutional.Conv2D object at 0x7ff6143f60d0>>: AssertionError: Bad argument number for Name: 3, expecting 4\n",
      "WARNING:tensorflow:Entity <bound method BatchNormalization.call of <tensorflow.python.layers.normalization.BatchNormalization object at 0x7ff614417850>> could not be transformed and will be executed as-is. Please report this to the AutgoGraph team. When filing the bug, set the verbosity to 10 (on Linux, `export AUTOGRAPH_VERBOSITY=10`) and attach the full output. Cause: converting <bound method BatchNormalization.call of <tensorflow.python.layers.normalization.BatchNormalization object at 0x7ff614417850>>: AssertionError: Bad argument number for Name: 3, expecting 4\n"
     ]
    },
    {
     "name": "stderr",
     "output_type": "stream",
     "text": [
      "W0703 16:37:42.911679 140698822833920 ag_logging.py:145] Entity <bound method BatchNormalization.call of <tensorflow.python.layers.normalization.BatchNormalization object at 0x7ff614417850>> could not be transformed and will be executed as-is. Please report this to the AutgoGraph team. When filing the bug, set the verbosity to 10 (on Linux, `export AUTOGRAPH_VERBOSITY=10`) and attach the full output. Cause: converting <bound method BatchNormalization.call of <tensorflow.python.layers.normalization.BatchNormalization object at 0x7ff614417850>>: AssertionError: Bad argument number for Name: 3, expecting 4\n"
     ]
    },
    {
     "name": "stdout",
     "output_type": "stream",
     "text": [
      "WARNING: Entity <bound method BatchNormalization.call of <tensorflow.python.layers.normalization.BatchNormalization object at 0x7ff614417850>> could not be transformed and will be executed as-is. Please report this to the AutgoGraph team. When filing the bug, set the verbosity to 10 (on Linux, `export AUTOGRAPH_VERBOSITY=10`) and attach the full output. Cause: converting <bound method BatchNormalization.call of <tensorflow.python.layers.normalization.BatchNormalization object at 0x7ff614417850>>: AssertionError: Bad argument number for Name: 3, expecting 4\n",
      "WARNING:tensorflow:Entity <bound method Conv.call of <tensorflow.python.layers.convolutional.Conv2D object at 0x7ff614442c90>> could not be transformed and will be executed as-is. Please report this to the AutgoGraph team. When filing the bug, set the verbosity to 10 (on Linux, `export AUTOGRAPH_VERBOSITY=10`) and attach the full output. Cause: converting <bound method Conv.call of <tensorflow.python.layers.convolutional.Conv2D object at 0x7ff614442c90>>: AssertionError: Bad argument number for Name: 3, expecting 4\n"
     ]
    },
    {
     "name": "stderr",
     "output_type": "stream",
     "text": [
      "W0703 16:37:42.972706 140698822833920 ag_logging.py:145] Entity <bound method Conv.call of <tensorflow.python.layers.convolutional.Conv2D object at 0x7ff614442c90>> could not be transformed and will be executed as-is. Please report this to the AutgoGraph team. When filing the bug, set the verbosity to 10 (on Linux, `export AUTOGRAPH_VERBOSITY=10`) and attach the full output. Cause: converting <bound method Conv.call of <tensorflow.python.layers.convolutional.Conv2D object at 0x7ff614442c90>>: AssertionError: Bad argument number for Name: 3, expecting 4\n"
     ]
    },
    {
     "name": "stdout",
     "output_type": "stream",
     "text": [
      "WARNING: Entity <bound method Conv.call of <tensorflow.python.layers.convolutional.Conv2D object at 0x7ff614442c90>> could not be transformed and will be executed as-is. Please report this to the AutgoGraph team. When filing the bug, set the verbosity to 10 (on Linux, `export AUTOGRAPH_VERBOSITY=10`) and attach the full output. Cause: converting <bound method Conv.call of <tensorflow.python.layers.convolutional.Conv2D object at 0x7ff614442c90>>: AssertionError: Bad argument number for Name: 3, expecting 4\n",
      "WARNING:tensorflow:Entity <bound method BatchNormalization.call of <tensorflow.python.layers.normalization.BatchNormalization object at 0x7ff6142889d0>> could not be transformed and will be executed as-is. Please report this to the AutgoGraph team. When filing the bug, set the verbosity to 10 (on Linux, `export AUTOGRAPH_VERBOSITY=10`) and attach the full output. Cause: converting <bound method BatchNormalization.call of <tensorflow.python.layers.normalization.BatchNormalization object at 0x7ff6142889d0>>: AssertionError: Bad argument number for Name: 3, expecting 4\n"
     ]
    },
    {
     "name": "stderr",
     "output_type": "stream",
     "text": [
      "W0703 16:37:42.994837 140698822833920 ag_logging.py:145] Entity <bound method BatchNormalization.call of <tensorflow.python.layers.normalization.BatchNormalization object at 0x7ff6142889d0>> could not be transformed and will be executed as-is. Please report this to the AutgoGraph team. When filing the bug, set the verbosity to 10 (on Linux, `export AUTOGRAPH_VERBOSITY=10`) and attach the full output. Cause: converting <bound method BatchNormalization.call of <tensorflow.python.layers.normalization.BatchNormalization object at 0x7ff6142889d0>>: AssertionError: Bad argument number for Name: 3, expecting 4\n"
     ]
    },
    {
     "name": "stdout",
     "output_type": "stream",
     "text": [
      "WARNING: Entity <bound method BatchNormalization.call of <tensorflow.python.layers.normalization.BatchNormalization object at 0x7ff6142889d0>> could not be transformed and will be executed as-is. Please report this to the AutgoGraph team. When filing the bug, set the verbosity to 10 (on Linux, `export AUTOGRAPH_VERBOSITY=10`) and attach the full output. Cause: converting <bound method BatchNormalization.call of <tensorflow.python.layers.normalization.BatchNormalization object at 0x7ff6142889d0>>: AssertionError: Bad argument number for Name: 3, expecting 4\n",
      "WARNING:tensorflow:Entity <bound method Conv.call of <tensorflow.python.layers.convolutional.Conv2D object at 0x7ff62c0d3ed0>> could not be transformed and will be executed as-is. Please report this to the AutgoGraph team. When filing the bug, set the verbosity to 10 (on Linux, `export AUTOGRAPH_VERBOSITY=10`) and attach the full output. Cause: converting <bound method Conv.call of <tensorflow.python.layers.convolutional.Conv2D object at 0x7ff62c0d3ed0>>: AssertionError: Bad argument number for Name: 3, expecting 4\n"
     ]
    },
    {
     "name": "stderr",
     "output_type": "stream",
     "text": [
      "W0703 16:37:43.058095 140698822833920 ag_logging.py:145] Entity <bound method Conv.call of <tensorflow.python.layers.convolutional.Conv2D object at 0x7ff62c0d3ed0>> could not be transformed and will be executed as-is. Please report this to the AutgoGraph team. When filing the bug, set the verbosity to 10 (on Linux, `export AUTOGRAPH_VERBOSITY=10`) and attach the full output. Cause: converting <bound method Conv.call of <tensorflow.python.layers.convolutional.Conv2D object at 0x7ff62c0d3ed0>>: AssertionError: Bad argument number for Name: 3, expecting 4\n"
     ]
    },
    {
     "name": "stdout",
     "output_type": "stream",
     "text": [
      "WARNING: Entity <bound method Conv.call of <tensorflow.python.layers.convolutional.Conv2D object at 0x7ff62c0d3ed0>> could not be transformed and will be executed as-is. Please report this to the AutgoGraph team. When filing the bug, set the verbosity to 10 (on Linux, `export AUTOGRAPH_VERBOSITY=10`) and attach the full output. Cause: converting <bound method Conv.call of <tensorflow.python.layers.convolutional.Conv2D object at 0x7ff62c0d3ed0>>: AssertionError: Bad argument number for Name: 3, expecting 4\n",
      "WARNING:tensorflow:Entity <bound method BatchNormalization.call of <tensorflow.python.layers.normalization.BatchNormalization object at 0x7ff61441ead0>> could not be transformed and will be executed as-is. Please report this to the AutgoGraph team. When filing the bug, set the verbosity to 10 (on Linux, `export AUTOGRAPH_VERBOSITY=10`) and attach the full output. Cause: converting <bound method BatchNormalization.call of <tensorflow.python.layers.normalization.BatchNormalization object at 0x7ff61441ead0>>: AssertionError: Bad argument number for Name: 3, expecting 4\n"
     ]
    },
    {
     "name": "stderr",
     "output_type": "stream",
     "text": [
      "W0703 16:37:43.080122 140698822833920 ag_logging.py:145] Entity <bound method BatchNormalization.call of <tensorflow.python.layers.normalization.BatchNormalization object at 0x7ff61441ead0>> could not be transformed and will be executed as-is. Please report this to the AutgoGraph team. When filing the bug, set the verbosity to 10 (on Linux, `export AUTOGRAPH_VERBOSITY=10`) and attach the full output. Cause: converting <bound method BatchNormalization.call of <tensorflow.python.layers.normalization.BatchNormalization object at 0x7ff61441ead0>>: AssertionError: Bad argument number for Name: 3, expecting 4\n"
     ]
    },
    {
     "name": "stdout",
     "output_type": "stream",
     "text": [
      "WARNING: Entity <bound method BatchNormalization.call of <tensorflow.python.layers.normalization.BatchNormalization object at 0x7ff61441ead0>> could not be transformed and will be executed as-is. Please report this to the AutgoGraph team. When filing the bug, set the verbosity to 10 (on Linux, `export AUTOGRAPH_VERBOSITY=10`) and attach the full output. Cause: converting <bound method BatchNormalization.call of <tensorflow.python.layers.normalization.BatchNormalization object at 0x7ff61441ead0>>: AssertionError: Bad argument number for Name: 3, expecting 4\n",
      "WARNING:tensorflow:Entity <bound method Conv.call of <tensorflow.python.layers.convolutional.Conv2D object at 0x7ff62c06ee10>> could not be transformed and will be executed as-is. Please report this to the AutgoGraph team. When filing the bug, set the verbosity to 10 (on Linux, `export AUTOGRAPH_VERBOSITY=10`) and attach the full output. Cause: converting <bound method Conv.call of <tensorflow.python.layers.convolutional.Conv2D object at 0x7ff62c06ee10>>: AssertionError: Bad argument number for Name: 3, expecting 4\n"
     ]
    },
    {
     "name": "stderr",
     "output_type": "stream",
     "text": [
      "W0703 16:37:43.137790 140698822833920 ag_logging.py:145] Entity <bound method Conv.call of <tensorflow.python.layers.convolutional.Conv2D object at 0x7ff62c06ee10>> could not be transformed and will be executed as-is. Please report this to the AutgoGraph team. When filing the bug, set the verbosity to 10 (on Linux, `export AUTOGRAPH_VERBOSITY=10`) and attach the full output. Cause: converting <bound method Conv.call of <tensorflow.python.layers.convolutional.Conv2D object at 0x7ff62c06ee10>>: AssertionError: Bad argument number for Name: 3, expecting 4\n"
     ]
    },
    {
     "name": "stdout",
     "output_type": "stream",
     "text": [
      "WARNING: Entity <bound method Conv.call of <tensorflow.python.layers.convolutional.Conv2D object at 0x7ff62c06ee10>> could not be transformed and will be executed as-is. Please report this to the AutgoGraph team. When filing the bug, set the verbosity to 10 (on Linux, `export AUTOGRAPH_VERBOSITY=10`) and attach the full output. Cause: converting <bound method Conv.call of <tensorflow.python.layers.convolutional.Conv2D object at 0x7ff62c06ee10>>: AssertionError: Bad argument number for Name: 3, expecting 4\n",
      "WARNING:tensorflow:Entity <bound method BatchNormalization.call of <tensorflow.python.layers.normalization.BatchNormalization object at 0x7ff6141e2090>> could not be transformed and will be executed as-is. Please report this to the AutgoGraph team. When filing the bug, set the verbosity to 10 (on Linux, `export AUTOGRAPH_VERBOSITY=10`) and attach the full output. Cause: converting <bound method BatchNormalization.call of <tensorflow.python.layers.normalization.BatchNormalization object at 0x7ff6141e2090>>: AssertionError: Bad argument number for Name: 3, expecting 4\n"
     ]
    },
    {
     "name": "stderr",
     "output_type": "stream",
     "text": [
      "W0703 16:37:43.159746 140698822833920 ag_logging.py:145] Entity <bound method BatchNormalization.call of <tensorflow.python.layers.normalization.BatchNormalization object at 0x7ff6141e2090>> could not be transformed and will be executed as-is. Please report this to the AutgoGraph team. When filing the bug, set the verbosity to 10 (on Linux, `export AUTOGRAPH_VERBOSITY=10`) and attach the full output. Cause: converting <bound method BatchNormalization.call of <tensorflow.python.layers.normalization.BatchNormalization object at 0x7ff6141e2090>>: AssertionError: Bad argument number for Name: 3, expecting 4\n"
     ]
    },
    {
     "name": "stdout",
     "output_type": "stream",
     "text": [
      "WARNING: Entity <bound method BatchNormalization.call of <tensorflow.python.layers.normalization.BatchNormalization object at 0x7ff6141e2090>> could not be transformed and will be executed as-is. Please report this to the AutgoGraph team. When filing the bug, set the verbosity to 10 (on Linux, `export AUTOGRAPH_VERBOSITY=10`) and attach the full output. Cause: converting <bound method BatchNormalization.call of <tensorflow.python.layers.normalization.BatchNormalization object at 0x7ff6141e2090>>: AssertionError: Bad argument number for Name: 3, expecting 4\n",
      "WARNING:tensorflow:Entity <bound method Conv.call of <tensorflow.python.layers.convolutional.Conv2D object at 0x7ff6143fb6d0>> could not be transformed and will be executed as-is. Please report this to the AutgoGraph team. When filing the bug, set the verbosity to 10 (on Linux, `export AUTOGRAPH_VERBOSITY=10`) and attach the full output. Cause: converting <bound method Conv.call of <tensorflow.python.layers.convolutional.Conv2D object at 0x7ff6143fb6d0>>: AssertionError: Bad argument number for Name: 3, expecting 4\n"
     ]
    },
    {
     "name": "stderr",
     "output_type": "stream",
     "text": [
      "W0703 16:37:43.217870 140698822833920 ag_logging.py:145] Entity <bound method Conv.call of <tensorflow.python.layers.convolutional.Conv2D object at 0x7ff6143fb6d0>> could not be transformed and will be executed as-is. Please report this to the AutgoGraph team. When filing the bug, set the verbosity to 10 (on Linux, `export AUTOGRAPH_VERBOSITY=10`) and attach the full output. Cause: converting <bound method Conv.call of <tensorflow.python.layers.convolutional.Conv2D object at 0x7ff6143fb6d0>>: AssertionError: Bad argument number for Name: 3, expecting 4\n"
     ]
    },
    {
     "name": "stdout",
     "output_type": "stream",
     "text": [
      "WARNING: Entity <bound method Conv.call of <tensorflow.python.layers.convolutional.Conv2D object at 0x7ff6143fb6d0>> could not be transformed and will be executed as-is. Please report this to the AutgoGraph team. When filing the bug, set the verbosity to 10 (on Linux, `export AUTOGRAPH_VERBOSITY=10`) and attach the full output. Cause: converting <bound method Conv.call of <tensorflow.python.layers.convolutional.Conv2D object at 0x7ff6143fb6d0>>: AssertionError: Bad argument number for Name: 3, expecting 4\n",
      "WARNING:tensorflow:Entity <bound method BatchNormalization.call of <tensorflow.python.layers.normalization.BatchNormalization object at 0x7ff6140ffa10>> could not be transformed and will be executed as-is. Please report this to the AutgoGraph team. When filing the bug, set the verbosity to 10 (on Linux, `export AUTOGRAPH_VERBOSITY=10`) and attach the full output. Cause: converting <bound method BatchNormalization.call of <tensorflow.python.layers.normalization.BatchNormalization object at 0x7ff6140ffa10>>: AssertionError: Bad argument number for Name: 3, expecting 4\n"
     ]
    },
    {
     "name": "stderr",
     "output_type": "stream",
     "text": [
      "W0703 16:37:43.240272 140698822833920 ag_logging.py:145] Entity <bound method BatchNormalization.call of <tensorflow.python.layers.normalization.BatchNormalization object at 0x7ff6140ffa10>> could not be transformed and will be executed as-is. Please report this to the AutgoGraph team. When filing the bug, set the verbosity to 10 (on Linux, `export AUTOGRAPH_VERBOSITY=10`) and attach the full output. Cause: converting <bound method BatchNormalization.call of <tensorflow.python.layers.normalization.BatchNormalization object at 0x7ff6140ffa10>>: AssertionError: Bad argument number for Name: 3, expecting 4\n"
     ]
    },
    {
     "name": "stdout",
     "output_type": "stream",
     "text": [
      "WARNING: Entity <bound method BatchNormalization.call of <tensorflow.python.layers.normalization.BatchNormalization object at 0x7ff6140ffa10>> could not be transformed and will be executed as-is. Please report this to the AutgoGraph team. When filing the bug, set the verbosity to 10 (on Linux, `export AUTOGRAPH_VERBOSITY=10`) and attach the full output. Cause: converting <bound method BatchNormalization.call of <tensorflow.python.layers.normalization.BatchNormalization object at 0x7ff6140ffa10>>: AssertionError: Bad argument number for Name: 3, expecting 4\n",
      "WARNING:tensorflow:Entity <bound method Conv.call of <tensorflow.python.layers.convolutional.Conv2D object at 0x7ff63724f950>> could not be transformed and will be executed as-is. Please report this to the AutgoGraph team. When filing the bug, set the verbosity to 10 (on Linux, `export AUTOGRAPH_VERBOSITY=10`) and attach the full output. Cause: converting <bound method Conv.call of <tensorflow.python.layers.convolutional.Conv2D object at 0x7ff63724f950>>: AssertionError: Bad argument number for Name: 3, expecting 4\n"
     ]
    },
    {
     "name": "stderr",
     "output_type": "stream",
     "text": [
      "W0703 16:37:43.302637 140698822833920 ag_logging.py:145] Entity <bound method Conv.call of <tensorflow.python.layers.convolutional.Conv2D object at 0x7ff63724f950>> could not be transformed and will be executed as-is. Please report this to the AutgoGraph team. When filing the bug, set the verbosity to 10 (on Linux, `export AUTOGRAPH_VERBOSITY=10`) and attach the full output. Cause: converting <bound method Conv.call of <tensorflow.python.layers.convolutional.Conv2D object at 0x7ff63724f950>>: AssertionError: Bad argument number for Name: 3, expecting 4\n"
     ]
    },
    {
     "name": "stdout",
     "output_type": "stream",
     "text": [
      "WARNING: Entity <bound method Conv.call of <tensorflow.python.layers.convolutional.Conv2D object at 0x7ff63724f950>> could not be transformed and will be executed as-is. Please report this to the AutgoGraph team. When filing the bug, set the verbosity to 10 (on Linux, `export AUTOGRAPH_VERBOSITY=10`) and attach the full output. Cause: converting <bound method Conv.call of <tensorflow.python.layers.convolutional.Conv2D object at 0x7ff63724f950>>: AssertionError: Bad argument number for Name: 3, expecting 4\n",
      "WARNING:tensorflow:Entity <bound method BatchNormalization.call of <tensorflow.python.layers.normalization.BatchNormalization object at 0x7ff6140ef190>> could not be transformed and will be executed as-is. Please report this to the AutgoGraph team. When filing the bug, set the verbosity to 10 (on Linux, `export AUTOGRAPH_VERBOSITY=10`) and attach the full output. Cause: converting <bound method BatchNormalization.call of <tensorflow.python.layers.normalization.BatchNormalization object at 0x7ff6140ef190>>: AssertionError: Bad argument number for Name: 3, expecting 4\n"
     ]
    },
    {
     "name": "stderr",
     "output_type": "stream",
     "text": [
      "W0703 16:37:43.324811 140698822833920 ag_logging.py:145] Entity <bound method BatchNormalization.call of <tensorflow.python.layers.normalization.BatchNormalization object at 0x7ff6140ef190>> could not be transformed and will be executed as-is. Please report this to the AutgoGraph team. When filing the bug, set the verbosity to 10 (on Linux, `export AUTOGRAPH_VERBOSITY=10`) and attach the full output. Cause: converting <bound method BatchNormalization.call of <tensorflow.python.layers.normalization.BatchNormalization object at 0x7ff6140ef190>>: AssertionError: Bad argument number for Name: 3, expecting 4\n"
     ]
    },
    {
     "name": "stdout",
     "output_type": "stream",
     "text": [
      "WARNING: Entity <bound method BatchNormalization.call of <tensorflow.python.layers.normalization.BatchNormalization object at 0x7ff6140ef190>> could not be transformed and will be executed as-is. Please report this to the AutgoGraph team. When filing the bug, set the verbosity to 10 (on Linux, `export AUTOGRAPH_VERBOSITY=10`) and attach the full output. Cause: converting <bound method BatchNormalization.call of <tensorflow.python.layers.normalization.BatchNormalization object at 0x7ff6140ef190>>: AssertionError: Bad argument number for Name: 3, expecting 4\n",
      "WARNING:tensorflow:Entity <bound method Pooling2D.call of <tensorflow.python.layers.pooling.AveragePooling2D object at 0x7ff614347a90>> could not be transformed and will be executed as-is. Please report this to the AutgoGraph team. When filing the bug, set the verbosity to 10 (on Linux, `export AUTOGRAPH_VERBOSITY=10`) and attach the full output. Cause: converting <bound method Pooling2D.call of <tensorflow.python.layers.pooling.AveragePooling2D object at 0x7ff614347a90>>: AssertionError: Bad argument number for Name: 3, expecting 4\n"
     ]
    },
    {
     "name": "stderr",
     "output_type": "stream",
     "text": [
      "W0703 16:37:43.364411 140698822833920 ag_logging.py:145] Entity <bound method Pooling2D.call of <tensorflow.python.layers.pooling.AveragePooling2D object at 0x7ff614347a90>> could not be transformed and will be executed as-is. Please report this to the AutgoGraph team. When filing the bug, set the verbosity to 10 (on Linux, `export AUTOGRAPH_VERBOSITY=10`) and attach the full output. Cause: converting <bound method Pooling2D.call of <tensorflow.python.layers.pooling.AveragePooling2D object at 0x7ff614347a90>>: AssertionError: Bad argument number for Name: 3, expecting 4\n"
     ]
    },
    {
     "name": "stdout",
     "output_type": "stream",
     "text": [
      "WARNING: Entity <bound method Pooling2D.call of <tensorflow.python.layers.pooling.AveragePooling2D object at 0x7ff614347a90>> could not be transformed and will be executed as-is. Please report this to the AutgoGraph team. When filing the bug, set the verbosity to 10 (on Linux, `export AUTOGRAPH_VERBOSITY=10`) and attach the full output. Cause: converting <bound method Pooling2D.call of <tensorflow.python.layers.pooling.AveragePooling2D object at 0x7ff614347a90>>: AssertionError: Bad argument number for Name: 3, expecting 4\n",
      "WARNING:tensorflow:Entity <bound method Conv.call of <tensorflow.python.layers.convolutional.Conv2D object at 0x7ff614274790>> could not be transformed and will be executed as-is. Please report this to the AutgoGraph team. When filing the bug, set the verbosity to 10 (on Linux, `export AUTOGRAPH_VERBOSITY=10`) and attach the full output. Cause: converting <bound method Conv.call of <tensorflow.python.layers.convolutional.Conv2D object at 0x7ff614274790>>: AssertionError: Bad argument number for Name: 3, expecting 4\n"
     ]
    },
    {
     "name": "stderr",
     "output_type": "stream",
     "text": [
      "W0703 16:37:43.421111 140698822833920 ag_logging.py:145] Entity <bound method Conv.call of <tensorflow.python.layers.convolutional.Conv2D object at 0x7ff614274790>> could not be transformed and will be executed as-is. Please report this to the AutgoGraph team. When filing the bug, set the verbosity to 10 (on Linux, `export AUTOGRAPH_VERBOSITY=10`) and attach the full output. Cause: converting <bound method Conv.call of <tensorflow.python.layers.convolutional.Conv2D object at 0x7ff614274790>>: AssertionError: Bad argument number for Name: 3, expecting 4\n"
     ]
    },
    {
     "name": "stdout",
     "output_type": "stream",
     "text": [
      "WARNING: Entity <bound method Conv.call of <tensorflow.python.layers.convolutional.Conv2D object at 0x7ff614274790>> could not be transformed and will be executed as-is. Please report this to the AutgoGraph team. When filing the bug, set the verbosity to 10 (on Linux, `export AUTOGRAPH_VERBOSITY=10`) and attach the full output. Cause: converting <bound method Conv.call of <tensorflow.python.layers.convolutional.Conv2D object at 0x7ff614274790>>: AssertionError: Bad argument number for Name: 3, expecting 4\n",
      "WARNING:tensorflow:Entity <bound method BatchNormalization.call of <tensorflow.python.layers.normalization.BatchNormalization object at 0x7ff61406a590>> could not be transformed and will be executed as-is. Please report this to the AutgoGraph team. When filing the bug, set the verbosity to 10 (on Linux, `export AUTOGRAPH_VERBOSITY=10`) and attach the full output. Cause: converting <bound method BatchNormalization.call of <tensorflow.python.layers.normalization.BatchNormalization object at 0x7ff61406a590>>: AssertionError: Bad argument number for Name: 3, expecting 4\n"
     ]
    },
    {
     "name": "stderr",
     "output_type": "stream",
     "text": [
      "W0703 16:37:43.443502 140698822833920 ag_logging.py:145] Entity <bound method BatchNormalization.call of <tensorflow.python.layers.normalization.BatchNormalization object at 0x7ff61406a590>> could not be transformed and will be executed as-is. Please report this to the AutgoGraph team. When filing the bug, set the verbosity to 10 (on Linux, `export AUTOGRAPH_VERBOSITY=10`) and attach the full output. Cause: converting <bound method BatchNormalization.call of <tensorflow.python.layers.normalization.BatchNormalization object at 0x7ff61406a590>>: AssertionError: Bad argument number for Name: 3, expecting 4\n"
     ]
    },
    {
     "name": "stdout",
     "output_type": "stream",
     "text": [
      "WARNING: Entity <bound method BatchNormalization.call of <tensorflow.python.layers.normalization.BatchNormalization object at 0x7ff61406a590>> could not be transformed and will be executed as-is. Please report this to the AutgoGraph team. When filing the bug, set the verbosity to 10 (on Linux, `export AUTOGRAPH_VERBOSITY=10`) and attach the full output. Cause: converting <bound method BatchNormalization.call of <tensorflow.python.layers.normalization.BatchNormalization object at 0x7ff61406a590>>: AssertionError: Bad argument number for Name: 3, expecting 4\n",
      "WARNING:tensorflow:Entity <bound method Conv.call of <tensorflow.python.layers.convolutional.Conv2D object at 0x7ff614346c50>> could not be transformed and will be executed as-is. Please report this to the AutgoGraph team. When filing the bug, set the verbosity to 10 (on Linux, `export AUTOGRAPH_VERBOSITY=10`) and attach the full output. Cause: converting <bound method Conv.call of <tensorflow.python.layers.convolutional.Conv2D object at 0x7ff614346c50>>: AssertionError: Bad argument number for Name: 3, expecting 4\n"
     ]
    },
    {
     "name": "stderr",
     "output_type": "stream",
     "text": [
      "W0703 16:37:43.501932 140698822833920 ag_logging.py:145] Entity <bound method Conv.call of <tensorflow.python.layers.convolutional.Conv2D object at 0x7ff614346c50>> could not be transformed and will be executed as-is. Please report this to the AutgoGraph team. When filing the bug, set the verbosity to 10 (on Linux, `export AUTOGRAPH_VERBOSITY=10`) and attach the full output. Cause: converting <bound method Conv.call of <tensorflow.python.layers.convolutional.Conv2D object at 0x7ff614346c50>>: AssertionError: Bad argument number for Name: 3, expecting 4\n"
     ]
    },
    {
     "name": "stdout",
     "output_type": "stream",
     "text": [
      "WARNING: Entity <bound method Conv.call of <tensorflow.python.layers.convolutional.Conv2D object at 0x7ff614346c50>> could not be transformed and will be executed as-is. Please report this to the AutgoGraph team. When filing the bug, set the verbosity to 10 (on Linux, `export AUTOGRAPH_VERBOSITY=10`) and attach the full output. Cause: converting <bound method Conv.call of <tensorflow.python.layers.convolutional.Conv2D object at 0x7ff614346c50>>: AssertionError: Bad argument number for Name: 3, expecting 4\n",
      "WARNING:tensorflow:Entity <bound method BatchNormalization.call of <tensorflow.python.layers.normalization.BatchNormalization object at 0x7ff5fc77f310>> could not be transformed and will be executed as-is. Please report this to the AutgoGraph team. When filing the bug, set the verbosity to 10 (on Linux, `export AUTOGRAPH_VERBOSITY=10`) and attach the full output. Cause: converting <bound method BatchNormalization.call of <tensorflow.python.layers.normalization.BatchNormalization object at 0x7ff5fc77f310>>: AssertionError: Bad argument number for Name: 3, expecting 4\n"
     ]
    },
    {
     "name": "stderr",
     "output_type": "stream",
     "text": [
      "W0703 16:37:43.524577 140698822833920 ag_logging.py:145] Entity <bound method BatchNormalization.call of <tensorflow.python.layers.normalization.BatchNormalization object at 0x7ff5fc77f310>> could not be transformed and will be executed as-is. Please report this to the AutgoGraph team. When filing the bug, set the verbosity to 10 (on Linux, `export AUTOGRAPH_VERBOSITY=10`) and attach the full output. Cause: converting <bound method BatchNormalization.call of <tensorflow.python.layers.normalization.BatchNormalization object at 0x7ff5fc77f310>>: AssertionError: Bad argument number for Name: 3, expecting 4\n"
     ]
    },
    {
     "name": "stdout",
     "output_type": "stream",
     "text": [
      "WARNING: Entity <bound method BatchNormalization.call of <tensorflow.python.layers.normalization.BatchNormalization object at 0x7ff5fc77f310>> could not be transformed and will be executed as-is. Please report this to the AutgoGraph team. When filing the bug, set the verbosity to 10 (on Linux, `export AUTOGRAPH_VERBOSITY=10`) and attach the full output. Cause: converting <bound method BatchNormalization.call of <tensorflow.python.layers.normalization.BatchNormalization object at 0x7ff5fc77f310>>: AssertionError: Bad argument number for Name: 3, expecting 4\n",
      "WARNING:tensorflow:Entity <bound method Conv.call of <tensorflow.python.layers.convolutional.Conv2D object at 0x7ff6140fb610>> could not be transformed and will be executed as-is. Please report this to the AutgoGraph team. When filing the bug, set the verbosity to 10 (on Linux, `export AUTOGRAPH_VERBOSITY=10`) and attach the full output. Cause: converting <bound method Conv.call of <tensorflow.python.layers.convolutional.Conv2D object at 0x7ff6140fb610>>: AssertionError: Bad argument number for Name: 3, expecting 4\n"
     ]
    },
    {
     "name": "stderr",
     "output_type": "stream",
     "text": [
      "W0703 16:37:43.582661 140698822833920 ag_logging.py:145] Entity <bound method Conv.call of <tensorflow.python.layers.convolutional.Conv2D object at 0x7ff6140fb610>> could not be transformed and will be executed as-is. Please report this to the AutgoGraph team. When filing the bug, set the verbosity to 10 (on Linux, `export AUTOGRAPH_VERBOSITY=10`) and attach the full output. Cause: converting <bound method Conv.call of <tensorflow.python.layers.convolutional.Conv2D object at 0x7ff6140fb610>>: AssertionError: Bad argument number for Name: 3, expecting 4\n"
     ]
    },
    {
     "name": "stdout",
     "output_type": "stream",
     "text": [
      "WARNING: Entity <bound method Conv.call of <tensorflow.python.layers.convolutional.Conv2D object at 0x7ff6140fb610>> could not be transformed and will be executed as-is. Please report this to the AutgoGraph team. When filing the bug, set the verbosity to 10 (on Linux, `export AUTOGRAPH_VERBOSITY=10`) and attach the full output. Cause: converting <bound method Conv.call of <tensorflow.python.layers.convolutional.Conv2D object at 0x7ff6140fb610>>: AssertionError: Bad argument number for Name: 3, expecting 4\n",
      "WARNING:tensorflow:Entity <bound method BatchNormalization.call of <tensorflow.python.layers.normalization.BatchNormalization object at 0x7ff5fc75aad0>> could not be transformed and will be executed as-is. Please report this to the AutgoGraph team. When filing the bug, set the verbosity to 10 (on Linux, `export AUTOGRAPH_VERBOSITY=10`) and attach the full output. Cause: converting <bound method BatchNormalization.call of <tensorflow.python.layers.normalization.BatchNormalization object at 0x7ff5fc75aad0>>: AssertionError: Bad argument number for Name: 3, expecting 4\n"
     ]
    },
    {
     "name": "stderr",
     "output_type": "stream",
     "text": [
      "W0703 16:37:43.604851 140698822833920 ag_logging.py:145] Entity <bound method BatchNormalization.call of <tensorflow.python.layers.normalization.BatchNormalization object at 0x7ff5fc75aad0>> could not be transformed and will be executed as-is. Please report this to the AutgoGraph team. When filing the bug, set the verbosity to 10 (on Linux, `export AUTOGRAPH_VERBOSITY=10`) and attach the full output. Cause: converting <bound method BatchNormalization.call of <tensorflow.python.layers.normalization.BatchNormalization object at 0x7ff5fc75aad0>>: AssertionError: Bad argument number for Name: 3, expecting 4\n"
     ]
    },
    {
     "name": "stdout",
     "output_type": "stream",
     "text": [
      "WARNING: Entity <bound method BatchNormalization.call of <tensorflow.python.layers.normalization.BatchNormalization object at 0x7ff5fc75aad0>> could not be transformed and will be executed as-is. Please report this to the AutgoGraph team. When filing the bug, set the verbosity to 10 (on Linux, `export AUTOGRAPH_VERBOSITY=10`) and attach the full output. Cause: converting <bound method BatchNormalization.call of <tensorflow.python.layers.normalization.BatchNormalization object at 0x7ff5fc75aad0>>: AssertionError: Bad argument number for Name: 3, expecting 4\n",
      "WARNING:tensorflow:Entity <bound method Conv.call of <tensorflow.python.layers.convolutional.Conv2D object at 0x7ff6143f6410>> could not be transformed and will be executed as-is. Please report this to the AutgoGraph team. When filing the bug, set the verbosity to 10 (on Linux, `export AUTOGRAPH_VERBOSITY=10`) and attach the full output. Cause: converting <bound method Conv.call of <tensorflow.python.layers.convolutional.Conv2D object at 0x7ff6143f6410>>: AssertionError: Bad argument number for Name: 3, expecting 4\n"
     ]
    },
    {
     "name": "stderr",
     "output_type": "stream",
     "text": [
      "W0703 16:37:43.665458 140698822833920 ag_logging.py:145] Entity <bound method Conv.call of <tensorflow.python.layers.convolutional.Conv2D object at 0x7ff6143f6410>> could not be transformed and will be executed as-is. Please report this to the AutgoGraph team. When filing the bug, set the verbosity to 10 (on Linux, `export AUTOGRAPH_VERBOSITY=10`) and attach the full output. Cause: converting <bound method Conv.call of <tensorflow.python.layers.convolutional.Conv2D object at 0x7ff6143f6410>>: AssertionError: Bad argument number for Name: 3, expecting 4\n"
     ]
    },
    {
     "name": "stdout",
     "output_type": "stream",
     "text": [
      "WARNING: Entity <bound method Conv.call of <tensorflow.python.layers.convolutional.Conv2D object at 0x7ff6143f6410>> could not be transformed and will be executed as-is. Please report this to the AutgoGraph team. When filing the bug, set the verbosity to 10 (on Linux, `export AUTOGRAPH_VERBOSITY=10`) and attach the full output. Cause: converting <bound method Conv.call of <tensorflow.python.layers.convolutional.Conv2D object at 0x7ff6143f6410>>: AssertionError: Bad argument number for Name: 3, expecting 4\n",
      "WARNING:tensorflow:Entity <bound method BatchNormalization.call of <tensorflow.python.layers.normalization.BatchNormalization object at 0x7ff5fc6c8090>> could not be transformed and will be executed as-is. Please report this to the AutgoGraph team. When filing the bug, set the verbosity to 10 (on Linux, `export AUTOGRAPH_VERBOSITY=10`) and attach the full output. Cause: converting <bound method BatchNormalization.call of <tensorflow.python.layers.normalization.BatchNormalization object at 0x7ff5fc6c8090>>: AssertionError: Bad argument number for Name: 3, expecting 4\n"
     ]
    },
    {
     "name": "stderr",
     "output_type": "stream",
     "text": [
      "W0703 16:37:43.687704 140698822833920 ag_logging.py:145] Entity <bound method BatchNormalization.call of <tensorflow.python.layers.normalization.BatchNormalization object at 0x7ff5fc6c8090>> could not be transformed and will be executed as-is. Please report this to the AutgoGraph team. When filing the bug, set the verbosity to 10 (on Linux, `export AUTOGRAPH_VERBOSITY=10`) and attach the full output. Cause: converting <bound method BatchNormalization.call of <tensorflow.python.layers.normalization.BatchNormalization object at 0x7ff5fc6c8090>>: AssertionError: Bad argument number for Name: 3, expecting 4\n"
     ]
    },
    {
     "name": "stdout",
     "output_type": "stream",
     "text": [
      "WARNING: Entity <bound method BatchNormalization.call of <tensorflow.python.layers.normalization.BatchNormalization object at 0x7ff5fc6c8090>> could not be transformed and will be executed as-is. Please report this to the AutgoGraph team. When filing the bug, set the verbosity to 10 (on Linux, `export AUTOGRAPH_VERBOSITY=10`) and attach the full output. Cause: converting <bound method BatchNormalization.call of <tensorflow.python.layers.normalization.BatchNormalization object at 0x7ff5fc6c8090>>: AssertionError: Bad argument number for Name: 3, expecting 4\n",
      "WARNING:tensorflow:Entity <bound method Conv.call of <tensorflow.python.layers.convolutional.Conv2D object at 0x7ff6143f6ad0>> could not be transformed and will be executed as-is. Please report this to the AutgoGraph team. When filing the bug, set the verbosity to 10 (on Linux, `export AUTOGRAPH_VERBOSITY=10`) and attach the full output. Cause: converting <bound method Conv.call of <tensorflow.python.layers.convolutional.Conv2D object at 0x7ff6143f6ad0>>: AssertionError: Bad argument number for Name: 3, expecting 4\n"
     ]
    },
    {
     "name": "stderr",
     "output_type": "stream",
     "text": [
      "W0703 16:37:43.746487 140698822833920 ag_logging.py:145] Entity <bound method Conv.call of <tensorflow.python.layers.convolutional.Conv2D object at 0x7ff6143f6ad0>> could not be transformed and will be executed as-is. Please report this to the AutgoGraph team. When filing the bug, set the verbosity to 10 (on Linux, `export AUTOGRAPH_VERBOSITY=10`) and attach the full output. Cause: converting <bound method Conv.call of <tensorflow.python.layers.convolutional.Conv2D object at 0x7ff6143f6ad0>>: AssertionError: Bad argument number for Name: 3, expecting 4\n"
     ]
    },
    {
     "name": "stdout",
     "output_type": "stream",
     "text": [
      "WARNING: Entity <bound method Conv.call of <tensorflow.python.layers.convolutional.Conv2D object at 0x7ff6143f6ad0>> could not be transformed and will be executed as-is. Please report this to the AutgoGraph team. When filing the bug, set the verbosity to 10 (on Linux, `export AUTOGRAPH_VERBOSITY=10`) and attach the full output. Cause: converting <bound method Conv.call of <tensorflow.python.layers.convolutional.Conv2D object at 0x7ff6143f6ad0>>: AssertionError: Bad argument number for Name: 3, expecting 4\n",
      "WARNING:tensorflow:Entity <bound method BatchNormalization.call of <tensorflow.python.layers.normalization.BatchNormalization object at 0x7ff5fc6a6350>> could not be transformed and will be executed as-is. Please report this to the AutgoGraph team. When filing the bug, set the verbosity to 10 (on Linux, `export AUTOGRAPH_VERBOSITY=10`) and attach the full output. Cause: converting <bound method BatchNormalization.call of <tensorflow.python.layers.normalization.BatchNormalization object at 0x7ff5fc6a6350>>: AssertionError: Bad argument number for Name: 3, expecting 4\n"
     ]
    },
    {
     "name": "stderr",
     "output_type": "stream",
     "text": [
      "W0703 16:37:43.768705 140698822833920 ag_logging.py:145] Entity <bound method BatchNormalization.call of <tensorflow.python.layers.normalization.BatchNormalization object at 0x7ff5fc6a6350>> could not be transformed and will be executed as-is. Please report this to the AutgoGraph team. When filing the bug, set the verbosity to 10 (on Linux, `export AUTOGRAPH_VERBOSITY=10`) and attach the full output. Cause: converting <bound method BatchNormalization.call of <tensorflow.python.layers.normalization.BatchNormalization object at 0x7ff5fc6a6350>>: AssertionError: Bad argument number for Name: 3, expecting 4\n"
     ]
    },
    {
     "name": "stdout",
     "output_type": "stream",
     "text": [
      "WARNING: Entity <bound method BatchNormalization.call of <tensorflow.python.layers.normalization.BatchNormalization object at 0x7ff5fc6a6350>> could not be transformed and will be executed as-is. Please report this to the AutgoGraph team. When filing the bug, set the verbosity to 10 (on Linux, `export AUTOGRAPH_VERBOSITY=10`) and attach the full output. Cause: converting <bound method BatchNormalization.call of <tensorflow.python.layers.normalization.BatchNormalization object at 0x7ff5fc6a6350>>: AssertionError: Bad argument number for Name: 3, expecting 4\n",
      "WARNING:tensorflow:Entity <bound method Conv.call of <tensorflow.python.layers.convolutional.Conv2D object at 0x7ff614442c90>> could not be transformed and will be executed as-is. Please report this to the AutgoGraph team. When filing the bug, set the verbosity to 10 (on Linux, `export AUTOGRAPH_VERBOSITY=10`) and attach the full output. Cause: converting <bound method Conv.call of <tensorflow.python.layers.convolutional.Conv2D object at 0x7ff614442c90>>: AssertionError: Bad argument number for Name: 3, expecting 4\n"
     ]
    },
    {
     "name": "stderr",
     "output_type": "stream",
     "text": [
      "W0703 16:37:43.826858 140698822833920 ag_logging.py:145] Entity <bound method Conv.call of <tensorflow.python.layers.convolutional.Conv2D object at 0x7ff614442c90>> could not be transformed and will be executed as-is. Please report this to the AutgoGraph team. When filing the bug, set the verbosity to 10 (on Linux, `export AUTOGRAPH_VERBOSITY=10`) and attach the full output. Cause: converting <bound method Conv.call of <tensorflow.python.layers.convolutional.Conv2D object at 0x7ff614442c90>>: AssertionError: Bad argument number for Name: 3, expecting 4\n"
     ]
    },
    {
     "name": "stdout",
     "output_type": "stream",
     "text": [
      "WARNING: Entity <bound method Conv.call of <tensorflow.python.layers.convolutional.Conv2D object at 0x7ff614442c90>> could not be transformed and will be executed as-is. Please report this to the AutgoGraph team. When filing the bug, set the verbosity to 10 (on Linux, `export AUTOGRAPH_VERBOSITY=10`) and attach the full output. Cause: converting <bound method Conv.call of <tensorflow.python.layers.convolutional.Conv2D object at 0x7ff614442c90>>: AssertionError: Bad argument number for Name: 3, expecting 4\n",
      "WARNING:tensorflow:Entity <bound method BatchNormalization.call of <tensorflow.python.layers.normalization.BatchNormalization object at 0x7ff5fc6c3850>> could not be transformed and will be executed as-is. Please report this to the AutgoGraph team. When filing the bug, set the verbosity to 10 (on Linux, `export AUTOGRAPH_VERBOSITY=10`) and attach the full output. Cause: converting <bound method BatchNormalization.call of <tensorflow.python.layers.normalization.BatchNormalization object at 0x7ff5fc6c3850>>: AssertionError: Bad argument number for Name: 3, expecting 4\n"
     ]
    },
    {
     "name": "stderr",
     "output_type": "stream",
     "text": [
      "W0703 16:37:43.848984 140698822833920 ag_logging.py:145] Entity <bound method BatchNormalization.call of <tensorflow.python.layers.normalization.BatchNormalization object at 0x7ff5fc6c3850>> could not be transformed and will be executed as-is. Please report this to the AutgoGraph team. When filing the bug, set the verbosity to 10 (on Linux, `export AUTOGRAPH_VERBOSITY=10`) and attach the full output. Cause: converting <bound method BatchNormalization.call of <tensorflow.python.layers.normalization.BatchNormalization object at 0x7ff5fc6c3850>>: AssertionError: Bad argument number for Name: 3, expecting 4\n"
     ]
    },
    {
     "name": "stdout",
     "output_type": "stream",
     "text": [
      "WARNING: Entity <bound method BatchNormalization.call of <tensorflow.python.layers.normalization.BatchNormalization object at 0x7ff5fc6c3850>> could not be transformed and will be executed as-is. Please report this to the AutgoGraph team. When filing the bug, set the verbosity to 10 (on Linux, `export AUTOGRAPH_VERBOSITY=10`) and attach the full output. Cause: converting <bound method BatchNormalization.call of <tensorflow.python.layers.normalization.BatchNormalization object at 0x7ff5fc6c3850>>: AssertionError: Bad argument number for Name: 3, expecting 4\n",
      "WARNING:tensorflow:Entity <bound method Conv.call of <tensorflow.python.layers.convolutional.Conv2D object at 0x7ff61450b9d0>> could not be transformed and will be executed as-is. Please report this to the AutgoGraph team. When filing the bug, set the verbosity to 10 (on Linux, `export AUTOGRAPH_VERBOSITY=10`) and attach the full output. Cause: converting <bound method Conv.call of <tensorflow.python.layers.convolutional.Conv2D object at 0x7ff61450b9d0>>: AssertionError: Bad argument number for Name: 3, expecting 4\n"
     ]
    },
    {
     "name": "stderr",
     "output_type": "stream",
     "text": [
      "W0703 16:37:43.909208 140698822833920 ag_logging.py:145] Entity <bound method Conv.call of <tensorflow.python.layers.convolutional.Conv2D object at 0x7ff61450b9d0>> could not be transformed and will be executed as-is. Please report this to the AutgoGraph team. When filing the bug, set the verbosity to 10 (on Linux, `export AUTOGRAPH_VERBOSITY=10`) and attach the full output. Cause: converting <bound method Conv.call of <tensorflow.python.layers.convolutional.Conv2D object at 0x7ff61450b9d0>>: AssertionError: Bad argument number for Name: 3, expecting 4\n"
     ]
    },
    {
     "name": "stdout",
     "output_type": "stream",
     "text": [
      "WARNING: Entity <bound method Conv.call of <tensorflow.python.layers.convolutional.Conv2D object at 0x7ff61450b9d0>> could not be transformed and will be executed as-is. Please report this to the AutgoGraph team. When filing the bug, set the verbosity to 10 (on Linux, `export AUTOGRAPH_VERBOSITY=10`) and attach the full output. Cause: converting <bound method Conv.call of <tensorflow.python.layers.convolutional.Conv2D object at 0x7ff61450b9d0>>: AssertionError: Bad argument number for Name: 3, expecting 4\n",
      "WARNING:tensorflow:Entity <bound method BatchNormalization.call of <tensorflow.python.layers.normalization.BatchNormalization object at 0x7ff5fc5e8b10>> could not be transformed and will be executed as-is. Please report this to the AutgoGraph team. When filing the bug, set the verbosity to 10 (on Linux, `export AUTOGRAPH_VERBOSITY=10`) and attach the full output. Cause: converting <bound method BatchNormalization.call of <tensorflow.python.layers.normalization.BatchNormalization object at 0x7ff5fc5e8b10>>: AssertionError: Bad argument number for Name: 3, expecting 4\n"
     ]
    },
    {
     "name": "stderr",
     "output_type": "stream",
     "text": [
      "W0703 16:37:43.931447 140698822833920 ag_logging.py:145] Entity <bound method BatchNormalization.call of <tensorflow.python.layers.normalization.BatchNormalization object at 0x7ff5fc5e8b10>> could not be transformed and will be executed as-is. Please report this to the AutgoGraph team. When filing the bug, set the verbosity to 10 (on Linux, `export AUTOGRAPH_VERBOSITY=10`) and attach the full output. Cause: converting <bound method BatchNormalization.call of <tensorflow.python.layers.normalization.BatchNormalization object at 0x7ff5fc5e8b10>>: AssertionError: Bad argument number for Name: 3, expecting 4\n"
     ]
    },
    {
     "name": "stdout",
     "output_type": "stream",
     "text": [
      "WARNING: Entity <bound method BatchNormalization.call of <tensorflow.python.layers.normalization.BatchNormalization object at 0x7ff5fc5e8b10>> could not be transformed and will be executed as-is. Please report this to the AutgoGraph team. When filing the bug, set the verbosity to 10 (on Linux, `export AUTOGRAPH_VERBOSITY=10`) and attach the full output. Cause: converting <bound method BatchNormalization.call of <tensorflow.python.layers.normalization.BatchNormalization object at 0x7ff5fc5e8b10>>: AssertionError: Bad argument number for Name: 3, expecting 4\n",
      "WARNING:tensorflow:Entity <bound method Pooling2D.call of <tensorflow.python.layers.pooling.AveragePooling2D object at 0x7ff6140802d0>> could not be transformed and will be executed as-is. Please report this to the AutgoGraph team. When filing the bug, set the verbosity to 10 (on Linux, `export AUTOGRAPH_VERBOSITY=10`) and attach the full output. Cause: converting <bound method Pooling2D.call of <tensorflow.python.layers.pooling.AveragePooling2D object at 0x7ff6140802d0>>: AssertionError: Bad argument number for Name: 3, expecting 4\n"
     ]
    },
    {
     "name": "stderr",
     "output_type": "stream",
     "text": [
      "W0703 16:37:43.970688 140698822833920 ag_logging.py:145] Entity <bound method Pooling2D.call of <tensorflow.python.layers.pooling.AveragePooling2D object at 0x7ff6140802d0>> could not be transformed and will be executed as-is. Please report this to the AutgoGraph team. When filing the bug, set the verbosity to 10 (on Linux, `export AUTOGRAPH_VERBOSITY=10`) and attach the full output. Cause: converting <bound method Pooling2D.call of <tensorflow.python.layers.pooling.AveragePooling2D object at 0x7ff6140802d0>>: AssertionError: Bad argument number for Name: 3, expecting 4\n"
     ]
    },
    {
     "name": "stdout",
     "output_type": "stream",
     "text": [
      "WARNING: Entity <bound method Pooling2D.call of <tensorflow.python.layers.pooling.AveragePooling2D object at 0x7ff6140802d0>> could not be transformed and will be executed as-is. Please report this to the AutgoGraph team. When filing the bug, set the verbosity to 10 (on Linux, `export AUTOGRAPH_VERBOSITY=10`) and attach the full output. Cause: converting <bound method Pooling2D.call of <tensorflow.python.layers.pooling.AveragePooling2D object at 0x7ff6140802d0>>: AssertionError: Bad argument number for Name: 3, expecting 4\n",
      "WARNING:tensorflow:Entity <bound method Conv.call of <tensorflow.python.layers.convolutional.Conv2D object at 0x7ff61404b510>> could not be transformed and will be executed as-is. Please report this to the AutgoGraph team. When filing the bug, set the verbosity to 10 (on Linux, `export AUTOGRAPH_VERBOSITY=10`) and attach the full output. Cause: converting <bound method Conv.call of <tensorflow.python.layers.convolutional.Conv2D object at 0x7ff61404b510>>: AssertionError: Bad argument number for Name: 3, expecting 4\n"
     ]
    },
    {
     "name": "stderr",
     "output_type": "stream",
     "text": [
      "W0703 16:37:44.031208 140698822833920 ag_logging.py:145] Entity <bound method Conv.call of <tensorflow.python.layers.convolutional.Conv2D object at 0x7ff61404b510>> could not be transformed and will be executed as-is. Please report this to the AutgoGraph team. When filing the bug, set the verbosity to 10 (on Linux, `export AUTOGRAPH_VERBOSITY=10`) and attach the full output. Cause: converting <bound method Conv.call of <tensorflow.python.layers.convolutional.Conv2D object at 0x7ff61404b510>>: AssertionError: Bad argument number for Name: 3, expecting 4\n"
     ]
    },
    {
     "name": "stdout",
     "output_type": "stream",
     "text": [
      "WARNING: Entity <bound method Conv.call of <tensorflow.python.layers.convolutional.Conv2D object at 0x7ff61404b510>> could not be transformed and will be executed as-is. Please report this to the AutgoGraph team. When filing the bug, set the verbosity to 10 (on Linux, `export AUTOGRAPH_VERBOSITY=10`) and attach the full output. Cause: converting <bound method Conv.call of <tensorflow.python.layers.convolutional.Conv2D object at 0x7ff61404b510>>: AssertionError: Bad argument number for Name: 3, expecting 4\n",
      "WARNING:tensorflow:Entity <bound method BatchNormalization.call of <tensorflow.python.layers.normalization.BatchNormalization object at 0x7ff5fc5e1350>> could not be transformed and will be executed as-is. Please report this to the AutgoGraph team. When filing the bug, set the verbosity to 10 (on Linux, `export AUTOGRAPH_VERBOSITY=10`) and attach the full output. Cause: converting <bound method BatchNormalization.call of <tensorflow.python.layers.normalization.BatchNormalization object at 0x7ff5fc5e1350>>: AssertionError: Bad argument number for Name: 3, expecting 4\n"
     ]
    },
    {
     "name": "stderr",
     "output_type": "stream",
     "text": [
      "W0703 16:37:44.053832 140698822833920 ag_logging.py:145] Entity <bound method BatchNormalization.call of <tensorflow.python.layers.normalization.BatchNormalization object at 0x7ff5fc5e1350>> could not be transformed and will be executed as-is. Please report this to the AutgoGraph team. When filing the bug, set the verbosity to 10 (on Linux, `export AUTOGRAPH_VERBOSITY=10`) and attach the full output. Cause: converting <bound method BatchNormalization.call of <tensorflow.python.layers.normalization.BatchNormalization object at 0x7ff5fc5e1350>>: AssertionError: Bad argument number for Name: 3, expecting 4\n"
     ]
    },
    {
     "name": "stdout",
     "output_type": "stream",
     "text": [
      "WARNING: Entity <bound method BatchNormalization.call of <tensorflow.python.layers.normalization.BatchNormalization object at 0x7ff5fc5e1350>> could not be transformed and will be executed as-is. Please report this to the AutgoGraph team. When filing the bug, set the verbosity to 10 (on Linux, `export AUTOGRAPH_VERBOSITY=10`) and attach the full output. Cause: converting <bound method BatchNormalization.call of <tensorflow.python.layers.normalization.BatchNormalization object at 0x7ff5fc5e1350>>: AssertionError: Bad argument number for Name: 3, expecting 4\n",
      "WARNING:tensorflow:Entity <bound method Conv.call of <tensorflow.python.layers.convolutional.Conv2D object at 0x7ff62c1f9bd0>> could not be transformed and will be executed as-is. Please report this to the AutgoGraph team. When filing the bug, set the verbosity to 10 (on Linux, `export AUTOGRAPH_VERBOSITY=10`) and attach the full output. Cause: converting <bound method Conv.call of <tensorflow.python.layers.convolutional.Conv2D object at 0x7ff62c1f9bd0>>: AssertionError: Bad argument number for Name: 3, expecting 4\n"
     ]
    },
    {
     "name": "stderr",
     "output_type": "stream",
     "text": [
      "W0703 16:37:44.115620 140698822833920 ag_logging.py:145] Entity <bound method Conv.call of <tensorflow.python.layers.convolutional.Conv2D object at 0x7ff62c1f9bd0>> could not be transformed and will be executed as-is. Please report this to the AutgoGraph team. When filing the bug, set the verbosity to 10 (on Linux, `export AUTOGRAPH_VERBOSITY=10`) and attach the full output. Cause: converting <bound method Conv.call of <tensorflow.python.layers.convolutional.Conv2D object at 0x7ff62c1f9bd0>>: AssertionError: Bad argument number for Name: 3, expecting 4\n"
     ]
    },
    {
     "name": "stdout",
     "output_type": "stream",
     "text": [
      "WARNING: Entity <bound method Conv.call of <tensorflow.python.layers.convolutional.Conv2D object at 0x7ff62c1f9bd0>> could not be transformed and will be executed as-is. Please report this to the AutgoGraph team. When filing the bug, set the verbosity to 10 (on Linux, `export AUTOGRAPH_VERBOSITY=10`) and attach the full output. Cause: converting <bound method Conv.call of <tensorflow.python.layers.convolutional.Conv2D object at 0x7ff62c1f9bd0>>: AssertionError: Bad argument number for Name: 3, expecting 4\n",
      "WARNING:tensorflow:Entity <bound method BatchNormalization.call of <tensorflow.python.layers.normalization.BatchNormalization object at 0x7ff5fc53efd0>> could not be transformed and will be executed as-is. Please report this to the AutgoGraph team. When filing the bug, set the verbosity to 10 (on Linux, `export AUTOGRAPH_VERBOSITY=10`) and attach the full output. Cause: converting <bound method BatchNormalization.call of <tensorflow.python.layers.normalization.BatchNormalization object at 0x7ff5fc53efd0>>: AssertionError: Bad argument number for Name: 3, expecting 4\n"
     ]
    },
    {
     "name": "stderr",
     "output_type": "stream",
     "text": [
      "W0703 16:37:44.137873 140698822833920 ag_logging.py:145] Entity <bound method BatchNormalization.call of <tensorflow.python.layers.normalization.BatchNormalization object at 0x7ff5fc53efd0>> could not be transformed and will be executed as-is. Please report this to the AutgoGraph team. When filing the bug, set the verbosity to 10 (on Linux, `export AUTOGRAPH_VERBOSITY=10`) and attach the full output. Cause: converting <bound method BatchNormalization.call of <tensorflow.python.layers.normalization.BatchNormalization object at 0x7ff5fc53efd0>>: AssertionError: Bad argument number for Name: 3, expecting 4\n"
     ]
    },
    {
     "name": "stdout",
     "output_type": "stream",
     "text": [
      "WARNING: Entity <bound method BatchNormalization.call of <tensorflow.python.layers.normalization.BatchNormalization object at 0x7ff5fc53efd0>> could not be transformed and will be executed as-is. Please report this to the AutgoGraph team. When filing the bug, set the verbosity to 10 (on Linux, `export AUTOGRAPH_VERBOSITY=10`) and attach the full output. Cause: converting <bound method BatchNormalization.call of <tensorflow.python.layers.normalization.BatchNormalization object at 0x7ff5fc53efd0>>: AssertionError: Bad argument number for Name: 3, expecting 4\n",
      "WARNING:tensorflow:Entity <bound method Conv.call of <tensorflow.python.layers.convolutional.Conv2D object at 0x7ff5fc6032d0>> could not be transformed and will be executed as-is. Please report this to the AutgoGraph team. When filing the bug, set the verbosity to 10 (on Linux, `export AUTOGRAPH_VERBOSITY=10`) and attach the full output. Cause: converting <bound method Conv.call of <tensorflow.python.layers.convolutional.Conv2D object at 0x7ff5fc6032d0>>: AssertionError: Bad argument number for Name: 3, expecting 4\n"
     ]
    },
    {
     "name": "stderr",
     "output_type": "stream",
     "text": [
      "W0703 16:37:44.196251 140698822833920 ag_logging.py:145] Entity <bound method Conv.call of <tensorflow.python.layers.convolutional.Conv2D object at 0x7ff5fc6032d0>> could not be transformed and will be executed as-is. Please report this to the AutgoGraph team. When filing the bug, set the verbosity to 10 (on Linux, `export AUTOGRAPH_VERBOSITY=10`) and attach the full output. Cause: converting <bound method Conv.call of <tensorflow.python.layers.convolutional.Conv2D object at 0x7ff5fc6032d0>>: AssertionError: Bad argument number for Name: 3, expecting 4\n"
     ]
    },
    {
     "name": "stdout",
     "output_type": "stream",
     "text": [
      "WARNING: Entity <bound method Conv.call of <tensorflow.python.layers.convolutional.Conv2D object at 0x7ff5fc6032d0>> could not be transformed and will be executed as-is. Please report this to the AutgoGraph team. When filing the bug, set the verbosity to 10 (on Linux, `export AUTOGRAPH_VERBOSITY=10`) and attach the full output. Cause: converting <bound method Conv.call of <tensorflow.python.layers.convolutional.Conv2D object at 0x7ff5fc6032d0>>: AssertionError: Bad argument number for Name: 3, expecting 4\n",
      "WARNING:tensorflow:Entity <bound method BatchNormalization.call of <tensorflow.python.layers.normalization.BatchNormalization object at 0x7ff5fc75aed0>> could not be transformed and will be executed as-is. Please report this to the AutgoGraph team. When filing the bug, set the verbosity to 10 (on Linux, `export AUTOGRAPH_VERBOSITY=10`) and attach the full output. Cause: converting <bound method BatchNormalization.call of <tensorflow.python.layers.normalization.BatchNormalization object at 0x7ff5fc75aed0>>: AssertionError: Bad argument number for Name: 3, expecting 4\n"
     ]
    },
    {
     "name": "stderr",
     "output_type": "stream",
     "text": [
      "W0703 16:37:44.218758 140698822833920 ag_logging.py:145] Entity <bound method BatchNormalization.call of <tensorflow.python.layers.normalization.BatchNormalization object at 0x7ff5fc75aed0>> could not be transformed and will be executed as-is. Please report this to the AutgoGraph team. When filing the bug, set the verbosity to 10 (on Linux, `export AUTOGRAPH_VERBOSITY=10`) and attach the full output. Cause: converting <bound method BatchNormalization.call of <tensorflow.python.layers.normalization.BatchNormalization object at 0x7ff5fc75aed0>>: AssertionError: Bad argument number for Name: 3, expecting 4\n"
     ]
    },
    {
     "name": "stdout",
     "output_type": "stream",
     "text": [
      "WARNING: Entity <bound method BatchNormalization.call of <tensorflow.python.layers.normalization.BatchNormalization object at 0x7ff5fc75aed0>> could not be transformed and will be executed as-is. Please report this to the AutgoGraph team. When filing the bug, set the verbosity to 10 (on Linux, `export AUTOGRAPH_VERBOSITY=10`) and attach the full output. Cause: converting <bound method BatchNormalization.call of <tensorflow.python.layers.normalization.BatchNormalization object at 0x7ff5fc75aed0>>: AssertionError: Bad argument number for Name: 3, expecting 4\n",
      "WARNING:tensorflow:Entity <bound method Conv.call of <tensorflow.python.layers.convolutional.Conv2D object at 0x7ff614206a10>> could not be transformed and will be executed as-is. Please report this to the AutgoGraph team. When filing the bug, set the verbosity to 10 (on Linux, `export AUTOGRAPH_VERBOSITY=10`) and attach the full output. Cause: converting <bound method Conv.call of <tensorflow.python.layers.convolutional.Conv2D object at 0x7ff614206a10>>: AssertionError: Bad argument number for Name: 3, expecting 4\n"
     ]
    },
    {
     "name": "stderr",
     "output_type": "stream",
     "text": [
      "W0703 16:37:44.278041 140698822833920 ag_logging.py:145] Entity <bound method Conv.call of <tensorflow.python.layers.convolutional.Conv2D object at 0x7ff614206a10>> could not be transformed and will be executed as-is. Please report this to the AutgoGraph team. When filing the bug, set the verbosity to 10 (on Linux, `export AUTOGRAPH_VERBOSITY=10`) and attach the full output. Cause: converting <bound method Conv.call of <tensorflow.python.layers.convolutional.Conv2D object at 0x7ff614206a10>>: AssertionError: Bad argument number for Name: 3, expecting 4\n"
     ]
    },
    {
     "name": "stdout",
     "output_type": "stream",
     "text": [
      "WARNING: Entity <bound method Conv.call of <tensorflow.python.layers.convolutional.Conv2D object at 0x7ff614206a10>> could not be transformed and will be executed as-is. Please report this to the AutgoGraph team. When filing the bug, set the verbosity to 10 (on Linux, `export AUTOGRAPH_VERBOSITY=10`) and attach the full output. Cause: converting <bound method Conv.call of <tensorflow.python.layers.convolutional.Conv2D object at 0x7ff614206a10>>: AssertionError: Bad argument number for Name: 3, expecting 4\n",
      "WARNING:tensorflow:Entity <bound method BatchNormalization.call of <tensorflow.python.layers.normalization.BatchNormalization object at 0x7ff5fc544c90>> could not be transformed and will be executed as-is. Please report this to the AutgoGraph team. When filing the bug, set the verbosity to 10 (on Linux, `export AUTOGRAPH_VERBOSITY=10`) and attach the full output. Cause: converting <bound method BatchNormalization.call of <tensorflow.python.layers.normalization.BatchNormalization object at 0x7ff5fc544c90>>: AssertionError: Bad argument number for Name: 3, expecting 4\n"
     ]
    },
    {
     "name": "stderr",
     "output_type": "stream",
     "text": [
      "W0703 16:37:44.300238 140698822833920 ag_logging.py:145] Entity <bound method BatchNormalization.call of <tensorflow.python.layers.normalization.BatchNormalization object at 0x7ff5fc544c90>> could not be transformed and will be executed as-is. Please report this to the AutgoGraph team. When filing the bug, set the verbosity to 10 (on Linux, `export AUTOGRAPH_VERBOSITY=10`) and attach the full output. Cause: converting <bound method BatchNormalization.call of <tensorflow.python.layers.normalization.BatchNormalization object at 0x7ff5fc544c90>>: AssertionError: Bad argument number for Name: 3, expecting 4\n"
     ]
    },
    {
     "name": "stdout",
     "output_type": "stream",
     "text": [
      "WARNING: Entity <bound method BatchNormalization.call of <tensorflow.python.layers.normalization.BatchNormalization object at 0x7ff5fc544c90>> could not be transformed and will be executed as-is. Please report this to the AutgoGraph team. When filing the bug, set the verbosity to 10 (on Linux, `export AUTOGRAPH_VERBOSITY=10`) and attach the full output. Cause: converting <bound method BatchNormalization.call of <tensorflow.python.layers.normalization.BatchNormalization object at 0x7ff5fc544c90>>: AssertionError: Bad argument number for Name: 3, expecting 4\n",
      "WARNING:tensorflow:Entity <bound method Conv.call of <tensorflow.python.layers.convolutional.Conv2D object at 0x7ff5fc5b2f50>> could not be transformed and will be executed as-is. Please report this to the AutgoGraph team. When filing the bug, set the verbosity to 10 (on Linux, `export AUTOGRAPH_VERBOSITY=10`) and attach the full output. Cause: converting <bound method Conv.call of <tensorflow.python.layers.convolutional.Conv2D object at 0x7ff5fc5b2f50>>: AssertionError: Bad argument number for Name: 3, expecting 4\n"
     ]
    },
    {
     "name": "stderr",
     "output_type": "stream",
     "text": [
      "W0703 16:37:44.358420 140698822833920 ag_logging.py:145] Entity <bound method Conv.call of <tensorflow.python.layers.convolutional.Conv2D object at 0x7ff5fc5b2f50>> could not be transformed and will be executed as-is. Please report this to the AutgoGraph team. When filing the bug, set the verbosity to 10 (on Linux, `export AUTOGRAPH_VERBOSITY=10`) and attach the full output. Cause: converting <bound method Conv.call of <tensorflow.python.layers.convolutional.Conv2D object at 0x7ff5fc5b2f50>>: AssertionError: Bad argument number for Name: 3, expecting 4\n"
     ]
    },
    {
     "name": "stdout",
     "output_type": "stream",
     "text": [
      "WARNING: Entity <bound method Conv.call of <tensorflow.python.layers.convolutional.Conv2D object at 0x7ff5fc5b2f50>> could not be transformed and will be executed as-is. Please report this to the AutgoGraph team. When filing the bug, set the verbosity to 10 (on Linux, `export AUTOGRAPH_VERBOSITY=10`) and attach the full output. Cause: converting <bound method Conv.call of <tensorflow.python.layers.convolutional.Conv2D object at 0x7ff5fc5b2f50>>: AssertionError: Bad argument number for Name: 3, expecting 4\n",
      "WARNING:tensorflow:Entity <bound method BatchNormalization.call of <tensorflow.python.layers.normalization.BatchNormalization object at 0x7ff5fc461790>> could not be transformed and will be executed as-is. Please report this to the AutgoGraph team. When filing the bug, set the verbosity to 10 (on Linux, `export AUTOGRAPH_VERBOSITY=10`) and attach the full output. Cause: converting <bound method BatchNormalization.call of <tensorflow.python.layers.normalization.BatchNormalization object at 0x7ff5fc461790>>: AssertionError: Bad argument number for Name: 3, expecting 4\n"
     ]
    },
    {
     "name": "stderr",
     "output_type": "stream",
     "text": [
      "W0703 16:37:44.380635 140698822833920 ag_logging.py:145] Entity <bound method BatchNormalization.call of <tensorflow.python.layers.normalization.BatchNormalization object at 0x7ff5fc461790>> could not be transformed and will be executed as-is. Please report this to the AutgoGraph team. When filing the bug, set the verbosity to 10 (on Linux, `export AUTOGRAPH_VERBOSITY=10`) and attach the full output. Cause: converting <bound method BatchNormalization.call of <tensorflow.python.layers.normalization.BatchNormalization object at 0x7ff5fc461790>>: AssertionError: Bad argument number for Name: 3, expecting 4\n"
     ]
    },
    {
     "name": "stdout",
     "output_type": "stream",
     "text": [
      "WARNING: Entity <bound method BatchNormalization.call of <tensorflow.python.layers.normalization.BatchNormalization object at 0x7ff5fc461790>> could not be transformed and will be executed as-is. Please report this to the AutgoGraph team. When filing the bug, set the verbosity to 10 (on Linux, `export AUTOGRAPH_VERBOSITY=10`) and attach the full output. Cause: converting <bound method BatchNormalization.call of <tensorflow.python.layers.normalization.BatchNormalization object at 0x7ff5fc461790>>: AssertionError: Bad argument number for Name: 3, expecting 4\n",
      "WARNING:tensorflow:Entity <bound method Pooling2D.call of <tensorflow.python.layers.pooling.MaxPooling2D object at 0x7ff5fc7f20d0>> could not be transformed and will be executed as-is. Please report this to the AutgoGraph team. When filing the bug, set the verbosity to 10 (on Linux, `export AUTOGRAPH_VERBOSITY=10`) and attach the full output. Cause: converting <bound method Pooling2D.call of <tensorflow.python.layers.pooling.MaxPooling2D object at 0x7ff5fc7f20d0>>: AssertionError: Bad argument number for Name: 3, expecting 4\n"
     ]
    },
    {
     "name": "stderr",
     "output_type": "stream",
     "text": [
      "W0703 16:37:44.419880 140698822833920 ag_logging.py:145] Entity <bound method Pooling2D.call of <tensorflow.python.layers.pooling.MaxPooling2D object at 0x7ff5fc7f20d0>> could not be transformed and will be executed as-is. Please report this to the AutgoGraph team. When filing the bug, set the verbosity to 10 (on Linux, `export AUTOGRAPH_VERBOSITY=10`) and attach the full output. Cause: converting <bound method Pooling2D.call of <tensorflow.python.layers.pooling.MaxPooling2D object at 0x7ff5fc7f20d0>>: AssertionError: Bad argument number for Name: 3, expecting 4\n"
     ]
    },
    {
     "name": "stdout",
     "output_type": "stream",
     "text": [
      "WARNING: Entity <bound method Pooling2D.call of <tensorflow.python.layers.pooling.MaxPooling2D object at 0x7ff5fc7f20d0>> could not be transformed and will be executed as-is. Please report this to the AutgoGraph team. When filing the bug, set the verbosity to 10 (on Linux, `export AUTOGRAPH_VERBOSITY=10`) and attach the full output. Cause: converting <bound method Pooling2D.call of <tensorflow.python.layers.pooling.MaxPooling2D object at 0x7ff5fc7f20d0>>: AssertionError: Bad argument number for Name: 3, expecting 4\n",
      "WARNING:tensorflow:Entity <bound method Conv.call of <tensorflow.python.layers.convolutional.Conv2D object at 0x7ff5fc573d50>> could not be transformed and will be executed as-is. Please report this to the AutgoGraph team. When filing the bug, set the verbosity to 10 (on Linux, `export AUTOGRAPH_VERBOSITY=10`) and attach the full output. Cause: converting <bound method Conv.call of <tensorflow.python.layers.convolutional.Conv2D object at 0x7ff5fc573d50>>: AssertionError: Bad argument number for Name: 3, expecting 4\n"
     ]
    },
    {
     "name": "stderr",
     "output_type": "stream",
     "text": [
      "W0703 16:37:44.559468 140698822833920 ag_logging.py:145] Entity <bound method Conv.call of <tensorflow.python.layers.convolutional.Conv2D object at 0x7ff5fc573d50>> could not be transformed and will be executed as-is. Please report this to the AutgoGraph team. When filing the bug, set the verbosity to 10 (on Linux, `export AUTOGRAPH_VERBOSITY=10`) and attach the full output. Cause: converting <bound method Conv.call of <tensorflow.python.layers.convolutional.Conv2D object at 0x7ff5fc573d50>>: AssertionError: Bad argument number for Name: 3, expecting 4\n"
     ]
    },
    {
     "name": "stdout",
     "output_type": "stream",
     "text": [
      "WARNING: Entity <bound method Conv.call of <tensorflow.python.layers.convolutional.Conv2D object at 0x7ff5fc573d50>> could not be transformed and will be executed as-is. Please report this to the AutgoGraph team. When filing the bug, set the verbosity to 10 (on Linux, `export AUTOGRAPH_VERBOSITY=10`) and attach the full output. Cause: converting <bound method Conv.call of <tensorflow.python.layers.convolutional.Conv2D object at 0x7ff5fc573d50>>: AssertionError: Bad argument number for Name: 3, expecting 4\n",
      "WARNING:tensorflow:Entity <bound method BatchNormalization.call of <tensorflow.python.layers.normalization.BatchNormalization object at 0x7ff61450d250>> could not be transformed and will be executed as-is. Please report this to the AutgoGraph team. When filing the bug, set the verbosity to 10 (on Linux, `export AUTOGRAPH_VERBOSITY=10`) and attach the full output. Cause: converting <bound method BatchNormalization.call of <tensorflow.python.layers.normalization.BatchNormalization object at 0x7ff61450d250>>: AssertionError: Bad argument number for Name: 3, expecting 4\n"
     ]
    },
    {
     "name": "stderr",
     "output_type": "stream",
     "text": [
      "W0703 16:37:44.582534 140698822833920 ag_logging.py:145] Entity <bound method BatchNormalization.call of <tensorflow.python.layers.normalization.BatchNormalization object at 0x7ff61450d250>> could not be transformed and will be executed as-is. Please report this to the AutgoGraph team. When filing the bug, set the verbosity to 10 (on Linux, `export AUTOGRAPH_VERBOSITY=10`) and attach the full output. Cause: converting <bound method BatchNormalization.call of <tensorflow.python.layers.normalization.BatchNormalization object at 0x7ff61450d250>>: AssertionError: Bad argument number for Name: 3, expecting 4\n"
     ]
    },
    {
     "name": "stdout",
     "output_type": "stream",
     "text": [
      "WARNING: Entity <bound method BatchNormalization.call of <tensorflow.python.layers.normalization.BatchNormalization object at 0x7ff61450d250>> could not be transformed and will be executed as-is. Please report this to the AutgoGraph team. When filing the bug, set the verbosity to 10 (on Linux, `export AUTOGRAPH_VERBOSITY=10`) and attach the full output. Cause: converting <bound method BatchNormalization.call of <tensorflow.python.layers.normalization.BatchNormalization object at 0x7ff61450d250>>: AssertionError: Bad argument number for Name: 3, expecting 4\n",
      "WARNING:tensorflow:Entity <bound method Conv.call of <tensorflow.python.layers.convolutional.Conv2D object at 0x7ff5fc75a550>> could not be transformed and will be executed as-is. Please report this to the AutgoGraph team. When filing the bug, set the verbosity to 10 (on Linux, `export AUTOGRAPH_VERBOSITY=10`) and attach the full output. Cause: converting <bound method Conv.call of <tensorflow.python.layers.convolutional.Conv2D object at 0x7ff5fc75a550>>: AssertionError: Bad argument number for Name: 3, expecting 4\n"
     ]
    },
    {
     "name": "stderr",
     "output_type": "stream",
     "text": [
      "W0703 16:37:44.640782 140698822833920 ag_logging.py:145] Entity <bound method Conv.call of <tensorflow.python.layers.convolutional.Conv2D object at 0x7ff5fc75a550>> could not be transformed and will be executed as-is. Please report this to the AutgoGraph team. When filing the bug, set the verbosity to 10 (on Linux, `export AUTOGRAPH_VERBOSITY=10`) and attach the full output. Cause: converting <bound method Conv.call of <tensorflow.python.layers.convolutional.Conv2D object at 0x7ff5fc75a550>>: AssertionError: Bad argument number for Name: 3, expecting 4\n"
     ]
    },
    {
     "name": "stdout",
     "output_type": "stream",
     "text": [
      "WARNING: Entity <bound method Conv.call of <tensorflow.python.layers.convolutional.Conv2D object at 0x7ff5fc75a550>> could not be transformed and will be executed as-is. Please report this to the AutgoGraph team. When filing the bug, set the verbosity to 10 (on Linux, `export AUTOGRAPH_VERBOSITY=10`) and attach the full output. Cause: converting <bound method Conv.call of <tensorflow.python.layers.convolutional.Conv2D object at 0x7ff5fc75a550>>: AssertionError: Bad argument number for Name: 3, expecting 4\n",
      "WARNING:tensorflow:Entity <bound method BatchNormalization.call of <tensorflow.python.layers.normalization.BatchNormalization object at 0x7ff5fc472410>> could not be transformed and will be executed as-is. Please report this to the AutgoGraph team. When filing the bug, set the verbosity to 10 (on Linux, `export AUTOGRAPH_VERBOSITY=10`) and attach the full output. Cause: converting <bound method BatchNormalization.call of <tensorflow.python.layers.normalization.BatchNormalization object at 0x7ff5fc472410>>: AssertionError: Bad argument number for Name: 3, expecting 4\n"
     ]
    },
    {
     "name": "stderr",
     "output_type": "stream",
     "text": [
      "W0703 16:37:44.663068 140698822833920 ag_logging.py:145] Entity <bound method BatchNormalization.call of <tensorflow.python.layers.normalization.BatchNormalization object at 0x7ff5fc472410>> could not be transformed and will be executed as-is. Please report this to the AutgoGraph team. When filing the bug, set the verbosity to 10 (on Linux, `export AUTOGRAPH_VERBOSITY=10`) and attach the full output. Cause: converting <bound method BatchNormalization.call of <tensorflow.python.layers.normalization.BatchNormalization object at 0x7ff5fc472410>>: AssertionError: Bad argument number for Name: 3, expecting 4\n"
     ]
    },
    {
     "name": "stdout",
     "output_type": "stream",
     "text": [
      "WARNING: Entity <bound method BatchNormalization.call of <tensorflow.python.layers.normalization.BatchNormalization object at 0x7ff5fc472410>> could not be transformed and will be executed as-is. Please report this to the AutgoGraph team. When filing the bug, set the verbosity to 10 (on Linux, `export AUTOGRAPH_VERBOSITY=10`) and attach the full output. Cause: converting <bound method BatchNormalization.call of <tensorflow.python.layers.normalization.BatchNormalization object at 0x7ff5fc472410>>: AssertionError: Bad argument number for Name: 3, expecting 4\n",
      "WARNING:tensorflow:Entity <bound method Conv.call of <tensorflow.python.layers.convolutional.Conv2D object at 0x7ff62c1d6c90>> could not be transformed and will be executed as-is. Please report this to the AutgoGraph team. When filing the bug, set the verbosity to 10 (on Linux, `export AUTOGRAPH_VERBOSITY=10`) and attach the full output. Cause: converting <bound method Conv.call of <tensorflow.python.layers.convolutional.Conv2D object at 0x7ff62c1d6c90>>: AssertionError: Bad argument number for Name: 3, expecting 4\n"
     ]
    },
    {
     "name": "stderr",
     "output_type": "stream",
     "text": [
      "W0703 16:37:44.721651 140698822833920 ag_logging.py:145] Entity <bound method Conv.call of <tensorflow.python.layers.convolutional.Conv2D object at 0x7ff62c1d6c90>> could not be transformed and will be executed as-is. Please report this to the AutgoGraph team. When filing the bug, set the verbosity to 10 (on Linux, `export AUTOGRAPH_VERBOSITY=10`) and attach the full output. Cause: converting <bound method Conv.call of <tensorflow.python.layers.convolutional.Conv2D object at 0x7ff62c1d6c90>>: AssertionError: Bad argument number for Name: 3, expecting 4\n"
     ]
    },
    {
     "name": "stdout",
     "output_type": "stream",
     "text": [
      "WARNING: Entity <bound method Conv.call of <tensorflow.python.layers.convolutional.Conv2D object at 0x7ff62c1d6c90>> could not be transformed and will be executed as-is. Please report this to the AutgoGraph team. When filing the bug, set the verbosity to 10 (on Linux, `export AUTOGRAPH_VERBOSITY=10`) and attach the full output. Cause: converting <bound method Conv.call of <tensorflow.python.layers.convolutional.Conv2D object at 0x7ff62c1d6c90>>: AssertionError: Bad argument number for Name: 3, expecting 4\n",
      "WARNING:tensorflow:Entity <bound method BatchNormalization.call of <tensorflow.python.layers.normalization.BatchNormalization object at 0x7ff62c0b1390>> could not be transformed and will be executed as-is. Please report this to the AutgoGraph team. When filing the bug, set the verbosity to 10 (on Linux, `export AUTOGRAPH_VERBOSITY=10`) and attach the full output. Cause: converting <bound method BatchNormalization.call of <tensorflow.python.layers.normalization.BatchNormalization object at 0x7ff62c0b1390>>: AssertionError: Bad argument number for Name: 3, expecting 4\n"
     ]
    },
    {
     "name": "stderr",
     "output_type": "stream",
     "text": [
      "W0703 16:37:44.743946 140698822833920 ag_logging.py:145] Entity <bound method BatchNormalization.call of <tensorflow.python.layers.normalization.BatchNormalization object at 0x7ff62c0b1390>> could not be transformed and will be executed as-is. Please report this to the AutgoGraph team. When filing the bug, set the verbosity to 10 (on Linux, `export AUTOGRAPH_VERBOSITY=10`) and attach the full output. Cause: converting <bound method BatchNormalization.call of <tensorflow.python.layers.normalization.BatchNormalization object at 0x7ff62c0b1390>>: AssertionError: Bad argument number for Name: 3, expecting 4\n"
     ]
    },
    {
     "name": "stdout",
     "output_type": "stream",
     "text": [
      "WARNING: Entity <bound method BatchNormalization.call of <tensorflow.python.layers.normalization.BatchNormalization object at 0x7ff62c0b1390>> could not be transformed and will be executed as-is. Please report this to the AutgoGraph team. When filing the bug, set the verbosity to 10 (on Linux, `export AUTOGRAPH_VERBOSITY=10`) and attach the full output. Cause: converting <bound method BatchNormalization.call of <tensorflow.python.layers.normalization.BatchNormalization object at 0x7ff62c0b1390>>: AssertionError: Bad argument number for Name: 3, expecting 4\n",
      "WARNING:tensorflow:Entity <bound method Conv.call of <tensorflow.python.layers.convolutional.Conv2D object at 0x7ff6140ef090>> could not be transformed and will be executed as-is. Please report this to the AutgoGraph team. When filing the bug, set the verbosity to 10 (on Linux, `export AUTOGRAPH_VERBOSITY=10`) and attach the full output. Cause: converting <bound method Conv.call of <tensorflow.python.layers.convolutional.Conv2D object at 0x7ff6140ef090>>: AssertionError: Bad argument number for Name: 3, expecting 4\n"
     ]
    },
    {
     "name": "stderr",
     "output_type": "stream",
     "text": [
      "W0703 16:37:44.802534 140698822833920 ag_logging.py:145] Entity <bound method Conv.call of <tensorflow.python.layers.convolutional.Conv2D object at 0x7ff6140ef090>> could not be transformed and will be executed as-is. Please report this to the AutgoGraph team. When filing the bug, set the verbosity to 10 (on Linux, `export AUTOGRAPH_VERBOSITY=10`) and attach the full output. Cause: converting <bound method Conv.call of <tensorflow.python.layers.convolutional.Conv2D object at 0x7ff6140ef090>>: AssertionError: Bad argument number for Name: 3, expecting 4\n"
     ]
    },
    {
     "name": "stdout",
     "output_type": "stream",
     "text": [
      "WARNING: Entity <bound method Conv.call of <tensorflow.python.layers.convolutional.Conv2D object at 0x7ff6140ef090>> could not be transformed and will be executed as-is. Please report this to the AutgoGraph team. When filing the bug, set the verbosity to 10 (on Linux, `export AUTOGRAPH_VERBOSITY=10`) and attach the full output. Cause: converting <bound method Conv.call of <tensorflow.python.layers.convolutional.Conv2D object at 0x7ff6140ef090>>: AssertionError: Bad argument number for Name: 3, expecting 4\n",
      "WARNING:tensorflow:Entity <bound method BatchNormalization.call of <tensorflow.python.layers.normalization.BatchNormalization object at 0x7ff5fc472150>> could not be transformed and will be executed as-is. Please report this to the AutgoGraph team. When filing the bug, set the verbosity to 10 (on Linux, `export AUTOGRAPH_VERBOSITY=10`) and attach the full output. Cause: converting <bound method BatchNormalization.call of <tensorflow.python.layers.normalization.BatchNormalization object at 0x7ff5fc472150>>: AssertionError: Bad argument number for Name: 3, expecting 4\n"
     ]
    },
    {
     "name": "stderr",
     "output_type": "stream",
     "text": [
      "W0703 16:37:44.824747 140698822833920 ag_logging.py:145] Entity <bound method BatchNormalization.call of <tensorflow.python.layers.normalization.BatchNormalization object at 0x7ff5fc472150>> could not be transformed and will be executed as-is. Please report this to the AutgoGraph team. When filing the bug, set the verbosity to 10 (on Linux, `export AUTOGRAPH_VERBOSITY=10`) and attach the full output. Cause: converting <bound method BatchNormalization.call of <tensorflow.python.layers.normalization.BatchNormalization object at 0x7ff5fc472150>>: AssertionError: Bad argument number for Name: 3, expecting 4\n"
     ]
    },
    {
     "name": "stdout",
     "output_type": "stream",
     "text": [
      "WARNING: Entity <bound method BatchNormalization.call of <tensorflow.python.layers.normalization.BatchNormalization object at 0x7ff5fc472150>> could not be transformed and will be executed as-is. Please report this to the AutgoGraph team. When filing the bug, set the verbosity to 10 (on Linux, `export AUTOGRAPH_VERBOSITY=10`) and attach the full output. Cause: converting <bound method BatchNormalization.call of <tensorflow.python.layers.normalization.BatchNormalization object at 0x7ff5fc472150>>: AssertionError: Bad argument number for Name: 3, expecting 4\n",
      "WARNING:tensorflow:Entity <bound method Conv.call of <tensorflow.python.layers.convolutional.Conv2D object at 0x7ff62c1d6c90>> could not be transformed and will be executed as-is. Please report this to the AutgoGraph team. When filing the bug, set the verbosity to 10 (on Linux, `export AUTOGRAPH_VERBOSITY=10`) and attach the full output. Cause: converting <bound method Conv.call of <tensorflow.python.layers.convolutional.Conv2D object at 0x7ff62c1d6c90>>: AssertionError: Bad argument number for Name: 3, expecting 4\n"
     ]
    },
    {
     "name": "stderr",
     "output_type": "stream",
     "text": [
      "W0703 16:37:44.884316 140698822833920 ag_logging.py:145] Entity <bound method Conv.call of <tensorflow.python.layers.convolutional.Conv2D object at 0x7ff62c1d6c90>> could not be transformed and will be executed as-is. Please report this to the AutgoGraph team. When filing the bug, set the verbosity to 10 (on Linux, `export AUTOGRAPH_VERBOSITY=10`) and attach the full output. Cause: converting <bound method Conv.call of <tensorflow.python.layers.convolutional.Conv2D object at 0x7ff62c1d6c90>>: AssertionError: Bad argument number for Name: 3, expecting 4\n"
     ]
    },
    {
     "name": "stdout",
     "output_type": "stream",
     "text": [
      "WARNING: Entity <bound method Conv.call of <tensorflow.python.layers.convolutional.Conv2D object at 0x7ff62c1d6c90>> could not be transformed and will be executed as-is. Please report this to the AutgoGraph team. When filing the bug, set the verbosity to 10 (on Linux, `export AUTOGRAPH_VERBOSITY=10`) and attach the full output. Cause: converting <bound method Conv.call of <tensorflow.python.layers.convolutional.Conv2D object at 0x7ff62c1d6c90>>: AssertionError: Bad argument number for Name: 3, expecting 4\n",
      "WARNING:tensorflow:Entity <bound method BatchNormalization.call of <tensorflow.python.layers.normalization.BatchNormalization object at 0x7ff5fc215c90>> could not be transformed and will be executed as-is. Please report this to the AutgoGraph team. When filing the bug, set the verbosity to 10 (on Linux, `export AUTOGRAPH_VERBOSITY=10`) and attach the full output. Cause: converting <bound method BatchNormalization.call of <tensorflow.python.layers.normalization.BatchNormalization object at 0x7ff5fc215c90>>: AssertionError: Bad argument number for Name: 3, expecting 4\n"
     ]
    },
    {
     "name": "stderr",
     "output_type": "stream",
     "text": [
      "W0703 16:37:44.906567 140698822833920 ag_logging.py:145] Entity <bound method BatchNormalization.call of <tensorflow.python.layers.normalization.BatchNormalization object at 0x7ff5fc215c90>> could not be transformed and will be executed as-is. Please report this to the AutgoGraph team. When filing the bug, set the verbosity to 10 (on Linux, `export AUTOGRAPH_VERBOSITY=10`) and attach the full output. Cause: converting <bound method BatchNormalization.call of <tensorflow.python.layers.normalization.BatchNormalization object at 0x7ff5fc215c90>>: AssertionError: Bad argument number for Name: 3, expecting 4\n"
     ]
    },
    {
     "name": "stdout",
     "output_type": "stream",
     "text": [
      "WARNING: Entity <bound method BatchNormalization.call of <tensorflow.python.layers.normalization.BatchNormalization object at 0x7ff5fc215c90>> could not be transformed and will be executed as-is. Please report this to the AutgoGraph team. When filing the bug, set the verbosity to 10 (on Linux, `export AUTOGRAPH_VERBOSITY=10`) and attach the full output. Cause: converting <bound method BatchNormalization.call of <tensorflow.python.layers.normalization.BatchNormalization object at 0x7ff5fc215c90>>: AssertionError: Bad argument number for Name: 3, expecting 4\n",
      "WARNING:tensorflow:Entity <bound method Conv.call of <tensorflow.python.layers.convolutional.Conv2D object at 0x7ff5fc3ca690>> could not be transformed and will be executed as-is. Please report this to the AutgoGraph team. When filing the bug, set the verbosity to 10 (on Linux, `export AUTOGRAPH_VERBOSITY=10`) and attach the full output. Cause: converting <bound method Conv.call of <tensorflow.python.layers.convolutional.Conv2D object at 0x7ff5fc3ca690>>: AssertionError: Bad argument number for Name: 3, expecting 4\n"
     ]
    },
    {
     "name": "stderr",
     "output_type": "stream",
     "text": [
      "W0703 16:37:44.971428 140698822833920 ag_logging.py:145] Entity <bound method Conv.call of <tensorflow.python.layers.convolutional.Conv2D object at 0x7ff5fc3ca690>> could not be transformed and will be executed as-is. Please report this to the AutgoGraph team. When filing the bug, set the verbosity to 10 (on Linux, `export AUTOGRAPH_VERBOSITY=10`) and attach the full output. Cause: converting <bound method Conv.call of <tensorflow.python.layers.convolutional.Conv2D object at 0x7ff5fc3ca690>>: AssertionError: Bad argument number for Name: 3, expecting 4\n"
     ]
    },
    {
     "name": "stdout",
     "output_type": "stream",
     "text": [
      "WARNING: Entity <bound method Conv.call of <tensorflow.python.layers.convolutional.Conv2D object at 0x7ff5fc3ca690>> could not be transformed and will be executed as-is. Please report this to the AutgoGraph team. When filing the bug, set the verbosity to 10 (on Linux, `export AUTOGRAPH_VERBOSITY=10`) and attach the full output. Cause: converting <bound method Conv.call of <tensorflow.python.layers.convolutional.Conv2D object at 0x7ff5fc3ca690>>: AssertionError: Bad argument number for Name: 3, expecting 4\n",
      "WARNING:tensorflow:Entity <bound method BatchNormalization.call of <tensorflow.python.layers.normalization.BatchNormalization object at 0x7ff5fc195390>> could not be transformed and will be executed as-is. Please report this to the AutgoGraph team. When filing the bug, set the verbosity to 10 (on Linux, `export AUTOGRAPH_VERBOSITY=10`) and attach the full output. Cause: converting <bound method BatchNormalization.call of <tensorflow.python.layers.normalization.BatchNormalization object at 0x7ff5fc195390>>: AssertionError: Bad argument number for Name: 3, expecting 4\n"
     ]
    },
    {
     "name": "stderr",
     "output_type": "stream",
     "text": [
      "W0703 16:37:44.994437 140698822833920 ag_logging.py:145] Entity <bound method BatchNormalization.call of <tensorflow.python.layers.normalization.BatchNormalization object at 0x7ff5fc195390>> could not be transformed and will be executed as-is. Please report this to the AutgoGraph team. When filing the bug, set the verbosity to 10 (on Linux, `export AUTOGRAPH_VERBOSITY=10`) and attach the full output. Cause: converting <bound method BatchNormalization.call of <tensorflow.python.layers.normalization.BatchNormalization object at 0x7ff5fc195390>>: AssertionError: Bad argument number for Name: 3, expecting 4\n"
     ]
    },
    {
     "name": "stdout",
     "output_type": "stream",
     "text": [
      "WARNING: Entity <bound method BatchNormalization.call of <tensorflow.python.layers.normalization.BatchNormalization object at 0x7ff5fc195390>> could not be transformed and will be executed as-is. Please report this to the AutgoGraph team. When filing the bug, set the verbosity to 10 (on Linux, `export AUTOGRAPH_VERBOSITY=10`) and attach the full output. Cause: converting <bound method BatchNormalization.call of <tensorflow.python.layers.normalization.BatchNormalization object at 0x7ff5fc195390>>: AssertionError: Bad argument number for Name: 3, expecting 4\n",
      "WARNING:tensorflow:Entity <bound method Conv.call of <tensorflow.python.layers.convolutional.Conv2D object at 0x7ff5fc66f6d0>> could not be transformed and will be executed as-is. Please report this to the AutgoGraph team. When filing the bug, set the verbosity to 10 (on Linux, `export AUTOGRAPH_VERBOSITY=10`) and attach the full output. Cause: converting <bound method Conv.call of <tensorflow.python.layers.convolutional.Conv2D object at 0x7ff5fc66f6d0>>: AssertionError: Bad argument number for Name: 3, expecting 4\n"
     ]
    },
    {
     "name": "stderr",
     "output_type": "stream",
     "text": [
      "W0703 16:37:45.054360 140698822833920 ag_logging.py:145] Entity <bound method Conv.call of <tensorflow.python.layers.convolutional.Conv2D object at 0x7ff5fc66f6d0>> could not be transformed and will be executed as-is. Please report this to the AutgoGraph team. When filing the bug, set the verbosity to 10 (on Linux, `export AUTOGRAPH_VERBOSITY=10`) and attach the full output. Cause: converting <bound method Conv.call of <tensorflow.python.layers.convolutional.Conv2D object at 0x7ff5fc66f6d0>>: AssertionError: Bad argument number for Name: 3, expecting 4\n"
     ]
    },
    {
     "name": "stdout",
     "output_type": "stream",
     "text": [
      "WARNING: Entity <bound method Conv.call of <tensorflow.python.layers.convolutional.Conv2D object at 0x7ff5fc66f6d0>> could not be transformed and will be executed as-is. Please report this to the AutgoGraph team. When filing the bug, set the verbosity to 10 (on Linux, `export AUTOGRAPH_VERBOSITY=10`) and attach the full output. Cause: converting <bound method Conv.call of <tensorflow.python.layers.convolutional.Conv2D object at 0x7ff5fc66f6d0>>: AssertionError: Bad argument number for Name: 3, expecting 4\n",
      "WARNING:tensorflow:Entity <bound method BatchNormalization.call of <tensorflow.python.layers.normalization.BatchNormalization object at 0x7ff5fc0faf50>> could not be transformed and will be executed as-is. Please report this to the AutgoGraph team. When filing the bug, set the verbosity to 10 (on Linux, `export AUTOGRAPH_VERBOSITY=10`) and attach the full output. Cause: converting <bound method BatchNormalization.call of <tensorflow.python.layers.normalization.BatchNormalization object at 0x7ff5fc0faf50>>: AssertionError: Bad argument number for Name: 3, expecting 4\n"
     ]
    },
    {
     "name": "stderr",
     "output_type": "stream",
     "text": [
      "W0703 16:37:45.077282 140698822833920 ag_logging.py:145] Entity <bound method BatchNormalization.call of <tensorflow.python.layers.normalization.BatchNormalization object at 0x7ff5fc0faf50>> could not be transformed and will be executed as-is. Please report this to the AutgoGraph team. When filing the bug, set the verbosity to 10 (on Linux, `export AUTOGRAPH_VERBOSITY=10`) and attach the full output. Cause: converting <bound method BatchNormalization.call of <tensorflow.python.layers.normalization.BatchNormalization object at 0x7ff5fc0faf50>>: AssertionError: Bad argument number for Name: 3, expecting 4\n"
     ]
    },
    {
     "name": "stdout",
     "output_type": "stream",
     "text": [
      "WARNING: Entity <bound method BatchNormalization.call of <tensorflow.python.layers.normalization.BatchNormalization object at 0x7ff5fc0faf50>> could not be transformed and will be executed as-is. Please report this to the AutgoGraph team. When filing the bug, set the verbosity to 10 (on Linux, `export AUTOGRAPH_VERBOSITY=10`) and attach the full output. Cause: converting <bound method BatchNormalization.call of <tensorflow.python.layers.normalization.BatchNormalization object at 0x7ff5fc0faf50>>: AssertionError: Bad argument number for Name: 3, expecting 4\n",
      "WARNING:tensorflow:Entity <bound method Conv.call of <tensorflow.python.layers.convolutional.Conv2D object at 0x7ff5fc234710>> could not be transformed and will be executed as-is. Please report this to the AutgoGraph team. When filing the bug, set the verbosity to 10 (on Linux, `export AUTOGRAPH_VERBOSITY=10`) and attach the full output. Cause: converting <bound method Conv.call of <tensorflow.python.layers.convolutional.Conv2D object at 0x7ff5fc234710>>: AssertionError: Bad argument number for Name: 3, expecting 4\n"
     ]
    },
    {
     "name": "stderr",
     "output_type": "stream",
     "text": [
      "W0703 16:37:45.136529 140698822833920 ag_logging.py:145] Entity <bound method Conv.call of <tensorflow.python.layers.convolutional.Conv2D object at 0x7ff5fc234710>> could not be transformed and will be executed as-is. Please report this to the AutgoGraph team. When filing the bug, set the verbosity to 10 (on Linux, `export AUTOGRAPH_VERBOSITY=10`) and attach the full output. Cause: converting <bound method Conv.call of <tensorflow.python.layers.convolutional.Conv2D object at 0x7ff5fc234710>>: AssertionError: Bad argument number for Name: 3, expecting 4\n"
     ]
    },
    {
     "name": "stdout",
     "output_type": "stream",
     "text": [
      "WARNING: Entity <bound method Conv.call of <tensorflow.python.layers.convolutional.Conv2D object at 0x7ff5fc234710>> could not be transformed and will be executed as-is. Please report this to the AutgoGraph team. When filing the bug, set the verbosity to 10 (on Linux, `export AUTOGRAPH_VERBOSITY=10`) and attach the full output. Cause: converting <bound method Conv.call of <tensorflow.python.layers.convolutional.Conv2D object at 0x7ff5fc234710>>: AssertionError: Bad argument number for Name: 3, expecting 4\n",
      "WARNING:tensorflow:Entity <bound method BatchNormalization.call of <tensorflow.python.layers.normalization.BatchNormalization object at 0x7ff5fc0d2810>> could not be transformed and will be executed as-is. Please report this to the AutgoGraph team. When filing the bug, set the verbosity to 10 (on Linux, `export AUTOGRAPH_VERBOSITY=10`) and attach the full output. Cause: converting <bound method BatchNormalization.call of <tensorflow.python.layers.normalization.BatchNormalization object at 0x7ff5fc0d2810>>: AssertionError: Bad argument number for Name: 3, expecting 4\n"
     ]
    },
    {
     "name": "stderr",
     "output_type": "stream",
     "text": [
      "W0703 16:37:45.158630 140698822833920 ag_logging.py:145] Entity <bound method BatchNormalization.call of <tensorflow.python.layers.normalization.BatchNormalization object at 0x7ff5fc0d2810>> could not be transformed and will be executed as-is. Please report this to the AutgoGraph team. When filing the bug, set the verbosity to 10 (on Linux, `export AUTOGRAPH_VERBOSITY=10`) and attach the full output. Cause: converting <bound method BatchNormalization.call of <tensorflow.python.layers.normalization.BatchNormalization object at 0x7ff5fc0d2810>>: AssertionError: Bad argument number for Name: 3, expecting 4\n"
     ]
    },
    {
     "name": "stdout",
     "output_type": "stream",
     "text": [
      "WARNING: Entity <bound method BatchNormalization.call of <tensorflow.python.layers.normalization.BatchNormalization object at 0x7ff5fc0d2810>> could not be transformed and will be executed as-is. Please report this to the AutgoGraph team. When filing the bug, set the verbosity to 10 (on Linux, `export AUTOGRAPH_VERBOSITY=10`) and attach the full output. Cause: converting <bound method BatchNormalization.call of <tensorflow.python.layers.normalization.BatchNormalization object at 0x7ff5fc0d2810>>: AssertionError: Bad argument number for Name: 3, expecting 4\n",
      "WARNING:tensorflow:Entity <bound method Conv.call of <tensorflow.python.layers.convolutional.Conv2D object at 0x7ff5fc3ca690>> could not be transformed and will be executed as-is. Please report this to the AutgoGraph team. When filing the bug, set the verbosity to 10 (on Linux, `export AUTOGRAPH_VERBOSITY=10`) and attach the full output. Cause: converting <bound method Conv.call of <tensorflow.python.layers.convolutional.Conv2D object at 0x7ff5fc3ca690>>: AssertionError: Bad argument number for Name: 3, expecting 4\n"
     ]
    },
    {
     "name": "stderr",
     "output_type": "stream",
     "text": [
      "W0703 16:37:45.217439 140698822833920 ag_logging.py:145] Entity <bound method Conv.call of <tensorflow.python.layers.convolutional.Conv2D object at 0x7ff5fc3ca690>> could not be transformed and will be executed as-is. Please report this to the AutgoGraph team. When filing the bug, set the verbosity to 10 (on Linux, `export AUTOGRAPH_VERBOSITY=10`) and attach the full output. Cause: converting <bound method Conv.call of <tensorflow.python.layers.convolutional.Conv2D object at 0x7ff5fc3ca690>>: AssertionError: Bad argument number for Name: 3, expecting 4\n"
     ]
    },
    {
     "name": "stdout",
     "output_type": "stream",
     "text": [
      "WARNING: Entity <bound method Conv.call of <tensorflow.python.layers.convolutional.Conv2D object at 0x7ff5fc3ca690>> could not be transformed and will be executed as-is. Please report this to the AutgoGraph team. When filing the bug, set the verbosity to 10 (on Linux, `export AUTOGRAPH_VERBOSITY=10`) and attach the full output. Cause: converting <bound method Conv.call of <tensorflow.python.layers.convolutional.Conv2D object at 0x7ff5fc3ca690>>: AssertionError: Bad argument number for Name: 3, expecting 4\n",
      "WARNING:tensorflow:Entity <bound method BatchNormalization.call of <tensorflow.python.layers.normalization.BatchNormalization object at 0x7ff5fc0c6290>> could not be transformed and will be executed as-is. Please report this to the AutgoGraph team. When filing the bug, set the verbosity to 10 (on Linux, `export AUTOGRAPH_VERBOSITY=10`) and attach the full output. Cause: converting <bound method BatchNormalization.call of <tensorflow.python.layers.normalization.BatchNormalization object at 0x7ff5fc0c6290>>: AssertionError: Bad argument number for Name: 3, expecting 4\n"
     ]
    },
    {
     "name": "stderr",
     "output_type": "stream",
     "text": [
      "W0703 16:37:45.239592 140698822833920 ag_logging.py:145] Entity <bound method BatchNormalization.call of <tensorflow.python.layers.normalization.BatchNormalization object at 0x7ff5fc0c6290>> could not be transformed and will be executed as-is. Please report this to the AutgoGraph team. When filing the bug, set the verbosity to 10 (on Linux, `export AUTOGRAPH_VERBOSITY=10`) and attach the full output. Cause: converting <bound method BatchNormalization.call of <tensorflow.python.layers.normalization.BatchNormalization object at 0x7ff5fc0c6290>>: AssertionError: Bad argument number for Name: 3, expecting 4\n"
     ]
    },
    {
     "name": "stdout",
     "output_type": "stream",
     "text": [
      "WARNING: Entity <bound method BatchNormalization.call of <tensorflow.python.layers.normalization.BatchNormalization object at 0x7ff5fc0c6290>> could not be transformed and will be executed as-is. Please report this to the AutgoGraph team. When filing the bug, set the verbosity to 10 (on Linux, `export AUTOGRAPH_VERBOSITY=10`) and attach the full output. Cause: converting <bound method BatchNormalization.call of <tensorflow.python.layers.normalization.BatchNormalization object at 0x7ff5fc0c6290>>: AssertionError: Bad argument number for Name: 3, expecting 4\n",
      "WARNING:tensorflow:Entity <bound method Pooling2D.call of <tensorflow.python.layers.pooling.AveragePooling2D object at 0x7ff5fc230c50>> could not be transformed and will be executed as-is. Please report this to the AutgoGraph team. When filing the bug, set the verbosity to 10 (on Linux, `export AUTOGRAPH_VERBOSITY=10`) and attach the full output. Cause: converting <bound method Pooling2D.call of <tensorflow.python.layers.pooling.AveragePooling2D object at 0x7ff5fc230c50>>: AssertionError: Bad argument number for Name: 3, expecting 4\n"
     ]
    },
    {
     "name": "stderr",
     "output_type": "stream",
     "text": [
      "W0703 16:37:45.278348 140698822833920 ag_logging.py:145] Entity <bound method Pooling2D.call of <tensorflow.python.layers.pooling.AveragePooling2D object at 0x7ff5fc230c50>> could not be transformed and will be executed as-is. Please report this to the AutgoGraph team. When filing the bug, set the verbosity to 10 (on Linux, `export AUTOGRAPH_VERBOSITY=10`) and attach the full output. Cause: converting <bound method Pooling2D.call of <tensorflow.python.layers.pooling.AveragePooling2D object at 0x7ff5fc230c50>>: AssertionError: Bad argument number for Name: 3, expecting 4\n"
     ]
    },
    {
     "name": "stdout",
     "output_type": "stream",
     "text": [
      "WARNING: Entity <bound method Pooling2D.call of <tensorflow.python.layers.pooling.AveragePooling2D object at 0x7ff5fc230c50>> could not be transformed and will be executed as-is. Please report this to the AutgoGraph team. When filing the bug, set the verbosity to 10 (on Linux, `export AUTOGRAPH_VERBOSITY=10`) and attach the full output. Cause: converting <bound method Pooling2D.call of <tensorflow.python.layers.pooling.AveragePooling2D object at 0x7ff5fc230c50>>: AssertionError: Bad argument number for Name: 3, expecting 4\n",
      "WARNING:tensorflow:Entity <bound method Conv.call of <tensorflow.python.layers.convolutional.Conv2D object at 0x7ff62c1f92d0>> could not be transformed and will be executed as-is. Please report this to the AutgoGraph team. When filing the bug, set the verbosity to 10 (on Linux, `export AUTOGRAPH_VERBOSITY=10`) and attach the full output. Cause: converting <bound method Conv.call of <tensorflow.python.layers.convolutional.Conv2D object at 0x7ff62c1f92d0>>: AssertionError: Bad argument number for Name: 3, expecting 4\n"
     ]
    },
    {
     "name": "stderr",
     "output_type": "stream",
     "text": [
      "W0703 16:37:45.334207 140698822833920 ag_logging.py:145] Entity <bound method Conv.call of <tensorflow.python.layers.convolutional.Conv2D object at 0x7ff62c1f92d0>> could not be transformed and will be executed as-is. Please report this to the AutgoGraph team. When filing the bug, set the verbosity to 10 (on Linux, `export AUTOGRAPH_VERBOSITY=10`) and attach the full output. Cause: converting <bound method Conv.call of <tensorflow.python.layers.convolutional.Conv2D object at 0x7ff62c1f92d0>>: AssertionError: Bad argument number for Name: 3, expecting 4\n"
     ]
    },
    {
     "name": "stdout",
     "output_type": "stream",
     "text": [
      "WARNING: Entity <bound method Conv.call of <tensorflow.python.layers.convolutional.Conv2D object at 0x7ff62c1f92d0>> could not be transformed and will be executed as-is. Please report this to the AutgoGraph team. When filing the bug, set the verbosity to 10 (on Linux, `export AUTOGRAPH_VERBOSITY=10`) and attach the full output. Cause: converting <bound method Conv.call of <tensorflow.python.layers.convolutional.Conv2D object at 0x7ff62c1f92d0>>: AssertionError: Bad argument number for Name: 3, expecting 4\n",
      "WARNING:tensorflow:Entity <bound method BatchNormalization.call of <tensorflow.python.layers.normalization.BatchNormalization object at 0x7ff5d87d12d0>> could not be transformed and will be executed as-is. Please report this to the AutgoGraph team. When filing the bug, set the verbosity to 10 (on Linux, `export AUTOGRAPH_VERBOSITY=10`) and attach the full output. Cause: converting <bound method BatchNormalization.call of <tensorflow.python.layers.normalization.BatchNormalization object at 0x7ff5d87d12d0>>: AssertionError: Bad argument number for Name: 3, expecting 4\n"
     ]
    },
    {
     "name": "stderr",
     "output_type": "stream",
     "text": [
      "W0703 16:37:45.356977 140698822833920 ag_logging.py:145] Entity <bound method BatchNormalization.call of <tensorflow.python.layers.normalization.BatchNormalization object at 0x7ff5d87d12d0>> could not be transformed and will be executed as-is. Please report this to the AutgoGraph team. When filing the bug, set the verbosity to 10 (on Linux, `export AUTOGRAPH_VERBOSITY=10`) and attach the full output. Cause: converting <bound method BatchNormalization.call of <tensorflow.python.layers.normalization.BatchNormalization object at 0x7ff5d87d12d0>>: AssertionError: Bad argument number for Name: 3, expecting 4\n"
     ]
    },
    {
     "name": "stdout",
     "output_type": "stream",
     "text": [
      "WARNING: Entity <bound method BatchNormalization.call of <tensorflow.python.layers.normalization.BatchNormalization object at 0x7ff5d87d12d0>> could not be transformed and will be executed as-is. Please report this to the AutgoGraph team. When filing the bug, set the verbosity to 10 (on Linux, `export AUTOGRAPH_VERBOSITY=10`) and attach the full output. Cause: converting <bound method BatchNormalization.call of <tensorflow.python.layers.normalization.BatchNormalization object at 0x7ff5d87d12d0>>: AssertionError: Bad argument number for Name: 3, expecting 4\n",
      "WARNING:tensorflow:Entity <bound method Conv.call of <tensorflow.python.layers.convolutional.Conv2D object at 0x7ff5fc215950>> could not be transformed and will be executed as-is. Please report this to the AutgoGraph team. When filing the bug, set the verbosity to 10 (on Linux, `export AUTOGRAPH_VERBOSITY=10`) and attach the full output. Cause: converting <bound method Conv.call of <tensorflow.python.layers.convolutional.Conv2D object at 0x7ff5fc215950>>: AssertionError: Bad argument number for Name: 3, expecting 4\n"
     ]
    },
    {
     "name": "stderr",
     "output_type": "stream",
     "text": [
      "W0703 16:37:45.416160 140698822833920 ag_logging.py:145] Entity <bound method Conv.call of <tensorflow.python.layers.convolutional.Conv2D object at 0x7ff5fc215950>> could not be transformed and will be executed as-is. Please report this to the AutgoGraph team. When filing the bug, set the verbosity to 10 (on Linux, `export AUTOGRAPH_VERBOSITY=10`) and attach the full output. Cause: converting <bound method Conv.call of <tensorflow.python.layers.convolutional.Conv2D object at 0x7ff5fc215950>>: AssertionError: Bad argument number for Name: 3, expecting 4\n"
     ]
    },
    {
     "name": "stdout",
     "output_type": "stream",
     "text": [
      "WARNING: Entity <bound method Conv.call of <tensorflow.python.layers.convolutional.Conv2D object at 0x7ff5fc215950>> could not be transformed and will be executed as-is. Please report this to the AutgoGraph team. When filing the bug, set the verbosity to 10 (on Linux, `export AUTOGRAPH_VERBOSITY=10`) and attach the full output. Cause: converting <bound method Conv.call of <tensorflow.python.layers.convolutional.Conv2D object at 0x7ff5fc215950>>: AssertionError: Bad argument number for Name: 3, expecting 4\n",
      "WARNING:tensorflow:Entity <bound method BatchNormalization.call of <tensorflow.python.layers.normalization.BatchNormalization object at 0x7ff5fc0d8110>> could not be transformed and will be executed as-is. Please report this to the AutgoGraph team. When filing the bug, set the verbosity to 10 (on Linux, `export AUTOGRAPH_VERBOSITY=10`) and attach the full output. Cause: converting <bound method BatchNormalization.call of <tensorflow.python.layers.normalization.BatchNormalization object at 0x7ff5fc0d8110>>: AssertionError: Bad argument number for Name: 3, expecting 4\n"
     ]
    },
    {
     "name": "stderr",
     "output_type": "stream",
     "text": [
      "W0703 16:37:45.443055 140698822833920 ag_logging.py:145] Entity <bound method BatchNormalization.call of <tensorflow.python.layers.normalization.BatchNormalization object at 0x7ff5fc0d8110>> could not be transformed and will be executed as-is. Please report this to the AutgoGraph team. When filing the bug, set the verbosity to 10 (on Linux, `export AUTOGRAPH_VERBOSITY=10`) and attach the full output. Cause: converting <bound method BatchNormalization.call of <tensorflow.python.layers.normalization.BatchNormalization object at 0x7ff5fc0d8110>>: AssertionError: Bad argument number for Name: 3, expecting 4\n"
     ]
    },
    {
     "name": "stdout",
     "output_type": "stream",
     "text": [
      "WARNING: Entity <bound method BatchNormalization.call of <tensorflow.python.layers.normalization.BatchNormalization object at 0x7ff5fc0d8110>> could not be transformed and will be executed as-is. Please report this to the AutgoGraph team. When filing the bug, set the verbosity to 10 (on Linux, `export AUTOGRAPH_VERBOSITY=10`) and attach the full output. Cause: converting <bound method BatchNormalization.call of <tensorflow.python.layers.normalization.BatchNormalization object at 0x7ff5fc0d8110>>: AssertionError: Bad argument number for Name: 3, expecting 4\n",
      "WARNING:tensorflow:Entity <bound method Conv.call of <tensorflow.python.layers.convolutional.Conv2D object at 0x7ff614120810>> could not be transformed and will be executed as-is. Please report this to the AutgoGraph team. When filing the bug, set the verbosity to 10 (on Linux, `export AUTOGRAPH_VERBOSITY=10`) and attach the full output. Cause: converting <bound method Conv.call of <tensorflow.python.layers.convolutional.Conv2D object at 0x7ff614120810>>: AssertionError: Bad argument number for Name: 3, expecting 4\n"
     ]
    },
    {
     "name": "stderr",
     "output_type": "stream",
     "text": [
      "W0703 16:37:45.501385 140698822833920 ag_logging.py:145] Entity <bound method Conv.call of <tensorflow.python.layers.convolutional.Conv2D object at 0x7ff614120810>> could not be transformed and will be executed as-is. Please report this to the AutgoGraph team. When filing the bug, set the verbosity to 10 (on Linux, `export AUTOGRAPH_VERBOSITY=10`) and attach the full output. Cause: converting <bound method Conv.call of <tensorflow.python.layers.convolutional.Conv2D object at 0x7ff614120810>>: AssertionError: Bad argument number for Name: 3, expecting 4\n"
     ]
    },
    {
     "name": "stdout",
     "output_type": "stream",
     "text": [
      "WARNING: Entity <bound method Conv.call of <tensorflow.python.layers.convolutional.Conv2D object at 0x7ff614120810>> could not be transformed and will be executed as-is. Please report this to the AutgoGraph team. When filing the bug, set the verbosity to 10 (on Linux, `export AUTOGRAPH_VERBOSITY=10`) and attach the full output. Cause: converting <bound method Conv.call of <tensorflow.python.layers.convolutional.Conv2D object at 0x7ff614120810>>: AssertionError: Bad argument number for Name: 3, expecting 4\n",
      "WARNING:tensorflow:Entity <bound method BatchNormalization.call of <tensorflow.python.layers.normalization.BatchNormalization object at 0x7ff62c05df10>> could not be transformed and will be executed as-is. Please report this to the AutgoGraph team. When filing the bug, set the verbosity to 10 (on Linux, `export AUTOGRAPH_VERBOSITY=10`) and attach the full output. Cause: converting <bound method BatchNormalization.call of <tensorflow.python.layers.normalization.BatchNormalization object at 0x7ff62c05df10>>: AssertionError: Bad argument number for Name: 3, expecting 4\n"
     ]
    },
    {
     "name": "stderr",
     "output_type": "stream",
     "text": [
      "W0703 16:37:45.523545 140698822833920 ag_logging.py:145] Entity <bound method BatchNormalization.call of <tensorflow.python.layers.normalization.BatchNormalization object at 0x7ff62c05df10>> could not be transformed and will be executed as-is. Please report this to the AutgoGraph team. When filing the bug, set the verbosity to 10 (on Linux, `export AUTOGRAPH_VERBOSITY=10`) and attach the full output. Cause: converting <bound method BatchNormalization.call of <tensorflow.python.layers.normalization.BatchNormalization object at 0x7ff62c05df10>>: AssertionError: Bad argument number for Name: 3, expecting 4\n"
     ]
    },
    {
     "name": "stdout",
     "output_type": "stream",
     "text": [
      "WARNING: Entity <bound method BatchNormalization.call of <tensorflow.python.layers.normalization.BatchNormalization object at 0x7ff62c05df10>> could not be transformed and will be executed as-is. Please report this to the AutgoGraph team. When filing the bug, set the verbosity to 10 (on Linux, `export AUTOGRAPH_VERBOSITY=10`) and attach the full output. Cause: converting <bound method BatchNormalization.call of <tensorflow.python.layers.normalization.BatchNormalization object at 0x7ff62c05df10>>: AssertionError: Bad argument number for Name: 3, expecting 4\n",
      "WARNING:tensorflow:Entity <bound method Conv.call of <tensorflow.python.layers.convolutional.Conv2D object at 0x7ff62c05d5d0>> could not be transformed and will be executed as-is. Please report this to the AutgoGraph team. When filing the bug, set the verbosity to 10 (on Linux, `export AUTOGRAPH_VERBOSITY=10`) and attach the full output. Cause: converting <bound method Conv.call of <tensorflow.python.layers.convolutional.Conv2D object at 0x7ff62c05d5d0>>: AssertionError: Bad argument number for Name: 3, expecting 4\n"
     ]
    },
    {
     "name": "stderr",
     "output_type": "stream",
     "text": [
      "W0703 16:37:45.582172 140698822833920 ag_logging.py:145] Entity <bound method Conv.call of <tensorflow.python.layers.convolutional.Conv2D object at 0x7ff62c05d5d0>> could not be transformed and will be executed as-is. Please report this to the AutgoGraph team. When filing the bug, set the verbosity to 10 (on Linux, `export AUTOGRAPH_VERBOSITY=10`) and attach the full output. Cause: converting <bound method Conv.call of <tensorflow.python.layers.convolutional.Conv2D object at 0x7ff62c05d5d0>>: AssertionError: Bad argument number for Name: 3, expecting 4\n"
     ]
    },
    {
     "name": "stdout",
     "output_type": "stream",
     "text": [
      "WARNING: Entity <bound method Conv.call of <tensorflow.python.layers.convolutional.Conv2D object at 0x7ff62c05d5d0>> could not be transformed and will be executed as-is. Please report this to the AutgoGraph team. When filing the bug, set the verbosity to 10 (on Linux, `export AUTOGRAPH_VERBOSITY=10`) and attach the full output. Cause: converting <bound method Conv.call of <tensorflow.python.layers.convolutional.Conv2D object at 0x7ff62c05d5d0>>: AssertionError: Bad argument number for Name: 3, expecting 4\n",
      "WARNING:tensorflow:Entity <bound method BatchNormalization.call of <tensorflow.python.layers.normalization.BatchNormalization object at 0x7ff5d870d690>> could not be transformed and will be executed as-is. Please report this to the AutgoGraph team. When filing the bug, set the verbosity to 10 (on Linux, `export AUTOGRAPH_VERBOSITY=10`) and attach the full output. Cause: converting <bound method BatchNormalization.call of <tensorflow.python.layers.normalization.BatchNormalization object at 0x7ff5d870d690>>: AssertionError: Bad argument number for Name: 3, expecting 4\n"
     ]
    },
    {
     "name": "stderr",
     "output_type": "stream",
     "text": [
      "W0703 16:37:45.604318 140698822833920 ag_logging.py:145] Entity <bound method BatchNormalization.call of <tensorflow.python.layers.normalization.BatchNormalization object at 0x7ff5d870d690>> could not be transformed and will be executed as-is. Please report this to the AutgoGraph team. When filing the bug, set the verbosity to 10 (on Linux, `export AUTOGRAPH_VERBOSITY=10`) and attach the full output. Cause: converting <bound method BatchNormalization.call of <tensorflow.python.layers.normalization.BatchNormalization object at 0x7ff5d870d690>>: AssertionError: Bad argument number for Name: 3, expecting 4\n"
     ]
    },
    {
     "name": "stdout",
     "output_type": "stream",
     "text": [
      "WARNING: Entity <bound method BatchNormalization.call of <tensorflow.python.layers.normalization.BatchNormalization object at 0x7ff5d870d690>> could not be transformed and will be executed as-is. Please report this to the AutgoGraph team. When filing the bug, set the verbosity to 10 (on Linux, `export AUTOGRAPH_VERBOSITY=10`) and attach the full output. Cause: converting <bound method BatchNormalization.call of <tensorflow.python.layers.normalization.BatchNormalization object at 0x7ff5d870d690>>: AssertionError: Bad argument number for Name: 3, expecting 4\n",
      "WARNING:tensorflow:Entity <bound method Conv.call of <tensorflow.python.layers.convolutional.Conv2D object at 0x7ff5fc6032d0>> could not be transformed and will be executed as-is. Please report this to the AutgoGraph team. When filing the bug, set the verbosity to 10 (on Linux, `export AUTOGRAPH_VERBOSITY=10`) and attach the full output. Cause: converting <bound method Conv.call of <tensorflow.python.layers.convolutional.Conv2D object at 0x7ff5fc6032d0>>: AssertionError: Bad argument number for Name: 3, expecting 4\n"
     ]
    },
    {
     "name": "stderr",
     "output_type": "stream",
     "text": [
      "W0703 16:37:45.662490 140698822833920 ag_logging.py:145] Entity <bound method Conv.call of <tensorflow.python.layers.convolutional.Conv2D object at 0x7ff5fc6032d0>> could not be transformed and will be executed as-is. Please report this to the AutgoGraph team. When filing the bug, set the verbosity to 10 (on Linux, `export AUTOGRAPH_VERBOSITY=10`) and attach the full output. Cause: converting <bound method Conv.call of <tensorflow.python.layers.convolutional.Conv2D object at 0x7ff5fc6032d0>>: AssertionError: Bad argument number for Name: 3, expecting 4\n"
     ]
    },
    {
     "name": "stdout",
     "output_type": "stream",
     "text": [
      "WARNING: Entity <bound method Conv.call of <tensorflow.python.layers.convolutional.Conv2D object at 0x7ff5fc6032d0>> could not be transformed and will be executed as-is. Please report this to the AutgoGraph team. When filing the bug, set the verbosity to 10 (on Linux, `export AUTOGRAPH_VERBOSITY=10`) and attach the full output. Cause: converting <bound method Conv.call of <tensorflow.python.layers.convolutional.Conv2D object at 0x7ff5fc6032d0>>: AssertionError: Bad argument number for Name: 3, expecting 4\n",
      "WARNING:tensorflow:Entity <bound method BatchNormalization.call of <tensorflow.python.layers.normalization.BatchNormalization object at 0x7ff5d8682850>> could not be transformed and will be executed as-is. Please report this to the AutgoGraph team. When filing the bug, set the verbosity to 10 (on Linux, `export AUTOGRAPH_VERBOSITY=10`) and attach the full output. Cause: converting <bound method BatchNormalization.call of <tensorflow.python.layers.normalization.BatchNormalization object at 0x7ff5d8682850>>: AssertionError: Bad argument number for Name: 3, expecting 4\n"
     ]
    },
    {
     "name": "stderr",
     "output_type": "stream",
     "text": [
      "W0703 16:37:45.684698 140698822833920 ag_logging.py:145] Entity <bound method BatchNormalization.call of <tensorflow.python.layers.normalization.BatchNormalization object at 0x7ff5d8682850>> could not be transformed and will be executed as-is. Please report this to the AutgoGraph team. When filing the bug, set the verbosity to 10 (on Linux, `export AUTOGRAPH_VERBOSITY=10`) and attach the full output. Cause: converting <bound method BatchNormalization.call of <tensorflow.python.layers.normalization.BatchNormalization object at 0x7ff5d8682850>>: AssertionError: Bad argument number for Name: 3, expecting 4\n"
     ]
    },
    {
     "name": "stdout",
     "output_type": "stream",
     "text": [
      "WARNING: Entity <bound method BatchNormalization.call of <tensorflow.python.layers.normalization.BatchNormalization object at 0x7ff5d8682850>> could not be transformed and will be executed as-is. Please report this to the AutgoGraph team. When filing the bug, set the verbosity to 10 (on Linux, `export AUTOGRAPH_VERBOSITY=10`) and attach the full output. Cause: converting <bound method BatchNormalization.call of <tensorflow.python.layers.normalization.BatchNormalization object at 0x7ff5d8682850>>: AssertionError: Bad argument number for Name: 3, expecting 4\n",
      "WARNING:tensorflow:Entity <bound method Conv.call of <tensorflow.python.layers.convolutional.Conv2D object at 0x7ff5fc46fb50>> could not be transformed and will be executed as-is. Please report this to the AutgoGraph team. When filing the bug, set the verbosity to 10 (on Linux, `export AUTOGRAPH_VERBOSITY=10`) and attach the full output. Cause: converting <bound method Conv.call of <tensorflow.python.layers.convolutional.Conv2D object at 0x7ff5fc46fb50>>: AssertionError: Bad argument number for Name: 3, expecting 4\n"
     ]
    },
    {
     "name": "stderr",
     "output_type": "stream",
     "text": [
      "W0703 16:37:45.746081 140698822833920 ag_logging.py:145] Entity <bound method Conv.call of <tensorflow.python.layers.convolutional.Conv2D object at 0x7ff5fc46fb50>> could not be transformed and will be executed as-is. Please report this to the AutgoGraph team. When filing the bug, set the verbosity to 10 (on Linux, `export AUTOGRAPH_VERBOSITY=10`) and attach the full output. Cause: converting <bound method Conv.call of <tensorflow.python.layers.convolutional.Conv2D object at 0x7ff5fc46fb50>>: AssertionError: Bad argument number for Name: 3, expecting 4\n"
     ]
    },
    {
     "name": "stdout",
     "output_type": "stream",
     "text": [
      "WARNING: Entity <bound method Conv.call of <tensorflow.python.layers.convolutional.Conv2D object at 0x7ff5fc46fb50>> could not be transformed and will be executed as-is. Please report this to the AutgoGraph team. When filing the bug, set the verbosity to 10 (on Linux, `export AUTOGRAPH_VERBOSITY=10`) and attach the full output. Cause: converting <bound method Conv.call of <tensorflow.python.layers.convolutional.Conv2D object at 0x7ff5fc46fb50>>: AssertionError: Bad argument number for Name: 3, expecting 4\n",
      "WARNING:tensorflow:Entity <bound method BatchNormalization.call of <tensorflow.python.layers.normalization.BatchNormalization object at 0x7ff5d8665d90>> could not be transformed and will be executed as-is. Please report this to the AutgoGraph team. When filing the bug, set the verbosity to 10 (on Linux, `export AUTOGRAPH_VERBOSITY=10`) and attach the full output. Cause: converting <bound method BatchNormalization.call of <tensorflow.python.layers.normalization.BatchNormalization object at 0x7ff5d8665d90>>: AssertionError: Bad argument number for Name: 3, expecting 4\n"
     ]
    },
    {
     "name": "stderr",
     "output_type": "stream",
     "text": [
      "W0703 16:37:45.768237 140698822833920 ag_logging.py:145] Entity <bound method BatchNormalization.call of <tensorflow.python.layers.normalization.BatchNormalization object at 0x7ff5d8665d90>> could not be transformed and will be executed as-is. Please report this to the AutgoGraph team. When filing the bug, set the verbosity to 10 (on Linux, `export AUTOGRAPH_VERBOSITY=10`) and attach the full output. Cause: converting <bound method BatchNormalization.call of <tensorflow.python.layers.normalization.BatchNormalization object at 0x7ff5d8665d90>>: AssertionError: Bad argument number for Name: 3, expecting 4\n"
     ]
    },
    {
     "name": "stdout",
     "output_type": "stream",
     "text": [
      "WARNING: Entity <bound method BatchNormalization.call of <tensorflow.python.layers.normalization.BatchNormalization object at 0x7ff5d8665d90>> could not be transformed and will be executed as-is. Please report this to the AutgoGraph team. When filing the bug, set the verbosity to 10 (on Linux, `export AUTOGRAPH_VERBOSITY=10`) and attach the full output. Cause: converting <bound method BatchNormalization.call of <tensorflow.python.layers.normalization.BatchNormalization object at 0x7ff5d8665d90>>: AssertionError: Bad argument number for Name: 3, expecting 4\n",
      "WARNING:tensorflow:Entity <bound method Conv.call of <tensorflow.python.layers.convolutional.Conv2D object at 0x7ff5fc0aae10>> could not be transformed and will be executed as-is. Please report this to the AutgoGraph team. When filing the bug, set the verbosity to 10 (on Linux, `export AUTOGRAPH_VERBOSITY=10`) and attach the full output. Cause: converting <bound method Conv.call of <tensorflow.python.layers.convolutional.Conv2D object at 0x7ff5fc0aae10>>: AssertionError: Bad argument number for Name: 3, expecting 4\n"
     ]
    },
    {
     "name": "stderr",
     "output_type": "stream",
     "text": [
      "W0703 16:37:45.826266 140698822833920 ag_logging.py:145] Entity <bound method Conv.call of <tensorflow.python.layers.convolutional.Conv2D object at 0x7ff5fc0aae10>> could not be transformed and will be executed as-is. Please report this to the AutgoGraph team. When filing the bug, set the verbosity to 10 (on Linux, `export AUTOGRAPH_VERBOSITY=10`) and attach the full output. Cause: converting <bound method Conv.call of <tensorflow.python.layers.convolutional.Conv2D object at 0x7ff5fc0aae10>>: AssertionError: Bad argument number for Name: 3, expecting 4\n"
     ]
    },
    {
     "name": "stdout",
     "output_type": "stream",
     "text": [
      "WARNING: Entity <bound method Conv.call of <tensorflow.python.layers.convolutional.Conv2D object at 0x7ff5fc0aae10>> could not be transformed and will be executed as-is. Please report this to the AutgoGraph team. When filing the bug, set the verbosity to 10 (on Linux, `export AUTOGRAPH_VERBOSITY=10`) and attach the full output. Cause: converting <bound method Conv.call of <tensorflow.python.layers.convolutional.Conv2D object at 0x7ff5fc0aae10>>: AssertionError: Bad argument number for Name: 3, expecting 4\n",
      "WARNING:tensorflow:Entity <bound method BatchNormalization.call of <tensorflow.python.layers.normalization.BatchNormalization object at 0x7ff5d85a3f90>> could not be transformed and will be executed as-is. Please report this to the AutgoGraph team. When filing the bug, set the verbosity to 10 (on Linux, `export AUTOGRAPH_VERBOSITY=10`) and attach the full output. Cause: converting <bound method BatchNormalization.call of <tensorflow.python.layers.normalization.BatchNormalization object at 0x7ff5d85a3f90>>: AssertionError: Bad argument number for Name: 3, expecting 4\n"
     ]
    },
    {
     "name": "stderr",
     "output_type": "stream",
     "text": [
      "W0703 16:37:45.848571 140698822833920 ag_logging.py:145] Entity <bound method BatchNormalization.call of <tensorflow.python.layers.normalization.BatchNormalization object at 0x7ff5d85a3f90>> could not be transformed and will be executed as-is. Please report this to the AutgoGraph team. When filing the bug, set the verbosity to 10 (on Linux, `export AUTOGRAPH_VERBOSITY=10`) and attach the full output. Cause: converting <bound method BatchNormalization.call of <tensorflow.python.layers.normalization.BatchNormalization object at 0x7ff5d85a3f90>>: AssertionError: Bad argument number for Name: 3, expecting 4\n"
     ]
    },
    {
     "name": "stdout",
     "output_type": "stream",
     "text": [
      "WARNING: Entity <bound method BatchNormalization.call of <tensorflow.python.layers.normalization.BatchNormalization object at 0x7ff5d85a3f90>> could not be transformed and will be executed as-is. Please report this to the AutgoGraph team. When filing the bug, set the verbosity to 10 (on Linux, `export AUTOGRAPH_VERBOSITY=10`) and attach the full output. Cause: converting <bound method BatchNormalization.call of <tensorflow.python.layers.normalization.BatchNormalization object at 0x7ff5d85a3f90>>: AssertionError: Bad argument number for Name: 3, expecting 4\n",
      "WARNING:tensorflow:Entity <bound method Conv.call of <tensorflow.python.layers.convolutional.Conv2D object at 0x7ff5fc472c50>> could not be transformed and will be executed as-is. Please report this to the AutgoGraph team. When filing the bug, set the verbosity to 10 (on Linux, `export AUTOGRAPH_VERBOSITY=10`) and attach the full output. Cause: converting <bound method Conv.call of <tensorflow.python.layers.convolutional.Conv2D object at 0x7ff5fc472c50>>: AssertionError: Bad argument number for Name: 3, expecting 4\n"
     ]
    },
    {
     "name": "stderr",
     "output_type": "stream",
     "text": [
      "W0703 16:37:45.910495 140698822833920 ag_logging.py:145] Entity <bound method Conv.call of <tensorflow.python.layers.convolutional.Conv2D object at 0x7ff5fc472c50>> could not be transformed and will be executed as-is. Please report this to the AutgoGraph team. When filing the bug, set the verbosity to 10 (on Linux, `export AUTOGRAPH_VERBOSITY=10`) and attach the full output. Cause: converting <bound method Conv.call of <tensorflow.python.layers.convolutional.Conv2D object at 0x7ff5fc472c50>>: AssertionError: Bad argument number for Name: 3, expecting 4\n"
     ]
    },
    {
     "name": "stdout",
     "output_type": "stream",
     "text": [
      "WARNING: Entity <bound method Conv.call of <tensorflow.python.layers.convolutional.Conv2D object at 0x7ff5fc472c50>> could not be transformed and will be executed as-is. Please report this to the AutgoGraph team. When filing the bug, set the verbosity to 10 (on Linux, `export AUTOGRAPH_VERBOSITY=10`) and attach the full output. Cause: converting <bound method Conv.call of <tensorflow.python.layers.convolutional.Conv2D object at 0x7ff5fc472c50>>: AssertionError: Bad argument number for Name: 3, expecting 4\n",
      "WARNING:tensorflow:Entity <bound method BatchNormalization.call of <tensorflow.python.layers.normalization.BatchNormalization object at 0x7ff5d862d7d0>> could not be transformed and will be executed as-is. Please report this to the AutgoGraph team. When filing the bug, set the verbosity to 10 (on Linux, `export AUTOGRAPH_VERBOSITY=10`) and attach the full output. Cause: converting <bound method BatchNormalization.call of <tensorflow.python.layers.normalization.BatchNormalization object at 0x7ff5d862d7d0>>: AssertionError: Bad argument number for Name: 3, expecting 4\n"
     ]
    },
    {
     "name": "stderr",
     "output_type": "stream",
     "text": [
      "W0703 16:37:45.933317 140698822833920 ag_logging.py:145] Entity <bound method BatchNormalization.call of <tensorflow.python.layers.normalization.BatchNormalization object at 0x7ff5d862d7d0>> could not be transformed and will be executed as-is. Please report this to the AutgoGraph team. When filing the bug, set the verbosity to 10 (on Linux, `export AUTOGRAPH_VERBOSITY=10`) and attach the full output. Cause: converting <bound method BatchNormalization.call of <tensorflow.python.layers.normalization.BatchNormalization object at 0x7ff5d862d7d0>>: AssertionError: Bad argument number for Name: 3, expecting 4\n"
     ]
    },
    {
     "name": "stdout",
     "output_type": "stream",
     "text": [
      "WARNING: Entity <bound method BatchNormalization.call of <tensorflow.python.layers.normalization.BatchNormalization object at 0x7ff5d862d7d0>> could not be transformed and will be executed as-is. Please report this to the AutgoGraph team. When filing the bug, set the verbosity to 10 (on Linux, `export AUTOGRAPH_VERBOSITY=10`) and attach the full output. Cause: converting <bound method BatchNormalization.call of <tensorflow.python.layers.normalization.BatchNormalization object at 0x7ff5d862d7d0>>: AssertionError: Bad argument number for Name: 3, expecting 4\n",
      "WARNING:tensorflow:Entity <bound method Conv.call of <tensorflow.python.layers.convolutional.Conv2D object at 0x7ff62c1a6510>> could not be transformed and will be executed as-is. Please report this to the AutgoGraph team. When filing the bug, set the verbosity to 10 (on Linux, `export AUTOGRAPH_VERBOSITY=10`) and attach the full output. Cause: converting <bound method Conv.call of <tensorflow.python.layers.convolutional.Conv2D object at 0x7ff62c1a6510>>: AssertionError: Bad argument number for Name: 3, expecting 4\n"
     ]
    },
    {
     "name": "stderr",
     "output_type": "stream",
     "text": [
      "W0703 16:37:45.992078 140698822833920 ag_logging.py:145] Entity <bound method Conv.call of <tensorflow.python.layers.convolutional.Conv2D object at 0x7ff62c1a6510>> could not be transformed and will be executed as-is. Please report this to the AutgoGraph team. When filing the bug, set the verbosity to 10 (on Linux, `export AUTOGRAPH_VERBOSITY=10`) and attach the full output. Cause: converting <bound method Conv.call of <tensorflow.python.layers.convolutional.Conv2D object at 0x7ff62c1a6510>>: AssertionError: Bad argument number for Name: 3, expecting 4\n"
     ]
    },
    {
     "name": "stdout",
     "output_type": "stream",
     "text": [
      "WARNING: Entity <bound method Conv.call of <tensorflow.python.layers.convolutional.Conv2D object at 0x7ff62c1a6510>> could not be transformed and will be executed as-is. Please report this to the AutgoGraph team. When filing the bug, set the verbosity to 10 (on Linux, `export AUTOGRAPH_VERBOSITY=10`) and attach the full output. Cause: converting <bound method Conv.call of <tensorflow.python.layers.convolutional.Conv2D object at 0x7ff62c1a6510>>: AssertionError: Bad argument number for Name: 3, expecting 4\n",
      "WARNING:tensorflow:Entity <bound method BatchNormalization.call of <tensorflow.python.layers.normalization.BatchNormalization object at 0x7ff62c1973d0>> could not be transformed and will be executed as-is. Please report this to the AutgoGraph team. When filing the bug, set the verbosity to 10 (on Linux, `export AUTOGRAPH_VERBOSITY=10`) and attach the full output. Cause: converting <bound method BatchNormalization.call of <tensorflow.python.layers.normalization.BatchNormalization object at 0x7ff62c1973d0>>: AssertionError: Bad argument number for Name: 3, expecting 4\n"
     ]
    },
    {
     "name": "stderr",
     "output_type": "stream",
     "text": [
      "W0703 16:37:46.014568 140698822833920 ag_logging.py:145] Entity <bound method BatchNormalization.call of <tensorflow.python.layers.normalization.BatchNormalization object at 0x7ff62c1973d0>> could not be transformed and will be executed as-is. Please report this to the AutgoGraph team. When filing the bug, set the verbosity to 10 (on Linux, `export AUTOGRAPH_VERBOSITY=10`) and attach the full output. Cause: converting <bound method BatchNormalization.call of <tensorflow.python.layers.normalization.BatchNormalization object at 0x7ff62c1973d0>>: AssertionError: Bad argument number for Name: 3, expecting 4\n"
     ]
    },
    {
     "name": "stdout",
     "output_type": "stream",
     "text": [
      "WARNING: Entity <bound method BatchNormalization.call of <tensorflow.python.layers.normalization.BatchNormalization object at 0x7ff62c1973d0>> could not be transformed and will be executed as-is. Please report this to the AutgoGraph team. When filing the bug, set the verbosity to 10 (on Linux, `export AUTOGRAPH_VERBOSITY=10`) and attach the full output. Cause: converting <bound method BatchNormalization.call of <tensorflow.python.layers.normalization.BatchNormalization object at 0x7ff62c1973d0>>: AssertionError: Bad argument number for Name: 3, expecting 4\n",
      "WARNING:tensorflow:Entity <bound method Conv.call of <tensorflow.python.layers.convolutional.Conv2D object at 0x7ff5d85bded0>> could not be transformed and will be executed as-is. Please report this to the AutgoGraph team. When filing the bug, set the verbosity to 10 (on Linux, `export AUTOGRAPH_VERBOSITY=10`) and attach the full output. Cause: converting <bound method Conv.call of <tensorflow.python.layers.convolutional.Conv2D object at 0x7ff5d85bded0>>: AssertionError: Bad argument number for Name: 3, expecting 4\n"
     ]
    },
    {
     "name": "stderr",
     "output_type": "stream",
     "text": [
      "W0703 16:37:46.074419 140698822833920 ag_logging.py:145] Entity <bound method Conv.call of <tensorflow.python.layers.convolutional.Conv2D object at 0x7ff5d85bded0>> could not be transformed and will be executed as-is. Please report this to the AutgoGraph team. When filing the bug, set the verbosity to 10 (on Linux, `export AUTOGRAPH_VERBOSITY=10`) and attach the full output. Cause: converting <bound method Conv.call of <tensorflow.python.layers.convolutional.Conv2D object at 0x7ff5d85bded0>>: AssertionError: Bad argument number for Name: 3, expecting 4\n"
     ]
    },
    {
     "name": "stdout",
     "output_type": "stream",
     "text": [
      "WARNING: Entity <bound method Conv.call of <tensorflow.python.layers.convolutional.Conv2D object at 0x7ff5d85bded0>> could not be transformed and will be executed as-is. Please report this to the AutgoGraph team. When filing the bug, set the verbosity to 10 (on Linux, `export AUTOGRAPH_VERBOSITY=10`) and attach the full output. Cause: converting <bound method Conv.call of <tensorflow.python.layers.convolutional.Conv2D object at 0x7ff5d85bded0>>: AssertionError: Bad argument number for Name: 3, expecting 4\n",
      "WARNING:tensorflow:Entity <bound method BatchNormalization.call of <tensorflow.python.layers.normalization.BatchNormalization object at 0x7ff5d8574590>> could not be transformed and will be executed as-is. Please report this to the AutgoGraph team. When filing the bug, set the verbosity to 10 (on Linux, `export AUTOGRAPH_VERBOSITY=10`) and attach the full output. Cause: converting <bound method BatchNormalization.call of <tensorflow.python.layers.normalization.BatchNormalization object at 0x7ff5d8574590>>: AssertionError: Bad argument number for Name: 3, expecting 4\n"
     ]
    },
    {
     "name": "stderr",
     "output_type": "stream",
     "text": [
      "W0703 16:37:46.096673 140698822833920 ag_logging.py:145] Entity <bound method BatchNormalization.call of <tensorflow.python.layers.normalization.BatchNormalization object at 0x7ff5d8574590>> could not be transformed and will be executed as-is. Please report this to the AutgoGraph team. When filing the bug, set the verbosity to 10 (on Linux, `export AUTOGRAPH_VERBOSITY=10`) and attach the full output. Cause: converting <bound method BatchNormalization.call of <tensorflow.python.layers.normalization.BatchNormalization object at 0x7ff5d8574590>>: AssertionError: Bad argument number for Name: 3, expecting 4\n"
     ]
    },
    {
     "name": "stdout",
     "output_type": "stream",
     "text": [
      "WARNING: Entity <bound method BatchNormalization.call of <tensorflow.python.layers.normalization.BatchNormalization object at 0x7ff5d8574590>> could not be transformed and will be executed as-is. Please report this to the AutgoGraph team. When filing the bug, set the verbosity to 10 (on Linux, `export AUTOGRAPH_VERBOSITY=10`) and attach the full output. Cause: converting <bound method BatchNormalization.call of <tensorflow.python.layers.normalization.BatchNormalization object at 0x7ff5d8574590>>: AssertionError: Bad argument number for Name: 3, expecting 4\n",
      "WARNING:tensorflow:Entity <bound method Pooling2D.call of <tensorflow.python.layers.pooling.AveragePooling2D object at 0x7ff5d85a97d0>> could not be transformed and will be executed as-is. Please report this to the AutgoGraph team. When filing the bug, set the verbosity to 10 (on Linux, `export AUTOGRAPH_VERBOSITY=10`) and attach the full output. Cause: converting <bound method Pooling2D.call of <tensorflow.python.layers.pooling.AveragePooling2D object at 0x7ff5d85a97d0>>: AssertionError: Bad argument number for Name: 3, expecting 4\n"
     ]
    },
    {
     "name": "stderr",
     "output_type": "stream",
     "text": [
      "W0703 16:37:46.141505 140698822833920 ag_logging.py:145] Entity <bound method Pooling2D.call of <tensorflow.python.layers.pooling.AveragePooling2D object at 0x7ff5d85a97d0>> could not be transformed and will be executed as-is. Please report this to the AutgoGraph team. When filing the bug, set the verbosity to 10 (on Linux, `export AUTOGRAPH_VERBOSITY=10`) and attach the full output. Cause: converting <bound method Pooling2D.call of <tensorflow.python.layers.pooling.AveragePooling2D object at 0x7ff5d85a97d0>>: AssertionError: Bad argument number for Name: 3, expecting 4\n"
     ]
    },
    {
     "name": "stdout",
     "output_type": "stream",
     "text": [
      "WARNING: Entity <bound method Pooling2D.call of <tensorflow.python.layers.pooling.AveragePooling2D object at 0x7ff5d85a97d0>> could not be transformed and will be executed as-is. Please report this to the AutgoGraph team. When filing the bug, set the verbosity to 10 (on Linux, `export AUTOGRAPH_VERBOSITY=10`) and attach the full output. Cause: converting <bound method Pooling2D.call of <tensorflow.python.layers.pooling.AveragePooling2D object at 0x7ff5d85a97d0>>: AssertionError: Bad argument number for Name: 3, expecting 4\n",
      "WARNING:tensorflow:Entity <bound method Conv.call of <tensorflow.python.layers.convolutional.Conv2D object at 0x7ff5fc6032d0>> could not be transformed and will be executed as-is. Please report this to the AutgoGraph team. When filing the bug, set the verbosity to 10 (on Linux, `export AUTOGRAPH_VERBOSITY=10`) and attach the full output. Cause: converting <bound method Conv.call of <tensorflow.python.layers.convolutional.Conv2D object at 0x7ff5fc6032d0>>: AssertionError: Bad argument number for Name: 3, expecting 4\n"
     ]
    },
    {
     "name": "stderr",
     "output_type": "stream",
     "text": [
      "W0703 16:37:46.199649 140698822833920 ag_logging.py:145] Entity <bound method Conv.call of <tensorflow.python.layers.convolutional.Conv2D object at 0x7ff5fc6032d0>> could not be transformed and will be executed as-is. Please report this to the AutgoGraph team. When filing the bug, set the verbosity to 10 (on Linux, `export AUTOGRAPH_VERBOSITY=10`) and attach the full output. Cause: converting <bound method Conv.call of <tensorflow.python.layers.convolutional.Conv2D object at 0x7ff5fc6032d0>>: AssertionError: Bad argument number for Name: 3, expecting 4\n"
     ]
    },
    {
     "name": "stdout",
     "output_type": "stream",
     "text": [
      "WARNING: Entity <bound method Conv.call of <tensorflow.python.layers.convolutional.Conv2D object at 0x7ff5fc6032d0>> could not be transformed and will be executed as-is. Please report this to the AutgoGraph team. When filing the bug, set the verbosity to 10 (on Linux, `export AUTOGRAPH_VERBOSITY=10`) and attach the full output. Cause: converting <bound method Conv.call of <tensorflow.python.layers.convolutional.Conv2D object at 0x7ff5fc6032d0>>: AssertionError: Bad argument number for Name: 3, expecting 4\n",
      "WARNING:tensorflow:Entity <bound method BatchNormalization.call of <tensorflow.python.layers.normalization.BatchNormalization object at 0x7ff5d8444b90>> could not be transformed and will be executed as-is. Please report this to the AutgoGraph team. When filing the bug, set the verbosity to 10 (on Linux, `export AUTOGRAPH_VERBOSITY=10`) and attach the full output. Cause: converting <bound method BatchNormalization.call of <tensorflow.python.layers.normalization.BatchNormalization object at 0x7ff5d8444b90>>: AssertionError: Bad argument number for Name: 3, expecting 4\n"
     ]
    },
    {
     "name": "stderr",
     "output_type": "stream",
     "text": [
      "W0703 16:37:46.222325 140698822833920 ag_logging.py:145] Entity <bound method BatchNormalization.call of <tensorflow.python.layers.normalization.BatchNormalization object at 0x7ff5d8444b90>> could not be transformed and will be executed as-is. Please report this to the AutgoGraph team. When filing the bug, set the verbosity to 10 (on Linux, `export AUTOGRAPH_VERBOSITY=10`) and attach the full output. Cause: converting <bound method BatchNormalization.call of <tensorflow.python.layers.normalization.BatchNormalization object at 0x7ff5d8444b90>>: AssertionError: Bad argument number for Name: 3, expecting 4\n"
     ]
    },
    {
     "name": "stdout",
     "output_type": "stream",
     "text": [
      "WARNING: Entity <bound method BatchNormalization.call of <tensorflow.python.layers.normalization.BatchNormalization object at 0x7ff5d8444b90>> could not be transformed and will be executed as-is. Please report this to the AutgoGraph team. When filing the bug, set the verbosity to 10 (on Linux, `export AUTOGRAPH_VERBOSITY=10`) and attach the full output. Cause: converting <bound method BatchNormalization.call of <tensorflow.python.layers.normalization.BatchNormalization object at 0x7ff5d8444b90>>: AssertionError: Bad argument number for Name: 3, expecting 4\n",
      "WARNING:tensorflow:Entity <bound method Conv.call of <tensorflow.python.layers.convolutional.Conv2D object at 0x7ff5d84feb90>> could not be transformed and will be executed as-is. Please report this to the AutgoGraph team. When filing the bug, set the verbosity to 10 (on Linux, `export AUTOGRAPH_VERBOSITY=10`) and attach the full output. Cause: converting <bound method Conv.call of <tensorflow.python.layers.convolutional.Conv2D object at 0x7ff5d84feb90>>: AssertionError: Bad argument number for Name: 3, expecting 4\n"
     ]
    },
    {
     "name": "stderr",
     "output_type": "stream",
     "text": [
      "W0703 16:37:46.280819 140698822833920 ag_logging.py:145] Entity <bound method Conv.call of <tensorflow.python.layers.convolutional.Conv2D object at 0x7ff5d84feb90>> could not be transformed and will be executed as-is. Please report this to the AutgoGraph team. When filing the bug, set the verbosity to 10 (on Linux, `export AUTOGRAPH_VERBOSITY=10`) and attach the full output. Cause: converting <bound method Conv.call of <tensorflow.python.layers.convolutional.Conv2D object at 0x7ff5d84feb90>>: AssertionError: Bad argument number for Name: 3, expecting 4\n"
     ]
    },
    {
     "name": "stdout",
     "output_type": "stream",
     "text": [
      "WARNING: Entity <bound method Conv.call of <tensorflow.python.layers.convolutional.Conv2D object at 0x7ff5d84feb90>> could not be transformed and will be executed as-is. Please report this to the AutgoGraph team. When filing the bug, set the verbosity to 10 (on Linux, `export AUTOGRAPH_VERBOSITY=10`) and attach the full output. Cause: converting <bound method Conv.call of <tensorflow.python.layers.convolutional.Conv2D object at 0x7ff5d84feb90>>: AssertionError: Bad argument number for Name: 3, expecting 4\n",
      "WARNING:tensorflow:Entity <bound method BatchNormalization.call of <tensorflow.python.layers.normalization.BatchNormalization object at 0x7ff5d84b5b50>> could not be transformed and will be executed as-is. Please report this to the AutgoGraph team. When filing the bug, set the verbosity to 10 (on Linux, `export AUTOGRAPH_VERBOSITY=10`) and attach the full output. Cause: converting <bound method BatchNormalization.call of <tensorflow.python.layers.normalization.BatchNormalization object at 0x7ff5d84b5b50>>: AssertionError: Bad argument number for Name: 3, expecting 4\n"
     ]
    },
    {
     "name": "stderr",
     "output_type": "stream",
     "text": [
      "W0703 16:37:46.304001 140698822833920 ag_logging.py:145] Entity <bound method BatchNormalization.call of <tensorflow.python.layers.normalization.BatchNormalization object at 0x7ff5d84b5b50>> could not be transformed and will be executed as-is. Please report this to the AutgoGraph team. When filing the bug, set the verbosity to 10 (on Linux, `export AUTOGRAPH_VERBOSITY=10`) and attach the full output. Cause: converting <bound method BatchNormalization.call of <tensorflow.python.layers.normalization.BatchNormalization object at 0x7ff5d84b5b50>>: AssertionError: Bad argument number for Name: 3, expecting 4\n"
     ]
    },
    {
     "name": "stdout",
     "output_type": "stream",
     "text": [
      "WARNING: Entity <bound method BatchNormalization.call of <tensorflow.python.layers.normalization.BatchNormalization object at 0x7ff5d84b5b50>> could not be transformed and will be executed as-is. Please report this to the AutgoGraph team. When filing the bug, set the verbosity to 10 (on Linux, `export AUTOGRAPH_VERBOSITY=10`) and attach the full output. Cause: converting <bound method BatchNormalization.call of <tensorflow.python.layers.normalization.BatchNormalization object at 0x7ff5d84b5b50>>: AssertionError: Bad argument number for Name: 3, expecting 4\n",
      "WARNING:tensorflow:Entity <bound method Conv.call of <tensorflow.python.layers.convolutional.Conv2D object at 0x7ff5fc0aa090>> could not be transformed and will be executed as-is. Please report this to the AutgoGraph team. When filing the bug, set the verbosity to 10 (on Linux, `export AUTOGRAPH_VERBOSITY=10`) and attach the full output. Cause: converting <bound method Conv.call of <tensorflow.python.layers.convolutional.Conv2D object at 0x7ff5fc0aa090>>: AssertionError: Bad argument number for Name: 3, expecting 4\n"
     ]
    },
    {
     "name": "stderr",
     "output_type": "stream",
     "text": [
      "W0703 16:37:46.362557 140698822833920 ag_logging.py:145] Entity <bound method Conv.call of <tensorflow.python.layers.convolutional.Conv2D object at 0x7ff5fc0aa090>> could not be transformed and will be executed as-is. Please report this to the AutgoGraph team. When filing the bug, set the verbosity to 10 (on Linux, `export AUTOGRAPH_VERBOSITY=10`) and attach the full output. Cause: converting <bound method Conv.call of <tensorflow.python.layers.convolutional.Conv2D object at 0x7ff5fc0aa090>>: AssertionError: Bad argument number for Name: 3, expecting 4\n"
     ]
    },
    {
     "name": "stdout",
     "output_type": "stream",
     "text": [
      "WARNING: Entity <bound method Conv.call of <tensorflow.python.layers.convolutional.Conv2D object at 0x7ff5fc0aa090>> could not be transformed and will be executed as-is. Please report this to the AutgoGraph team. When filing the bug, set the verbosity to 10 (on Linux, `export AUTOGRAPH_VERBOSITY=10`) and attach the full output. Cause: converting <bound method Conv.call of <tensorflow.python.layers.convolutional.Conv2D object at 0x7ff5fc0aa090>>: AssertionError: Bad argument number for Name: 3, expecting 4\n",
      "WARNING:tensorflow:Entity <bound method BatchNormalization.call of <tensorflow.python.layers.normalization.BatchNormalization object at 0x7ff5d84461d0>> could not be transformed and will be executed as-is. Please report this to the AutgoGraph team. When filing the bug, set the verbosity to 10 (on Linux, `export AUTOGRAPH_VERBOSITY=10`) and attach the full output. Cause: converting <bound method BatchNormalization.call of <tensorflow.python.layers.normalization.BatchNormalization object at 0x7ff5d84461d0>>: AssertionError: Bad argument number for Name: 3, expecting 4\n"
     ]
    },
    {
     "name": "stderr",
     "output_type": "stream",
     "text": [
      "W0703 16:37:46.385095 140698822833920 ag_logging.py:145] Entity <bound method BatchNormalization.call of <tensorflow.python.layers.normalization.BatchNormalization object at 0x7ff5d84461d0>> could not be transformed and will be executed as-is. Please report this to the AutgoGraph team. When filing the bug, set the verbosity to 10 (on Linux, `export AUTOGRAPH_VERBOSITY=10`) and attach the full output. Cause: converting <bound method BatchNormalization.call of <tensorflow.python.layers.normalization.BatchNormalization object at 0x7ff5d84461d0>>: AssertionError: Bad argument number for Name: 3, expecting 4\n"
     ]
    },
    {
     "name": "stdout",
     "output_type": "stream",
     "text": [
      "WARNING: Entity <bound method BatchNormalization.call of <tensorflow.python.layers.normalization.BatchNormalization object at 0x7ff5d84461d0>> could not be transformed and will be executed as-is. Please report this to the AutgoGraph team. When filing the bug, set the verbosity to 10 (on Linux, `export AUTOGRAPH_VERBOSITY=10`) and attach the full output. Cause: converting <bound method BatchNormalization.call of <tensorflow.python.layers.normalization.BatchNormalization object at 0x7ff5d84461d0>>: AssertionError: Bad argument number for Name: 3, expecting 4\n",
      "WARNING:tensorflow:Entity <bound method Conv.call of <tensorflow.python.layers.convolutional.Conv2D object at 0x7ff5d873e590>> could not be transformed and will be executed as-is. Please report this to the AutgoGraph team. When filing the bug, set the verbosity to 10 (on Linux, `export AUTOGRAPH_VERBOSITY=10`) and attach the full output. Cause: converting <bound method Conv.call of <tensorflow.python.layers.convolutional.Conv2D object at 0x7ff5d873e590>>: AssertionError: Bad argument number for Name: 3, expecting 4\n"
     ]
    },
    {
     "name": "stderr",
     "output_type": "stream",
     "text": [
      "W0703 16:37:46.445864 140698822833920 ag_logging.py:145] Entity <bound method Conv.call of <tensorflow.python.layers.convolutional.Conv2D object at 0x7ff5d873e590>> could not be transformed and will be executed as-is. Please report this to the AutgoGraph team. When filing the bug, set the verbosity to 10 (on Linux, `export AUTOGRAPH_VERBOSITY=10`) and attach the full output. Cause: converting <bound method Conv.call of <tensorflow.python.layers.convolutional.Conv2D object at 0x7ff5d873e590>>: AssertionError: Bad argument number for Name: 3, expecting 4\n"
     ]
    },
    {
     "name": "stdout",
     "output_type": "stream",
     "text": [
      "WARNING: Entity <bound method Conv.call of <tensorflow.python.layers.convolutional.Conv2D object at 0x7ff5d873e590>> could not be transformed and will be executed as-is. Please report this to the AutgoGraph team. When filing the bug, set the verbosity to 10 (on Linux, `export AUTOGRAPH_VERBOSITY=10`) and attach the full output. Cause: converting <bound method Conv.call of <tensorflow.python.layers.convolutional.Conv2D object at 0x7ff5d873e590>>: AssertionError: Bad argument number for Name: 3, expecting 4\n",
      "WARNING:tensorflow:Entity <bound method BatchNormalization.call of <tensorflow.python.layers.normalization.BatchNormalization object at 0x7ff5d8446ad0>> could not be transformed and will be executed as-is. Please report this to the AutgoGraph team. When filing the bug, set the verbosity to 10 (on Linux, `export AUTOGRAPH_VERBOSITY=10`) and attach the full output. Cause: converting <bound method BatchNormalization.call of <tensorflow.python.layers.normalization.BatchNormalization object at 0x7ff5d8446ad0>>: AssertionError: Bad argument number for Name: 3, expecting 4\n"
     ]
    },
    {
     "name": "stderr",
     "output_type": "stream",
     "text": [
      "W0703 16:37:46.468559 140698822833920 ag_logging.py:145] Entity <bound method BatchNormalization.call of <tensorflow.python.layers.normalization.BatchNormalization object at 0x7ff5d8446ad0>> could not be transformed and will be executed as-is. Please report this to the AutgoGraph team. When filing the bug, set the verbosity to 10 (on Linux, `export AUTOGRAPH_VERBOSITY=10`) and attach the full output. Cause: converting <bound method BatchNormalization.call of <tensorflow.python.layers.normalization.BatchNormalization object at 0x7ff5d8446ad0>>: AssertionError: Bad argument number for Name: 3, expecting 4\n"
     ]
    },
    {
     "name": "stdout",
     "output_type": "stream",
     "text": [
      "WARNING: Entity <bound method BatchNormalization.call of <tensorflow.python.layers.normalization.BatchNormalization object at 0x7ff5d8446ad0>> could not be transformed and will be executed as-is. Please report this to the AutgoGraph team. When filing the bug, set the verbosity to 10 (on Linux, `export AUTOGRAPH_VERBOSITY=10`) and attach the full output. Cause: converting <bound method BatchNormalization.call of <tensorflow.python.layers.normalization.BatchNormalization object at 0x7ff5d8446ad0>>: AssertionError: Bad argument number for Name: 3, expecting 4\n",
      "WARNING:tensorflow:Entity <bound method Conv.call of <tensorflow.python.layers.convolutional.Conv2D object at 0x7ff5d8574050>> could not be transformed and will be executed as-is. Please report this to the AutgoGraph team. When filing the bug, set the verbosity to 10 (on Linux, `export AUTOGRAPH_VERBOSITY=10`) and attach the full output. Cause: converting <bound method Conv.call of <tensorflow.python.layers.convolutional.Conv2D object at 0x7ff5d8574050>>: AssertionError: Bad argument number for Name: 3, expecting 4\n"
     ]
    },
    {
     "name": "stderr",
     "output_type": "stream",
     "text": [
      "W0703 16:37:46.528132 140698822833920 ag_logging.py:145] Entity <bound method Conv.call of <tensorflow.python.layers.convolutional.Conv2D object at 0x7ff5d8574050>> could not be transformed and will be executed as-is. Please report this to the AutgoGraph team. When filing the bug, set the verbosity to 10 (on Linux, `export AUTOGRAPH_VERBOSITY=10`) and attach the full output. Cause: converting <bound method Conv.call of <tensorflow.python.layers.convolutional.Conv2D object at 0x7ff5d8574050>>: AssertionError: Bad argument number for Name: 3, expecting 4\n"
     ]
    },
    {
     "name": "stdout",
     "output_type": "stream",
     "text": [
      "WARNING: Entity <bound method Conv.call of <tensorflow.python.layers.convolutional.Conv2D object at 0x7ff5d8574050>> could not be transformed and will be executed as-is. Please report this to the AutgoGraph team. When filing the bug, set the verbosity to 10 (on Linux, `export AUTOGRAPH_VERBOSITY=10`) and attach the full output. Cause: converting <bound method Conv.call of <tensorflow.python.layers.convolutional.Conv2D object at 0x7ff5d8574050>>: AssertionError: Bad argument number for Name: 3, expecting 4\n",
      "WARNING:tensorflow:Entity <bound method BatchNormalization.call of <tensorflow.python.layers.normalization.BatchNormalization object at 0x7ff5d82c2210>> could not be transformed and will be executed as-is. Please report this to the AutgoGraph team. When filing the bug, set the verbosity to 10 (on Linux, `export AUTOGRAPH_VERBOSITY=10`) and attach the full output. Cause: converting <bound method BatchNormalization.call of <tensorflow.python.layers.normalization.BatchNormalization object at 0x7ff5d82c2210>>: AssertionError: Bad argument number for Name: 3, expecting 4\n"
     ]
    },
    {
     "name": "stderr",
     "output_type": "stream",
     "text": [
      "W0703 16:37:46.550440 140698822833920 ag_logging.py:145] Entity <bound method BatchNormalization.call of <tensorflow.python.layers.normalization.BatchNormalization object at 0x7ff5d82c2210>> could not be transformed and will be executed as-is. Please report this to the AutgoGraph team. When filing the bug, set the verbosity to 10 (on Linux, `export AUTOGRAPH_VERBOSITY=10`) and attach the full output. Cause: converting <bound method BatchNormalization.call of <tensorflow.python.layers.normalization.BatchNormalization object at 0x7ff5d82c2210>>: AssertionError: Bad argument number for Name: 3, expecting 4\n"
     ]
    },
    {
     "name": "stdout",
     "output_type": "stream",
     "text": [
      "WARNING: Entity <bound method BatchNormalization.call of <tensorflow.python.layers.normalization.BatchNormalization object at 0x7ff5d82c2210>> could not be transformed and will be executed as-is. Please report this to the AutgoGraph team. When filing the bug, set the verbosity to 10 (on Linux, `export AUTOGRAPH_VERBOSITY=10`) and attach the full output. Cause: converting <bound method BatchNormalization.call of <tensorflow.python.layers.normalization.BatchNormalization object at 0x7ff5d82c2210>>: AssertionError: Bad argument number for Name: 3, expecting 4\n",
      "WARNING:tensorflow:Entity <bound method Conv.call of <tensorflow.python.layers.convolutional.Conv2D object at 0x7ff6142e7650>> could not be transformed and will be executed as-is. Please report this to the AutgoGraph team. When filing the bug, set the verbosity to 10 (on Linux, `export AUTOGRAPH_VERBOSITY=10`) and attach the full output. Cause: converting <bound method Conv.call of <tensorflow.python.layers.convolutional.Conv2D object at 0x7ff6142e7650>>: AssertionError: Bad argument number for Name: 3, expecting 4\n"
     ]
    },
    {
     "name": "stderr",
     "output_type": "stream",
     "text": [
      "W0703 16:37:46.609367 140698822833920 ag_logging.py:145] Entity <bound method Conv.call of <tensorflow.python.layers.convolutional.Conv2D object at 0x7ff6142e7650>> could not be transformed and will be executed as-is. Please report this to the AutgoGraph team. When filing the bug, set the verbosity to 10 (on Linux, `export AUTOGRAPH_VERBOSITY=10`) and attach the full output. Cause: converting <bound method Conv.call of <tensorflow.python.layers.convolutional.Conv2D object at 0x7ff6142e7650>>: AssertionError: Bad argument number for Name: 3, expecting 4\n"
     ]
    },
    {
     "name": "stdout",
     "output_type": "stream",
     "text": [
      "WARNING: Entity <bound method Conv.call of <tensorflow.python.layers.convolutional.Conv2D object at 0x7ff6142e7650>> could not be transformed and will be executed as-is. Please report this to the AutgoGraph team. When filing the bug, set the verbosity to 10 (on Linux, `export AUTOGRAPH_VERBOSITY=10`) and attach the full output. Cause: converting <bound method Conv.call of <tensorflow.python.layers.convolutional.Conv2D object at 0x7ff6142e7650>>: AssertionError: Bad argument number for Name: 3, expecting 4\n",
      "WARNING:tensorflow:Entity <bound method BatchNormalization.call of <tensorflow.python.layers.normalization.BatchNormalization object at 0x7ff5d837ba10>> could not be transformed and will be executed as-is. Please report this to the AutgoGraph team. When filing the bug, set the verbosity to 10 (on Linux, `export AUTOGRAPH_VERBOSITY=10`) and attach the full output. Cause: converting <bound method BatchNormalization.call of <tensorflow.python.layers.normalization.BatchNormalization object at 0x7ff5d837ba10>>: AssertionError: Bad argument number for Name: 3, expecting 4\n"
     ]
    },
    {
     "name": "stderr",
     "output_type": "stream",
     "text": [
      "W0703 16:37:46.632067 140698822833920 ag_logging.py:145] Entity <bound method BatchNormalization.call of <tensorflow.python.layers.normalization.BatchNormalization object at 0x7ff5d837ba10>> could not be transformed and will be executed as-is. Please report this to the AutgoGraph team. When filing the bug, set the verbosity to 10 (on Linux, `export AUTOGRAPH_VERBOSITY=10`) and attach the full output. Cause: converting <bound method BatchNormalization.call of <tensorflow.python.layers.normalization.BatchNormalization object at 0x7ff5d837ba10>>: AssertionError: Bad argument number for Name: 3, expecting 4\n"
     ]
    },
    {
     "name": "stdout",
     "output_type": "stream",
     "text": [
      "WARNING: Entity <bound method BatchNormalization.call of <tensorflow.python.layers.normalization.BatchNormalization object at 0x7ff5d837ba10>> could not be transformed and will be executed as-is. Please report this to the AutgoGraph team. When filing the bug, set the verbosity to 10 (on Linux, `export AUTOGRAPH_VERBOSITY=10`) and attach the full output. Cause: converting <bound method BatchNormalization.call of <tensorflow.python.layers.normalization.BatchNormalization object at 0x7ff5d837ba10>>: AssertionError: Bad argument number for Name: 3, expecting 4\n",
      "WARNING:tensorflow:Entity <bound method Conv.call of <tensorflow.python.layers.convolutional.Conv2D object at 0x7ff5fc2df6d0>> could not be transformed and will be executed as-is. Please report this to the AutgoGraph team. When filing the bug, set the verbosity to 10 (on Linux, `export AUTOGRAPH_VERBOSITY=10`) and attach the full output. Cause: converting <bound method Conv.call of <tensorflow.python.layers.convolutional.Conv2D object at 0x7ff5fc2df6d0>>: AssertionError: Bad argument number for Name: 3, expecting 4\n"
     ]
    },
    {
     "name": "stderr",
     "output_type": "stream",
     "text": [
      "W0703 16:37:46.690961 140698822833920 ag_logging.py:145] Entity <bound method Conv.call of <tensorflow.python.layers.convolutional.Conv2D object at 0x7ff5fc2df6d0>> could not be transformed and will be executed as-is. Please report this to the AutgoGraph team. When filing the bug, set the verbosity to 10 (on Linux, `export AUTOGRAPH_VERBOSITY=10`) and attach the full output. Cause: converting <bound method Conv.call of <tensorflow.python.layers.convolutional.Conv2D object at 0x7ff5fc2df6d0>>: AssertionError: Bad argument number for Name: 3, expecting 4\n"
     ]
    },
    {
     "name": "stdout",
     "output_type": "stream",
     "text": [
      "WARNING: Entity <bound method Conv.call of <tensorflow.python.layers.convolutional.Conv2D object at 0x7ff5fc2df6d0>> could not be transformed and will be executed as-is. Please report this to the AutgoGraph team. When filing the bug, set the verbosity to 10 (on Linux, `export AUTOGRAPH_VERBOSITY=10`) and attach the full output. Cause: converting <bound method Conv.call of <tensorflow.python.layers.convolutional.Conv2D object at 0x7ff5fc2df6d0>>: AssertionError: Bad argument number for Name: 3, expecting 4\n",
      "WARNING:tensorflow:Entity <bound method BatchNormalization.call of <tensorflow.python.layers.normalization.BatchNormalization object at 0x7ff5d838c390>> could not be transformed and will be executed as-is. Please report this to the AutgoGraph team. When filing the bug, set the verbosity to 10 (on Linux, `export AUTOGRAPH_VERBOSITY=10`) and attach the full output. Cause: converting <bound method BatchNormalization.call of <tensorflow.python.layers.normalization.BatchNormalization object at 0x7ff5d838c390>>: AssertionError: Bad argument number for Name: 3, expecting 4\n"
     ]
    },
    {
     "name": "stderr",
     "output_type": "stream",
     "text": [
      "W0703 16:37:46.713299 140698822833920 ag_logging.py:145] Entity <bound method BatchNormalization.call of <tensorflow.python.layers.normalization.BatchNormalization object at 0x7ff5d838c390>> could not be transformed and will be executed as-is. Please report this to the AutgoGraph team. When filing the bug, set the verbosity to 10 (on Linux, `export AUTOGRAPH_VERBOSITY=10`) and attach the full output. Cause: converting <bound method BatchNormalization.call of <tensorflow.python.layers.normalization.BatchNormalization object at 0x7ff5d838c390>>: AssertionError: Bad argument number for Name: 3, expecting 4\n"
     ]
    },
    {
     "name": "stdout",
     "output_type": "stream",
     "text": [
      "WARNING: Entity <bound method BatchNormalization.call of <tensorflow.python.layers.normalization.BatchNormalization object at 0x7ff5d838c390>> could not be transformed and will be executed as-is. Please report this to the AutgoGraph team. When filing the bug, set the verbosity to 10 (on Linux, `export AUTOGRAPH_VERBOSITY=10`) and attach the full output. Cause: converting <bound method BatchNormalization.call of <tensorflow.python.layers.normalization.BatchNormalization object at 0x7ff5d838c390>>: AssertionError: Bad argument number for Name: 3, expecting 4\n",
      "WARNING:tensorflow:Entity <bound method Conv.call of <tensorflow.python.layers.convolutional.Conv2D object at 0x7ff5d873e590>> could not be transformed and will be executed as-is. Please report this to the AutgoGraph team. When filing the bug, set the verbosity to 10 (on Linux, `export AUTOGRAPH_VERBOSITY=10`) and attach the full output. Cause: converting <bound method Conv.call of <tensorflow.python.layers.convolutional.Conv2D object at 0x7ff5d873e590>>: AssertionError: Bad argument number for Name: 3, expecting 4\n"
     ]
    },
    {
     "name": "stderr",
     "output_type": "stream",
     "text": [
      "W0703 16:37:46.773116 140698822833920 ag_logging.py:145] Entity <bound method Conv.call of <tensorflow.python.layers.convolutional.Conv2D object at 0x7ff5d873e590>> could not be transformed and will be executed as-is. Please report this to the AutgoGraph team. When filing the bug, set the verbosity to 10 (on Linux, `export AUTOGRAPH_VERBOSITY=10`) and attach the full output. Cause: converting <bound method Conv.call of <tensorflow.python.layers.convolutional.Conv2D object at 0x7ff5d873e590>>: AssertionError: Bad argument number for Name: 3, expecting 4\n"
     ]
    },
    {
     "name": "stdout",
     "output_type": "stream",
     "text": [
      "WARNING: Entity <bound method Conv.call of <tensorflow.python.layers.convolutional.Conv2D object at 0x7ff5d873e590>> could not be transformed and will be executed as-is. Please report this to the AutgoGraph team. When filing the bug, set the verbosity to 10 (on Linux, `export AUTOGRAPH_VERBOSITY=10`) and attach the full output. Cause: converting <bound method Conv.call of <tensorflow.python.layers.convolutional.Conv2D object at 0x7ff5d873e590>>: AssertionError: Bad argument number for Name: 3, expecting 4\n",
      "WARNING:tensorflow:Entity <bound method BatchNormalization.call of <tensorflow.python.layers.normalization.BatchNormalization object at 0x7ff5d82a8810>> could not be transformed and will be executed as-is. Please report this to the AutgoGraph team. When filing the bug, set the verbosity to 10 (on Linux, `export AUTOGRAPH_VERBOSITY=10`) and attach the full output. Cause: converting <bound method BatchNormalization.call of <tensorflow.python.layers.normalization.BatchNormalization object at 0x7ff5d82a8810>>: AssertionError: Bad argument number for Name: 3, expecting 4\n"
     ]
    },
    {
     "name": "stderr",
     "output_type": "stream",
     "text": [
      "W0703 16:37:46.801066 140698822833920 ag_logging.py:145] Entity <bound method BatchNormalization.call of <tensorflow.python.layers.normalization.BatchNormalization object at 0x7ff5d82a8810>> could not be transformed and will be executed as-is. Please report this to the AutgoGraph team. When filing the bug, set the verbosity to 10 (on Linux, `export AUTOGRAPH_VERBOSITY=10`) and attach the full output. Cause: converting <bound method BatchNormalization.call of <tensorflow.python.layers.normalization.BatchNormalization object at 0x7ff5d82a8810>>: AssertionError: Bad argument number for Name: 3, expecting 4\n"
     ]
    },
    {
     "name": "stdout",
     "output_type": "stream",
     "text": [
      "WARNING: Entity <bound method BatchNormalization.call of <tensorflow.python.layers.normalization.BatchNormalization object at 0x7ff5d82a8810>> could not be transformed and will be executed as-is. Please report this to the AutgoGraph team. When filing the bug, set the verbosity to 10 (on Linux, `export AUTOGRAPH_VERBOSITY=10`) and attach the full output. Cause: converting <bound method BatchNormalization.call of <tensorflow.python.layers.normalization.BatchNormalization object at 0x7ff5d82a8810>>: AssertionError: Bad argument number for Name: 3, expecting 4\n",
      "WARNING:tensorflow:Entity <bound method Conv.call of <tensorflow.python.layers.convolutional.Conv2D object at 0x7ff5d8665850>> could not be transformed and will be executed as-is. Please report this to the AutgoGraph team. When filing the bug, set the verbosity to 10 (on Linux, `export AUTOGRAPH_VERBOSITY=10`) and attach the full output. Cause: converting <bound method Conv.call of <tensorflow.python.layers.convolutional.Conv2D object at 0x7ff5d8665850>>: AssertionError: Bad argument number for Name: 3, expecting 4\n"
     ]
    },
    {
     "name": "stderr",
     "output_type": "stream",
     "text": [
      "W0703 16:37:46.859443 140698822833920 ag_logging.py:145] Entity <bound method Conv.call of <tensorflow.python.layers.convolutional.Conv2D object at 0x7ff5d8665850>> could not be transformed and will be executed as-is. Please report this to the AutgoGraph team. When filing the bug, set the verbosity to 10 (on Linux, `export AUTOGRAPH_VERBOSITY=10`) and attach the full output. Cause: converting <bound method Conv.call of <tensorflow.python.layers.convolutional.Conv2D object at 0x7ff5d8665850>>: AssertionError: Bad argument number for Name: 3, expecting 4\n"
     ]
    },
    {
     "name": "stdout",
     "output_type": "stream",
     "text": [
      "WARNING: Entity <bound method Conv.call of <tensorflow.python.layers.convolutional.Conv2D object at 0x7ff5d8665850>> could not be transformed and will be executed as-is. Please report this to the AutgoGraph team. When filing the bug, set the verbosity to 10 (on Linux, `export AUTOGRAPH_VERBOSITY=10`) and attach the full output. Cause: converting <bound method Conv.call of <tensorflow.python.layers.convolutional.Conv2D object at 0x7ff5d8665850>>: AssertionError: Bad argument number for Name: 3, expecting 4\n",
      "WARNING:tensorflow:Entity <bound method BatchNormalization.call of <tensorflow.python.layers.normalization.BatchNormalization object at 0x7ff5d8121d90>> could not be transformed and will be executed as-is. Please report this to the AutgoGraph team. When filing the bug, set the verbosity to 10 (on Linux, `export AUTOGRAPH_VERBOSITY=10`) and attach the full output. Cause: converting <bound method BatchNormalization.call of <tensorflow.python.layers.normalization.BatchNormalization object at 0x7ff5d8121d90>>: AssertionError: Bad argument number for Name: 3, expecting 4\n"
     ]
    },
    {
     "name": "stderr",
     "output_type": "stream",
     "text": [
      "W0703 16:37:46.882217 140698822833920 ag_logging.py:145] Entity <bound method BatchNormalization.call of <tensorflow.python.layers.normalization.BatchNormalization object at 0x7ff5d8121d90>> could not be transformed and will be executed as-is. Please report this to the AutgoGraph team. When filing the bug, set the verbosity to 10 (on Linux, `export AUTOGRAPH_VERBOSITY=10`) and attach the full output. Cause: converting <bound method BatchNormalization.call of <tensorflow.python.layers.normalization.BatchNormalization object at 0x7ff5d8121d90>>: AssertionError: Bad argument number for Name: 3, expecting 4\n"
     ]
    },
    {
     "name": "stdout",
     "output_type": "stream",
     "text": [
      "WARNING: Entity <bound method BatchNormalization.call of <tensorflow.python.layers.normalization.BatchNormalization object at 0x7ff5d8121d90>> could not be transformed and will be executed as-is. Please report this to the AutgoGraph team. When filing the bug, set the verbosity to 10 (on Linux, `export AUTOGRAPH_VERBOSITY=10`) and attach the full output. Cause: converting <bound method BatchNormalization.call of <tensorflow.python.layers.normalization.BatchNormalization object at 0x7ff5d8121d90>>: AssertionError: Bad argument number for Name: 3, expecting 4\n",
      "WARNING:tensorflow:Entity <bound method Conv.call of <tensorflow.python.layers.convolutional.Conv2D object at 0x7ff5d837ba10>> could not be transformed and will be executed as-is. Please report this to the AutgoGraph team. When filing the bug, set the verbosity to 10 (on Linux, `export AUTOGRAPH_VERBOSITY=10`) and attach the full output. Cause: converting <bound method Conv.call of <tensorflow.python.layers.convolutional.Conv2D object at 0x7ff5d837ba10>>: AssertionError: Bad argument number for Name: 3, expecting 4\n"
     ]
    },
    {
     "name": "stderr",
     "output_type": "stream",
     "text": [
      "W0703 16:37:46.940490 140698822833920 ag_logging.py:145] Entity <bound method Conv.call of <tensorflow.python.layers.convolutional.Conv2D object at 0x7ff5d837ba10>> could not be transformed and will be executed as-is. Please report this to the AutgoGraph team. When filing the bug, set the verbosity to 10 (on Linux, `export AUTOGRAPH_VERBOSITY=10`) and attach the full output. Cause: converting <bound method Conv.call of <tensorflow.python.layers.convolutional.Conv2D object at 0x7ff5d837ba10>>: AssertionError: Bad argument number for Name: 3, expecting 4\n"
     ]
    },
    {
     "name": "stdout",
     "output_type": "stream",
     "text": [
      "WARNING: Entity <bound method Conv.call of <tensorflow.python.layers.convolutional.Conv2D object at 0x7ff5d837ba10>> could not be transformed and will be executed as-is. Please report this to the AutgoGraph team. When filing the bug, set the verbosity to 10 (on Linux, `export AUTOGRAPH_VERBOSITY=10`) and attach the full output. Cause: converting <bound method Conv.call of <tensorflow.python.layers.convolutional.Conv2D object at 0x7ff5d837ba10>>: AssertionError: Bad argument number for Name: 3, expecting 4\n",
      "WARNING:tensorflow:Entity <bound method BatchNormalization.call of <tensorflow.python.layers.normalization.BatchNormalization object at 0x7ff5d814f3d0>> could not be transformed and will be executed as-is. Please report this to the AutgoGraph team. When filing the bug, set the verbosity to 10 (on Linux, `export AUTOGRAPH_VERBOSITY=10`) and attach the full output. Cause: converting <bound method BatchNormalization.call of <tensorflow.python.layers.normalization.BatchNormalization object at 0x7ff5d814f3d0>>: AssertionError: Bad argument number for Name: 3, expecting 4\n"
     ]
    },
    {
     "name": "stderr",
     "output_type": "stream",
     "text": [
      "W0703 16:37:46.963033 140698822833920 ag_logging.py:145] Entity <bound method BatchNormalization.call of <tensorflow.python.layers.normalization.BatchNormalization object at 0x7ff5d814f3d0>> could not be transformed and will be executed as-is. Please report this to the AutgoGraph team. When filing the bug, set the verbosity to 10 (on Linux, `export AUTOGRAPH_VERBOSITY=10`) and attach the full output. Cause: converting <bound method BatchNormalization.call of <tensorflow.python.layers.normalization.BatchNormalization object at 0x7ff5d814f3d0>>: AssertionError: Bad argument number for Name: 3, expecting 4\n"
     ]
    },
    {
     "name": "stdout",
     "output_type": "stream",
     "text": [
      "WARNING: Entity <bound method BatchNormalization.call of <tensorflow.python.layers.normalization.BatchNormalization object at 0x7ff5d814f3d0>> could not be transformed and will be executed as-is. Please report this to the AutgoGraph team. When filing the bug, set the verbosity to 10 (on Linux, `export AUTOGRAPH_VERBOSITY=10`) and attach the full output. Cause: converting <bound method BatchNormalization.call of <tensorflow.python.layers.normalization.BatchNormalization object at 0x7ff5d814f3d0>>: AssertionError: Bad argument number for Name: 3, expecting 4\n",
      "WARNING:tensorflow:Entity <bound method Pooling2D.call of <tensorflow.python.layers.pooling.AveragePooling2D object at 0x7ff5d820db50>> could not be transformed and will be executed as-is. Please report this to the AutgoGraph team. When filing the bug, set the verbosity to 10 (on Linux, `export AUTOGRAPH_VERBOSITY=10`) and attach the full output. Cause: converting <bound method Pooling2D.call of <tensorflow.python.layers.pooling.AveragePooling2D object at 0x7ff5d820db50>>: AssertionError: Bad argument number for Name: 3, expecting 4\n"
     ]
    },
    {
     "name": "stderr",
     "output_type": "stream",
     "text": [
      "W0703 16:37:47.002235 140698822833920 ag_logging.py:145] Entity <bound method Pooling2D.call of <tensorflow.python.layers.pooling.AveragePooling2D object at 0x7ff5d820db50>> could not be transformed and will be executed as-is. Please report this to the AutgoGraph team. When filing the bug, set the verbosity to 10 (on Linux, `export AUTOGRAPH_VERBOSITY=10`) and attach the full output. Cause: converting <bound method Pooling2D.call of <tensorflow.python.layers.pooling.AveragePooling2D object at 0x7ff5d820db50>>: AssertionError: Bad argument number for Name: 3, expecting 4\n"
     ]
    },
    {
     "name": "stdout",
     "output_type": "stream",
     "text": [
      "WARNING: Entity <bound method Pooling2D.call of <tensorflow.python.layers.pooling.AveragePooling2D object at 0x7ff5d820db50>> could not be transformed and will be executed as-is. Please report this to the AutgoGraph team. When filing the bug, set the verbosity to 10 (on Linux, `export AUTOGRAPH_VERBOSITY=10`) and attach the full output. Cause: converting <bound method Pooling2D.call of <tensorflow.python.layers.pooling.AveragePooling2D object at 0x7ff5d820db50>>: AssertionError: Bad argument number for Name: 3, expecting 4\n",
      "WARNING:tensorflow:Entity <bound method Conv.call of <tensorflow.python.layers.convolutional.Conv2D object at 0x7ff5d8574050>> could not be transformed and will be executed as-is. Please report this to the AutgoGraph team. When filing the bug, set the verbosity to 10 (on Linux, `export AUTOGRAPH_VERBOSITY=10`) and attach the full output. Cause: converting <bound method Conv.call of <tensorflow.python.layers.convolutional.Conv2D object at 0x7ff5d8574050>>: AssertionError: Bad argument number for Name: 3, expecting 4\n"
     ]
    },
    {
     "name": "stderr",
     "output_type": "stream",
     "text": [
      "W0703 16:37:47.059168 140698822833920 ag_logging.py:145] Entity <bound method Conv.call of <tensorflow.python.layers.convolutional.Conv2D object at 0x7ff5d8574050>> could not be transformed and will be executed as-is. Please report this to the AutgoGraph team. When filing the bug, set the verbosity to 10 (on Linux, `export AUTOGRAPH_VERBOSITY=10`) and attach the full output. Cause: converting <bound method Conv.call of <tensorflow.python.layers.convolutional.Conv2D object at 0x7ff5d8574050>>: AssertionError: Bad argument number for Name: 3, expecting 4\n"
     ]
    },
    {
     "name": "stdout",
     "output_type": "stream",
     "text": [
      "WARNING: Entity <bound method Conv.call of <tensorflow.python.layers.convolutional.Conv2D object at 0x7ff5d8574050>> could not be transformed and will be executed as-is. Please report this to the AutgoGraph team. When filing the bug, set the verbosity to 10 (on Linux, `export AUTOGRAPH_VERBOSITY=10`) and attach the full output. Cause: converting <bound method Conv.call of <tensorflow.python.layers.convolutional.Conv2D object at 0x7ff5d8574050>>: AssertionError: Bad argument number for Name: 3, expecting 4\n",
      "WARNING:tensorflow:Entity <bound method BatchNormalization.call of <tensorflow.python.layers.normalization.BatchNormalization object at 0x7ff5b47d8650>> could not be transformed and will be executed as-is. Please report this to the AutgoGraph team. When filing the bug, set the verbosity to 10 (on Linux, `export AUTOGRAPH_VERBOSITY=10`) and attach the full output. Cause: converting <bound method BatchNormalization.call of <tensorflow.python.layers.normalization.BatchNormalization object at 0x7ff5b47d8650>>: AssertionError: Bad argument number for Name: 3, expecting 4\n"
     ]
    },
    {
     "name": "stderr",
     "output_type": "stream",
     "text": [
      "W0703 16:37:47.081802 140698822833920 ag_logging.py:145] Entity <bound method BatchNormalization.call of <tensorflow.python.layers.normalization.BatchNormalization object at 0x7ff5b47d8650>> could not be transformed and will be executed as-is. Please report this to the AutgoGraph team. When filing the bug, set the verbosity to 10 (on Linux, `export AUTOGRAPH_VERBOSITY=10`) and attach the full output. Cause: converting <bound method BatchNormalization.call of <tensorflow.python.layers.normalization.BatchNormalization object at 0x7ff5b47d8650>>: AssertionError: Bad argument number for Name: 3, expecting 4\n"
     ]
    },
    {
     "name": "stdout",
     "output_type": "stream",
     "text": [
      "WARNING: Entity <bound method BatchNormalization.call of <tensorflow.python.layers.normalization.BatchNormalization object at 0x7ff5b47d8650>> could not be transformed and will be executed as-is. Please report this to the AutgoGraph team. When filing the bug, set the verbosity to 10 (on Linux, `export AUTOGRAPH_VERBOSITY=10`) and attach the full output. Cause: converting <bound method BatchNormalization.call of <tensorflow.python.layers.normalization.BatchNormalization object at 0x7ff5b47d8650>>: AssertionError: Bad argument number for Name: 3, expecting 4\n",
      "WARNING:tensorflow:Entity <bound method Conv.call of <tensorflow.python.layers.convolutional.Conv2D object at 0x7ff5d8205090>> could not be transformed and will be executed as-is. Please report this to the AutgoGraph team. When filing the bug, set the verbosity to 10 (on Linux, `export AUTOGRAPH_VERBOSITY=10`) and attach the full output. Cause: converting <bound method Conv.call of <tensorflow.python.layers.convolutional.Conv2D object at 0x7ff5d8205090>>: AssertionError: Bad argument number for Name: 3, expecting 4\n"
     ]
    },
    {
     "name": "stderr",
     "output_type": "stream",
     "text": [
      "W0703 16:37:47.239688 140698822833920 ag_logging.py:145] Entity <bound method Conv.call of <tensorflow.python.layers.convolutional.Conv2D object at 0x7ff5d8205090>> could not be transformed and will be executed as-is. Please report this to the AutgoGraph team. When filing the bug, set the verbosity to 10 (on Linux, `export AUTOGRAPH_VERBOSITY=10`) and attach the full output. Cause: converting <bound method Conv.call of <tensorflow.python.layers.convolutional.Conv2D object at 0x7ff5d8205090>>: AssertionError: Bad argument number for Name: 3, expecting 4\n"
     ]
    },
    {
     "name": "stdout",
     "output_type": "stream",
     "text": [
      "WARNING: Entity <bound method Conv.call of <tensorflow.python.layers.convolutional.Conv2D object at 0x7ff5d8205090>> could not be transformed and will be executed as-is. Please report this to the AutgoGraph team. When filing the bug, set the verbosity to 10 (on Linux, `export AUTOGRAPH_VERBOSITY=10`) and attach the full output. Cause: converting <bound method Conv.call of <tensorflow.python.layers.convolutional.Conv2D object at 0x7ff5d8205090>>: AssertionError: Bad argument number for Name: 3, expecting 4\n",
      "WARNING:tensorflow:Entity <bound method BatchNormalization.call of <tensorflow.python.layers.normalization.BatchNormalization object at 0x7ff5fc30ed90>> could not be transformed and will be executed as-is. Please report this to the AutgoGraph team. When filing the bug, set the verbosity to 10 (on Linux, `export AUTOGRAPH_VERBOSITY=10`) and attach the full output. Cause: converting <bound method BatchNormalization.call of <tensorflow.python.layers.normalization.BatchNormalization object at 0x7ff5fc30ed90>>: AssertionError: Bad argument number for Name: 3, expecting 4\n"
     ]
    },
    {
     "name": "stderr",
     "output_type": "stream",
     "text": [
      "W0703 16:37:47.262831 140698822833920 ag_logging.py:145] Entity <bound method BatchNormalization.call of <tensorflow.python.layers.normalization.BatchNormalization object at 0x7ff5fc30ed90>> could not be transformed and will be executed as-is. Please report this to the AutgoGraph team. When filing the bug, set the verbosity to 10 (on Linux, `export AUTOGRAPH_VERBOSITY=10`) and attach the full output. Cause: converting <bound method BatchNormalization.call of <tensorflow.python.layers.normalization.BatchNormalization object at 0x7ff5fc30ed90>>: AssertionError: Bad argument number for Name: 3, expecting 4\n"
     ]
    },
    {
     "name": "stdout",
     "output_type": "stream",
     "text": [
      "WARNING: Entity <bound method BatchNormalization.call of <tensorflow.python.layers.normalization.BatchNormalization object at 0x7ff5fc30ed90>> could not be transformed and will be executed as-is. Please report this to the AutgoGraph team. When filing the bug, set the verbosity to 10 (on Linux, `export AUTOGRAPH_VERBOSITY=10`) and attach the full output. Cause: converting <bound method BatchNormalization.call of <tensorflow.python.layers.normalization.BatchNormalization object at 0x7ff5fc30ed90>>: AssertionError: Bad argument number for Name: 3, expecting 4\n",
      "WARNING:tensorflow:Entity <bound method Conv.call of <tensorflow.python.layers.convolutional.Conv2D object at 0x7ff5d81e0e50>> could not be transformed and will be executed as-is. Please report this to the AutgoGraph team. When filing the bug, set the verbosity to 10 (on Linux, `export AUTOGRAPH_VERBOSITY=10`) and attach the full output. Cause: converting <bound method Conv.call of <tensorflow.python.layers.convolutional.Conv2D object at 0x7ff5d81e0e50>>: AssertionError: Bad argument number for Name: 3, expecting 4\n"
     ]
    },
    {
     "name": "stderr",
     "output_type": "stream",
     "text": [
      "W0703 16:37:47.321975 140698822833920 ag_logging.py:145] Entity <bound method Conv.call of <tensorflow.python.layers.convolutional.Conv2D object at 0x7ff5d81e0e50>> could not be transformed and will be executed as-is. Please report this to the AutgoGraph team. When filing the bug, set the verbosity to 10 (on Linux, `export AUTOGRAPH_VERBOSITY=10`) and attach the full output. Cause: converting <bound method Conv.call of <tensorflow.python.layers.convolutional.Conv2D object at 0x7ff5d81e0e50>>: AssertionError: Bad argument number for Name: 3, expecting 4\n"
     ]
    },
    {
     "name": "stdout",
     "output_type": "stream",
     "text": [
      "WARNING: Entity <bound method Conv.call of <tensorflow.python.layers.convolutional.Conv2D object at 0x7ff5d81e0e50>> could not be transformed and will be executed as-is. Please report this to the AutgoGraph team. When filing the bug, set the verbosity to 10 (on Linux, `export AUTOGRAPH_VERBOSITY=10`) and attach the full output. Cause: converting <bound method Conv.call of <tensorflow.python.layers.convolutional.Conv2D object at 0x7ff5d81e0e50>>: AssertionError: Bad argument number for Name: 3, expecting 4\n",
      "WARNING:tensorflow:Entity <bound method BatchNormalization.call of <tensorflow.python.layers.normalization.BatchNormalization object at 0x7ff5d8082e90>> could not be transformed and will be executed as-is. Please report this to the AutgoGraph team. When filing the bug, set the verbosity to 10 (on Linux, `export AUTOGRAPH_VERBOSITY=10`) and attach the full output. Cause: converting <bound method BatchNormalization.call of <tensorflow.python.layers.normalization.BatchNormalization object at 0x7ff5d8082e90>>: AssertionError: Bad argument number for Name: 3, expecting 4\n"
     ]
    },
    {
     "name": "stderr",
     "output_type": "stream",
     "text": [
      "W0703 16:37:47.345099 140698822833920 ag_logging.py:145] Entity <bound method BatchNormalization.call of <tensorflow.python.layers.normalization.BatchNormalization object at 0x7ff5d8082e90>> could not be transformed and will be executed as-is. Please report this to the AutgoGraph team. When filing the bug, set the verbosity to 10 (on Linux, `export AUTOGRAPH_VERBOSITY=10`) and attach the full output. Cause: converting <bound method BatchNormalization.call of <tensorflow.python.layers.normalization.BatchNormalization object at 0x7ff5d8082e90>>: AssertionError: Bad argument number for Name: 3, expecting 4\n"
     ]
    },
    {
     "name": "stdout",
     "output_type": "stream",
     "text": [
      "WARNING: Entity <bound method BatchNormalization.call of <tensorflow.python.layers.normalization.BatchNormalization object at 0x7ff5d8082e90>> could not be transformed and will be executed as-is. Please report this to the AutgoGraph team. When filing the bug, set the verbosity to 10 (on Linux, `export AUTOGRAPH_VERBOSITY=10`) and attach the full output. Cause: converting <bound method BatchNormalization.call of <tensorflow.python.layers.normalization.BatchNormalization object at 0x7ff5d8082e90>>: AssertionError: Bad argument number for Name: 3, expecting 4\n",
      "WARNING:tensorflow:Entity <bound method Conv.call of <tensorflow.python.layers.convolutional.Conv2D object at 0x7ff5d8412d50>> could not be transformed and will be executed as-is. Please report this to the AutgoGraph team. When filing the bug, set the verbosity to 10 (on Linux, `export AUTOGRAPH_VERBOSITY=10`) and attach the full output. Cause: converting <bound method Conv.call of <tensorflow.python.layers.convolutional.Conv2D object at 0x7ff5d8412d50>>: AssertionError: Bad argument number for Name: 3, expecting 4\n"
     ]
    },
    {
     "name": "stderr",
     "output_type": "stream",
     "text": [
      "W0703 16:37:47.404513 140698822833920 ag_logging.py:145] Entity <bound method Conv.call of <tensorflow.python.layers.convolutional.Conv2D object at 0x7ff5d8412d50>> could not be transformed and will be executed as-is. Please report this to the AutgoGraph team. When filing the bug, set the verbosity to 10 (on Linux, `export AUTOGRAPH_VERBOSITY=10`) and attach the full output. Cause: converting <bound method Conv.call of <tensorflow.python.layers.convolutional.Conv2D object at 0x7ff5d8412d50>>: AssertionError: Bad argument number for Name: 3, expecting 4\n"
     ]
    },
    {
     "name": "stdout",
     "output_type": "stream",
     "text": [
      "WARNING: Entity <bound method Conv.call of <tensorflow.python.layers.convolutional.Conv2D object at 0x7ff5d8412d50>> could not be transformed and will be executed as-is. Please report this to the AutgoGraph team. When filing the bug, set the verbosity to 10 (on Linux, `export AUTOGRAPH_VERBOSITY=10`) and attach the full output. Cause: converting <bound method Conv.call of <tensorflow.python.layers.convolutional.Conv2D object at 0x7ff5d8412d50>>: AssertionError: Bad argument number for Name: 3, expecting 4\n",
      "WARNING:tensorflow:Entity <bound method BatchNormalization.call of <tensorflow.python.layers.normalization.BatchNormalization object at 0x7ff5d8205090>> could not be transformed and will be executed as-is. Please report this to the AutgoGraph team. When filing the bug, set the verbosity to 10 (on Linux, `export AUTOGRAPH_VERBOSITY=10`) and attach the full output. Cause: converting <bound method BatchNormalization.call of <tensorflow.python.layers.normalization.BatchNormalization object at 0x7ff5d8205090>>: AssertionError: Bad argument number for Name: 3, expecting 4\n"
     ]
    },
    {
     "name": "stderr",
     "output_type": "stream",
     "text": [
      "W0703 16:37:47.426961 140698822833920 ag_logging.py:145] Entity <bound method BatchNormalization.call of <tensorflow.python.layers.normalization.BatchNormalization object at 0x7ff5d8205090>> could not be transformed and will be executed as-is. Please report this to the AutgoGraph team. When filing the bug, set the verbosity to 10 (on Linux, `export AUTOGRAPH_VERBOSITY=10`) and attach the full output. Cause: converting <bound method BatchNormalization.call of <tensorflow.python.layers.normalization.BatchNormalization object at 0x7ff5d8205090>>: AssertionError: Bad argument number for Name: 3, expecting 4\n"
     ]
    },
    {
     "name": "stdout",
     "output_type": "stream",
     "text": [
      "WARNING: Entity <bound method BatchNormalization.call of <tensorflow.python.layers.normalization.BatchNormalization object at 0x7ff5d8205090>> could not be transformed and will be executed as-is. Please report this to the AutgoGraph team. When filing the bug, set the verbosity to 10 (on Linux, `export AUTOGRAPH_VERBOSITY=10`) and attach the full output. Cause: converting <bound method BatchNormalization.call of <tensorflow.python.layers.normalization.BatchNormalization object at 0x7ff5d8205090>>: AssertionError: Bad argument number for Name: 3, expecting 4\n",
      "WARNING:tensorflow:Entity <bound method Conv.call of <tensorflow.python.layers.convolutional.Conv2D object at 0x7ff5fc573d50>> could not be transformed and will be executed as-is. Please report this to the AutgoGraph team. When filing the bug, set the verbosity to 10 (on Linux, `export AUTOGRAPH_VERBOSITY=10`) and attach the full output. Cause: converting <bound method Conv.call of <tensorflow.python.layers.convolutional.Conv2D object at 0x7ff5fc573d50>>: AssertionError: Bad argument number for Name: 3, expecting 4\n"
     ]
    },
    {
     "name": "stderr",
     "output_type": "stream",
     "text": [
      "W0703 16:37:47.486590 140698822833920 ag_logging.py:145] Entity <bound method Conv.call of <tensorflow.python.layers.convolutional.Conv2D object at 0x7ff5fc573d50>> could not be transformed and will be executed as-is. Please report this to the AutgoGraph team. When filing the bug, set the verbosity to 10 (on Linux, `export AUTOGRAPH_VERBOSITY=10`) and attach the full output. Cause: converting <bound method Conv.call of <tensorflow.python.layers.convolutional.Conv2D object at 0x7ff5fc573d50>>: AssertionError: Bad argument number for Name: 3, expecting 4\n"
     ]
    },
    {
     "name": "stdout",
     "output_type": "stream",
     "text": [
      "WARNING: Entity <bound method Conv.call of <tensorflow.python.layers.convolutional.Conv2D object at 0x7ff5fc573d50>> could not be transformed and will be executed as-is. Please report this to the AutgoGraph team. When filing the bug, set the verbosity to 10 (on Linux, `export AUTOGRAPH_VERBOSITY=10`) and attach the full output. Cause: converting <bound method Conv.call of <tensorflow.python.layers.convolutional.Conv2D object at 0x7ff5fc573d50>>: AssertionError: Bad argument number for Name: 3, expecting 4\n",
      "WARNING:tensorflow:Entity <bound method BatchNormalization.call of <tensorflow.python.layers.normalization.BatchNormalization object at 0x7ff5b46cce50>> could not be transformed and will be executed as-is. Please report this to the AutgoGraph team. When filing the bug, set the verbosity to 10 (on Linux, `export AUTOGRAPH_VERBOSITY=10`) and attach the full output. Cause: converting <bound method BatchNormalization.call of <tensorflow.python.layers.normalization.BatchNormalization object at 0x7ff5b46cce50>>: AssertionError: Bad argument number for Name: 3, expecting 4\n"
     ]
    },
    {
     "name": "stderr",
     "output_type": "stream",
     "text": [
      "W0703 16:37:47.514061 140698822833920 ag_logging.py:145] Entity <bound method BatchNormalization.call of <tensorflow.python.layers.normalization.BatchNormalization object at 0x7ff5b46cce50>> could not be transformed and will be executed as-is. Please report this to the AutgoGraph team. When filing the bug, set the verbosity to 10 (on Linux, `export AUTOGRAPH_VERBOSITY=10`) and attach the full output. Cause: converting <bound method BatchNormalization.call of <tensorflow.python.layers.normalization.BatchNormalization object at 0x7ff5b46cce50>>: AssertionError: Bad argument number for Name: 3, expecting 4\n"
     ]
    },
    {
     "name": "stdout",
     "output_type": "stream",
     "text": [
      "WARNING: Entity <bound method BatchNormalization.call of <tensorflow.python.layers.normalization.BatchNormalization object at 0x7ff5b46cce50>> could not be transformed and will be executed as-is. Please report this to the AutgoGraph team. When filing the bug, set the verbosity to 10 (on Linux, `export AUTOGRAPH_VERBOSITY=10`) and attach the full output. Cause: converting <bound method BatchNormalization.call of <tensorflow.python.layers.normalization.BatchNormalization object at 0x7ff5b46cce50>>: AssertionError: Bad argument number for Name: 3, expecting 4\n",
      "WARNING:tensorflow:Entity <bound method Conv.call of <tensorflow.python.layers.convolutional.Conv2D object at 0x7ff5fc692fd0>> could not be transformed and will be executed as-is. Please report this to the AutgoGraph team. When filing the bug, set the verbosity to 10 (on Linux, `export AUTOGRAPH_VERBOSITY=10`) and attach the full output. Cause: converting <bound method Conv.call of <tensorflow.python.layers.convolutional.Conv2D object at 0x7ff5fc692fd0>>: AssertionError: Bad argument number for Name: 3, expecting 4\n"
     ]
    },
    {
     "name": "stderr",
     "output_type": "stream",
     "text": [
      "W0703 16:37:47.572487 140698822833920 ag_logging.py:145] Entity <bound method Conv.call of <tensorflow.python.layers.convolutional.Conv2D object at 0x7ff5fc692fd0>> could not be transformed and will be executed as-is. Please report this to the AutgoGraph team. When filing the bug, set the verbosity to 10 (on Linux, `export AUTOGRAPH_VERBOSITY=10`) and attach the full output. Cause: converting <bound method Conv.call of <tensorflow.python.layers.convolutional.Conv2D object at 0x7ff5fc692fd0>>: AssertionError: Bad argument number for Name: 3, expecting 4\n"
     ]
    },
    {
     "name": "stdout",
     "output_type": "stream",
     "text": [
      "WARNING: Entity <bound method Conv.call of <tensorflow.python.layers.convolutional.Conv2D object at 0x7ff5fc692fd0>> could not be transformed and will be executed as-is. Please report this to the AutgoGraph team. When filing the bug, set the verbosity to 10 (on Linux, `export AUTOGRAPH_VERBOSITY=10`) and attach the full output. Cause: converting <bound method Conv.call of <tensorflow.python.layers.convolutional.Conv2D object at 0x7ff5fc692fd0>>: AssertionError: Bad argument number for Name: 3, expecting 4\n",
      "WARNING:tensorflow:Entity <bound method BatchNormalization.call of <tensorflow.python.layers.normalization.BatchNormalization object at 0x7ff5d8082e50>> could not be transformed and will be executed as-is. Please report this to the AutgoGraph team. When filing the bug, set the verbosity to 10 (on Linux, `export AUTOGRAPH_VERBOSITY=10`) and attach the full output. Cause: converting <bound method BatchNormalization.call of <tensorflow.python.layers.normalization.BatchNormalization object at 0x7ff5d8082e50>>: AssertionError: Bad argument number for Name: 3, expecting 4\n"
     ]
    },
    {
     "name": "stderr",
     "output_type": "stream",
     "text": [
      "W0703 16:37:47.594569 140698822833920 ag_logging.py:145] Entity <bound method BatchNormalization.call of <tensorflow.python.layers.normalization.BatchNormalization object at 0x7ff5d8082e50>> could not be transformed and will be executed as-is. Please report this to the AutgoGraph team. When filing the bug, set the verbosity to 10 (on Linux, `export AUTOGRAPH_VERBOSITY=10`) and attach the full output. Cause: converting <bound method BatchNormalization.call of <tensorflow.python.layers.normalization.BatchNormalization object at 0x7ff5d8082e50>>: AssertionError: Bad argument number for Name: 3, expecting 4\n"
     ]
    },
    {
     "name": "stdout",
     "output_type": "stream",
     "text": [
      "WARNING: Entity <bound method BatchNormalization.call of <tensorflow.python.layers.normalization.BatchNormalization object at 0x7ff5d8082e50>> could not be transformed and will be executed as-is. Please report this to the AutgoGraph team. When filing the bug, set the verbosity to 10 (on Linux, `export AUTOGRAPH_VERBOSITY=10`) and attach the full output. Cause: converting <bound method BatchNormalization.call of <tensorflow.python.layers.normalization.BatchNormalization object at 0x7ff5d8082e50>>: AssertionError: Bad argument number for Name: 3, expecting 4\n",
      "WARNING:tensorflow:Entity <bound method Conv.call of <tensorflow.python.layers.convolutional.Conv2D object at 0x7ff5d81f9bd0>> could not be transformed and will be executed as-is. Please report this to the AutgoGraph team. When filing the bug, set the verbosity to 10 (on Linux, `export AUTOGRAPH_VERBOSITY=10`) and attach the full output. Cause: converting <bound method Conv.call of <tensorflow.python.layers.convolutional.Conv2D object at 0x7ff5d81f9bd0>>: AssertionError: Bad argument number for Name: 3, expecting 4\n"
     ]
    },
    {
     "name": "stderr",
     "output_type": "stream",
     "text": [
      "W0703 16:37:47.652890 140698822833920 ag_logging.py:145] Entity <bound method Conv.call of <tensorflow.python.layers.convolutional.Conv2D object at 0x7ff5d81f9bd0>> could not be transformed and will be executed as-is. Please report this to the AutgoGraph team. When filing the bug, set the verbosity to 10 (on Linux, `export AUTOGRAPH_VERBOSITY=10`) and attach the full output. Cause: converting <bound method Conv.call of <tensorflow.python.layers.convolutional.Conv2D object at 0x7ff5d81f9bd0>>: AssertionError: Bad argument number for Name: 3, expecting 4\n"
     ]
    },
    {
     "name": "stdout",
     "output_type": "stream",
     "text": [
      "WARNING: Entity <bound method Conv.call of <tensorflow.python.layers.convolutional.Conv2D object at 0x7ff5d81f9bd0>> could not be transformed and will be executed as-is. Please report this to the AutgoGraph team. When filing the bug, set the verbosity to 10 (on Linux, `export AUTOGRAPH_VERBOSITY=10`) and attach the full output. Cause: converting <bound method Conv.call of <tensorflow.python.layers.convolutional.Conv2D object at 0x7ff5d81f9bd0>>: AssertionError: Bad argument number for Name: 3, expecting 4\n",
      "WARNING:tensorflow:Entity <bound method BatchNormalization.call of <tensorflow.python.layers.normalization.BatchNormalization object at 0x7ff5fc46f610>> could not be transformed and will be executed as-is. Please report this to the AutgoGraph team. When filing the bug, set the verbosity to 10 (on Linux, `export AUTOGRAPH_VERBOSITY=10`) and attach the full output. Cause: converting <bound method BatchNormalization.call of <tensorflow.python.layers.normalization.BatchNormalization object at 0x7ff5fc46f610>>: AssertionError: Bad argument number for Name: 3, expecting 4\n"
     ]
    },
    {
     "name": "stderr",
     "output_type": "stream",
     "text": [
      "W0703 16:37:47.676161 140698822833920 ag_logging.py:145] Entity <bound method BatchNormalization.call of <tensorflow.python.layers.normalization.BatchNormalization object at 0x7ff5fc46f610>> could not be transformed and will be executed as-is. Please report this to the AutgoGraph team. When filing the bug, set the verbosity to 10 (on Linux, `export AUTOGRAPH_VERBOSITY=10`) and attach the full output. Cause: converting <bound method BatchNormalization.call of <tensorflow.python.layers.normalization.BatchNormalization object at 0x7ff5fc46f610>>: AssertionError: Bad argument number for Name: 3, expecting 4\n"
     ]
    },
    {
     "name": "stdout",
     "output_type": "stream",
     "text": [
      "WARNING: Entity <bound method BatchNormalization.call of <tensorflow.python.layers.normalization.BatchNormalization object at 0x7ff5fc46f610>> could not be transformed and will be executed as-is. Please report this to the AutgoGraph team. When filing the bug, set the verbosity to 10 (on Linux, `export AUTOGRAPH_VERBOSITY=10`) and attach the full output. Cause: converting <bound method BatchNormalization.call of <tensorflow.python.layers.normalization.BatchNormalization object at 0x7ff5fc46f610>>: AssertionError: Bad argument number for Name: 3, expecting 4\n",
      "WARNING:tensorflow:Entity <bound method Conv.call of <tensorflow.python.layers.convolutional.Conv2D object at 0x7ff62c1a6610>> could not be transformed and will be executed as-is. Please report this to the AutgoGraph team. When filing the bug, set the verbosity to 10 (on Linux, `export AUTOGRAPH_VERBOSITY=10`) and attach the full output. Cause: converting <bound method Conv.call of <tensorflow.python.layers.convolutional.Conv2D object at 0x7ff62c1a6610>>: AssertionError: Bad argument number for Name: 3, expecting 4\n"
     ]
    },
    {
     "name": "stderr",
     "output_type": "stream",
     "text": [
      "W0703 16:37:47.736454 140698822833920 ag_logging.py:145] Entity <bound method Conv.call of <tensorflow.python.layers.convolutional.Conv2D object at 0x7ff62c1a6610>> could not be transformed and will be executed as-is. Please report this to the AutgoGraph team. When filing the bug, set the verbosity to 10 (on Linux, `export AUTOGRAPH_VERBOSITY=10`) and attach the full output. Cause: converting <bound method Conv.call of <tensorflow.python.layers.convolutional.Conv2D object at 0x7ff62c1a6610>>: AssertionError: Bad argument number for Name: 3, expecting 4\n"
     ]
    },
    {
     "name": "stdout",
     "output_type": "stream",
     "text": [
      "WARNING: Entity <bound method Conv.call of <tensorflow.python.layers.convolutional.Conv2D object at 0x7ff62c1a6610>> could not be transformed and will be executed as-is. Please report this to the AutgoGraph team. When filing the bug, set the verbosity to 10 (on Linux, `export AUTOGRAPH_VERBOSITY=10`) and attach the full output. Cause: converting <bound method Conv.call of <tensorflow.python.layers.convolutional.Conv2D object at 0x7ff62c1a6610>>: AssertionError: Bad argument number for Name: 3, expecting 4\n",
      "WARNING:tensorflow:Entity <bound method BatchNormalization.call of <tensorflow.python.layers.normalization.BatchNormalization object at 0x7ff5b4544950>> could not be transformed and will be executed as-is. Please report this to the AutgoGraph team. When filing the bug, set the verbosity to 10 (on Linux, `export AUTOGRAPH_VERBOSITY=10`) and attach the full output. Cause: converting <bound method BatchNormalization.call of <tensorflow.python.layers.normalization.BatchNormalization object at 0x7ff5b4544950>>: AssertionError: Bad argument number for Name: 3, expecting 4\n"
     ]
    },
    {
     "name": "stderr",
     "output_type": "stream",
     "text": [
      "W0703 16:37:47.758376 140698822833920 ag_logging.py:145] Entity <bound method BatchNormalization.call of <tensorflow.python.layers.normalization.BatchNormalization object at 0x7ff5b4544950>> could not be transformed and will be executed as-is. Please report this to the AutgoGraph team. When filing the bug, set the verbosity to 10 (on Linux, `export AUTOGRAPH_VERBOSITY=10`) and attach the full output. Cause: converting <bound method BatchNormalization.call of <tensorflow.python.layers.normalization.BatchNormalization object at 0x7ff5b4544950>>: AssertionError: Bad argument number for Name: 3, expecting 4\n"
     ]
    },
    {
     "name": "stdout",
     "output_type": "stream",
     "text": [
      "WARNING: Entity <bound method BatchNormalization.call of <tensorflow.python.layers.normalization.BatchNormalization object at 0x7ff5b4544950>> could not be transformed and will be executed as-is. Please report this to the AutgoGraph team. When filing the bug, set the verbosity to 10 (on Linux, `export AUTOGRAPH_VERBOSITY=10`) and attach the full output. Cause: converting <bound method BatchNormalization.call of <tensorflow.python.layers.normalization.BatchNormalization object at 0x7ff5b4544950>>: AssertionError: Bad argument number for Name: 3, expecting 4\n",
      "WARNING:tensorflow:Entity <bound method Conv.call of <tensorflow.python.layers.convolutional.Conv2D object at 0x7ff614442650>> could not be transformed and will be executed as-is. Please report this to the AutgoGraph team. When filing the bug, set the verbosity to 10 (on Linux, `export AUTOGRAPH_VERBOSITY=10`) and attach the full output. Cause: converting <bound method Conv.call of <tensorflow.python.layers.convolutional.Conv2D object at 0x7ff614442650>>: AssertionError: Bad argument number for Name: 3, expecting 4\n"
     ]
    },
    {
     "name": "stderr",
     "output_type": "stream",
     "text": [
      "W0703 16:37:47.817351 140698822833920 ag_logging.py:145] Entity <bound method Conv.call of <tensorflow.python.layers.convolutional.Conv2D object at 0x7ff614442650>> could not be transformed and will be executed as-is. Please report this to the AutgoGraph team. When filing the bug, set the verbosity to 10 (on Linux, `export AUTOGRAPH_VERBOSITY=10`) and attach the full output. Cause: converting <bound method Conv.call of <tensorflow.python.layers.convolutional.Conv2D object at 0x7ff614442650>>: AssertionError: Bad argument number for Name: 3, expecting 4\n"
     ]
    },
    {
     "name": "stdout",
     "output_type": "stream",
     "text": [
      "WARNING: Entity <bound method Conv.call of <tensorflow.python.layers.convolutional.Conv2D object at 0x7ff614442650>> could not be transformed and will be executed as-is. Please report this to the AutgoGraph team. When filing the bug, set the verbosity to 10 (on Linux, `export AUTOGRAPH_VERBOSITY=10`) and attach the full output. Cause: converting <bound method Conv.call of <tensorflow.python.layers.convolutional.Conv2D object at 0x7ff614442650>>: AssertionError: Bad argument number for Name: 3, expecting 4\n",
      "WARNING:tensorflow:Entity <bound method BatchNormalization.call of <tensorflow.python.layers.normalization.BatchNormalization object at 0x7ff5b45384d0>> could not be transformed and will be executed as-is. Please report this to the AutgoGraph team. When filing the bug, set the verbosity to 10 (on Linux, `export AUTOGRAPH_VERBOSITY=10`) and attach the full output. Cause: converting <bound method BatchNormalization.call of <tensorflow.python.layers.normalization.BatchNormalization object at 0x7ff5b45384d0>>: AssertionError: Bad argument number for Name: 3, expecting 4\n"
     ]
    },
    {
     "name": "stderr",
     "output_type": "stream",
     "text": [
      "W0703 16:37:47.839525 140698822833920 ag_logging.py:145] Entity <bound method BatchNormalization.call of <tensorflow.python.layers.normalization.BatchNormalization object at 0x7ff5b45384d0>> could not be transformed and will be executed as-is. Please report this to the AutgoGraph team. When filing the bug, set the verbosity to 10 (on Linux, `export AUTOGRAPH_VERBOSITY=10`) and attach the full output. Cause: converting <bound method BatchNormalization.call of <tensorflow.python.layers.normalization.BatchNormalization object at 0x7ff5b45384d0>>: AssertionError: Bad argument number for Name: 3, expecting 4\n"
     ]
    },
    {
     "name": "stdout",
     "output_type": "stream",
     "text": [
      "WARNING: Entity <bound method BatchNormalization.call of <tensorflow.python.layers.normalization.BatchNormalization object at 0x7ff5b45384d0>> could not be transformed and will be executed as-is. Please report this to the AutgoGraph team. When filing the bug, set the verbosity to 10 (on Linux, `export AUTOGRAPH_VERBOSITY=10`) and attach the full output. Cause: converting <bound method BatchNormalization.call of <tensorflow.python.layers.normalization.BatchNormalization object at 0x7ff5b45384d0>>: AssertionError: Bad argument number for Name: 3, expecting 4\n",
      "WARNING:tensorflow:Entity <bound method Conv.call of <tensorflow.python.layers.convolutional.Conv2D object at 0x7ff5b46cc950>> could not be transformed and will be executed as-is. Please report this to the AutgoGraph team. When filing the bug, set the verbosity to 10 (on Linux, `export AUTOGRAPH_VERBOSITY=10`) and attach the full output. Cause: converting <bound method Conv.call of <tensorflow.python.layers.convolutional.Conv2D object at 0x7ff5b46cc950>>: AssertionError: Bad argument number for Name: 3, expecting 4\n"
     ]
    },
    {
     "name": "stderr",
     "output_type": "stream",
     "text": [
      "W0703 16:37:47.898545 140698822833920 ag_logging.py:145] Entity <bound method Conv.call of <tensorflow.python.layers.convolutional.Conv2D object at 0x7ff5b46cc950>> could not be transformed and will be executed as-is. Please report this to the AutgoGraph team. When filing the bug, set the verbosity to 10 (on Linux, `export AUTOGRAPH_VERBOSITY=10`) and attach the full output. Cause: converting <bound method Conv.call of <tensorflow.python.layers.convolutional.Conv2D object at 0x7ff5b46cc950>>: AssertionError: Bad argument number for Name: 3, expecting 4\n"
     ]
    },
    {
     "name": "stdout",
     "output_type": "stream",
     "text": [
      "WARNING: Entity <bound method Conv.call of <tensorflow.python.layers.convolutional.Conv2D object at 0x7ff5b46cc950>> could not be transformed and will be executed as-is. Please report this to the AutgoGraph team. When filing the bug, set the verbosity to 10 (on Linux, `export AUTOGRAPH_VERBOSITY=10`) and attach the full output. Cause: converting <bound method Conv.call of <tensorflow.python.layers.convolutional.Conv2D object at 0x7ff5b46cc950>>: AssertionError: Bad argument number for Name: 3, expecting 4\n",
      "WARNING:tensorflow:Entity <bound method BatchNormalization.call of <tensorflow.python.layers.normalization.BatchNormalization object at 0x7ff5b4538450>> could not be transformed and will be executed as-is. Please report this to the AutgoGraph team. When filing the bug, set the verbosity to 10 (on Linux, `export AUTOGRAPH_VERBOSITY=10`) and attach the full output. Cause: converting <bound method BatchNormalization.call of <tensorflow.python.layers.normalization.BatchNormalization object at 0x7ff5b4538450>>: AssertionError: Bad argument number for Name: 3, expecting 4\n"
     ]
    },
    {
     "name": "stderr",
     "output_type": "stream",
     "text": [
      "W0703 16:37:47.920415 140698822833920 ag_logging.py:145] Entity <bound method BatchNormalization.call of <tensorflow.python.layers.normalization.BatchNormalization object at 0x7ff5b4538450>> could not be transformed and will be executed as-is. Please report this to the AutgoGraph team. When filing the bug, set the verbosity to 10 (on Linux, `export AUTOGRAPH_VERBOSITY=10`) and attach the full output. Cause: converting <bound method BatchNormalization.call of <tensorflow.python.layers.normalization.BatchNormalization object at 0x7ff5b4538450>>: AssertionError: Bad argument number for Name: 3, expecting 4\n"
     ]
    },
    {
     "name": "stdout",
     "output_type": "stream",
     "text": [
      "WARNING: Entity <bound method BatchNormalization.call of <tensorflow.python.layers.normalization.BatchNormalization object at 0x7ff5b4538450>> could not be transformed and will be executed as-is. Please report this to the AutgoGraph team. When filing the bug, set the verbosity to 10 (on Linux, `export AUTOGRAPH_VERBOSITY=10`) and attach the full output. Cause: converting <bound method BatchNormalization.call of <tensorflow.python.layers.normalization.BatchNormalization object at 0x7ff5b4538450>>: AssertionError: Bad argument number for Name: 3, expecting 4\n",
      "WARNING:tensorflow:Entity <bound method Pooling2D.call of <tensorflow.python.layers.pooling.AveragePooling2D object at 0x7ff5b476ea10>> could not be transformed and will be executed as-is. Please report this to the AutgoGraph team. When filing the bug, set the verbosity to 10 (on Linux, `export AUTOGRAPH_VERBOSITY=10`) and attach the full output. Cause: converting <bound method Pooling2D.call of <tensorflow.python.layers.pooling.AveragePooling2D object at 0x7ff5b476ea10>>: AssertionError: Bad argument number for Name: 3, expecting 4\n"
     ]
    },
    {
     "name": "stderr",
     "output_type": "stream",
     "text": [
      "W0703 16:37:47.959175 140698822833920 ag_logging.py:145] Entity <bound method Pooling2D.call of <tensorflow.python.layers.pooling.AveragePooling2D object at 0x7ff5b476ea10>> could not be transformed and will be executed as-is. Please report this to the AutgoGraph team. When filing the bug, set the verbosity to 10 (on Linux, `export AUTOGRAPH_VERBOSITY=10`) and attach the full output. Cause: converting <bound method Pooling2D.call of <tensorflow.python.layers.pooling.AveragePooling2D object at 0x7ff5b476ea10>>: AssertionError: Bad argument number for Name: 3, expecting 4\n"
     ]
    },
    {
     "name": "stdout",
     "output_type": "stream",
     "text": [
      "WARNING: Entity <bound method Pooling2D.call of <tensorflow.python.layers.pooling.AveragePooling2D object at 0x7ff5b476ea10>> could not be transformed and will be executed as-is. Please report this to the AutgoGraph team. When filing the bug, set the verbosity to 10 (on Linux, `export AUTOGRAPH_VERBOSITY=10`) and attach the full output. Cause: converting <bound method Pooling2D.call of <tensorflow.python.layers.pooling.AveragePooling2D object at 0x7ff5b476ea10>>: AssertionError: Bad argument number for Name: 3, expecting 4\n",
      "WARNING:tensorflow:Entity <bound method Conv.call of <tensorflow.python.layers.convolutional.Conv2D object at 0x7ff5b4776e50>> could not be transformed and will be executed as-is. Please report this to the AutgoGraph team. When filing the bug, set the verbosity to 10 (on Linux, `export AUTOGRAPH_VERBOSITY=10`) and attach the full output. Cause: converting <bound method Conv.call of <tensorflow.python.layers.convolutional.Conv2D object at 0x7ff5b4776e50>>: AssertionError: Bad argument number for Name: 3, expecting 4\n"
     ]
    },
    {
     "name": "stderr",
     "output_type": "stream",
     "text": [
      "W0703 16:37:48.020500 140698822833920 ag_logging.py:145] Entity <bound method Conv.call of <tensorflow.python.layers.convolutional.Conv2D object at 0x7ff5b4776e50>> could not be transformed and will be executed as-is. Please report this to the AutgoGraph team. When filing the bug, set the verbosity to 10 (on Linux, `export AUTOGRAPH_VERBOSITY=10`) and attach the full output. Cause: converting <bound method Conv.call of <tensorflow.python.layers.convolutional.Conv2D object at 0x7ff5b4776e50>>: AssertionError: Bad argument number for Name: 3, expecting 4\n"
     ]
    },
    {
     "name": "stdout",
     "output_type": "stream",
     "text": [
      "WARNING: Entity <bound method Conv.call of <tensorflow.python.layers.convolutional.Conv2D object at 0x7ff5b4776e50>> could not be transformed and will be executed as-is. Please report this to the AutgoGraph team. When filing the bug, set the verbosity to 10 (on Linux, `export AUTOGRAPH_VERBOSITY=10`) and attach the full output. Cause: converting <bound method Conv.call of <tensorflow.python.layers.convolutional.Conv2D object at 0x7ff5b4776e50>>: AssertionError: Bad argument number for Name: 3, expecting 4\n",
      "WARNING:tensorflow:Entity <bound method BatchNormalization.call of <tensorflow.python.layers.normalization.BatchNormalization object at 0x7ff5b4522b50>> could not be transformed and will be executed as-is. Please report this to the AutgoGraph team. When filing the bug, set the verbosity to 10 (on Linux, `export AUTOGRAPH_VERBOSITY=10`) and attach the full output. Cause: converting <bound method BatchNormalization.call of <tensorflow.python.layers.normalization.BatchNormalization object at 0x7ff5b4522b50>>: AssertionError: Bad argument number for Name: 3, expecting 4\n"
     ]
    },
    {
     "name": "stderr",
     "output_type": "stream",
     "text": [
      "W0703 16:37:48.042966 140698822833920 ag_logging.py:145] Entity <bound method BatchNormalization.call of <tensorflow.python.layers.normalization.BatchNormalization object at 0x7ff5b4522b50>> could not be transformed and will be executed as-is. Please report this to the AutgoGraph team. When filing the bug, set the verbosity to 10 (on Linux, `export AUTOGRAPH_VERBOSITY=10`) and attach the full output. Cause: converting <bound method BatchNormalization.call of <tensorflow.python.layers.normalization.BatchNormalization object at 0x7ff5b4522b50>>: AssertionError: Bad argument number for Name: 3, expecting 4\n"
     ]
    },
    {
     "name": "stdout",
     "output_type": "stream",
     "text": [
      "WARNING: Entity <bound method BatchNormalization.call of <tensorflow.python.layers.normalization.BatchNormalization object at 0x7ff5b4522b50>> could not be transformed and will be executed as-is. Please report this to the AutgoGraph team. When filing the bug, set the verbosity to 10 (on Linux, `export AUTOGRAPH_VERBOSITY=10`) and attach the full output. Cause: converting <bound method BatchNormalization.call of <tensorflow.python.layers.normalization.BatchNormalization object at 0x7ff5b4522b50>>: AssertionError: Bad argument number for Name: 3, expecting 4\n",
      "WARNING:tensorflow:Entity <bound method Conv.call of <tensorflow.python.layers.convolutional.Conv2D object at 0x7ff5b45e2290>> could not be transformed and will be executed as-is. Please report this to the AutgoGraph team. When filing the bug, set the verbosity to 10 (on Linux, `export AUTOGRAPH_VERBOSITY=10`) and attach the full output. Cause: converting <bound method Conv.call of <tensorflow.python.layers.convolutional.Conv2D object at 0x7ff5b45e2290>>: AssertionError: Bad argument number for Name: 3, expecting 4\n"
     ]
    },
    {
     "name": "stderr",
     "output_type": "stream",
     "text": [
      "W0703 16:37:48.102337 140698822833920 ag_logging.py:145] Entity <bound method Conv.call of <tensorflow.python.layers.convolutional.Conv2D object at 0x7ff5b45e2290>> could not be transformed and will be executed as-is. Please report this to the AutgoGraph team. When filing the bug, set the verbosity to 10 (on Linux, `export AUTOGRAPH_VERBOSITY=10`) and attach the full output. Cause: converting <bound method Conv.call of <tensorflow.python.layers.convolutional.Conv2D object at 0x7ff5b45e2290>>: AssertionError: Bad argument number for Name: 3, expecting 4\n"
     ]
    },
    {
     "name": "stdout",
     "output_type": "stream",
     "text": [
      "WARNING: Entity <bound method Conv.call of <tensorflow.python.layers.convolutional.Conv2D object at 0x7ff5b45e2290>> could not be transformed and will be executed as-is. Please report this to the AutgoGraph team. When filing the bug, set the verbosity to 10 (on Linux, `export AUTOGRAPH_VERBOSITY=10`) and attach the full output. Cause: converting <bound method Conv.call of <tensorflow.python.layers.convolutional.Conv2D object at 0x7ff5b45e2290>>: AssertionError: Bad argument number for Name: 3, expecting 4\n",
      "WARNING:tensorflow:Entity <bound method BatchNormalization.call of <tensorflow.python.layers.normalization.BatchNormalization object at 0x7ff5b448b250>> could not be transformed and will be executed as-is. Please report this to the AutgoGraph team. When filing the bug, set the verbosity to 10 (on Linux, `export AUTOGRAPH_VERBOSITY=10`) and attach the full output. Cause: converting <bound method BatchNormalization.call of <tensorflow.python.layers.normalization.BatchNormalization object at 0x7ff5b448b250>>: AssertionError: Bad argument number for Name: 3, expecting 4\n"
     ]
    },
    {
     "name": "stderr",
     "output_type": "stream",
     "text": [
      "W0703 16:37:48.124818 140698822833920 ag_logging.py:145] Entity <bound method BatchNormalization.call of <tensorflow.python.layers.normalization.BatchNormalization object at 0x7ff5b448b250>> could not be transformed and will be executed as-is. Please report this to the AutgoGraph team. When filing the bug, set the verbosity to 10 (on Linux, `export AUTOGRAPH_VERBOSITY=10`) and attach the full output. Cause: converting <bound method BatchNormalization.call of <tensorflow.python.layers.normalization.BatchNormalization object at 0x7ff5b448b250>>: AssertionError: Bad argument number for Name: 3, expecting 4\n"
     ]
    },
    {
     "name": "stdout",
     "output_type": "stream",
     "text": [
      "WARNING: Entity <bound method BatchNormalization.call of <tensorflow.python.layers.normalization.BatchNormalization object at 0x7ff5b448b250>> could not be transformed and will be executed as-is. Please report this to the AutgoGraph team. When filing the bug, set the verbosity to 10 (on Linux, `export AUTOGRAPH_VERBOSITY=10`) and attach the full output. Cause: converting <bound method BatchNormalization.call of <tensorflow.python.layers.normalization.BatchNormalization object at 0x7ff5b448b250>>: AssertionError: Bad argument number for Name: 3, expecting 4\n",
      "WARNING:tensorflow:Entity <bound method Conv.call of <tensorflow.python.layers.convolutional.Conv2D object at 0x7ff5b4522350>> could not be transformed and will be executed as-is. Please report this to the AutgoGraph team. When filing the bug, set the verbosity to 10 (on Linux, `export AUTOGRAPH_VERBOSITY=10`) and attach the full output. Cause: converting <bound method Conv.call of <tensorflow.python.layers.convolutional.Conv2D object at 0x7ff5b4522350>>: AssertionError: Bad argument number for Name: 3, expecting 4\n"
     ]
    },
    {
     "name": "stderr",
     "output_type": "stream",
     "text": [
      "W0703 16:37:48.184868 140698822833920 ag_logging.py:145] Entity <bound method Conv.call of <tensorflow.python.layers.convolutional.Conv2D object at 0x7ff5b4522350>> could not be transformed and will be executed as-is. Please report this to the AutgoGraph team. When filing the bug, set the verbosity to 10 (on Linux, `export AUTOGRAPH_VERBOSITY=10`) and attach the full output. Cause: converting <bound method Conv.call of <tensorflow.python.layers.convolutional.Conv2D object at 0x7ff5b4522350>>: AssertionError: Bad argument number for Name: 3, expecting 4\n"
     ]
    },
    {
     "name": "stdout",
     "output_type": "stream",
     "text": [
      "WARNING: Entity <bound method Conv.call of <tensorflow.python.layers.convolutional.Conv2D object at 0x7ff5b4522350>> could not be transformed and will be executed as-is. Please report this to the AutgoGraph team. When filing the bug, set the verbosity to 10 (on Linux, `export AUTOGRAPH_VERBOSITY=10`) and attach the full output. Cause: converting <bound method Conv.call of <tensorflow.python.layers.convolutional.Conv2D object at 0x7ff5b4522350>>: AssertionError: Bad argument number for Name: 3, expecting 4\n",
      "WARNING:tensorflow:Entity <bound method BatchNormalization.call of <tensorflow.python.layers.normalization.BatchNormalization object at 0x7ff5b46b5110>> could not be transformed and will be executed as-is. Please report this to the AutgoGraph team. When filing the bug, set the verbosity to 10 (on Linux, `export AUTOGRAPH_VERBOSITY=10`) and attach the full output. Cause: converting <bound method BatchNormalization.call of <tensorflow.python.layers.normalization.BatchNormalization object at 0x7ff5b46b5110>>: AssertionError: Bad argument number for Name: 3, expecting 4\n"
     ]
    },
    {
     "name": "stderr",
     "output_type": "stream",
     "text": [
      "W0703 16:37:48.207015 140698822833920 ag_logging.py:145] Entity <bound method BatchNormalization.call of <tensorflow.python.layers.normalization.BatchNormalization object at 0x7ff5b46b5110>> could not be transformed and will be executed as-is. Please report this to the AutgoGraph team. When filing the bug, set the verbosity to 10 (on Linux, `export AUTOGRAPH_VERBOSITY=10`) and attach the full output. Cause: converting <bound method BatchNormalization.call of <tensorflow.python.layers.normalization.BatchNormalization object at 0x7ff5b46b5110>>: AssertionError: Bad argument number for Name: 3, expecting 4\n"
     ]
    },
    {
     "name": "stdout",
     "output_type": "stream",
     "text": [
      "WARNING: Entity <bound method BatchNormalization.call of <tensorflow.python.layers.normalization.BatchNormalization object at 0x7ff5b46b5110>> could not be transformed and will be executed as-is. Please report this to the AutgoGraph team. When filing the bug, set the verbosity to 10 (on Linux, `export AUTOGRAPH_VERBOSITY=10`) and attach the full output. Cause: converting <bound method BatchNormalization.call of <tensorflow.python.layers.normalization.BatchNormalization object at 0x7ff5b46b5110>>: AssertionError: Bad argument number for Name: 3, expecting 4\n",
      "WARNING:tensorflow:Entity <bound method Conv.call of <tensorflow.python.layers.convolutional.Conv2D object at 0x7ff5b45223d0>> could not be transformed and will be executed as-is. Please report this to the AutgoGraph team. When filing the bug, set the verbosity to 10 (on Linux, `export AUTOGRAPH_VERBOSITY=10`) and attach the full output. Cause: converting <bound method Conv.call of <tensorflow.python.layers.convolutional.Conv2D object at 0x7ff5b45223d0>>: AssertionError: Bad argument number for Name: 3, expecting 4\n"
     ]
    },
    {
     "name": "stderr",
     "output_type": "stream",
     "text": [
      "W0703 16:37:48.266024 140698822833920 ag_logging.py:145] Entity <bound method Conv.call of <tensorflow.python.layers.convolutional.Conv2D object at 0x7ff5b45223d0>> could not be transformed and will be executed as-is. Please report this to the AutgoGraph team. When filing the bug, set the verbosity to 10 (on Linux, `export AUTOGRAPH_VERBOSITY=10`) and attach the full output. Cause: converting <bound method Conv.call of <tensorflow.python.layers.convolutional.Conv2D object at 0x7ff5b45223d0>>: AssertionError: Bad argument number for Name: 3, expecting 4\n"
     ]
    },
    {
     "name": "stdout",
     "output_type": "stream",
     "text": [
      "WARNING: Entity <bound method Conv.call of <tensorflow.python.layers.convolutional.Conv2D object at 0x7ff5b45223d0>> could not be transformed and will be executed as-is. Please report this to the AutgoGraph team. When filing the bug, set the verbosity to 10 (on Linux, `export AUTOGRAPH_VERBOSITY=10`) and attach the full output. Cause: converting <bound method Conv.call of <tensorflow.python.layers.convolutional.Conv2D object at 0x7ff5b45223d0>>: AssertionError: Bad argument number for Name: 3, expecting 4\n",
      "WARNING:tensorflow:Entity <bound method BatchNormalization.call of <tensorflow.python.layers.normalization.BatchNormalization object at 0x7ff5b45380d0>> could not be transformed and will be executed as-is. Please report this to the AutgoGraph team. When filing the bug, set the verbosity to 10 (on Linux, `export AUTOGRAPH_VERBOSITY=10`) and attach the full output. Cause: converting <bound method BatchNormalization.call of <tensorflow.python.layers.normalization.BatchNormalization object at 0x7ff5b45380d0>>: AssertionError: Bad argument number for Name: 3, expecting 4\n"
     ]
    },
    {
     "name": "stderr",
     "output_type": "stream",
     "text": [
      "W0703 16:37:48.288186 140698822833920 ag_logging.py:145] Entity <bound method BatchNormalization.call of <tensorflow.python.layers.normalization.BatchNormalization object at 0x7ff5b45380d0>> could not be transformed and will be executed as-is. Please report this to the AutgoGraph team. When filing the bug, set the verbosity to 10 (on Linux, `export AUTOGRAPH_VERBOSITY=10`) and attach the full output. Cause: converting <bound method BatchNormalization.call of <tensorflow.python.layers.normalization.BatchNormalization object at 0x7ff5b45380d0>>: AssertionError: Bad argument number for Name: 3, expecting 4\n"
     ]
    },
    {
     "name": "stdout",
     "output_type": "stream",
     "text": [
      "WARNING: Entity <bound method BatchNormalization.call of <tensorflow.python.layers.normalization.BatchNormalization object at 0x7ff5b45380d0>> could not be transformed and will be executed as-is. Please report this to the AutgoGraph team. When filing the bug, set the verbosity to 10 (on Linux, `export AUTOGRAPH_VERBOSITY=10`) and attach the full output. Cause: converting <bound method BatchNormalization.call of <tensorflow.python.layers.normalization.BatchNormalization object at 0x7ff5b45380d0>>: AssertionError: Bad argument number for Name: 3, expecting 4\n",
      "WARNING:tensorflow:Entity <bound method Conv.call of <tensorflow.python.layers.convolutional.Conv2D object at 0x7ff62f69c210>> could not be transformed and will be executed as-is. Please report this to the AutgoGraph team. When filing the bug, set the verbosity to 10 (on Linux, `export AUTOGRAPH_VERBOSITY=10`) and attach the full output. Cause: converting <bound method Conv.call of <tensorflow.python.layers.convolutional.Conv2D object at 0x7ff62f69c210>>: AssertionError: Bad argument number for Name: 3, expecting 4\n"
     ]
    },
    {
     "name": "stderr",
     "output_type": "stream",
     "text": [
      "W0703 16:37:48.348220 140698822833920 ag_logging.py:145] Entity <bound method Conv.call of <tensorflow.python.layers.convolutional.Conv2D object at 0x7ff62f69c210>> could not be transformed and will be executed as-is. Please report this to the AutgoGraph team. When filing the bug, set the verbosity to 10 (on Linux, `export AUTOGRAPH_VERBOSITY=10`) and attach the full output. Cause: converting <bound method Conv.call of <tensorflow.python.layers.convolutional.Conv2D object at 0x7ff62f69c210>>: AssertionError: Bad argument number for Name: 3, expecting 4\n"
     ]
    },
    {
     "name": "stdout",
     "output_type": "stream",
     "text": [
      "WARNING: Entity <bound method Conv.call of <tensorflow.python.layers.convolutional.Conv2D object at 0x7ff62f69c210>> could not be transformed and will be executed as-is. Please report this to the AutgoGraph team. When filing the bug, set the verbosity to 10 (on Linux, `export AUTOGRAPH_VERBOSITY=10`) and attach the full output. Cause: converting <bound method Conv.call of <tensorflow.python.layers.convolutional.Conv2D object at 0x7ff62f69c210>>: AssertionError: Bad argument number for Name: 3, expecting 4\n",
      "WARNING:tensorflow:Entity <bound method BatchNormalization.call of <tensorflow.python.layers.normalization.BatchNormalization object at 0x7ff5b4477ad0>> could not be transformed and will be executed as-is. Please report this to the AutgoGraph team. When filing the bug, set the verbosity to 10 (on Linux, `export AUTOGRAPH_VERBOSITY=10`) and attach the full output. Cause: converting <bound method BatchNormalization.call of <tensorflow.python.layers.normalization.BatchNormalization object at 0x7ff5b4477ad0>>: AssertionError: Bad argument number for Name: 3, expecting 4\n"
     ]
    },
    {
     "name": "stderr",
     "output_type": "stream",
     "text": [
      "W0703 16:37:48.370478 140698822833920 ag_logging.py:145] Entity <bound method BatchNormalization.call of <tensorflow.python.layers.normalization.BatchNormalization object at 0x7ff5b4477ad0>> could not be transformed and will be executed as-is. Please report this to the AutgoGraph team. When filing the bug, set the verbosity to 10 (on Linux, `export AUTOGRAPH_VERBOSITY=10`) and attach the full output. Cause: converting <bound method BatchNormalization.call of <tensorflow.python.layers.normalization.BatchNormalization object at 0x7ff5b4477ad0>>: AssertionError: Bad argument number for Name: 3, expecting 4\n"
     ]
    },
    {
     "name": "stdout",
     "output_type": "stream",
     "text": [
      "WARNING: Entity <bound method BatchNormalization.call of <tensorflow.python.layers.normalization.BatchNormalization object at 0x7ff5b4477ad0>> could not be transformed and will be executed as-is. Please report this to the AutgoGraph team. When filing the bug, set the verbosity to 10 (on Linux, `export AUTOGRAPH_VERBOSITY=10`) and attach the full output. Cause: converting <bound method BatchNormalization.call of <tensorflow.python.layers.normalization.BatchNormalization object at 0x7ff5b4477ad0>>: AssertionError: Bad argument number for Name: 3, expecting 4\n",
      "WARNING:tensorflow:Entity <bound method Conv.call of <tensorflow.python.layers.convolutional.Conv2D object at 0x7ff5b4465f10>> could not be transformed and will be executed as-is. Please report this to the AutgoGraph team. When filing the bug, set the verbosity to 10 (on Linux, `export AUTOGRAPH_VERBOSITY=10`) and attach the full output. Cause: converting <bound method Conv.call of <tensorflow.python.layers.convolutional.Conv2D object at 0x7ff5b4465f10>>: AssertionError: Bad argument number for Name: 3, expecting 4\n"
     ]
    },
    {
     "name": "stderr",
     "output_type": "stream",
     "text": [
      "W0703 16:37:48.429371 140698822833920 ag_logging.py:145] Entity <bound method Conv.call of <tensorflow.python.layers.convolutional.Conv2D object at 0x7ff5b4465f10>> could not be transformed and will be executed as-is. Please report this to the AutgoGraph team. When filing the bug, set the verbosity to 10 (on Linux, `export AUTOGRAPH_VERBOSITY=10`) and attach the full output. Cause: converting <bound method Conv.call of <tensorflow.python.layers.convolutional.Conv2D object at 0x7ff5b4465f10>>: AssertionError: Bad argument number for Name: 3, expecting 4\n"
     ]
    },
    {
     "name": "stdout",
     "output_type": "stream",
     "text": [
      "WARNING: Entity <bound method Conv.call of <tensorflow.python.layers.convolutional.Conv2D object at 0x7ff5b4465f10>> could not be transformed and will be executed as-is. Please report this to the AutgoGraph team. When filing the bug, set the verbosity to 10 (on Linux, `export AUTOGRAPH_VERBOSITY=10`) and attach the full output. Cause: converting <bound method Conv.call of <tensorflow.python.layers.convolutional.Conv2D object at 0x7ff5b4465f10>>: AssertionError: Bad argument number for Name: 3, expecting 4\n",
      "WARNING:tensorflow:Entity <bound method BatchNormalization.call of <tensorflow.python.layers.normalization.BatchNormalization object at 0x7ff5b43de510>> could not be transformed and will be executed as-is. Please report this to the AutgoGraph team. When filing the bug, set the verbosity to 10 (on Linux, `export AUTOGRAPH_VERBOSITY=10`) and attach the full output. Cause: converting <bound method BatchNormalization.call of <tensorflow.python.layers.normalization.BatchNormalization object at 0x7ff5b43de510>>: AssertionError: Bad argument number for Name: 3, expecting 4\n"
     ]
    },
    {
     "name": "stderr",
     "output_type": "stream",
     "text": [
      "W0703 16:37:48.451543 140698822833920 ag_logging.py:145] Entity <bound method BatchNormalization.call of <tensorflow.python.layers.normalization.BatchNormalization object at 0x7ff5b43de510>> could not be transformed and will be executed as-is. Please report this to the AutgoGraph team. When filing the bug, set the verbosity to 10 (on Linux, `export AUTOGRAPH_VERBOSITY=10`) and attach the full output. Cause: converting <bound method BatchNormalization.call of <tensorflow.python.layers.normalization.BatchNormalization object at 0x7ff5b43de510>>: AssertionError: Bad argument number for Name: 3, expecting 4\n"
     ]
    },
    {
     "name": "stdout",
     "output_type": "stream",
     "text": [
      "WARNING: Entity <bound method BatchNormalization.call of <tensorflow.python.layers.normalization.BatchNormalization object at 0x7ff5b43de510>> could not be transformed and will be executed as-is. Please report this to the AutgoGraph team. When filing the bug, set the verbosity to 10 (on Linux, `export AUTOGRAPH_VERBOSITY=10`) and attach the full output. Cause: converting <bound method BatchNormalization.call of <tensorflow.python.layers.normalization.BatchNormalization object at 0x7ff5b43de510>>: AssertionError: Bad argument number for Name: 3, expecting 4\n",
      "WARNING:tensorflow:Entity <bound method Conv.call of <tensorflow.python.layers.convolutional.Conv2D object at 0x7ff5b46c0ed0>> could not be transformed and will be executed as-is. Please report this to the AutgoGraph team. When filing the bug, set the verbosity to 10 (on Linux, `export AUTOGRAPH_VERBOSITY=10`) and attach the full output. Cause: converting <bound method Conv.call of <tensorflow.python.layers.convolutional.Conv2D object at 0x7ff5b46c0ed0>>: AssertionError: Bad argument number for Name: 3, expecting 4\n"
     ]
    },
    {
     "name": "stderr",
     "output_type": "stream",
     "text": [
      "W0703 16:37:48.509424 140698822833920 ag_logging.py:145] Entity <bound method Conv.call of <tensorflow.python.layers.convolutional.Conv2D object at 0x7ff5b46c0ed0>> could not be transformed and will be executed as-is. Please report this to the AutgoGraph team. When filing the bug, set the verbosity to 10 (on Linux, `export AUTOGRAPH_VERBOSITY=10`) and attach the full output. Cause: converting <bound method Conv.call of <tensorflow.python.layers.convolutional.Conv2D object at 0x7ff5b46c0ed0>>: AssertionError: Bad argument number for Name: 3, expecting 4\n"
     ]
    },
    {
     "name": "stdout",
     "output_type": "stream",
     "text": [
      "WARNING: Entity <bound method Conv.call of <tensorflow.python.layers.convolutional.Conv2D object at 0x7ff5b46c0ed0>> could not be transformed and will be executed as-is. Please report this to the AutgoGraph team. When filing the bug, set the verbosity to 10 (on Linux, `export AUTOGRAPH_VERBOSITY=10`) and attach the full output. Cause: converting <bound method Conv.call of <tensorflow.python.layers.convolutional.Conv2D object at 0x7ff5b46c0ed0>>: AssertionError: Bad argument number for Name: 3, expecting 4\n",
      "WARNING:tensorflow:Entity <bound method BatchNormalization.call of <tensorflow.python.layers.normalization.BatchNormalization object at 0x7ff5b43acdd0>> could not be transformed and will be executed as-is. Please report this to the AutgoGraph team. When filing the bug, set the verbosity to 10 (on Linux, `export AUTOGRAPH_VERBOSITY=10`) and attach the full output. Cause: converting <bound method BatchNormalization.call of <tensorflow.python.layers.normalization.BatchNormalization object at 0x7ff5b43acdd0>>: AssertionError: Bad argument number for Name: 3, expecting 4\n"
     ]
    },
    {
     "name": "stderr",
     "output_type": "stream",
     "text": [
      "W0703 16:37:48.531568 140698822833920 ag_logging.py:145] Entity <bound method BatchNormalization.call of <tensorflow.python.layers.normalization.BatchNormalization object at 0x7ff5b43acdd0>> could not be transformed and will be executed as-is. Please report this to the AutgoGraph team. When filing the bug, set the verbosity to 10 (on Linux, `export AUTOGRAPH_VERBOSITY=10`) and attach the full output. Cause: converting <bound method BatchNormalization.call of <tensorflow.python.layers.normalization.BatchNormalization object at 0x7ff5b43acdd0>>: AssertionError: Bad argument number for Name: 3, expecting 4\n"
     ]
    },
    {
     "name": "stdout",
     "output_type": "stream",
     "text": [
      "WARNING: Entity <bound method BatchNormalization.call of <tensorflow.python.layers.normalization.BatchNormalization object at 0x7ff5b43acdd0>> could not be transformed and will be executed as-is. Please report this to the AutgoGraph team. When filing the bug, set the verbosity to 10 (on Linux, `export AUTOGRAPH_VERBOSITY=10`) and attach the full output. Cause: converting <bound method BatchNormalization.call of <tensorflow.python.layers.normalization.BatchNormalization object at 0x7ff5b43acdd0>>: AssertionError: Bad argument number for Name: 3, expecting 4\n",
      "WARNING:tensorflow:Entity <bound method Pooling2D.call of <tensorflow.python.layers.pooling.MaxPooling2D object at 0x7ff5b44777d0>> could not be transformed and will be executed as-is. Please report this to the AutgoGraph team. When filing the bug, set the verbosity to 10 (on Linux, `export AUTOGRAPH_VERBOSITY=10`) and attach the full output. Cause: converting <bound method Pooling2D.call of <tensorflow.python.layers.pooling.MaxPooling2D object at 0x7ff5b44777d0>>: AssertionError: Bad argument number for Name: 3, expecting 4\n"
     ]
    },
    {
     "name": "stderr",
     "output_type": "stream",
     "text": [
      "W0703 16:37:48.570351 140698822833920 ag_logging.py:145] Entity <bound method Pooling2D.call of <tensorflow.python.layers.pooling.MaxPooling2D object at 0x7ff5b44777d0>> could not be transformed and will be executed as-is. Please report this to the AutgoGraph team. When filing the bug, set the verbosity to 10 (on Linux, `export AUTOGRAPH_VERBOSITY=10`) and attach the full output. Cause: converting <bound method Pooling2D.call of <tensorflow.python.layers.pooling.MaxPooling2D object at 0x7ff5b44777d0>>: AssertionError: Bad argument number for Name: 3, expecting 4\n"
     ]
    },
    {
     "name": "stdout",
     "output_type": "stream",
     "text": [
      "WARNING: Entity <bound method Pooling2D.call of <tensorflow.python.layers.pooling.MaxPooling2D object at 0x7ff5b44777d0>> could not be transformed and will be executed as-is. Please report this to the AutgoGraph team. When filing the bug, set the verbosity to 10 (on Linux, `export AUTOGRAPH_VERBOSITY=10`) and attach the full output. Cause: converting <bound method Pooling2D.call of <tensorflow.python.layers.pooling.MaxPooling2D object at 0x7ff5b44777d0>>: AssertionError: Bad argument number for Name: 3, expecting 4\n",
      "WARNING:tensorflow:Entity <bound method Conv.call of <tensorflow.python.layers.convolutional.Conv2D object at 0x7ff6144efe10>> could not be transformed and will be executed as-is. Please report this to the AutgoGraph team. When filing the bug, set the verbosity to 10 (on Linux, `export AUTOGRAPH_VERBOSITY=10`) and attach the full output. Cause: converting <bound method Conv.call of <tensorflow.python.layers.convolutional.Conv2D object at 0x7ff6144efe10>>: AssertionError: Bad argument number for Name: 3, expecting 4\n"
     ]
    },
    {
     "name": "stderr",
     "output_type": "stream",
     "text": [
      "W0703 16:37:48.627685 140698822833920 ag_logging.py:145] Entity <bound method Conv.call of <tensorflow.python.layers.convolutional.Conv2D object at 0x7ff6144efe10>> could not be transformed and will be executed as-is. Please report this to the AutgoGraph team. When filing the bug, set the verbosity to 10 (on Linux, `export AUTOGRAPH_VERBOSITY=10`) and attach the full output. Cause: converting <bound method Conv.call of <tensorflow.python.layers.convolutional.Conv2D object at 0x7ff6144efe10>>: AssertionError: Bad argument number for Name: 3, expecting 4\n"
     ]
    },
    {
     "name": "stdout",
     "output_type": "stream",
     "text": [
      "WARNING: Entity <bound method Conv.call of <tensorflow.python.layers.convolutional.Conv2D object at 0x7ff6144efe10>> could not be transformed and will be executed as-is. Please report this to the AutgoGraph team. When filing the bug, set the verbosity to 10 (on Linux, `export AUTOGRAPH_VERBOSITY=10`) and attach the full output. Cause: converting <bound method Conv.call of <tensorflow.python.layers.convolutional.Conv2D object at 0x7ff6144efe10>>: AssertionError: Bad argument number for Name: 3, expecting 4\n",
      "WARNING:tensorflow:Entity <bound method BatchNormalization.call of <tensorflow.python.layers.normalization.BatchNormalization object at 0x7ff5b426a6d0>> could not be transformed and will be executed as-is. Please report this to the AutgoGraph team. When filing the bug, set the verbosity to 10 (on Linux, `export AUTOGRAPH_VERBOSITY=10`) and attach the full output. Cause: converting <bound method BatchNormalization.call of <tensorflow.python.layers.normalization.BatchNormalization object at 0x7ff5b426a6d0>>: AssertionError: Bad argument number for Name: 3, expecting 4\n"
     ]
    },
    {
     "name": "stderr",
     "output_type": "stream",
     "text": [
      "W0703 16:37:48.650126 140698822833920 ag_logging.py:145] Entity <bound method BatchNormalization.call of <tensorflow.python.layers.normalization.BatchNormalization object at 0x7ff5b426a6d0>> could not be transformed and will be executed as-is. Please report this to the AutgoGraph team. When filing the bug, set the verbosity to 10 (on Linux, `export AUTOGRAPH_VERBOSITY=10`) and attach the full output. Cause: converting <bound method BatchNormalization.call of <tensorflow.python.layers.normalization.BatchNormalization object at 0x7ff5b426a6d0>>: AssertionError: Bad argument number for Name: 3, expecting 4\n"
     ]
    },
    {
     "name": "stdout",
     "output_type": "stream",
     "text": [
      "WARNING: Entity <bound method BatchNormalization.call of <tensorflow.python.layers.normalization.BatchNormalization object at 0x7ff5b426a6d0>> could not be transformed and will be executed as-is. Please report this to the AutgoGraph team. When filing the bug, set the verbosity to 10 (on Linux, `export AUTOGRAPH_VERBOSITY=10`) and attach the full output. Cause: converting <bound method BatchNormalization.call of <tensorflow.python.layers.normalization.BatchNormalization object at 0x7ff5b426a6d0>>: AssertionError: Bad argument number for Name: 3, expecting 4\n",
      "WARNING:tensorflow:Entity <bound method Conv.call of <tensorflow.python.layers.convolutional.Conv2D object at 0x7ff614442650>> could not be transformed and will be executed as-is. Please report this to the AutgoGraph team. When filing the bug, set the verbosity to 10 (on Linux, `export AUTOGRAPH_VERBOSITY=10`) and attach the full output. Cause: converting <bound method Conv.call of <tensorflow.python.layers.convolutional.Conv2D object at 0x7ff614442650>>: AssertionError: Bad argument number for Name: 3, expecting 4\n"
     ]
    },
    {
     "name": "stderr",
     "output_type": "stream",
     "text": [
      "W0703 16:37:48.707266 140698822833920 ag_logging.py:145] Entity <bound method Conv.call of <tensorflow.python.layers.convolutional.Conv2D object at 0x7ff614442650>> could not be transformed and will be executed as-is. Please report this to the AutgoGraph team. When filing the bug, set the verbosity to 10 (on Linux, `export AUTOGRAPH_VERBOSITY=10`) and attach the full output. Cause: converting <bound method Conv.call of <tensorflow.python.layers.convolutional.Conv2D object at 0x7ff614442650>>: AssertionError: Bad argument number for Name: 3, expecting 4\n"
     ]
    },
    {
     "name": "stdout",
     "output_type": "stream",
     "text": [
      "WARNING: Entity <bound method Conv.call of <tensorflow.python.layers.convolutional.Conv2D object at 0x7ff614442650>> could not be transformed and will be executed as-is. Please report this to the AutgoGraph team. When filing the bug, set the verbosity to 10 (on Linux, `export AUTOGRAPH_VERBOSITY=10`) and attach the full output. Cause: converting <bound method Conv.call of <tensorflow.python.layers.convolutional.Conv2D object at 0x7ff614442650>>: AssertionError: Bad argument number for Name: 3, expecting 4\n",
      "WARNING:tensorflow:Entity <bound method BatchNormalization.call of <tensorflow.python.layers.normalization.BatchNormalization object at 0x7ff5b4106ad0>> could not be transformed and will be executed as-is. Please report this to the AutgoGraph team. When filing the bug, set the verbosity to 10 (on Linux, `export AUTOGRAPH_VERBOSITY=10`) and attach the full output. Cause: converting <bound method BatchNormalization.call of <tensorflow.python.layers.normalization.BatchNormalization object at 0x7ff5b4106ad0>>: AssertionError: Bad argument number for Name: 3, expecting 4\n"
     ]
    },
    {
     "name": "stderr",
     "output_type": "stream",
     "text": [
      "W0703 16:37:48.730164 140698822833920 ag_logging.py:145] Entity <bound method BatchNormalization.call of <tensorflow.python.layers.normalization.BatchNormalization object at 0x7ff5b4106ad0>> could not be transformed and will be executed as-is. Please report this to the AutgoGraph team. When filing the bug, set the verbosity to 10 (on Linux, `export AUTOGRAPH_VERBOSITY=10`) and attach the full output. Cause: converting <bound method BatchNormalization.call of <tensorflow.python.layers.normalization.BatchNormalization object at 0x7ff5b4106ad0>>: AssertionError: Bad argument number for Name: 3, expecting 4\n"
     ]
    },
    {
     "name": "stdout",
     "output_type": "stream",
     "text": [
      "WARNING: Entity <bound method BatchNormalization.call of <tensorflow.python.layers.normalization.BatchNormalization object at 0x7ff5b4106ad0>> could not be transformed and will be executed as-is. Please report this to the AutgoGraph team. When filing the bug, set the verbosity to 10 (on Linux, `export AUTOGRAPH_VERBOSITY=10`) and attach the full output. Cause: converting <bound method BatchNormalization.call of <tensorflow.python.layers.normalization.BatchNormalization object at 0x7ff5b4106ad0>>: AssertionError: Bad argument number for Name: 3, expecting 4\n",
      "WARNING:tensorflow:Entity <bound method Conv.call of <tensorflow.python.layers.convolutional.Conv2D object at 0x7ff5b4267190>> could not be transformed and will be executed as-is. Please report this to the AutgoGraph team. When filing the bug, set the verbosity to 10 (on Linux, `export AUTOGRAPH_VERBOSITY=10`) and attach the full output. Cause: converting <bound method Conv.call of <tensorflow.python.layers.convolutional.Conv2D object at 0x7ff5b4267190>>: AssertionError: Bad argument number for Name: 3, expecting 4\n"
     ]
    },
    {
     "name": "stderr",
     "output_type": "stream",
     "text": [
      "W0703 16:37:48.787907 140698822833920 ag_logging.py:145] Entity <bound method Conv.call of <tensorflow.python.layers.convolutional.Conv2D object at 0x7ff5b4267190>> could not be transformed and will be executed as-is. Please report this to the AutgoGraph team. When filing the bug, set the verbosity to 10 (on Linux, `export AUTOGRAPH_VERBOSITY=10`) and attach the full output. Cause: converting <bound method Conv.call of <tensorflow.python.layers.convolutional.Conv2D object at 0x7ff5b4267190>>: AssertionError: Bad argument number for Name: 3, expecting 4\n"
     ]
    },
    {
     "name": "stdout",
     "output_type": "stream",
     "text": [
      "WARNING: Entity <bound method Conv.call of <tensorflow.python.layers.convolutional.Conv2D object at 0x7ff5b4267190>> could not be transformed and will be executed as-is. Please report this to the AutgoGraph team. When filing the bug, set the verbosity to 10 (on Linux, `export AUTOGRAPH_VERBOSITY=10`) and attach the full output. Cause: converting <bound method Conv.call of <tensorflow.python.layers.convolutional.Conv2D object at 0x7ff5b4267190>>: AssertionError: Bad argument number for Name: 3, expecting 4\n",
      "WARNING:tensorflow:Entity <bound method BatchNormalization.call of <tensorflow.python.layers.normalization.BatchNormalization object at 0x7ff5b40e7110>> could not be transformed and will be executed as-is. Please report this to the AutgoGraph team. When filing the bug, set the verbosity to 10 (on Linux, `export AUTOGRAPH_VERBOSITY=10`) and attach the full output. Cause: converting <bound method BatchNormalization.call of <tensorflow.python.layers.normalization.BatchNormalization object at 0x7ff5b40e7110>>: AssertionError: Bad argument number for Name: 3, expecting 4\n"
     ]
    },
    {
     "name": "stderr",
     "output_type": "stream",
     "text": [
      "W0703 16:37:48.810071 140698822833920 ag_logging.py:145] Entity <bound method BatchNormalization.call of <tensorflow.python.layers.normalization.BatchNormalization object at 0x7ff5b40e7110>> could not be transformed and will be executed as-is. Please report this to the AutgoGraph team. When filing the bug, set the verbosity to 10 (on Linux, `export AUTOGRAPH_VERBOSITY=10`) and attach the full output. Cause: converting <bound method BatchNormalization.call of <tensorflow.python.layers.normalization.BatchNormalization object at 0x7ff5b40e7110>>: AssertionError: Bad argument number for Name: 3, expecting 4\n"
     ]
    },
    {
     "name": "stdout",
     "output_type": "stream",
     "text": [
      "WARNING: Entity <bound method BatchNormalization.call of <tensorflow.python.layers.normalization.BatchNormalization object at 0x7ff5b40e7110>> could not be transformed and will be executed as-is. Please report this to the AutgoGraph team. When filing the bug, set the verbosity to 10 (on Linux, `export AUTOGRAPH_VERBOSITY=10`) and attach the full output. Cause: converting <bound method BatchNormalization.call of <tensorflow.python.layers.normalization.BatchNormalization object at 0x7ff5b40e7110>>: AssertionError: Bad argument number for Name: 3, expecting 4\n",
      "WARNING:tensorflow:Entity <bound method Conv.call of <tensorflow.python.layers.convolutional.Conv2D object at 0x7ff614442650>> could not be transformed and will be executed as-is. Please report this to the AutgoGraph team. When filing the bug, set the verbosity to 10 (on Linux, `export AUTOGRAPH_VERBOSITY=10`) and attach the full output. Cause: converting <bound method Conv.call of <tensorflow.python.layers.convolutional.Conv2D object at 0x7ff614442650>>: AssertionError: Bad argument number for Name: 3, expecting 4\n"
     ]
    },
    {
     "name": "stderr",
     "output_type": "stream",
     "text": [
      "W0703 16:37:48.873008 140698822833920 ag_logging.py:145] Entity <bound method Conv.call of <tensorflow.python.layers.convolutional.Conv2D object at 0x7ff614442650>> could not be transformed and will be executed as-is. Please report this to the AutgoGraph team. When filing the bug, set the verbosity to 10 (on Linux, `export AUTOGRAPH_VERBOSITY=10`) and attach the full output. Cause: converting <bound method Conv.call of <tensorflow.python.layers.convolutional.Conv2D object at 0x7ff614442650>>: AssertionError: Bad argument number for Name: 3, expecting 4\n"
     ]
    },
    {
     "name": "stdout",
     "output_type": "stream",
     "text": [
      "WARNING: Entity <bound method Conv.call of <tensorflow.python.layers.convolutional.Conv2D object at 0x7ff614442650>> could not be transformed and will be executed as-is. Please report this to the AutgoGraph team. When filing the bug, set the verbosity to 10 (on Linux, `export AUTOGRAPH_VERBOSITY=10`) and attach the full output. Cause: converting <bound method Conv.call of <tensorflow.python.layers.convolutional.Conv2D object at 0x7ff614442650>>: AssertionError: Bad argument number for Name: 3, expecting 4\n",
      "WARNING:tensorflow:Entity <bound method BatchNormalization.call of <tensorflow.python.layers.normalization.BatchNormalization object at 0x7ff5b4178fd0>> could not be transformed and will be executed as-is. Please report this to the AutgoGraph team. When filing the bug, set the verbosity to 10 (on Linux, `export AUTOGRAPH_VERBOSITY=10`) and attach the full output. Cause: converting <bound method BatchNormalization.call of <tensorflow.python.layers.normalization.BatchNormalization object at 0x7ff5b4178fd0>>: AssertionError: Bad argument number for Name: 3, expecting 4\n"
     ]
    },
    {
     "name": "stderr",
     "output_type": "stream",
     "text": [
      "W0703 16:37:48.895471 140698822833920 ag_logging.py:145] Entity <bound method BatchNormalization.call of <tensorflow.python.layers.normalization.BatchNormalization object at 0x7ff5b4178fd0>> could not be transformed and will be executed as-is. Please report this to the AutgoGraph team. When filing the bug, set the verbosity to 10 (on Linux, `export AUTOGRAPH_VERBOSITY=10`) and attach the full output. Cause: converting <bound method BatchNormalization.call of <tensorflow.python.layers.normalization.BatchNormalization object at 0x7ff5b4178fd0>>: AssertionError: Bad argument number for Name: 3, expecting 4\n"
     ]
    },
    {
     "name": "stdout",
     "output_type": "stream",
     "text": [
      "WARNING: Entity <bound method BatchNormalization.call of <tensorflow.python.layers.normalization.BatchNormalization object at 0x7ff5b4178fd0>> could not be transformed and will be executed as-is. Please report this to the AutgoGraph team. When filing the bug, set the verbosity to 10 (on Linux, `export AUTOGRAPH_VERBOSITY=10`) and attach the full output. Cause: converting <bound method BatchNormalization.call of <tensorflow.python.layers.normalization.BatchNormalization object at 0x7ff5b4178fd0>>: AssertionError: Bad argument number for Name: 3, expecting 4\n",
      "WARNING:tensorflow:Entity <bound method Conv.call of <tensorflow.python.layers.convolutional.Conv2D object at 0x7ff62c1b3250>> could not be transformed and will be executed as-is. Please report this to the AutgoGraph team. When filing the bug, set the verbosity to 10 (on Linux, `export AUTOGRAPH_VERBOSITY=10`) and attach the full output. Cause: converting <bound method Conv.call of <tensorflow.python.layers.convolutional.Conv2D object at 0x7ff62c1b3250>>: AssertionError: Bad argument number for Name: 3, expecting 4\n"
     ]
    },
    {
     "name": "stderr",
     "output_type": "stream",
     "text": [
      "W0703 16:37:48.956459 140698822833920 ag_logging.py:145] Entity <bound method Conv.call of <tensorflow.python.layers.convolutional.Conv2D object at 0x7ff62c1b3250>> could not be transformed and will be executed as-is. Please report this to the AutgoGraph team. When filing the bug, set the verbosity to 10 (on Linux, `export AUTOGRAPH_VERBOSITY=10`) and attach the full output. Cause: converting <bound method Conv.call of <tensorflow.python.layers.convolutional.Conv2D object at 0x7ff62c1b3250>>: AssertionError: Bad argument number for Name: 3, expecting 4\n"
     ]
    },
    {
     "name": "stdout",
     "output_type": "stream",
     "text": [
      "WARNING: Entity <bound method Conv.call of <tensorflow.python.layers.convolutional.Conv2D object at 0x7ff62c1b3250>> could not be transformed and will be executed as-is. Please report this to the AutgoGraph team. When filing the bug, set the verbosity to 10 (on Linux, `export AUTOGRAPH_VERBOSITY=10`) and attach the full output. Cause: converting <bound method Conv.call of <tensorflow.python.layers.convolutional.Conv2D object at 0x7ff62c1b3250>>: AssertionError: Bad argument number for Name: 3, expecting 4\n",
      "WARNING:tensorflow:Entity <bound method BatchNormalization.call of <tensorflow.python.layers.normalization.BatchNormalization object at 0x7ff5987f0dd0>> could not be transformed and will be executed as-is. Please report this to the AutgoGraph team. When filing the bug, set the verbosity to 10 (on Linux, `export AUTOGRAPH_VERBOSITY=10`) and attach the full output. Cause: converting <bound method BatchNormalization.call of <tensorflow.python.layers.normalization.BatchNormalization object at 0x7ff5987f0dd0>>: AssertionError: Bad argument number for Name: 3, expecting 4\n"
     ]
    },
    {
     "name": "stderr",
     "output_type": "stream",
     "text": [
      "W0703 16:37:48.978729 140698822833920 ag_logging.py:145] Entity <bound method BatchNormalization.call of <tensorflow.python.layers.normalization.BatchNormalization object at 0x7ff5987f0dd0>> could not be transformed and will be executed as-is. Please report this to the AutgoGraph team. When filing the bug, set the verbosity to 10 (on Linux, `export AUTOGRAPH_VERBOSITY=10`) and attach the full output. Cause: converting <bound method BatchNormalization.call of <tensorflow.python.layers.normalization.BatchNormalization object at 0x7ff5987f0dd0>>: AssertionError: Bad argument number for Name: 3, expecting 4\n"
     ]
    },
    {
     "name": "stdout",
     "output_type": "stream",
     "text": [
      "WARNING: Entity <bound method BatchNormalization.call of <tensorflow.python.layers.normalization.BatchNormalization object at 0x7ff5987f0dd0>> could not be transformed and will be executed as-is. Please report this to the AutgoGraph team. When filing the bug, set the verbosity to 10 (on Linux, `export AUTOGRAPH_VERBOSITY=10`) and attach the full output. Cause: converting <bound method BatchNormalization.call of <tensorflow.python.layers.normalization.BatchNormalization object at 0x7ff5987f0dd0>>: AssertionError: Bad argument number for Name: 3, expecting 4\n",
      "WARNING:tensorflow:Entity <bound method Conv.call of <tensorflow.python.layers.convolutional.Conv2D object at 0x7ff62c1b3f90>> could not be transformed and will be executed as-is. Please report this to the AutgoGraph team. When filing the bug, set the verbosity to 10 (on Linux, `export AUTOGRAPH_VERBOSITY=10`) and attach the full output. Cause: converting <bound method Conv.call of <tensorflow.python.layers.convolutional.Conv2D object at 0x7ff62c1b3f90>>: AssertionError: Bad argument number for Name: 3, expecting 4\n"
     ]
    },
    {
     "name": "stderr",
     "output_type": "stream",
     "text": [
      "W0703 16:37:49.037958 140698822833920 ag_logging.py:145] Entity <bound method Conv.call of <tensorflow.python.layers.convolutional.Conv2D object at 0x7ff62c1b3f90>> could not be transformed and will be executed as-is. Please report this to the AutgoGraph team. When filing the bug, set the verbosity to 10 (on Linux, `export AUTOGRAPH_VERBOSITY=10`) and attach the full output. Cause: converting <bound method Conv.call of <tensorflow.python.layers.convolutional.Conv2D object at 0x7ff62c1b3f90>>: AssertionError: Bad argument number for Name: 3, expecting 4\n"
     ]
    },
    {
     "name": "stdout",
     "output_type": "stream",
     "text": [
      "WARNING: Entity <bound method Conv.call of <tensorflow.python.layers.convolutional.Conv2D object at 0x7ff62c1b3f90>> could not be transformed and will be executed as-is. Please report this to the AutgoGraph team. When filing the bug, set the verbosity to 10 (on Linux, `export AUTOGRAPH_VERBOSITY=10`) and attach the full output. Cause: converting <bound method Conv.call of <tensorflow.python.layers.convolutional.Conv2D object at 0x7ff62c1b3f90>>: AssertionError: Bad argument number for Name: 3, expecting 4\n",
      "WARNING:tensorflow:Entity <bound method BatchNormalization.call of <tensorflow.python.layers.normalization.BatchNormalization object at 0x7ff5b43acd90>> could not be transformed and will be executed as-is. Please report this to the AutgoGraph team. When filing the bug, set the verbosity to 10 (on Linux, `export AUTOGRAPH_VERBOSITY=10`) and attach the full output. Cause: converting <bound method BatchNormalization.call of <tensorflow.python.layers.normalization.BatchNormalization object at 0x7ff5b43acd90>>: AssertionError: Bad argument number for Name: 3, expecting 4\n"
     ]
    },
    {
     "name": "stderr",
     "output_type": "stream",
     "text": [
      "W0703 16:37:49.060164 140698822833920 ag_logging.py:145] Entity <bound method BatchNormalization.call of <tensorflow.python.layers.normalization.BatchNormalization object at 0x7ff5b43acd90>> could not be transformed and will be executed as-is. Please report this to the AutgoGraph team. When filing the bug, set the verbosity to 10 (on Linux, `export AUTOGRAPH_VERBOSITY=10`) and attach the full output. Cause: converting <bound method BatchNormalization.call of <tensorflow.python.layers.normalization.BatchNormalization object at 0x7ff5b43acd90>>: AssertionError: Bad argument number for Name: 3, expecting 4\n"
     ]
    },
    {
     "name": "stdout",
     "output_type": "stream",
     "text": [
      "WARNING: Entity <bound method BatchNormalization.call of <tensorflow.python.layers.normalization.BatchNormalization object at 0x7ff5b43acd90>> could not be transformed and will be executed as-is. Please report this to the AutgoGraph team. When filing the bug, set the verbosity to 10 (on Linux, `export AUTOGRAPH_VERBOSITY=10`) and attach the full output. Cause: converting <bound method BatchNormalization.call of <tensorflow.python.layers.normalization.BatchNormalization object at 0x7ff5b43acd90>>: AssertionError: Bad argument number for Name: 3, expecting 4\n",
      "WARNING:tensorflow:Entity <bound method Conv.call of <tensorflow.python.layers.convolutional.Conv2D object at 0x7ff61441bad0>> could not be transformed and will be executed as-is. Please report this to the AutgoGraph team. When filing the bug, set the verbosity to 10 (on Linux, `export AUTOGRAPH_VERBOSITY=10`) and attach the full output. Cause: converting <bound method Conv.call of <tensorflow.python.layers.convolutional.Conv2D object at 0x7ff61441bad0>>: AssertionError: Bad argument number for Name: 3, expecting 4\n"
     ]
    },
    {
     "name": "stderr",
     "output_type": "stream",
     "text": [
      "W0703 16:37:49.118344 140698822833920 ag_logging.py:145] Entity <bound method Conv.call of <tensorflow.python.layers.convolutional.Conv2D object at 0x7ff61441bad0>> could not be transformed and will be executed as-is. Please report this to the AutgoGraph team. When filing the bug, set the verbosity to 10 (on Linux, `export AUTOGRAPH_VERBOSITY=10`) and attach the full output. Cause: converting <bound method Conv.call of <tensorflow.python.layers.convolutional.Conv2D object at 0x7ff61441bad0>>: AssertionError: Bad argument number for Name: 3, expecting 4\n"
     ]
    },
    {
     "name": "stdout",
     "output_type": "stream",
     "text": [
      "WARNING: Entity <bound method Conv.call of <tensorflow.python.layers.convolutional.Conv2D object at 0x7ff61441bad0>> could not be transformed and will be executed as-is. Please report this to the AutgoGraph team. When filing the bug, set the verbosity to 10 (on Linux, `export AUTOGRAPH_VERBOSITY=10`) and attach the full output. Cause: converting <bound method Conv.call of <tensorflow.python.layers.convolutional.Conv2D object at 0x7ff61441bad0>>: AssertionError: Bad argument number for Name: 3, expecting 4\n",
      "WARNING:tensorflow:Entity <bound method BatchNormalization.call of <tensorflow.python.layers.normalization.BatchNormalization object at 0x7ff598747350>> could not be transformed and will be executed as-is. Please report this to the AutgoGraph team. When filing the bug, set the verbosity to 10 (on Linux, `export AUTOGRAPH_VERBOSITY=10`) and attach the full output. Cause: converting <bound method BatchNormalization.call of <tensorflow.python.layers.normalization.BatchNormalization object at 0x7ff598747350>>: AssertionError: Bad argument number for Name: 3, expecting 4\n"
     ]
    },
    {
     "name": "stderr",
     "output_type": "stream",
     "text": [
      "W0703 16:37:49.140615 140698822833920 ag_logging.py:145] Entity <bound method BatchNormalization.call of <tensorflow.python.layers.normalization.BatchNormalization object at 0x7ff598747350>> could not be transformed and will be executed as-is. Please report this to the AutgoGraph team. When filing the bug, set the verbosity to 10 (on Linux, `export AUTOGRAPH_VERBOSITY=10`) and attach the full output. Cause: converting <bound method BatchNormalization.call of <tensorflow.python.layers.normalization.BatchNormalization object at 0x7ff598747350>>: AssertionError: Bad argument number for Name: 3, expecting 4\n"
     ]
    },
    {
     "name": "stdout",
     "output_type": "stream",
     "text": [
      "WARNING: Entity <bound method BatchNormalization.call of <tensorflow.python.layers.normalization.BatchNormalization object at 0x7ff598747350>> could not be transformed and will be executed as-is. Please report this to the AutgoGraph team. When filing the bug, set the verbosity to 10 (on Linux, `export AUTOGRAPH_VERBOSITY=10`) and attach the full output. Cause: converting <bound method BatchNormalization.call of <tensorflow.python.layers.normalization.BatchNormalization object at 0x7ff598747350>>: AssertionError: Bad argument number for Name: 3, expecting 4\n",
      "WARNING:tensorflow:Entity <bound method Conv.call of <tensorflow.python.layers.convolutional.Conv2D object at 0x7ff5b4471e90>> could not be transformed and will be executed as-is. Please report this to the AutgoGraph team. When filing the bug, set the verbosity to 10 (on Linux, `export AUTOGRAPH_VERBOSITY=10`) and attach the full output. Cause: converting <bound method Conv.call of <tensorflow.python.layers.convolutional.Conv2D object at 0x7ff5b4471e90>>: AssertionError: Bad argument number for Name: 3, expecting 4\n"
     ]
    },
    {
     "name": "stderr",
     "output_type": "stream",
     "text": [
      "W0703 16:37:49.198543 140698822833920 ag_logging.py:145] Entity <bound method Conv.call of <tensorflow.python.layers.convolutional.Conv2D object at 0x7ff5b4471e90>> could not be transformed and will be executed as-is. Please report this to the AutgoGraph team. When filing the bug, set the verbosity to 10 (on Linux, `export AUTOGRAPH_VERBOSITY=10`) and attach the full output. Cause: converting <bound method Conv.call of <tensorflow.python.layers.convolutional.Conv2D object at 0x7ff5b4471e90>>: AssertionError: Bad argument number for Name: 3, expecting 4\n"
     ]
    },
    {
     "name": "stdout",
     "output_type": "stream",
     "text": [
      "WARNING: Entity <bound method Conv.call of <tensorflow.python.layers.convolutional.Conv2D object at 0x7ff5b4471e90>> could not be transformed and will be executed as-is. Please report this to the AutgoGraph team. When filing the bug, set the verbosity to 10 (on Linux, `export AUTOGRAPH_VERBOSITY=10`) and attach the full output. Cause: converting <bound method Conv.call of <tensorflow.python.layers.convolutional.Conv2D object at 0x7ff5b4471e90>>: AssertionError: Bad argument number for Name: 3, expecting 4\n",
      "WARNING:tensorflow:Entity <bound method BatchNormalization.call of <tensorflow.python.layers.normalization.BatchNormalization object at 0x7ff5987b4610>> could not be transformed and will be executed as-is. Please report this to the AutgoGraph team. When filing the bug, set the verbosity to 10 (on Linux, `export AUTOGRAPH_VERBOSITY=10`) and attach the full output. Cause: converting <bound method BatchNormalization.call of <tensorflow.python.layers.normalization.BatchNormalization object at 0x7ff5987b4610>>: AssertionError: Bad argument number for Name: 3, expecting 4\n"
     ]
    },
    {
     "name": "stderr",
     "output_type": "stream",
     "text": [
      "W0703 16:37:49.220685 140698822833920 ag_logging.py:145] Entity <bound method BatchNormalization.call of <tensorflow.python.layers.normalization.BatchNormalization object at 0x7ff5987b4610>> could not be transformed and will be executed as-is. Please report this to the AutgoGraph team. When filing the bug, set the verbosity to 10 (on Linux, `export AUTOGRAPH_VERBOSITY=10`) and attach the full output. Cause: converting <bound method BatchNormalization.call of <tensorflow.python.layers.normalization.BatchNormalization object at 0x7ff5987b4610>>: AssertionError: Bad argument number for Name: 3, expecting 4\n"
     ]
    },
    {
     "name": "stdout",
     "output_type": "stream",
     "text": [
      "WARNING: Entity <bound method BatchNormalization.call of <tensorflow.python.layers.normalization.BatchNormalization object at 0x7ff5987b4610>> could not be transformed and will be executed as-is. Please report this to the AutgoGraph team. When filing the bug, set the verbosity to 10 (on Linux, `export AUTOGRAPH_VERBOSITY=10`) and attach the full output. Cause: converting <bound method BatchNormalization.call of <tensorflow.python.layers.normalization.BatchNormalization object at 0x7ff5987b4610>>: AssertionError: Bad argument number for Name: 3, expecting 4\n",
      "WARNING:tensorflow:Entity <bound method Pooling2D.call of <tensorflow.python.layers.pooling.AveragePooling2D object at 0x7ff5b41c6190>> could not be transformed and will be executed as-is. Please report this to the AutgoGraph team. When filing the bug, set the verbosity to 10 (on Linux, `export AUTOGRAPH_VERBOSITY=10`) and attach the full output. Cause: converting <bound method Pooling2D.call of <tensorflow.python.layers.pooling.AveragePooling2D object at 0x7ff5b41c6190>>: AssertionError: Bad argument number for Name: 3, expecting 4\n"
     ]
    },
    {
     "name": "stderr",
     "output_type": "stream",
     "text": [
      "W0703 16:37:49.260183 140698822833920 ag_logging.py:145] Entity <bound method Pooling2D.call of <tensorflow.python.layers.pooling.AveragePooling2D object at 0x7ff5b41c6190>> could not be transformed and will be executed as-is. Please report this to the AutgoGraph team. When filing the bug, set the verbosity to 10 (on Linux, `export AUTOGRAPH_VERBOSITY=10`) and attach the full output. Cause: converting <bound method Pooling2D.call of <tensorflow.python.layers.pooling.AveragePooling2D object at 0x7ff5b41c6190>>: AssertionError: Bad argument number for Name: 3, expecting 4\n"
     ]
    },
    {
     "name": "stdout",
     "output_type": "stream",
     "text": [
      "WARNING: Entity <bound method Pooling2D.call of <tensorflow.python.layers.pooling.AveragePooling2D object at 0x7ff5b41c6190>> could not be transformed and will be executed as-is. Please report this to the AutgoGraph team. When filing the bug, set the verbosity to 10 (on Linux, `export AUTOGRAPH_VERBOSITY=10`) and attach the full output. Cause: converting <bound method Pooling2D.call of <tensorflow.python.layers.pooling.AveragePooling2D object at 0x7ff5b41c6190>>: AssertionError: Bad argument number for Name: 3, expecting 4\n",
      "WARNING:tensorflow:Entity <bound method Conv.call of <tensorflow.python.layers.convolutional.Conv2D object at 0x7ff5b41a0b50>> could not be transformed and will be executed as-is. Please report this to the AutgoGraph team. When filing the bug, set the verbosity to 10 (on Linux, `export AUTOGRAPH_VERBOSITY=10`) and attach the full output. Cause: converting <bound method Conv.call of <tensorflow.python.layers.convolutional.Conv2D object at 0x7ff5b41a0b50>>: AssertionError: Bad argument number for Name: 3, expecting 4\n"
     ]
    },
    {
     "name": "stderr",
     "output_type": "stream",
     "text": [
      "W0703 16:37:49.317458 140698822833920 ag_logging.py:145] Entity <bound method Conv.call of <tensorflow.python.layers.convolutional.Conv2D object at 0x7ff5b41a0b50>> could not be transformed and will be executed as-is. Please report this to the AutgoGraph team. When filing the bug, set the verbosity to 10 (on Linux, `export AUTOGRAPH_VERBOSITY=10`) and attach the full output. Cause: converting <bound method Conv.call of <tensorflow.python.layers.convolutional.Conv2D object at 0x7ff5b41a0b50>>: AssertionError: Bad argument number for Name: 3, expecting 4\n"
     ]
    },
    {
     "name": "stdout",
     "output_type": "stream",
     "text": [
      "WARNING: Entity <bound method Conv.call of <tensorflow.python.layers.convolutional.Conv2D object at 0x7ff5b41a0b50>> could not be transformed and will be executed as-is. Please report this to the AutgoGraph team. When filing the bug, set the verbosity to 10 (on Linux, `export AUTOGRAPH_VERBOSITY=10`) and attach the full output. Cause: converting <bound method Conv.call of <tensorflow.python.layers.convolutional.Conv2D object at 0x7ff5b41a0b50>>: AssertionError: Bad argument number for Name: 3, expecting 4\n",
      "WARNING:tensorflow:Entity <bound method BatchNormalization.call of <tensorflow.python.layers.normalization.BatchNormalization object at 0x7ff59868bf10>> could not be transformed and will be executed as-is. Please report this to the AutgoGraph team. When filing the bug, set the verbosity to 10 (on Linux, `export AUTOGRAPH_VERBOSITY=10`) and attach the full output. Cause: converting <bound method BatchNormalization.call of <tensorflow.python.layers.normalization.BatchNormalization object at 0x7ff59868bf10>>: AssertionError: Bad argument number for Name: 3, expecting 4\n"
     ]
    },
    {
     "name": "stderr",
     "output_type": "stream",
     "text": [
      "W0703 16:37:49.340638 140698822833920 ag_logging.py:145] Entity <bound method BatchNormalization.call of <tensorflow.python.layers.normalization.BatchNormalization object at 0x7ff59868bf10>> could not be transformed and will be executed as-is. Please report this to the AutgoGraph team. When filing the bug, set the verbosity to 10 (on Linux, `export AUTOGRAPH_VERBOSITY=10`) and attach the full output. Cause: converting <bound method BatchNormalization.call of <tensorflow.python.layers.normalization.BatchNormalization object at 0x7ff59868bf10>>: AssertionError: Bad argument number for Name: 3, expecting 4\n"
     ]
    },
    {
     "name": "stdout",
     "output_type": "stream",
     "text": [
      "WARNING: Entity <bound method BatchNormalization.call of <tensorflow.python.layers.normalization.BatchNormalization object at 0x7ff59868bf10>> could not be transformed and will be executed as-is. Please report this to the AutgoGraph team. When filing the bug, set the verbosity to 10 (on Linux, `export AUTOGRAPH_VERBOSITY=10`) and attach the full output. Cause: converting <bound method BatchNormalization.call of <tensorflow.python.layers.normalization.BatchNormalization object at 0x7ff59868bf10>>: AssertionError: Bad argument number for Name: 3, expecting 4\n",
      "WARNING:tensorflow:Entity <bound method Conv.call of <tensorflow.python.layers.convolutional.Conv2D object at 0x7ff5b4055d90>> could not be transformed and will be executed as-is. Please report this to the AutgoGraph team. When filing the bug, set the verbosity to 10 (on Linux, `export AUTOGRAPH_VERBOSITY=10`) and attach the full output. Cause: converting <bound method Conv.call of <tensorflow.python.layers.convolutional.Conv2D object at 0x7ff5b4055d90>>: AssertionError: Bad argument number for Name: 3, expecting 4\n"
     ]
    },
    {
     "name": "stderr",
     "output_type": "stream",
     "text": [
      "W0703 16:37:49.399599 140698822833920 ag_logging.py:145] Entity <bound method Conv.call of <tensorflow.python.layers.convolutional.Conv2D object at 0x7ff5b4055d90>> could not be transformed and will be executed as-is. Please report this to the AutgoGraph team. When filing the bug, set the verbosity to 10 (on Linux, `export AUTOGRAPH_VERBOSITY=10`) and attach the full output. Cause: converting <bound method Conv.call of <tensorflow.python.layers.convolutional.Conv2D object at 0x7ff5b4055d90>>: AssertionError: Bad argument number for Name: 3, expecting 4\n"
     ]
    },
    {
     "name": "stdout",
     "output_type": "stream",
     "text": [
      "WARNING: Entity <bound method Conv.call of <tensorflow.python.layers.convolutional.Conv2D object at 0x7ff5b4055d90>> could not be transformed and will be executed as-is. Please report this to the AutgoGraph team. When filing the bug, set the verbosity to 10 (on Linux, `export AUTOGRAPH_VERBOSITY=10`) and attach the full output. Cause: converting <bound method Conv.call of <tensorflow.python.layers.convolutional.Conv2D object at 0x7ff5b4055d90>>: AssertionError: Bad argument number for Name: 3, expecting 4\n",
      "WARNING:tensorflow:Entity <bound method BatchNormalization.call of <tensorflow.python.layers.normalization.BatchNormalization object at 0x7ff5987f06d0>> could not be transformed and will be executed as-is. Please report this to the AutgoGraph team. When filing the bug, set the verbosity to 10 (on Linux, `export AUTOGRAPH_VERBOSITY=10`) and attach the full output. Cause: converting <bound method BatchNormalization.call of <tensorflow.python.layers.normalization.BatchNormalization object at 0x7ff5987f06d0>>: AssertionError: Bad argument number for Name: 3, expecting 4\n"
     ]
    },
    {
     "name": "stderr",
     "output_type": "stream",
     "text": [
      "W0703 16:37:49.422279 140698822833920 ag_logging.py:145] Entity <bound method BatchNormalization.call of <tensorflow.python.layers.normalization.BatchNormalization object at 0x7ff5987f06d0>> could not be transformed and will be executed as-is. Please report this to the AutgoGraph team. When filing the bug, set the verbosity to 10 (on Linux, `export AUTOGRAPH_VERBOSITY=10`) and attach the full output. Cause: converting <bound method BatchNormalization.call of <tensorflow.python.layers.normalization.BatchNormalization object at 0x7ff5987f06d0>>: AssertionError: Bad argument number for Name: 3, expecting 4\n"
     ]
    },
    {
     "name": "stdout",
     "output_type": "stream",
     "text": [
      "WARNING: Entity <bound method BatchNormalization.call of <tensorflow.python.layers.normalization.BatchNormalization object at 0x7ff5987f06d0>> could not be transformed and will be executed as-is. Please report this to the AutgoGraph team. When filing the bug, set the verbosity to 10 (on Linux, `export AUTOGRAPH_VERBOSITY=10`) and attach the full output. Cause: converting <bound method BatchNormalization.call of <tensorflow.python.layers.normalization.BatchNormalization object at 0x7ff5987f06d0>>: AssertionError: Bad argument number for Name: 3, expecting 4\n",
      "WARNING:tensorflow:Entity <bound method Conv.call of <tensorflow.python.layers.convolutional.Conv2D object at 0x7ff5d873e590>> could not be transformed and will be executed as-is. Please report this to the AutgoGraph team. When filing the bug, set the verbosity to 10 (on Linux, `export AUTOGRAPH_VERBOSITY=10`) and attach the full output. Cause: converting <bound method Conv.call of <tensorflow.python.layers.convolutional.Conv2D object at 0x7ff5d873e590>>: AssertionError: Bad argument number for Name: 3, expecting 4\n"
     ]
    },
    {
     "name": "stderr",
     "output_type": "stream",
     "text": [
      "W0703 16:37:49.482679 140698822833920 ag_logging.py:145] Entity <bound method Conv.call of <tensorflow.python.layers.convolutional.Conv2D object at 0x7ff5d873e590>> could not be transformed and will be executed as-is. Please report this to the AutgoGraph team. When filing the bug, set the verbosity to 10 (on Linux, `export AUTOGRAPH_VERBOSITY=10`) and attach the full output. Cause: converting <bound method Conv.call of <tensorflow.python.layers.convolutional.Conv2D object at 0x7ff5d873e590>>: AssertionError: Bad argument number for Name: 3, expecting 4\n"
     ]
    },
    {
     "name": "stdout",
     "output_type": "stream",
     "text": [
      "WARNING: Entity <bound method Conv.call of <tensorflow.python.layers.convolutional.Conv2D object at 0x7ff5d873e590>> could not be transformed and will be executed as-is. Please report this to the AutgoGraph team. When filing the bug, set the verbosity to 10 (on Linux, `export AUTOGRAPH_VERBOSITY=10`) and attach the full output. Cause: converting <bound method Conv.call of <tensorflow.python.layers.convolutional.Conv2D object at 0x7ff5d873e590>>: AssertionError: Bad argument number for Name: 3, expecting 4\n",
      "WARNING:tensorflow:Entity <bound method BatchNormalization.call of <tensorflow.python.layers.normalization.BatchNormalization object at 0x7ff59859cb10>> could not be transformed and will be executed as-is. Please report this to the AutgoGraph team. When filing the bug, set the verbosity to 10 (on Linux, `export AUTOGRAPH_VERBOSITY=10`) and attach the full output. Cause: converting <bound method BatchNormalization.call of <tensorflow.python.layers.normalization.BatchNormalization object at 0x7ff59859cb10>>: AssertionError: Bad argument number for Name: 3, expecting 4\n"
     ]
    },
    {
     "name": "stderr",
     "output_type": "stream",
     "text": [
      "W0703 16:37:49.505370 140698822833920 ag_logging.py:145] Entity <bound method BatchNormalization.call of <tensorflow.python.layers.normalization.BatchNormalization object at 0x7ff59859cb10>> could not be transformed and will be executed as-is. Please report this to the AutgoGraph team. When filing the bug, set the verbosity to 10 (on Linux, `export AUTOGRAPH_VERBOSITY=10`) and attach the full output. Cause: converting <bound method BatchNormalization.call of <tensorflow.python.layers.normalization.BatchNormalization object at 0x7ff59859cb10>>: AssertionError: Bad argument number for Name: 3, expecting 4\n"
     ]
    },
    {
     "name": "stdout",
     "output_type": "stream",
     "text": [
      "WARNING: Entity <bound method BatchNormalization.call of <tensorflow.python.layers.normalization.BatchNormalization object at 0x7ff59859cb10>> could not be transformed and will be executed as-is. Please report this to the AutgoGraph team. When filing the bug, set the verbosity to 10 (on Linux, `export AUTOGRAPH_VERBOSITY=10`) and attach the full output. Cause: converting <bound method BatchNormalization.call of <tensorflow.python.layers.normalization.BatchNormalization object at 0x7ff59859cb10>>: AssertionError: Bad argument number for Name: 3, expecting 4\n",
      "WARNING:tensorflow:Entity <bound method Conv.call of <tensorflow.python.layers.convolutional.Conv2D object at 0x7ff5fc6c8650>> could not be transformed and will be executed as-is. Please report this to the AutgoGraph team. When filing the bug, set the verbosity to 10 (on Linux, `export AUTOGRAPH_VERBOSITY=10`) and attach the full output. Cause: converting <bound method Conv.call of <tensorflow.python.layers.convolutional.Conv2D object at 0x7ff5fc6c8650>>: AssertionError: Bad argument number for Name: 3, expecting 4\n"
     ]
    },
    {
     "name": "stderr",
     "output_type": "stream",
     "text": [
      "W0703 16:37:49.563485 140698822833920 ag_logging.py:145] Entity <bound method Conv.call of <tensorflow.python.layers.convolutional.Conv2D object at 0x7ff5fc6c8650>> could not be transformed and will be executed as-is. Please report this to the AutgoGraph team. When filing the bug, set the verbosity to 10 (on Linux, `export AUTOGRAPH_VERBOSITY=10`) and attach the full output. Cause: converting <bound method Conv.call of <tensorflow.python.layers.convolutional.Conv2D object at 0x7ff5fc6c8650>>: AssertionError: Bad argument number for Name: 3, expecting 4\n"
     ]
    },
    {
     "name": "stdout",
     "output_type": "stream",
     "text": [
      "WARNING: Entity <bound method Conv.call of <tensorflow.python.layers.convolutional.Conv2D object at 0x7ff5fc6c8650>> could not be transformed and will be executed as-is. Please report this to the AutgoGraph team. When filing the bug, set the verbosity to 10 (on Linux, `export AUTOGRAPH_VERBOSITY=10`) and attach the full output. Cause: converting <bound method Conv.call of <tensorflow.python.layers.convolutional.Conv2D object at 0x7ff5fc6c8650>>: AssertionError: Bad argument number for Name: 3, expecting 4\n",
      "WARNING:tensorflow:Entity <bound method BatchNormalization.call of <tensorflow.python.layers.normalization.BatchNormalization object at 0x7ff598724690>> could not be transformed and will be executed as-is. Please report this to the AutgoGraph team. When filing the bug, set the verbosity to 10 (on Linux, `export AUTOGRAPH_VERBOSITY=10`) and attach the full output. Cause: converting <bound method BatchNormalization.call of <tensorflow.python.layers.normalization.BatchNormalization object at 0x7ff598724690>>: AssertionError: Bad argument number for Name: 3, expecting 4\n"
     ]
    },
    {
     "name": "stderr",
     "output_type": "stream",
     "text": [
      "W0703 16:37:49.586251 140698822833920 ag_logging.py:145] Entity <bound method BatchNormalization.call of <tensorflow.python.layers.normalization.BatchNormalization object at 0x7ff598724690>> could not be transformed and will be executed as-is. Please report this to the AutgoGraph team. When filing the bug, set the verbosity to 10 (on Linux, `export AUTOGRAPH_VERBOSITY=10`) and attach the full output. Cause: converting <bound method BatchNormalization.call of <tensorflow.python.layers.normalization.BatchNormalization object at 0x7ff598724690>>: AssertionError: Bad argument number for Name: 3, expecting 4\n"
     ]
    },
    {
     "name": "stdout",
     "output_type": "stream",
     "text": [
      "WARNING: Entity <bound method BatchNormalization.call of <tensorflow.python.layers.normalization.BatchNormalization object at 0x7ff598724690>> could not be transformed and will be executed as-is. Please report this to the AutgoGraph team. When filing the bug, set the verbosity to 10 (on Linux, `export AUTOGRAPH_VERBOSITY=10`) and attach the full output. Cause: converting <bound method BatchNormalization.call of <tensorflow.python.layers.normalization.BatchNormalization object at 0x7ff598724690>>: AssertionError: Bad argument number for Name: 3, expecting 4\n",
      "WARNING:tensorflow:Entity <bound method Conv.call of <tensorflow.python.layers.convolutional.Conv2D object at 0x7ff5b41c6190>> could not be transformed and will be executed as-is. Please report this to the AutgoGraph team. When filing the bug, set the verbosity to 10 (on Linux, `export AUTOGRAPH_VERBOSITY=10`) and attach the full output. Cause: converting <bound method Conv.call of <tensorflow.python.layers.convolutional.Conv2D object at 0x7ff5b41c6190>>: AssertionError: Bad argument number for Name: 3, expecting 4\n"
     ]
    },
    {
     "name": "stderr",
     "output_type": "stream",
     "text": [
      "W0703 16:37:49.648571 140698822833920 ag_logging.py:145] Entity <bound method Conv.call of <tensorflow.python.layers.convolutional.Conv2D object at 0x7ff5b41c6190>> could not be transformed and will be executed as-is. Please report this to the AutgoGraph team. When filing the bug, set the verbosity to 10 (on Linux, `export AUTOGRAPH_VERBOSITY=10`) and attach the full output. Cause: converting <bound method Conv.call of <tensorflow.python.layers.convolutional.Conv2D object at 0x7ff5b41c6190>>: AssertionError: Bad argument number for Name: 3, expecting 4\n"
     ]
    },
    {
     "name": "stdout",
     "output_type": "stream",
     "text": [
      "WARNING: Entity <bound method Conv.call of <tensorflow.python.layers.convolutional.Conv2D object at 0x7ff5b41c6190>> could not be transformed and will be executed as-is. Please report this to the AutgoGraph team. When filing the bug, set the verbosity to 10 (on Linux, `export AUTOGRAPH_VERBOSITY=10`) and attach the full output. Cause: converting <bound method Conv.call of <tensorflow.python.layers.convolutional.Conv2D object at 0x7ff5b41c6190>>: AssertionError: Bad argument number for Name: 3, expecting 4\n",
      "WARNING:tensorflow:Entity <bound method BatchNormalization.call of <tensorflow.python.layers.normalization.BatchNormalization object at 0x7ff5985104d0>> could not be transformed and will be executed as-is. Please report this to the AutgoGraph team. When filing the bug, set the verbosity to 10 (on Linux, `export AUTOGRAPH_VERBOSITY=10`) and attach the full output. Cause: converting <bound method BatchNormalization.call of <tensorflow.python.layers.normalization.BatchNormalization object at 0x7ff5985104d0>>: AssertionError: Bad argument number for Name: 3, expecting 4\n"
     ]
    },
    {
     "name": "stderr",
     "output_type": "stream",
     "text": [
      "W0703 16:37:49.671204 140698822833920 ag_logging.py:145] Entity <bound method BatchNormalization.call of <tensorflow.python.layers.normalization.BatchNormalization object at 0x7ff5985104d0>> could not be transformed and will be executed as-is. Please report this to the AutgoGraph team. When filing the bug, set the verbosity to 10 (on Linux, `export AUTOGRAPH_VERBOSITY=10`) and attach the full output. Cause: converting <bound method BatchNormalization.call of <tensorflow.python.layers.normalization.BatchNormalization object at 0x7ff5985104d0>>: AssertionError: Bad argument number for Name: 3, expecting 4\n"
     ]
    },
    {
     "name": "stdout",
     "output_type": "stream",
     "text": [
      "WARNING: Entity <bound method BatchNormalization.call of <tensorflow.python.layers.normalization.BatchNormalization object at 0x7ff5985104d0>> could not be transformed and will be executed as-is. Please report this to the AutgoGraph team. When filing the bug, set the verbosity to 10 (on Linux, `export AUTOGRAPH_VERBOSITY=10`) and attach the full output. Cause: converting <bound method BatchNormalization.call of <tensorflow.python.layers.normalization.BatchNormalization object at 0x7ff5985104d0>>: AssertionError: Bad argument number for Name: 3, expecting 4\n",
      "WARNING:tensorflow:Entity <bound method Conv.call of <tensorflow.python.layers.convolutional.Conv2D object at 0x7ff5d84c4b50>> could not be transformed and will be executed as-is. Please report this to the AutgoGraph team. When filing the bug, set the verbosity to 10 (on Linux, `export AUTOGRAPH_VERBOSITY=10`) and attach the full output. Cause: converting <bound method Conv.call of <tensorflow.python.layers.convolutional.Conv2D object at 0x7ff5d84c4b50>>: AssertionError: Bad argument number for Name: 3, expecting 4\n"
     ]
    },
    {
     "name": "stderr",
     "output_type": "stream",
     "text": [
      "W0703 16:37:49.730222 140698822833920 ag_logging.py:145] Entity <bound method Conv.call of <tensorflow.python.layers.convolutional.Conv2D object at 0x7ff5d84c4b50>> could not be transformed and will be executed as-is. Please report this to the AutgoGraph team. When filing the bug, set the verbosity to 10 (on Linux, `export AUTOGRAPH_VERBOSITY=10`) and attach the full output. Cause: converting <bound method Conv.call of <tensorflow.python.layers.convolutional.Conv2D object at 0x7ff5d84c4b50>>: AssertionError: Bad argument number for Name: 3, expecting 4\n"
     ]
    },
    {
     "name": "stdout",
     "output_type": "stream",
     "text": [
      "WARNING: Entity <bound method Conv.call of <tensorflow.python.layers.convolutional.Conv2D object at 0x7ff5d84c4b50>> could not be transformed and will be executed as-is. Please report this to the AutgoGraph team. When filing the bug, set the verbosity to 10 (on Linux, `export AUTOGRAPH_VERBOSITY=10`) and attach the full output. Cause: converting <bound method Conv.call of <tensorflow.python.layers.convolutional.Conv2D object at 0x7ff5d84c4b50>>: AssertionError: Bad argument number for Name: 3, expecting 4\n",
      "WARNING:tensorflow:Entity <bound method BatchNormalization.call of <tensorflow.python.layers.normalization.BatchNormalization object at 0x7ff5985d9750>> could not be transformed and will be executed as-is. Please report this to the AutgoGraph team. When filing the bug, set the verbosity to 10 (on Linux, `export AUTOGRAPH_VERBOSITY=10`) and attach the full output. Cause: converting <bound method BatchNormalization.call of <tensorflow.python.layers.normalization.BatchNormalization object at 0x7ff5985d9750>>: AssertionError: Bad argument number for Name: 3, expecting 4\n"
     ]
    },
    {
     "name": "stderr",
     "output_type": "stream",
     "text": [
      "W0703 16:37:49.753049 140698822833920 ag_logging.py:145] Entity <bound method BatchNormalization.call of <tensorflow.python.layers.normalization.BatchNormalization object at 0x7ff5985d9750>> could not be transformed and will be executed as-is. Please report this to the AutgoGraph team. When filing the bug, set the verbosity to 10 (on Linux, `export AUTOGRAPH_VERBOSITY=10`) and attach the full output. Cause: converting <bound method BatchNormalization.call of <tensorflow.python.layers.normalization.BatchNormalization object at 0x7ff5985d9750>>: AssertionError: Bad argument number for Name: 3, expecting 4\n"
     ]
    },
    {
     "name": "stdout",
     "output_type": "stream",
     "text": [
      "WARNING: Entity <bound method BatchNormalization.call of <tensorflow.python.layers.normalization.BatchNormalization object at 0x7ff5985d9750>> could not be transformed and will be executed as-is. Please report this to the AutgoGraph team. When filing the bug, set the verbosity to 10 (on Linux, `export AUTOGRAPH_VERBOSITY=10`) and attach the full output. Cause: converting <bound method BatchNormalization.call of <tensorflow.python.layers.normalization.BatchNormalization object at 0x7ff5985d9750>>: AssertionError: Bad argument number for Name: 3, expecting 4\n",
      "WARNING:tensorflow:Entity <bound method Conv.call of <tensorflow.python.layers.convolutional.Conv2D object at 0x7ff59868bdd0>> could not be transformed and will be executed as-is. Please report this to the AutgoGraph team. When filing the bug, set the verbosity to 10 (on Linux, `export AUTOGRAPH_VERBOSITY=10`) and attach the full output. Cause: converting <bound method Conv.call of <tensorflow.python.layers.convolutional.Conv2D object at 0x7ff59868bdd0>>: AssertionError: Bad argument number for Name: 3, expecting 4\n"
     ]
    },
    {
     "name": "stderr",
     "output_type": "stream",
     "text": [
      "W0703 16:37:49.811713 140698822833920 ag_logging.py:145] Entity <bound method Conv.call of <tensorflow.python.layers.convolutional.Conv2D object at 0x7ff59868bdd0>> could not be transformed and will be executed as-is. Please report this to the AutgoGraph team. When filing the bug, set the verbosity to 10 (on Linux, `export AUTOGRAPH_VERBOSITY=10`) and attach the full output. Cause: converting <bound method Conv.call of <tensorflow.python.layers.convolutional.Conv2D object at 0x7ff59868bdd0>>: AssertionError: Bad argument number for Name: 3, expecting 4\n"
     ]
    },
    {
     "name": "stdout",
     "output_type": "stream",
     "text": [
      "WARNING: Entity <bound method Conv.call of <tensorflow.python.layers.convolutional.Conv2D object at 0x7ff59868bdd0>> could not be transformed and will be executed as-is. Please report this to the AutgoGraph team. When filing the bug, set the verbosity to 10 (on Linux, `export AUTOGRAPH_VERBOSITY=10`) and attach the full output. Cause: converting <bound method Conv.call of <tensorflow.python.layers.convolutional.Conv2D object at 0x7ff59868bdd0>>: AssertionError: Bad argument number for Name: 3, expecting 4\n",
      "WARNING:tensorflow:Entity <bound method BatchNormalization.call of <tensorflow.python.layers.normalization.BatchNormalization object at 0x7ff59847d210>> could not be transformed and will be executed as-is. Please report this to the AutgoGraph team. When filing the bug, set the verbosity to 10 (on Linux, `export AUTOGRAPH_VERBOSITY=10`) and attach the full output. Cause: converting <bound method BatchNormalization.call of <tensorflow.python.layers.normalization.BatchNormalization object at 0x7ff59847d210>>: AssertionError: Bad argument number for Name: 3, expecting 4\n"
     ]
    },
    {
     "name": "stderr",
     "output_type": "stream",
     "text": [
      "W0703 16:37:49.834026 140698822833920 ag_logging.py:145] Entity <bound method BatchNormalization.call of <tensorflow.python.layers.normalization.BatchNormalization object at 0x7ff59847d210>> could not be transformed and will be executed as-is. Please report this to the AutgoGraph team. When filing the bug, set the verbosity to 10 (on Linux, `export AUTOGRAPH_VERBOSITY=10`) and attach the full output. Cause: converting <bound method BatchNormalization.call of <tensorflow.python.layers.normalization.BatchNormalization object at 0x7ff59847d210>>: AssertionError: Bad argument number for Name: 3, expecting 4\n"
     ]
    },
    {
     "name": "stdout",
     "output_type": "stream",
     "text": [
      "WARNING: Entity <bound method BatchNormalization.call of <tensorflow.python.layers.normalization.BatchNormalization object at 0x7ff59847d210>> could not be transformed and will be executed as-is. Please report this to the AutgoGraph team. When filing the bug, set the verbosity to 10 (on Linux, `export AUTOGRAPH_VERBOSITY=10`) and attach the full output. Cause: converting <bound method BatchNormalization.call of <tensorflow.python.layers.normalization.BatchNormalization object at 0x7ff59847d210>>: AssertionError: Bad argument number for Name: 3, expecting 4\n",
      "WARNING:tensorflow:Entity <bound method Conv.call of <tensorflow.python.layers.convolutional.Conv2D object at 0x7ff5985d26d0>> could not be transformed and will be executed as-is. Please report this to the AutgoGraph team. When filing the bug, set the verbosity to 10 (on Linux, `export AUTOGRAPH_VERBOSITY=10`) and attach the full output. Cause: converting <bound method Conv.call of <tensorflow.python.layers.convolutional.Conv2D object at 0x7ff5985d26d0>>: AssertionError: Bad argument number for Name: 3, expecting 4\n"
     ]
    },
    {
     "name": "stderr",
     "output_type": "stream",
     "text": [
      "W0703 16:37:49.898397 140698822833920 ag_logging.py:145] Entity <bound method Conv.call of <tensorflow.python.layers.convolutional.Conv2D object at 0x7ff5985d26d0>> could not be transformed and will be executed as-is. Please report this to the AutgoGraph team. When filing the bug, set the verbosity to 10 (on Linux, `export AUTOGRAPH_VERBOSITY=10`) and attach the full output. Cause: converting <bound method Conv.call of <tensorflow.python.layers.convolutional.Conv2D object at 0x7ff5985d26d0>>: AssertionError: Bad argument number for Name: 3, expecting 4\n"
     ]
    },
    {
     "name": "stdout",
     "output_type": "stream",
     "text": [
      "WARNING: Entity <bound method Conv.call of <tensorflow.python.layers.convolutional.Conv2D object at 0x7ff5985d26d0>> could not be transformed and will be executed as-is. Please report this to the AutgoGraph team. When filing the bug, set the verbosity to 10 (on Linux, `export AUTOGRAPH_VERBOSITY=10`) and attach the full output. Cause: converting <bound method Conv.call of <tensorflow.python.layers.convolutional.Conv2D object at 0x7ff5985d26d0>>: AssertionError: Bad argument number for Name: 3, expecting 4\n",
      "WARNING:tensorflow:Entity <bound method BatchNormalization.call of <tensorflow.python.layers.normalization.BatchNormalization object at 0x7ff598521c90>> could not be transformed and will be executed as-is. Please report this to the AutgoGraph team. When filing the bug, set the verbosity to 10 (on Linux, `export AUTOGRAPH_VERBOSITY=10`) and attach the full output. Cause: converting <bound method BatchNormalization.call of <tensorflow.python.layers.normalization.BatchNormalization object at 0x7ff598521c90>>: AssertionError: Bad argument number for Name: 3, expecting 4\n"
     ]
    },
    {
     "name": "stderr",
     "output_type": "stream",
     "text": [
      "W0703 16:37:49.921444 140698822833920 ag_logging.py:145] Entity <bound method BatchNormalization.call of <tensorflow.python.layers.normalization.BatchNormalization object at 0x7ff598521c90>> could not be transformed and will be executed as-is. Please report this to the AutgoGraph team. When filing the bug, set the verbosity to 10 (on Linux, `export AUTOGRAPH_VERBOSITY=10`) and attach the full output. Cause: converting <bound method BatchNormalization.call of <tensorflow.python.layers.normalization.BatchNormalization object at 0x7ff598521c90>>: AssertionError: Bad argument number for Name: 3, expecting 4\n"
     ]
    },
    {
     "name": "stdout",
     "output_type": "stream",
     "text": [
      "WARNING: Entity <bound method BatchNormalization.call of <tensorflow.python.layers.normalization.BatchNormalization object at 0x7ff598521c90>> could not be transformed and will be executed as-is. Please report this to the AutgoGraph team. When filing the bug, set the verbosity to 10 (on Linux, `export AUTOGRAPH_VERBOSITY=10`) and attach the full output. Cause: converting <bound method BatchNormalization.call of <tensorflow.python.layers.normalization.BatchNormalization object at 0x7ff598521c90>>: AssertionError: Bad argument number for Name: 3, expecting 4\n",
      "WARNING:tensorflow:Entity <bound method Conv.call of <tensorflow.python.layers.convolutional.Conv2D object at 0x7ff59868bdd0>> could not be transformed and will be executed as-is. Please report this to the AutgoGraph team. When filing the bug, set the verbosity to 10 (on Linux, `export AUTOGRAPH_VERBOSITY=10`) and attach the full output. Cause: converting <bound method Conv.call of <tensorflow.python.layers.convolutional.Conv2D object at 0x7ff59868bdd0>>: AssertionError: Bad argument number for Name: 3, expecting 4\n"
     ]
    },
    {
     "name": "stderr",
     "output_type": "stream",
     "text": [
      "W0703 16:37:49.981273 140698822833920 ag_logging.py:145] Entity <bound method Conv.call of <tensorflow.python.layers.convolutional.Conv2D object at 0x7ff59868bdd0>> could not be transformed and will be executed as-is. Please report this to the AutgoGraph team. When filing the bug, set the verbosity to 10 (on Linux, `export AUTOGRAPH_VERBOSITY=10`) and attach the full output. Cause: converting <bound method Conv.call of <tensorflow.python.layers.convolutional.Conv2D object at 0x7ff59868bdd0>>: AssertionError: Bad argument number for Name: 3, expecting 4\n"
     ]
    },
    {
     "name": "stdout",
     "output_type": "stream",
     "text": [
      "WARNING: Entity <bound method Conv.call of <tensorflow.python.layers.convolutional.Conv2D object at 0x7ff59868bdd0>> could not be transformed and will be executed as-is. Please report this to the AutgoGraph team. When filing the bug, set the verbosity to 10 (on Linux, `export AUTOGRAPH_VERBOSITY=10`) and attach the full output. Cause: converting <bound method Conv.call of <tensorflow.python.layers.convolutional.Conv2D object at 0x7ff59868bdd0>>: AssertionError: Bad argument number for Name: 3, expecting 4\n",
      "WARNING:tensorflow:Entity <bound method BatchNormalization.call of <tensorflow.python.layers.normalization.BatchNormalization object at 0x7ff598432810>> could not be transformed and will be executed as-is. Please report this to the AutgoGraph team. When filing the bug, set the verbosity to 10 (on Linux, `export AUTOGRAPH_VERBOSITY=10`) and attach the full output. Cause: converting <bound method BatchNormalization.call of <tensorflow.python.layers.normalization.BatchNormalization object at 0x7ff598432810>>: AssertionError: Bad argument number for Name: 3, expecting 4\n"
     ]
    },
    {
     "name": "stderr",
     "output_type": "stream",
     "text": [
      "W0703 16:37:50.004398 140698822833920 ag_logging.py:145] Entity <bound method BatchNormalization.call of <tensorflow.python.layers.normalization.BatchNormalization object at 0x7ff598432810>> could not be transformed and will be executed as-is. Please report this to the AutgoGraph team. When filing the bug, set the verbosity to 10 (on Linux, `export AUTOGRAPH_VERBOSITY=10`) and attach the full output. Cause: converting <bound method BatchNormalization.call of <tensorflow.python.layers.normalization.BatchNormalization object at 0x7ff598432810>>: AssertionError: Bad argument number for Name: 3, expecting 4\n"
     ]
    },
    {
     "name": "stdout",
     "output_type": "stream",
     "text": [
      "WARNING: Entity <bound method BatchNormalization.call of <tensorflow.python.layers.normalization.BatchNormalization object at 0x7ff598432810>> could not be transformed and will be executed as-is. Please report this to the AutgoGraph team. When filing the bug, set the verbosity to 10 (on Linux, `export AUTOGRAPH_VERBOSITY=10`) and attach the full output. Cause: converting <bound method BatchNormalization.call of <tensorflow.python.layers.normalization.BatchNormalization object at 0x7ff598432810>>: AssertionError: Bad argument number for Name: 3, expecting 4\n",
      "WARNING:tensorflow:Entity <bound method Pooling2D.call of <tensorflow.python.layers.pooling.AveragePooling2D object at 0x7ff5d873e590>> could not be transformed and will be executed as-is. Please report this to the AutgoGraph team. When filing the bug, set the verbosity to 10 (on Linux, `export AUTOGRAPH_VERBOSITY=10`) and attach the full output. Cause: converting <bound method Pooling2D.call of <tensorflow.python.layers.pooling.AveragePooling2D object at 0x7ff5d873e590>>: AssertionError: Bad argument number for Name: 3, expecting 4\n"
     ]
    },
    {
     "name": "stderr",
     "output_type": "stream",
     "text": [
      "W0703 16:37:50.045552 140698822833920 ag_logging.py:145] Entity <bound method Pooling2D.call of <tensorflow.python.layers.pooling.AveragePooling2D object at 0x7ff5d873e590>> could not be transformed and will be executed as-is. Please report this to the AutgoGraph team. When filing the bug, set the verbosity to 10 (on Linux, `export AUTOGRAPH_VERBOSITY=10`) and attach the full output. Cause: converting <bound method Pooling2D.call of <tensorflow.python.layers.pooling.AveragePooling2D object at 0x7ff5d873e590>>: AssertionError: Bad argument number for Name: 3, expecting 4\n"
     ]
    },
    {
     "name": "stdout",
     "output_type": "stream",
     "text": [
      "WARNING: Entity <bound method Pooling2D.call of <tensorflow.python.layers.pooling.AveragePooling2D object at 0x7ff5d873e590>> could not be transformed and will be executed as-is. Please report this to the AutgoGraph team. When filing the bug, set the verbosity to 10 (on Linux, `export AUTOGRAPH_VERBOSITY=10`) and attach the full output. Cause: converting <bound method Pooling2D.call of <tensorflow.python.layers.pooling.AveragePooling2D object at 0x7ff5d873e590>>: AssertionError: Bad argument number for Name: 3, expecting 4\n",
      "WARNING:tensorflow:Entity <bound method Conv.call of <tensorflow.python.layers.convolutional.Conv2D object at 0x7ff598542310>> could not be transformed and will be executed as-is. Please report this to the AutgoGraph team. When filing the bug, set the verbosity to 10 (on Linux, `export AUTOGRAPH_VERBOSITY=10`) and attach the full output. Cause: converting <bound method Conv.call of <tensorflow.python.layers.convolutional.Conv2D object at 0x7ff598542310>>: AssertionError: Bad argument number for Name: 3, expecting 4\n"
     ]
    },
    {
     "name": "stderr",
     "output_type": "stream",
     "text": [
      "W0703 16:37:50.102426 140698822833920 ag_logging.py:145] Entity <bound method Conv.call of <tensorflow.python.layers.convolutional.Conv2D object at 0x7ff598542310>> could not be transformed and will be executed as-is. Please report this to the AutgoGraph team. When filing the bug, set the verbosity to 10 (on Linux, `export AUTOGRAPH_VERBOSITY=10`) and attach the full output. Cause: converting <bound method Conv.call of <tensorflow.python.layers.convolutional.Conv2D object at 0x7ff598542310>>: AssertionError: Bad argument number for Name: 3, expecting 4\n"
     ]
    },
    {
     "name": "stdout",
     "output_type": "stream",
     "text": [
      "WARNING: Entity <bound method Conv.call of <tensorflow.python.layers.convolutional.Conv2D object at 0x7ff598542310>> could not be transformed and will be executed as-is. Please report this to the AutgoGraph team. When filing the bug, set the verbosity to 10 (on Linux, `export AUTOGRAPH_VERBOSITY=10`) and attach the full output. Cause: converting <bound method Conv.call of <tensorflow.python.layers.convolutional.Conv2D object at 0x7ff598542310>>: AssertionError: Bad argument number for Name: 3, expecting 4\n",
      "WARNING:tensorflow:Entity <bound method BatchNormalization.call of <tensorflow.python.layers.normalization.BatchNormalization object at 0x7ff598297190>> could not be transformed and will be executed as-is. Please report this to the AutgoGraph team. When filing the bug, set the verbosity to 10 (on Linux, `export AUTOGRAPH_VERBOSITY=10`) and attach the full output. Cause: converting <bound method BatchNormalization.call of <tensorflow.python.layers.normalization.BatchNormalization object at 0x7ff598297190>>: AssertionError: Bad argument number for Name: 3, expecting 4\n"
     ]
    },
    {
     "name": "stderr",
     "output_type": "stream",
     "text": [
      "W0703 16:37:50.126767 140698822833920 ag_logging.py:145] Entity <bound method BatchNormalization.call of <tensorflow.python.layers.normalization.BatchNormalization object at 0x7ff598297190>> could not be transformed and will be executed as-is. Please report this to the AutgoGraph team. When filing the bug, set the verbosity to 10 (on Linux, `export AUTOGRAPH_VERBOSITY=10`) and attach the full output. Cause: converting <bound method BatchNormalization.call of <tensorflow.python.layers.normalization.BatchNormalization object at 0x7ff598297190>>: AssertionError: Bad argument number for Name: 3, expecting 4\n"
     ]
    },
    {
     "name": "stdout",
     "output_type": "stream",
     "text": [
      "WARNING: Entity <bound method BatchNormalization.call of <tensorflow.python.layers.normalization.BatchNormalization object at 0x7ff598297190>> could not be transformed and will be executed as-is. Please report this to the AutgoGraph team. When filing the bug, set the verbosity to 10 (on Linux, `export AUTOGRAPH_VERBOSITY=10`) and attach the full output. Cause: converting <bound method BatchNormalization.call of <tensorflow.python.layers.normalization.BatchNormalization object at 0x7ff598297190>>: AssertionError: Bad argument number for Name: 3, expecting 4\n",
      "WARNING:tensorflow:Entity <bound method Pooling2D.call of <tensorflow.python.layers.pooling.AveragePooling2D object at 0x7ff62f6f15d0>> could not be transformed and will be executed as-is. Please report this to the AutgoGraph team. When filing the bug, set the verbosity to 10 (on Linux, `export AUTOGRAPH_VERBOSITY=10`) and attach the full output. Cause: converting <bound method Pooling2D.call of <tensorflow.python.layers.pooling.AveragePooling2D object at 0x7ff62f6f15d0>>: AssertionError: Bad argument number for Name: 3, expecting 4\n"
     ]
    },
    {
     "name": "stderr",
     "output_type": "stream",
     "text": [
      "W0703 16:37:50.167109 140698822833920 ag_logging.py:145] Entity <bound method Pooling2D.call of <tensorflow.python.layers.pooling.AveragePooling2D object at 0x7ff62f6f15d0>> could not be transformed and will be executed as-is. Please report this to the AutgoGraph team. When filing the bug, set the verbosity to 10 (on Linux, `export AUTOGRAPH_VERBOSITY=10`) and attach the full output. Cause: converting <bound method Pooling2D.call of <tensorflow.python.layers.pooling.AveragePooling2D object at 0x7ff62f6f15d0>>: AssertionError: Bad argument number for Name: 3, expecting 4\n"
     ]
    },
    {
     "name": "stdout",
     "output_type": "stream",
     "text": [
      "WARNING: Entity <bound method Pooling2D.call of <tensorflow.python.layers.pooling.AveragePooling2D object at 0x7ff62f6f15d0>> could not be transformed and will be executed as-is. Please report this to the AutgoGraph team. When filing the bug, set the verbosity to 10 (on Linux, `export AUTOGRAPH_VERBOSITY=10`) and attach the full output. Cause: converting <bound method Pooling2D.call of <tensorflow.python.layers.pooling.AveragePooling2D object at 0x7ff62f6f15d0>>: AssertionError: Bad argument number for Name: 3, expecting 4\n",
      "WARNING:tensorflow:From /home/hicup/Documents/ad-recommendation/demography/model.py:93: calling dropout (from tensorflow.python.ops.nn_ops) with keep_prob is deprecated and will be removed in a future version.\n",
      "Instructions for updating:\n",
      "Please use `rate` instead of `keep_prob`. Rate should be set to `rate = 1 - keep_prob`.\n"
     ]
    },
    {
     "name": "stderr",
     "output_type": "stream",
     "text": [
      "W0703 16:37:50.169880 140698822833920 deprecation.py:506] From /home/hicup/Documents/ad-recommendation/demography/model.py:93: calling dropout (from tensorflow.python.ops.nn_ops) with keep_prob is deprecated and will be removed in a future version.\n",
      "Instructions for updating:\n",
      "Please use `rate` instead of `keep_prob`. Rate should be set to `rate = 1 - keep_prob`.\n"
     ]
    },
    {
     "name": "stdout",
     "output_type": "stream",
     "text": [
      "WARNING:tensorflow:From /home/hicup/anaconda3/envs/tf_gpu/lib/python3.7/site-packages/tensorflow/contrib/layers/python/layers/layers.py:1634: flatten (from tensorflow.python.layers.core) is deprecated and will be removed in a future version.\n",
      "Instructions for updating:\n",
      "Use keras.layers.flatten instead.\n"
     ]
    },
    {
     "name": "stderr",
     "output_type": "stream",
     "text": [
      "W0703 16:37:50.170933 140698822833920 deprecation.py:323] From /home/hicup/anaconda3/envs/tf_gpu/lib/python3.7/site-packages/tensorflow/contrib/layers/python/layers/layers.py:1634: flatten (from tensorflow.python.layers.core) is deprecated and will be removed in a future version.\n",
      "Instructions for updating:\n",
      "Use keras.layers.flatten instead.\n"
     ]
    },
    {
     "name": "stdout",
     "output_type": "stream",
     "text": [
      "WARNING:tensorflow:Entity <bound method Flatten.call of <tensorflow.python.layers.core.Flatten object at 0x7ff5b44c0bd0>> could not be transformed and will be executed as-is. Please report this to the AutgoGraph team. When filing the bug, set the verbosity to 10 (on Linux, `export AUTOGRAPH_VERBOSITY=10`) and attach the full output. Cause: converting <bound method Flatten.call of <tensorflow.python.layers.core.Flatten object at 0x7ff5b44c0bd0>>: AttributeError: module 'gast' has no attribute 'Num'\n"
     ]
    },
    {
     "name": "stderr",
     "output_type": "stream",
     "text": [
      "W0703 16:37:50.181968 140698822833920 ag_logging.py:145] Entity <bound method Flatten.call of <tensorflow.python.layers.core.Flatten object at 0x7ff5b44c0bd0>> could not be transformed and will be executed as-is. Please report this to the AutgoGraph team. When filing the bug, set the verbosity to 10 (on Linux, `export AUTOGRAPH_VERBOSITY=10`) and attach the full output. Cause: converting <bound method Flatten.call of <tensorflow.python.layers.core.Flatten object at 0x7ff5b44c0bd0>>: AttributeError: module 'gast' has no attribute 'Num'\n"
     ]
    },
    {
     "name": "stdout",
     "output_type": "stream",
     "text": [
      "WARNING: Entity <bound method Flatten.call of <tensorflow.python.layers.core.Flatten object at 0x7ff5b44c0bd0>> could not be transformed and will be executed as-is. Please report this to the AutgoGraph team. When filing the bug, set the verbosity to 10 (on Linux, `export AUTOGRAPH_VERBOSITY=10`) and attach the full output. Cause: converting <bound method Flatten.call of <tensorflow.python.layers.core.Flatten object at 0x7ff5b44c0bd0>>: AttributeError: module 'gast' has no attribute 'Num'\n",
      "WARNING:tensorflow:From /home/hicup/Documents/ad-recommendation/demography/model.py:98: The name tf.truncated_normal is deprecated. Please use tf.random.truncated_normal instead.\n",
      "\n"
     ]
    },
    {
     "name": "stderr",
     "output_type": "stream",
     "text": [
      "W0703 16:37:50.294638 140698822833920 deprecation_wrapper.py:119] From /home/hicup/Documents/ad-recommendation/demography/model.py:98: The name tf.truncated_normal is deprecated. Please use tf.random.truncated_normal instead.\n",
      "\n"
     ]
    },
    {
     "name": "stdout",
     "output_type": "stream",
     "text": [
      "WARNING:tensorflow:From /home/hicup/Documents/ad-recommendation/demography/model.py:54: The name tf.summary.histogram is deprecated. Please use tf.compat.v1.summary.histogram instead.\n",
      "\n"
     ]
    },
    {
     "name": "stderr",
     "output_type": "stream",
     "text": [
      "W0703 16:37:50.302795 140698822833920 deprecation_wrapper.py:119] From /home/hicup/Documents/ad-recommendation/demography/model.py:54: The name tf.summary.histogram is deprecated. Please use tf.compat.v1.summary.histogram instead.\n",
      "\n"
     ]
    },
    {
     "name": "stdout",
     "output_type": "stream",
     "text": [
      "WARNING:tensorflow:From /home/hicup/Documents/ad-recommendation/demography/model.py:55: The name tf.summary.scalar is deprecated. Please use tf.compat.v1.summary.scalar instead.\n",
      "\n"
     ]
    },
    {
     "name": "stderr",
     "output_type": "stream",
     "text": [
      "W0703 16:37:50.304963 140698822833920 deprecation_wrapper.py:119] From /home/hicup/Documents/ad-recommendation/demography/model.py:55: The name tf.summary.scalar is deprecated. Please use tf.compat.v1.summary.scalar instead.\n",
      "\n"
     ]
    },
    {
     "name": "stdout",
     "output_type": "stream",
     "text": [
      "./age/checkpoint-14999\n",
      "WARNING:tensorflow:From /home/hicup/anaconda3/envs/tf_gpu/lib/python3.7/site-packages/tensorflow/python/training/saver.py:1276: checkpoint_exists (from tensorflow.python.training.checkpoint_management) is deprecated and will be removed in a future version.\n",
      "Instructions for updating:\n",
      "Use standard file APIs to check for files with this prefix.\n"
     ]
    },
    {
     "name": "stderr",
     "output_type": "stream",
     "text": [
      "W0703 16:37:50.517291 140698822833920 deprecation.py:323] From /home/hicup/anaconda3/envs/tf_gpu/lib/python3.7/site-packages/tensorflow/python/training/saver.py:1276: checkpoint_exists (from tensorflow.python.training.checkpoint_management) is deprecated and will be removed in a future version.\n",
      "Instructions for updating:\n",
      "Use standard file APIs to check for files with this prefix.\n"
     ]
    },
    {
     "name": "stdout",
     "output_type": "stream",
     "text": [
      "INFO:tensorflow:Restoring parameters from ./age/checkpoint-14999\n"
     ]
    },
    {
     "name": "stderr",
     "output_type": "stream",
     "text": [
      "I0703 16:37:50.519165 140698822833920 saver.py:1280] Restoring parameters from ./age/checkpoint-14999\n"
     ]
    },
    {
     "name": "stdout",
     "output_type": "stream",
     "text": [
      "WARNING:tensorflow:From /home/hicup/Documents/ad-recommendation/demography/utils.py:62: The name tf.ConfigProto is deprecated. Please use tf.compat.v1.ConfigProto instead.\n",
      "\n"
     ]
    },
    {
     "name": "stderr",
     "output_type": "stream",
     "text": [
      "W0703 16:37:50.878445 140698822833920 deprecation_wrapper.py:119] From /home/hicup/Documents/ad-recommendation/demography/utils.py:62: The name tf.ConfigProto is deprecated. Please use tf.compat.v1.ConfigProto instead.\n",
      "\n"
     ]
    },
    {
     "name": "stdout",
     "output_type": "stream",
     "text": [
      "WARNING:tensorflow:From /home/hicup/Documents/ad-recommendation/demography/utils.py:63: The name tf.Session is deprecated. Please use tf.compat.v1.Session instead.\n",
      "\n"
     ]
    },
    {
     "name": "stderr",
     "output_type": "stream",
     "text": [
      "W0703 16:37:50.879692 140698822833920 deprecation_wrapper.py:119] From /home/hicup/Documents/ad-recommendation/demography/utils.py:63: The name tf.Session is deprecated. Please use tf.compat.v1.Session instead.\n",
      "\n"
     ]
    },
    {
     "name": "stdout",
     "output_type": "stream",
     "text": [
      "WARNING:tensorflow:From /home/hicup/Documents/ad-recommendation/demography/utils.py:66: The name tf.placeholder is deprecated. Please use tf.compat.v1.placeholder instead.\n",
      "\n"
     ]
    },
    {
     "name": "stderr",
     "output_type": "stream",
     "text": [
      "W0703 16:37:50.890815 140698822833920 deprecation_wrapper.py:119] From /home/hicup/Documents/ad-recommendation/demography/utils.py:66: The name tf.placeholder is deprecated. Please use tf.compat.v1.placeholder instead.\n",
      "\n"
     ]
    },
    {
     "name": "stdout",
     "output_type": "stream",
     "text": [
      "WARNING:tensorflow:From /home/hicup/Documents/ad-recommendation/demography/utils.py:73: The name tf.image.resize_images is deprecated. Please use tf.image.resize instead.\n",
      "\n"
     ]
    },
    {
     "name": "stderr",
     "output_type": "stream",
     "text": [
      "W0703 16:37:50.894264 140698822833920 deprecation_wrapper.py:119] From /home/hicup/Documents/ad-recommendation/demography/utils.py:73: The name tf.image.resize_images is deprecated. Please use tf.image.resize instead.\n",
      "\n"
     ]
    },
    {
     "name": "stdout",
     "output_type": "stream",
     "text": [
      "['../recommendation/images/chathuranga_22_male_1.png', '../recommendation/images/ishen_15_m_2.png', '../recommendation/images/Anjanee_23_female_2.png', '../recommendation/images/chathuranga_22_male_2.png', '../recommendation/images/sadew_15_m_2.png', '../recommendation/images/Sandul_23_male_1.png', '../recommendation/images/raveesha_male_16_2.png', '../recommendation/images/Lal_64_M_2.png', '../recommendation/images/sadula_22_male_2.png', '../recommendation/images/jeewantha01_2.png', '../recommendation/images/shenal_21_Male_1.png', '../recommendation/images/Sajith_28_male_2.png', '../recommendation/images/Ranumi_9_female_1.png', '../recommendation/images/Lahiru_23_male_1.png', '../recommendation/images/pramodya_15_m_2.png', '../recommendation/images/mithun_6_m_1.png', '../recommendation/images/test123_2.png', '../recommendation/images/Rajitha_22_Male_2.png', '../recommendation/images/dilini_39_Female_1.png', '../recommendation/images/Vimukthi_23_M_1.png', '../recommendation/images/test_1.png', '../recommendation/images/Jerry_24_male_2.png', '../recommendation/images/Harison_87_m_2.png', '../recommendation/images/Dulanjani_1.png', '../recommendation/images/Koshana_23_Male_1.png', '../recommendation/images/t_1.png', '../recommendation/images/Yashmitha_23_Female_2.png', '../recommendation/images/Lasun Anjana_23_m_2.png', '../recommendation/images/Numaya_23_Female_2.png', '../recommendation/images/Dulmini_23__female_2.png', '../recommendation/images/Swarna_53_female_2.png', '../recommendation/images/Ravindu_27_Male_1.png', '../recommendation/images/Meth_11_male_2.png', '../recommendation/images/YaxaSR!_22_M_2.png', '../recommendation/images/jeewantha01_25_male_2.png', '../recommendation/images/Ravindu_23_male_2.png', '../recommendation/images/Thisal 1_22_male_1.png', '../recommendation/images/thejan_14_male_1.png', '../recommendation/images/Ramesha_15_f_1.png', '../recommendation/images/Venura_23_male_1.png', '../recommendation/images/Rajitha_22_Male_1.png', '../recommendation/images/medhavi_25_female_2.png', '../recommendation/images/Chamath_24_male_2.png', '../recommendation/images/gavindu2_20_male_1.png', '../recommendation/images/sandul_23_male_2.png', '../recommendation/images/sankalpa_21_male_2.png', '../recommendation/images/Samadhi_23_female_2.png', '../recommendation/images/nalika_54_female_2.png', '../recommendation/images/kolithakasun@gmail.com_2.png', '../recommendation/images/Thathsarani_24_f_2.png', '../recommendation/images/Yomal_22_male_2.png', '../recommendation/images/Deshani_24_f_1.png', '../recommendation/images/Ridmie_22_female_1.png', '../recommendation/images/Rithma_22_Female_1.png', '../recommendation/images/kalshan_24_male_1.png', '../recommendation/images/medhavi_25_female_1.png', '../recommendation/images/ishara_1_Male_2.png', '../recommendation/images/Tharushika_22_female_2.png', '../recommendation/images/nethul_15_m_1.png', '../recommendation/images/Kavindu__19_m_1.png', '../recommendation/images/chandula_24_female_1.png', '../recommendation/images/ishara_1_Male_1.png', '../recommendation/images/Shalitha_23_male_1.png', '../recommendation/images/Sajeewa_25_male_1.png', '../recommendation/images/Herath_51_female_1.png', '../recommendation/images/Priyanthi_43_f_2.png', '../recommendation/images/sandali_23_female_1.png', '../recommendation/images/Pasindu_22_Male_2.png', '../recommendation/images/Swarna_53_female_1.png', '../recommendation/images/lahiru_23_malexxx_2.png', '../recommendation/images/Shehani_30_female_2.png', '../recommendation/images/Nethmi_23_female_2.png', '../recommendation/images/Maneesha_24_female_2.png', '../recommendation/images/Piyumi_24_F_1.png', '../recommendation/images/tharindra_28_female_2.png', '../recommendation/images/Shehani_30_female_1.png', '../recommendation/images/Hiruni_23_Female_2.png', '../recommendation/images/Nilanthi_50_Female_2.png', '../recommendation/images/mallika_51_female_2.png', '../recommendation/images/Priyantha_50_male_2.png', '../recommendation/images/Ravihari_25_Female_1.png', '../recommendation/images/Yehan_18_male_1.png', '../recommendation/images/nimsara_21_male_1.png', '../recommendation/images/Chulangani_26_Female_1.png', '../recommendation/images/malani_67_female_2.png', '../recommendation/images/lakshan1_24_male_1.png', '../recommendation/images/nadeeka_41_f_2.png', '../recommendation/images/Pasindu_22_Male_1.png', '../recommendation/images/Senura_24_Male_2.png', '../recommendation/images/kumara_49_male_2.png', '../recommendation/images/Chanumi_08_female_1.png', '../recommendation/images/nethmi_22_female_1.png', '../recommendation/images/Bawantha_98_male_2.png', '../recommendation/images/Chathupama_23_female_2.png', '../recommendation/images/Tharindu_27_Male_2.png', '../recommendation/images/Priyantha_50_male_1.png', '../recommendation/images/Rawaar_2.png', '../recommendation/images/ariyavathi_56_female_1.png', '../recommendation/images/Thisal_22_male_1.png', '../recommendation/images/Ayesha_22_female_1.png', '../recommendation/images/Kavindi_24_female_1.png', '../recommendation/images/Ex-Id-Palindi-22-Female_2.png', '../recommendation/images/rreeta_76_female_1.png', '../recommendation/images/mithun_6_m_2.png', '../recommendation/images/Rashmie_15_f_1.png', '../recommendation/images/Irangani_73_f_2.png', '../recommendation/images/kolithakasun@gmail.com_1.png', '../recommendation/images/samanthi_48_female_1.png', '../recommendation/images/Dimuthu_23_Male_2.png', '../recommendation/images/kushani_20_female_1.png', '../recommendation/images/hj_2.png', '../recommendation/images/Kinsly_75_M_2.png', '../recommendation/images/Nayanathara_25_ female _2.png', '../recommendation/images/ashinsana_20_male_1.png', '../recommendation/images/Ex-Id-Palindi-22-Female_1.png', '../recommendation/images/senudi_11_f_2.png', '../recommendation/images/sandul_23_male_1.png', '../recommendation/images/shenal_21_Male_2.png', '../recommendation/images/Shanaka_19_male_1.png', '../recommendation/images/Dinusha_21_male_1.png', '../recommendation/images/Samadhi_23_female_1.png', '../recommendation/images/Yasith_23_male_2.png', '../recommendation/images/kaushalya_23_Female_1.png', '../recommendation/images/Dinukthi_22_Female_1.png', '../recommendation/images/Ravindu_27_Male_2.png', '../recommendation/images/Rochelle_36_Female_1.png', '../recommendation/images/test1_2.png', '../recommendation/images/lahiru_23_malexxx_1.png', '../recommendation/images/sadula_22_,ale_2.png', '../recommendation/images/Vishmi_20-female_2.png', '../recommendation/images/Pamudu_21_Male_2.png', '../recommendation/images/kumara_49_male_1.png', '../recommendation/images/xzcxz_1.png', '../recommendation/images/Wojithma_20_female_1.png', '../recommendation/images/Tharushika_22_female_1.png', '../recommendation/images/Chamal_25_male_2.png', '../recommendation/images/chathurangani_35_female_1.png', '../recommendation/images/pubudu_23_male_1.png', '../recommendation/images/Chamal_25_male_1.png', '../recommendation/images/Anjalee-22-Female_2.png', '../recommendation/images/Mihiri_24_f_1.png', '../recommendation/images/Deshani_24_Female_1.png', '../recommendation/images/Sameera_27_male_2.png', '../recommendation/images/Priyanthi_43_f_1.png', '../recommendation/images/Kanchana_52_female_2.png', '../recommendation/images/test_23_male_2.png', '../recommendation/images/Ranula_24_M_2.png', '../recommendation/images/nadeeka_41_f_1.png', '../recommendation/images/pramodya_16_m_2.png', '../recommendation/images/Desilva_23_M_1.png', '../recommendation/images/Sudesha_24_male_1.png', '../recommendation/images/sadew_15_m_1.png', '../recommendation/images/dewdun_15_m_2.png', '../recommendation/images/sachindu_23_male_2.png', '../recommendation/images/Pasindu_23_male_1.png', '../recommendation/images/Lakshika_24_m_1.png', '../recommendation/images/Deshani_24_f_2.png', '../recommendation/images/Maneesha_24_female_1.png', '../recommendation/images/sankalpa1_21_male_2.png', '../recommendation/images/mallika_51_female_1.png', '../recommendation/images/Dilmi_22_female_2.png', '../recommendation/images/sithira_22_male_2.png', '../recommendation/images/Pasindu_23_male_2.png', '../recommendation/images/Tharindu_27_Male_1.png', '../recommendation/images/Thisal 1_22_male_2.png', '../recommendation/images/Shanaka_19_male_2.png', '../recommendation/images/Nirmani_24_female_2.png', '../recommendation/images/Wojithma_20_female_2.png', '../recommendation/images/sameera_32_male_1.png', '../recommendation/images/Gkarunawathi_74_female_1.png', '../recommendation/images/Anjalee-22-Female_1.png', '../recommendation/images/Nilanthi_50_Female_1.png', '../recommendation/images/raveesha_male_16_1.png', '../recommendation/images/sadula_22_male_1.png', '../recommendation/images/jeewantha01_1.png', '../recommendation/images/Harison_87_m_1.png', '../recommendation/images/Anusha_56_f_2.png', '../recommendation/images/Oshadie_24_female_2.png', '../recommendation/images/samanthi_48_female_2.png', '../recommendation/images/ravindu_23_male_2.png', '../recommendation/images/Thushan_25_Male_2.png', '../recommendation/images/milith_23_M_1.png', '../recommendation/images/Jayasinghe_51_Female_2.png', '../recommendation/images/Ramesha_15_f_2.png', '../recommendation/images/samuki_19_female_2.png', '../recommendation/images/enoka_53_female_1.png', '../recommendation/images/Haritha_22_male_2.png', '../recommendation/images/Deshani_24_F_2.png', '../recommendation/images/Dilmi_22_female_1.png', '../recommendation/images/Malith_29_male_1.png', '../recommendation/images/sithira_22_male_1.png', '../recommendation/images/dasun_23_male_2.png', '../recommendation/images/Ridmie_22_female_2.png', '../recommendation/images/Mishara_23_M_2.png', '../recommendation/images/DImtharu_09_M_1.png', '../recommendation/images/Venuri_22_female_2.png', '../recommendation/images/rasika_53_female_1.png', '../recommendation/images/Kamani_51_female_1.png', '../recommendation/images/Lahiru_23_male_2.png', '../recommendation/images/Himantha, 22, Male_2.png', '../recommendation/images/Hansi_21_female_1.png', '../recommendation/images/nirosha_46_f_2.png', '../recommendation/images/Nethmi_23_Female_1.png', '../recommendation/images/gavindu_21_male_1.png', '../recommendation/images/xzcxz_2.png', '../recommendation/images/nimeshi_20_female_2.png', '../recommendation/images/Kavishka_24_male_1.png', '../recommendation/images/Rashmika_23_male_2.png', '../recommendation/images/Lakshika_24_m_2.png', '../recommendation/images/Chanumi_08_female_2.png', '../recommendation/images/Lasindu_30_Male_2.png', '../recommendation/images/sankalpa_21_male_1.png', '../recommendation/images/madumi_23_female _1.png', '../recommendation/images/Malith_29_male_2.png', '../recommendation/images/Vinodya_22_female_1.png', '../recommendation/images/Lakshan 27 m_1.png', '../recommendation/images/Ravindu_23_male_1.png', '../recommendation/images/Kavindu__19_m_2.png', '../recommendation/images/amana_14_female_2.png', '../recommendation/images/Ranji_65_F_1.png', '../recommendation/images/pramodya_15_m_1.png', '../recommendation/images/thilina_23_male_2.png', '../recommendation/images/Rochelle_36_Female_2.png', '../recommendation/images/sadun_20_male_1.png', '../recommendation/images/Mishara_23_M_1.png', '../recommendation/images/Lakshan 27 m_2.png', '../recommendation/images/Dilakshika_23_female_1.png', '../recommendation/images/Numaya_23_Female_1.png', '../recommendation/images/sandula_22_male_1.png', '../recommendation/images/Tharaka_24_male_2.png', '../recommendation/images/Kasun_2.png', '../recommendation/images/Supun_22_Male_1.png', '../recommendation/images/Rashmie_15_f_2.png', '../recommendation/images/Dinu_25_f_2.png', '../recommendation/images/nandana_23_male _1.png', '../recommendation/images/Chathurni_21_Female_1.png', '../recommendation/images/nethmi_22_female_2.png', '../recommendation/images/Nethma_24_Female_2.png', '../recommendation/images/chathurangani_35_female_2.png', '../recommendation/images/Nawod_23_male_2.png', '../recommendation/images/Nipuna_25_male_1.png', '../recommendation/images/Piyumi_24_F_2.png', '../recommendation/images/nalika_54_female_1.png', '../recommendation/images/enoka_53_female_2.png', '../recommendation/images/Koshana_23_Male_2.png', '../recommendation/images/nimsara1_21_male_1.png', '../recommendation/images/test_2.png', '../recommendation/images/sandali_23_female_2.png', '../recommendation/images/hj_1.png', '../recommendation/images/nimsara1_21_male_2.png', '../recommendation/images/ariyavathi_56_female_2.png', '../recommendation/images/Chathurni_21_Female_2.png', '../recommendation/images/gavindu2_20_male_2.png', '../recommendation/images/Kamani_51_female_2.png', '../recommendation/images/Nethmi_23_Female_2.png', '../recommendation/images/Dinuka_17_male_1.png', '../recommendation/images/sadun_20_male_2.png', '../recommendation/images/geethanjali_41_female_1.png', '../recommendation/images/sameera_32_male_2.png', '../recommendation/images/jeewantha01_25_male_1.png', '../recommendation/images/dilini_39_Female_2.png', '../recommendation/images/sachindu_23_male_1.png', '../recommendation/images/hasitha_23_male_1.png', '../recommendation/images/test_23_male_1.png', '../recommendation/images/Kavindi_24_female_2.png', '../recommendation/images/Hansi_21_female_2.png', '../recommendation/images/Himashi_23_female _2.png', '../recommendation/images/Yomal_22_male_1.png', '../recommendation/images/Chulangani_26_Female_2.png', '../recommendation/images/Vimukthi_23_M_2.png', '../recommendation/images/Chamath_24_male_1.png', '../recommendation/images/Dinu_25_f_1.png', '../recommendation/images/hasitha_23_male_2.png', '../recommendation/images/Dinuka_23_male_2.png', '../recommendation/images/Oshadie_24_female_1.png', '../recommendation/images/rr_2.png', '../recommendation/images/dinil_20_male_1.png', '../recommendation/images/Kanchana_52_female_1.png', '../recommendation/images/kalshan_24_male_2.png', '../recommendation/images/nethul_15_m_2.png', '../recommendation/images/Buddhika_2.png', '../recommendation/images/Ranji_65_F_2.png', '../recommendation/images/Padma_77_F_1.png', '../recommendation/images/Yasith_23_male_1.png', '../recommendation/images/Sameera_27_male_1.png', '../recommendation/images/Himantha_26_Male_1.png', '../recommendation/images/Thilini1_25_1.png', '../recommendation/images/Ranumi_9_female_2.png', '../recommendation/images/vishvakumara_21_male_1.png', '../recommendation/images/Herath_51_female_2.png', '../recommendation/images/Sajeewa_25_male_2.png', '../recommendation/images/Supun_22_Male_2.png', '../recommendation/images/Rawaar_1.png', '../recommendation/images/Venura_23_male_2.png', '../recommendation/images/Rashmika_23_male_1.png', '../recommendation/images/Kumudu_55_female_1.png', '../recommendation/images/manuja_22_male_2.png', '../recommendation/images/Oshadi_21_Female_1.png', '../recommendation/images/malani_67_female_1.png', '../recommendation/images/gavindu_21_male_2.png', '../recommendation/images/Udayanga_22_male_1.png', '../recommendation/images/Ayesha_22_female_2.png', '../recommendation/images/Irangani_73_f_1.png', '../recommendation/images/test1_1.png', '../recommendation/images/Sathsara_24_Male_1.png', '../recommendation/images/senura_15_m_1.png', '../recommendation/images/Hiruni_23_Female_1.png', '../recommendation/images/Shalitha_23_male_2.png', '../recommendation/images/Pamudu_21_Male_1.png', '../recommendation/images/Dimuthu_23_Male_1.png', '../recommendation/images/milith_23_M_2.png', '../recommendation/images/dylon_20_male_2.png', '../recommendation/images/samuki_19_female_1.png', '../recommendation/images/Thilini1_25_2.png', '../recommendation/images/Mihiri_24_f_2.png', '../recommendation/images/nirosha_46_f_1.png', '../recommendation/images/Oshadi_21_Female_2.png', '../recommendation/images/sarath_72_male_1.png', '../recommendation/images/aravindi_25_female_1.png', '../recommendation/images/tharindra_28_female_1.png', '../recommendation/images/Kavishka_24_male_2.png', '../recommendation/images/Tharaka_24_male_1.png', '../recommendation/images/Sanuli_12_female_1.png', '../recommendation/images/sankalpa1_21_male_1.png', '../recommendation/images/aravindi_25_female_2.png', '../recommendation/images/madumi_23_female _2.png', '../recommendation/images/Venuri_22_female_1.png', '../recommendation/images/sarath_72_male_2.png', '../recommendation/images/Thathsarani_24_f_1.png', '../recommendation/images/Sriyani_55_female_1.png', '../recommendation/images/test123_1.png', '../recommendation/images/dasun_23_male_1.png', '../recommendation/images/Nayanathara_25_ female _1.png', '../recommendation/images/nimsara_21_male_2.png', '../recommendation/images/Dinuka_17_male_2.png', '../recommendation/images/Sandul_23_male_2.png', '../recommendation/images/Akasha_12_Female_2.png', '../recommendation/images/geethanjali_41_female_2.png', '../recommendation/images/sadula_22_,ale_1.png', '../recommendation/images/rasika_53_female_2.png', '../recommendation/images/champica_52_female_1.png', '../recommendation/images/Padma_77_F_2.png', '../recommendation/images/Udayanga_22_male_2.png', '../recommendation/images/Deshani_24_Female_2.png', '../recommendation/images/Rithma_22_Female_2.png', '../recommendation/images/Nethmi_19_Female_1.png', '../recommendation/images/Nawod_23_male_1.png', '../recommendation/images/Dinukthi_22_Female_2.png', '../recommendation/images/Dulmini_23__female_1.png', '../recommendation/images/Yashmitha_23_Female_1.png', '../recommendation/images/Omethma_12_female_2.png', '../recommendation/images/Kinsly_75_M_1.png', '../recommendation/images/Haritha_22_male_1.png', '../recommendation/images/pramodya_16_m_1.png', '../recommendation/images/Sajith_28_male_1.png', '../recommendation/images/ashinsana_20_male_2.png', '../recommendation/images/Lal_64_M_1.png', '../recommendation/images/Nethmi_19_Female_2.png', '../recommendation/images/supun_23_male_1.png', '../recommendation/images/lakshan1_24_male_2.png', '../recommendation/images/Sanuli_12_female_2.png', '../recommendation/images/Himantha, 22, Male_1.png', '../recommendation/images/Nirmal_23_male_2.png', '../recommendation/images/Akasha_12_Female_1.png', '../recommendation/images/Nirmani_24_female_1.png', '../recommendation/images/Lasindu_30_Male_1.png', '../recommendation/images/Kasun_1.png', '../recommendation/images/Meth_11_male_1.png', '../recommendation/images/Ravihari_25_Female_2.png', '../recommendation/images/sandula_22_male_2.png', '../recommendation/images/Thisal_22_male_2.png', '../recommendation/images/Ranula_24_M_1.png', '../recommendation/images/dewdun_15_m_1.png', '../recommendation/images/pubudu_23_male_2.png', '../recommendation/images/amana_14_female_1.png', '../recommendation/images/Dulanjani_2.png', '../recommendation/images/Anusha_56_f_1.png', '../recommendation/images/Sriyani_55_female_2.png', '../recommendation/images/kaushalya_23_Female_2.png', '../recommendation/images/Senura_24_Male_1.png', '../recommendation/images/Himashi_23_female _1.png', '../recommendation/images/Chathupama_23_female_1.png', '../recommendation/images/Vishwa_16_m_2.png', '../recommendation/images/DImtharu_09_M_2.png', '../recommendation/images/senura_15_m_2.png', '../recommendation/images/Jayasinghe_51_Female_1.png', '../recommendation/images/Desilva_23_M_2.png', '../recommendation/images/Dilith_24_Male_1.png', '../recommendation/images/Dinuka_23_male_1.png', '../recommendation/images/thejan_14_male_2.png', '../recommendation/images/Thushan_25_Male_1.png', '../recommendation/images/rreeta_76_female_2.png', '../recommendation/images/rr_1.png', '../recommendation/images/Yehan_18_male_2.png', '../recommendation/images/Vishwa_16_m_1.png', '../recommendation/images/Buddhima4_21_male_1.png', '../recommendation/images/Supun_23_male_2.png', '../recommendation/images/Vinodya_22_female_2.png', '../recommendation/images/YaxaSR!_22_M_1.png', '../recommendation/images/champica_52_female_2.png', '../recommendation/images/nimeshi_20_female_1.png', '../recommendation/images/Himantha_26_Male_2.png', '../recommendation/images/Supun_23_male_1.png', '../recommendation/images/Anjana_95_Male_1.png', '../recommendation/images/t_2.png', '../recommendation/images/kushani_20_female_2.png', '../recommendation/images/senudi_11_f_1.png', '../recommendation/images/vishvakumara_21_male_2.png', '../recommendation/images/manuja_22_male_1.png', '../recommendation/images/ravindu_23_male_1.png', '../recommendation/images/chandula_24_female_2.png', '../recommendation/images/Anjanee_23_female_1.png', '../recommendation/images/Sudesha_24_male_2.png', '../recommendation/images/Nethma_24_Female_1.png', '../recommendation/images/Sanjana_20_male_2.png', '../recommendation/images/Anjana_95_Male_2.png', '../recommendation/images/Jerry_24_male_1.png', '../recommendation/images/ishen_15_m_1.png', '../recommendation/images/dylon_20_male_1.png', '../recommendation/images/Bawantha_98_male_1.png', '../recommendation/images/Sathsara_24_Male_2.png', '../recommendation/images/dinil_20_male_2.png', '../recommendation/images/Vishmi_20-female_1.png', '../recommendation/images/Buddhika_1.png', '../recommendation/images/Dilakshika_23_female_2.png', '../recommendation/images/thilina_23_male_1.png', '../recommendation/images/Dilith_24_Male_2.png', '../recommendation/images/supun_23_male_2.png', '../recommendation/images/Omethma_12_female_1.png', '../recommendation/images/Nethmi_23_female_1.png', '../recommendation/images/nandana_23_male _2.png', '../recommendation/images/Buddhima4_21_male_2.png', '../recommendation/images/Nirmal_23_male_1.png', '../recommendation/images/Gkarunawathi_74_female_2.png', '../recommendation/images/Deshani_24_F_1.png', '../recommendation/images/Lasun Anjana_23_m_1.png', '../recommendation/images/Sanjana_20_male_1.png', '../recommendation/images/Nipuna_25_male_2.png', '../recommendation/images/Kumudu_55_female_2.png', '../recommendation/images/Dinusha_21_male_2.png']\n",
      "Running file ../recommendation/images/chathuranga_22_male_1.png\n",
      "WARNING:tensorflow:From /home/hicup/Documents/ad-recommendation/demography/utils.py:133: FastGFile.__init__ (from tensorflow.python.platform.gfile) is deprecated and will be removed in a future version.\n",
      "Instructions for updating:\n",
      "Use tf.gfile.GFile.\n"
     ]
    },
    {
     "name": "stderr",
     "output_type": "stream",
     "text": [
      "W0703 16:37:50.898829 140698822833920 deprecation.py:323] From /home/hicup/Documents/ad-recommendation/demography/utils.py:133: FastGFile.__init__ (from tensorflow.python.platform.gfile) is deprecated and will be removed in a future version.\n",
      "Instructions for updating:\n",
      "Use tf.gfile.GFile.\n"
     ]
    },
    {
     "name": "stdout",
     "output_type": "stream",
     "text": [
      "Converting PNG to JPEG for ../recommendation/images/chathuranga_22_male_1.png\n",
      "Running multi-cropped image\n",
      "WARNING:tensorflow:From /home/hicup/anaconda3/envs/tf_gpu/lib/python3.7/site-packages/tensorflow/python/ops/image_ops_impl.py:1514: div (from tensorflow.python.ops.math_ops) is deprecated and will be removed in a future version.\n",
      "Instructions for updating:\n",
      "Deprecated in favor of operator or tf.math.divide.\n"
     ]
    },
    {
     "name": "stderr",
     "output_type": "stream",
     "text": [
      "W0703 16:37:51.025134 140698822833920 deprecation.py:323] From /home/hicup/anaconda3/envs/tf_gpu/lib/python3.7/site-packages/tensorflow/python/ops/image_ops_impl.py:1514: div (from tensorflow.python.ops.math_ops) is deprecated and will be removed in a future version.\n",
      "Instructions for updating:\n",
      "Deprecated in favor of operator or tf.math.divide.\n"
     ]
    },
    {
     "name": "stdout",
     "output_type": "stream",
     "text": [
      "Guess @ 1 (25, 32), prob = 0.48\n",
      "Guess @ 2 (38, 43), prob = 0.29\n",
      "Running file ../recommendation/images/ishen_15_m_2.png\n",
      "Converting PNG to JPEG for ../recommendation/images/ishen_15_m_2.png\n",
      "Running multi-cropped image\n",
      "Guess @ 1 (38, 43), prob = 0.47\n",
      "Guess @ 2 (25, 32), prob = 0.25\n",
      "Running file ../recommendation/images/Anjanee_23_female_2.png\n",
      "Converting PNG to JPEG for ../recommendation/images/Anjanee_23_female_2.png\n",
      "Running multi-cropped image\n",
      "Guess @ 1 (25, 32), prob = 0.85\n",
      "Guess @ 2 (38, 43), prob = 0.07\n",
      "Running file ../recommendation/images/chathuranga_22_male_2.png\n",
      "Converting PNG to JPEG for ../recommendation/images/chathuranga_22_male_2.png\n",
      "Running multi-cropped image\n",
      "Guess @ 1 (25, 32), prob = 0.65\n",
      "Guess @ 2 (38, 43), prob = 0.13\n",
      "Running file ../recommendation/images/sadew_15_m_2.png\n",
      "Converting PNG to JPEG for ../recommendation/images/sadew_15_m_2.png\n",
      "Running multi-cropped image\n",
      "Guess @ 1 (38, 43), prob = 0.37\n",
      "Guess @ 2 (25, 32), prob = 0.34\n",
      "Running file ../recommendation/images/Sandul_23_male_1.png\n",
      "Converting PNG to JPEG for ../recommendation/images/Sandul_23_male_1.png\n",
      "Running multi-cropped image\n",
      "Guess @ 1 (15, 20), prob = 0.95\n",
      "Guess @ 2 (25, 32), prob = 0.05\n",
      "Running file ../recommendation/images/raveesha_male_16_2.png\n",
      "Converting PNG to JPEG for ../recommendation/images/raveesha_male_16_2.png\n",
      "Running multi-cropped image\n",
      "Guess @ 1 (15, 20), prob = 0.48\n",
      "Guess @ 2 (38, 43), prob = 0.30\n",
      "Running file ../recommendation/images/Lal_64_M_2.png\n",
      "Converting PNG to JPEG for ../recommendation/images/Lal_64_M_2.png\n",
      "Running multi-cropped image\n",
      "Guess @ 1 (25, 32), prob = 0.62\n",
      "Guess @ 2 (38, 43), prob = 0.22\n",
      "Running file ../recommendation/images/sadula_22_male_2.png\n",
      "Converting PNG to JPEG for ../recommendation/images/sadula_22_male_2.png\n",
      "Running multi-cropped image\n",
      "Guess @ 1 (25, 32), prob = 0.93\n",
      "Guess @ 2 (38, 43), prob = 0.05\n",
      "Running file ../recommendation/images/jeewantha01_2.png\n",
      "Converting PNG to JPEG for ../recommendation/images/jeewantha01_2.png\n",
      "Running multi-cropped image\n",
      "Guess @ 1 (15, 20), prob = 0.58\n",
      "Guess @ 2 (25, 32), prob = 0.28\n",
      "Running file ../recommendation/images/shenal_21_Male_1.png\n",
      "Converting PNG to JPEG for ../recommendation/images/shenal_21_Male_1.png\n",
      "Running multi-cropped image\n",
      "Guess @ 1 (25, 32), prob = 0.66\n",
      "Guess @ 2 (15, 20), prob = 0.21\n",
      "Running file ../recommendation/images/Sajith_28_male_2.png\n",
      "Converting PNG to JPEG for ../recommendation/images/Sajith_28_male_2.png\n",
      "Running multi-cropped image\n",
      "Guess @ 1 (25, 32), prob = 0.48\n",
      "Guess @ 2 (8, 12), prob = 0.25\n",
      "Running file ../recommendation/images/Ranumi_9_female_1.png\n",
      "Converting PNG to JPEG for ../recommendation/images/Ranumi_9_female_1.png\n",
      "Running multi-cropped image\n",
      "Guess @ 1 (25, 32), prob = 0.73\n",
      "Guess @ 2 (8, 12), prob = 0.16\n",
      "Running file ../recommendation/images/Lahiru_23_male_1.png\n",
      "Converting PNG to JPEG for ../recommendation/images/Lahiru_23_male_1.png\n",
      "Running multi-cropped image\n",
      "Guess @ 1 (25, 32), prob = 0.80\n",
      "Guess @ 2 (38, 43), prob = 0.16\n",
      "Running file ../recommendation/images/pramodya_15_m_2.png\n",
      "Converting PNG to JPEG for ../recommendation/images/pramodya_15_m_2.png\n",
      "Running multi-cropped image\n",
      "Guess @ 1 (25, 32), prob = 0.62\n",
      "Guess @ 2 (38, 43), prob = 0.29\n",
      "Running file ../recommendation/images/mithun_6_m_1.png\n",
      "Converting PNG to JPEG for ../recommendation/images/mithun_6_m_1.png\n",
      "Running multi-cropped image\n",
      "Guess @ 1 (25, 32), prob = 0.53\n",
      "Guess @ 2 (48, 53), prob = 0.15\n",
      "Running file ../recommendation/images/test123_2.png\n",
      "Converting PNG to JPEG for ../recommendation/images/test123_2.png\n",
      "Running multi-cropped image\n",
      "Guess @ 1 (25, 32), prob = 0.96\n",
      "Guess @ 2 (48, 53), prob = 0.02\n",
      "Running file ../recommendation/images/Rajitha_22_Male_2.png\n",
      "Converting PNG to JPEG for ../recommendation/images/Rajitha_22_Male_2.png\n",
      "Running multi-cropped image\n",
      "Guess @ 1 (25, 32), prob = 0.85\n",
      "Guess @ 2 (38, 43), prob = 0.05\n",
      "Running file ../recommendation/images/dilini_39_Female_1.png\n",
      "Converting PNG to JPEG for ../recommendation/images/dilini_39_Female_1.png\n",
      "Running multi-cropped image\n",
      "Guess @ 1 (25, 32), prob = 0.54\n",
      "Guess @ 2 (8, 12), prob = 0.34\n",
      "Running file ../recommendation/images/Vimukthi_23_M_1.png\n",
      "Converting PNG to JPEG for ../recommendation/images/Vimukthi_23_M_1.png\n",
      "Running multi-cropped image\n",
      "Guess @ 1 (15, 20), prob = 0.70\n",
      "Guess @ 2 (8, 12), prob = 0.14\n",
      "Running file ../recommendation/images/test_1.png\n",
      "Converting PNG to JPEG for ../recommendation/images/test_1.png\n",
      "Running multi-cropped image\n",
      "Guess @ 1 (25, 32), prob = 0.66\n",
      "Guess @ 2 (15, 20), prob = 0.19\n",
      "Running file ../recommendation/images/Jerry_24_male_2.png\n",
      "Converting PNG to JPEG for ../recommendation/images/Jerry_24_male_2.png\n",
      "Running multi-cropped image\n",
      "Guess @ 1 (25, 32), prob = 0.93\n",
      "Guess @ 2 (15, 20), prob = 0.07\n",
      "Running file ../recommendation/images/Harison_87_m_2.png\n",
      "Converting PNG to JPEG for ../recommendation/images/Harison_87_m_2.png\n",
      "Running multi-cropped image\n",
      "Guess @ 1 (38, 43), prob = 0.68\n",
      "Guess @ 2 (48, 53), prob = 0.23\n",
      "Running file ../recommendation/images/Dulanjani_1.png\n",
      "Converting PNG to JPEG for ../recommendation/images/Dulanjani_1.png\n",
      "Running multi-cropped image\n",
      "Guess @ 1 (38, 43), prob = 0.38\n",
      "Guess @ 2 (25, 32), prob = 0.31\n",
      "Running file ../recommendation/images/Koshana_23_Male_1.png\n",
      "Converting PNG to JPEG for ../recommendation/images/Koshana_23_Male_1.png\n",
      "Running multi-cropped image\n",
      "Guess @ 1 (25, 32), prob = 0.72\n",
      "Guess @ 2 (38, 43), prob = 0.23\n",
      "Running file ../recommendation/images/t_1.png\n",
      "Converting PNG to JPEG for ../recommendation/images/t_1.png\n",
      "Running multi-cropped image\n",
      "Guess @ 1 (25, 32), prob = 0.64\n",
      "Guess @ 2 (48, 53), prob = 0.22\n",
      "Running file ../recommendation/images/Yashmitha_23_Female_2.png\n",
      "Converting PNG to JPEG for ../recommendation/images/Yashmitha_23_Female_2.png\n",
      "Running multi-cropped image\n",
      "Guess @ 1 (25, 32), prob = 0.92\n",
      "Guess @ 2 (15, 20), prob = 0.05\n",
      "Running file ../recommendation/images/Lasun Anjana_23_m_2.png\n",
      "Converting PNG to JPEG for ../recommendation/images/Lasun Anjana_23_m_2.png\n",
      "Running multi-cropped image\n",
      "Guess @ 1 (38, 43), prob = 0.50\n",
      "Guess @ 2 (25, 32), prob = 0.49\n",
      "Running file ../recommendation/images/Numaya_23_Female_2.png\n",
      "Converting PNG to JPEG for ../recommendation/images/Numaya_23_Female_2.png\n",
      "Running multi-cropped image\n",
      "Guess @ 1 (25, 32), prob = 0.85\n",
      "Guess @ 2 (15, 20), prob = 0.14\n",
      "Running file ../recommendation/images/Dulmini_23__female_2.png\n",
      "Converting PNG to JPEG for ../recommendation/images/Dulmini_23__female_2.png\n",
      "Running multi-cropped image\n",
      "Guess @ 1 (25, 32), prob = 0.98\n",
      "Guess @ 2 (38, 43), prob = 0.02\n",
      "Running file ../recommendation/images/Swarna_53_female_2.png\n",
      "Converting PNG to JPEG for ../recommendation/images/Swarna_53_female_2.png\n",
      "Running multi-cropped image\n",
      "Guess @ 1 (25, 32), prob = 0.81\n",
      "Guess @ 2 (38, 43), prob = 0.06\n",
      "Running file ../recommendation/images/Ravindu_27_Male_1.png\n",
      "Converting PNG to JPEG for ../recommendation/images/Ravindu_27_Male_1.png\n",
      "Running multi-cropped image\n",
      "Guess @ 1 (25, 32), prob = 1.00\n",
      "Guess @ 2 (38, 43), prob = 0.00\n",
      "Running file ../recommendation/images/Meth_11_male_2.png\n",
      "Converting PNG to JPEG for ../recommendation/images/Meth_11_male_2.png\n",
      "Running multi-cropped image\n",
      "Guess @ 1 (15, 20), prob = 0.51\n",
      "Guess @ 2 (25, 32), prob = 0.32\n",
      "Running file ../recommendation/images/YaxaSR!_22_M_2.png\n",
      "Converting PNG to JPEG for ../recommendation/images/YaxaSR!_22_M_2.png\n",
      "Running multi-cropped image\n",
      "Guess @ 1 (48, 53), prob = 0.54\n",
      "Guess @ 2 (25, 32), prob = 0.23\n",
      "Running file ../recommendation/images/jeewantha01_25_male_2.png\n",
      "Converting PNG to JPEG for ../recommendation/images/jeewantha01_25_male_2.png\n",
      "Running multi-cropped image\n",
      "Guess @ 1 (25, 32), prob = 0.89\n",
      "Guess @ 2 (15, 20), prob = 0.07\n",
      "Running file ../recommendation/images/Ravindu_23_male_2.png\n",
      "Converting PNG to JPEG for ../recommendation/images/Ravindu_23_male_2.png\n",
      "Running multi-cropped image\n",
      "Guess @ 1 (25, 32), prob = 0.39\n",
      "Guess @ 2 (15, 20), prob = 0.39\n",
      "Running file ../recommendation/images/Thisal 1_22_male_1.png\n",
      "Converting PNG to JPEG for ../recommendation/images/Thisal 1_22_male_1.png\n",
      "Running multi-cropped image\n",
      "Guess @ 1 (25, 32), prob = 0.66\n",
      "Guess @ 2 (15, 20), prob = 0.22\n",
      "Running file ../recommendation/images/thejan_14_male_1.png\n",
      "Converting PNG to JPEG for ../recommendation/images/thejan_14_male_1.png\n"
     ]
    },
    {
     "name": "stdout",
     "output_type": "stream",
     "text": [
      "Running multi-cropped image\n",
      "Guess @ 1 (25, 32), prob = 0.43\n",
      "Guess @ 2 (15, 20), prob = 0.29\n",
      "Running file ../recommendation/images/Ramesha_15_f_1.png\n",
      "Converting PNG to JPEG for ../recommendation/images/Ramesha_15_f_1.png\n",
      "Running multi-cropped image\n",
      "Guess @ 1 (25, 32), prob = 0.93\n",
      "Guess @ 2 (48, 53), prob = 0.03\n",
      "Running file ../recommendation/images/Venura_23_male_1.png\n",
      "Converting PNG to JPEG for ../recommendation/images/Venura_23_male_1.png\n",
      "Running multi-cropped image\n",
      "Guess @ 1 (25, 32), prob = 0.56\n",
      "Guess @ 2 (15, 20), prob = 0.25\n",
      "Running file ../recommendation/images/Rajitha_22_Male_1.png\n",
      "Converting PNG to JPEG for ../recommendation/images/Rajitha_22_Male_1.png\n",
      "Running multi-cropped image\n",
      "Guess @ 1 (25, 32), prob = 0.78\n",
      "Guess @ 2 (48, 53), prob = 0.12\n",
      "Running file ../recommendation/images/medhavi_25_female_2.png\n",
      "Converting PNG to JPEG for ../recommendation/images/medhavi_25_female_2.png\n",
      "Running multi-cropped image\n",
      "Guess @ 1 (25, 32), prob = 0.92\n",
      "Guess @ 2 (38, 43), prob = 0.04\n",
      "Running file ../recommendation/images/Chamath_24_male_2.png\n",
      "Converting PNG to JPEG for ../recommendation/images/Chamath_24_male_2.png\n",
      "Running multi-cropped image\n",
      "Guess @ 1 (25, 32), prob = 0.74\n",
      "Guess @ 2 (38, 43), prob = 0.13\n",
      "Running file ../recommendation/images/gavindu2_20_male_1.png\n",
      "Converting PNG to JPEG for ../recommendation/images/gavindu2_20_male_1.png\n",
      "Running multi-cropped image\n",
      "Guess @ 1 (25, 32), prob = 0.42\n",
      "Guess @ 2 (8, 12), prob = 0.16\n",
      "Running file ../recommendation/images/sandul_23_male_2.png\n",
      "Converting PNG to JPEG for ../recommendation/images/sandul_23_male_2.png\n",
      "Running multi-cropped image\n",
      "Guess @ 1 (25, 32), prob = 0.88\n",
      "Guess @ 2 (15, 20), prob = 0.08\n",
      "Running file ../recommendation/images/sankalpa_21_male_2.png\n",
      "Converting PNG to JPEG for ../recommendation/images/sankalpa_21_male_2.png\n",
      "Running multi-cropped image\n",
      "Guess @ 1 (25, 32), prob = 0.99\n",
      "Guess @ 2 (38, 43), prob = 0.01\n",
      "Running file ../recommendation/images/Samadhi_23_female_2.png\n",
      "Converting PNG to JPEG for ../recommendation/images/Samadhi_23_female_2.png\n",
      "Running multi-cropped image\n",
      "Guess @ 1 (15, 20), prob = 0.71\n",
      "Guess @ 2 (25, 32), prob = 0.27\n",
      "Running file ../recommendation/images/nalika_54_female_2.png\n",
      "Converting PNG to JPEG for ../recommendation/images/nalika_54_female_2.png\n",
      "Running multi-cropped image\n",
      "Guess @ 1 (25, 32), prob = 0.34\n",
      "Guess @ 2 (15, 20), prob = 0.26\n",
      "Running file ../recommendation/images/kolithakasun@gmail.com_2.png\n",
      "Converting PNG to JPEG for ../recommendation/images/kolithakasun@gmail.com_2.png\n",
      "Running multi-cropped image\n",
      "Guess @ 1 (25, 32), prob = 0.93\n",
      "Guess @ 2 (15, 20), prob = 0.06\n",
      "Running file ../recommendation/images/Thathsarani_24_f_2.png\n",
      "Converting PNG to JPEG for ../recommendation/images/Thathsarani_24_f_2.png\n",
      "Running multi-cropped image\n",
      "Guess @ 1 (25, 32), prob = 0.93\n",
      "Guess @ 2 (8, 12), prob = 0.05\n",
      "Running file ../recommendation/images/Yomal_22_male_2.png\n",
      "Converting PNG to JPEG for ../recommendation/images/Yomal_22_male_2.png\n",
      "Running multi-cropped image\n",
      "Guess @ 1 (25, 32), prob = 0.60\n",
      "Guess @ 2 (15, 20), prob = 0.17\n",
      "Running file ../recommendation/images/Deshani_24_f_1.png\n",
      "Converting PNG to JPEG for ../recommendation/images/Deshani_24_f_1.png\n",
      "Running multi-cropped image\n",
      "Guess @ 1 (25, 32), prob = 0.97\n",
      "Guess @ 2 (15, 20), prob = 0.03\n",
      "Running file ../recommendation/images/Ridmie_22_female_1.png\n",
      "Converting PNG to JPEG for ../recommendation/images/Ridmie_22_female_1.png\n",
      "Running multi-cropped image\n",
      "Guess @ 1 (15, 20), prob = 0.82\n",
      "Guess @ 2 (25, 32), prob = 0.17\n",
      "Running file ../recommendation/images/Rithma_22_Female_1.png\n",
      "Converting PNG to JPEG for ../recommendation/images/Rithma_22_Female_1.png\n",
      "Running multi-cropped image\n",
      "Guess @ 1 (15, 20), prob = 0.79\n",
      "Guess @ 2 (25, 32), prob = 0.21\n",
      "Running file ../recommendation/images/kalshan_24_male_1.png\n",
      "Converting PNG to JPEG for ../recommendation/images/kalshan_24_male_1.png\n",
      "Running multi-cropped image\n",
      "Guess @ 1 (25, 32), prob = 0.54\n",
      "Guess @ 2 (48, 53), prob = 0.22\n",
      "Running file ../recommendation/images/medhavi_25_female_1.png\n",
      "Converting PNG to JPEG for ../recommendation/images/medhavi_25_female_1.png\n",
      "Running multi-cropped image\n",
      "Guess @ 1 (25, 32), prob = 0.93\n",
      "Guess @ 2 (15, 20), prob = 0.05\n",
      "Running file ../recommendation/images/ishara_1_Male_2.png\n",
      "Converting PNG to JPEG for ../recommendation/images/ishara_1_Male_2.png\n",
      "Running multi-cropped image\n",
      "Guess @ 1 (15, 20), prob = 0.48\n",
      "Guess @ 2 (25, 32), prob = 0.23\n",
      "Running file ../recommendation/images/Tharushika_22_female_2.png\n",
      "Converting PNG to JPEG for ../recommendation/images/Tharushika_22_female_2.png\n",
      "Running multi-cropped image\n",
      "Guess @ 1 (15, 20), prob = 0.96\n",
      "Guess @ 2 (25, 32), prob = 0.03\n",
      "Running file ../recommendation/images/nethul_15_m_1.png\n",
      "Converting PNG to JPEG for ../recommendation/images/nethul_15_m_1.png\n",
      "Running multi-cropped image\n",
      "Guess @ 1 (25, 32), prob = 0.68\n",
      "Guess @ 2 (48, 53), prob = 0.14\n",
      "Running file ../recommendation/images/Kavindu__19_m_1.png\n",
      "Converting PNG to JPEG for ../recommendation/images/Kavindu__19_m_1.png\n",
      "Running multi-cropped image\n",
      "Guess @ 1 (15, 20), prob = 0.45\n",
      "Guess @ 2 (25, 32), prob = 0.40\n",
      "Running file ../recommendation/images/chandula_24_female_1.png\n",
      "Converting PNG to JPEG for ../recommendation/images/chandula_24_female_1.png\n",
      "Running multi-cropped image\n",
      "Guess @ 1 (25, 32), prob = 1.00\n",
      "Guess @ 2 (15, 20), prob = 0.00\n",
      "Running file ../recommendation/images/ishara_1_Male_1.png\n",
      "Converting PNG to JPEG for ../recommendation/images/ishara_1_Male_1.png\n",
      "Running multi-cropped image\n",
      "Guess @ 1 (25, 32), prob = 0.75\n",
      "Guess @ 2 (15, 20), prob = 0.22\n",
      "Running file ../recommendation/images/Shalitha_23_male_1.png\n",
      "Converting PNG to JPEG for ../recommendation/images/Shalitha_23_male_1.png\n",
      "Running multi-cropped image\n",
      "Guess @ 1 (25, 32), prob = 1.00\n",
      "Guess @ 2 (38, 43), prob = 0.00\n",
      "Running file ../recommendation/images/Sajeewa_25_male_1.png\n",
      "Converting PNG to JPEG for ../recommendation/images/Sajeewa_25_male_1.png\n",
      "Running multi-cropped image\n",
      "Guess @ 1 (25, 32), prob = 0.88\n",
      "Guess @ 2 (15, 20), prob = 0.08\n",
      "Running file ../recommendation/images/Herath_51_female_1.png\n",
      "Converting PNG to JPEG for ../recommendation/images/Herath_51_female_1.png\n",
      "Running multi-cropped image\n",
      "Guess @ 1 (25, 32), prob = 0.58\n",
      "Guess @ 2 (15, 20), prob = 0.22\n",
      "Running file ../recommendation/images/Priyanthi_43_f_2.png\n",
      "Converting PNG to JPEG for ../recommendation/images/Priyanthi_43_f_2.png\n",
      "Running multi-cropped image\n",
      "Guess @ 1 (25, 32), prob = 0.93\n",
      "Guess @ 2 (38, 43), prob = 0.03\n",
      "Running file ../recommendation/images/sandali_23_female_1.png\n",
      "Converting PNG to JPEG for ../recommendation/images/sandali_23_female_1.png\n",
      "Running multi-cropped image\n",
      "Guess @ 1 (25, 32), prob = 0.99\n",
      "Guess @ 2 (15, 20), prob = 0.00\n",
      "Running file ../recommendation/images/Pasindu_22_Male_2.png\n",
      "Converting PNG to JPEG for ../recommendation/images/Pasindu_22_Male_2.png\n",
      "Running multi-cropped image\n",
      "Guess @ 1 (25, 32), prob = 0.56\n",
      "Guess @ 2 (38, 43), prob = 0.27\n",
      "Running file ../recommendation/images/Swarna_53_female_1.png\n",
      "Converting PNG to JPEG for ../recommendation/images/Swarna_53_female_1.png\n",
      "Running multi-cropped image\n",
      "Guess @ 1 (25, 32), prob = 0.78\n",
      "Guess @ 2 (38, 43), prob = 0.09\n",
      "Running file ../recommendation/images/lahiru_23_malexxx_2.png\n",
      "Converting PNG to JPEG for ../recommendation/images/lahiru_23_malexxx_2.png\n",
      "Running multi-cropped image\n",
      "Guess @ 1 (25, 32), prob = 0.80\n",
      "Guess @ 2 (15, 20), prob = 0.12\n",
      "Running file ../recommendation/images/Shehani_30_female_2.png\n",
      "Converting PNG to JPEG for ../recommendation/images/Shehani_30_female_2.png\n",
      "Running multi-cropped image\n",
      "Guess @ 1 (25, 32), prob = 0.59\n",
      "Guess @ 2 (38, 43), prob = 0.16\n",
      "Running file ../recommendation/images/Nethmi_23_female_2.png\n",
      "Converting PNG to JPEG for ../recommendation/images/Nethmi_23_female_2.png\n",
      "Running multi-cropped image\n",
      "Guess @ 1 (25, 32), prob = 0.85\n",
      "Guess @ 2 (15, 20), prob = 0.15\n",
      "Running file ../recommendation/images/Maneesha_24_female_2.png\n",
      "Converting PNG to JPEG for ../recommendation/images/Maneesha_24_female_2.png\n",
      "Running multi-cropped image\n",
      "Guess @ 1 (25, 32), prob = 0.75\n",
      "Guess @ 2 (38, 43), prob = 0.21\n",
      "Running file ../recommendation/images/Piyumi_24_F_1.png\n",
      "Converting PNG to JPEG for ../recommendation/images/Piyumi_24_F_1.png\n",
      "Running multi-cropped image\n",
      "Guess @ 1 (8, 12), prob = 0.65\n",
      "Guess @ 2 (25, 32), prob = 0.21\n",
      "Running file ../recommendation/images/tharindra_28_female_2.png\n",
      "Converting PNG to JPEG for ../recommendation/images/tharindra_28_female_2.png\n"
     ]
    },
    {
     "name": "stdout",
     "output_type": "stream",
     "text": [
      "Running multi-cropped image\n",
      "Guess @ 1 (25, 32), prob = 0.64\n",
      "Guess @ 2 (15, 20), prob = 0.20\n",
      "Running file ../recommendation/images/Shehani_30_female_1.png\n",
      "Converting PNG to JPEG for ../recommendation/images/Shehani_30_female_1.png\n",
      "Running multi-cropped image\n",
      "Guess @ 1 (25, 32), prob = 0.47\n",
      "Guess @ 2 (38, 43), prob = 0.27\n",
      "Running file ../recommendation/images/Hiruni_23_Female_2.png\n",
      "Converting PNG to JPEG for ../recommendation/images/Hiruni_23_Female_2.png\n",
      "Running multi-cropped image\n",
      "Guess @ 1 (25, 32), prob = 0.99\n",
      "Guess @ 2 (15, 20), prob = 0.01\n",
      "Running file ../recommendation/images/Nilanthi_50_Female_2.png\n",
      "Converting PNG to JPEG for ../recommendation/images/Nilanthi_50_Female_2.png\n",
      "Running multi-cropped image\n",
      "Guess @ 1 (25, 32), prob = 0.64\n",
      "Guess @ 2 (38, 43), prob = 0.27\n",
      "Running file ../recommendation/images/mallika_51_female_2.png\n",
      "Converting PNG to JPEG for ../recommendation/images/mallika_51_female_2.png\n",
      "Running multi-cropped image\n",
      "Guess @ 1 (25, 32), prob = 0.74\n",
      "Guess @ 2 (48, 53), prob = 0.12\n",
      "Running file ../recommendation/images/Priyantha_50_male_2.png\n",
      "Converting PNG to JPEG for ../recommendation/images/Priyantha_50_male_2.png\n",
      "Running multi-cropped image\n",
      "Guess @ 1 (25, 32), prob = 0.99\n",
      "Guess @ 2 (38, 43), prob = 0.01\n",
      "Running file ../recommendation/images/Ravihari_25_Female_1.png\n",
      "Converting PNG to JPEG for ../recommendation/images/Ravihari_25_Female_1.png\n",
      "Running multi-cropped image\n",
      "Guess @ 1 (25, 32), prob = 1.00\n",
      "Guess @ 2 (15, 20), prob = 0.00\n",
      "Running file ../recommendation/images/Yehan_18_male_1.png\n",
      "Converting PNG to JPEG for ../recommendation/images/Yehan_18_male_1.png\n",
      "Running multi-cropped image\n",
      "Guess @ 1 (25, 32), prob = 0.98\n",
      "Guess @ 2 (38, 43), prob = 0.01\n",
      "Running file ../recommendation/images/nimsara_21_male_1.png\n",
      "Converting PNG to JPEG for ../recommendation/images/nimsara_21_male_1.png\n",
      "Running multi-cropped image\n",
      "Guess @ 1 (25, 32), prob = 0.35\n",
      "Guess @ 2 (15, 20), prob = 0.30\n",
      "Running file ../recommendation/images/Chulangani_26_Female_1.png\n",
      "Converting PNG to JPEG for ../recommendation/images/Chulangani_26_Female_1.png\n",
      "Running multi-cropped image\n",
      "Guess @ 1 (25, 32), prob = 0.99\n",
      "Guess @ 2 (38, 43), prob = 0.01\n",
      "Running file ../recommendation/images/malani_67_female_2.png\n",
      "Converting PNG to JPEG for ../recommendation/images/malani_67_female_2.png\n",
      "Running multi-cropped image\n",
      "Guess @ 1 (25, 32), prob = 0.73\n",
      "Guess @ 2 (48, 53), prob = 0.12\n",
      "Running file ../recommendation/images/lakshan1_24_male_1.png\n",
      "Converting PNG to JPEG for ../recommendation/images/lakshan1_24_male_1.png\n",
      "Running multi-cropped image\n",
      "Guess @ 1 (38, 43), prob = 0.36\n",
      "Guess @ 2 (48, 53), prob = 0.28\n",
      "Running file ../recommendation/images/nadeeka_41_f_2.png\n",
      "Converting PNG to JPEG for ../recommendation/images/nadeeka_41_f_2.png\n",
      "Running multi-cropped image\n",
      "Guess @ 1 (25, 32), prob = 0.91\n",
      "Guess @ 2 (48, 53), prob = 0.07\n",
      "Running file ../recommendation/images/Pasindu_22_Male_1.png\n",
      "Converting PNG to JPEG for ../recommendation/images/Pasindu_22_Male_1.png\n",
      "Running multi-cropped image\n",
      "Guess @ 1 (25, 32), prob = 0.97\n",
      "Guess @ 2 (15, 20), prob = 0.02\n",
      "Running file ../recommendation/images/Senura_24_Male_2.png\n",
      "Converting PNG to JPEG for ../recommendation/images/Senura_24_Male_2.png\n",
      "Running multi-cropped image\n",
      "Guess @ 1 (15, 20), prob = 0.57\n",
      "Guess @ 2 (25, 32), prob = 0.41\n",
      "Running file ../recommendation/images/kumara_49_male_2.png\n",
      "Converting PNG to JPEG for ../recommendation/images/kumara_49_male_2.png\n",
      "Running multi-cropped image\n",
      "Guess @ 1 (25, 32), prob = 0.82\n",
      "Guess @ 2 (48, 53), prob = 0.14\n",
      "Running file ../recommendation/images/Chanumi_08_female_1.png\n",
      "Converting PNG to JPEG for ../recommendation/images/Chanumi_08_female_1.png\n",
      "Running multi-cropped image\n",
      "Guess @ 1 (38, 43), prob = 0.39\n",
      "Guess @ 2 (25, 32), prob = 0.38\n",
      "Running file ../recommendation/images/nethmi_22_female_1.png\n",
      "Converting PNG to JPEG for ../recommendation/images/nethmi_22_female_1.png\n",
      "Running multi-cropped image\n",
      "Guess @ 1 (25, 32), prob = 0.98\n",
      "Guess @ 2 (38, 43), prob = 0.01\n",
      "Running file ../recommendation/images/Bawantha_98_male_2.png\n",
      "Converting PNG to JPEG for ../recommendation/images/Bawantha_98_male_2.png\n",
      "Running multi-cropped image\n",
      "Guess @ 1 (25, 32), prob = 0.90\n",
      "Guess @ 2 (8, 12), prob = 0.06\n",
      "Running file ../recommendation/images/Chathupama_23_female_2.png\n",
      "Converting PNG to JPEG for ../recommendation/images/Chathupama_23_female_2.png\n",
      "Running multi-cropped image\n",
      "Guess @ 1 (25, 32), prob = 0.97\n",
      "Guess @ 2 (38, 43), prob = 0.03\n",
      "Running file ../recommendation/images/Tharindu_27_Male_2.png\n",
      "Converting PNG to JPEG for ../recommendation/images/Tharindu_27_Male_2.png\n",
      "Running multi-cropped image\n",
      "Guess @ 1 (25, 32), prob = 0.75\n",
      "Guess @ 2 (15, 20), prob = 0.24\n",
      "Running file ../recommendation/images/Priyantha_50_male_1.png\n",
      "Converting PNG to JPEG for ../recommendation/images/Priyantha_50_male_1.png\n",
      "Running multi-cropped image\n",
      "Guess @ 1 (25, 32), prob = 0.98\n",
      "Guess @ 2 (38, 43), prob = 0.01\n",
      "Running file ../recommendation/images/Rawaar_2.png\n",
      "Converting PNG to JPEG for ../recommendation/images/Rawaar_2.png\n",
      "Running multi-cropped image\n",
      "Guess @ 1 (15, 20), prob = 0.73\n",
      "Guess @ 2 (25, 32), prob = 0.27\n",
      "Running file ../recommendation/images/ariyavathi_56_female_1.png\n",
      "Converting PNG to JPEG for ../recommendation/images/ariyavathi_56_female_1.png\n",
      "Running multi-cropped image\n",
      "Guess @ 1 (25, 32), prob = 0.54\n",
      "Guess @ 2 (38, 43), prob = 0.33\n",
      "Running file ../recommendation/images/Thisal_22_male_1.png\n",
      "Converting PNG to JPEG for ../recommendation/images/Thisal_22_male_1.png\n",
      "Running multi-cropped image\n",
      "Guess @ 1 (25, 32), prob = 0.96\n",
      "Guess @ 2 (15, 20), prob = 0.04\n",
      "Running file ../recommendation/images/Ayesha_22_female_1.png\n",
      "Converting PNG to JPEG for ../recommendation/images/Ayesha_22_female_1.png\n",
      "Running multi-cropped image\n",
      "Guess @ 1 (25, 32), prob = 0.91\n",
      "Guess @ 2 (15, 20), prob = 0.08\n",
      "Running file ../recommendation/images/Kavindi_24_female_1.png\n",
      "Converting PNG to JPEG for ../recommendation/images/Kavindi_24_female_1.png\n",
      "Running multi-cropped image\n",
      "Guess @ 1 (25, 32), prob = 0.70\n",
      "Guess @ 2 (15, 20), prob = 0.22\n",
      "Running file ../recommendation/images/Ex-Id-Palindi-22-Female_2.png\n",
      "Converting PNG to JPEG for ../recommendation/images/Ex-Id-Palindi-22-Female_2.png\n",
      "Running multi-cropped image\n",
      "Guess @ 1 (25, 32), prob = 0.61\n",
      "Guess @ 2 (15, 20), prob = 0.38\n",
      "Running file ../recommendation/images/rreeta_76_female_1.png\n",
      "Converting PNG to JPEG for ../recommendation/images/rreeta_76_female_1.png\n",
      "Running multi-cropped image\n",
      "Guess @ 1 (38, 43), prob = 0.63\n",
      "Guess @ 2 (25, 32), prob = 0.20\n",
      "Running file ../recommendation/images/mithun_6_m_2.png\n",
      "Converting PNG to JPEG for ../recommendation/images/mithun_6_m_2.png\n",
      "Running multi-cropped image\n",
      "Guess @ 1 (25, 32), prob = 0.65\n",
      "Guess @ 2 (48, 53), prob = 0.12\n",
      "Running file ../recommendation/images/Rashmie_15_f_1.png\n",
      "Converting PNG to JPEG for ../recommendation/images/Rashmie_15_f_1.png\n",
      "Running multi-cropped image\n",
      "Guess @ 1 (25, 32), prob = 1.00\n",
      "Guess @ 2 (15, 20), prob = 0.00\n",
      "Running file ../recommendation/images/Irangani_73_f_2.png\n",
      "Converting PNG to JPEG for ../recommendation/images/Irangani_73_f_2.png\n",
      "Running multi-cropped image\n",
      "Guess @ 1 (25, 32), prob = 0.53\n",
      "Guess @ 2 (15, 20), prob = 0.34\n",
      "Running file ../recommendation/images/kolithakasun@gmail.com_1.png\n",
      "Converting PNG to JPEG for ../recommendation/images/kolithakasun@gmail.com_1.png\n",
      "Running multi-cropped image\n",
      "Guess @ 1 (25, 32), prob = 0.97\n",
      "Guess @ 2 (15, 20), prob = 0.02\n",
      "Running file ../recommendation/images/samanthi_48_female_1.png\n",
      "Converting PNG to JPEG for ../recommendation/images/samanthi_48_female_1.png\n",
      "Running multi-cropped image\n",
      "Guess @ 1 (25, 32), prob = 0.84\n",
      "Guess @ 2 (48, 53), prob = 0.12\n",
      "Running file ../recommendation/images/Dimuthu_23_Male_2.png\n",
      "Converting PNG to JPEG for ../recommendation/images/Dimuthu_23_Male_2.png\n",
      "Running multi-cropped image\n",
      "Guess @ 1 (25, 32), prob = 0.99\n",
      "Guess @ 2 (15, 20), prob = 0.01\n",
      "Running file ../recommendation/images/kushani_20_female_1.png\n",
      "Converting PNG to JPEG for ../recommendation/images/kushani_20_female_1.png\n",
      "Running multi-cropped image\n",
      "Guess @ 1 (25, 32), prob = 0.79\n",
      "Guess @ 2 (38, 43), prob = 0.20\n",
      "Running file ../recommendation/images/hj_2.png\n",
      "Converting PNG to JPEG for ../recommendation/images/hj_2.png\n",
      "Running multi-cropped image\n"
     ]
    },
    {
     "name": "stdout",
     "output_type": "stream",
     "text": [
      "Guess @ 1 (25, 32), prob = 0.93\n",
      "Guess @ 2 (48, 53), prob = 0.04\n",
      "Running file ../recommendation/images/Kinsly_75_M_2.png\n",
      "Converting PNG to JPEG for ../recommendation/images/Kinsly_75_M_2.png\n",
      "Running multi-cropped image\n",
      "Guess @ 1 (48, 53), prob = 0.42\n",
      "Guess @ 2 (15, 20), prob = 0.30\n",
      "Running file ../recommendation/images/Nayanathara_25_ female _2.png\n",
      "Converting PNG to JPEG for ../recommendation/images/Nayanathara_25_ female _2.png\n",
      "Running multi-cropped image\n",
      "Guess @ 1 (25, 32), prob = 0.81\n",
      "Guess @ 2 (38, 43), prob = 0.17\n",
      "Running file ../recommendation/images/ashinsana_20_male_1.png\n",
      "Converting PNG to JPEG for ../recommendation/images/ashinsana_20_male_1.png\n",
      "Running multi-cropped image\n",
      "Guess @ 1 (15, 20), prob = 0.49\n",
      "Guess @ 2 (25, 32), prob = 0.47\n",
      "Running file ../recommendation/images/Ex-Id-Palindi-22-Female_1.png\n",
      "Converting PNG to JPEG for ../recommendation/images/Ex-Id-Palindi-22-Female_1.png\n",
      "Running multi-cropped image\n",
      "Guess @ 1 (25, 32), prob = 0.72\n",
      "Guess @ 2 (15, 20), prob = 0.27\n",
      "Running file ../recommendation/images/senudi_11_f_2.png\n",
      "Converting PNG to JPEG for ../recommendation/images/senudi_11_f_2.png\n",
      "Running multi-cropped image\n",
      "Guess @ 1 (25, 32), prob = 0.88\n",
      "Guess @ 2 (15, 20), prob = 0.11\n",
      "Running file ../recommendation/images/sandul_23_male_1.png\n",
      "Converting PNG to JPEG for ../recommendation/images/sandul_23_male_1.png\n",
      "Running multi-cropped image\n",
      "Guess @ 1 (15, 20), prob = 0.51\n",
      "Guess @ 2 (25, 32), prob = 0.48\n",
      "Running file ../recommendation/images/shenal_21_Male_2.png\n",
      "Converting PNG to JPEG for ../recommendation/images/shenal_21_Male_2.png\n",
      "Running multi-cropped image\n",
      "Guess @ 1 (25, 32), prob = 0.85\n",
      "Guess @ 2 (15, 20), prob = 0.12\n",
      "Running file ../recommendation/images/Shanaka_19_male_1.png\n",
      "Converting PNG to JPEG for ../recommendation/images/Shanaka_19_male_1.png\n",
      "Running multi-cropped image\n",
      "Guess @ 1 (15, 20), prob = 0.75\n",
      "Guess @ 2 (25, 32), prob = 0.13\n",
      "Running file ../recommendation/images/Dinusha_21_male_1.png\n",
      "Converting PNG to JPEG for ../recommendation/images/Dinusha_21_male_1.png\n",
      "Running multi-cropped image\n",
      "Guess @ 1 (25, 32), prob = 0.97\n",
      "Guess @ 2 (15, 20), prob = 0.01\n",
      "Running file ../recommendation/images/Samadhi_23_female_1.png\n",
      "Converting PNG to JPEG for ../recommendation/images/Samadhi_23_female_1.png\n",
      "Running multi-cropped image\n",
      "Guess @ 1 (8, 12), prob = 0.47\n",
      "Guess @ 2 (15, 20), prob = 0.40\n",
      "Running file ../recommendation/images/Yasith_23_male_2.png\n",
      "Converting PNG to JPEG for ../recommendation/images/Yasith_23_male_2.png\n",
      "Running multi-cropped image\n",
      "Guess @ 1 (25, 32), prob = 0.99\n",
      "Guess @ 2 (15, 20), prob = 0.01\n",
      "Running file ../recommendation/images/kaushalya_23_Female_1.png\n",
      "Converting PNG to JPEG for ../recommendation/images/kaushalya_23_Female_1.png\n",
      "Running multi-cropped image\n",
      "Guess @ 1 (38, 43), prob = 0.38\n",
      "Guess @ 2 (25, 32), prob = 0.31\n",
      "Running file ../recommendation/images/Dinukthi_22_Female_1.png\n",
      "Converting PNG to JPEG for ../recommendation/images/Dinukthi_22_Female_1.png\n",
      "Running multi-cropped image\n",
      "Guess @ 1 (25, 32), prob = 0.93\n",
      "Guess @ 2 (48, 53), prob = 0.05\n",
      "Running file ../recommendation/images/Ravindu_27_Male_2.png\n",
      "Converting PNG to JPEG for ../recommendation/images/Ravindu_27_Male_2.png\n",
      "Running multi-cropped image\n",
      "Guess @ 1 (25, 32), prob = 1.00\n",
      "Guess @ 2 (38, 43), prob = 0.00\n",
      "Running file ../recommendation/images/Rochelle_36_Female_1.png\n",
      "Converting PNG to JPEG for ../recommendation/images/Rochelle_36_Female_1.png\n",
      "Running multi-cropped image\n",
      "Guess @ 1 (25, 32), prob = 0.94\n",
      "Guess @ 2 (15, 20), prob = 0.06\n",
      "Running file ../recommendation/images/test1_2.png\n",
      "Converting PNG to JPEG for ../recommendation/images/test1_2.png\n",
      "Running multi-cropped image\n",
      "Guess @ 1 (25, 32), prob = 0.90\n",
      "Guess @ 2 (38, 43), prob = 0.05\n",
      "Running file ../recommendation/images/lahiru_23_malexxx_1.png\n",
      "Converting PNG to JPEG for ../recommendation/images/lahiru_23_malexxx_1.png\n",
      "Running multi-cropped image\n",
      "Guess @ 1 (25, 32), prob = 0.83\n",
      "Guess @ 2 (15, 20), prob = 0.11\n",
      "Running file ../recommendation/images/sadula_22_,ale_2.png\n",
      "Converting PNG to JPEG for ../recommendation/images/sadula_22_,ale_2.png\n",
      "Running multi-cropped image\n",
      "Guess @ 1 (25, 32), prob = 0.88\n",
      "Guess @ 2 (38, 43), prob = 0.07\n",
      "Running file ../recommendation/images/Vishmi_20-female_2.png\n",
      "Converting PNG to JPEG for ../recommendation/images/Vishmi_20-female_2.png\n",
      "Running multi-cropped image\n",
      "Guess @ 1 (25, 32), prob = 0.54\n",
      "Guess @ 2 (38, 43), prob = 0.40\n",
      "Running file ../recommendation/images/Pamudu_21_Male_2.png\n",
      "Converting PNG to JPEG for ../recommendation/images/Pamudu_21_Male_2.png\n",
      "Running multi-cropped image\n",
      "Guess @ 1 (15, 20), prob = 0.82\n",
      "Guess @ 2 (25, 32), prob = 0.15\n",
      "Running file ../recommendation/images/kumara_49_male_1.png\n",
      "Converting PNG to JPEG for ../recommendation/images/kumara_49_male_1.png\n",
      "Running multi-cropped image\n",
      "Guess @ 1 (25, 32), prob = 0.84\n",
      "Guess @ 2 (48, 53), prob = 0.12\n",
      "Running file ../recommendation/images/xzcxz_1.png\n",
      "Converting PNG to JPEG for ../recommendation/images/xzcxz_1.png\n",
      "Running multi-cropped image\n",
      "Guess @ 1 (25, 32), prob = 0.99\n",
      "Guess @ 2 (15, 20), prob = 0.01\n",
      "Running file ../recommendation/images/Wojithma_20_female_1.png\n",
      "Converting PNG to JPEG for ../recommendation/images/Wojithma_20_female_1.png\n",
      "Running multi-cropped image\n",
      "Guess @ 1 (25, 32), prob = 0.88\n",
      "Guess @ 2 (48, 53), prob = 0.09\n",
      "Running file ../recommendation/images/Tharushika_22_female_1.png\n",
      "Converting PNG to JPEG for ../recommendation/images/Tharushika_22_female_1.png\n",
      "Running multi-cropped image\n",
      "Guess @ 1 (15, 20), prob = 0.96\n",
      "Guess @ 2 (25, 32), prob = 0.03\n",
      "Running file ../recommendation/images/Chamal_25_male_2.png\n",
      "Converting PNG to JPEG for ../recommendation/images/Chamal_25_male_2.png\n",
      "Running multi-cropped image\n",
      "Guess @ 1 (25, 32), prob = 0.62\n",
      "Guess @ 2 (38, 43), prob = 0.19\n",
      "Running file ../recommendation/images/chathurangani_35_female_1.png\n",
      "Converting PNG to JPEG for ../recommendation/images/chathurangani_35_female_1.png\n",
      "Running multi-cropped image\n",
      "Guess @ 1 (25, 32), prob = 0.45\n",
      "Guess @ 2 (38, 43), prob = 0.36\n",
      "Running file ../recommendation/images/pubudu_23_male_1.png\n",
      "Converting PNG to JPEG for ../recommendation/images/pubudu_23_male_1.png\n",
      "Running multi-cropped image\n",
      "Guess @ 1 (38, 43), prob = 0.39\n",
      "Guess @ 2 (25, 32), prob = 0.34\n",
      "Running file ../recommendation/images/Chamal_25_male_1.png\n",
      "Converting PNG to JPEG for ../recommendation/images/Chamal_25_male_1.png\n",
      "Running multi-cropped image\n",
      "Guess @ 1 (25, 32), prob = 0.50\n",
      "Guess @ 2 (38, 43), prob = 0.23\n",
      "Running file ../recommendation/images/Anjalee-22-Female_2.png\n",
      "Converting PNG to JPEG for ../recommendation/images/Anjalee-22-Female_2.png\n",
      "Running multi-cropped image\n",
      "Guess @ 1 (15, 20), prob = 0.75\n",
      "Guess @ 2 (8, 12), prob = 0.14\n",
      "Running file ../recommendation/images/Mihiri_24_f_1.png\n",
      "Converting PNG to JPEG for ../recommendation/images/Mihiri_24_f_1.png\n",
      "Running multi-cropped image\n",
      "Guess @ 1 (25, 32), prob = 0.94\n",
      "Guess @ 2 (48, 53), prob = 0.02\n",
      "Running file ../recommendation/images/Deshani_24_Female_1.png\n",
      "Converting PNG to JPEG for ../recommendation/images/Deshani_24_Female_1.png\n",
      "Running multi-cropped image\n",
      "Guess @ 1 (25, 32), prob = 0.96\n",
      "Guess @ 2 (15, 20), prob = 0.03\n",
      "Running file ../recommendation/images/Sameera_27_male_2.png\n",
      "Converting PNG to JPEG for ../recommendation/images/Sameera_27_male_2.png\n",
      "Running multi-cropped image\n",
      "Guess @ 1 (8, 12), prob = 0.47\n",
      "Guess @ 2 (38, 43), prob = 0.19\n",
      "Running file ../recommendation/images/Priyanthi_43_f_1.png\n",
      "Converting PNG to JPEG for ../recommendation/images/Priyanthi_43_f_1.png\n",
      "Running multi-cropped image\n",
      "Guess @ 1 (25, 32), prob = 0.76\n",
      "Guess @ 2 (8, 12), prob = 0.20\n",
      "Running file ../recommendation/images/Kanchana_52_female_2.png\n",
      "Converting PNG to JPEG for ../recommendation/images/Kanchana_52_female_2.png\n",
      "Running multi-cropped image\n",
      "Guess @ 1 (48, 53), prob = 0.57\n",
      "Guess @ 2 (38, 43), prob = 0.22\n",
      "Running file ../recommendation/images/test_23_male_2.png\n",
      "Converting PNG to JPEG for ../recommendation/images/test_23_male_2.png\n",
      "Running multi-cropped image\n",
      "Guess @ 1 (25, 32), prob = 0.49\n",
      "Guess @ 2 (38, 43), prob = 0.29\n",
      "Running file ../recommendation/images/Ranula_24_M_2.png\n",
      "Converting PNG to JPEG for ../recommendation/images/Ranula_24_M_2.png\n",
      "Running multi-cropped image\n",
      "Guess @ 1 (25, 32), prob = 0.99\n",
      "Guess @ 2 (15, 20), prob = 0.00\n",
      "Running file ../recommendation/images/nadeeka_41_f_1.png\n",
      "Converting PNG to JPEG for ../recommendation/images/nadeeka_41_f_1.png\n"
     ]
    },
    {
     "name": "stdout",
     "output_type": "stream",
     "text": [
      "Running multi-cropped image\n",
      "Guess @ 1 (25, 32), prob = 0.93\n",
      "Guess @ 2 (48, 53), prob = 0.05\n",
      "Running file ../recommendation/images/pramodya_16_m_2.png\n",
      "Converting PNG to JPEG for ../recommendation/images/pramodya_16_m_2.png\n",
      "Running multi-cropped image\n",
      "Guess @ 1 (15, 20), prob = 0.39\n",
      "Guess @ 2 (25, 32), prob = 0.21\n",
      "Running file ../recommendation/images/Desilva_23_M_1.png\n",
      "Converting PNG to JPEG for ../recommendation/images/Desilva_23_M_1.png\n",
      "Running multi-cropped image\n",
      "Guess @ 1 (25, 32), prob = 0.93\n",
      "Guess @ 2 (15, 20), prob = 0.05\n",
      "Running file ../recommendation/images/Sudesha_24_male_1.png\n",
      "Converting PNG to JPEG for ../recommendation/images/Sudesha_24_male_1.png\n",
      "Running multi-cropped image\n",
      "Guess @ 1 (25, 32), prob = 0.37\n",
      "Guess @ 2 (8, 12), prob = 0.20\n",
      "Running file ../recommendation/images/sadew_15_m_1.png\n",
      "Converting PNG to JPEG for ../recommendation/images/sadew_15_m_1.png\n",
      "Running multi-cropped image\n",
      "Guess @ 1 (25, 32), prob = 0.65\n",
      "Guess @ 2 (38, 43), prob = 0.14\n",
      "Running file ../recommendation/images/dewdun_15_m_2.png\n",
      "Converting PNG to JPEG for ../recommendation/images/dewdun_15_m_2.png\n",
      "Running multi-cropped image\n",
      "Guess @ 1 (25, 32), prob = 0.74\n",
      "Guess @ 2 (15, 20), prob = 0.16\n",
      "Running file ../recommendation/images/sachindu_23_male_2.png\n",
      "Converting PNG to JPEG for ../recommendation/images/sachindu_23_male_2.png\n",
      "Running multi-cropped image\n",
      "Guess @ 1 (8, 12), prob = 0.48\n",
      "Guess @ 2 (15, 20), prob = 0.24\n",
      "Running file ../recommendation/images/Pasindu_23_male_1.png\n",
      "Converting PNG to JPEG for ../recommendation/images/Pasindu_23_male_1.png\n",
      "Running multi-cropped image\n",
      "Guess @ 1 (25, 32), prob = 0.98\n",
      "Guess @ 2 (15, 20), prob = 0.01\n",
      "Running file ../recommendation/images/Lakshika_24_m_1.png\n",
      "Converting PNG to JPEG for ../recommendation/images/Lakshika_24_m_1.png\n",
      "Running multi-cropped image\n",
      "Guess @ 1 (25, 32), prob = 0.79\n",
      "Guess @ 2 (15, 20), prob = 0.21\n",
      "Running file ../recommendation/images/Deshani_24_f_2.png\n",
      "Converting PNG to JPEG for ../recommendation/images/Deshani_24_f_2.png\n",
      "Running multi-cropped image\n",
      "Guess @ 1 (25, 32), prob = 0.92\n",
      "Guess @ 2 (15, 20), prob = 0.08\n",
      "Running file ../recommendation/images/Maneesha_24_female_1.png\n",
      "Converting PNG to JPEG for ../recommendation/images/Maneesha_24_female_1.png\n",
      "Running multi-cropped image\n",
      "Guess @ 1 (25, 32), prob = 0.69\n",
      "Guess @ 2 (38, 43), prob = 0.25\n",
      "Running file ../recommendation/images/sankalpa1_21_male_2.png\n",
      "Converting PNG to JPEG for ../recommendation/images/sankalpa1_21_male_2.png\n",
      "Running multi-cropped image\n",
      "Guess @ 1 (25, 32), prob = 0.99\n",
      "Guess @ 2 (38, 43), prob = 0.01\n",
      "Running file ../recommendation/images/mallika_51_female_1.png\n",
      "Converting PNG to JPEG for ../recommendation/images/mallika_51_female_1.png\n",
      "Running multi-cropped image\n",
      "Guess @ 1 (25, 32), prob = 0.58\n",
      "Guess @ 2 (38, 43), prob = 0.24\n",
      "Running file ../recommendation/images/Dilmi_22_female_2.png\n",
      "Converting PNG to JPEG for ../recommendation/images/Dilmi_22_female_2.png\n",
      "Running multi-cropped image\n",
      "Guess @ 1 (25, 32), prob = 0.55\n",
      "Guess @ 2 (8, 12), prob = 0.26\n",
      "Running file ../recommendation/images/sithira_22_male_2.png\n",
      "Converting PNG to JPEG for ../recommendation/images/sithira_22_male_2.png\n",
      "Running multi-cropped image\n",
      "Guess @ 1 (38, 43), prob = 0.49\n",
      "Guess @ 2 (15, 20), prob = 0.26\n",
      "Running file ../recommendation/images/Pasindu_23_male_2.png\n",
      "Converting PNG to JPEG for ../recommendation/images/Pasindu_23_male_2.png\n",
      "Running multi-cropped image\n",
      "Guess @ 1 (25, 32), prob = 0.88\n",
      "Guess @ 2 (8, 12), prob = 0.08\n",
      "Running file ../recommendation/images/Tharindu_27_Male_1.png\n",
      "Converting PNG to JPEG for ../recommendation/images/Tharindu_27_Male_1.png\n",
      "Running multi-cropped image\n",
      "Guess @ 1 (25, 32), prob = 0.69\n",
      "Guess @ 2 (15, 20), prob = 0.20\n",
      "Running file ../recommendation/images/Thisal 1_22_male_2.png\n",
      "Converting PNG to JPEG for ../recommendation/images/Thisal 1_22_male_2.png\n",
      "Running multi-cropped image\n",
      "Guess @ 1 (25, 32), prob = 0.90\n",
      "Guess @ 2 (15, 20), prob = 0.06\n",
      "Running file ../recommendation/images/Shanaka_19_male_2.png\n",
      "Converting PNG to JPEG for ../recommendation/images/Shanaka_19_male_2.png\n",
      "Running multi-cropped image\n",
      "Guess @ 1 (15, 20), prob = 0.56\n",
      "Guess @ 2 (25, 32), prob = 0.38\n",
      "Running file ../recommendation/images/Nirmani_24_female_2.png\n",
      "Converting PNG to JPEG for ../recommendation/images/Nirmani_24_female_2.png\n",
      "Running multi-cropped image\n",
      "Guess @ 1 (25, 32), prob = 0.86\n",
      "Guess @ 2 (15, 20), prob = 0.13\n",
      "Running file ../recommendation/images/Wojithma_20_female_2.png\n",
      "Converting PNG to JPEG for ../recommendation/images/Wojithma_20_female_2.png\n",
      "Running multi-cropped image\n",
      "Guess @ 1 (25, 32), prob = 0.72\n",
      "Guess @ 2 (48, 53), prob = 0.12\n",
      "Running file ../recommendation/images/sameera_32_male_1.png\n",
      "Converting PNG to JPEG for ../recommendation/images/sameera_32_male_1.png\n",
      "Running multi-cropped image\n",
      "Guess @ 1 (25, 32), prob = 0.40\n",
      "Guess @ 2 (15, 20), prob = 0.28\n",
      "Running file ../recommendation/images/Gkarunawathi_74_female_1.png\n",
      "Converting PNG to JPEG for ../recommendation/images/Gkarunawathi_74_female_1.png\n",
      "Running multi-cropped image\n",
      "Guess @ 1 (38, 43), prob = 0.84\n",
      "Guess @ 2 (25, 32), prob = 0.07\n",
      "Running file ../recommendation/images/Anjalee-22-Female_1.png\n",
      "Converting PNG to JPEG for ../recommendation/images/Anjalee-22-Female_1.png\n",
      "Running multi-cropped image\n",
      "Guess @ 1 (15, 20), prob = 0.47\n",
      "Guess @ 2 (8, 12), prob = 0.25\n",
      "Running file ../recommendation/images/Nilanthi_50_Female_1.png\n",
      "Converting PNG to JPEG for ../recommendation/images/Nilanthi_50_Female_1.png\n",
      "Running multi-cropped image\n",
      "Guess @ 1 (25, 32), prob = 0.66\n",
      "Guess @ 2 (38, 43), prob = 0.23\n",
      "Running file ../recommendation/images/raveesha_male_16_1.png\n",
      "Converting PNG to JPEG for ../recommendation/images/raveesha_male_16_1.png\n",
      "Running multi-cropped image\n",
      "Guess @ 1 (15, 20), prob = 0.48\n",
      "Guess @ 2 (38, 43), prob = 0.30\n",
      "Running file ../recommendation/images/sadula_22_male_1.png\n",
      "Converting PNG to JPEG for ../recommendation/images/sadula_22_male_1.png\n",
      "Running multi-cropped image\n",
      "Guess @ 1 (25, 32), prob = 0.86\n",
      "Guess @ 2 (38, 43), prob = 0.10\n",
      "Running file ../recommendation/images/jeewantha01_1.png\n",
      "Converting PNG to JPEG for ../recommendation/images/jeewantha01_1.png\n",
      "Running multi-cropped image\n",
      "Guess @ 1 (15, 20), prob = 0.63\n",
      "Guess @ 2 (25, 32), prob = 0.28\n",
      "Running file ../recommendation/images/Harison_87_m_1.png\n",
      "Converting PNG to JPEG for ../recommendation/images/Harison_87_m_1.png\n",
      "Running multi-cropped image\n",
      "Guess @ 1 (38, 43), prob = 0.72\n",
      "Guess @ 2 (48, 53), prob = 0.19\n",
      "Running file ../recommendation/images/Anusha_56_f_2.png\n",
      "Converting PNG to JPEG for ../recommendation/images/Anusha_56_f_2.png\n",
      "Running multi-cropped image\n",
      "Guess @ 1 (25, 32), prob = 0.66\n",
      "Guess @ 2 (38, 43), prob = 0.18\n",
      "Running file ../recommendation/images/Oshadie_24_female_2.png\n",
      "Converting PNG to JPEG for ../recommendation/images/Oshadie_24_female_2.png\n",
      "Running multi-cropped image\n",
      "Guess @ 1 (25, 32), prob = 0.83\n",
      "Guess @ 2 (15, 20), prob = 0.16\n",
      "Running file ../recommendation/images/samanthi_48_female_2.png\n",
      "Converting PNG to JPEG for ../recommendation/images/samanthi_48_female_2.png\n",
      "Running multi-cropped image\n",
      "Guess @ 1 (25, 32), prob = 0.82\n",
      "Guess @ 2 (48, 53), prob = 0.14\n",
      "Running file ../recommendation/images/ravindu_23_male_2.png\n",
      "Converting PNG to JPEG for ../recommendation/images/ravindu_23_male_2.png\n",
      "Running multi-cropped image\n",
      "Guess @ 1 (25, 32), prob = 0.92\n",
      "Guess @ 2 (38, 43), prob = 0.07\n",
      "Running file ../recommendation/images/Thushan_25_Male_2.png\n",
      "Converting PNG to JPEG for ../recommendation/images/Thushan_25_Male_2.png\n",
      "Running multi-cropped image\n",
      "Guess @ 1 (38, 43), prob = 0.65\n",
      "Guess @ 2 (48, 53), prob = 0.16\n",
      "Running file ../recommendation/images/milith_23_M_1.png\n",
      "Converting PNG to JPEG for ../recommendation/images/milith_23_M_1.png\n",
      "Running multi-cropped image\n",
      "Guess @ 1 (15, 20), prob = 0.43\n",
      "Guess @ 2 (38, 43), prob = 0.36\n",
      "Running file ../recommendation/images/Jayasinghe_51_Female_2.png\n",
      "Converting PNG to JPEG for ../recommendation/images/Jayasinghe_51_Female_2.png\n",
      "Running multi-cropped image\n",
      "Guess @ 1 (25, 32), prob = 0.56\n",
      "Guess @ 2 (15, 20), prob = 0.42\n",
      "Running file ../recommendation/images/Ramesha_15_f_2.png\n",
      "Converting PNG to JPEG for ../recommendation/images/Ramesha_15_f_2.png\n",
      "Running multi-cropped image\n",
      "Guess @ 1 (25, 32), prob = 0.77\n",
      "Guess @ 2 (38, 43), prob = 0.16\n",
      "Running file ../recommendation/images/samuki_19_female_2.png\n",
      "Converting PNG to JPEG for ../recommendation/images/samuki_19_female_2.png\n"
     ]
    },
    {
     "name": "stdout",
     "output_type": "stream",
     "text": [
      "Running multi-cropped image\n",
      "Guess @ 1 (25, 32), prob = 0.99\n",
      "Guess @ 2 (15, 20), prob = 0.00\n",
      "Running file ../recommendation/images/enoka_53_female_1.png\n",
      "Converting PNG to JPEG for ../recommendation/images/enoka_53_female_1.png\n",
      "Running multi-cropped image\n",
      "Guess @ 1 (38, 43), prob = 0.67\n",
      "Guess @ 2 (25, 32), prob = 0.25\n",
      "Running file ../recommendation/images/Haritha_22_male_2.png\n",
      "Converting PNG to JPEG for ../recommendation/images/Haritha_22_male_2.png\n",
      "Running multi-cropped image\n",
      "Guess @ 1 (15, 20), prob = 0.69\n",
      "Guess @ 2 (25, 32), prob = 0.31\n",
      "Running file ../recommendation/images/Deshani_24_F_2.png\n",
      "Converting PNG to JPEG for ../recommendation/images/Deshani_24_F_2.png\n",
      "Running multi-cropped image\n",
      "Guess @ 1 (25, 32), prob = 0.84\n",
      "Guess @ 2 (15, 20), prob = 0.15\n",
      "Running file ../recommendation/images/Dilmi_22_female_1.png\n",
      "Converting PNG to JPEG for ../recommendation/images/Dilmi_22_female_1.png\n",
      "Running multi-cropped image\n",
      "Guess @ 1 (15, 20), prob = 0.44\n",
      "Guess @ 2 (25, 32), prob = 0.30\n",
      "Running file ../recommendation/images/Malith_29_male_1.png\n",
      "Converting PNG to JPEG for ../recommendation/images/Malith_29_male_1.png\n",
      "Running multi-cropped image\n",
      "Guess @ 1 (25, 32), prob = 0.50\n",
      "Guess @ 2 (15, 20), prob = 0.39\n",
      "Running file ../recommendation/images/sithira_22_male_1.png\n",
      "Converting PNG to JPEG for ../recommendation/images/sithira_22_male_1.png\n",
      "Running multi-cropped image\n",
      "Guess @ 1 (38, 43), prob = 0.43\n",
      "Guess @ 2 (25, 32), prob = 0.25\n",
      "Running file ../recommendation/images/dasun_23_male_2.png\n",
      "Converting PNG to JPEG for ../recommendation/images/dasun_23_male_2.png\n",
      "Running multi-cropped image\n",
      "Guess @ 1 (25, 32), prob = 0.88\n",
      "Guess @ 2 (15, 20), prob = 0.10\n",
      "Running file ../recommendation/images/Ridmie_22_female_2.png\n",
      "Converting PNG to JPEG for ../recommendation/images/Ridmie_22_female_2.png\n",
      "Running multi-cropped image\n",
      "Guess @ 1 (15, 20), prob = 0.83\n",
      "Guess @ 2 (25, 32), prob = 0.16\n",
      "Running file ../recommendation/images/Mishara_23_M_2.png\n",
      "Converting PNG to JPEG for ../recommendation/images/Mishara_23_M_2.png\n",
      "Running multi-cropped image\n",
      "Guess @ 1 (25, 32), prob = 0.52\n",
      "Guess @ 2 (38, 43), prob = 0.30\n",
      "Running file ../recommendation/images/DImtharu_09_M_1.png\n",
      "Converting PNG to JPEG for ../recommendation/images/DImtharu_09_M_1.png\n",
      "Running multi-cropped image\n",
      "Guess @ 1 (8, 12), prob = 0.68\n",
      "Guess @ 2 (25, 32), prob = 0.26\n",
      "Running file ../recommendation/images/Venuri_22_female_2.png\n",
      "Converting PNG to JPEG for ../recommendation/images/Venuri_22_female_2.png\n",
      "Running multi-cropped image\n",
      "Guess @ 1 (15, 20), prob = 0.69\n",
      "Guess @ 2 (8, 12), prob = 0.19\n",
      "Running file ../recommendation/images/rasika_53_female_1.png\n",
      "Converting PNG to JPEG for ../recommendation/images/rasika_53_female_1.png\n",
      "Running multi-cropped image\n",
      "Guess @ 1 (25, 32), prob = 0.50\n",
      "Guess @ 2 (38, 43), prob = 0.34\n",
      "Running file ../recommendation/images/Kamani_51_female_1.png\n",
      "Converting PNG to JPEG for ../recommendation/images/Kamani_51_female_1.png\n",
      "Running multi-cropped image\n",
      "Guess @ 1 (25, 32), prob = 0.95\n",
      "Guess @ 2 (15, 20), prob = 0.05\n",
      "Running file ../recommendation/images/Lahiru_23_male_2.png\n",
      "Converting PNG to JPEG for ../recommendation/images/Lahiru_23_male_2.png\n",
      "Running multi-cropped image\n",
      "Guess @ 1 (25, 32), prob = 0.77\n",
      "Guess @ 2 (38, 43), prob = 0.17\n",
      "Running file ../recommendation/images/Himantha, 22, Male_2.png\n",
      "Converting PNG to JPEG for ../recommendation/images/Himantha, 22, Male_2.png\n",
      "Running multi-cropped image\n",
      "Guess @ 1 (38, 43), prob = 0.60\n",
      "Guess @ 2 (15, 20), prob = 0.19\n",
      "Running file ../recommendation/images/Hansi_21_female_1.png\n",
      "Converting PNG to JPEG for ../recommendation/images/Hansi_21_female_1.png\n",
      "Running multi-cropped image\n",
      "Guess @ 1 (25, 32), prob = 0.85\n",
      "Guess @ 2 (15, 20), prob = 0.10\n",
      "Running file ../recommendation/images/nirosha_46_f_2.png\n",
      "Converting PNG to JPEG for ../recommendation/images/nirosha_46_f_2.png\n",
      "Running multi-cropped image\n",
      "Guess @ 1 (25, 32), prob = 1.00\n",
      "Guess @ 2 (38, 43), prob = 0.00\n",
      "Running file ../recommendation/images/Nethmi_23_Female_1.png\n",
      "Converting PNG to JPEG for ../recommendation/images/Nethmi_23_Female_1.png\n",
      "Running multi-cropped image\n",
      "Guess @ 1 (25, 32), prob = 0.52\n",
      "Guess @ 2 (15, 20), prob = 0.45\n",
      "Running file ../recommendation/images/gavindu_21_male_1.png\n",
      "Converting PNG to JPEG for ../recommendation/images/gavindu_21_male_1.png\n",
      "Running multi-cropped image\n",
      "Guess @ 1 (25, 32), prob = 1.00\n",
      "Guess @ 2 (15, 20), prob = 0.00\n",
      "Running file ../recommendation/images/xzcxz_2.png\n",
      "Converting PNG to JPEG for ../recommendation/images/xzcxz_2.png\n",
      "Running multi-cropped image\n",
      "Guess @ 1 (25, 32), prob = 0.91\n",
      "Guess @ 2 (38, 43), prob = 0.05\n",
      "Running file ../recommendation/images/nimeshi_20_female_2.png\n",
      "Converting PNG to JPEG for ../recommendation/images/nimeshi_20_female_2.png\n",
      "Running multi-cropped image\n",
      "Guess @ 1 (25, 32), prob = 0.42\n",
      "Guess @ 2 (15, 20), prob = 0.28\n",
      "Running file ../recommendation/images/Kavishka_24_male_1.png\n",
      "Converting PNG to JPEG for ../recommendation/images/Kavishka_24_male_1.png\n",
      "Running multi-cropped image\n",
      "Guess @ 1 (25, 32), prob = 0.55\n",
      "Guess @ 2 (15, 20), prob = 0.45\n",
      "Running file ../recommendation/images/Rashmika_23_male_2.png\n",
      "Converting PNG to JPEG for ../recommendation/images/Rashmika_23_male_2.png\n",
      "Running multi-cropped image\n",
      "Guess @ 1 (48, 53), prob = 0.50\n",
      "Guess @ 2 (25, 32), prob = 0.17\n",
      "Running file ../recommendation/images/Lakshika_24_m_2.png\n",
      "Converting PNG to JPEG for ../recommendation/images/Lakshika_24_m_2.png\n",
      "Running multi-cropped image\n",
      "Guess @ 1 (25, 32), prob = 0.75\n",
      "Guess @ 2 (38, 43), prob = 0.13\n",
      "Running file ../recommendation/images/Chanumi_08_female_2.png\n",
      "Converting PNG to JPEG for ../recommendation/images/Chanumi_08_female_2.png\n",
      "Running multi-cropped image\n",
      "Guess @ 1 (38, 43), prob = 0.57\n",
      "Guess @ 2 (25, 32), prob = 0.22\n",
      "Running file ../recommendation/images/Lasindu_30_Male_2.png\n",
      "Converting PNG to JPEG for ../recommendation/images/Lasindu_30_Male_2.png\n",
      "Running multi-cropped image\n",
      "Guess @ 1 (25, 32), prob = 0.96\n",
      "Guess @ 2 (15, 20), prob = 0.03\n",
      "Running file ../recommendation/images/sankalpa_21_male_1.png\n",
      "Converting PNG to JPEG for ../recommendation/images/sankalpa_21_male_1.png\n",
      "Running multi-cropped image\n",
      "Guess @ 1 (25, 32), prob = 1.00\n",
      "Guess @ 2 (38, 43), prob = 0.00\n",
      "Running file ../recommendation/images/madumi_23_female _1.png\n",
      "Converting PNG to JPEG for ../recommendation/images/madumi_23_female _1.png\n",
      "Running multi-cropped image\n",
      "Guess @ 1 (38, 43), prob = 0.52\n",
      "Guess @ 2 (25, 32), prob = 0.34\n",
      "Running file ../recommendation/images/Malith_29_male_2.png\n",
      "Converting PNG to JPEG for ../recommendation/images/Malith_29_male_2.png\n",
      "Running multi-cropped image\n",
      "Guess @ 1 (15, 20), prob = 0.50\n",
      "Guess @ 2 (25, 32), prob = 0.49\n",
      "Running file ../recommendation/images/Vinodya_22_female_1.png\n",
      "Converting PNG to JPEG for ../recommendation/images/Vinodya_22_female_1.png\n",
      "Running multi-cropped image\n",
      "Guess @ 1 (25, 32), prob = 0.81\n",
      "Guess @ 2 (15, 20), prob = 0.17\n",
      "Running file ../recommendation/images/Lakshan 27 m_1.png\n",
      "Converting PNG to JPEG for ../recommendation/images/Lakshan 27 m_1.png\n",
      "Running multi-cropped image\n",
      "Guess @ 1 (25, 32), prob = 0.71\n",
      "Guess @ 2 (8, 12), prob = 0.11\n",
      "Running file ../recommendation/images/Ravindu_23_male_1.png\n",
      "Converting PNG to JPEG for ../recommendation/images/Ravindu_23_male_1.png\n",
      "Running multi-cropped image\n",
      "Guess @ 1 (15, 20), prob = 0.49\n",
      "Guess @ 2 (25, 32), prob = 0.27\n",
      "Running file ../recommendation/images/Kavindu__19_m_2.png\n",
      "Converting PNG to JPEG for ../recommendation/images/Kavindu__19_m_2.png\n",
      "Running multi-cropped image\n",
      "Guess @ 1 (25, 32), prob = 0.53\n",
      "Guess @ 2 (15, 20), prob = 0.34\n",
      "Running file ../recommendation/images/amana_14_female_2.png\n",
      "Converting PNG to JPEG for ../recommendation/images/amana_14_female_2.png\n",
      "Running multi-cropped image\n",
      "Guess @ 1 (25, 32), prob = 0.95\n",
      "Guess @ 2 (38, 43), prob = 0.03\n",
      "Running file ../recommendation/images/Ranji_65_F_1.png\n",
      "Converting PNG to JPEG for ../recommendation/images/Ranji_65_F_1.png\n",
      "Running multi-cropped image\n",
      "Guess @ 1 (25, 32), prob = 0.67\n",
      "Guess @ 2 (38, 43), prob = 0.27\n",
      "Running file ../recommendation/images/pramodya_15_m_1.png\n",
      "Converting PNG to JPEG for ../recommendation/images/pramodya_15_m_1.png\n",
      "Running multi-cropped image\n",
      "Guess @ 1 (25, 32), prob = 0.79\n",
      "Guess @ 2 (38, 43), prob = 0.17\n",
      "Running file ../recommendation/images/thilina_23_male_2.png\n",
      "Converting PNG to JPEG for ../recommendation/images/thilina_23_male_2.png\n"
     ]
    },
    {
     "name": "stdout",
     "output_type": "stream",
     "text": [
      "Running multi-cropped image\n",
      "Guess @ 1 (25, 32), prob = 0.76\n",
      "Guess @ 2 (15, 20), prob = 0.14\n",
      "Running file ../recommendation/images/Rochelle_36_Female_2.png\n",
      "Converting PNG to JPEG for ../recommendation/images/Rochelle_36_Female_2.png\n",
      "Running multi-cropped image\n",
      "Guess @ 1 (25, 32), prob = 0.93\n",
      "Guess @ 2 (15, 20), prob = 0.07\n",
      "Running file ../recommendation/images/sadun_20_male_1.png\n",
      "Converting PNG to JPEG for ../recommendation/images/sadun_20_male_1.png\n",
      "Running multi-cropped image\n",
      "Guess @ 1 (25, 32), prob = 0.71\n",
      "Guess @ 2 (15, 20), prob = 0.14\n",
      "Running file ../recommendation/images/Mishara_23_M_1.png\n",
      "Converting PNG to JPEG for ../recommendation/images/Mishara_23_M_1.png\n",
      "Running multi-cropped image\n",
      "Guess @ 1 (25, 32), prob = 0.43\n",
      "Guess @ 2 (38, 43), prob = 0.37\n",
      "Running file ../recommendation/images/Lakshan 27 m_2.png\n",
      "Converting PNG to JPEG for ../recommendation/images/Lakshan 27 m_2.png\n",
      "Running multi-cropped image\n",
      "Guess @ 1 (25, 32), prob = 0.87\n",
      "Guess @ 2 (8, 12), prob = 0.10\n",
      "Running file ../recommendation/images/Dilakshika_23_female_1.png\n",
      "Converting PNG to JPEG for ../recommendation/images/Dilakshika_23_female_1.png\n",
      "Running multi-cropped image\n",
      "Guess @ 1 (25, 32), prob = 1.00\n",
      "Guess @ 2 (15, 20), prob = 0.00\n",
      "Running file ../recommendation/images/Numaya_23_Female_1.png\n",
      "Converting PNG to JPEG for ../recommendation/images/Numaya_23_Female_1.png\n",
      "Running multi-cropped image\n",
      "Guess @ 1 (25, 32), prob = 0.87\n",
      "Guess @ 2 (15, 20), prob = 0.13\n",
      "Running file ../recommendation/images/sandula_22_male_1.png\n",
      "Converting PNG to JPEG for ../recommendation/images/sandula_22_male_1.png\n",
      "Running multi-cropped image\n",
      "Guess @ 1 (38, 43), prob = 0.53\n",
      "Guess @ 2 (25, 32), prob = 0.25\n",
      "Running file ../recommendation/images/Tharaka_24_male_2.png\n",
      "Converting PNG to JPEG for ../recommendation/images/Tharaka_24_male_2.png\n",
      "Running multi-cropped image\n",
      "Guess @ 1 (25, 32), prob = 0.86\n",
      "Guess @ 2 (38, 43), prob = 0.08\n",
      "Running file ../recommendation/images/Kasun_2.png\n",
      "Converting PNG to JPEG for ../recommendation/images/Kasun_2.png\n",
      "Running multi-cropped image\n",
      "Guess @ 1 (25, 32), prob = 0.88\n",
      "Guess @ 2 (48, 53), prob = 0.09\n",
      "Running file ../recommendation/images/Supun_22_Male_1.png\n",
      "Converting PNG to JPEG for ../recommendation/images/Supun_22_Male_1.png\n",
      "Running multi-cropped image\n",
      "Guess @ 1 (25, 32), prob = 0.79\n",
      "Guess @ 2 (15, 20), prob = 0.16\n",
      "Running file ../recommendation/images/Rashmie_15_f_2.png\n",
      "Converting PNG to JPEG for ../recommendation/images/Rashmie_15_f_2.png\n",
      "Running multi-cropped image\n",
      "Guess @ 1 (25, 32), prob = 0.96\n",
      "Guess @ 2 (15, 20), prob = 0.03\n",
      "Running file ../recommendation/images/Dinu_25_f_2.png\n",
      "Converting PNG to JPEG for ../recommendation/images/Dinu_25_f_2.png\n",
      "Running multi-cropped image\n",
      "Guess @ 1 (25, 32), prob = 0.96\n",
      "Guess @ 2 (15, 20), prob = 0.02\n",
      "Running file ../recommendation/images/nandana_23_male _1.png\n",
      "Converting PNG to JPEG for ../recommendation/images/nandana_23_male _1.png\n",
      "Running multi-cropped image\n",
      "Guess @ 1 (25, 32), prob = 0.54\n",
      "Guess @ 2 (38, 43), prob = 0.31\n",
      "Running file ../recommendation/images/Chathurni_21_Female_1.png\n",
      "Converting PNG to JPEG for ../recommendation/images/Chathurni_21_Female_1.png\n",
      "Running multi-cropped image\n",
      "Guess @ 1 (25, 32), prob = 0.79\n",
      "Guess @ 2 (8, 12), prob = 0.17\n",
      "Running file ../recommendation/images/nethmi_22_female_2.png\n",
      "Converting PNG to JPEG for ../recommendation/images/nethmi_22_female_2.png\n",
      "Running multi-cropped image\n",
      "Guess @ 1 (25, 32), prob = 0.98\n",
      "Guess @ 2 (8, 12), prob = 0.01\n",
      "Running file ../recommendation/images/Nethma_24_Female_2.png\n",
      "Converting PNG to JPEG for ../recommendation/images/Nethma_24_Female_2.png\n",
      "Running multi-cropped image\n",
      "Guess @ 1 (25, 32), prob = 0.99\n",
      "Guess @ 2 (15, 20), prob = 0.01\n",
      "Running file ../recommendation/images/chathurangani_35_female_2.png\n",
      "Converting PNG to JPEG for ../recommendation/images/chathurangani_35_female_2.png\n",
      "Running multi-cropped image\n",
      "Guess @ 1 (25, 32), prob = 0.44\n",
      "Guess @ 2 (38, 43), prob = 0.34\n",
      "Running file ../recommendation/images/Nawod_23_male_2.png\n",
      "Converting PNG to JPEG for ../recommendation/images/Nawod_23_male_2.png\n",
      "Running multi-cropped image\n",
      "Guess @ 1 (8, 12), prob = 0.47\n",
      "Guess @ 2 (25, 32), prob = 0.33\n",
      "Running file ../recommendation/images/Nipuna_25_male_1.png\n",
      "Converting PNG to JPEG for ../recommendation/images/Nipuna_25_male_1.png\n",
      "Running multi-cropped image\n",
      "Guess @ 1 (25, 32), prob = 0.56\n",
      "Guess @ 2 (15, 20), prob = 0.39\n",
      "Running file ../recommendation/images/Piyumi_24_F_2.png\n",
      "Converting PNG to JPEG for ../recommendation/images/Piyumi_24_F_2.png\n",
      "Running multi-cropped image\n",
      "Guess @ 1 (8, 12), prob = 0.63\n",
      "Guess @ 2 (25, 32), prob = 0.27\n",
      "Running file ../recommendation/images/nalika_54_female_1.png\n",
      "Converting PNG to JPEG for ../recommendation/images/nalika_54_female_1.png\n",
      "Running multi-cropped image\n",
      "Guess @ 1 (25, 32), prob = 0.39\n",
      "Guess @ 2 (15, 20), prob = 0.24\n",
      "Running file ../recommendation/images/enoka_53_female_2.png\n",
      "Converting PNG to JPEG for ../recommendation/images/enoka_53_female_2.png\n",
      "Running multi-cropped image\n",
      "Guess @ 1 (38, 43), prob = 0.73\n",
      "Guess @ 2 (25, 32), prob = 0.21\n",
      "Running file ../recommendation/images/Koshana_23_Male_2.png\n",
      "Converting PNG to JPEG for ../recommendation/images/Koshana_23_Male_2.png\n",
      "Running multi-cropped image\n",
      "Guess @ 1 (25, 32), prob = 0.72\n",
      "Guess @ 2 (38, 43), prob = 0.24\n",
      "Running file ../recommendation/images/nimsara1_21_male_1.png\n",
      "Converting PNG to JPEG for ../recommendation/images/nimsara1_21_male_1.png\n",
      "Running multi-cropped image\n",
      "Guess @ 1 (25, 32), prob = 0.75\n",
      "Guess @ 2 (15, 20), prob = 0.18\n",
      "Running file ../recommendation/images/test_2.png\n",
      "Converting PNG to JPEG for ../recommendation/images/test_2.png\n",
      "Running multi-cropped image\n",
      "Guess @ 1 (25, 32), prob = 0.47\n",
      "Guess @ 2 (38, 43), prob = 0.43\n",
      "Running file ../recommendation/images/sandali_23_female_2.png\n",
      "Converting PNG to JPEG for ../recommendation/images/sandali_23_female_2.png\n",
      "Running multi-cropped image\n",
      "Guess @ 1 (25, 32), prob = 0.98\n",
      "Guess @ 2 (15, 20), prob = 0.02\n",
      "Running file ../recommendation/images/hj_1.png\n",
      "Converting PNG to JPEG for ../recommendation/images/hj_1.png\n",
      "Running multi-cropped image\n",
      "Guess @ 1 (25, 32), prob = 0.95\n",
      "Guess @ 2 (48, 53), prob = 0.03\n",
      "Running file ../recommendation/images/nimsara1_21_male_2.png\n",
      "Converting PNG to JPEG for ../recommendation/images/nimsara1_21_male_2.png\n",
      "Running multi-cropped image\n",
      "Guess @ 1 (25, 32), prob = 0.39\n",
      "Guess @ 2 (15, 20), prob = 0.32\n",
      "Running file ../recommendation/images/ariyavathi_56_female_2.png\n",
      "Converting PNG to JPEG for ../recommendation/images/ariyavathi_56_female_2.png\n",
      "Running multi-cropped image\n",
      "Guess @ 1 (25, 32), prob = 0.54\n",
      "Guess @ 2 (38, 43), prob = 0.32\n",
      "Running file ../recommendation/images/Chathurni_21_Female_2.png\n",
      "Converting PNG to JPEG for ../recommendation/images/Chathurni_21_Female_2.png\n",
      "Running multi-cropped image\n",
      "Guess @ 1 (25, 32), prob = 0.78\n",
      "Guess @ 2 (8, 12), prob = 0.14\n",
      "Running file ../recommendation/images/gavindu2_20_male_2.png\n",
      "Converting PNG to JPEG for ../recommendation/images/gavindu2_20_male_2.png\n",
      "Running multi-cropped image\n",
      "Guess @ 1 (25, 32), prob = 0.42\n",
      "Guess @ 2 (8, 12), prob = 0.16\n",
      "Running file ../recommendation/images/Kamani_51_female_2.png\n",
      "Converting PNG to JPEG for ../recommendation/images/Kamani_51_female_2.png\n",
      "Running multi-cropped image\n",
      "Guess @ 1 (25, 32), prob = 0.98\n",
      "Guess @ 2 (15, 20), prob = 0.02\n",
      "Running file ../recommendation/images/Nethmi_23_Female_2.png\n",
      "Converting PNG to JPEG for ../recommendation/images/Nethmi_23_Female_2.png\n",
      "Running multi-cropped image\n",
      "Guess @ 1 (25, 32), prob = 0.52\n",
      "Guess @ 2 (15, 20), prob = 0.44\n",
      "Running file ../recommendation/images/Dinuka_17_male_1.png\n",
      "Converting PNG to JPEG for ../recommendation/images/Dinuka_17_male_1.png\n",
      "Running multi-cropped image\n",
      "Guess @ 1 (15, 20), prob = 0.70\n",
      "Guess @ 2 (25, 32), prob = 0.19\n",
      "Running file ../recommendation/images/sadun_20_male_2.png\n",
      "Converting PNG to JPEG for ../recommendation/images/sadun_20_male_2.png\n",
      "Running multi-cropped image\n",
      "Guess @ 1 (25, 32), prob = 0.94\n",
      "Guess @ 2 (38, 43), prob = 0.03\n",
      "Running file ../recommendation/images/geethanjali_41_female_1.png\n",
      "Converting PNG to JPEG for ../recommendation/images/geethanjali_41_female_1.png\n",
      "Running multi-cropped image\n",
      "Guess @ 1 (38, 43), prob = 0.55\n",
      "Guess @ 2 (25, 32), prob = 0.24\n",
      "Running file ../recommendation/images/sameera_32_male_2.png\n",
      "Converting PNG to JPEG for ../recommendation/images/sameera_32_male_2.png\n"
     ]
    },
    {
     "name": "stdout",
     "output_type": "stream",
     "text": [
      "Running multi-cropped image\n",
      "Guess @ 1 (25, 32), prob = 0.46\n",
      "Guess @ 2 (15, 20), prob = 0.25\n",
      "Running file ../recommendation/images/jeewantha01_25_male_1.png\n",
      "Converting PNG to JPEG for ../recommendation/images/jeewantha01_25_male_1.png\n",
      "Running multi-cropped image\n",
      "Guess @ 1 (25, 32), prob = 0.91\n",
      "Guess @ 2 (15, 20), prob = 0.07\n",
      "Running file ../recommendation/images/dilini_39_Female_2.png\n",
      "Converting PNG to JPEG for ../recommendation/images/dilini_39_Female_2.png\n",
      "Running multi-cropped image\n",
      "Guess @ 1 (25, 32), prob = 0.84\n",
      "Guess @ 2 (15, 20), prob = 0.07\n",
      "Running file ../recommendation/images/sachindu_23_male_1.png\n",
      "Converting PNG to JPEG for ../recommendation/images/sachindu_23_male_1.png\n",
      "Running multi-cropped image\n",
      "Guess @ 1 (8, 12), prob = 0.53\n",
      "Guess @ 2 (15, 20), prob = 0.25\n",
      "Running file ../recommendation/images/hasitha_23_male_1.png\n",
      "Converting PNG to JPEG for ../recommendation/images/hasitha_23_male_1.png\n",
      "Running multi-cropped image\n",
      "Guess @ 1 (15, 20), prob = 0.65\n",
      "Guess @ 2 (25, 32), prob = 0.27\n",
      "Running file ../recommendation/images/test_23_male_1.png\n",
      "Converting PNG to JPEG for ../recommendation/images/test_23_male_1.png\n",
      "Running multi-cropped image\n",
      "Guess @ 1 (25, 32), prob = 0.67\n",
      "Guess @ 2 (38, 43), prob = 0.26\n",
      "Running file ../recommendation/images/Kavindi_24_female_2.png\n",
      "Converting PNG to JPEG for ../recommendation/images/Kavindi_24_female_2.png\n",
      "Running multi-cropped image\n",
      "Guess @ 1 (25, 32), prob = 0.73\n",
      "Guess @ 2 (15, 20), prob = 0.16\n",
      "Running file ../recommendation/images/Hansi_21_female_2.png\n",
      "Converting PNG to JPEG for ../recommendation/images/Hansi_21_female_2.png\n",
      "Running multi-cropped image\n",
      "Guess @ 1 (25, 32), prob = 0.69\n",
      "Guess @ 2 (15, 20), prob = 0.18\n",
      "Running file ../recommendation/images/Himashi_23_female _2.png\n",
      "Converting PNG to JPEG for ../recommendation/images/Himashi_23_female _2.png\n",
      "Running multi-cropped image\n",
      "Guess @ 1 (25, 32), prob = 0.40\n",
      "Guess @ 2 (8, 12), prob = 0.30\n",
      "Running file ../recommendation/images/Yomal_22_male_1.png\n",
      "Converting PNG to JPEG for ../recommendation/images/Yomal_22_male_1.png\n",
      "Running multi-cropped image\n",
      "Guess @ 1 (25, 32), prob = 0.64\n",
      "Guess @ 2 (15, 20), prob = 0.16\n",
      "Running file ../recommendation/images/Chulangani_26_Female_2.png\n",
      "Converting PNG to JPEG for ../recommendation/images/Chulangani_26_Female_2.png\n",
      "Running multi-cropped image\n",
      "Guess @ 1 (25, 32), prob = 0.97\n",
      "Guess @ 2 (15, 20), prob = 0.03\n",
      "Running file ../recommendation/images/Vimukthi_23_M_2.png\n",
      "Converting PNG to JPEG for ../recommendation/images/Vimukthi_23_M_2.png\n",
      "Running multi-cropped image\n",
      "Guess @ 1 (15, 20), prob = 0.62\n",
      "Guess @ 2 (25, 32), prob = 0.24\n",
      "Running file ../recommendation/images/Chamath_24_male_1.png\n",
      "Converting PNG to JPEG for ../recommendation/images/Chamath_24_male_1.png\n",
      "Running multi-cropped image\n",
      "Guess @ 1 (25, 32), prob = 0.85\n",
      "Guess @ 2 (38, 43), prob = 0.07\n",
      "Running file ../recommendation/images/Dinu_25_f_1.png\n",
      "Converting PNG to JPEG for ../recommendation/images/Dinu_25_f_1.png\n",
      "Running multi-cropped image\n",
      "Guess @ 1 (25, 32), prob = 0.89\n",
      "Guess @ 2 (15, 20), prob = 0.07\n",
      "Running file ../recommendation/images/hasitha_23_male_2.png\n",
      "Converting PNG to JPEG for ../recommendation/images/hasitha_23_male_2.png\n",
      "Running multi-cropped image\n",
      "Guess @ 1 (25, 32), prob = 0.44\n",
      "Guess @ 2 (15, 20), prob = 0.31\n",
      "Running file ../recommendation/images/Dinuka_23_male_2.png\n",
      "Converting PNG to JPEG for ../recommendation/images/Dinuka_23_male_2.png\n",
      "Running multi-cropped image\n",
      "Guess @ 1 (25, 32), prob = 0.99\n",
      "Guess @ 2 (15, 20), prob = 0.01\n",
      "Running file ../recommendation/images/Oshadie_24_female_1.png\n",
      "Converting PNG to JPEG for ../recommendation/images/Oshadie_24_female_1.png\n",
      "Running multi-cropped image\n",
      "Guess @ 1 (25, 32), prob = 0.53\n",
      "Guess @ 2 (15, 20), prob = 0.46\n",
      "Running file ../recommendation/images/rr_2.png\n",
      "Converting PNG to JPEG for ../recommendation/images/rr_2.png\n",
      "Running multi-cropped image\n",
      "Guess @ 1 (25, 32), prob = 0.95\n",
      "Guess @ 2 (48, 53), prob = 0.02\n",
      "Running file ../recommendation/images/dinil_20_male_1.png\n",
      "Converting PNG to JPEG for ../recommendation/images/dinil_20_male_1.png\n",
      "Running multi-cropped image\n",
      "Guess @ 1 (15, 20), prob = 0.72\n",
      "Guess @ 2 (25, 32), prob = 0.23\n",
      "Running file ../recommendation/images/Kanchana_52_female_1.png\n",
      "Converting PNG to JPEG for ../recommendation/images/Kanchana_52_female_1.png\n",
      "Running multi-cropped image\n",
      "Guess @ 1 (48, 53), prob = 0.63\n",
      "Guess @ 2 (38, 43), prob = 0.14\n",
      "Running file ../recommendation/images/kalshan_24_male_2.png\n",
      "Converting PNG to JPEG for ../recommendation/images/kalshan_24_male_2.png\n",
      "Running multi-cropped image\n",
      "Guess @ 1 (25, 32), prob = 0.47\n",
      "Guess @ 2 (38, 43), prob = 0.26\n",
      "Running file ../recommendation/images/nethul_15_m_2.png\n",
      "Converting PNG to JPEG for ../recommendation/images/nethul_15_m_2.png\n",
      "Running multi-cropped image\n",
      "Guess @ 1 (25, 32), prob = 0.74\n",
      "Guess @ 2 (15, 20), prob = 0.11\n",
      "Running file ../recommendation/images/Buddhika_2.png\n",
      "Converting PNG to JPEG for ../recommendation/images/Buddhika_2.png\n",
      "Running multi-cropped image\n",
      "Guess @ 1 (25, 32), prob = 0.44\n",
      "Guess @ 2 (48, 53), prob = 0.17\n",
      "Running file ../recommendation/images/Ranji_65_F_2.png\n",
      "Converting PNG to JPEG for ../recommendation/images/Ranji_65_F_2.png\n",
      "Running multi-cropped image\n",
      "Guess @ 1 (25, 32), prob = 0.62\n",
      "Guess @ 2 (38, 43), prob = 0.22\n",
      "Running file ../recommendation/images/Padma_77_F_1.png\n",
      "Converting PNG to JPEG for ../recommendation/images/Padma_77_F_1.png\n",
      "Running multi-cropped image\n",
      "Guess @ 1 (25, 32), prob = 0.34\n",
      "Guess @ 2 (15, 20), prob = 0.25\n",
      "Running file ../recommendation/images/Yasith_23_male_1.png\n",
      "Converting PNG to JPEG for ../recommendation/images/Yasith_23_male_1.png\n",
      "Running multi-cropped image\n",
      "Guess @ 1 (25, 32), prob = 0.99\n",
      "Guess @ 2 (15, 20), prob = 0.01\n",
      "Running file ../recommendation/images/Sameera_27_male_1.png\n",
      "Converting PNG to JPEG for ../recommendation/images/Sameera_27_male_1.png\n",
      "Running multi-cropped image\n",
      "Guess @ 1 (8, 12), prob = 0.41\n",
      "Guess @ 2 (38, 43), prob = 0.20\n",
      "Running file ../recommendation/images/Himantha_26_Male_1.png\n",
      "Converting PNG to JPEG for ../recommendation/images/Himantha_26_Male_1.png\n",
      "Running multi-cropped image\n",
      "Guess @ 1 (38, 43), prob = 0.49\n",
      "Guess @ 2 (25, 32), prob = 0.36\n",
      "Running file ../recommendation/images/Thilini1_25_1.png\n",
      "Converting PNG to JPEG for ../recommendation/images/Thilini1_25_1.png\n",
      "Running multi-cropped image\n",
      "Guess @ 1 (25, 32), prob = 0.66\n",
      "Guess @ 2 (8, 12), prob = 0.29\n",
      "Running file ../recommendation/images/Ranumi_9_female_2.png\n",
      "Converting PNG to JPEG for ../recommendation/images/Ranumi_9_female_2.png\n",
      "Running multi-cropped image\n",
      "Guess @ 1 (25, 32), prob = 0.77\n",
      "Guess @ 2 (15, 20), prob = 0.09\n",
      "Running file ../recommendation/images/vishvakumara_21_male_1.png\n",
      "Converting PNG to JPEG for ../recommendation/images/vishvakumara_21_male_1.png\n",
      "Running multi-cropped image\n",
      "Guess @ 1 (25, 32), prob = 0.73\n",
      "Guess @ 2 (48, 53), prob = 0.12\n",
      "Running file ../recommendation/images/Herath_51_female_2.png\n",
      "Converting PNG to JPEG for ../recommendation/images/Herath_51_female_2.png\n",
      "Running multi-cropped image\n",
      "Guess @ 1 (25, 32), prob = 0.59\n",
      "Guess @ 2 (38, 43), prob = 0.18\n",
      "Running file ../recommendation/images/Sajeewa_25_male_2.png\n",
      "Converting PNG to JPEG for ../recommendation/images/Sajeewa_25_male_2.png\n",
      "Running multi-cropped image\n",
      "Guess @ 1 (25, 32), prob = 0.97\n",
      "Guess @ 2 (15, 20), prob = 0.03\n",
      "Running file ../recommendation/images/Supun_22_Male_2.png\n",
      "Converting PNG to JPEG for ../recommendation/images/Supun_22_Male_2.png\n",
      "Running multi-cropped image\n",
      "Guess @ 1 (25, 32), prob = 0.70\n",
      "Guess @ 2 (15, 20), prob = 0.23\n",
      "Running file ../recommendation/images/Rawaar_1.png\n",
      "Converting PNG to JPEG for ../recommendation/images/Rawaar_1.png\n",
      "Running multi-cropped image\n",
      "Guess @ 1 (15, 20), prob = 0.59\n",
      "Guess @ 2 (25, 32), prob = 0.41\n",
      "Running file ../recommendation/images/Venura_23_male_2.png\n",
      "Converting PNG to JPEG for ../recommendation/images/Venura_23_male_2.png\n",
      "Running multi-cropped image\n",
      "Guess @ 1 (25, 32), prob = 0.56\n",
      "Guess @ 2 (15, 20), prob = 0.24\n",
      "Running file ../recommendation/images/Rashmika_23_male_1.png\n",
      "Converting PNG to JPEG for ../recommendation/images/Rashmika_23_male_1.png\n",
      "Running multi-cropped image\n",
      "Guess @ 1 (48, 53), prob = 0.52\n",
      "Guess @ 2 (25, 32), prob = 0.29\n",
      "Running file ../recommendation/images/Kumudu_55_female_1.png\n",
      "Converting PNG to JPEG for ../recommendation/images/Kumudu_55_female_1.png\n"
     ]
    },
    {
     "name": "stdout",
     "output_type": "stream",
     "text": [
      "Running multi-cropped image\n",
      "Guess @ 1 (38, 43), prob = 0.53\n",
      "Guess @ 2 (15, 20), prob = 0.23\n",
      "Running file ../recommendation/images/manuja_22_male_2.png\n",
      "Converting PNG to JPEG for ../recommendation/images/manuja_22_male_2.png\n",
      "Running multi-cropped image\n",
      "Guess @ 1 (25, 32), prob = 0.96\n",
      "Guess @ 2 (15, 20), prob = 0.02\n",
      "Running file ../recommendation/images/Oshadi_21_Female_1.png\n",
      "Converting PNG to JPEG for ../recommendation/images/Oshadi_21_Female_1.png\n",
      "Running multi-cropped image\n",
      "Guess @ 1 (25, 32), prob = 0.43\n",
      "Guess @ 2 (8, 12), prob = 0.30\n",
      "Running file ../recommendation/images/malani_67_female_1.png\n",
      "Converting PNG to JPEG for ../recommendation/images/malani_67_female_1.png\n",
      "Running multi-cropped image\n",
      "Guess @ 1 (25, 32), prob = 0.60\n",
      "Guess @ 2 (48, 53), prob = 0.18\n",
      "Running file ../recommendation/images/gavindu_21_male_2.png\n",
      "Converting PNG to JPEG for ../recommendation/images/gavindu_21_male_2.png\n",
      "Running multi-cropped image\n",
      "Guess @ 1 (25, 32), prob = 0.99\n",
      "Guess @ 2 (15, 20), prob = 0.00\n",
      "Running file ../recommendation/images/Udayanga_22_male_1.png\n",
      "Converting PNG to JPEG for ../recommendation/images/Udayanga_22_male_1.png\n",
      "Running multi-cropped image\n",
      "Guess @ 1 (38, 43), prob = 0.35\n",
      "Guess @ 2 (15, 20), prob = 0.25\n",
      "Running file ../recommendation/images/Ayesha_22_female_2.png\n",
      "Converting PNG to JPEG for ../recommendation/images/Ayesha_22_female_2.png\n",
      "Running multi-cropped image\n",
      "Guess @ 1 (25, 32), prob = 0.93\n",
      "Guess @ 2 (15, 20), prob = 0.06\n",
      "Running file ../recommendation/images/Irangani_73_f_1.png\n",
      "Converting PNG to JPEG for ../recommendation/images/Irangani_73_f_1.png\n",
      "Running multi-cropped image\n",
      "Guess @ 1 (15, 20), prob = 0.45\n",
      "Guess @ 2 (25, 32), prob = 0.40\n",
      "Running file ../recommendation/images/test1_1.png\n",
      "Converting PNG to JPEG for ../recommendation/images/test1_1.png\n",
      "Running multi-cropped image\n",
      "Guess @ 1 (25, 32), prob = 0.92\n",
      "Guess @ 2 (38, 43), prob = 0.04\n",
      "Running file ../recommendation/images/Sathsara_24_Male_1.png\n",
      "Converting PNG to JPEG for ../recommendation/images/Sathsara_24_Male_1.png\n",
      "Running multi-cropped image\n",
      "Guess @ 1 (25, 32), prob = 0.76\n",
      "Guess @ 2 (8, 12), prob = 0.15\n",
      "Running file ../recommendation/images/senura_15_m_1.png\n",
      "Converting PNG to JPEG for ../recommendation/images/senura_15_m_1.png\n",
      "Running multi-cropped image\n",
      "Guess @ 1 (25, 32), prob = 0.79\n",
      "Guess @ 2 (8, 12), prob = 0.11\n",
      "Running file ../recommendation/images/Hiruni_23_Female_1.png\n",
      "Converting PNG to JPEG for ../recommendation/images/Hiruni_23_Female_1.png\n",
      "Running multi-cropped image\n",
      "Guess @ 1 (25, 32), prob = 0.95\n",
      "Guess @ 2 (15, 20), prob = 0.05\n",
      "Running file ../recommendation/images/Shalitha_23_male_2.png\n",
      "Converting PNG to JPEG for ../recommendation/images/Shalitha_23_male_2.png\n",
      "Running multi-cropped image\n",
      "Guess @ 1 (25, 32), prob = 1.00\n",
      "Guess @ 2 (38, 43), prob = 0.00\n",
      "Running file ../recommendation/images/Pamudu_21_Male_1.png\n",
      "Converting PNG to JPEG for ../recommendation/images/Pamudu_21_Male_1.png\n",
      "Running multi-cropped image\n",
      "Guess @ 1 (15, 20), prob = 0.75\n",
      "Guess @ 2 (25, 32), prob = 0.22\n",
      "Running file ../recommendation/images/Dimuthu_23_Male_1.png\n",
      "Converting PNG to JPEG for ../recommendation/images/Dimuthu_23_Male_1.png\n",
      "Running multi-cropped image\n",
      "Guess @ 1 (25, 32), prob = 0.99\n",
      "Guess @ 2 (15, 20), prob = 0.01\n",
      "Running file ../recommendation/images/milith_23_M_2.png\n",
      "Converting PNG to JPEG for ../recommendation/images/milith_23_M_2.png\n",
      "Running multi-cropped image\n",
      "Guess @ 1 (15, 20), prob = 0.44\n",
      "Guess @ 2 (38, 43), prob = 0.33\n",
      "Running file ../recommendation/images/dylon_20_male_2.png\n",
      "Converting PNG to JPEG for ../recommendation/images/dylon_20_male_2.png\n",
      "Running multi-cropped image\n",
      "Guess @ 1 (25, 32), prob = 0.52\n",
      "Guess @ 2 (15, 20), prob = 0.29\n",
      "Running file ../recommendation/images/samuki_19_female_1.png\n",
      "Converting PNG to JPEG for ../recommendation/images/samuki_19_female_1.png\n",
      "Running multi-cropped image\n",
      "Guess @ 1 (25, 32), prob = 1.00\n",
      "Guess @ 2 (38, 43), prob = 0.00\n",
      "Running file ../recommendation/images/Thilini1_25_2.png\n",
      "Converting PNG to JPEG for ../recommendation/images/Thilini1_25_2.png\n",
      "Running multi-cropped image\n",
      "Guess @ 1 (8, 12), prob = 0.57\n",
      "Guess @ 2 (25, 32), prob = 0.38\n",
      "Running file ../recommendation/images/Mihiri_24_f_2.png\n",
      "Converting PNG to JPEG for ../recommendation/images/Mihiri_24_f_2.png\n",
      "Running multi-cropped image\n",
      "Guess @ 1 (25, 32), prob = 0.99\n",
      "Guess @ 2 (15, 20), prob = 0.00\n",
      "Running file ../recommendation/images/nirosha_46_f_1.png\n",
      "Converting PNG to JPEG for ../recommendation/images/nirosha_46_f_1.png\n",
      "Running multi-cropped image\n",
      "Guess @ 1 (25, 32), prob = 0.99\n",
      "Guess @ 2 (38, 43), prob = 0.00\n",
      "Running file ../recommendation/images/Oshadi_21_Female_2.png\n",
      "Converting PNG to JPEG for ../recommendation/images/Oshadi_21_Female_2.png\n",
      "Running multi-cropped image\n",
      "Guess @ 1 (25, 32), prob = 0.50\n",
      "Guess @ 2 (15, 20), prob = 0.46\n",
      "Running file ../recommendation/images/sarath_72_male_1.png\n",
      "Converting PNG to JPEG for ../recommendation/images/sarath_72_male_1.png\n",
      "Running multi-cropped image\n",
      "Guess @ 1 (25, 32), prob = 0.60\n",
      "Guess @ 2 (48, 53), prob = 0.18\n",
      "Running file ../recommendation/images/aravindi_25_female_1.png\n",
      "Converting PNG to JPEG for ../recommendation/images/aravindi_25_female_1.png\n",
      "Running multi-cropped image\n",
      "Guess @ 1 (25, 32), prob = 0.63\n",
      "Guess @ 2 (15, 20), prob = 0.21\n",
      "Running file ../recommendation/images/tharindra_28_female_1.png\n",
      "Converting PNG to JPEG for ../recommendation/images/tharindra_28_female_1.png\n",
      "Running multi-cropped image\n",
      "Guess @ 1 (8, 12), prob = 0.68\n",
      "Guess @ 2 (15, 20), prob = 0.20\n",
      "Running file ../recommendation/images/Kavishka_24_male_2.png\n",
      "Converting PNG to JPEG for ../recommendation/images/Kavishka_24_male_2.png\n",
      "Running multi-cropped image\n",
      "Guess @ 1 (25, 32), prob = 0.86\n",
      "Guess @ 2 (15, 20), prob = 0.12\n",
      "Running file ../recommendation/images/Tharaka_24_male_1.png\n",
      "Converting PNG to JPEG for ../recommendation/images/Tharaka_24_male_1.png\n",
      "Running multi-cropped image\n",
      "Guess @ 1 (25, 32), prob = 0.83\n",
      "Guess @ 2 (38, 43), prob = 0.10\n",
      "Running file ../recommendation/images/Sanuli_12_female_1.png\n",
      "Converting PNG to JPEG for ../recommendation/images/Sanuli_12_female_1.png\n",
      "Running multi-cropped image\n",
      "Guess @ 1 (25, 32), prob = 0.54\n",
      "Guess @ 2 (38, 43), prob = 0.29\n",
      "Running file ../recommendation/images/sankalpa1_21_male_1.png\n",
      "Converting PNG to JPEG for ../recommendation/images/sankalpa1_21_male_1.png\n",
      "Running multi-cropped image\n",
      "Guess @ 1 (25, 32), prob = 0.99\n",
      "Guess @ 2 (38, 43), prob = 0.01\n",
      "Running file ../recommendation/images/aravindi_25_female_2.png\n",
      "Converting PNG to JPEG for ../recommendation/images/aravindi_25_female_2.png\n",
      "Running multi-cropped image\n",
      "Guess @ 1 (25, 32), prob = 0.59\n",
      "Guess @ 2 (38, 43), prob = 0.27\n",
      "Running file ../recommendation/images/madumi_23_female _2.png\n",
      "Converting PNG to JPEG for ../recommendation/images/madumi_23_female _2.png\n",
      "Running multi-cropped image\n",
      "Guess @ 1 (38, 43), prob = 0.55\n",
      "Guess @ 2 (25, 32), prob = 0.37\n",
      "Running file ../recommendation/images/Venuri_22_female_1.png\n",
      "Converting PNG to JPEG for ../recommendation/images/Venuri_22_female_1.png\n",
      "Running multi-cropped image\n",
      "Guess @ 1 (15, 20), prob = 0.77\n",
      "Guess @ 2 (8, 12), prob = 0.19\n",
      "Running file ../recommendation/images/sarath_72_male_2.png\n",
      "Converting PNG to JPEG for ../recommendation/images/sarath_72_male_2.png\n",
      "Running multi-cropped image\n",
      "Guess @ 1 (25, 32), prob = 0.73\n",
      "Guess @ 2 (48, 53), prob = 0.12\n",
      "Running file ../recommendation/images/Thathsarani_24_f_1.png\n",
      "Converting PNG to JPEG for ../recommendation/images/Thathsarani_24_f_1.png\n",
      "Running multi-cropped image\n",
      "Guess @ 1 (25, 32), prob = 0.58\n",
      "Guess @ 2 (15, 20), prob = 0.17\n",
      "Running file ../recommendation/images/Sriyani_55_female_1.png\n",
      "Converting PNG to JPEG for ../recommendation/images/Sriyani_55_female_1.png\n",
      "Running multi-cropped image\n",
      "Guess @ 1 (25, 32), prob = 0.54\n",
      "Guess @ 2 (38, 43), prob = 0.31\n",
      "Running file ../recommendation/images/test123_1.png\n",
      "Converting PNG to JPEG for ../recommendation/images/test123_1.png\n",
      "Running multi-cropped image\n",
      "Guess @ 1 (25, 32), prob = 0.88\n",
      "Guess @ 2 (15, 20), prob = 0.09\n",
      "Running file ../recommendation/images/dasun_23_male_1.png\n",
      "Converting PNG to JPEG for ../recommendation/images/dasun_23_male_1.png\n",
      "Running multi-cropped image\n",
      "Guess @ 1 (25, 32), prob = 0.68\n",
      "Guess @ 2 (15, 20), prob = 0.29\n",
      "Running file ../recommendation/images/Nayanathara_25_ female _1.png\n",
      "Converting PNG to JPEG for ../recommendation/images/Nayanathara_25_ female _1.png\n"
     ]
    },
    {
     "name": "stdout",
     "output_type": "stream",
     "text": [
      "Running multi-cropped image\n",
      "Guess @ 1 (25, 32), prob = 0.70\n",
      "Guess @ 2 (38, 43), prob = 0.28\n",
      "Running file ../recommendation/images/nimsara_21_male_2.png\n",
      "Converting PNG to JPEG for ../recommendation/images/nimsara_21_male_2.png\n",
      "Running multi-cropped image\n",
      "Guess @ 1 (15, 20), prob = 0.36\n",
      "Guess @ 2 (25, 32), prob = 0.32\n",
      "Running file ../recommendation/images/Dinuka_17_male_2.png\n",
      "Converting PNG to JPEG for ../recommendation/images/Dinuka_17_male_2.png\n",
      "Running multi-cropped image\n",
      "Guess @ 1 (15, 20), prob = 0.74\n",
      "Guess @ 2 (25, 32), prob = 0.13\n",
      "Running file ../recommendation/images/Sandul_23_male_2.png\n",
      "Converting PNG to JPEG for ../recommendation/images/Sandul_23_male_2.png\n",
      "Running multi-cropped image\n",
      "Guess @ 1 (15, 20), prob = 0.95\n",
      "Guess @ 2 (25, 32), prob = 0.05\n",
      "Running file ../recommendation/images/Akasha_12_Female_2.png\n",
      "Converting PNG to JPEG for ../recommendation/images/Akasha_12_Female_2.png\n",
      "Running multi-cropped image\n",
      "Guess @ 1 (25, 32), prob = 0.54\n",
      "Guess @ 2 (38, 43), prob = 0.30\n",
      "Running file ../recommendation/images/geethanjali_41_female_2.png\n",
      "Converting PNG to JPEG for ../recommendation/images/geethanjali_41_female_2.png\n",
      "Running multi-cropped image\n",
      "Guess @ 1 (38, 43), prob = 0.48\n",
      "Guess @ 2 (25, 32), prob = 0.35\n",
      "Running file ../recommendation/images/sadula_22_,ale_1.png\n",
      "Converting PNG to JPEG for ../recommendation/images/sadula_22_,ale_1.png\n",
      "Running multi-cropped image\n",
      "Guess @ 1 (25, 32), prob = 0.89\n",
      "Guess @ 2 (38, 43), prob = 0.08\n",
      "Running file ../recommendation/images/rasika_53_female_2.png\n",
      "Converting PNG to JPEG for ../recommendation/images/rasika_53_female_2.png\n",
      "Running multi-cropped image\n",
      "Guess @ 1 (25, 32), prob = 0.68\n",
      "Guess @ 2 (38, 43), prob = 0.19\n",
      "Running file ../recommendation/images/champica_52_female_1.png\n",
      "Converting PNG to JPEG for ../recommendation/images/champica_52_female_1.png\n",
      "Running multi-cropped image\n",
      "Guess @ 1 (38, 43), prob = 0.76\n",
      "Guess @ 2 (25, 32), prob = 0.13\n",
      "Running file ../recommendation/images/Padma_77_F_2.png\n",
      "Converting PNG to JPEG for ../recommendation/images/Padma_77_F_2.png\n",
      "Running multi-cropped image\n",
      "Guess @ 1 (15, 20), prob = 0.31\n",
      "Guess @ 2 (38, 43), prob = 0.27\n",
      "Running file ../recommendation/images/Udayanga_22_male_2.png\n",
      "Converting PNG to JPEG for ../recommendation/images/Udayanga_22_male_2.png\n",
      "Running multi-cropped image\n",
      "Guess @ 1 (15, 20), prob = 0.32\n",
      "Guess @ 2 (38, 43), prob = 0.21\n",
      "Running file ../recommendation/images/Deshani_24_Female_2.png\n",
      "Converting PNG to JPEG for ../recommendation/images/Deshani_24_Female_2.png\n",
      "Running multi-cropped image\n",
      "Guess @ 1 (25, 32), prob = 1.00\n",
      "Guess @ 2 (8, 12), prob = 0.00\n",
      "Running file ../recommendation/images/Rithma_22_Female_2.png\n",
      "Converting PNG to JPEG for ../recommendation/images/Rithma_22_Female_2.png\n",
      "Running multi-cropped image\n",
      "Guess @ 1 (15, 20), prob = 0.86\n",
      "Guess @ 2 (25, 32), prob = 0.14\n",
      "Running file ../recommendation/images/Nethmi_19_Female_1.png\n",
      "Converting PNG to JPEG for ../recommendation/images/Nethmi_19_Female_1.png\n",
      "Running multi-cropped image\n",
      "Guess @ 1 (15, 20), prob = 0.89\n",
      "Guess @ 2 (38, 43), prob = 0.06\n",
      "Running file ../recommendation/images/Nawod_23_male_1.png\n",
      "Converting PNG to JPEG for ../recommendation/images/Nawod_23_male_1.png\n",
      "Running multi-cropped image\n",
      "Guess @ 1 (8, 12), prob = 0.48\n",
      "Guess @ 2 (25, 32), prob = 0.29\n",
      "Running file ../recommendation/images/Dinukthi_22_Female_2.png\n",
      "Converting PNG to JPEG for ../recommendation/images/Dinukthi_22_Female_2.png\n",
      "Running multi-cropped image\n",
      "Guess @ 1 (25, 32), prob = 0.91\n",
      "Guess @ 2 (48, 53), prob = 0.05\n",
      "Running file ../recommendation/images/Dulmini_23__female_1.png\n",
      "Converting PNG to JPEG for ../recommendation/images/Dulmini_23__female_1.png\n",
      "Running multi-cropped image\n",
      "Guess @ 1 (25, 32), prob = 0.97\n",
      "Guess @ 2 (38, 43), prob = 0.02\n",
      "Running file ../recommendation/images/Yashmitha_23_Female_1.png\n",
      "Converting PNG to JPEG for ../recommendation/images/Yashmitha_23_Female_1.png\n",
      "Running multi-cropped image\n",
      "Guess @ 1 (25, 32), prob = 0.87\n",
      "Guess @ 2 (15, 20), prob = 0.08\n",
      "Running file ../recommendation/images/Omethma_12_female_2.png\n",
      "Converting PNG to JPEG for ../recommendation/images/Omethma_12_female_2.png\n",
      "Running multi-cropped image\n",
      "Guess @ 1 (25, 32), prob = 0.43\n",
      "Guess @ 2 (38, 43), prob = 0.34\n",
      "Running file ../recommendation/images/Kinsly_75_M_1.png\n",
      "Converting PNG to JPEG for ../recommendation/images/Kinsly_75_M_1.png\n",
      "Running multi-cropped image\n",
      "Guess @ 1 (48, 53), prob = 0.36\n",
      "Guess @ 2 (15, 20), prob = 0.29\n",
      "Running file ../recommendation/images/Haritha_22_male_1.png\n",
      "Converting PNG to JPEG for ../recommendation/images/Haritha_22_male_1.png\n",
      "Running multi-cropped image\n",
      "Guess @ 1 (25, 32), prob = 0.53\n",
      "Guess @ 2 (15, 20), prob = 0.47\n",
      "Running file ../recommendation/images/pramodya_16_m_1.png\n",
      "Converting PNG to JPEG for ../recommendation/images/pramodya_16_m_1.png\n",
      "Running multi-cropped image\n",
      "Guess @ 1 (15, 20), prob = 0.74\n",
      "Guess @ 2 (25, 32), prob = 0.11\n",
      "Running file ../recommendation/images/Sajith_28_male_1.png\n",
      "Converting PNG to JPEG for ../recommendation/images/Sajith_28_male_1.png\n",
      "Running multi-cropped image\n",
      "Guess @ 1 (25, 32), prob = 0.50\n",
      "Guess @ 2 (8, 12), prob = 0.34\n",
      "Running file ../recommendation/images/ashinsana_20_male_2.png\n",
      "Converting PNG to JPEG for ../recommendation/images/ashinsana_20_male_2.png\n",
      "Running multi-cropped image\n",
      "Guess @ 1 (15, 20), prob = 0.58\n",
      "Guess @ 2 (25, 32), prob = 0.37\n",
      "Running file ../recommendation/images/Lal_64_M_1.png\n",
      "Converting PNG to JPEG for ../recommendation/images/Lal_64_M_1.png\n",
      "Running multi-cropped image\n",
      "Guess @ 1 (25, 32), prob = 0.67\n",
      "Guess @ 2 (38, 43), prob = 0.27\n",
      "Running file ../recommendation/images/Nethmi_19_Female_2.png\n",
      "Converting PNG to JPEG for ../recommendation/images/Nethmi_19_Female_2.png\n",
      "Running multi-cropped image\n",
      "Guess @ 1 (15, 20), prob = 0.92\n",
      "Guess @ 2 (38, 43), prob = 0.04\n",
      "Running file ../recommendation/images/supun_23_male_1.png\n",
      "Converting PNG to JPEG for ../recommendation/images/supun_23_male_1.png\n",
      "Running multi-cropped image\n",
      "Guess @ 1 (25, 32), prob = 0.71\n",
      "Guess @ 2 (15, 20), prob = 0.14\n",
      "Running file ../recommendation/images/lakshan1_24_male_2.png\n",
      "Converting PNG to JPEG for ../recommendation/images/lakshan1_24_male_2.png\n",
      "Running multi-cropped image\n",
      "Guess @ 1 (25, 32), prob = 0.36\n",
      "Guess @ 2 (48, 53), prob = 0.30\n",
      "Running file ../recommendation/images/Sanuli_12_female_2.png\n",
      "Converting PNG to JPEG for ../recommendation/images/Sanuli_12_female_2.png\n",
      "Running multi-cropped image\n",
      "Guess @ 1 (25, 32), prob = 0.79\n",
      "Guess @ 2 (38, 43), prob = 0.10\n",
      "Running file ../recommendation/images/Himantha, 22, Male_1.png\n",
      "Converting PNG to JPEG for ../recommendation/images/Himantha, 22, Male_1.png\n",
      "Running multi-cropped image\n",
      "Guess @ 1 (38, 43), prob = 0.85\n",
      "Guess @ 2 (25, 32), prob = 0.09\n",
      "Running file ../recommendation/images/Nirmal_23_male_2.png\n",
      "Converting PNG to JPEG for ../recommendation/images/Nirmal_23_male_2.png\n",
      "Running multi-cropped image\n",
      "Guess @ 1 (48, 53), prob = 0.36\n",
      "Guess @ 2 (25, 32), prob = 0.26\n",
      "Running file ../recommendation/images/Akasha_12_Female_1.png\n",
      "Converting PNG to JPEG for ../recommendation/images/Akasha_12_Female_1.png\n",
      "Running multi-cropped image\n",
      "Guess @ 1 (25, 32), prob = 0.45\n",
      "Guess @ 2 (38, 43), prob = 0.35\n",
      "Running file ../recommendation/images/Nirmani_24_female_1.png\n",
      "Converting PNG to JPEG for ../recommendation/images/Nirmani_24_female_1.png\n",
      "Running multi-cropped image\n",
      "Guess @ 1 (25, 32), prob = 0.96\n",
      "Guess @ 2 (15, 20), prob = 0.04\n",
      "Running file ../recommendation/images/Lasindu_30_Male_1.png\n",
      "Converting PNG to JPEG for ../recommendation/images/Lasindu_30_Male_1.png\n",
      "Running multi-cropped image\n",
      "Guess @ 1 (25, 32), prob = 0.99\n",
      "Guess @ 2 (38, 43), prob = 0.01\n",
      "Running file ../recommendation/images/Kasun_1.png\n",
      "Converting PNG to JPEG for ../recommendation/images/Kasun_1.png\n",
      "Running multi-cropped image\n",
      "Guess @ 1 (25, 32), prob = 0.59\n",
      "Guess @ 2 (48, 53), prob = 0.35\n",
      "Running file ../recommendation/images/Meth_11_male_1.png\n",
      "Converting PNG to JPEG for ../recommendation/images/Meth_11_male_1.png\n",
      "Running multi-cropped image\n",
      "Guess @ 1 (15, 20), prob = 0.63\n",
      "Guess @ 2 (25, 32), prob = 0.20\n",
      "Running file ../recommendation/images/Ravihari_25_Female_2.png\n",
      "Converting PNG to JPEG for ../recommendation/images/Ravihari_25_Female_2.png\n",
      "Running multi-cropped image\n",
      "Guess @ 1 (25, 32), prob = 1.00\n",
      "Guess @ 2 (15, 20), prob = 0.00\n",
      "Running file ../recommendation/images/sandula_22_male_2.png\n",
      "Converting PNG to JPEG for ../recommendation/images/sandula_22_male_2.png\n"
     ]
    },
    {
     "name": "stdout",
     "output_type": "stream",
     "text": [
      "Running multi-cropped image\n",
      "Guess @ 1 (38, 43), prob = 0.53\n",
      "Guess @ 2 (25, 32), prob = 0.25\n",
      "Running file ../recommendation/images/Thisal_22_male_2.png\n",
      "Converting PNG to JPEG for ../recommendation/images/Thisal_22_male_2.png\n",
      "Running multi-cropped image\n",
      "Guess @ 1 (25, 32), prob = 0.98\n",
      "Guess @ 2 (15, 20), prob = 0.02\n",
      "Running file ../recommendation/images/Ranula_24_M_1.png\n",
      "Converting PNG to JPEG for ../recommendation/images/Ranula_24_M_1.png\n",
      "Running multi-cropped image\n",
      "Guess @ 1 (25, 32), prob = 1.00\n",
      "Guess @ 2 (15, 20), prob = 0.00\n",
      "Running file ../recommendation/images/dewdun_15_m_1.png\n",
      "Converting PNG to JPEG for ../recommendation/images/dewdun_15_m_1.png\n",
      "Running multi-cropped image\n",
      "Guess @ 1 (15, 20), prob = 0.57\n",
      "Guess @ 2 (25, 32), prob = 0.39\n",
      "Running file ../recommendation/images/pubudu_23_male_2.png\n",
      "Converting PNG to JPEG for ../recommendation/images/pubudu_23_male_2.png\n",
      "Running multi-cropped image\n",
      "Guess @ 1 (38, 43), prob = 0.55\n",
      "Guess @ 2 (25, 32), prob = 0.26\n",
      "Running file ../recommendation/images/amana_14_female_1.png\n",
      "Converting PNG to JPEG for ../recommendation/images/amana_14_female_1.png\n",
      "Running multi-cropped image\n",
      "Guess @ 1 (25, 32), prob = 0.96\n",
      "Guess @ 2 (38, 43), prob = 0.02\n",
      "Running file ../recommendation/images/Dulanjani_2.png\n",
      "Converting PNG to JPEG for ../recommendation/images/Dulanjani_2.png\n",
      "Running multi-cropped image\n",
      "Guess @ 1 (38, 43), prob = 0.65\n",
      "Guess @ 2 (48, 53), prob = 0.16\n",
      "Running file ../recommendation/images/Anusha_56_f_1.png\n",
      "Converting PNG to JPEG for ../recommendation/images/Anusha_56_f_1.png\n",
      "Running multi-cropped image\n",
      "Guess @ 1 (25, 32), prob = 0.60\n",
      "Guess @ 2 (38, 43), prob = 0.23\n",
      "Running file ../recommendation/images/Sriyani_55_female_2.png\n",
      "Converting PNG to JPEG for ../recommendation/images/Sriyani_55_female_2.png\n",
      "Running multi-cropped image\n",
      "Guess @ 1 (25, 32), prob = 0.34\n",
      "Guess @ 2 (0, 2), prob = 0.20\n",
      "Running file ../recommendation/images/kaushalya_23_Female_2.png\n",
      "Converting PNG to JPEG for ../recommendation/images/kaushalya_23_Female_2.png\n",
      "Running multi-cropped image\n",
      "Guess @ 1 (38, 43), prob = 0.65\n",
      "Guess @ 2 (48, 53), prob = 0.16\n",
      "Running file ../recommendation/images/Senura_24_Male_1.png\n",
      "Converting PNG to JPEG for ../recommendation/images/Senura_24_Male_1.png\n",
      "Running multi-cropped image\n",
      "Guess @ 1 (25, 32), prob = 0.53\n",
      "Guess @ 2 (15, 20), prob = 0.44\n",
      "Running file ../recommendation/images/Himashi_23_female _1.png\n",
      "Converting PNG to JPEG for ../recommendation/images/Himashi_23_female _1.png\n",
      "Running multi-cropped image\n",
      "Guess @ 1 (25, 32), prob = 0.50\n",
      "Guess @ 2 (15, 20), prob = 0.25\n",
      "Running file ../recommendation/images/Chathupama_23_female_1.png\n",
      "Converting PNG to JPEG for ../recommendation/images/Chathupama_23_female_1.png\n",
      "Running multi-cropped image\n",
      "Guess @ 1 (25, 32), prob = 0.72\n",
      "Guess @ 2 (15, 20), prob = 0.27\n",
      "Running file ../recommendation/images/Vishwa_16_m_2.png\n",
      "Converting PNG to JPEG for ../recommendation/images/Vishwa_16_m_2.png\n",
      "Running multi-cropped image\n",
      "Guess @ 1 (25, 32), prob = 0.71\n",
      "Guess @ 2 (48, 53), prob = 0.18\n",
      "Running file ../recommendation/images/DImtharu_09_M_2.png\n",
      "Converting PNG to JPEG for ../recommendation/images/DImtharu_09_M_2.png\n",
      "Running multi-cropped image\n",
      "Guess @ 1 (8, 12), prob = 0.71\n",
      "Guess @ 2 (25, 32), prob = 0.25\n",
      "Running file ../recommendation/images/senura_15_m_2.png\n",
      "Converting PNG to JPEG for ../recommendation/images/senura_15_m_2.png\n",
      "Running multi-cropped image\n",
      "Guess @ 1 (25, 32), prob = 0.63\n",
      "Guess @ 2 (15, 20), prob = 0.27\n",
      "Running file ../recommendation/images/Jayasinghe_51_Female_1.png\n",
      "Converting PNG to JPEG for ../recommendation/images/Jayasinghe_51_Female_1.png\n",
      "Running multi-cropped image\n",
      "Guess @ 1 (25, 32), prob = 0.57\n",
      "Guess @ 2 (15, 20), prob = 0.40\n",
      "Running file ../recommendation/images/Desilva_23_M_2.png\n",
      "Converting PNG to JPEG for ../recommendation/images/Desilva_23_M_2.png\n",
      "Running multi-cropped image\n",
      "Guess @ 1 (25, 32), prob = 0.98\n",
      "Guess @ 2 (15, 20), prob = 0.01\n",
      "Running file ../recommendation/images/Dilith_24_Male_1.png\n",
      "Converting PNG to JPEG for ../recommendation/images/Dilith_24_Male_1.png\n",
      "Running multi-cropped image\n",
      "Guess @ 1 (15, 20), prob = 0.41\n",
      "Guess @ 2 (25, 32), prob = 0.30\n",
      "Running file ../recommendation/images/Dinuka_23_male_1.png\n",
      "Converting PNG to JPEG for ../recommendation/images/Dinuka_23_male_1.png\n",
      "Running multi-cropped image\n",
      "Guess @ 1 (25, 32), prob = 1.00\n",
      "Guess @ 2 (15, 20), prob = 0.00\n",
      "Running file ../recommendation/images/thejan_14_male_2.png\n",
      "Converting PNG to JPEG for ../recommendation/images/thejan_14_male_2.png\n",
      "Running multi-cropped image\n",
      "Guess @ 1 (25, 32), prob = 0.63\n",
      "Guess @ 2 (38, 43), prob = 0.17\n",
      "Running file ../recommendation/images/Thushan_25_Male_1.png\n",
      "Converting PNG to JPEG for ../recommendation/images/Thushan_25_Male_1.png\n",
      "Running multi-cropped image\n",
      "Guess @ 1 (38, 43), prob = 0.38\n",
      "Guess @ 2 (25, 32), prob = 0.31\n",
      "Running file ../recommendation/images/rreeta_76_female_2.png\n",
      "Converting PNG to JPEG for ../recommendation/images/rreeta_76_female_2.png\n",
      "Running multi-cropped image\n",
      "Guess @ 1 (38, 43), prob = 0.51\n",
      "Guess @ 2 (25, 32), prob = 0.26\n",
      "Running file ../recommendation/images/rr_1.png\n",
      "Converting PNG to JPEG for ../recommendation/images/rr_1.png\n",
      "Running multi-cropped image\n",
      "Guess @ 1 (25, 32), prob = 0.90\n",
      "Guess @ 2 (48, 53), prob = 0.04\n",
      "Running file ../recommendation/images/Yehan_18_male_2.png\n",
      "Converting PNG to JPEG for ../recommendation/images/Yehan_18_male_2.png\n",
      "Running multi-cropped image\n",
      "Guess @ 1 (25, 32), prob = 0.92\n",
      "Guess @ 2 (38, 43), prob = 0.04\n",
      "Running file ../recommendation/images/Vishwa_16_m_1.png\n",
      "Converting PNG to JPEG for ../recommendation/images/Vishwa_16_m_1.png\n",
      "Running multi-cropped image\n",
      "Guess @ 1 (25, 32), prob = 0.77\n",
      "Guess @ 2 (48, 53), prob = 0.13\n",
      "Running file ../recommendation/images/Buddhima4_21_male_1.png\n",
      "Converting PNG to JPEG for ../recommendation/images/Buddhima4_21_male_1.png\n",
      "Running multi-cropped image\n",
      "Guess @ 1 (25, 32), prob = 0.87\n",
      "Guess @ 2 (38, 43), prob = 0.12\n",
      "Running file ../recommendation/images/Supun_23_male_2.png\n",
      "Converting PNG to JPEG for ../recommendation/images/Supun_23_male_2.png\n",
      "Running multi-cropped image\n",
      "Guess @ 1 (25, 32), prob = 1.00\n",
      "Guess @ 2 (15, 20), prob = 0.00\n",
      "Running file ../recommendation/images/Vinodya_22_female_2.png\n",
      "Converting PNG to JPEG for ../recommendation/images/Vinodya_22_female_2.png\n",
      "Running multi-cropped image\n",
      "Guess @ 1 (25, 32), prob = 0.81\n",
      "Guess @ 2 (15, 20), prob = 0.14\n",
      "Running file ../recommendation/images/YaxaSR!_22_M_1.png\n",
      "Converting PNG to JPEG for ../recommendation/images/YaxaSR!_22_M_1.png\n",
      "Running multi-cropped image\n",
      "Guess @ 1 (25, 32), prob = 0.48\n",
      "Guess @ 2 (48, 53), prob = 0.34\n",
      "Running file ../recommendation/images/champica_52_female_2.png\n",
      "Converting PNG to JPEG for ../recommendation/images/champica_52_female_2.png\n",
      "Running multi-cropped image\n",
      "Guess @ 1 (38, 43), prob = 0.71\n",
      "Guess @ 2 (25, 32), prob = 0.16\n",
      "Running file ../recommendation/images/nimeshi_20_female_1.png\n",
      "Converting PNG to JPEG for ../recommendation/images/nimeshi_20_female_1.png\n",
      "Running multi-cropped image\n",
      "Guess @ 1 (25, 32), prob = 0.42\n",
      "Guess @ 2 (15, 20), prob = 0.21\n",
      "Running file ../recommendation/images/Himantha_26_Male_2.png\n",
      "Converting PNG to JPEG for ../recommendation/images/Himantha_26_Male_2.png\n",
      "Running multi-cropped image\n",
      "Guess @ 1 (38, 43), prob = 0.45\n",
      "Guess @ 2 (25, 32), prob = 0.38\n",
      "Running file ../recommendation/images/Supun_23_male_1.png\n",
      "Converting PNG to JPEG for ../recommendation/images/Supun_23_male_1.png\n",
      "Running multi-cropped image\n",
      "Guess @ 1 (25, 32), prob = 0.96\n",
      "Guess @ 2 (15, 20), prob = 0.02\n",
      "Running file ../recommendation/images/Anjana_95_Male_1.png\n",
      "Converting PNG to JPEG for ../recommendation/images/Anjana_95_Male_1.png\n",
      "Running multi-cropped image\n",
      "Guess @ 1 (25, 32), prob = 0.94\n",
      "Guess @ 2 (15, 20), prob = 0.05\n",
      "Running file ../recommendation/images/t_2.png\n",
      "Converting PNG to JPEG for ../recommendation/images/t_2.png\n",
      "Running multi-cropped image\n",
      "Guess @ 1 (25, 32), prob = 0.74\n",
      "Guess @ 2 (48, 53), prob = 0.16\n",
      "Running file ../recommendation/images/kushani_20_female_2.png\n",
      "Converting PNG to JPEG for ../recommendation/images/kushani_20_female_2.png\n",
      "Running multi-cropped image\n",
      "Guess @ 1 (25, 32), prob = 0.92\n",
      "Guess @ 2 (38, 43), prob = 0.08\n",
      "Running file ../recommendation/images/senudi_11_f_1.png\n",
      "Converting PNG to JPEG for ../recommendation/images/senudi_11_f_1.png\n"
     ]
    },
    {
     "name": "stdout",
     "output_type": "stream",
     "text": [
      "Running multi-cropped image\n",
      "Guess @ 1 (25, 32), prob = 0.75\n",
      "Guess @ 2 (38, 43), prob = 0.11\n",
      "Running file ../recommendation/images/vishvakumara_21_male_2.png\n",
      "Converting PNG to JPEG for ../recommendation/images/vishvakumara_21_male_2.png\n",
      "Running multi-cropped image\n",
      "Guess @ 1 (25, 32), prob = 0.66\n",
      "Guess @ 2 (48, 53), prob = 0.15\n",
      "Running file ../recommendation/images/manuja_22_male_1.png\n",
      "Converting PNG to JPEG for ../recommendation/images/manuja_22_male_1.png\n",
      "Running multi-cropped image\n",
      "Guess @ 1 (25, 32), prob = 0.84\n",
      "Guess @ 2 (15, 20), prob = 0.13\n",
      "Running file ../recommendation/images/ravindu_23_male_1.png\n",
      "Converting PNG to JPEG for ../recommendation/images/ravindu_23_male_1.png\n",
      "Running multi-cropped image\n",
      "Guess @ 1 (25, 32), prob = 0.87\n",
      "Guess @ 2 (38, 43), prob = 0.11\n",
      "Running file ../recommendation/images/chandula_24_female_2.png\n",
      "Converting PNG to JPEG for ../recommendation/images/chandula_24_female_2.png\n",
      "Running multi-cropped image\n",
      "Guess @ 1 (25, 32), prob = 1.00\n",
      "Guess @ 2 (15, 20), prob = 0.00\n",
      "Running file ../recommendation/images/Anjanee_23_female_1.png\n",
      "Converting PNG to JPEG for ../recommendation/images/Anjanee_23_female_1.png\n",
      "Running multi-cropped image\n",
      "Guess @ 1 (25, 32), prob = 0.90\n",
      "Guess @ 2 (15, 20), prob = 0.08\n",
      "Running file ../recommendation/images/Sudesha_24_male_2.png\n",
      "Converting PNG to JPEG for ../recommendation/images/Sudesha_24_male_2.png\n",
      "Running multi-cropped image\n",
      "Guess @ 1 (25, 32), prob = 0.34\n",
      "Guess @ 2 (15, 20), prob = 0.28\n",
      "Running file ../recommendation/images/Nethma_24_Female_1.png\n",
      "Converting PNG to JPEG for ../recommendation/images/Nethma_24_Female_1.png\n",
      "Running multi-cropped image\n",
      "Guess @ 1 (25, 32), prob = 0.96\n",
      "Guess @ 2 (15, 20), prob = 0.02\n",
      "Running file ../recommendation/images/Sanjana_20_male_2.png\n",
      "Converting PNG to JPEG for ../recommendation/images/Sanjana_20_male_2.png\n",
      "Running multi-cropped image\n",
      "Guess @ 1 (15, 20), prob = 0.52\n",
      "Guess @ 2 (25, 32), prob = 0.31\n",
      "Running file ../recommendation/images/Anjana_95_Male_2.png\n",
      "Converting PNG to JPEG for ../recommendation/images/Anjana_95_Male_2.png\n",
      "Running multi-cropped image\n",
      "Guess @ 1 (25, 32), prob = 0.91\n",
      "Guess @ 2 (15, 20), prob = 0.07\n",
      "Running file ../recommendation/images/Jerry_24_male_1.png\n",
      "Converting PNG to JPEG for ../recommendation/images/Jerry_24_male_1.png\n",
      "Running multi-cropped image\n",
      "Guess @ 1 (25, 32), prob = 0.94\n",
      "Guess @ 2 (15, 20), prob = 0.06\n",
      "Running file ../recommendation/images/ishen_15_m_1.png\n",
      "Converting PNG to JPEG for ../recommendation/images/ishen_15_m_1.png\n",
      "Running multi-cropped image\n",
      "Guess @ 1 (25, 32), prob = 0.39\n",
      "Guess @ 2 (38, 43), prob = 0.28\n",
      "Running file ../recommendation/images/dylon_20_male_1.png\n",
      "Converting PNG to JPEG for ../recommendation/images/dylon_20_male_1.png\n",
      "Running multi-cropped image\n",
      "Guess @ 1 (25, 32), prob = 0.64\n",
      "Guess @ 2 (15, 20), prob = 0.24\n",
      "Running file ../recommendation/images/Bawantha_98_male_1.png\n",
      "Converting PNG to JPEG for ../recommendation/images/Bawantha_98_male_1.png\n",
      "Running multi-cropped image\n",
      "Guess @ 1 (25, 32), prob = 0.98\n",
      "Guess @ 2 (38, 43), prob = 0.01\n",
      "Running file ../recommendation/images/Sathsara_24_Male_2.png\n",
      "Converting PNG to JPEG for ../recommendation/images/Sathsara_24_Male_2.png\n",
      "Running multi-cropped image\n",
      "Guess @ 1 (25, 32), prob = 0.73\n",
      "Guess @ 2 (8, 12), prob = 0.12\n",
      "Running file ../recommendation/images/dinil_20_male_2.png\n",
      "Converting PNG to JPEG for ../recommendation/images/dinil_20_male_2.png\n",
      "Running multi-cropped image\n",
      "Guess @ 1 (25, 32), prob = 0.51\n",
      "Guess @ 2 (15, 20), prob = 0.44\n",
      "Running file ../recommendation/images/Vishmi_20-female_1.png\n",
      "Converting PNG to JPEG for ../recommendation/images/Vishmi_20-female_1.png\n",
      "Running multi-cropped image\n",
      "Guess @ 1 (25, 32), prob = 0.58\n",
      "Guess @ 2 (38, 43), prob = 0.34\n",
      "Running file ../recommendation/images/Buddhika_1.png\n",
      "Converting PNG to JPEG for ../recommendation/images/Buddhika_1.png\n",
      "Running multi-cropped image\n",
      "Guess @ 1 (25, 32), prob = 0.30\n",
      "Guess @ 2 (38, 43), prob = 0.19\n",
      "Running file ../recommendation/images/Dilakshika_23_female_2.png\n",
      "Converting PNG to JPEG for ../recommendation/images/Dilakshika_23_female_2.png\n",
      "Running multi-cropped image\n",
      "Guess @ 1 (25, 32), prob = 1.00\n",
      "Guess @ 2 (15, 20), prob = 0.00\n",
      "Running file ../recommendation/images/thilina_23_male_1.png\n",
      "Converting PNG to JPEG for ../recommendation/images/thilina_23_male_1.png\n",
      "Running multi-cropped image\n",
      "Guess @ 1 (25, 32), prob = 0.60\n",
      "Guess @ 2 (15, 20), prob = 0.31\n",
      "Running file ../recommendation/images/Dilith_24_Male_2.png\n",
      "Converting PNG to JPEG for ../recommendation/images/Dilith_24_Male_2.png\n",
      "Running multi-cropped image\n",
      "Guess @ 1 (15, 20), prob = 0.40\n",
      "Guess @ 2 (25, 32), prob = 0.36\n",
      "Running file ../recommendation/images/supun_23_male_2.png\n",
      "Converting PNG to JPEG for ../recommendation/images/supun_23_male_2.png\n",
      "Running multi-cropped image\n",
      "Guess @ 1 (25, 32), prob = 0.94\n",
      "Guess @ 2 (38, 43), prob = 0.03\n",
      "Running file ../recommendation/images/Omethma_12_female_1.png\n",
      "Converting PNG to JPEG for ../recommendation/images/Omethma_12_female_1.png\n",
      "Running multi-cropped image\n",
      "Guess @ 1 (25, 32), prob = 0.41\n",
      "Guess @ 2 (38, 43), prob = 0.34\n",
      "Running file ../recommendation/images/Nethmi_23_female_1.png\n",
      "Converting PNG to JPEG for ../recommendation/images/Nethmi_23_female_1.png\n",
      "Running multi-cropped image\n",
      "Guess @ 1 (25, 32), prob = 0.67\n",
      "Guess @ 2 (15, 20), prob = 0.32\n",
      "Running file ../recommendation/images/nandana_23_male _2.png\n",
      "Converting PNG to JPEG for ../recommendation/images/nandana_23_male _2.png\n",
      "Running multi-cropped image\n",
      "Guess @ 1 (25, 32), prob = 0.38\n",
      "Guess @ 2 (38, 43), prob = 0.33\n",
      "Running file ../recommendation/images/Buddhima4_21_male_2.png\n",
      "Converting PNG to JPEG for ../recommendation/images/Buddhima4_21_male_2.png\n",
      "Running multi-cropped image\n",
      "Guess @ 1 (38, 43), prob = 0.54\n",
      "Guess @ 2 (25, 32), prob = 0.24\n",
      "Running file ../recommendation/images/Nirmal_23_male_1.png\n",
      "Converting PNG to JPEG for ../recommendation/images/Nirmal_23_male_1.png\n",
      "Running multi-cropped image\n",
      "Guess @ 1 (15, 20), prob = 0.43\n",
      "Guess @ 2 (25, 32), prob = 0.21\n",
      "Running file ../recommendation/images/Gkarunawathi_74_female_2.png\n",
      "Converting PNG to JPEG for ../recommendation/images/Gkarunawathi_74_female_2.png\n",
      "Running multi-cropped image\n",
      "Guess @ 1 (38, 43), prob = 0.87\n",
      "Guess @ 2 (25, 32), prob = 0.06\n",
      "Running file ../recommendation/images/Deshani_24_F_1.png\n",
      "Converting PNG to JPEG for ../recommendation/images/Deshani_24_F_1.png\n",
      "Running multi-cropped image\n",
      "Guess @ 1 (25, 32), prob = 0.89\n",
      "Guess @ 2 (15, 20), prob = 0.11\n",
      "Running file ../recommendation/images/Lasun Anjana_23_m_1.png\n",
      "Converting PNG to JPEG for ../recommendation/images/Lasun Anjana_23_m_1.png\n",
      "Running multi-cropped image\n",
      "Guess @ 1 (38, 43), prob = 0.64\n",
      "Guess @ 2 (25, 32), prob = 0.30\n",
      "Running file ../recommendation/images/Sanjana_20_male_1.png\n",
      "Converting PNG to JPEG for ../recommendation/images/Sanjana_20_male_1.png\n",
      "Running multi-cropped image\n",
      "Guess @ 1 (4, 6), prob = 0.27\n",
      "Guess @ 2 (8, 12), prob = 0.24\n",
      "Running file ../recommendation/images/Nipuna_25_male_2.png\n",
      "Converting PNG to JPEG for ../recommendation/images/Nipuna_25_male_2.png\n",
      "Running multi-cropped image\n",
      "Guess @ 1 (25, 32), prob = 0.77\n",
      "Guess @ 2 (15, 20), prob = 0.21\n",
      "Running file ../recommendation/images/Kumudu_55_female_2.png\n",
      "Converting PNG to JPEG for ../recommendation/images/Kumudu_55_female_2.png\n",
      "Running multi-cropped image\n",
      "Guess @ 1 (25, 32), prob = 0.48\n",
      "Guess @ 2 (38, 43), prob = 0.31\n",
      "Running file ../recommendation/images/Dinusha_21_male_2.png\n",
      "Converting PNG to JPEG for ../recommendation/images/Dinusha_21_male_2.png\n",
      "Running multi-cropped image\n",
      "Guess @ 1 (25, 32), prob = 0.91\n",
      "Guess @ 2 (15, 20), prob = 0.04\n"
     ]
    },
    {
     "ename": "SystemExit",
     "evalue": "",
     "output_type": "error",
     "traceback": [
      "An exception has occurred, use %tb to see the full traceback.\n",
      "\u001b[0;31mSystemExit\u001b[0m\n"
     ]
    },
    {
     "name": "stderr",
     "output_type": "stream",
     "text": [
      "/home/hicup/anaconda3/envs/tf_gpu/lib/python3.7/site-packages/IPython/core/interactiveshell.py:3445: UserWarning: To exit: use 'exit', 'quit', or Ctrl-D.\n",
      "  warn(\"To exit: use 'exit', 'quit', or Ctrl-D.\", stacklevel=1)\n"
     ]
    }
   ],
   "source": [
    "tf.app.run()"
   ]
  },
  {
   "attachments": {
    "image.png": {
     "image/png": "[encoded data removed]"
    }
   },
   "cell_type": "markdown",
   "metadata": {},
   "source": [
    "![image.png](attachment:image.png)"
   ]
  },
  {
   "cell_type": "code",
   "execution_count": null,
   "metadata": {},
   "outputs": [],
   "source": []
  }
 ],
 "metadata": {
  "kernelspec": {
   "display_name": "Python 3",
   "language": "python",
   "name": "python3"
  },
  "language_info": {
   "codemirror_mode": {
    "name": "ipython",
    "version": 3
   },
   "file_extension": ".py",
   "mimetype": "text/x-python",
   "name": "python",
   "nbconvert_exporter": "python",
   "pygments_lexer": "ipython3",
   "version": "3.8.5"
  }
 },
 "nbformat": 4,
 "nbformat_minor": 5
}
