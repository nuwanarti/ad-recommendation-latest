{
 "cells": [
  {
   "cell_type": "code",
   "execution_count": 1,
   "metadata": {
    "scrolled": true
   },
   "outputs": [
    {
     "name": "stderr",
     "output_type": "stream",
     "text": [
      "/home/hicup/anaconda3/envs/tf_gpu/lib/python3.7/site-packages/tensorflow/python/framework/dtypes.py:516: FutureWarning: Passing (type, 1) or '1type' as a synonym of type is deprecated; in a future version of numpy, it will be understood as (type, (1,)) / '(1,)type'.\n",
      "  _np_qint8 = np.dtype([(\"qint8\", np.int8, 1)])\n",
      "/home/hicup/anaconda3/envs/tf_gpu/lib/python3.7/site-packages/tensorflow/python/framework/dtypes.py:517: FutureWarning: Passing (type, 1) or '1type' as a synonym of type is deprecated; in a future version of numpy, it will be understood as (type, (1,)) / '(1,)type'.\n",
      "  _np_quint8 = np.dtype([(\"quint8\", np.uint8, 1)])\n",
      "/home/hicup/anaconda3/envs/tf_gpu/lib/python3.7/site-packages/tensorflow/python/framework/dtypes.py:518: FutureWarning: Passing (type, 1) or '1type' as a synonym of type is deprecated; in a future version of numpy, it will be understood as (type, (1,)) / '(1,)type'.\n",
      "  _np_qint16 = np.dtype([(\"qint16\", np.int16, 1)])\n",
      "/home/hicup/anaconda3/envs/tf_gpu/lib/python3.7/site-packages/tensorflow/python/framework/dtypes.py:519: FutureWarning: Passing (type, 1) or '1type' as a synonym of type is deprecated; in a future version of numpy, it will be understood as (type, (1,)) / '(1,)type'.\n",
      "  _np_quint16 = np.dtype([(\"quint16\", np.uint16, 1)])\n",
      "/home/hicup/anaconda3/envs/tf_gpu/lib/python3.7/site-packages/tensorflow/python/framework/dtypes.py:520: FutureWarning: Passing (type, 1) or '1type' as a synonym of type is deprecated; in a future version of numpy, it will be understood as (type, (1,)) / '(1,)type'.\n",
      "  _np_qint32 = np.dtype([(\"qint32\", np.int32, 1)])\n",
      "/home/hicup/anaconda3/envs/tf_gpu/lib/python3.7/site-packages/tensorflow/python/framework/dtypes.py:525: FutureWarning: Passing (type, 1) or '1type' as a synonym of type is deprecated; in a future version of numpy, it will be understood as (type, (1,)) / '(1,)type'.\n",
      "  np_resource = np.dtype([(\"resource\", np.ubyte, 1)])\n",
      "/home/hicup/anaconda3/envs/tf_gpu/lib/python3.7/site-packages/tensorboard/compat/tensorflow_stub/dtypes.py:541: FutureWarning: Passing (type, 1) or '1type' as a synonym of type is deprecated; in a future version of numpy, it will be understood as (type, (1,)) / '(1,)type'.\n",
      "  _np_qint8 = np.dtype([(\"qint8\", np.int8, 1)])\n",
      "/home/hicup/anaconda3/envs/tf_gpu/lib/python3.7/site-packages/tensorboard/compat/tensorflow_stub/dtypes.py:542: FutureWarning: Passing (type, 1) or '1type' as a synonym of type is deprecated; in a future version of numpy, it will be understood as (type, (1,)) / '(1,)type'.\n",
      "  _np_quint8 = np.dtype([(\"quint8\", np.uint8, 1)])\n",
      "/home/hicup/anaconda3/envs/tf_gpu/lib/python3.7/site-packages/tensorboard/compat/tensorflow_stub/dtypes.py:543: FutureWarning: Passing (type, 1) or '1type' as a synonym of type is deprecated; in a future version of numpy, it will be understood as (type, (1,)) / '(1,)type'.\n",
      "  _np_qint16 = np.dtype([(\"qint16\", np.int16, 1)])\n",
      "/home/hicup/anaconda3/envs/tf_gpu/lib/python3.7/site-packages/tensorboard/compat/tensorflow_stub/dtypes.py:544: FutureWarning: Passing (type, 1) or '1type' as a synonym of type is deprecated; in a future version of numpy, it will be understood as (type, (1,)) / '(1,)type'.\n",
      "  _np_quint16 = np.dtype([(\"quint16\", np.uint16, 1)])\n",
      "/home/hicup/anaconda3/envs/tf_gpu/lib/python3.7/site-packages/tensorboard/compat/tensorflow_stub/dtypes.py:545: FutureWarning: Passing (type, 1) or '1type' as a synonym of type is deprecated; in a future version of numpy, it will be understood as (type, (1,)) / '(1,)type'.\n",
      "  _np_qint32 = np.dtype([(\"qint32\", np.int32, 1)])\n",
      "/home/hicup/anaconda3/envs/tf_gpu/lib/python3.7/site-packages/tensorboard/compat/tensorflow_stub/dtypes.py:550: FutureWarning: Passing (type, 1) or '1type' as a synonym of type is deprecated; in a future version of numpy, it will be understood as (type, (1,)) / '(1,)type'.\n",
      "  np_resource = np.dtype([(\"resource\", np.ubyte, 1)])\n"
     ]
    }
   ],
   "source": [
    "from __future__ import absolute_import\n",
    "from __future__ import division\n",
    "from __future__ import print_function\n",
    "\n",
    "from datetime import datetime\n",
    "import math\n",
    "import time\n",
    "from data import inputs\n",
    "import numpy as np\n",
    "import tensorflow as tf\n",
    "from model import select_model, get_checkpoint\n",
    "from utils import *\n",
    "import os\n",
    "import json\n",
    "import csv\n"
   ]
  },
  {
   "cell_type": "code",
   "execution_count": 2,
   "metadata": {},
   "outputs": [],
   "source": [
    "from glob import glob"
   ]
  },
  {
   "cell_type": "code",
   "execution_count": 3,
   "metadata": {},
   "outputs": [],
   "source": [
    "# python guess.py --class_type gender --model_type inception --model_dir ./gender/ --filename ../recommendation/images/lahiru_23_malexxx_1.png\n",
    "# # "
   ]
  },
  {
   "cell_type": "code",
   "execution_count": 3,
   "metadata": {},
   "outputs": [],
   "source": [
    "# age \n",
    "RESIZE_FINAL = 227\n",
    "GENDER_LIST =['M','F']\n",
    "#AGE_LIST = ['(0, 2)','(4, 6)','(8, 12)','(15, 20)','(25, 32)','(38, 43)','(48, 53)','(60, 100)']\n",
    "MAX_BATCH_SZ = 128\n",
    "\n",
    "tf.app.flags.DEFINE_string('model_dir', './gender/','Model directory (where training data lives)')\n",
    "\n",
    "tf.app.flags.DEFINE_string('class_type', 'gender',\n",
    "                           'Classification type (age|gender)')\n",
    "\n",
    "\n",
    "tf.app.flags.DEFINE_string('device_id', '/cpu:0',\n",
    "                           'What processing unit to execute inference on')\n",
    "\n",
    "tf.app.flags.DEFINE_string('filename', '../recommendation/images/lahiru_23_malexxx_1.png',\n",
    "                           'File (Image) or File list (Text/No header TSV) to process')\n",
    "\n",
    "tf.app.flags.DEFINE_string('target', '',\n",
    "                           'CSV file containing the filename processed along with best guess and score')\n",
    "\n",
    "tf.app.flags.DEFINE_string('checkpoint', 'checkpoint',\n",
    "                          'Checkpoint basename')\n",
    "\n",
    "tf.app.flags.DEFINE_string('model_type', 'inception',\n",
    "                           'Type of convnet')\n",
    "\n",
    "tf.app.flags.DEFINE_string('requested_step', '', 'Within the model directory, a requested step to restore e.g., 9000')\n",
    "\n",
    "tf.app.flags.DEFINE_boolean('single_look', False, 'single look at the image or multiple crops')\n",
    "\n",
    "tf.app.flags.DEFINE_string('face_detection_model', '', 'Do frontal face detection with model specified')\n",
    "\n",
    "tf.app.flags.DEFINE_string('face_detection_type', 'cascade', 'Face detection model type (yolo_tiny|cascade)')\n",
    "\n",
    "FLAGS = tf.app.flags.FLAGS\n"
   ]
  },
  {
   "cell_type": "code",
   "execution_count": 5,
   "metadata": {},
   "outputs": [],
   "source": [
    "# for key in tf.app.flags.FLAGS.flag_values_dict():\n",
    "\n",
    "#     print(key, FLAGS[key].value)"
   ]
  },
  {
   "cell_type": "code",
   "execution_count": 4,
   "metadata": {},
   "outputs": [],
   "source": [
    "\n",
    "def one_of(fname, types):\n",
    "    return any([fname.endswith('.' + ty) for ty in types])\n",
    "\n",
    "def resolve_file(fname):\n",
    "    if os.path.exists(fname): return fname\n",
    "    for suffix in ('.jpg', '.png', '.JPG', '.PNG', '.jpeg'):\n",
    "        cand = fname + suffix\n",
    "        if os.path.exists(cand):\n",
    "            return cand\n",
    "    return None\n",
    "\n",
    "\n",
    "def classify_many_single_crop(sess, label_list, softmax_output, coder, images, image_files, writer):\n",
    "    try:\n",
    "        num_batches = math.ceil(len(image_files) / MAX_BATCH_SZ)\n",
    "        pg = ProgressBar(num_batches)\n",
    "        for j in range(num_batches):\n",
    "            start_offset = j * MAX_BATCH_SZ\n",
    "            end_offset = min((j + 1) * MAX_BATCH_SZ, len(image_files))\n",
    "            \n",
    "            batch_image_files = image_files[start_offset:end_offset]\n",
    "            print(start_offset, end_offset, len(batch_image_files))\n",
    "            image_batch = make_multi_image_batch(batch_image_files, coder)\n",
    "            batch_results = sess.run(softmax_output, feed_dict={images:image_batch.eval()})\n",
    "            batch_sz = batch_results.shape[0]\n",
    "            for i in range(batch_sz):\n",
    "                output_i = batch_results[i]\n",
    "                best_i = np.argmax(output_i)\n",
    "                best_choice = (label_list[best_i], output_i[best_i])\n",
    "                print('Guess @ 1 %s, prob = %.2f' % best_choice)\n",
    "                if writer is not None:\n",
    "                    f = batch_image_files[i]\n",
    "                    writer.writerow((f, best_choice[0], '%.2f' % best_choice[1]))\n",
    "            pg.update()\n",
    "        pg.done()\n",
    "    except Exception as e:\n",
    "        print(e)\n",
    "        print('Failed to run all images')\n",
    "\n",
    "def classify_one_multi_crop(sess, label_list, softmax_output, coder, images, image_file, writer):\n",
    "    try:\n",
    "\n",
    "        print('Running file %s' % image_file)\n",
    "        image_batch = make_multi_crop_batch(image_file, coder)\n",
    "\n",
    "        batch_results = sess.run(softmax_output, feed_dict={images:image_batch.eval()})\n",
    "        output = batch_results[0]\n",
    "        batch_sz = batch_results.shape[0]\n",
    "    \n",
    "        for i in range(1, batch_sz):\n",
    "            output = output + batch_results[i]\n",
    "        \n",
    "        output /= batch_sz\n",
    "        best = np.argmax(output)\n",
    "        best_choice = (label_list[best], output[best])\n",
    "        print('Guess @ 1 %s, prob = %.2f' % best_choice)\n",
    "    \n",
    "        nlabels = len(label_list)\n",
    "        if nlabels > 2:\n",
    "            output[best] = 0\n",
    "            second_best = np.argmax(output)\n",
    "            print('Guess @ 2 %s, prob = %.2f' % (label_list[second_best], output[second_best]))\n",
    "\n",
    "        if writer is not None:\n",
    "            writer.writerow((image_file, best_choice[0], '%.2f' % best_choice[1]))\n",
    "    except Exception as e:\n",
    "        print(e)\n",
    "        print('Failed to run image %s ' % image_file)\n",
    "\n",
    "def list_images(srcfile):\n",
    "    with open(srcfile, 'r') as csvfile:\n",
    "        delim = ',' if srcfile.endswith('.csv') else '\\t'\n",
    "        reader = csv.reader(csvfile, delimiter=delim)\n",
    "        if srcfile.endswith('.csv') or srcfile.endswith('.tsv'):\n",
    "            print('skipping header')\n",
    "            _ = next(reader)\n",
    "        \n",
    "        return [row[0] for row in reader]\n"
   ]
  },
  {
   "cell_type": "code",
   "execution_count": 5,
   "metadata": {},
   "outputs": [],
   "source": [
    "files = glob('../recommendation/images/*')"
   ]
  },
  {
   "cell_type": "code",
   "execution_count": null,
   "metadata": {},
   "outputs": [],
   "source": []
  },
  {
   "cell_type": "code",
   "execution_count": 6,
   "metadata": {},
   "outputs": [],
   "source": [
    "def main(argv=None):  # pylint: disable=unused-argument\n",
    "\n",
    "    files = glob('../recommendation/images/*')\n",
    "    \n",
    "    if FLAGS.face_detection_model:\n",
    "        print('Using face detector (%s) %s' % (FLAGS.face_detection_type, FLAGS.face_detection_model))\n",
    "        face_detect = face_detection_model(FLAGS.face_detection_type, FLAGS.face_detection_model)\n",
    "        face_files, rectangles = face_detect.run(FLAGS.filename)\n",
    "        print(face_files)\n",
    "        files += face_files\n",
    "\n",
    "    config = tf.ConfigProto(allow_soft_placement=True)\n",
    "    with tf.Session(config=config) as sess:\n",
    "\n",
    "        label_list = AGE_LIST if FLAGS.class_type == 'age' else GENDER_LIST\n",
    "        nlabels = len(label_list)\n",
    "\n",
    "        print('Executing on %s' % FLAGS.device_id)\n",
    "        model_fn = select_model(FLAGS.model_type)\n",
    "\n",
    "        with tf.device(FLAGS.device_id):\n",
    "            \n",
    "            images = tf.placeholder(tf.float32, [None, RESIZE_FINAL, RESIZE_FINAL, 3])\n",
    "            logits = model_fn(nlabels, images, 1, False)\n",
    "            init = tf.global_variables_initializer()\n",
    "            \n",
    "            requested_step = FLAGS.requested_step if FLAGS.requested_step else None\n",
    "        \n",
    "            checkpoint_path = '%s' % (FLAGS.model_dir)\n",
    "\n",
    "            model_checkpoint_path, global_step = get_checkpoint(checkpoint_path, requested_step, FLAGS.checkpoint)\n",
    "            \n",
    "            saver = tf.train.Saver()\n",
    "            saver.restore(sess, model_checkpoint_path)\n",
    "                        \n",
    "            softmax_output = tf.nn.softmax(logits)\n",
    "\n",
    "            coder = ImageCoder()\n",
    "\n",
    "            # Support a batch mode if no face detection model\n",
    "            if len(files) == 0:\n",
    "                if (os.path.isdir(FLAGS.filename)):\n",
    "                    for relpath in os.listdir(FLAGS.filename):\n",
    "                        abspath = os.path.join(FLAGS.filename, relpath)\n",
    "                        \n",
    "                        if os.path.isfile(abspath) and any([abspath.endswith('.' + ty) for ty in ('jpg', 'png', 'JPG', 'PNG', 'jpeg')]):\n",
    "                            print(abspath)\n",
    "                            files.append(abspath)\n",
    "                else:\n",
    "                    files.append(FLAGS.filename)\n",
    "                    # If it happens to be a list file, read the list and clobber the files\n",
    "                    if any([FLAGS.filename.endswith('.' + ty) for ty in ('csv', 'tsv', 'txt')]):\n",
    "                        files = list_images(FLAGS.filename)\n",
    "                \n",
    "            writer = None\n",
    "            output = None\n",
    "            if FLAGS.target:\n",
    "                print('Creating output file %s' % FLAGS.target)\n",
    "                output = open(FLAGS.target, 'w')\n",
    "                writer = csv.writer(output)\n",
    "                writer.writerow(('file', 'label', 'score'))\n",
    "            image_files = list(filter(lambda x: x is not None, [resolve_file(f) for f in files]))\n",
    "            print(image_files)\n",
    "            if FLAGS.single_look:\n",
    "                classify_many_single_crop(sess, label_list, softmax_output, coder, images, image_files, writer)\n",
    "\n",
    "            else:\n",
    "                for image_file in image_files:\n",
    "                    classify_one_multi_crop(sess, label_list, softmax_output, coder, images, image_file, writer)\n",
    "\n",
    "            if output is not None:\n",
    "                output.close()\n",
    "        "
   ]
  },
  {
   "cell_type": "code",
   "execution_count": 7,
   "metadata": {},
   "outputs": [
    {
     "name": "stdout",
     "output_type": "stream",
     "text": [
      "Executing on /cpu:0\n",
      "selected (fine-tuning) inception model\n",
      "WARNING:tensorflow:From /home/hicup/Documents/ad-recommendation/demography/model.py:77: The name tf.variable_scope is deprecated. Please use tf.compat.v1.variable_scope instead.\n",
      "\n"
     ]
    },
    {
     "name": "stderr",
     "output_type": "stream",
     "text": [
      "W0705 04:27:51.470017 139997008488192 deprecation_wrapper.py:119] From /home/hicup/Documents/ad-recommendation/demography/model.py:77: The name tf.variable_scope is deprecated. Please use tf.compat.v1.variable_scope instead.\n",
      "\n"
     ]
    },
    {
     "name": "stdout",
     "output_type": "stream",
     "text": [
      "WARNING:tensorflow:Entity <bound method Conv.call of <tensorflow.python.layers.convolutional.Conv2D object at 0x7f52c8052e50>> could not be transformed and will be executed as-is. Please report this to the AutgoGraph team. When filing the bug, set the verbosity to 10 (on Linux, `export AUTOGRAPH_VERBOSITY=10`) and attach the full output. Cause: converting <bound method Conv.call of <tensorflow.python.layers.convolutional.Conv2D object at 0x7f52c8052e50>>: AssertionError: Bad argument number for Name: 3, expecting 4\n"
     ]
    },
    {
     "name": "stderr",
     "output_type": "stream",
     "text": [
      "W0705 04:27:51.530154 139997008488192 ag_logging.py:145] Entity <bound method Conv.call of <tensorflow.python.layers.convolutional.Conv2D object at 0x7f52c8052e50>> could not be transformed and will be executed as-is. Please report this to the AutgoGraph team. When filing the bug, set the verbosity to 10 (on Linux, `export AUTOGRAPH_VERBOSITY=10`) and attach the full output. Cause: converting <bound method Conv.call of <tensorflow.python.layers.convolutional.Conv2D object at 0x7f52c8052e50>>: AssertionError: Bad argument number for Name: 3, expecting 4\n"
     ]
    },
    {
     "name": "stdout",
     "output_type": "stream",
     "text": [
      "WARNING: Entity <bound method Conv.call of <tensorflow.python.layers.convolutional.Conv2D object at 0x7f52c8052e50>> could not be transformed and will be executed as-is. Please report this to the AutgoGraph team. When filing the bug, set the verbosity to 10 (on Linux, `export AUTOGRAPH_VERBOSITY=10`) and attach the full output. Cause: converting <bound method Conv.call of <tensorflow.python.layers.convolutional.Conv2D object at 0x7f52c8052e50>>: AssertionError: Bad argument number for Name: 3, expecting 4\n",
      "WARNING:tensorflow:Entity <bound method BatchNormalization.call of <tensorflow.python.layers.normalization.BatchNormalization object at 0x7f52c80a5c10>> could not be transformed and will be executed as-is. Please report this to the AutgoGraph team. When filing the bug, set the verbosity to 10 (on Linux, `export AUTOGRAPH_VERBOSITY=10`) and attach the full output. Cause: converting <bound method BatchNormalization.call of <tensorflow.python.layers.normalization.BatchNormalization object at 0x7f52c80a5c10>>: AssertionError: Bad argument number for Name: 3, expecting 4\n"
     ]
    },
    {
     "name": "stderr",
     "output_type": "stream",
     "text": [
      "W0705 04:27:51.552492 139997008488192 ag_logging.py:145] Entity <bound method BatchNormalization.call of <tensorflow.python.layers.normalization.BatchNormalization object at 0x7f52c80a5c10>> could not be transformed and will be executed as-is. Please report this to the AutgoGraph team. When filing the bug, set the verbosity to 10 (on Linux, `export AUTOGRAPH_VERBOSITY=10`) and attach the full output. Cause: converting <bound method BatchNormalization.call of <tensorflow.python.layers.normalization.BatchNormalization object at 0x7f52c80a5c10>>: AssertionError: Bad argument number for Name: 3, expecting 4\n"
     ]
    },
    {
     "name": "stdout",
     "output_type": "stream",
     "text": [
      "WARNING: Entity <bound method BatchNormalization.call of <tensorflow.python.layers.normalization.BatchNormalization object at 0x7f52c80a5c10>> could not be transformed and will be executed as-is. Please report this to the AutgoGraph team. When filing the bug, set the verbosity to 10 (on Linux, `export AUTOGRAPH_VERBOSITY=10`) and attach the full output. Cause: converting <bound method BatchNormalization.call of <tensorflow.python.layers.normalization.BatchNormalization object at 0x7f52c80a5c10>>: AssertionError: Bad argument number for Name: 3, expecting 4\n",
      "WARNING:tensorflow:Entity <bound method Conv.call of <tensorflow.python.layers.convolutional.Conv2D object at 0x7f52c80a55d0>> could not be transformed and will be executed as-is. Please report this to the AutgoGraph team. When filing the bug, set the verbosity to 10 (on Linux, `export AUTOGRAPH_VERBOSITY=10`) and attach the full output. Cause: converting <bound method Conv.call of <tensorflow.python.layers.convolutional.Conv2D object at 0x7f52c80a55d0>>: AssertionError: Bad argument number for Name: 3, expecting 4\n"
     ]
    },
    {
     "name": "stderr",
     "output_type": "stream",
     "text": [
      "W0705 04:27:51.609354 139997008488192 ag_logging.py:145] Entity <bound method Conv.call of <tensorflow.python.layers.convolutional.Conv2D object at 0x7f52c80a55d0>> could not be transformed and will be executed as-is. Please report this to the AutgoGraph team. When filing the bug, set the verbosity to 10 (on Linux, `export AUTOGRAPH_VERBOSITY=10`) and attach the full output. Cause: converting <bound method Conv.call of <tensorflow.python.layers.convolutional.Conv2D object at 0x7f52c80a55d0>>: AssertionError: Bad argument number for Name: 3, expecting 4\n"
     ]
    },
    {
     "name": "stdout",
     "output_type": "stream",
     "text": [
      "WARNING: Entity <bound method Conv.call of <tensorflow.python.layers.convolutional.Conv2D object at 0x7f52c80a55d0>> could not be transformed and will be executed as-is. Please report this to the AutgoGraph team. When filing the bug, set the verbosity to 10 (on Linux, `export AUTOGRAPH_VERBOSITY=10`) and attach the full output. Cause: converting <bound method Conv.call of <tensorflow.python.layers.convolutional.Conv2D object at 0x7f52c80a55d0>>: AssertionError: Bad argument number for Name: 3, expecting 4\n",
      "WARNING:tensorflow:Entity <bound method BatchNormalization.call of <tensorflow.python.layers.normalization.BatchNormalization object at 0x7f52c40e39d0>> could not be transformed and will be executed as-is. Please report this to the AutgoGraph team. When filing the bug, set the verbosity to 10 (on Linux, `export AUTOGRAPH_VERBOSITY=10`) and attach the full output. Cause: converting <bound method BatchNormalization.call of <tensorflow.python.layers.normalization.BatchNormalization object at 0x7f52c40e39d0>>: AssertionError: Bad argument number for Name: 3, expecting 4\n"
     ]
    },
    {
     "name": "stderr",
     "output_type": "stream",
     "text": [
      "W0705 04:27:51.631680 139997008488192 ag_logging.py:145] Entity <bound method BatchNormalization.call of <tensorflow.python.layers.normalization.BatchNormalization object at 0x7f52c40e39d0>> could not be transformed and will be executed as-is. Please report this to the AutgoGraph team. When filing the bug, set the verbosity to 10 (on Linux, `export AUTOGRAPH_VERBOSITY=10`) and attach the full output. Cause: converting <bound method BatchNormalization.call of <tensorflow.python.layers.normalization.BatchNormalization object at 0x7f52c40e39d0>>: AssertionError: Bad argument number for Name: 3, expecting 4\n"
     ]
    },
    {
     "name": "stdout",
     "output_type": "stream",
     "text": [
      "WARNING: Entity <bound method BatchNormalization.call of <tensorflow.python.layers.normalization.BatchNormalization object at 0x7f52c40e39d0>> could not be transformed and will be executed as-is. Please report this to the AutgoGraph team. When filing the bug, set the verbosity to 10 (on Linux, `export AUTOGRAPH_VERBOSITY=10`) and attach the full output. Cause: converting <bound method BatchNormalization.call of <tensorflow.python.layers.normalization.BatchNormalization object at 0x7f52c40e39d0>>: AssertionError: Bad argument number for Name: 3, expecting 4\n",
      "WARNING:tensorflow:Entity <bound method Conv.call of <tensorflow.python.layers.convolutional.Conv2D object at 0x7f52c40abf90>> could not be transformed and will be executed as-is. Please report this to the AutgoGraph team. When filing the bug, set the verbosity to 10 (on Linux, `export AUTOGRAPH_VERBOSITY=10`) and attach the full output. Cause: converting <bound method Conv.call of <tensorflow.python.layers.convolutional.Conv2D object at 0x7f52c40abf90>>: AssertionError: Bad argument number for Name: 3, expecting 4\n"
     ]
    },
    {
     "name": "stderr",
     "output_type": "stream",
     "text": [
      "W0705 04:27:51.689755 139997008488192 ag_logging.py:145] Entity <bound method Conv.call of <tensorflow.python.layers.convolutional.Conv2D object at 0x7f52c40abf90>> could not be transformed and will be executed as-is. Please report this to the AutgoGraph team. When filing the bug, set the verbosity to 10 (on Linux, `export AUTOGRAPH_VERBOSITY=10`) and attach the full output. Cause: converting <bound method Conv.call of <tensorflow.python.layers.convolutional.Conv2D object at 0x7f52c40abf90>>: AssertionError: Bad argument number for Name: 3, expecting 4\n"
     ]
    },
    {
     "name": "stdout",
     "output_type": "stream",
     "text": [
      "WARNING: Entity <bound method Conv.call of <tensorflow.python.layers.convolutional.Conv2D object at 0x7f52c40abf90>> could not be transformed and will be executed as-is. Please report this to the AutgoGraph team. When filing the bug, set the verbosity to 10 (on Linux, `export AUTOGRAPH_VERBOSITY=10`) and attach the full output. Cause: converting <bound method Conv.call of <tensorflow.python.layers.convolutional.Conv2D object at 0x7f52c40abf90>>: AssertionError: Bad argument number for Name: 3, expecting 4\n",
      "WARNING:tensorflow:Entity <bound method BatchNormalization.call of <tensorflow.python.layers.normalization.BatchNormalization object at 0x7f52c4127090>> could not be transformed and will be executed as-is. Please report this to the AutgoGraph team. When filing the bug, set the verbosity to 10 (on Linux, `export AUTOGRAPH_VERBOSITY=10`) and attach the full output. Cause: converting <bound method BatchNormalization.call of <tensorflow.python.layers.normalization.BatchNormalization object at 0x7f52c4127090>>: AssertionError: Bad argument number for Name: 3, expecting 4\n"
     ]
    },
    {
     "name": "stderr",
     "output_type": "stream",
     "text": [
      "W0705 04:27:51.712036 139997008488192 ag_logging.py:145] Entity <bound method BatchNormalization.call of <tensorflow.python.layers.normalization.BatchNormalization object at 0x7f52c4127090>> could not be transformed and will be executed as-is. Please report this to the AutgoGraph team. When filing the bug, set the verbosity to 10 (on Linux, `export AUTOGRAPH_VERBOSITY=10`) and attach the full output. Cause: converting <bound method BatchNormalization.call of <tensorflow.python.layers.normalization.BatchNormalization object at 0x7f52c4127090>>: AssertionError: Bad argument number for Name: 3, expecting 4\n"
     ]
    },
    {
     "name": "stdout",
     "output_type": "stream",
     "text": [
      "WARNING: Entity <bound method BatchNormalization.call of <tensorflow.python.layers.normalization.BatchNormalization object at 0x7f52c4127090>> could not be transformed and will be executed as-is. Please report this to the AutgoGraph team. When filing the bug, set the verbosity to 10 (on Linux, `export AUTOGRAPH_VERBOSITY=10`) and attach the full output. Cause: converting <bound method BatchNormalization.call of <tensorflow.python.layers.normalization.BatchNormalization object at 0x7f52c4127090>>: AssertionError: Bad argument number for Name: 3, expecting 4\n",
      "WARNING:tensorflow:Entity <bound method Pooling2D.call of <tensorflow.python.layers.pooling.MaxPooling2D object at 0x7f52c40abf50>> could not be transformed and will be executed as-is. Please report this to the AutgoGraph team. When filing the bug, set the verbosity to 10 (on Linux, `export AUTOGRAPH_VERBOSITY=10`) and attach the full output. Cause: converting <bound method Pooling2D.call of <tensorflow.python.layers.pooling.MaxPooling2D object at 0x7f52c40abf50>>: AssertionError: Bad argument number for Name: 3, expecting 4\n"
     ]
    },
    {
     "name": "stderr",
     "output_type": "stream",
     "text": [
      "W0705 04:27:51.751139 139997008488192 ag_logging.py:145] Entity <bound method Pooling2D.call of <tensorflow.python.layers.pooling.MaxPooling2D object at 0x7f52c40abf50>> could not be transformed and will be executed as-is. Please report this to the AutgoGraph team. When filing the bug, set the verbosity to 10 (on Linux, `export AUTOGRAPH_VERBOSITY=10`) and attach the full output. Cause: converting <bound method Pooling2D.call of <tensorflow.python.layers.pooling.MaxPooling2D object at 0x7f52c40abf50>>: AssertionError: Bad argument number for Name: 3, expecting 4\n"
     ]
    },
    {
     "name": "stdout",
     "output_type": "stream",
     "text": [
      "WARNING: Entity <bound method Pooling2D.call of <tensorflow.python.layers.pooling.MaxPooling2D object at 0x7f52c40abf50>> could not be transformed and will be executed as-is. Please report this to the AutgoGraph team. When filing the bug, set the verbosity to 10 (on Linux, `export AUTOGRAPH_VERBOSITY=10`) and attach the full output. Cause: converting <bound method Pooling2D.call of <tensorflow.python.layers.pooling.MaxPooling2D object at 0x7f52c40abf50>>: AssertionError: Bad argument number for Name: 3, expecting 4\n",
      "WARNING:tensorflow:Entity <bound method Conv.call of <tensorflow.python.layers.convolutional.Conv2D object at 0x7f52c80a55d0>> could not be transformed and will be executed as-is. Please report this to the AutgoGraph team. When filing the bug, set the verbosity to 10 (on Linux, `export AUTOGRAPH_VERBOSITY=10`) and attach the full output. Cause: converting <bound method Conv.call of <tensorflow.python.layers.convolutional.Conv2D object at 0x7f52c80a55d0>>: AssertionError: Bad argument number for Name: 3, expecting 4\n"
     ]
    },
    {
     "name": "stderr",
     "output_type": "stream",
     "text": [
      "W0705 04:27:51.807842 139997008488192 ag_logging.py:145] Entity <bound method Conv.call of <tensorflow.python.layers.convolutional.Conv2D object at 0x7f52c80a55d0>> could not be transformed and will be executed as-is. Please report this to the AutgoGraph team. When filing the bug, set the verbosity to 10 (on Linux, `export AUTOGRAPH_VERBOSITY=10`) and attach the full output. Cause: converting <bound method Conv.call of <tensorflow.python.layers.convolutional.Conv2D object at 0x7f52c80a55d0>>: AssertionError: Bad argument number for Name: 3, expecting 4\n"
     ]
    },
    {
     "name": "stdout",
     "output_type": "stream",
     "text": [
      "WARNING: Entity <bound method Conv.call of <tensorflow.python.layers.convolutional.Conv2D object at 0x7f52c80a55d0>> could not be transformed and will be executed as-is. Please report this to the AutgoGraph team. When filing the bug, set the verbosity to 10 (on Linux, `export AUTOGRAPH_VERBOSITY=10`) and attach the full output. Cause: converting <bound method Conv.call of <tensorflow.python.layers.convolutional.Conv2D object at 0x7f52c80a55d0>>: AssertionError: Bad argument number for Name: 3, expecting 4\n",
      "WARNING:tensorflow:Entity <bound method BatchNormalization.call of <tensorflow.python.layers.normalization.BatchNormalization object at 0x7f52c40e5550>> could not be transformed and will be executed as-is. Please report this to the AutgoGraph team. When filing the bug, set the verbosity to 10 (on Linux, `export AUTOGRAPH_VERBOSITY=10`) and attach the full output. Cause: converting <bound method BatchNormalization.call of <tensorflow.python.layers.normalization.BatchNormalization object at 0x7f52c40e5550>>: AssertionError: Bad argument number for Name: 3, expecting 4\n"
     ]
    },
    {
     "name": "stderr",
     "output_type": "stream",
     "text": [
      "W0705 04:27:51.830566 139997008488192 ag_logging.py:145] Entity <bound method BatchNormalization.call of <tensorflow.python.layers.normalization.BatchNormalization object at 0x7f52c40e5550>> could not be transformed and will be executed as-is. Please report this to the AutgoGraph team. When filing the bug, set the verbosity to 10 (on Linux, `export AUTOGRAPH_VERBOSITY=10`) and attach the full output. Cause: converting <bound method BatchNormalization.call of <tensorflow.python.layers.normalization.BatchNormalization object at 0x7f52c40e5550>>: AssertionError: Bad argument number for Name: 3, expecting 4\n"
     ]
    },
    {
     "name": "stdout",
     "output_type": "stream",
     "text": [
      "WARNING: Entity <bound method BatchNormalization.call of <tensorflow.python.layers.normalization.BatchNormalization object at 0x7f52c40e5550>> could not be transformed and will be executed as-is. Please report this to the AutgoGraph team. When filing the bug, set the verbosity to 10 (on Linux, `export AUTOGRAPH_VERBOSITY=10`) and attach the full output. Cause: converting <bound method BatchNormalization.call of <tensorflow.python.layers.normalization.BatchNormalization object at 0x7f52c40e5550>>: AssertionError: Bad argument number for Name: 3, expecting 4\n",
      "WARNING:tensorflow:Entity <bound method Conv.call of <tensorflow.python.layers.convolutional.Conv2D object at 0x7f52c8052e10>> could not be transformed and will be executed as-is. Please report this to the AutgoGraph team. When filing the bug, set the verbosity to 10 (on Linux, `export AUTOGRAPH_VERBOSITY=10`) and attach the full output. Cause: converting <bound method Conv.call of <tensorflow.python.layers.convolutional.Conv2D object at 0x7f52c8052e10>>: AssertionError: Bad argument number for Name: 3, expecting 4\n"
     ]
    },
    {
     "name": "stderr",
     "output_type": "stream",
     "text": [
      "W0705 04:27:51.888916 139997008488192 ag_logging.py:145] Entity <bound method Conv.call of <tensorflow.python.layers.convolutional.Conv2D object at 0x7f52c8052e10>> could not be transformed and will be executed as-is. Please report this to the AutgoGraph team. When filing the bug, set the verbosity to 10 (on Linux, `export AUTOGRAPH_VERBOSITY=10`) and attach the full output. Cause: converting <bound method Conv.call of <tensorflow.python.layers.convolutional.Conv2D object at 0x7f52c8052e10>>: AssertionError: Bad argument number for Name: 3, expecting 4\n"
     ]
    },
    {
     "name": "stdout",
     "output_type": "stream",
     "text": [
      "WARNING: Entity <bound method Conv.call of <tensorflow.python.layers.convolutional.Conv2D object at 0x7f52c8052e10>> could not be transformed and will be executed as-is. Please report this to the AutgoGraph team. When filing the bug, set the verbosity to 10 (on Linux, `export AUTOGRAPH_VERBOSITY=10`) and attach the full output. Cause: converting <bound method Conv.call of <tensorflow.python.layers.convolutional.Conv2D object at 0x7f52c8052e10>>: AssertionError: Bad argument number for Name: 3, expecting 4\n",
      "WARNING:tensorflow:Entity <bound method BatchNormalization.call of <tensorflow.python.layers.normalization.BatchNormalization object at 0x7f52c4040b50>> could not be transformed and will be executed as-is. Please report this to the AutgoGraph team. When filing the bug, set the verbosity to 10 (on Linux, `export AUTOGRAPH_VERBOSITY=10`) and attach the full output. Cause: converting <bound method BatchNormalization.call of <tensorflow.python.layers.normalization.BatchNormalization object at 0x7f52c4040b50>>: AssertionError: Bad argument number for Name: 3, expecting 4\n"
     ]
    },
    {
     "name": "stderr",
     "output_type": "stream",
     "text": [
      "W0705 04:27:51.911551 139997008488192 ag_logging.py:145] Entity <bound method BatchNormalization.call of <tensorflow.python.layers.normalization.BatchNormalization object at 0x7f52c4040b50>> could not be transformed and will be executed as-is. Please report this to the AutgoGraph team. When filing the bug, set the verbosity to 10 (on Linux, `export AUTOGRAPH_VERBOSITY=10`) and attach the full output. Cause: converting <bound method BatchNormalization.call of <tensorflow.python.layers.normalization.BatchNormalization object at 0x7f52c4040b50>>: AssertionError: Bad argument number for Name: 3, expecting 4\n"
     ]
    },
    {
     "name": "stdout",
     "output_type": "stream",
     "text": [
      "WARNING: Entity <bound method BatchNormalization.call of <tensorflow.python.layers.normalization.BatchNormalization object at 0x7f52c4040b50>> could not be transformed and will be executed as-is. Please report this to the AutgoGraph team. When filing the bug, set the verbosity to 10 (on Linux, `export AUTOGRAPH_VERBOSITY=10`) and attach the full output. Cause: converting <bound method BatchNormalization.call of <tensorflow.python.layers.normalization.BatchNormalization object at 0x7f52c4040b50>>: AssertionError: Bad argument number for Name: 3, expecting 4\n",
      "WARNING:tensorflow:Entity <bound method Pooling2D.call of <tensorflow.python.layers.pooling.MaxPooling2D object at 0x7f52cfbc2c10>> could not be transformed and will be executed as-is. Please report this to the AutgoGraph team. When filing the bug, set the verbosity to 10 (on Linux, `export AUTOGRAPH_VERBOSITY=10`) and attach the full output. Cause: converting <bound method Pooling2D.call of <tensorflow.python.layers.pooling.MaxPooling2D object at 0x7f52cfbc2c10>>: AssertionError: Bad argument number for Name: 3, expecting 4\n"
     ]
    },
    {
     "name": "stderr",
     "output_type": "stream",
     "text": [
      "W0705 04:27:51.950711 139997008488192 ag_logging.py:145] Entity <bound method Pooling2D.call of <tensorflow.python.layers.pooling.MaxPooling2D object at 0x7f52cfbc2c10>> could not be transformed and will be executed as-is. Please report this to the AutgoGraph team. When filing the bug, set the verbosity to 10 (on Linux, `export AUTOGRAPH_VERBOSITY=10`) and attach the full output. Cause: converting <bound method Pooling2D.call of <tensorflow.python.layers.pooling.MaxPooling2D object at 0x7f52cfbc2c10>>: AssertionError: Bad argument number for Name: 3, expecting 4\n"
     ]
    },
    {
     "name": "stdout",
     "output_type": "stream",
     "text": [
      "WARNING: Entity <bound method Pooling2D.call of <tensorflow.python.layers.pooling.MaxPooling2D object at 0x7f52cfbc2c10>> could not be transformed and will be executed as-is. Please report this to the AutgoGraph team. When filing the bug, set the verbosity to 10 (on Linux, `export AUTOGRAPH_VERBOSITY=10`) and attach the full output. Cause: converting <bound method Pooling2D.call of <tensorflow.python.layers.pooling.MaxPooling2D object at 0x7f52cfbc2c10>>: AssertionError: Bad argument number for Name: 3, expecting 4\n",
      "WARNING:tensorflow:Entity <bound method Conv.call of <tensorflow.python.layers.convolutional.Conv2D object at 0x7f5394863810>> could not be transformed and will be executed as-is. Please report this to the AutgoGraph team. When filing the bug, set the verbosity to 10 (on Linux, `export AUTOGRAPH_VERBOSITY=10`) and attach the full output. Cause: converting <bound method Conv.call of <tensorflow.python.layers.convolutional.Conv2D object at 0x7f5394863810>>: AssertionError: Bad argument number for Name: 3, expecting 4\n"
     ]
    },
    {
     "name": "stderr",
     "output_type": "stream",
     "text": [
      "W0705 04:27:52.007800 139997008488192 ag_logging.py:145] Entity <bound method Conv.call of <tensorflow.python.layers.convolutional.Conv2D object at 0x7f5394863810>> could not be transformed and will be executed as-is. Please report this to the AutgoGraph team. When filing the bug, set the verbosity to 10 (on Linux, `export AUTOGRAPH_VERBOSITY=10`) and attach the full output. Cause: converting <bound method Conv.call of <tensorflow.python.layers.convolutional.Conv2D object at 0x7f5394863810>>: AssertionError: Bad argument number for Name: 3, expecting 4\n"
     ]
    },
    {
     "name": "stdout",
     "output_type": "stream",
     "text": [
      "WARNING: Entity <bound method Conv.call of <tensorflow.python.layers.convolutional.Conv2D object at 0x7f5394863810>> could not be transformed and will be executed as-is. Please report this to the AutgoGraph team. When filing the bug, set the verbosity to 10 (on Linux, `export AUTOGRAPH_VERBOSITY=10`) and attach the full output. Cause: converting <bound method Conv.call of <tensorflow.python.layers.convolutional.Conv2D object at 0x7f5394863810>>: AssertionError: Bad argument number for Name: 3, expecting 4\n",
      "WARNING:tensorflow:Entity <bound method BatchNormalization.call of <tensorflow.python.layers.normalization.BatchNormalization object at 0x7f52c403a290>> could not be transformed and will be executed as-is. Please report this to the AutgoGraph team. When filing the bug, set the verbosity to 10 (on Linux, `export AUTOGRAPH_VERBOSITY=10`) and attach the full output. Cause: converting <bound method BatchNormalization.call of <tensorflow.python.layers.normalization.BatchNormalization object at 0x7f52c403a290>>: AssertionError: Bad argument number for Name: 3, expecting 4\n"
     ]
    },
    {
     "name": "stderr",
     "output_type": "stream",
     "text": [
      "W0705 04:27:52.030482 139997008488192 ag_logging.py:145] Entity <bound method BatchNormalization.call of <tensorflow.python.layers.normalization.BatchNormalization object at 0x7f52c403a290>> could not be transformed and will be executed as-is. Please report this to the AutgoGraph team. When filing the bug, set the verbosity to 10 (on Linux, `export AUTOGRAPH_VERBOSITY=10`) and attach the full output. Cause: converting <bound method BatchNormalization.call of <tensorflow.python.layers.normalization.BatchNormalization object at 0x7f52c403a290>>: AssertionError: Bad argument number for Name: 3, expecting 4\n"
     ]
    },
    {
     "name": "stdout",
     "output_type": "stream",
     "text": [
      "WARNING: Entity <bound method BatchNormalization.call of <tensorflow.python.layers.normalization.BatchNormalization object at 0x7f52c403a290>> could not be transformed and will be executed as-is. Please report this to the AutgoGraph team. When filing the bug, set the verbosity to 10 (on Linux, `export AUTOGRAPH_VERBOSITY=10`) and attach the full output. Cause: converting <bound method BatchNormalization.call of <tensorflow.python.layers.normalization.BatchNormalization object at 0x7f52c403a290>>: AssertionError: Bad argument number for Name: 3, expecting 4\n",
      "WARNING:tensorflow:Entity <bound method Conv.call of <tensorflow.python.layers.convolutional.Conv2D object at 0x7f52c806b5d0>> could not be transformed and will be executed as-is. Please report this to the AutgoGraph team. When filing the bug, set the verbosity to 10 (on Linux, `export AUTOGRAPH_VERBOSITY=10`) and attach the full output. Cause: converting <bound method Conv.call of <tensorflow.python.layers.convolutional.Conv2D object at 0x7f52c806b5d0>>: AssertionError: Bad argument number for Name: 3, expecting 4\n"
     ]
    },
    {
     "name": "stderr",
     "output_type": "stream",
     "text": [
      "W0705 04:27:52.162895 139997008488192 ag_logging.py:145] Entity <bound method Conv.call of <tensorflow.python.layers.convolutional.Conv2D object at 0x7f52c806b5d0>> could not be transformed and will be executed as-is. Please report this to the AutgoGraph team. When filing the bug, set the verbosity to 10 (on Linux, `export AUTOGRAPH_VERBOSITY=10`) and attach the full output. Cause: converting <bound method Conv.call of <tensorflow.python.layers.convolutional.Conv2D object at 0x7f52c806b5d0>>: AssertionError: Bad argument number for Name: 3, expecting 4\n"
     ]
    },
    {
     "name": "stdout",
     "output_type": "stream",
     "text": [
      "WARNING: Entity <bound method Conv.call of <tensorflow.python.layers.convolutional.Conv2D object at 0x7f52c806b5d0>> could not be transformed and will be executed as-is. Please report this to the AutgoGraph team. When filing the bug, set the verbosity to 10 (on Linux, `export AUTOGRAPH_VERBOSITY=10`) and attach the full output. Cause: converting <bound method Conv.call of <tensorflow.python.layers.convolutional.Conv2D object at 0x7f52c806b5d0>>: AssertionError: Bad argument number for Name: 3, expecting 4\n",
      "WARNING:tensorflow:Entity <bound method BatchNormalization.call of <tensorflow.python.layers.normalization.BatchNormalization object at 0x7f52ac6d6610>> could not be transformed and will be executed as-is. Please report this to the AutgoGraph team. When filing the bug, set the verbosity to 10 (on Linux, `export AUTOGRAPH_VERBOSITY=10`) and attach the full output. Cause: converting <bound method BatchNormalization.call of <tensorflow.python.layers.normalization.BatchNormalization object at 0x7f52ac6d6610>>: AssertionError: Bad argument number for Name: 3, expecting 4\n"
     ]
    },
    {
     "name": "stderr",
     "output_type": "stream",
     "text": [
      "W0705 04:27:52.185230 139997008488192 ag_logging.py:145] Entity <bound method BatchNormalization.call of <tensorflow.python.layers.normalization.BatchNormalization object at 0x7f52ac6d6610>> could not be transformed and will be executed as-is. Please report this to the AutgoGraph team. When filing the bug, set the verbosity to 10 (on Linux, `export AUTOGRAPH_VERBOSITY=10`) and attach the full output. Cause: converting <bound method BatchNormalization.call of <tensorflow.python.layers.normalization.BatchNormalization object at 0x7f52ac6d6610>>: AssertionError: Bad argument number for Name: 3, expecting 4\n"
     ]
    },
    {
     "name": "stdout",
     "output_type": "stream",
     "text": [
      "WARNING: Entity <bound method BatchNormalization.call of <tensorflow.python.layers.normalization.BatchNormalization object at 0x7f52ac6d6610>> could not be transformed and will be executed as-is. Please report this to the AutgoGraph team. When filing the bug, set the verbosity to 10 (on Linux, `export AUTOGRAPH_VERBOSITY=10`) and attach the full output. Cause: converting <bound method BatchNormalization.call of <tensorflow.python.layers.normalization.BatchNormalization object at 0x7f52ac6d6610>>: AssertionError: Bad argument number for Name: 3, expecting 4\n",
      "WARNING:tensorflow:Entity <bound method Conv.call of <tensorflow.python.layers.convolutional.Conv2D object at 0x7f52c806bb50>> could not be transformed and will be executed as-is. Please report this to the AutgoGraph team. When filing the bug, set the verbosity to 10 (on Linux, `export AUTOGRAPH_VERBOSITY=10`) and attach the full output. Cause: converting <bound method Conv.call of <tensorflow.python.layers.convolutional.Conv2D object at 0x7f52c806bb50>>: AssertionError: Bad argument number for Name: 3, expecting 4\n"
     ]
    },
    {
     "name": "stderr",
     "output_type": "stream",
     "text": [
      "W0705 04:27:52.243596 139997008488192 ag_logging.py:145] Entity <bound method Conv.call of <tensorflow.python.layers.convolutional.Conv2D object at 0x7f52c806bb50>> could not be transformed and will be executed as-is. Please report this to the AutgoGraph team. When filing the bug, set the verbosity to 10 (on Linux, `export AUTOGRAPH_VERBOSITY=10`) and attach the full output. Cause: converting <bound method Conv.call of <tensorflow.python.layers.convolutional.Conv2D object at 0x7f52c806bb50>>: AssertionError: Bad argument number for Name: 3, expecting 4\n"
     ]
    },
    {
     "name": "stdout",
     "output_type": "stream",
     "text": [
      "WARNING: Entity <bound method Conv.call of <tensorflow.python.layers.convolutional.Conv2D object at 0x7f52c806bb50>> could not be transformed and will be executed as-is. Please report this to the AutgoGraph team. When filing the bug, set the verbosity to 10 (on Linux, `export AUTOGRAPH_VERBOSITY=10`) and attach the full output. Cause: converting <bound method Conv.call of <tensorflow.python.layers.convolutional.Conv2D object at 0x7f52c806bb50>>: AssertionError: Bad argument number for Name: 3, expecting 4\n",
      "WARNING:tensorflow:Entity <bound method BatchNormalization.call of <tensorflow.python.layers.normalization.BatchNormalization object at 0x7f52c4046c90>> could not be transformed and will be executed as-is. Please report this to the AutgoGraph team. When filing the bug, set the verbosity to 10 (on Linux, `export AUTOGRAPH_VERBOSITY=10`) and attach the full output. Cause: converting <bound method BatchNormalization.call of <tensorflow.python.layers.normalization.BatchNormalization object at 0x7f52c4046c90>>: AssertionError: Bad argument number for Name: 3, expecting 4\n"
     ]
    },
    {
     "name": "stderr",
     "output_type": "stream",
     "text": [
      "W0705 04:27:52.265971 139997008488192 ag_logging.py:145] Entity <bound method BatchNormalization.call of <tensorflow.python.layers.normalization.BatchNormalization object at 0x7f52c4046c90>> could not be transformed and will be executed as-is. Please report this to the AutgoGraph team. When filing the bug, set the verbosity to 10 (on Linux, `export AUTOGRAPH_VERBOSITY=10`) and attach the full output. Cause: converting <bound method BatchNormalization.call of <tensorflow.python.layers.normalization.BatchNormalization object at 0x7f52c4046c90>>: AssertionError: Bad argument number for Name: 3, expecting 4\n"
     ]
    },
    {
     "name": "stdout",
     "output_type": "stream",
     "text": [
      "WARNING: Entity <bound method BatchNormalization.call of <tensorflow.python.layers.normalization.BatchNormalization object at 0x7f52c4046c90>> could not be transformed and will be executed as-is. Please report this to the AutgoGraph team. When filing the bug, set the verbosity to 10 (on Linux, `export AUTOGRAPH_VERBOSITY=10`) and attach the full output. Cause: converting <bound method BatchNormalization.call of <tensorflow.python.layers.normalization.BatchNormalization object at 0x7f52c4046c90>>: AssertionError: Bad argument number for Name: 3, expecting 4\n",
      "WARNING:tensorflow:Entity <bound method Conv.call of <tensorflow.python.layers.convolutional.Conv2D object at 0x7f52c806b650>> could not be transformed and will be executed as-is. Please report this to the AutgoGraph team. When filing the bug, set the verbosity to 10 (on Linux, `export AUTOGRAPH_VERBOSITY=10`) and attach the full output. Cause: converting <bound method Conv.call of <tensorflow.python.layers.convolutional.Conv2D object at 0x7f52c806b650>>: AssertionError: Bad argument number for Name: 3, expecting 4\n"
     ]
    },
    {
     "name": "stderr",
     "output_type": "stream",
     "text": [
      "W0705 04:27:52.323647 139997008488192 ag_logging.py:145] Entity <bound method Conv.call of <tensorflow.python.layers.convolutional.Conv2D object at 0x7f52c806b650>> could not be transformed and will be executed as-is. Please report this to the AutgoGraph team. When filing the bug, set the verbosity to 10 (on Linux, `export AUTOGRAPH_VERBOSITY=10`) and attach the full output. Cause: converting <bound method Conv.call of <tensorflow.python.layers.convolutional.Conv2D object at 0x7f52c806b650>>: AssertionError: Bad argument number for Name: 3, expecting 4\n"
     ]
    },
    {
     "name": "stdout",
     "output_type": "stream",
     "text": [
      "WARNING: Entity <bound method Conv.call of <tensorflow.python.layers.convolutional.Conv2D object at 0x7f52c806b650>> could not be transformed and will be executed as-is. Please report this to the AutgoGraph team. When filing the bug, set the verbosity to 10 (on Linux, `export AUTOGRAPH_VERBOSITY=10`) and attach the full output. Cause: converting <bound method Conv.call of <tensorflow.python.layers.convolutional.Conv2D object at 0x7f52c806b650>>: AssertionError: Bad argument number for Name: 3, expecting 4\n",
      "WARNING:tensorflow:Entity <bound method BatchNormalization.call of <tensorflow.python.layers.normalization.BatchNormalization object at 0x7f52ac60ccd0>> could not be transformed and will be executed as-is. Please report this to the AutgoGraph team. When filing the bug, set the verbosity to 10 (on Linux, `export AUTOGRAPH_VERBOSITY=10`) and attach the full output. Cause: converting <bound method BatchNormalization.call of <tensorflow.python.layers.normalization.BatchNormalization object at 0x7f52ac60ccd0>>: AssertionError: Bad argument number for Name: 3, expecting 4\n"
     ]
    },
    {
     "name": "stderr",
     "output_type": "stream",
     "text": [
      "W0705 04:27:52.345874 139997008488192 ag_logging.py:145] Entity <bound method BatchNormalization.call of <tensorflow.python.layers.normalization.BatchNormalization object at 0x7f52ac60ccd0>> could not be transformed and will be executed as-is. Please report this to the AutgoGraph team. When filing the bug, set the verbosity to 10 (on Linux, `export AUTOGRAPH_VERBOSITY=10`) and attach the full output. Cause: converting <bound method BatchNormalization.call of <tensorflow.python.layers.normalization.BatchNormalization object at 0x7f52ac60ccd0>>: AssertionError: Bad argument number for Name: 3, expecting 4\n"
     ]
    },
    {
     "name": "stdout",
     "output_type": "stream",
     "text": [
      "WARNING: Entity <bound method BatchNormalization.call of <tensorflow.python.layers.normalization.BatchNormalization object at 0x7f52ac60ccd0>> could not be transformed and will be executed as-is. Please report this to the AutgoGraph team. When filing the bug, set the verbosity to 10 (on Linux, `export AUTOGRAPH_VERBOSITY=10`) and attach the full output. Cause: converting <bound method BatchNormalization.call of <tensorflow.python.layers.normalization.BatchNormalization object at 0x7f52ac60ccd0>>: AssertionError: Bad argument number for Name: 3, expecting 4\n",
      "WARNING:tensorflow:Entity <bound method Conv.call of <tensorflow.python.layers.convolutional.Conv2D object at 0x7f52ac781950>> could not be transformed and will be executed as-is. Please report this to the AutgoGraph team. When filing the bug, set the verbosity to 10 (on Linux, `export AUTOGRAPH_VERBOSITY=10`) and attach the full output. Cause: converting <bound method Conv.call of <tensorflow.python.layers.convolutional.Conv2D object at 0x7f52ac781950>>: AssertionError: Bad argument number for Name: 3, expecting 4\n"
     ]
    },
    {
     "name": "stderr",
     "output_type": "stream",
     "text": [
      "W0705 04:27:52.404524 139997008488192 ag_logging.py:145] Entity <bound method Conv.call of <tensorflow.python.layers.convolutional.Conv2D object at 0x7f52ac781950>> could not be transformed and will be executed as-is. Please report this to the AutgoGraph team. When filing the bug, set the verbosity to 10 (on Linux, `export AUTOGRAPH_VERBOSITY=10`) and attach the full output. Cause: converting <bound method Conv.call of <tensorflow.python.layers.convolutional.Conv2D object at 0x7f52ac781950>>: AssertionError: Bad argument number for Name: 3, expecting 4\n"
     ]
    },
    {
     "name": "stdout",
     "output_type": "stream",
     "text": [
      "WARNING: Entity <bound method Conv.call of <tensorflow.python.layers.convolutional.Conv2D object at 0x7f52ac781950>> could not be transformed and will be executed as-is. Please report this to the AutgoGraph team. When filing the bug, set the verbosity to 10 (on Linux, `export AUTOGRAPH_VERBOSITY=10`) and attach the full output. Cause: converting <bound method Conv.call of <tensorflow.python.layers.convolutional.Conv2D object at 0x7f52ac781950>>: AssertionError: Bad argument number for Name: 3, expecting 4\n",
      "WARNING:tensorflow:Entity <bound method BatchNormalization.call of <tensorflow.python.layers.normalization.BatchNormalization object at 0x7f52ac67fcd0>> could not be transformed and will be executed as-is. Please report this to the AutgoGraph team. When filing the bug, set the verbosity to 10 (on Linux, `export AUTOGRAPH_VERBOSITY=10`) and attach the full output. Cause: converting <bound method BatchNormalization.call of <tensorflow.python.layers.normalization.BatchNormalization object at 0x7f52ac67fcd0>>: AssertionError: Bad argument number for Name: 3, expecting 4\n"
     ]
    },
    {
     "name": "stderr",
     "output_type": "stream",
     "text": [
      "W0705 04:27:52.426804 139997008488192 ag_logging.py:145] Entity <bound method BatchNormalization.call of <tensorflow.python.layers.normalization.BatchNormalization object at 0x7f52ac67fcd0>> could not be transformed and will be executed as-is. Please report this to the AutgoGraph team. When filing the bug, set the verbosity to 10 (on Linux, `export AUTOGRAPH_VERBOSITY=10`) and attach the full output. Cause: converting <bound method BatchNormalization.call of <tensorflow.python.layers.normalization.BatchNormalization object at 0x7f52ac67fcd0>>: AssertionError: Bad argument number for Name: 3, expecting 4\n"
     ]
    },
    {
     "name": "stdout",
     "output_type": "stream",
     "text": [
      "WARNING: Entity <bound method BatchNormalization.call of <tensorflow.python.layers.normalization.BatchNormalization object at 0x7f52ac67fcd0>> could not be transformed and will be executed as-is. Please report this to the AutgoGraph team. When filing the bug, set the verbosity to 10 (on Linux, `export AUTOGRAPH_VERBOSITY=10`) and attach the full output. Cause: converting <bound method BatchNormalization.call of <tensorflow.python.layers.normalization.BatchNormalization object at 0x7f52ac67fcd0>>: AssertionError: Bad argument number for Name: 3, expecting 4\n",
      "WARNING:tensorflow:Entity <bound method Conv.call of <tensorflow.python.layers.convolutional.Conv2D object at 0x7f52ac6000d0>> could not be transformed and will be executed as-is. Please report this to the AutgoGraph team. When filing the bug, set the verbosity to 10 (on Linux, `export AUTOGRAPH_VERBOSITY=10`) and attach the full output. Cause: converting <bound method Conv.call of <tensorflow.python.layers.convolutional.Conv2D object at 0x7f52ac6000d0>>: AssertionError: Bad argument number for Name: 3, expecting 4\n"
     ]
    },
    {
     "name": "stderr",
     "output_type": "stream",
     "text": [
      "W0705 04:27:52.485824 139997008488192 ag_logging.py:145] Entity <bound method Conv.call of <tensorflow.python.layers.convolutional.Conv2D object at 0x7f52ac6000d0>> could not be transformed and will be executed as-is. Please report this to the AutgoGraph team. When filing the bug, set the verbosity to 10 (on Linux, `export AUTOGRAPH_VERBOSITY=10`) and attach the full output. Cause: converting <bound method Conv.call of <tensorflow.python.layers.convolutional.Conv2D object at 0x7f52ac6000d0>>: AssertionError: Bad argument number for Name: 3, expecting 4\n"
     ]
    },
    {
     "name": "stdout",
     "output_type": "stream",
     "text": [
      "WARNING: Entity <bound method Conv.call of <tensorflow.python.layers.convolutional.Conv2D object at 0x7f52ac6000d0>> could not be transformed and will be executed as-is. Please report this to the AutgoGraph team. When filing the bug, set the verbosity to 10 (on Linux, `export AUTOGRAPH_VERBOSITY=10`) and attach the full output. Cause: converting <bound method Conv.call of <tensorflow.python.layers.convolutional.Conv2D object at 0x7f52ac6000d0>>: AssertionError: Bad argument number for Name: 3, expecting 4\n",
      "WARNING:tensorflow:Entity <bound method BatchNormalization.call of <tensorflow.python.layers.normalization.BatchNormalization object at 0x7f52ac6acd10>> could not be transformed and will be executed as-is. Please report this to the AutgoGraph team. When filing the bug, set the verbosity to 10 (on Linux, `export AUTOGRAPH_VERBOSITY=10`) and attach the full output. Cause: converting <bound method BatchNormalization.call of <tensorflow.python.layers.normalization.BatchNormalization object at 0x7f52ac6acd10>>: AssertionError: Bad argument number for Name: 3, expecting 4\n"
     ]
    },
    {
     "name": "stderr",
     "output_type": "stream",
     "text": [
      "W0705 04:27:52.508082 139997008488192 ag_logging.py:145] Entity <bound method BatchNormalization.call of <tensorflow.python.layers.normalization.BatchNormalization object at 0x7f52ac6acd10>> could not be transformed and will be executed as-is. Please report this to the AutgoGraph team. When filing the bug, set the verbosity to 10 (on Linux, `export AUTOGRAPH_VERBOSITY=10`) and attach the full output. Cause: converting <bound method BatchNormalization.call of <tensorflow.python.layers.normalization.BatchNormalization object at 0x7f52ac6acd10>>: AssertionError: Bad argument number for Name: 3, expecting 4\n"
     ]
    },
    {
     "name": "stdout",
     "output_type": "stream",
     "text": [
      "WARNING: Entity <bound method BatchNormalization.call of <tensorflow.python.layers.normalization.BatchNormalization object at 0x7f52ac6acd10>> could not be transformed and will be executed as-is. Please report this to the AutgoGraph team. When filing the bug, set the verbosity to 10 (on Linux, `export AUTOGRAPH_VERBOSITY=10`) and attach the full output. Cause: converting <bound method BatchNormalization.call of <tensorflow.python.layers.normalization.BatchNormalization object at 0x7f52ac6acd10>>: AssertionError: Bad argument number for Name: 3, expecting 4\n",
      "WARNING:tensorflow:Entity <bound method Pooling2D.call of <tensorflow.python.layers.pooling.AveragePooling2D object at 0x7f52ac6000d0>> could not be transformed and will be executed as-is. Please report this to the AutgoGraph team. When filing the bug, set the verbosity to 10 (on Linux, `export AUTOGRAPH_VERBOSITY=10`) and attach the full output. Cause: converting <bound method Pooling2D.call of <tensorflow.python.layers.pooling.AveragePooling2D object at 0x7f52ac6000d0>>: AssertionError: Bad argument number for Name: 3, expecting 4\n"
     ]
    },
    {
     "name": "stderr",
     "output_type": "stream",
     "text": [
      "W0705 04:27:52.547245 139997008488192 ag_logging.py:145] Entity <bound method Pooling2D.call of <tensorflow.python.layers.pooling.AveragePooling2D object at 0x7f52ac6000d0>> could not be transformed and will be executed as-is. Please report this to the AutgoGraph team. When filing the bug, set the verbosity to 10 (on Linux, `export AUTOGRAPH_VERBOSITY=10`) and attach the full output. Cause: converting <bound method Pooling2D.call of <tensorflow.python.layers.pooling.AveragePooling2D object at 0x7f52ac6000d0>>: AssertionError: Bad argument number for Name: 3, expecting 4\n"
     ]
    },
    {
     "name": "stdout",
     "output_type": "stream",
     "text": [
      "WARNING: Entity <bound method Pooling2D.call of <tensorflow.python.layers.pooling.AveragePooling2D object at 0x7f52ac6000d0>> could not be transformed and will be executed as-is. Please report this to the AutgoGraph team. When filing the bug, set the verbosity to 10 (on Linux, `export AUTOGRAPH_VERBOSITY=10`) and attach the full output. Cause: converting <bound method Pooling2D.call of <tensorflow.python.layers.pooling.AveragePooling2D object at 0x7f52ac6000d0>>: AssertionError: Bad argument number for Name: 3, expecting 4\n",
      "WARNING:tensorflow:Entity <bound method Conv.call of <tensorflow.python.layers.convolutional.Conv2D object at 0x7f52c806b990>> could not be transformed and will be executed as-is. Please report this to the AutgoGraph team. When filing the bug, set the verbosity to 10 (on Linux, `export AUTOGRAPH_VERBOSITY=10`) and attach the full output. Cause: converting <bound method Conv.call of <tensorflow.python.layers.convolutional.Conv2D object at 0x7f52c806b990>>: AssertionError: Bad argument number for Name: 3, expecting 4\n"
     ]
    },
    {
     "name": "stderr",
     "output_type": "stream",
     "text": [
      "W0705 04:27:52.603872 139997008488192 ag_logging.py:145] Entity <bound method Conv.call of <tensorflow.python.layers.convolutional.Conv2D object at 0x7f52c806b990>> could not be transformed and will be executed as-is. Please report this to the AutgoGraph team. When filing the bug, set the verbosity to 10 (on Linux, `export AUTOGRAPH_VERBOSITY=10`) and attach the full output. Cause: converting <bound method Conv.call of <tensorflow.python.layers.convolutional.Conv2D object at 0x7f52c806b990>>: AssertionError: Bad argument number for Name: 3, expecting 4\n"
     ]
    },
    {
     "name": "stdout",
     "output_type": "stream",
     "text": [
      "WARNING: Entity <bound method Conv.call of <tensorflow.python.layers.convolutional.Conv2D object at 0x7f52c806b990>> could not be transformed and will be executed as-is. Please report this to the AutgoGraph team. When filing the bug, set the verbosity to 10 (on Linux, `export AUTOGRAPH_VERBOSITY=10`) and attach the full output. Cause: converting <bound method Conv.call of <tensorflow.python.layers.convolutional.Conv2D object at 0x7f52c806b990>>: AssertionError: Bad argument number for Name: 3, expecting 4\n",
      "WARNING:tensorflow:Entity <bound method BatchNormalization.call of <tensorflow.python.layers.normalization.BatchNormalization object at 0x7f52ac51e5d0>> could not be transformed and will be executed as-is. Please report this to the AutgoGraph team. When filing the bug, set the verbosity to 10 (on Linux, `export AUTOGRAPH_VERBOSITY=10`) and attach the full output. Cause: converting <bound method BatchNormalization.call of <tensorflow.python.layers.normalization.BatchNormalization object at 0x7f52ac51e5d0>>: AssertionError: Bad argument number for Name: 3, expecting 4\n"
     ]
    },
    {
     "name": "stderr",
     "output_type": "stream",
     "text": [
      "W0705 04:27:52.626632 139997008488192 ag_logging.py:145] Entity <bound method BatchNormalization.call of <tensorflow.python.layers.normalization.BatchNormalization object at 0x7f52ac51e5d0>> could not be transformed and will be executed as-is. Please report this to the AutgoGraph team. When filing the bug, set the verbosity to 10 (on Linux, `export AUTOGRAPH_VERBOSITY=10`) and attach the full output. Cause: converting <bound method BatchNormalization.call of <tensorflow.python.layers.normalization.BatchNormalization object at 0x7f52ac51e5d0>>: AssertionError: Bad argument number for Name: 3, expecting 4\n"
     ]
    },
    {
     "name": "stdout",
     "output_type": "stream",
     "text": [
      "WARNING: Entity <bound method BatchNormalization.call of <tensorflow.python.layers.normalization.BatchNormalization object at 0x7f52ac51e5d0>> could not be transformed and will be executed as-is. Please report this to the AutgoGraph team. When filing the bug, set the verbosity to 10 (on Linux, `export AUTOGRAPH_VERBOSITY=10`) and attach the full output. Cause: converting <bound method BatchNormalization.call of <tensorflow.python.layers.normalization.BatchNormalization object at 0x7f52ac51e5d0>>: AssertionError: Bad argument number for Name: 3, expecting 4\n",
      "WARNING:tensorflow:Entity <bound method Conv.call of <tensorflow.python.layers.convolutional.Conv2D object at 0x7f52c4040ed0>> could not be transformed and will be executed as-is. Please report this to the AutgoGraph team. When filing the bug, set the verbosity to 10 (on Linux, `export AUTOGRAPH_VERBOSITY=10`) and attach the full output. Cause: converting <bound method Conv.call of <tensorflow.python.layers.convolutional.Conv2D object at 0x7f52c4040ed0>>: AssertionError: Bad argument number for Name: 3, expecting 4\n"
     ]
    },
    {
     "name": "stderr",
     "output_type": "stream",
     "text": [
      "W0705 04:27:52.685813 139997008488192 ag_logging.py:145] Entity <bound method Conv.call of <tensorflow.python.layers.convolutional.Conv2D object at 0x7f52c4040ed0>> could not be transformed and will be executed as-is. Please report this to the AutgoGraph team. When filing the bug, set the verbosity to 10 (on Linux, `export AUTOGRAPH_VERBOSITY=10`) and attach the full output. Cause: converting <bound method Conv.call of <tensorflow.python.layers.convolutional.Conv2D object at 0x7f52c4040ed0>>: AssertionError: Bad argument number for Name: 3, expecting 4\n"
     ]
    },
    {
     "name": "stdout",
     "output_type": "stream",
     "text": [
      "WARNING: Entity <bound method Conv.call of <tensorflow.python.layers.convolutional.Conv2D object at 0x7f52c4040ed0>> could not be transformed and will be executed as-is. Please report this to the AutgoGraph team. When filing the bug, set the verbosity to 10 (on Linux, `export AUTOGRAPH_VERBOSITY=10`) and attach the full output. Cause: converting <bound method Conv.call of <tensorflow.python.layers.convolutional.Conv2D object at 0x7f52c4040ed0>>: AssertionError: Bad argument number for Name: 3, expecting 4\n",
      "WARNING:tensorflow:Entity <bound method BatchNormalization.call of <tensorflow.python.layers.normalization.BatchNormalization object at 0x7f52ac4f3d50>> could not be transformed and will be executed as-is. Please report this to the AutgoGraph team. When filing the bug, set the verbosity to 10 (on Linux, `export AUTOGRAPH_VERBOSITY=10`) and attach the full output. Cause: converting <bound method BatchNormalization.call of <tensorflow.python.layers.normalization.BatchNormalization object at 0x7f52ac4f3d50>>: AssertionError: Bad argument number for Name: 3, expecting 4\n"
     ]
    },
    {
     "name": "stderr",
     "output_type": "stream",
     "text": [
      "W0705 04:27:52.708392 139997008488192 ag_logging.py:145] Entity <bound method BatchNormalization.call of <tensorflow.python.layers.normalization.BatchNormalization object at 0x7f52ac4f3d50>> could not be transformed and will be executed as-is. Please report this to the AutgoGraph team. When filing the bug, set the verbosity to 10 (on Linux, `export AUTOGRAPH_VERBOSITY=10`) and attach the full output. Cause: converting <bound method BatchNormalization.call of <tensorflow.python.layers.normalization.BatchNormalization object at 0x7f52ac4f3d50>>: AssertionError: Bad argument number for Name: 3, expecting 4\n"
     ]
    },
    {
     "name": "stdout",
     "output_type": "stream",
     "text": [
      "WARNING: Entity <bound method BatchNormalization.call of <tensorflow.python.layers.normalization.BatchNormalization object at 0x7f52ac4f3d50>> could not be transformed and will be executed as-is. Please report this to the AutgoGraph team. When filing the bug, set the verbosity to 10 (on Linux, `export AUTOGRAPH_VERBOSITY=10`) and attach the full output. Cause: converting <bound method BatchNormalization.call of <tensorflow.python.layers.normalization.BatchNormalization object at 0x7f52ac4f3d50>>: AssertionError: Bad argument number for Name: 3, expecting 4\n",
      "WARNING:tensorflow:Entity <bound method Conv.call of <tensorflow.python.layers.convolutional.Conv2D object at 0x7f52c40e33d0>> could not be transformed and will be executed as-is. Please report this to the AutgoGraph team. When filing the bug, set the verbosity to 10 (on Linux, `export AUTOGRAPH_VERBOSITY=10`) and attach the full output. Cause: converting <bound method Conv.call of <tensorflow.python.layers.convolutional.Conv2D object at 0x7f52c40e33d0>>: AssertionError: Bad argument number for Name: 3, expecting 4\n"
     ]
    },
    {
     "name": "stderr",
     "output_type": "stream",
     "text": [
      "W0705 04:27:52.766502 139997008488192 ag_logging.py:145] Entity <bound method Conv.call of <tensorflow.python.layers.convolutional.Conv2D object at 0x7f52c40e33d0>> could not be transformed and will be executed as-is. Please report this to the AutgoGraph team. When filing the bug, set the verbosity to 10 (on Linux, `export AUTOGRAPH_VERBOSITY=10`) and attach the full output. Cause: converting <bound method Conv.call of <tensorflow.python.layers.convolutional.Conv2D object at 0x7f52c40e33d0>>: AssertionError: Bad argument number for Name: 3, expecting 4\n"
     ]
    },
    {
     "name": "stdout",
     "output_type": "stream",
     "text": [
      "WARNING: Entity <bound method Conv.call of <tensorflow.python.layers.convolutional.Conv2D object at 0x7f52c40e33d0>> could not be transformed and will be executed as-is. Please report this to the AutgoGraph team. When filing the bug, set the verbosity to 10 (on Linux, `export AUTOGRAPH_VERBOSITY=10`) and attach the full output. Cause: converting <bound method Conv.call of <tensorflow.python.layers.convolutional.Conv2D object at 0x7f52c40e33d0>>: AssertionError: Bad argument number for Name: 3, expecting 4\n",
      "WARNING:tensorflow:Entity <bound method BatchNormalization.call of <tensorflow.python.layers.normalization.BatchNormalization object at 0x7f52ac67fd50>> could not be transformed and will be executed as-is. Please report this to the AutgoGraph team. When filing the bug, set the verbosity to 10 (on Linux, `export AUTOGRAPH_VERBOSITY=10`) and attach the full output. Cause: converting <bound method BatchNormalization.call of <tensorflow.python.layers.normalization.BatchNormalization object at 0x7f52ac67fd50>>: AssertionError: Bad argument number for Name: 3, expecting 4\n"
     ]
    },
    {
     "name": "stderr",
     "output_type": "stream",
     "text": [
      "W0705 04:27:52.788923 139997008488192 ag_logging.py:145] Entity <bound method BatchNormalization.call of <tensorflow.python.layers.normalization.BatchNormalization object at 0x7f52ac67fd50>> could not be transformed and will be executed as-is. Please report this to the AutgoGraph team. When filing the bug, set the verbosity to 10 (on Linux, `export AUTOGRAPH_VERBOSITY=10`) and attach the full output. Cause: converting <bound method BatchNormalization.call of <tensorflow.python.layers.normalization.BatchNormalization object at 0x7f52ac67fd50>>: AssertionError: Bad argument number for Name: 3, expecting 4\n"
     ]
    },
    {
     "name": "stdout",
     "output_type": "stream",
     "text": [
      "WARNING: Entity <bound method BatchNormalization.call of <tensorflow.python.layers.normalization.BatchNormalization object at 0x7f52ac67fd50>> could not be transformed and will be executed as-is. Please report this to the AutgoGraph team. When filing the bug, set the verbosity to 10 (on Linux, `export AUTOGRAPH_VERBOSITY=10`) and attach the full output. Cause: converting <bound method BatchNormalization.call of <tensorflow.python.layers.normalization.BatchNormalization object at 0x7f52ac67fd50>>: AssertionError: Bad argument number for Name: 3, expecting 4\n",
      "WARNING:tensorflow:Entity <bound method Conv.call of <tensorflow.python.layers.convolutional.Conv2D object at 0x7f52c4107550>> could not be transformed and will be executed as-is. Please report this to the AutgoGraph team. When filing the bug, set the verbosity to 10 (on Linux, `export AUTOGRAPH_VERBOSITY=10`) and attach the full output. Cause: converting <bound method Conv.call of <tensorflow.python.layers.convolutional.Conv2D object at 0x7f52c4107550>>: AssertionError: Bad argument number for Name: 3, expecting 4\n"
     ]
    },
    {
     "name": "stderr",
     "output_type": "stream",
     "text": [
      "W0705 04:27:52.847264 139997008488192 ag_logging.py:145] Entity <bound method Conv.call of <tensorflow.python.layers.convolutional.Conv2D object at 0x7f52c4107550>> could not be transformed and will be executed as-is. Please report this to the AutgoGraph team. When filing the bug, set the verbosity to 10 (on Linux, `export AUTOGRAPH_VERBOSITY=10`) and attach the full output. Cause: converting <bound method Conv.call of <tensorflow.python.layers.convolutional.Conv2D object at 0x7f52c4107550>>: AssertionError: Bad argument number for Name: 3, expecting 4\n"
     ]
    },
    {
     "name": "stdout",
     "output_type": "stream",
     "text": [
      "WARNING: Entity <bound method Conv.call of <tensorflow.python.layers.convolutional.Conv2D object at 0x7f52c4107550>> could not be transformed and will be executed as-is. Please report this to the AutgoGraph team. When filing the bug, set the verbosity to 10 (on Linux, `export AUTOGRAPH_VERBOSITY=10`) and attach the full output. Cause: converting <bound method Conv.call of <tensorflow.python.layers.convolutional.Conv2D object at 0x7f52c4107550>>: AssertionError: Bad argument number for Name: 3, expecting 4\n",
      "WARNING:tensorflow:Entity <bound method BatchNormalization.call of <tensorflow.python.layers.normalization.BatchNormalization object at 0x7f52ac3b9f90>> could not be transformed and will be executed as-is. Please report this to the AutgoGraph team. When filing the bug, set the verbosity to 10 (on Linux, `export AUTOGRAPH_VERBOSITY=10`) and attach the full output. Cause: converting <bound method BatchNormalization.call of <tensorflow.python.layers.normalization.BatchNormalization object at 0x7f52ac3b9f90>>: AssertionError: Bad argument number for Name: 3, expecting 4\n"
     ]
    },
    {
     "name": "stderr",
     "output_type": "stream",
     "text": [
      "W0705 04:27:52.869657 139997008488192 ag_logging.py:145] Entity <bound method BatchNormalization.call of <tensorflow.python.layers.normalization.BatchNormalization object at 0x7f52ac3b9f90>> could not be transformed and will be executed as-is. Please report this to the AutgoGraph team. When filing the bug, set the verbosity to 10 (on Linux, `export AUTOGRAPH_VERBOSITY=10`) and attach the full output. Cause: converting <bound method BatchNormalization.call of <tensorflow.python.layers.normalization.BatchNormalization object at 0x7f52ac3b9f90>>: AssertionError: Bad argument number for Name: 3, expecting 4\n"
     ]
    },
    {
     "name": "stdout",
     "output_type": "stream",
     "text": [
      "WARNING: Entity <bound method BatchNormalization.call of <tensorflow.python.layers.normalization.BatchNormalization object at 0x7f52ac3b9f90>> could not be transformed and will be executed as-is. Please report this to the AutgoGraph team. When filing the bug, set the verbosity to 10 (on Linux, `export AUTOGRAPH_VERBOSITY=10`) and attach the full output. Cause: converting <bound method BatchNormalization.call of <tensorflow.python.layers.normalization.BatchNormalization object at 0x7f52ac3b9f90>>: AssertionError: Bad argument number for Name: 3, expecting 4\n",
      "WARNING:tensorflow:Entity <bound method Conv.call of <tensorflow.python.layers.convolutional.Conv2D object at 0x7f52ac4ab810>> could not be transformed and will be executed as-is. Please report this to the AutgoGraph team. When filing the bug, set the verbosity to 10 (on Linux, `export AUTOGRAPH_VERBOSITY=10`) and attach the full output. Cause: converting <bound method Conv.call of <tensorflow.python.layers.convolutional.Conv2D object at 0x7f52ac4ab810>>: AssertionError: Bad argument number for Name: 3, expecting 4\n"
     ]
    },
    {
     "name": "stderr",
     "output_type": "stream",
     "text": [
      "W0705 04:27:52.932938 139997008488192 ag_logging.py:145] Entity <bound method Conv.call of <tensorflow.python.layers.convolutional.Conv2D object at 0x7f52ac4ab810>> could not be transformed and will be executed as-is. Please report this to the AutgoGraph team. When filing the bug, set the verbosity to 10 (on Linux, `export AUTOGRAPH_VERBOSITY=10`) and attach the full output. Cause: converting <bound method Conv.call of <tensorflow.python.layers.convolutional.Conv2D object at 0x7f52ac4ab810>>: AssertionError: Bad argument number for Name: 3, expecting 4\n"
     ]
    },
    {
     "name": "stdout",
     "output_type": "stream",
     "text": [
      "WARNING: Entity <bound method Conv.call of <tensorflow.python.layers.convolutional.Conv2D object at 0x7f52ac4ab810>> could not be transformed and will be executed as-is. Please report this to the AutgoGraph team. When filing the bug, set the verbosity to 10 (on Linux, `export AUTOGRAPH_VERBOSITY=10`) and attach the full output. Cause: converting <bound method Conv.call of <tensorflow.python.layers.convolutional.Conv2D object at 0x7f52ac4ab810>>: AssertionError: Bad argument number for Name: 3, expecting 4\n",
      "WARNING:tensorflow:Entity <bound method BatchNormalization.call of <tensorflow.python.layers.normalization.BatchNormalization object at 0x7f52ac3b9fd0>> could not be transformed and will be executed as-is. Please report this to the AutgoGraph team. When filing the bug, set the verbosity to 10 (on Linux, `export AUTOGRAPH_VERBOSITY=10`) and attach the full output. Cause: converting <bound method BatchNormalization.call of <tensorflow.python.layers.normalization.BatchNormalization object at 0x7f52ac3b9fd0>>: AssertionError: Bad argument number for Name: 3, expecting 4\n"
     ]
    },
    {
     "name": "stderr",
     "output_type": "stream",
     "text": [
      "W0705 04:27:52.955158 139997008488192 ag_logging.py:145] Entity <bound method BatchNormalization.call of <tensorflow.python.layers.normalization.BatchNormalization object at 0x7f52ac3b9fd0>> could not be transformed and will be executed as-is. Please report this to the AutgoGraph team. When filing the bug, set the verbosity to 10 (on Linux, `export AUTOGRAPH_VERBOSITY=10`) and attach the full output. Cause: converting <bound method BatchNormalization.call of <tensorflow.python.layers.normalization.BatchNormalization object at 0x7f52ac3b9fd0>>: AssertionError: Bad argument number for Name: 3, expecting 4\n"
     ]
    },
    {
     "name": "stdout",
     "output_type": "stream",
     "text": [
      "WARNING: Entity <bound method BatchNormalization.call of <tensorflow.python.layers.normalization.BatchNormalization object at 0x7f52ac3b9fd0>> could not be transformed and will be executed as-is. Please report this to the AutgoGraph team. When filing the bug, set the verbosity to 10 (on Linux, `export AUTOGRAPH_VERBOSITY=10`) and attach the full output. Cause: converting <bound method BatchNormalization.call of <tensorflow.python.layers.normalization.BatchNormalization object at 0x7f52ac3b9fd0>>: AssertionError: Bad argument number for Name: 3, expecting 4\n",
      "WARNING:tensorflow:Entity <bound method Conv.call of <tensorflow.python.layers.convolutional.Conv2D object at 0x7f52c4040ed0>> could not be transformed and will be executed as-is. Please report this to the AutgoGraph team. When filing the bug, set the verbosity to 10 (on Linux, `export AUTOGRAPH_VERBOSITY=10`) and attach the full output. Cause: converting <bound method Conv.call of <tensorflow.python.layers.convolutional.Conv2D object at 0x7f52c4040ed0>>: AssertionError: Bad argument number for Name: 3, expecting 4\n"
     ]
    },
    {
     "name": "stderr",
     "output_type": "stream",
     "text": [
      "W0705 04:27:53.013451 139997008488192 ag_logging.py:145] Entity <bound method Conv.call of <tensorflow.python.layers.convolutional.Conv2D object at 0x7f52c4040ed0>> could not be transformed and will be executed as-is. Please report this to the AutgoGraph team. When filing the bug, set the verbosity to 10 (on Linux, `export AUTOGRAPH_VERBOSITY=10`) and attach the full output. Cause: converting <bound method Conv.call of <tensorflow.python.layers.convolutional.Conv2D object at 0x7f52c4040ed0>>: AssertionError: Bad argument number for Name: 3, expecting 4\n"
     ]
    },
    {
     "name": "stdout",
     "output_type": "stream",
     "text": [
      "WARNING: Entity <bound method Conv.call of <tensorflow.python.layers.convolutional.Conv2D object at 0x7f52c4040ed0>> could not be transformed and will be executed as-is. Please report this to the AutgoGraph team. When filing the bug, set the verbosity to 10 (on Linux, `export AUTOGRAPH_VERBOSITY=10`) and attach the full output. Cause: converting <bound method Conv.call of <tensorflow.python.layers.convolutional.Conv2D object at 0x7f52c4040ed0>>: AssertionError: Bad argument number for Name: 3, expecting 4\n",
      "WARNING:tensorflow:Entity <bound method BatchNormalization.call of <tensorflow.python.layers.normalization.BatchNormalization object at 0x7f52ac30ce90>> could not be transformed and will be executed as-is. Please report this to the AutgoGraph team. When filing the bug, set the verbosity to 10 (on Linux, `export AUTOGRAPH_VERBOSITY=10`) and attach the full output. Cause: converting <bound method BatchNormalization.call of <tensorflow.python.layers.normalization.BatchNormalization object at 0x7f52ac30ce90>>: AssertionError: Bad argument number for Name: 3, expecting 4\n"
     ]
    },
    {
     "name": "stderr",
     "output_type": "stream",
     "text": [
      "W0705 04:27:53.035686 139997008488192 ag_logging.py:145] Entity <bound method BatchNormalization.call of <tensorflow.python.layers.normalization.BatchNormalization object at 0x7f52ac30ce90>> could not be transformed and will be executed as-is. Please report this to the AutgoGraph team. When filing the bug, set the verbosity to 10 (on Linux, `export AUTOGRAPH_VERBOSITY=10`) and attach the full output. Cause: converting <bound method BatchNormalization.call of <tensorflow.python.layers.normalization.BatchNormalization object at 0x7f52ac30ce90>>: AssertionError: Bad argument number for Name: 3, expecting 4\n"
     ]
    },
    {
     "name": "stdout",
     "output_type": "stream",
     "text": [
      "WARNING: Entity <bound method BatchNormalization.call of <tensorflow.python.layers.normalization.BatchNormalization object at 0x7f52ac30ce90>> could not be transformed and will be executed as-is. Please report this to the AutgoGraph team. When filing the bug, set the verbosity to 10 (on Linux, `export AUTOGRAPH_VERBOSITY=10`) and attach the full output. Cause: converting <bound method BatchNormalization.call of <tensorflow.python.layers.normalization.BatchNormalization object at 0x7f52ac30ce90>>: AssertionError: Bad argument number for Name: 3, expecting 4\n",
      "WARNING:tensorflow:Entity <bound method Conv.call of <tensorflow.python.layers.convolutional.Conv2D object at 0x7f52ac6a6110>> could not be transformed and will be executed as-is. Please report this to the AutgoGraph team. When filing the bug, set the verbosity to 10 (on Linux, `export AUTOGRAPH_VERBOSITY=10`) and attach the full output. Cause: converting <bound method Conv.call of <tensorflow.python.layers.convolutional.Conv2D object at 0x7f52ac6a6110>>: AssertionError: Bad argument number for Name: 3, expecting 4\n"
     ]
    },
    {
     "name": "stderr",
     "output_type": "stream",
     "text": [
      "W0705 04:27:53.093497 139997008488192 ag_logging.py:145] Entity <bound method Conv.call of <tensorflow.python.layers.convolutional.Conv2D object at 0x7f52ac6a6110>> could not be transformed and will be executed as-is. Please report this to the AutgoGraph team. When filing the bug, set the verbosity to 10 (on Linux, `export AUTOGRAPH_VERBOSITY=10`) and attach the full output. Cause: converting <bound method Conv.call of <tensorflow.python.layers.convolutional.Conv2D object at 0x7f52ac6a6110>>: AssertionError: Bad argument number for Name: 3, expecting 4\n"
     ]
    },
    {
     "name": "stdout",
     "output_type": "stream",
     "text": [
      "WARNING: Entity <bound method Conv.call of <tensorflow.python.layers.convolutional.Conv2D object at 0x7f52ac6a6110>> could not be transformed and will be executed as-is. Please report this to the AutgoGraph team. When filing the bug, set the verbosity to 10 (on Linux, `export AUTOGRAPH_VERBOSITY=10`) and attach the full output. Cause: converting <bound method Conv.call of <tensorflow.python.layers.convolutional.Conv2D object at 0x7f52ac6a6110>>: AssertionError: Bad argument number for Name: 3, expecting 4\n",
      "WARNING:tensorflow:Entity <bound method BatchNormalization.call of <tensorflow.python.layers.normalization.BatchNormalization object at 0x7f52ac423e90>> could not be transformed and will be executed as-is. Please report this to the AutgoGraph team. When filing the bug, set the verbosity to 10 (on Linux, `export AUTOGRAPH_VERBOSITY=10`) and attach the full output. Cause: converting <bound method BatchNormalization.call of <tensorflow.python.layers.normalization.BatchNormalization object at 0x7f52ac423e90>>: AssertionError: Bad argument number for Name: 3, expecting 4\n"
     ]
    },
    {
     "name": "stderr",
     "output_type": "stream",
     "text": [
      "W0705 04:27:53.115615 139997008488192 ag_logging.py:145] Entity <bound method BatchNormalization.call of <tensorflow.python.layers.normalization.BatchNormalization object at 0x7f52ac423e90>> could not be transformed and will be executed as-is. Please report this to the AutgoGraph team. When filing the bug, set the verbosity to 10 (on Linux, `export AUTOGRAPH_VERBOSITY=10`) and attach the full output. Cause: converting <bound method BatchNormalization.call of <tensorflow.python.layers.normalization.BatchNormalization object at 0x7f52ac423e90>>: AssertionError: Bad argument number for Name: 3, expecting 4\n"
     ]
    },
    {
     "name": "stdout",
     "output_type": "stream",
     "text": [
      "WARNING: Entity <bound method BatchNormalization.call of <tensorflow.python.layers.normalization.BatchNormalization object at 0x7f52ac423e90>> could not be transformed and will be executed as-is. Please report this to the AutgoGraph team. When filing the bug, set the verbosity to 10 (on Linux, `export AUTOGRAPH_VERBOSITY=10`) and attach the full output. Cause: converting <bound method BatchNormalization.call of <tensorflow.python.layers.normalization.BatchNormalization object at 0x7f52ac423e90>>: AssertionError: Bad argument number for Name: 3, expecting 4\n",
      "WARNING:tensorflow:Entity <bound method Pooling2D.call of <tensorflow.python.layers.pooling.AveragePooling2D object at 0x7f52ac5c9450>> could not be transformed and will be executed as-is. Please report this to the AutgoGraph team. When filing the bug, set the verbosity to 10 (on Linux, `export AUTOGRAPH_VERBOSITY=10`) and attach the full output. Cause: converting <bound method Pooling2D.call of <tensorflow.python.layers.pooling.AveragePooling2D object at 0x7f52ac5c9450>>: AssertionError: Bad argument number for Name: 3, expecting 4\n"
     ]
    },
    {
     "name": "stderr",
     "output_type": "stream",
     "text": [
      "W0705 04:27:53.154246 139997008488192 ag_logging.py:145] Entity <bound method Pooling2D.call of <tensorflow.python.layers.pooling.AveragePooling2D object at 0x7f52ac5c9450>> could not be transformed and will be executed as-is. Please report this to the AutgoGraph team. When filing the bug, set the verbosity to 10 (on Linux, `export AUTOGRAPH_VERBOSITY=10`) and attach the full output. Cause: converting <bound method Pooling2D.call of <tensorflow.python.layers.pooling.AveragePooling2D object at 0x7f52ac5c9450>>: AssertionError: Bad argument number for Name: 3, expecting 4\n"
     ]
    },
    {
     "name": "stdout",
     "output_type": "stream",
     "text": [
      "WARNING: Entity <bound method Pooling2D.call of <tensorflow.python.layers.pooling.AveragePooling2D object at 0x7f52ac5c9450>> could not be transformed and will be executed as-is. Please report this to the AutgoGraph team. When filing the bug, set the verbosity to 10 (on Linux, `export AUTOGRAPH_VERBOSITY=10`) and attach the full output. Cause: converting <bound method Pooling2D.call of <tensorflow.python.layers.pooling.AveragePooling2D object at 0x7f52ac5c9450>>: AssertionError: Bad argument number for Name: 3, expecting 4\n",
      "WARNING:tensorflow:Entity <bound method Conv.call of <tensorflow.python.layers.convolutional.Conv2D object at 0x7f52ac6c0b90>> could not be transformed and will be executed as-is. Please report this to the AutgoGraph team. When filing the bug, set the verbosity to 10 (on Linux, `export AUTOGRAPH_VERBOSITY=10`) and attach the full output. Cause: converting <bound method Conv.call of <tensorflow.python.layers.convolutional.Conv2D object at 0x7f52ac6c0b90>>: AssertionError: Bad argument number for Name: 3, expecting 4\n"
     ]
    },
    {
     "name": "stderr",
     "output_type": "stream",
     "text": [
      "W0705 04:27:53.211280 139997008488192 ag_logging.py:145] Entity <bound method Conv.call of <tensorflow.python.layers.convolutional.Conv2D object at 0x7f52ac6c0b90>> could not be transformed and will be executed as-is. Please report this to the AutgoGraph team. When filing the bug, set the verbosity to 10 (on Linux, `export AUTOGRAPH_VERBOSITY=10`) and attach the full output. Cause: converting <bound method Conv.call of <tensorflow.python.layers.convolutional.Conv2D object at 0x7f52ac6c0b90>>: AssertionError: Bad argument number for Name: 3, expecting 4\n"
     ]
    },
    {
     "name": "stdout",
     "output_type": "stream",
     "text": [
      "WARNING: Entity <bound method Conv.call of <tensorflow.python.layers.convolutional.Conv2D object at 0x7f52ac6c0b90>> could not be transformed and will be executed as-is. Please report this to the AutgoGraph team. When filing the bug, set the verbosity to 10 (on Linux, `export AUTOGRAPH_VERBOSITY=10`) and attach the full output. Cause: converting <bound method Conv.call of <tensorflow.python.layers.convolutional.Conv2D object at 0x7f52ac6c0b90>>: AssertionError: Bad argument number for Name: 3, expecting 4\n",
      "WARNING:tensorflow:Entity <bound method BatchNormalization.call of <tensorflow.python.layers.normalization.BatchNormalization object at 0x7f52ac2441d0>> could not be transformed and will be executed as-is. Please report this to the AutgoGraph team. When filing the bug, set the verbosity to 10 (on Linux, `export AUTOGRAPH_VERBOSITY=10`) and attach the full output. Cause: converting <bound method BatchNormalization.call of <tensorflow.python.layers.normalization.BatchNormalization object at 0x7f52ac2441d0>>: AssertionError: Bad argument number for Name: 3, expecting 4\n"
     ]
    },
    {
     "name": "stderr",
     "output_type": "stream",
     "text": [
      "W0705 04:27:53.233849 139997008488192 ag_logging.py:145] Entity <bound method BatchNormalization.call of <tensorflow.python.layers.normalization.BatchNormalization object at 0x7f52ac2441d0>> could not be transformed and will be executed as-is. Please report this to the AutgoGraph team. When filing the bug, set the verbosity to 10 (on Linux, `export AUTOGRAPH_VERBOSITY=10`) and attach the full output. Cause: converting <bound method BatchNormalization.call of <tensorflow.python.layers.normalization.BatchNormalization object at 0x7f52ac2441d0>>: AssertionError: Bad argument number for Name: 3, expecting 4\n"
     ]
    },
    {
     "name": "stdout",
     "output_type": "stream",
     "text": [
      "WARNING: Entity <bound method BatchNormalization.call of <tensorflow.python.layers.normalization.BatchNormalization object at 0x7f52ac2441d0>> could not be transformed and will be executed as-is. Please report this to the AutgoGraph team. When filing the bug, set the verbosity to 10 (on Linux, `export AUTOGRAPH_VERBOSITY=10`) and attach the full output. Cause: converting <bound method BatchNormalization.call of <tensorflow.python.layers.normalization.BatchNormalization object at 0x7f52ac2441d0>>: AssertionError: Bad argument number for Name: 3, expecting 4\n",
      "WARNING:tensorflow:Entity <bound method Conv.call of <tensorflow.python.layers.convolutional.Conv2D object at 0x7f52ac308190>> could not be transformed and will be executed as-is. Please report this to the AutgoGraph team. When filing the bug, set the verbosity to 10 (on Linux, `export AUTOGRAPH_VERBOSITY=10`) and attach the full output. Cause: converting <bound method Conv.call of <tensorflow.python.layers.convolutional.Conv2D object at 0x7f52ac308190>>: AssertionError: Bad argument number for Name: 3, expecting 4\n"
     ]
    },
    {
     "name": "stderr",
     "output_type": "stream",
     "text": [
      "W0705 04:27:53.292373 139997008488192 ag_logging.py:145] Entity <bound method Conv.call of <tensorflow.python.layers.convolutional.Conv2D object at 0x7f52ac308190>> could not be transformed and will be executed as-is. Please report this to the AutgoGraph team. When filing the bug, set the verbosity to 10 (on Linux, `export AUTOGRAPH_VERBOSITY=10`) and attach the full output. Cause: converting <bound method Conv.call of <tensorflow.python.layers.convolutional.Conv2D object at 0x7f52ac308190>>: AssertionError: Bad argument number for Name: 3, expecting 4\n"
     ]
    },
    {
     "name": "stdout",
     "output_type": "stream",
     "text": [
      "WARNING: Entity <bound method Conv.call of <tensorflow.python.layers.convolutional.Conv2D object at 0x7f52ac308190>> could not be transformed and will be executed as-is. Please report this to the AutgoGraph team. When filing the bug, set the verbosity to 10 (on Linux, `export AUTOGRAPH_VERBOSITY=10`) and attach the full output. Cause: converting <bound method Conv.call of <tensorflow.python.layers.convolutional.Conv2D object at 0x7f52ac308190>>: AssertionError: Bad argument number for Name: 3, expecting 4\n",
      "WARNING:tensorflow:Entity <bound method BatchNormalization.call of <tensorflow.python.layers.normalization.BatchNormalization object at 0x7f52ac21c090>> could not be transformed and will be executed as-is. Please report this to the AutgoGraph team. When filing the bug, set the verbosity to 10 (on Linux, `export AUTOGRAPH_VERBOSITY=10`) and attach the full output. Cause: converting <bound method BatchNormalization.call of <tensorflow.python.layers.normalization.BatchNormalization object at 0x7f52ac21c090>>: AssertionError: Bad argument number for Name: 3, expecting 4\n"
     ]
    },
    {
     "name": "stderr",
     "output_type": "stream",
     "text": [
      "W0705 04:27:53.314972 139997008488192 ag_logging.py:145] Entity <bound method BatchNormalization.call of <tensorflow.python.layers.normalization.BatchNormalization object at 0x7f52ac21c090>> could not be transformed and will be executed as-is. Please report this to the AutgoGraph team. When filing the bug, set the verbosity to 10 (on Linux, `export AUTOGRAPH_VERBOSITY=10`) and attach the full output. Cause: converting <bound method BatchNormalization.call of <tensorflow.python.layers.normalization.BatchNormalization object at 0x7f52ac21c090>>: AssertionError: Bad argument number for Name: 3, expecting 4\n"
     ]
    },
    {
     "name": "stdout",
     "output_type": "stream",
     "text": [
      "WARNING: Entity <bound method BatchNormalization.call of <tensorflow.python.layers.normalization.BatchNormalization object at 0x7f52ac21c090>> could not be transformed and will be executed as-is. Please report this to the AutgoGraph team. When filing the bug, set the verbosity to 10 (on Linux, `export AUTOGRAPH_VERBOSITY=10`) and attach the full output. Cause: converting <bound method BatchNormalization.call of <tensorflow.python.layers.normalization.BatchNormalization object at 0x7f52ac21c090>>: AssertionError: Bad argument number for Name: 3, expecting 4\n",
      "WARNING:tensorflow:Entity <bound method Conv.call of <tensorflow.python.layers.convolutional.Conv2D object at 0x7f52ac2448d0>> could not be transformed and will be executed as-is. Please report this to the AutgoGraph team. When filing the bug, set the verbosity to 10 (on Linux, `export AUTOGRAPH_VERBOSITY=10`) and attach the full output. Cause: converting <bound method Conv.call of <tensorflow.python.layers.convolutional.Conv2D object at 0x7f52ac2448d0>>: AssertionError: Bad argument number for Name: 3, expecting 4\n"
     ]
    },
    {
     "name": "stderr",
     "output_type": "stream",
     "text": [
      "W0705 04:27:53.373301 139997008488192 ag_logging.py:145] Entity <bound method Conv.call of <tensorflow.python.layers.convolutional.Conv2D object at 0x7f52ac2448d0>> could not be transformed and will be executed as-is. Please report this to the AutgoGraph team. When filing the bug, set the verbosity to 10 (on Linux, `export AUTOGRAPH_VERBOSITY=10`) and attach the full output. Cause: converting <bound method Conv.call of <tensorflow.python.layers.convolutional.Conv2D object at 0x7f52ac2448d0>>: AssertionError: Bad argument number for Name: 3, expecting 4\n"
     ]
    },
    {
     "name": "stdout",
     "output_type": "stream",
     "text": [
      "WARNING: Entity <bound method Conv.call of <tensorflow.python.layers.convolutional.Conv2D object at 0x7f52ac2448d0>> could not be transformed and will be executed as-is. Please report this to the AutgoGraph team. When filing the bug, set the verbosity to 10 (on Linux, `export AUTOGRAPH_VERBOSITY=10`) and attach the full output. Cause: converting <bound method Conv.call of <tensorflow.python.layers.convolutional.Conv2D object at 0x7f52ac2448d0>>: AssertionError: Bad argument number for Name: 3, expecting 4\n",
      "WARNING:tensorflow:Entity <bound method BatchNormalization.call of <tensorflow.python.layers.normalization.BatchNormalization object at 0x7f52ac2279d0>> could not be transformed and will be executed as-is. Please report this to the AutgoGraph team. When filing the bug, set the verbosity to 10 (on Linux, `export AUTOGRAPH_VERBOSITY=10`) and attach the full output. Cause: converting <bound method BatchNormalization.call of <tensorflow.python.layers.normalization.BatchNormalization object at 0x7f52ac2279d0>>: AssertionError: Bad argument number for Name: 3, expecting 4\n"
     ]
    },
    {
     "name": "stderr",
     "output_type": "stream",
     "text": [
      "W0705 04:27:53.395401 139997008488192 ag_logging.py:145] Entity <bound method BatchNormalization.call of <tensorflow.python.layers.normalization.BatchNormalization object at 0x7f52ac2279d0>> could not be transformed and will be executed as-is. Please report this to the AutgoGraph team. When filing the bug, set the verbosity to 10 (on Linux, `export AUTOGRAPH_VERBOSITY=10`) and attach the full output. Cause: converting <bound method BatchNormalization.call of <tensorflow.python.layers.normalization.BatchNormalization object at 0x7f52ac2279d0>>: AssertionError: Bad argument number for Name: 3, expecting 4\n"
     ]
    },
    {
     "name": "stdout",
     "output_type": "stream",
     "text": [
      "WARNING: Entity <bound method BatchNormalization.call of <tensorflow.python.layers.normalization.BatchNormalization object at 0x7f52ac2279d0>> could not be transformed and will be executed as-is. Please report this to the AutgoGraph team. When filing the bug, set the verbosity to 10 (on Linux, `export AUTOGRAPH_VERBOSITY=10`) and attach the full output. Cause: converting <bound method BatchNormalization.call of <tensorflow.python.layers.normalization.BatchNormalization object at 0x7f52ac2279d0>>: AssertionError: Bad argument number for Name: 3, expecting 4\n",
      "WARNING:tensorflow:Entity <bound method Conv.call of <tensorflow.python.layers.convolutional.Conv2D object at 0x7f52ac244dd0>> could not be transformed and will be executed as-is. Please report this to the AutgoGraph team. When filing the bug, set the verbosity to 10 (on Linux, `export AUTOGRAPH_VERBOSITY=10`) and attach the full output. Cause: converting <bound method Conv.call of <tensorflow.python.layers.convolutional.Conv2D object at 0x7f52ac244dd0>>: AssertionError: Bad argument number for Name: 3, expecting 4\n"
     ]
    },
    {
     "name": "stderr",
     "output_type": "stream",
     "text": [
      "W0705 04:27:53.453349 139997008488192 ag_logging.py:145] Entity <bound method Conv.call of <tensorflow.python.layers.convolutional.Conv2D object at 0x7f52ac244dd0>> could not be transformed and will be executed as-is. Please report this to the AutgoGraph team. When filing the bug, set the verbosity to 10 (on Linux, `export AUTOGRAPH_VERBOSITY=10`) and attach the full output. Cause: converting <bound method Conv.call of <tensorflow.python.layers.convolutional.Conv2D object at 0x7f52ac244dd0>>: AssertionError: Bad argument number for Name: 3, expecting 4\n"
     ]
    },
    {
     "name": "stdout",
     "output_type": "stream",
     "text": [
      "WARNING: Entity <bound method Conv.call of <tensorflow.python.layers.convolutional.Conv2D object at 0x7f52ac244dd0>> could not be transformed and will be executed as-is. Please report this to the AutgoGraph team. When filing the bug, set the verbosity to 10 (on Linux, `export AUTOGRAPH_VERBOSITY=10`) and attach the full output. Cause: converting <bound method Conv.call of <tensorflow.python.layers.convolutional.Conv2D object at 0x7f52ac244dd0>>: AssertionError: Bad argument number for Name: 3, expecting 4\n",
      "WARNING:tensorflow:Entity <bound method BatchNormalization.call of <tensorflow.python.layers.normalization.BatchNormalization object at 0x7f52ac0a5950>> could not be transformed and will be executed as-is. Please report this to the AutgoGraph team. When filing the bug, set the verbosity to 10 (on Linux, `export AUTOGRAPH_VERBOSITY=10`) and attach the full output. Cause: converting <bound method BatchNormalization.call of <tensorflow.python.layers.normalization.BatchNormalization object at 0x7f52ac0a5950>>: AssertionError: Bad argument number for Name: 3, expecting 4\n"
     ]
    },
    {
     "name": "stderr",
     "output_type": "stream",
     "text": [
      "W0705 04:27:53.481345 139997008488192 ag_logging.py:145] Entity <bound method BatchNormalization.call of <tensorflow.python.layers.normalization.BatchNormalization object at 0x7f52ac0a5950>> could not be transformed and will be executed as-is. Please report this to the AutgoGraph team. When filing the bug, set the verbosity to 10 (on Linux, `export AUTOGRAPH_VERBOSITY=10`) and attach the full output. Cause: converting <bound method BatchNormalization.call of <tensorflow.python.layers.normalization.BatchNormalization object at 0x7f52ac0a5950>>: AssertionError: Bad argument number for Name: 3, expecting 4\n"
     ]
    },
    {
     "name": "stdout",
     "output_type": "stream",
     "text": [
      "WARNING: Entity <bound method BatchNormalization.call of <tensorflow.python.layers.normalization.BatchNormalization object at 0x7f52ac0a5950>> could not be transformed and will be executed as-is. Please report this to the AutgoGraph team. When filing the bug, set the verbosity to 10 (on Linux, `export AUTOGRAPH_VERBOSITY=10`) and attach the full output. Cause: converting <bound method BatchNormalization.call of <tensorflow.python.layers.normalization.BatchNormalization object at 0x7f52ac0a5950>>: AssertionError: Bad argument number for Name: 3, expecting 4\n",
      "WARNING:tensorflow:Entity <bound method Conv.call of <tensorflow.python.layers.convolutional.Conv2D object at 0x7f52ac1d1810>> could not be transformed and will be executed as-is. Please report this to the AutgoGraph team. When filing the bug, set the verbosity to 10 (on Linux, `export AUTOGRAPH_VERBOSITY=10`) and attach the full output. Cause: converting <bound method Conv.call of <tensorflow.python.layers.convolutional.Conv2D object at 0x7f52ac1d1810>>: AssertionError: Bad argument number for Name: 3, expecting 4\n"
     ]
    },
    {
     "name": "stderr",
     "output_type": "stream",
     "text": [
      "W0705 04:27:53.539956 139997008488192 ag_logging.py:145] Entity <bound method Conv.call of <tensorflow.python.layers.convolutional.Conv2D object at 0x7f52ac1d1810>> could not be transformed and will be executed as-is. Please report this to the AutgoGraph team. When filing the bug, set the verbosity to 10 (on Linux, `export AUTOGRAPH_VERBOSITY=10`) and attach the full output. Cause: converting <bound method Conv.call of <tensorflow.python.layers.convolutional.Conv2D object at 0x7f52ac1d1810>>: AssertionError: Bad argument number for Name: 3, expecting 4\n"
     ]
    },
    {
     "name": "stdout",
     "output_type": "stream",
     "text": [
      "WARNING: Entity <bound method Conv.call of <tensorflow.python.layers.convolutional.Conv2D object at 0x7f52ac1d1810>> could not be transformed and will be executed as-is. Please report this to the AutgoGraph team. When filing the bug, set the verbosity to 10 (on Linux, `export AUTOGRAPH_VERBOSITY=10`) and attach the full output. Cause: converting <bound method Conv.call of <tensorflow.python.layers.convolutional.Conv2D object at 0x7f52ac1d1810>>: AssertionError: Bad argument number for Name: 3, expecting 4\n",
      "WARNING:tensorflow:Entity <bound method BatchNormalization.call of <tensorflow.python.layers.normalization.BatchNormalization object at 0x7f52ac0bd3d0>> could not be transformed and will be executed as-is. Please report this to the AutgoGraph team. When filing the bug, set the verbosity to 10 (on Linux, `export AUTOGRAPH_VERBOSITY=10`) and attach the full output. Cause: converting <bound method BatchNormalization.call of <tensorflow.python.layers.normalization.BatchNormalization object at 0x7f52ac0bd3d0>>: AssertionError: Bad argument number for Name: 3, expecting 4\n"
     ]
    },
    {
     "name": "stderr",
     "output_type": "stream",
     "text": [
      "W0705 04:27:53.562385 139997008488192 ag_logging.py:145] Entity <bound method BatchNormalization.call of <tensorflow.python.layers.normalization.BatchNormalization object at 0x7f52ac0bd3d0>> could not be transformed and will be executed as-is. Please report this to the AutgoGraph team. When filing the bug, set the verbosity to 10 (on Linux, `export AUTOGRAPH_VERBOSITY=10`) and attach the full output. Cause: converting <bound method BatchNormalization.call of <tensorflow.python.layers.normalization.BatchNormalization object at 0x7f52ac0bd3d0>>: AssertionError: Bad argument number for Name: 3, expecting 4\n"
     ]
    },
    {
     "name": "stdout",
     "output_type": "stream",
     "text": [
      "WARNING: Entity <bound method BatchNormalization.call of <tensorflow.python.layers.normalization.BatchNormalization object at 0x7f52ac0bd3d0>> could not be transformed and will be executed as-is. Please report this to the AutgoGraph team. When filing the bug, set the verbosity to 10 (on Linux, `export AUTOGRAPH_VERBOSITY=10`) and attach the full output. Cause: converting <bound method BatchNormalization.call of <tensorflow.python.layers.normalization.BatchNormalization object at 0x7f52ac0bd3d0>>: AssertionError: Bad argument number for Name: 3, expecting 4\n",
      "WARNING:tensorflow:Entity <bound method Conv.call of <tensorflow.python.layers.convolutional.Conv2D object at 0x7f52ac1d1490>> could not be transformed and will be executed as-is. Please report this to the AutgoGraph team. When filing the bug, set the verbosity to 10 (on Linux, `export AUTOGRAPH_VERBOSITY=10`) and attach the full output. Cause: converting <bound method Conv.call of <tensorflow.python.layers.convolutional.Conv2D object at 0x7f52ac1d1490>>: AssertionError: Bad argument number for Name: 3, expecting 4\n"
     ]
    },
    {
     "name": "stderr",
     "output_type": "stream",
     "text": [
      "W0705 04:27:53.626115 139997008488192 ag_logging.py:145] Entity <bound method Conv.call of <tensorflow.python.layers.convolutional.Conv2D object at 0x7f52ac1d1490>> could not be transformed and will be executed as-is. Please report this to the AutgoGraph team. When filing the bug, set the verbosity to 10 (on Linux, `export AUTOGRAPH_VERBOSITY=10`) and attach the full output. Cause: converting <bound method Conv.call of <tensorflow.python.layers.convolutional.Conv2D object at 0x7f52ac1d1490>>: AssertionError: Bad argument number for Name: 3, expecting 4\n"
     ]
    },
    {
     "name": "stdout",
     "output_type": "stream",
     "text": [
      "WARNING: Entity <bound method Conv.call of <tensorflow.python.layers.convolutional.Conv2D object at 0x7f52ac1d1490>> could not be transformed and will be executed as-is. Please report this to the AutgoGraph team. When filing the bug, set the verbosity to 10 (on Linux, `export AUTOGRAPH_VERBOSITY=10`) and attach the full output. Cause: converting <bound method Conv.call of <tensorflow.python.layers.convolutional.Conv2D object at 0x7f52ac1d1490>>: AssertionError: Bad argument number for Name: 3, expecting 4\n",
      "WARNING:tensorflow:Entity <bound method BatchNormalization.call of <tensorflow.python.layers.normalization.BatchNormalization object at 0x7f52ac0c96d0>> could not be transformed and will be executed as-is. Please report this to the AutgoGraph team. When filing the bug, set the verbosity to 10 (on Linux, `export AUTOGRAPH_VERBOSITY=10`) and attach the full output. Cause: converting <bound method BatchNormalization.call of <tensorflow.python.layers.normalization.BatchNormalization object at 0x7f52ac0c96d0>>: AssertionError: Bad argument number for Name: 3, expecting 4\n"
     ]
    },
    {
     "name": "stderr",
     "output_type": "stream",
     "text": [
      "W0705 04:27:53.648330 139997008488192 ag_logging.py:145] Entity <bound method BatchNormalization.call of <tensorflow.python.layers.normalization.BatchNormalization object at 0x7f52ac0c96d0>> could not be transformed and will be executed as-is. Please report this to the AutgoGraph team. When filing the bug, set the verbosity to 10 (on Linux, `export AUTOGRAPH_VERBOSITY=10`) and attach the full output. Cause: converting <bound method BatchNormalization.call of <tensorflow.python.layers.normalization.BatchNormalization object at 0x7f52ac0c96d0>>: AssertionError: Bad argument number for Name: 3, expecting 4\n"
     ]
    },
    {
     "name": "stdout",
     "output_type": "stream",
     "text": [
      "WARNING: Entity <bound method BatchNormalization.call of <tensorflow.python.layers.normalization.BatchNormalization object at 0x7f52ac0c96d0>> could not be transformed and will be executed as-is. Please report this to the AutgoGraph team. When filing the bug, set the verbosity to 10 (on Linux, `export AUTOGRAPH_VERBOSITY=10`) and attach the full output. Cause: converting <bound method BatchNormalization.call of <tensorflow.python.layers.normalization.BatchNormalization object at 0x7f52ac0c96d0>>: AssertionError: Bad argument number for Name: 3, expecting 4\n",
      "WARNING:tensorflow:Entity <bound method Conv.call of <tensorflow.python.layers.convolutional.Conv2D object at 0x7f52ac21c3d0>> could not be transformed and will be executed as-is. Please report this to the AutgoGraph team. When filing the bug, set the verbosity to 10 (on Linux, `export AUTOGRAPH_VERBOSITY=10`) and attach the full output. Cause: converting <bound method Conv.call of <tensorflow.python.layers.convolutional.Conv2D object at 0x7f52ac21c3d0>>: AssertionError: Bad argument number for Name: 3, expecting 4\n"
     ]
    },
    {
     "name": "stderr",
     "output_type": "stream",
     "text": [
      "W0705 04:27:53.706575 139997008488192 ag_logging.py:145] Entity <bound method Conv.call of <tensorflow.python.layers.convolutional.Conv2D object at 0x7f52ac21c3d0>> could not be transformed and will be executed as-is. Please report this to the AutgoGraph team. When filing the bug, set the verbosity to 10 (on Linux, `export AUTOGRAPH_VERBOSITY=10`) and attach the full output. Cause: converting <bound method Conv.call of <tensorflow.python.layers.convolutional.Conv2D object at 0x7f52ac21c3d0>>: AssertionError: Bad argument number for Name: 3, expecting 4\n"
     ]
    },
    {
     "name": "stdout",
     "output_type": "stream",
     "text": [
      "WARNING: Entity <bound method Conv.call of <tensorflow.python.layers.convolutional.Conv2D object at 0x7f52ac21c3d0>> could not be transformed and will be executed as-is. Please report this to the AutgoGraph team. When filing the bug, set the verbosity to 10 (on Linux, `export AUTOGRAPH_VERBOSITY=10`) and attach the full output. Cause: converting <bound method Conv.call of <tensorflow.python.layers.convolutional.Conv2D object at 0x7f52ac21c3d0>>: AssertionError: Bad argument number for Name: 3, expecting 4\n",
      "WARNING:tensorflow:Entity <bound method BatchNormalization.call of <tensorflow.python.layers.normalization.BatchNormalization object at 0x7f52ac0d0250>> could not be transformed and will be executed as-is. Please report this to the AutgoGraph team. When filing the bug, set the verbosity to 10 (on Linux, `export AUTOGRAPH_VERBOSITY=10`) and attach the full output. Cause: converting <bound method BatchNormalization.call of <tensorflow.python.layers.normalization.BatchNormalization object at 0x7f52ac0d0250>>: AssertionError: Bad argument number for Name: 3, expecting 4\n"
     ]
    },
    {
     "name": "stderr",
     "output_type": "stream",
     "text": [
      "W0705 04:27:53.728712 139997008488192 ag_logging.py:145] Entity <bound method BatchNormalization.call of <tensorflow.python.layers.normalization.BatchNormalization object at 0x7f52ac0d0250>> could not be transformed and will be executed as-is. Please report this to the AutgoGraph team. When filing the bug, set the verbosity to 10 (on Linux, `export AUTOGRAPH_VERBOSITY=10`) and attach the full output. Cause: converting <bound method BatchNormalization.call of <tensorflow.python.layers.normalization.BatchNormalization object at 0x7f52ac0d0250>>: AssertionError: Bad argument number for Name: 3, expecting 4\n"
     ]
    },
    {
     "name": "stdout",
     "output_type": "stream",
     "text": [
      "WARNING: Entity <bound method BatchNormalization.call of <tensorflow.python.layers.normalization.BatchNormalization object at 0x7f52ac0d0250>> could not be transformed and will be executed as-is. Please report this to the AutgoGraph team. When filing the bug, set the verbosity to 10 (on Linux, `export AUTOGRAPH_VERBOSITY=10`) and attach the full output. Cause: converting <bound method BatchNormalization.call of <tensorflow.python.layers.normalization.BatchNormalization object at 0x7f52ac0d0250>>: AssertionError: Bad argument number for Name: 3, expecting 4\n",
      "WARNING:tensorflow:Entity <bound method Pooling2D.call of <tensorflow.python.layers.pooling.AveragePooling2D object at 0x7f52ac23f750>> could not be transformed and will be executed as-is. Please report this to the AutgoGraph team. When filing the bug, set the verbosity to 10 (on Linux, `export AUTOGRAPH_VERBOSITY=10`) and attach the full output. Cause: converting <bound method Pooling2D.call of <tensorflow.python.layers.pooling.AveragePooling2D object at 0x7f52ac23f750>>: AssertionError: Bad argument number for Name: 3, expecting 4\n"
     ]
    },
    {
     "name": "stderr",
     "output_type": "stream",
     "text": [
      "W0705 04:27:53.767409 139997008488192 ag_logging.py:145] Entity <bound method Pooling2D.call of <tensorflow.python.layers.pooling.AveragePooling2D object at 0x7f52ac23f750>> could not be transformed and will be executed as-is. Please report this to the AutgoGraph team. When filing the bug, set the verbosity to 10 (on Linux, `export AUTOGRAPH_VERBOSITY=10`) and attach the full output. Cause: converting <bound method Pooling2D.call of <tensorflow.python.layers.pooling.AveragePooling2D object at 0x7f52ac23f750>>: AssertionError: Bad argument number for Name: 3, expecting 4\n"
     ]
    },
    {
     "name": "stdout",
     "output_type": "stream",
     "text": [
      "WARNING: Entity <bound method Pooling2D.call of <tensorflow.python.layers.pooling.AveragePooling2D object at 0x7f52ac23f750>> could not be transformed and will be executed as-is. Please report this to the AutgoGraph team. When filing the bug, set the verbosity to 10 (on Linux, `export AUTOGRAPH_VERBOSITY=10`) and attach the full output. Cause: converting <bound method Pooling2D.call of <tensorflow.python.layers.pooling.AveragePooling2D object at 0x7f52ac23f750>>: AssertionError: Bad argument number for Name: 3, expecting 4\n",
      "WARNING:tensorflow:Entity <bound method Conv.call of <tensorflow.python.layers.convolutional.Conv2D object at 0x7f52c40e5210>> could not be transformed and will be executed as-is. Please report this to the AutgoGraph team. When filing the bug, set the verbosity to 10 (on Linux, `export AUTOGRAPH_VERBOSITY=10`) and attach the full output. Cause: converting <bound method Conv.call of <tensorflow.python.layers.convolutional.Conv2D object at 0x7f52c40e5210>>: AssertionError: Bad argument number for Name: 3, expecting 4\n"
     ]
    },
    {
     "name": "stderr",
     "output_type": "stream",
     "text": [
      "W0705 04:27:53.824089 139997008488192 ag_logging.py:145] Entity <bound method Conv.call of <tensorflow.python.layers.convolutional.Conv2D object at 0x7f52c40e5210>> could not be transformed and will be executed as-is. Please report this to the AutgoGraph team. When filing the bug, set the verbosity to 10 (on Linux, `export AUTOGRAPH_VERBOSITY=10`) and attach the full output. Cause: converting <bound method Conv.call of <tensorflow.python.layers.convolutional.Conv2D object at 0x7f52c40e5210>>: AssertionError: Bad argument number for Name: 3, expecting 4\n"
     ]
    },
    {
     "name": "stdout",
     "output_type": "stream",
     "text": [
      "WARNING: Entity <bound method Conv.call of <tensorflow.python.layers.convolutional.Conv2D object at 0x7f52c40e5210>> could not be transformed and will be executed as-is. Please report this to the AutgoGraph team. When filing the bug, set the verbosity to 10 (on Linux, `export AUTOGRAPH_VERBOSITY=10`) and attach the full output. Cause: converting <bound method Conv.call of <tensorflow.python.layers.convolutional.Conv2D object at 0x7f52c40e5210>>: AssertionError: Bad argument number for Name: 3, expecting 4\n",
      "WARNING:tensorflow:Entity <bound method BatchNormalization.call of <tensorflow.python.layers.normalization.BatchNormalization object at 0x7f52ac18a0d0>> could not be transformed and will be executed as-is. Please report this to the AutgoGraph team. When filing the bug, set the verbosity to 10 (on Linux, `export AUTOGRAPH_VERBOSITY=10`) and attach the full output. Cause: converting <bound method BatchNormalization.call of <tensorflow.python.layers.normalization.BatchNormalization object at 0x7f52ac18a0d0>>: AssertionError: Bad argument number for Name: 3, expecting 4\n"
     ]
    },
    {
     "name": "stderr",
     "output_type": "stream",
     "text": [
      "W0705 04:27:53.846644 139997008488192 ag_logging.py:145] Entity <bound method BatchNormalization.call of <tensorflow.python.layers.normalization.BatchNormalization object at 0x7f52ac18a0d0>> could not be transformed and will be executed as-is. Please report this to the AutgoGraph team. When filing the bug, set the verbosity to 10 (on Linux, `export AUTOGRAPH_VERBOSITY=10`) and attach the full output. Cause: converting <bound method BatchNormalization.call of <tensorflow.python.layers.normalization.BatchNormalization object at 0x7f52ac18a0d0>>: AssertionError: Bad argument number for Name: 3, expecting 4\n"
     ]
    },
    {
     "name": "stdout",
     "output_type": "stream",
     "text": [
      "WARNING: Entity <bound method BatchNormalization.call of <tensorflow.python.layers.normalization.BatchNormalization object at 0x7f52ac18a0d0>> could not be transformed and will be executed as-is. Please report this to the AutgoGraph team. When filing the bug, set the verbosity to 10 (on Linux, `export AUTOGRAPH_VERBOSITY=10`) and attach the full output. Cause: converting <bound method BatchNormalization.call of <tensorflow.python.layers.normalization.BatchNormalization object at 0x7f52ac18a0d0>>: AssertionError: Bad argument number for Name: 3, expecting 4\n",
      "WARNING:tensorflow:Entity <bound method Conv.call of <tensorflow.python.layers.convolutional.Conv2D object at 0x7f52c4040ed0>> could not be transformed and will be executed as-is. Please report this to the AutgoGraph team. When filing the bug, set the verbosity to 10 (on Linux, `export AUTOGRAPH_VERBOSITY=10`) and attach the full output. Cause: converting <bound method Conv.call of <tensorflow.python.layers.convolutional.Conv2D object at 0x7f52c4040ed0>>: AssertionError: Bad argument number for Name: 3, expecting 4\n"
     ]
    },
    {
     "name": "stderr",
     "output_type": "stream",
     "text": [
      "W0705 04:27:53.905991 139997008488192 ag_logging.py:145] Entity <bound method Conv.call of <tensorflow.python.layers.convolutional.Conv2D object at 0x7f52c4040ed0>> could not be transformed and will be executed as-is. Please report this to the AutgoGraph team. When filing the bug, set the verbosity to 10 (on Linux, `export AUTOGRAPH_VERBOSITY=10`) and attach the full output. Cause: converting <bound method Conv.call of <tensorflow.python.layers.convolutional.Conv2D object at 0x7f52c4040ed0>>: AssertionError: Bad argument number for Name: 3, expecting 4\n"
     ]
    },
    {
     "name": "stdout",
     "output_type": "stream",
     "text": [
      "WARNING: Entity <bound method Conv.call of <tensorflow.python.layers.convolutional.Conv2D object at 0x7f52c4040ed0>> could not be transformed and will be executed as-is. Please report this to the AutgoGraph team. When filing the bug, set the verbosity to 10 (on Linux, `export AUTOGRAPH_VERBOSITY=10`) and attach the full output. Cause: converting <bound method Conv.call of <tensorflow.python.layers.convolutional.Conv2D object at 0x7f52c4040ed0>>: AssertionError: Bad argument number for Name: 3, expecting 4\n",
      "WARNING:tensorflow:Entity <bound method BatchNormalization.call of <tensorflow.python.layers.normalization.BatchNormalization object at 0x7f52847d2f10>> could not be transformed and will be executed as-is. Please report this to the AutgoGraph team. When filing the bug, set the verbosity to 10 (on Linux, `export AUTOGRAPH_VERBOSITY=10`) and attach the full output. Cause: converting <bound method BatchNormalization.call of <tensorflow.python.layers.normalization.BatchNormalization object at 0x7f52847d2f10>>: AssertionError: Bad argument number for Name: 3, expecting 4\n"
     ]
    },
    {
     "name": "stderr",
     "output_type": "stream",
     "text": [
      "W0705 04:27:53.928647 139997008488192 ag_logging.py:145] Entity <bound method BatchNormalization.call of <tensorflow.python.layers.normalization.BatchNormalization object at 0x7f52847d2f10>> could not be transformed and will be executed as-is. Please report this to the AutgoGraph team. When filing the bug, set the verbosity to 10 (on Linux, `export AUTOGRAPH_VERBOSITY=10`) and attach the full output. Cause: converting <bound method BatchNormalization.call of <tensorflow.python.layers.normalization.BatchNormalization object at 0x7f52847d2f10>>: AssertionError: Bad argument number for Name: 3, expecting 4\n"
     ]
    },
    {
     "name": "stdout",
     "output_type": "stream",
     "text": [
      "WARNING: Entity <bound method BatchNormalization.call of <tensorflow.python.layers.normalization.BatchNormalization object at 0x7f52847d2f10>> could not be transformed and will be executed as-is. Please report this to the AutgoGraph team. When filing the bug, set the verbosity to 10 (on Linux, `export AUTOGRAPH_VERBOSITY=10`) and attach the full output. Cause: converting <bound method BatchNormalization.call of <tensorflow.python.layers.normalization.BatchNormalization object at 0x7f52847d2f10>>: AssertionError: Bad argument number for Name: 3, expecting 4\n",
      "WARNING:tensorflow:Entity <bound method Conv.call of <tensorflow.python.layers.convolutional.Conv2D object at 0x7f52847cdc50>> could not be transformed and will be executed as-is. Please report this to the AutgoGraph team. When filing the bug, set the verbosity to 10 (on Linux, `export AUTOGRAPH_VERBOSITY=10`) and attach the full output. Cause: converting <bound method Conv.call of <tensorflow.python.layers.convolutional.Conv2D object at 0x7f52847cdc50>>: AssertionError: Bad argument number for Name: 3, expecting 4\n"
     ]
    },
    {
     "name": "stderr",
     "output_type": "stream",
     "text": [
      "W0705 04:27:53.986698 139997008488192 ag_logging.py:145] Entity <bound method Conv.call of <tensorflow.python.layers.convolutional.Conv2D object at 0x7f52847cdc50>> could not be transformed and will be executed as-is. Please report this to the AutgoGraph team. When filing the bug, set the verbosity to 10 (on Linux, `export AUTOGRAPH_VERBOSITY=10`) and attach the full output. Cause: converting <bound method Conv.call of <tensorflow.python.layers.convolutional.Conv2D object at 0x7f52847cdc50>>: AssertionError: Bad argument number for Name: 3, expecting 4\n"
     ]
    },
    {
     "name": "stdout",
     "output_type": "stream",
     "text": [
      "WARNING: Entity <bound method Conv.call of <tensorflow.python.layers.convolutional.Conv2D object at 0x7f52847cdc50>> could not be transformed and will be executed as-is. Please report this to the AutgoGraph team. When filing the bug, set the verbosity to 10 (on Linux, `export AUTOGRAPH_VERBOSITY=10`) and attach the full output. Cause: converting <bound method Conv.call of <tensorflow.python.layers.convolutional.Conv2D object at 0x7f52847cdc50>>: AssertionError: Bad argument number for Name: 3, expecting 4\n",
      "WARNING:tensorflow:Entity <bound method BatchNormalization.call of <tensorflow.python.layers.normalization.BatchNormalization object at 0x7f528479f990>> could not be transformed and will be executed as-is. Please report this to the AutgoGraph team. When filing the bug, set the verbosity to 10 (on Linux, `export AUTOGRAPH_VERBOSITY=10`) and attach the full output. Cause: converting <bound method BatchNormalization.call of <tensorflow.python.layers.normalization.BatchNormalization object at 0x7f528479f990>>: AssertionError: Bad argument number for Name: 3, expecting 4\n"
     ]
    },
    {
     "name": "stderr",
     "output_type": "stream",
     "text": [
      "W0705 04:27:54.009062 139997008488192 ag_logging.py:145] Entity <bound method BatchNormalization.call of <tensorflow.python.layers.normalization.BatchNormalization object at 0x7f528479f990>> could not be transformed and will be executed as-is. Please report this to the AutgoGraph team. When filing the bug, set the verbosity to 10 (on Linux, `export AUTOGRAPH_VERBOSITY=10`) and attach the full output. Cause: converting <bound method BatchNormalization.call of <tensorflow.python.layers.normalization.BatchNormalization object at 0x7f528479f990>>: AssertionError: Bad argument number for Name: 3, expecting 4\n"
     ]
    },
    {
     "name": "stdout",
     "output_type": "stream",
     "text": [
      "WARNING: Entity <bound method BatchNormalization.call of <tensorflow.python.layers.normalization.BatchNormalization object at 0x7f528479f990>> could not be transformed and will be executed as-is. Please report this to the AutgoGraph team. When filing the bug, set the verbosity to 10 (on Linux, `export AUTOGRAPH_VERBOSITY=10`) and attach the full output. Cause: converting <bound method BatchNormalization.call of <tensorflow.python.layers.normalization.BatchNormalization object at 0x7f528479f990>>: AssertionError: Bad argument number for Name: 3, expecting 4\n",
      "WARNING:tensorflow:Entity <bound method Conv.call of <tensorflow.python.layers.convolutional.Conv2D object at 0x7f52847cd3d0>> could not be transformed and will be executed as-is. Please report this to the AutgoGraph team. When filing the bug, set the verbosity to 10 (on Linux, `export AUTOGRAPH_VERBOSITY=10`) and attach the full output. Cause: converting <bound method Conv.call of <tensorflow.python.layers.convolutional.Conv2D object at 0x7f52847cd3d0>>: AssertionError: Bad argument number for Name: 3, expecting 4\n"
     ]
    },
    {
     "name": "stderr",
     "output_type": "stream",
     "text": [
      "W0705 04:27:54.148007 139997008488192 ag_logging.py:145] Entity <bound method Conv.call of <tensorflow.python.layers.convolutional.Conv2D object at 0x7f52847cd3d0>> could not be transformed and will be executed as-is. Please report this to the AutgoGraph team. When filing the bug, set the verbosity to 10 (on Linux, `export AUTOGRAPH_VERBOSITY=10`) and attach the full output. Cause: converting <bound method Conv.call of <tensorflow.python.layers.convolutional.Conv2D object at 0x7f52847cd3d0>>: AssertionError: Bad argument number for Name: 3, expecting 4\n"
     ]
    },
    {
     "name": "stdout",
     "output_type": "stream",
     "text": [
      "WARNING: Entity <bound method Conv.call of <tensorflow.python.layers.convolutional.Conv2D object at 0x7f52847cd3d0>> could not be transformed and will be executed as-is. Please report this to the AutgoGraph team. When filing the bug, set the verbosity to 10 (on Linux, `export AUTOGRAPH_VERBOSITY=10`) and attach the full output. Cause: converting <bound method Conv.call of <tensorflow.python.layers.convolutional.Conv2D object at 0x7f52847cd3d0>>: AssertionError: Bad argument number for Name: 3, expecting 4\n",
      "WARNING:tensorflow:Entity <bound method BatchNormalization.call of <tensorflow.python.layers.normalization.BatchNormalization object at 0x7f52845bae90>> could not be transformed and will be executed as-is. Please report this to the AutgoGraph team. When filing the bug, set the verbosity to 10 (on Linux, `export AUTOGRAPH_VERBOSITY=10`) and attach the full output. Cause: converting <bound method BatchNormalization.call of <tensorflow.python.layers.normalization.BatchNormalization object at 0x7f52845bae90>>: AssertionError: Bad argument number for Name: 3, expecting 4\n"
     ]
    },
    {
     "name": "stderr",
     "output_type": "stream",
     "text": [
      "W0705 04:27:54.170295 139997008488192 ag_logging.py:145] Entity <bound method BatchNormalization.call of <tensorflow.python.layers.normalization.BatchNormalization object at 0x7f52845bae90>> could not be transformed and will be executed as-is. Please report this to the AutgoGraph team. When filing the bug, set the verbosity to 10 (on Linux, `export AUTOGRAPH_VERBOSITY=10`) and attach the full output. Cause: converting <bound method BatchNormalization.call of <tensorflow.python.layers.normalization.BatchNormalization object at 0x7f52845bae90>>: AssertionError: Bad argument number for Name: 3, expecting 4\n"
     ]
    },
    {
     "name": "stdout",
     "output_type": "stream",
     "text": [
      "WARNING: Entity <bound method BatchNormalization.call of <tensorflow.python.layers.normalization.BatchNormalization object at 0x7f52845bae90>> could not be transformed and will be executed as-is. Please report this to the AutgoGraph team. When filing the bug, set the verbosity to 10 (on Linux, `export AUTOGRAPH_VERBOSITY=10`) and attach the full output. Cause: converting <bound method BatchNormalization.call of <tensorflow.python.layers.normalization.BatchNormalization object at 0x7f52845bae90>>: AssertionError: Bad argument number for Name: 3, expecting 4\n",
      "WARNING:tensorflow:Entity <bound method Conv.call of <tensorflow.python.layers.convolutional.Conv2D object at 0x7f52ac1f71d0>> could not be transformed and will be executed as-is. Please report this to the AutgoGraph team. When filing the bug, set the verbosity to 10 (on Linux, `export AUTOGRAPH_VERBOSITY=10`) and attach the full output. Cause: converting <bound method Conv.call of <tensorflow.python.layers.convolutional.Conv2D object at 0x7f52ac1f71d0>>: AssertionError: Bad argument number for Name: 3, expecting 4\n"
     ]
    },
    {
     "name": "stderr",
     "output_type": "stream",
     "text": [
      "W0705 04:27:54.228732 139997008488192 ag_logging.py:145] Entity <bound method Conv.call of <tensorflow.python.layers.convolutional.Conv2D object at 0x7f52ac1f71d0>> could not be transformed and will be executed as-is. Please report this to the AutgoGraph team. When filing the bug, set the verbosity to 10 (on Linux, `export AUTOGRAPH_VERBOSITY=10`) and attach the full output. Cause: converting <bound method Conv.call of <tensorflow.python.layers.convolutional.Conv2D object at 0x7f52ac1f71d0>>: AssertionError: Bad argument number for Name: 3, expecting 4\n"
     ]
    },
    {
     "name": "stdout",
     "output_type": "stream",
     "text": [
      "WARNING: Entity <bound method Conv.call of <tensorflow.python.layers.convolutional.Conv2D object at 0x7f52ac1f71d0>> could not be transformed and will be executed as-is. Please report this to the AutgoGraph team. When filing the bug, set the verbosity to 10 (on Linux, `export AUTOGRAPH_VERBOSITY=10`) and attach the full output. Cause: converting <bound method Conv.call of <tensorflow.python.layers.convolutional.Conv2D object at 0x7f52ac1f71d0>>: AssertionError: Bad argument number for Name: 3, expecting 4\n",
      "WARNING:tensorflow:Entity <bound method BatchNormalization.call of <tensorflow.python.layers.normalization.BatchNormalization object at 0x7f528459b390>> could not be transformed and will be executed as-is. Please report this to the AutgoGraph team. When filing the bug, set the verbosity to 10 (on Linux, `export AUTOGRAPH_VERBOSITY=10`) and attach the full output. Cause: converting <bound method BatchNormalization.call of <tensorflow.python.layers.normalization.BatchNormalization object at 0x7f528459b390>>: AssertionError: Bad argument number for Name: 3, expecting 4\n"
     ]
    },
    {
     "name": "stderr",
     "output_type": "stream",
     "text": [
      "W0705 04:27:54.251181 139997008488192 ag_logging.py:145] Entity <bound method BatchNormalization.call of <tensorflow.python.layers.normalization.BatchNormalization object at 0x7f528459b390>> could not be transformed and will be executed as-is. Please report this to the AutgoGraph team. When filing the bug, set the verbosity to 10 (on Linux, `export AUTOGRAPH_VERBOSITY=10`) and attach the full output. Cause: converting <bound method BatchNormalization.call of <tensorflow.python.layers.normalization.BatchNormalization object at 0x7f528459b390>>: AssertionError: Bad argument number for Name: 3, expecting 4\n"
     ]
    },
    {
     "name": "stdout",
     "output_type": "stream",
     "text": [
      "WARNING: Entity <bound method BatchNormalization.call of <tensorflow.python.layers.normalization.BatchNormalization object at 0x7f528459b390>> could not be transformed and will be executed as-is. Please report this to the AutgoGraph team. When filing the bug, set the verbosity to 10 (on Linux, `export AUTOGRAPH_VERBOSITY=10`) and attach the full output. Cause: converting <bound method BatchNormalization.call of <tensorflow.python.layers.normalization.BatchNormalization object at 0x7f528459b390>>: AssertionError: Bad argument number for Name: 3, expecting 4\n",
      "WARNING:tensorflow:Entity <bound method Pooling2D.call of <tensorflow.python.layers.pooling.MaxPooling2D object at 0x7f52c40e3510>> could not be transformed and will be executed as-is. Please report this to the AutgoGraph team. When filing the bug, set the verbosity to 10 (on Linux, `export AUTOGRAPH_VERBOSITY=10`) and attach the full output. Cause: converting <bound method Pooling2D.call of <tensorflow.python.layers.pooling.MaxPooling2D object at 0x7f52c40e3510>>: AssertionError: Bad argument number for Name: 3, expecting 4\n"
     ]
    },
    {
     "name": "stderr",
     "output_type": "stream",
     "text": [
      "W0705 04:27:54.289444 139997008488192 ag_logging.py:145] Entity <bound method Pooling2D.call of <tensorflow.python.layers.pooling.MaxPooling2D object at 0x7f52c40e3510>> could not be transformed and will be executed as-is. Please report this to the AutgoGraph team. When filing the bug, set the verbosity to 10 (on Linux, `export AUTOGRAPH_VERBOSITY=10`) and attach the full output. Cause: converting <bound method Pooling2D.call of <tensorflow.python.layers.pooling.MaxPooling2D object at 0x7f52c40e3510>>: AssertionError: Bad argument number for Name: 3, expecting 4\n"
     ]
    },
    {
     "name": "stdout",
     "output_type": "stream",
     "text": [
      "WARNING: Entity <bound method Pooling2D.call of <tensorflow.python.layers.pooling.MaxPooling2D object at 0x7f52c40e3510>> could not be transformed and will be executed as-is. Please report this to the AutgoGraph team. When filing the bug, set the verbosity to 10 (on Linux, `export AUTOGRAPH_VERBOSITY=10`) and attach the full output. Cause: converting <bound method Pooling2D.call of <tensorflow.python.layers.pooling.MaxPooling2D object at 0x7f52c40e3510>>: AssertionError: Bad argument number for Name: 3, expecting 4\n",
      "WARNING:tensorflow:Entity <bound method Conv.call of <tensorflow.python.layers.convolutional.Conv2D object at 0x7f52c41174d0>> could not be transformed and will be executed as-is. Please report this to the AutgoGraph team. When filing the bug, set the verbosity to 10 (on Linux, `export AUTOGRAPH_VERBOSITY=10`) and attach the full output. Cause: converting <bound method Conv.call of <tensorflow.python.layers.convolutional.Conv2D object at 0x7f52c41174d0>>: AssertionError: Bad argument number for Name: 3, expecting 4\n"
     ]
    },
    {
     "name": "stderr",
     "output_type": "stream",
     "text": [
      "W0705 04:27:54.347127 139997008488192 ag_logging.py:145] Entity <bound method Conv.call of <tensorflow.python.layers.convolutional.Conv2D object at 0x7f52c41174d0>> could not be transformed and will be executed as-is. Please report this to the AutgoGraph team. When filing the bug, set the verbosity to 10 (on Linux, `export AUTOGRAPH_VERBOSITY=10`) and attach the full output. Cause: converting <bound method Conv.call of <tensorflow.python.layers.convolutional.Conv2D object at 0x7f52c41174d0>>: AssertionError: Bad argument number for Name: 3, expecting 4\n"
     ]
    },
    {
     "name": "stdout",
     "output_type": "stream",
     "text": [
      "WARNING: Entity <bound method Conv.call of <tensorflow.python.layers.convolutional.Conv2D object at 0x7f52c41174d0>> could not be transformed and will be executed as-is. Please report this to the AutgoGraph team. When filing the bug, set the verbosity to 10 (on Linux, `export AUTOGRAPH_VERBOSITY=10`) and attach the full output. Cause: converting <bound method Conv.call of <tensorflow.python.layers.convolutional.Conv2D object at 0x7f52c41174d0>>: AssertionError: Bad argument number for Name: 3, expecting 4\n",
      "WARNING:tensorflow:Entity <bound method BatchNormalization.call of <tensorflow.python.layers.normalization.BatchNormalization object at 0x7f528451ed50>> could not be transformed and will be executed as-is. Please report this to the AutgoGraph team. When filing the bug, set the verbosity to 10 (on Linux, `export AUTOGRAPH_VERBOSITY=10`) and attach the full output. Cause: converting <bound method BatchNormalization.call of <tensorflow.python.layers.normalization.BatchNormalization object at 0x7f528451ed50>>: AssertionError: Bad argument number for Name: 3, expecting 4\n"
     ]
    },
    {
     "name": "stderr",
     "output_type": "stream",
     "text": [
      "W0705 04:27:54.369891 139997008488192 ag_logging.py:145] Entity <bound method BatchNormalization.call of <tensorflow.python.layers.normalization.BatchNormalization object at 0x7f528451ed50>> could not be transformed and will be executed as-is. Please report this to the AutgoGraph team. When filing the bug, set the verbosity to 10 (on Linux, `export AUTOGRAPH_VERBOSITY=10`) and attach the full output. Cause: converting <bound method BatchNormalization.call of <tensorflow.python.layers.normalization.BatchNormalization object at 0x7f528451ed50>>: AssertionError: Bad argument number for Name: 3, expecting 4\n"
     ]
    },
    {
     "name": "stdout",
     "output_type": "stream",
     "text": [
      "WARNING: Entity <bound method BatchNormalization.call of <tensorflow.python.layers.normalization.BatchNormalization object at 0x7f528451ed50>> could not be transformed and will be executed as-is. Please report this to the AutgoGraph team. When filing the bug, set the verbosity to 10 (on Linux, `export AUTOGRAPH_VERBOSITY=10`) and attach the full output. Cause: converting <bound method BatchNormalization.call of <tensorflow.python.layers.normalization.BatchNormalization object at 0x7f528451ed50>>: AssertionError: Bad argument number for Name: 3, expecting 4\n",
      "WARNING:tensorflow:Entity <bound method Conv.call of <tensorflow.python.layers.convolutional.Conv2D object at 0x7f52cfbc2c50>> could not be transformed and will be executed as-is. Please report this to the AutgoGraph team. When filing the bug, set the verbosity to 10 (on Linux, `export AUTOGRAPH_VERBOSITY=10`) and attach the full output. Cause: converting <bound method Conv.call of <tensorflow.python.layers.convolutional.Conv2D object at 0x7f52cfbc2c50>>: AssertionError: Bad argument number for Name: 3, expecting 4\n"
     ]
    },
    {
     "name": "stderr",
     "output_type": "stream",
     "text": [
      "W0705 04:27:54.427758 139997008488192 ag_logging.py:145] Entity <bound method Conv.call of <tensorflow.python.layers.convolutional.Conv2D object at 0x7f52cfbc2c50>> could not be transformed and will be executed as-is. Please report this to the AutgoGraph team. When filing the bug, set the verbosity to 10 (on Linux, `export AUTOGRAPH_VERBOSITY=10`) and attach the full output. Cause: converting <bound method Conv.call of <tensorflow.python.layers.convolutional.Conv2D object at 0x7f52cfbc2c50>>: AssertionError: Bad argument number for Name: 3, expecting 4\n"
     ]
    },
    {
     "name": "stdout",
     "output_type": "stream",
     "text": [
      "WARNING: Entity <bound method Conv.call of <tensorflow.python.layers.convolutional.Conv2D object at 0x7f52cfbc2c50>> could not be transformed and will be executed as-is. Please report this to the AutgoGraph team. When filing the bug, set the verbosity to 10 (on Linux, `export AUTOGRAPH_VERBOSITY=10`) and attach the full output. Cause: converting <bound method Conv.call of <tensorflow.python.layers.convolutional.Conv2D object at 0x7f52cfbc2c50>>: AssertionError: Bad argument number for Name: 3, expecting 4\n",
      "WARNING:tensorflow:Entity <bound method BatchNormalization.call of <tensorflow.python.layers.normalization.BatchNormalization object at 0x7f52844d2d50>> could not be transformed and will be executed as-is. Please report this to the AutgoGraph team. When filing the bug, set the verbosity to 10 (on Linux, `export AUTOGRAPH_VERBOSITY=10`) and attach the full output. Cause: converting <bound method BatchNormalization.call of <tensorflow.python.layers.normalization.BatchNormalization object at 0x7f52844d2d50>>: AssertionError: Bad argument number for Name: 3, expecting 4\n"
     ]
    },
    {
     "name": "stderr",
     "output_type": "stream",
     "text": [
      "W0705 04:27:54.450284 139997008488192 ag_logging.py:145] Entity <bound method BatchNormalization.call of <tensorflow.python.layers.normalization.BatchNormalization object at 0x7f52844d2d50>> could not be transformed and will be executed as-is. Please report this to the AutgoGraph team. When filing the bug, set the verbosity to 10 (on Linux, `export AUTOGRAPH_VERBOSITY=10`) and attach the full output. Cause: converting <bound method BatchNormalization.call of <tensorflow.python.layers.normalization.BatchNormalization object at 0x7f52844d2d50>>: AssertionError: Bad argument number for Name: 3, expecting 4\n"
     ]
    },
    {
     "name": "stdout",
     "output_type": "stream",
     "text": [
      "WARNING: Entity <bound method BatchNormalization.call of <tensorflow.python.layers.normalization.BatchNormalization object at 0x7f52844d2d50>> could not be transformed and will be executed as-is. Please report this to the AutgoGraph team. When filing the bug, set the verbosity to 10 (on Linux, `export AUTOGRAPH_VERBOSITY=10`) and attach the full output. Cause: converting <bound method BatchNormalization.call of <tensorflow.python.layers.normalization.BatchNormalization object at 0x7f52844d2d50>>: AssertionError: Bad argument number for Name: 3, expecting 4\n",
      "WARNING:tensorflow:Entity <bound method Conv.call of <tensorflow.python.layers.convolutional.Conv2D object at 0x7f5390fc2f90>> could not be transformed and will be executed as-is. Please report this to the AutgoGraph team. When filing the bug, set the verbosity to 10 (on Linux, `export AUTOGRAPH_VERBOSITY=10`) and attach the full output. Cause: converting <bound method Conv.call of <tensorflow.python.layers.convolutional.Conv2D object at 0x7f5390fc2f90>>: AssertionError: Bad argument number for Name: 3, expecting 4\n"
     ]
    },
    {
     "name": "stderr",
     "output_type": "stream",
     "text": [
      "W0705 04:27:54.508698 139997008488192 ag_logging.py:145] Entity <bound method Conv.call of <tensorflow.python.layers.convolutional.Conv2D object at 0x7f5390fc2f90>> could not be transformed and will be executed as-is. Please report this to the AutgoGraph team. When filing the bug, set the verbosity to 10 (on Linux, `export AUTOGRAPH_VERBOSITY=10`) and attach the full output. Cause: converting <bound method Conv.call of <tensorflow.python.layers.convolutional.Conv2D object at 0x7f5390fc2f90>>: AssertionError: Bad argument number for Name: 3, expecting 4\n"
     ]
    },
    {
     "name": "stdout",
     "output_type": "stream",
     "text": [
      "WARNING: Entity <bound method Conv.call of <tensorflow.python.layers.convolutional.Conv2D object at 0x7f5390fc2f90>> could not be transformed and will be executed as-is. Please report this to the AutgoGraph team. When filing the bug, set the verbosity to 10 (on Linux, `export AUTOGRAPH_VERBOSITY=10`) and attach the full output. Cause: converting <bound method Conv.call of <tensorflow.python.layers.convolutional.Conv2D object at 0x7f5390fc2f90>>: AssertionError: Bad argument number for Name: 3, expecting 4\n",
      "WARNING:tensorflow:Entity <bound method BatchNormalization.call of <tensorflow.python.layers.normalization.BatchNormalization object at 0x7f5284556050>> could not be transformed and will be executed as-is. Please report this to the AutgoGraph team. When filing the bug, set the verbosity to 10 (on Linux, `export AUTOGRAPH_VERBOSITY=10`) and attach the full output. Cause: converting <bound method BatchNormalization.call of <tensorflow.python.layers.normalization.BatchNormalization object at 0x7f5284556050>>: AssertionError: Bad argument number for Name: 3, expecting 4\n"
     ]
    },
    {
     "name": "stderr",
     "output_type": "stream",
     "text": [
      "W0705 04:27:54.530933 139997008488192 ag_logging.py:145] Entity <bound method BatchNormalization.call of <tensorflow.python.layers.normalization.BatchNormalization object at 0x7f5284556050>> could not be transformed and will be executed as-is. Please report this to the AutgoGraph team. When filing the bug, set the verbosity to 10 (on Linux, `export AUTOGRAPH_VERBOSITY=10`) and attach the full output. Cause: converting <bound method BatchNormalization.call of <tensorflow.python.layers.normalization.BatchNormalization object at 0x7f5284556050>>: AssertionError: Bad argument number for Name: 3, expecting 4\n"
     ]
    },
    {
     "name": "stdout",
     "output_type": "stream",
     "text": [
      "WARNING: Entity <bound method BatchNormalization.call of <tensorflow.python.layers.normalization.BatchNormalization object at 0x7f5284556050>> could not be transformed and will be executed as-is. Please report this to the AutgoGraph team. When filing the bug, set the verbosity to 10 (on Linux, `export AUTOGRAPH_VERBOSITY=10`) and attach the full output. Cause: converting <bound method BatchNormalization.call of <tensorflow.python.layers.normalization.BatchNormalization object at 0x7f5284556050>>: AssertionError: Bad argument number for Name: 3, expecting 4\n",
      "WARNING:tensorflow:Entity <bound method Conv.call of <tensorflow.python.layers.convolutional.Conv2D object at 0x7f52cfbc2c50>> could not be transformed and will be executed as-is. Please report this to the AutgoGraph team. When filing the bug, set the verbosity to 10 (on Linux, `export AUTOGRAPH_VERBOSITY=10`) and attach the full output. Cause: converting <bound method Conv.call of <tensorflow.python.layers.convolutional.Conv2D object at 0x7f52cfbc2c50>>: AssertionError: Bad argument number for Name: 3, expecting 4\n"
     ]
    },
    {
     "name": "stderr",
     "output_type": "stream",
     "text": [
      "W0705 04:27:54.589892 139997008488192 ag_logging.py:145] Entity <bound method Conv.call of <tensorflow.python.layers.convolutional.Conv2D object at 0x7f52cfbc2c50>> could not be transformed and will be executed as-is. Please report this to the AutgoGraph team. When filing the bug, set the verbosity to 10 (on Linux, `export AUTOGRAPH_VERBOSITY=10`) and attach the full output. Cause: converting <bound method Conv.call of <tensorflow.python.layers.convolutional.Conv2D object at 0x7f52cfbc2c50>>: AssertionError: Bad argument number for Name: 3, expecting 4\n"
     ]
    },
    {
     "name": "stdout",
     "output_type": "stream",
     "text": [
      "WARNING: Entity <bound method Conv.call of <tensorflow.python.layers.convolutional.Conv2D object at 0x7f52cfbc2c50>> could not be transformed and will be executed as-is. Please report this to the AutgoGraph team. When filing the bug, set the verbosity to 10 (on Linux, `export AUTOGRAPH_VERBOSITY=10`) and attach the full output. Cause: converting <bound method Conv.call of <tensorflow.python.layers.convolutional.Conv2D object at 0x7f52cfbc2c50>>: AssertionError: Bad argument number for Name: 3, expecting 4\n",
      "WARNING:tensorflow:Entity <bound method BatchNormalization.call of <tensorflow.python.layers.normalization.BatchNormalization object at 0x7f52844dc150>> could not be transformed and will be executed as-is. Please report this to the AutgoGraph team. When filing the bug, set the verbosity to 10 (on Linux, `export AUTOGRAPH_VERBOSITY=10`) and attach the full output. Cause: converting <bound method BatchNormalization.call of <tensorflow.python.layers.normalization.BatchNormalization object at 0x7f52844dc150>>: AssertionError: Bad argument number for Name: 3, expecting 4\n"
     ]
    },
    {
     "name": "stderr",
     "output_type": "stream",
     "text": [
      "W0705 04:27:54.612167 139997008488192 ag_logging.py:145] Entity <bound method BatchNormalization.call of <tensorflow.python.layers.normalization.BatchNormalization object at 0x7f52844dc150>> could not be transformed and will be executed as-is. Please report this to the AutgoGraph team. When filing the bug, set the verbosity to 10 (on Linux, `export AUTOGRAPH_VERBOSITY=10`) and attach the full output. Cause: converting <bound method BatchNormalization.call of <tensorflow.python.layers.normalization.BatchNormalization object at 0x7f52844dc150>>: AssertionError: Bad argument number for Name: 3, expecting 4\n"
     ]
    },
    {
     "name": "stdout",
     "output_type": "stream",
     "text": [
      "WARNING: Entity <bound method BatchNormalization.call of <tensorflow.python.layers.normalization.BatchNormalization object at 0x7f52844dc150>> could not be transformed and will be executed as-is. Please report this to the AutgoGraph team. When filing the bug, set the verbosity to 10 (on Linux, `export AUTOGRAPH_VERBOSITY=10`) and attach the full output. Cause: converting <bound method BatchNormalization.call of <tensorflow.python.layers.normalization.BatchNormalization object at 0x7f52844dc150>>: AssertionError: Bad argument number for Name: 3, expecting 4\n",
      "WARNING:tensorflow:Entity <bound method Conv.call of <tensorflow.python.layers.convolutional.Conv2D object at 0x7f52846e8c50>> could not be transformed and will be executed as-is. Please report this to the AutgoGraph team. When filing the bug, set the verbosity to 10 (on Linux, `export AUTOGRAPH_VERBOSITY=10`) and attach the full output. Cause: converting <bound method Conv.call of <tensorflow.python.layers.convolutional.Conv2D object at 0x7f52846e8c50>>: AssertionError: Bad argument number for Name: 3, expecting 4\n"
     ]
    },
    {
     "name": "stderr",
     "output_type": "stream",
     "text": [
      "W0705 04:27:54.670810 139997008488192 ag_logging.py:145] Entity <bound method Conv.call of <tensorflow.python.layers.convolutional.Conv2D object at 0x7f52846e8c50>> could not be transformed and will be executed as-is. Please report this to the AutgoGraph team. When filing the bug, set the verbosity to 10 (on Linux, `export AUTOGRAPH_VERBOSITY=10`) and attach the full output. Cause: converting <bound method Conv.call of <tensorflow.python.layers.convolutional.Conv2D object at 0x7f52846e8c50>>: AssertionError: Bad argument number for Name: 3, expecting 4\n"
     ]
    },
    {
     "name": "stdout",
     "output_type": "stream",
     "text": [
      "WARNING: Entity <bound method Conv.call of <tensorflow.python.layers.convolutional.Conv2D object at 0x7f52846e8c50>> could not be transformed and will be executed as-is. Please report this to the AutgoGraph team. When filing the bug, set the verbosity to 10 (on Linux, `export AUTOGRAPH_VERBOSITY=10`) and attach the full output. Cause: converting <bound method Conv.call of <tensorflow.python.layers.convolutional.Conv2D object at 0x7f52846e8c50>>: AssertionError: Bad argument number for Name: 3, expecting 4\n",
      "WARNING:tensorflow:Entity <bound method BatchNormalization.call of <tensorflow.python.layers.normalization.BatchNormalization object at 0x7f5284418150>> could not be transformed and will be executed as-is. Please report this to the AutgoGraph team. When filing the bug, set the verbosity to 10 (on Linux, `export AUTOGRAPH_VERBOSITY=10`) and attach the full output. Cause: converting <bound method BatchNormalization.call of <tensorflow.python.layers.normalization.BatchNormalization object at 0x7f5284418150>>: AssertionError: Bad argument number for Name: 3, expecting 4\n"
     ]
    },
    {
     "name": "stderr",
     "output_type": "stream",
     "text": [
      "W0705 04:27:54.693316 139997008488192 ag_logging.py:145] Entity <bound method BatchNormalization.call of <tensorflow.python.layers.normalization.BatchNormalization object at 0x7f5284418150>> could not be transformed and will be executed as-is. Please report this to the AutgoGraph team. When filing the bug, set the verbosity to 10 (on Linux, `export AUTOGRAPH_VERBOSITY=10`) and attach the full output. Cause: converting <bound method BatchNormalization.call of <tensorflow.python.layers.normalization.BatchNormalization object at 0x7f5284418150>>: AssertionError: Bad argument number for Name: 3, expecting 4\n"
     ]
    },
    {
     "name": "stdout",
     "output_type": "stream",
     "text": [
      "WARNING: Entity <bound method BatchNormalization.call of <tensorflow.python.layers.normalization.BatchNormalization object at 0x7f5284418150>> could not be transformed and will be executed as-is. Please report this to the AutgoGraph team. When filing the bug, set the verbosity to 10 (on Linux, `export AUTOGRAPH_VERBOSITY=10`) and attach the full output. Cause: converting <bound method BatchNormalization.call of <tensorflow.python.layers.normalization.BatchNormalization object at 0x7f5284418150>>: AssertionError: Bad argument number for Name: 3, expecting 4\n",
      "WARNING:tensorflow:Entity <bound method Conv.call of <tensorflow.python.layers.convolutional.Conv2D object at 0x7f5284700f90>> could not be transformed and will be executed as-is. Please report this to the AutgoGraph team. When filing the bug, set the verbosity to 10 (on Linux, `export AUTOGRAPH_VERBOSITY=10`) and attach the full output. Cause: converting <bound method Conv.call of <tensorflow.python.layers.convolutional.Conv2D object at 0x7f5284700f90>>: AssertionError: Bad argument number for Name: 3, expecting 4\n"
     ]
    },
    {
     "name": "stderr",
     "output_type": "stream",
     "text": [
      "W0705 04:27:54.752906 139997008488192 ag_logging.py:145] Entity <bound method Conv.call of <tensorflow.python.layers.convolutional.Conv2D object at 0x7f5284700f90>> could not be transformed and will be executed as-is. Please report this to the AutgoGraph team. When filing the bug, set the verbosity to 10 (on Linux, `export AUTOGRAPH_VERBOSITY=10`) and attach the full output. Cause: converting <bound method Conv.call of <tensorflow.python.layers.convolutional.Conv2D object at 0x7f5284700f90>>: AssertionError: Bad argument number for Name: 3, expecting 4\n"
     ]
    },
    {
     "name": "stdout",
     "output_type": "stream",
     "text": [
      "WARNING: Entity <bound method Conv.call of <tensorflow.python.layers.convolutional.Conv2D object at 0x7f5284700f90>> could not be transformed and will be executed as-is. Please report this to the AutgoGraph team. When filing the bug, set the verbosity to 10 (on Linux, `export AUTOGRAPH_VERBOSITY=10`) and attach the full output. Cause: converting <bound method Conv.call of <tensorflow.python.layers.convolutional.Conv2D object at 0x7f5284700f90>>: AssertionError: Bad argument number for Name: 3, expecting 4\n",
      "WARNING:tensorflow:Entity <bound method BatchNormalization.call of <tensorflow.python.layers.normalization.BatchNormalization object at 0x7f5284421290>> could not be transformed and will be executed as-is. Please report this to the AutgoGraph team. When filing the bug, set the verbosity to 10 (on Linux, `export AUTOGRAPH_VERBOSITY=10`) and attach the full output. Cause: converting <bound method BatchNormalization.call of <tensorflow.python.layers.normalization.BatchNormalization object at 0x7f5284421290>>: AssertionError: Bad argument number for Name: 3, expecting 4\n"
     ]
    },
    {
     "name": "stderr",
     "output_type": "stream",
     "text": [
      "W0705 04:27:54.775084 139997008488192 ag_logging.py:145] Entity <bound method BatchNormalization.call of <tensorflow.python.layers.normalization.BatchNormalization object at 0x7f5284421290>> could not be transformed and will be executed as-is. Please report this to the AutgoGraph team. When filing the bug, set the verbosity to 10 (on Linux, `export AUTOGRAPH_VERBOSITY=10`) and attach the full output. Cause: converting <bound method BatchNormalization.call of <tensorflow.python.layers.normalization.BatchNormalization object at 0x7f5284421290>>: AssertionError: Bad argument number for Name: 3, expecting 4\n"
     ]
    },
    {
     "name": "stdout",
     "output_type": "stream",
     "text": [
      "WARNING: Entity <bound method BatchNormalization.call of <tensorflow.python.layers.normalization.BatchNormalization object at 0x7f5284421290>> could not be transformed and will be executed as-is. Please report this to the AutgoGraph team. When filing the bug, set the verbosity to 10 (on Linux, `export AUTOGRAPH_VERBOSITY=10`) and attach the full output. Cause: converting <bound method BatchNormalization.call of <tensorflow.python.layers.normalization.BatchNormalization object at 0x7f5284421290>>: AssertionError: Bad argument number for Name: 3, expecting 4\n",
      "WARNING:tensorflow:Entity <bound method Conv.call of <tensorflow.python.layers.convolutional.Conv2D object at 0x7f52846dd9d0>> could not be transformed and will be executed as-is. Please report this to the AutgoGraph team. When filing the bug, set the verbosity to 10 (on Linux, `export AUTOGRAPH_VERBOSITY=10`) and attach the full output. Cause: converting <bound method Conv.call of <tensorflow.python.layers.convolutional.Conv2D object at 0x7f52846dd9d0>>: AssertionError: Bad argument number for Name: 3, expecting 4\n"
     ]
    },
    {
     "name": "stderr",
     "output_type": "stream",
     "text": [
      "W0705 04:27:54.835121 139997008488192 ag_logging.py:145] Entity <bound method Conv.call of <tensorflow.python.layers.convolutional.Conv2D object at 0x7f52846dd9d0>> could not be transformed and will be executed as-is. Please report this to the AutgoGraph team. When filing the bug, set the verbosity to 10 (on Linux, `export AUTOGRAPH_VERBOSITY=10`) and attach the full output. Cause: converting <bound method Conv.call of <tensorflow.python.layers.convolutional.Conv2D object at 0x7f52846dd9d0>>: AssertionError: Bad argument number for Name: 3, expecting 4\n"
     ]
    },
    {
     "name": "stdout",
     "output_type": "stream",
     "text": [
      "WARNING: Entity <bound method Conv.call of <tensorflow.python.layers.convolutional.Conv2D object at 0x7f52846dd9d0>> could not be transformed and will be executed as-is. Please report this to the AutgoGraph team. When filing the bug, set the verbosity to 10 (on Linux, `export AUTOGRAPH_VERBOSITY=10`) and attach the full output. Cause: converting <bound method Conv.call of <tensorflow.python.layers.convolutional.Conv2D object at 0x7f52846dd9d0>>: AssertionError: Bad argument number for Name: 3, expecting 4\n",
      "WARNING:tensorflow:Entity <bound method BatchNormalization.call of <tensorflow.python.layers.normalization.BatchNormalization object at 0x7f52843e0d90>> could not be transformed and will be executed as-is. Please report this to the AutgoGraph team. When filing the bug, set the verbosity to 10 (on Linux, `export AUTOGRAPH_VERBOSITY=10`) and attach the full output. Cause: converting <bound method BatchNormalization.call of <tensorflow.python.layers.normalization.BatchNormalization object at 0x7f52843e0d90>>: AssertionError: Bad argument number for Name: 3, expecting 4\n"
     ]
    },
    {
     "name": "stderr",
     "output_type": "stream",
     "text": [
      "W0705 04:27:54.857296 139997008488192 ag_logging.py:145] Entity <bound method BatchNormalization.call of <tensorflow.python.layers.normalization.BatchNormalization object at 0x7f52843e0d90>> could not be transformed and will be executed as-is. Please report this to the AutgoGraph team. When filing the bug, set the verbosity to 10 (on Linux, `export AUTOGRAPH_VERBOSITY=10`) and attach the full output. Cause: converting <bound method BatchNormalization.call of <tensorflow.python.layers.normalization.BatchNormalization object at 0x7f52843e0d90>>: AssertionError: Bad argument number for Name: 3, expecting 4\n"
     ]
    },
    {
     "name": "stdout",
     "output_type": "stream",
     "text": [
      "WARNING: Entity <bound method BatchNormalization.call of <tensorflow.python.layers.normalization.BatchNormalization object at 0x7f52843e0d90>> could not be transformed and will be executed as-is. Please report this to the AutgoGraph team. When filing the bug, set the verbosity to 10 (on Linux, `export AUTOGRAPH_VERBOSITY=10`) and attach the full output. Cause: converting <bound method BatchNormalization.call of <tensorflow.python.layers.normalization.BatchNormalization object at 0x7f52843e0d90>>: AssertionError: Bad argument number for Name: 3, expecting 4\n",
      "WARNING:tensorflow:Entity <bound method Conv.call of <tensorflow.python.layers.convolutional.Conv2D object at 0x7f5284583d50>> could not be transformed and will be executed as-is. Please report this to the AutgoGraph team. When filing the bug, set the verbosity to 10 (on Linux, `export AUTOGRAPH_VERBOSITY=10`) and attach the full output. Cause: converting <bound method Conv.call of <tensorflow.python.layers.convolutional.Conv2D object at 0x7f5284583d50>>: AssertionError: Bad argument number for Name: 3, expecting 4\n"
     ]
    },
    {
     "name": "stderr",
     "output_type": "stream",
     "text": [
      "W0705 04:27:54.915588 139997008488192 ag_logging.py:145] Entity <bound method Conv.call of <tensorflow.python.layers.convolutional.Conv2D object at 0x7f5284583d50>> could not be transformed and will be executed as-is. Please report this to the AutgoGraph team. When filing the bug, set the verbosity to 10 (on Linux, `export AUTOGRAPH_VERBOSITY=10`) and attach the full output. Cause: converting <bound method Conv.call of <tensorflow.python.layers.convolutional.Conv2D object at 0x7f5284583d50>>: AssertionError: Bad argument number for Name: 3, expecting 4\n"
     ]
    },
    {
     "name": "stdout",
     "output_type": "stream",
     "text": [
      "WARNING: Entity <bound method Conv.call of <tensorflow.python.layers.convolutional.Conv2D object at 0x7f5284583d50>> could not be transformed and will be executed as-is. Please report this to the AutgoGraph team. When filing the bug, set the verbosity to 10 (on Linux, `export AUTOGRAPH_VERBOSITY=10`) and attach the full output. Cause: converting <bound method Conv.call of <tensorflow.python.layers.convolutional.Conv2D object at 0x7f5284583d50>>: AssertionError: Bad argument number for Name: 3, expecting 4\n",
      "WARNING:tensorflow:Entity <bound method BatchNormalization.call of <tensorflow.python.layers.normalization.BatchNormalization object at 0x7f528427ed50>> could not be transformed and will be executed as-is. Please report this to the AutgoGraph team. When filing the bug, set the verbosity to 10 (on Linux, `export AUTOGRAPH_VERBOSITY=10`) and attach the full output. Cause: converting <bound method BatchNormalization.call of <tensorflow.python.layers.normalization.BatchNormalization object at 0x7f528427ed50>>: AssertionError: Bad argument number for Name: 3, expecting 4\n"
     ]
    },
    {
     "name": "stderr",
     "output_type": "stream",
     "text": [
      "W0705 04:27:54.937895 139997008488192 ag_logging.py:145] Entity <bound method BatchNormalization.call of <tensorflow.python.layers.normalization.BatchNormalization object at 0x7f528427ed50>> could not be transformed and will be executed as-is. Please report this to the AutgoGraph team. When filing the bug, set the verbosity to 10 (on Linux, `export AUTOGRAPH_VERBOSITY=10`) and attach the full output. Cause: converting <bound method BatchNormalization.call of <tensorflow.python.layers.normalization.BatchNormalization object at 0x7f528427ed50>>: AssertionError: Bad argument number for Name: 3, expecting 4\n"
     ]
    },
    {
     "name": "stdout",
     "output_type": "stream",
     "text": [
      "WARNING: Entity <bound method BatchNormalization.call of <tensorflow.python.layers.normalization.BatchNormalization object at 0x7f528427ed50>> could not be transformed and will be executed as-is. Please report this to the AutgoGraph team. When filing the bug, set the verbosity to 10 (on Linux, `export AUTOGRAPH_VERBOSITY=10`) and attach the full output. Cause: converting <bound method BatchNormalization.call of <tensorflow.python.layers.normalization.BatchNormalization object at 0x7f528427ed50>>: AssertionError: Bad argument number for Name: 3, expecting 4\n",
      "WARNING:tensorflow:Entity <bound method Conv.call of <tensorflow.python.layers.convolutional.Conv2D object at 0x7f5284700f90>> could not be transformed and will be executed as-is. Please report this to the AutgoGraph team. When filing the bug, set the verbosity to 10 (on Linux, `export AUTOGRAPH_VERBOSITY=10`) and attach the full output. Cause: converting <bound method Conv.call of <tensorflow.python.layers.convolutional.Conv2D object at 0x7f5284700f90>>: AssertionError: Bad argument number for Name: 3, expecting 4\n"
     ]
    },
    {
     "name": "stderr",
     "output_type": "stream",
     "text": [
      "W0705 04:27:54.996441 139997008488192 ag_logging.py:145] Entity <bound method Conv.call of <tensorflow.python.layers.convolutional.Conv2D object at 0x7f5284700f90>> could not be transformed and will be executed as-is. Please report this to the AutgoGraph team. When filing the bug, set the verbosity to 10 (on Linux, `export AUTOGRAPH_VERBOSITY=10`) and attach the full output. Cause: converting <bound method Conv.call of <tensorflow.python.layers.convolutional.Conv2D object at 0x7f5284700f90>>: AssertionError: Bad argument number for Name: 3, expecting 4\n"
     ]
    },
    {
     "name": "stdout",
     "output_type": "stream",
     "text": [
      "WARNING: Entity <bound method Conv.call of <tensorflow.python.layers.convolutional.Conv2D object at 0x7f5284700f90>> could not be transformed and will be executed as-is. Please report this to the AutgoGraph team. When filing the bug, set the verbosity to 10 (on Linux, `export AUTOGRAPH_VERBOSITY=10`) and attach the full output. Cause: converting <bound method Conv.call of <tensorflow.python.layers.convolutional.Conv2D object at 0x7f5284700f90>>: AssertionError: Bad argument number for Name: 3, expecting 4\n",
      "WARNING:tensorflow:Entity <bound method BatchNormalization.call of <tensorflow.python.layers.normalization.BatchNormalization object at 0x7f528432c450>> could not be transformed and will be executed as-is. Please report this to the AutgoGraph team. When filing the bug, set the verbosity to 10 (on Linux, `export AUTOGRAPH_VERBOSITY=10`) and attach the full output. Cause: converting <bound method BatchNormalization.call of <tensorflow.python.layers.normalization.BatchNormalization object at 0x7f528432c450>>: AssertionError: Bad argument number for Name: 3, expecting 4\n"
     ]
    },
    {
     "name": "stderr",
     "output_type": "stream",
     "text": [
      "W0705 04:27:55.018787 139997008488192 ag_logging.py:145] Entity <bound method BatchNormalization.call of <tensorflow.python.layers.normalization.BatchNormalization object at 0x7f528432c450>> could not be transformed and will be executed as-is. Please report this to the AutgoGraph team. When filing the bug, set the verbosity to 10 (on Linux, `export AUTOGRAPH_VERBOSITY=10`) and attach the full output. Cause: converting <bound method BatchNormalization.call of <tensorflow.python.layers.normalization.BatchNormalization object at 0x7f528432c450>>: AssertionError: Bad argument number for Name: 3, expecting 4\n"
     ]
    },
    {
     "name": "stdout",
     "output_type": "stream",
     "text": [
      "WARNING: Entity <bound method BatchNormalization.call of <tensorflow.python.layers.normalization.BatchNormalization object at 0x7f528432c450>> could not be transformed and will be executed as-is. Please report this to the AutgoGraph team. When filing the bug, set the verbosity to 10 (on Linux, `export AUTOGRAPH_VERBOSITY=10`) and attach the full output. Cause: converting <bound method BatchNormalization.call of <tensorflow.python.layers.normalization.BatchNormalization object at 0x7f528432c450>>: AssertionError: Bad argument number for Name: 3, expecting 4\n",
      "WARNING:tensorflow:Entity <bound method Pooling2D.call of <tensorflow.python.layers.pooling.AveragePooling2D object at 0x7f52846dd9d0>> could not be transformed and will be executed as-is. Please report this to the AutgoGraph team. When filing the bug, set the verbosity to 10 (on Linux, `export AUTOGRAPH_VERBOSITY=10`) and attach the full output. Cause: converting <bound method Pooling2D.call of <tensorflow.python.layers.pooling.AveragePooling2D object at 0x7f52846dd9d0>>: AssertionError: Bad argument number for Name: 3, expecting 4\n"
     ]
    },
    {
     "name": "stderr",
     "output_type": "stream",
     "text": [
      "W0705 04:27:55.057706 139997008488192 ag_logging.py:145] Entity <bound method Pooling2D.call of <tensorflow.python.layers.pooling.AveragePooling2D object at 0x7f52846dd9d0>> could not be transformed and will be executed as-is. Please report this to the AutgoGraph team. When filing the bug, set the verbosity to 10 (on Linux, `export AUTOGRAPH_VERBOSITY=10`) and attach the full output. Cause: converting <bound method Pooling2D.call of <tensorflow.python.layers.pooling.AveragePooling2D object at 0x7f52846dd9d0>>: AssertionError: Bad argument number for Name: 3, expecting 4\n"
     ]
    },
    {
     "name": "stdout",
     "output_type": "stream",
     "text": [
      "WARNING: Entity <bound method Pooling2D.call of <tensorflow.python.layers.pooling.AveragePooling2D object at 0x7f52846dd9d0>> could not be transformed and will be executed as-is. Please report this to the AutgoGraph team. When filing the bug, set the verbosity to 10 (on Linux, `export AUTOGRAPH_VERBOSITY=10`) and attach the full output. Cause: converting <bound method Pooling2D.call of <tensorflow.python.layers.pooling.AveragePooling2D object at 0x7f52846dd9d0>>: AssertionError: Bad argument number for Name: 3, expecting 4\n",
      "WARNING:tensorflow:Entity <bound method Conv.call of <tensorflow.python.layers.convolutional.Conv2D object at 0x7f52843885d0>> could not be transformed and will be executed as-is. Please report this to the AutgoGraph team. When filing the bug, set the verbosity to 10 (on Linux, `export AUTOGRAPH_VERBOSITY=10`) and attach the full output. Cause: converting <bound method Conv.call of <tensorflow.python.layers.convolutional.Conv2D object at 0x7f52843885d0>>: AssertionError: Bad argument number for Name: 3, expecting 4\n"
     ]
    },
    {
     "name": "stderr",
     "output_type": "stream",
     "text": [
      "W0705 04:27:55.114696 139997008488192 ag_logging.py:145] Entity <bound method Conv.call of <tensorflow.python.layers.convolutional.Conv2D object at 0x7f52843885d0>> could not be transformed and will be executed as-is. Please report this to the AutgoGraph team. When filing the bug, set the verbosity to 10 (on Linux, `export AUTOGRAPH_VERBOSITY=10`) and attach the full output. Cause: converting <bound method Conv.call of <tensorflow.python.layers.convolutional.Conv2D object at 0x7f52843885d0>>: AssertionError: Bad argument number for Name: 3, expecting 4\n"
     ]
    },
    {
     "name": "stdout",
     "output_type": "stream",
     "text": [
      "WARNING: Entity <bound method Conv.call of <tensorflow.python.layers.convolutional.Conv2D object at 0x7f52843885d0>> could not be transformed and will be executed as-is. Please report this to the AutgoGraph team. When filing the bug, set the verbosity to 10 (on Linux, `export AUTOGRAPH_VERBOSITY=10`) and attach the full output. Cause: converting <bound method Conv.call of <tensorflow.python.layers.convolutional.Conv2D object at 0x7f52843885d0>>: AssertionError: Bad argument number for Name: 3, expecting 4\n",
      "WARNING:tensorflow:Entity <bound method BatchNormalization.call of <tensorflow.python.layers.normalization.BatchNormalization object at 0x7f528432cb50>> could not be transformed and will be executed as-is. Please report this to the AutgoGraph team. When filing the bug, set the verbosity to 10 (on Linux, `export AUTOGRAPH_VERBOSITY=10`) and attach the full output. Cause: converting <bound method BatchNormalization.call of <tensorflow.python.layers.normalization.BatchNormalization object at 0x7f528432cb50>>: AssertionError: Bad argument number for Name: 3, expecting 4\n"
     ]
    },
    {
     "name": "stderr",
     "output_type": "stream",
     "text": [
      "W0705 04:27:55.137340 139997008488192 ag_logging.py:145] Entity <bound method BatchNormalization.call of <tensorflow.python.layers.normalization.BatchNormalization object at 0x7f528432cb50>> could not be transformed and will be executed as-is. Please report this to the AutgoGraph team. When filing the bug, set the verbosity to 10 (on Linux, `export AUTOGRAPH_VERBOSITY=10`) and attach the full output. Cause: converting <bound method BatchNormalization.call of <tensorflow.python.layers.normalization.BatchNormalization object at 0x7f528432cb50>>: AssertionError: Bad argument number for Name: 3, expecting 4\n"
     ]
    },
    {
     "name": "stdout",
     "output_type": "stream",
     "text": [
      "WARNING: Entity <bound method BatchNormalization.call of <tensorflow.python.layers.normalization.BatchNormalization object at 0x7f528432cb50>> could not be transformed and will be executed as-is. Please report this to the AutgoGraph team. When filing the bug, set the verbosity to 10 (on Linux, `export AUTOGRAPH_VERBOSITY=10`) and attach the full output. Cause: converting <bound method BatchNormalization.call of <tensorflow.python.layers.normalization.BatchNormalization object at 0x7f528432cb50>>: AssertionError: Bad argument number for Name: 3, expecting 4\n",
      "WARNING:tensorflow:Entity <bound method Conv.call of <tensorflow.python.layers.convolutional.Conv2D object at 0x7f528437d090>> could not be transformed and will be executed as-is. Please report this to the AutgoGraph team. When filing the bug, set the verbosity to 10 (on Linux, `export AUTOGRAPH_VERBOSITY=10`) and attach the full output. Cause: converting <bound method Conv.call of <tensorflow.python.layers.convolutional.Conv2D object at 0x7f528437d090>>: AssertionError: Bad argument number for Name: 3, expecting 4\n"
     ]
    },
    {
     "name": "stderr",
     "output_type": "stream",
     "text": [
      "W0705 04:27:55.196988 139997008488192 ag_logging.py:145] Entity <bound method Conv.call of <tensorflow.python.layers.convolutional.Conv2D object at 0x7f528437d090>> could not be transformed and will be executed as-is. Please report this to the AutgoGraph team. When filing the bug, set the verbosity to 10 (on Linux, `export AUTOGRAPH_VERBOSITY=10`) and attach the full output. Cause: converting <bound method Conv.call of <tensorflow.python.layers.convolutional.Conv2D object at 0x7f528437d090>>: AssertionError: Bad argument number for Name: 3, expecting 4\n"
     ]
    },
    {
     "name": "stdout",
     "output_type": "stream",
     "text": [
      "WARNING: Entity <bound method Conv.call of <tensorflow.python.layers.convolutional.Conv2D object at 0x7f528437d090>> could not be transformed and will be executed as-is. Please report this to the AutgoGraph team. When filing the bug, set the verbosity to 10 (on Linux, `export AUTOGRAPH_VERBOSITY=10`) and attach the full output. Cause: converting <bound method Conv.call of <tensorflow.python.layers.convolutional.Conv2D object at 0x7f528437d090>>: AssertionError: Bad argument number for Name: 3, expecting 4\n",
      "WARNING:tensorflow:Entity <bound method BatchNormalization.call of <tensorflow.python.layers.normalization.BatchNormalization object at 0x7f528432c2d0>> could not be transformed and will be executed as-is. Please report this to the AutgoGraph team. When filing the bug, set the verbosity to 10 (on Linux, `export AUTOGRAPH_VERBOSITY=10`) and attach the full output. Cause: converting <bound method BatchNormalization.call of <tensorflow.python.layers.normalization.BatchNormalization object at 0x7f528432c2d0>>: AssertionError: Bad argument number for Name: 3, expecting 4\n"
     ]
    },
    {
     "name": "stderr",
     "output_type": "stream",
     "text": [
      "W0705 04:27:55.219535 139997008488192 ag_logging.py:145] Entity <bound method BatchNormalization.call of <tensorflow.python.layers.normalization.BatchNormalization object at 0x7f528432c2d0>> could not be transformed and will be executed as-is. Please report this to the AutgoGraph team. When filing the bug, set the verbosity to 10 (on Linux, `export AUTOGRAPH_VERBOSITY=10`) and attach the full output. Cause: converting <bound method BatchNormalization.call of <tensorflow.python.layers.normalization.BatchNormalization object at 0x7f528432c2d0>>: AssertionError: Bad argument number for Name: 3, expecting 4\n"
     ]
    },
    {
     "name": "stdout",
     "output_type": "stream",
     "text": [
      "WARNING: Entity <bound method BatchNormalization.call of <tensorflow.python.layers.normalization.BatchNormalization object at 0x7f528432c2d0>> could not be transformed and will be executed as-is. Please report this to the AutgoGraph team. When filing the bug, set the verbosity to 10 (on Linux, `export AUTOGRAPH_VERBOSITY=10`) and attach the full output. Cause: converting <bound method BatchNormalization.call of <tensorflow.python.layers.normalization.BatchNormalization object at 0x7f528432c2d0>>: AssertionError: Bad argument number for Name: 3, expecting 4\n",
      "WARNING:tensorflow:Entity <bound method Conv.call of <tensorflow.python.layers.convolutional.Conv2D object at 0x7f52844e5d10>> could not be transformed and will be executed as-is. Please report this to the AutgoGraph team. When filing the bug, set the verbosity to 10 (on Linux, `export AUTOGRAPH_VERBOSITY=10`) and attach the full output. Cause: converting <bound method Conv.call of <tensorflow.python.layers.convolutional.Conv2D object at 0x7f52844e5d10>>: AssertionError: Bad argument number for Name: 3, expecting 4\n"
     ]
    },
    {
     "name": "stderr",
     "output_type": "stream",
     "text": [
      "W0705 04:27:55.277699 139997008488192 ag_logging.py:145] Entity <bound method Conv.call of <tensorflow.python.layers.convolutional.Conv2D object at 0x7f52844e5d10>> could not be transformed and will be executed as-is. Please report this to the AutgoGraph team. When filing the bug, set the verbosity to 10 (on Linux, `export AUTOGRAPH_VERBOSITY=10`) and attach the full output. Cause: converting <bound method Conv.call of <tensorflow.python.layers.convolutional.Conv2D object at 0x7f52844e5d10>>: AssertionError: Bad argument number for Name: 3, expecting 4\n"
     ]
    },
    {
     "name": "stdout",
     "output_type": "stream",
     "text": [
      "WARNING: Entity <bound method Conv.call of <tensorflow.python.layers.convolutional.Conv2D object at 0x7f52844e5d10>> could not be transformed and will be executed as-is. Please report this to the AutgoGraph team. When filing the bug, set the verbosity to 10 (on Linux, `export AUTOGRAPH_VERBOSITY=10`) and attach the full output. Cause: converting <bound method Conv.call of <tensorflow.python.layers.convolutional.Conv2D object at 0x7f52844e5d10>>: AssertionError: Bad argument number for Name: 3, expecting 4\n",
      "WARNING:tensorflow:Entity <bound method BatchNormalization.call of <tensorflow.python.layers.normalization.BatchNormalization object at 0x7f52841d27d0>> could not be transformed and will be executed as-is. Please report this to the AutgoGraph team. When filing the bug, set the verbosity to 10 (on Linux, `export AUTOGRAPH_VERBOSITY=10`) and attach the full output. Cause: converting <bound method BatchNormalization.call of <tensorflow.python.layers.normalization.BatchNormalization object at 0x7f52841d27d0>>: AssertionError: Bad argument number for Name: 3, expecting 4\n"
     ]
    },
    {
     "name": "stderr",
     "output_type": "stream",
     "text": [
      "W0705 04:27:55.299952 139997008488192 ag_logging.py:145] Entity <bound method BatchNormalization.call of <tensorflow.python.layers.normalization.BatchNormalization object at 0x7f52841d27d0>> could not be transformed and will be executed as-is. Please report this to the AutgoGraph team. When filing the bug, set the verbosity to 10 (on Linux, `export AUTOGRAPH_VERBOSITY=10`) and attach the full output. Cause: converting <bound method BatchNormalization.call of <tensorflow.python.layers.normalization.BatchNormalization object at 0x7f52841d27d0>>: AssertionError: Bad argument number for Name: 3, expecting 4\n"
     ]
    },
    {
     "name": "stdout",
     "output_type": "stream",
     "text": [
      "WARNING: Entity <bound method BatchNormalization.call of <tensorflow.python.layers.normalization.BatchNormalization object at 0x7f52841d27d0>> could not be transformed and will be executed as-is. Please report this to the AutgoGraph team. When filing the bug, set the verbosity to 10 (on Linux, `export AUTOGRAPH_VERBOSITY=10`) and attach the full output. Cause: converting <bound method BatchNormalization.call of <tensorflow.python.layers.normalization.BatchNormalization object at 0x7f52841d27d0>>: AssertionError: Bad argument number for Name: 3, expecting 4\n",
      "WARNING:tensorflow:Entity <bound method Conv.call of <tensorflow.python.layers.convolutional.Conv2D object at 0x7f5284421210>> could not be transformed and will be executed as-is. Please report this to the AutgoGraph team. When filing the bug, set the verbosity to 10 (on Linux, `export AUTOGRAPH_VERBOSITY=10`) and attach the full output. Cause: converting <bound method Conv.call of <tensorflow.python.layers.convolutional.Conv2D object at 0x7f5284421210>>: AssertionError: Bad argument number for Name: 3, expecting 4\n"
     ]
    },
    {
     "name": "stderr",
     "output_type": "stream",
     "text": [
      "W0705 04:27:55.358470 139997008488192 ag_logging.py:145] Entity <bound method Conv.call of <tensorflow.python.layers.convolutional.Conv2D object at 0x7f5284421210>> could not be transformed and will be executed as-is. Please report this to the AutgoGraph team. When filing the bug, set the verbosity to 10 (on Linux, `export AUTOGRAPH_VERBOSITY=10`) and attach the full output. Cause: converting <bound method Conv.call of <tensorflow.python.layers.convolutional.Conv2D object at 0x7f5284421210>>: AssertionError: Bad argument number for Name: 3, expecting 4\n"
     ]
    },
    {
     "name": "stdout",
     "output_type": "stream",
     "text": [
      "WARNING: Entity <bound method Conv.call of <tensorflow.python.layers.convolutional.Conv2D object at 0x7f5284421210>> could not be transformed and will be executed as-is. Please report this to the AutgoGraph team. When filing the bug, set the verbosity to 10 (on Linux, `export AUTOGRAPH_VERBOSITY=10`) and attach the full output. Cause: converting <bound method Conv.call of <tensorflow.python.layers.convolutional.Conv2D object at 0x7f5284421210>>: AssertionError: Bad argument number for Name: 3, expecting 4\n",
      "WARNING:tensorflow:Entity <bound method BatchNormalization.call of <tensorflow.python.layers.normalization.BatchNormalization object at 0x7f52841b4590>> could not be transformed and will be executed as-is. Please report this to the AutgoGraph team. When filing the bug, set the verbosity to 10 (on Linux, `export AUTOGRAPH_VERBOSITY=10`) and attach the full output. Cause: converting <bound method BatchNormalization.call of <tensorflow.python.layers.normalization.BatchNormalization object at 0x7f52841b4590>>: AssertionError: Bad argument number for Name: 3, expecting 4\n"
     ]
    },
    {
     "name": "stderr",
     "output_type": "stream",
     "text": [
      "W0705 04:27:55.380985 139997008488192 ag_logging.py:145] Entity <bound method BatchNormalization.call of <tensorflow.python.layers.normalization.BatchNormalization object at 0x7f52841b4590>> could not be transformed and will be executed as-is. Please report this to the AutgoGraph team. When filing the bug, set the verbosity to 10 (on Linux, `export AUTOGRAPH_VERBOSITY=10`) and attach the full output. Cause: converting <bound method BatchNormalization.call of <tensorflow.python.layers.normalization.BatchNormalization object at 0x7f52841b4590>>: AssertionError: Bad argument number for Name: 3, expecting 4\n"
     ]
    },
    {
     "name": "stdout",
     "output_type": "stream",
     "text": [
      "WARNING: Entity <bound method BatchNormalization.call of <tensorflow.python.layers.normalization.BatchNormalization object at 0x7f52841b4590>> could not be transformed and will be executed as-is. Please report this to the AutgoGraph team. When filing the bug, set the verbosity to 10 (on Linux, `export AUTOGRAPH_VERBOSITY=10`) and attach the full output. Cause: converting <bound method BatchNormalization.call of <tensorflow.python.layers.normalization.BatchNormalization object at 0x7f52841b4590>>: AssertionError: Bad argument number for Name: 3, expecting 4\n",
      "WARNING:tensorflow:Entity <bound method Conv.call of <tensorflow.python.layers.convolutional.Conv2D object at 0x7f528437df10>> could not be transformed and will be executed as-is. Please report this to the AutgoGraph team. When filing the bug, set the verbosity to 10 (on Linux, `export AUTOGRAPH_VERBOSITY=10`) and attach the full output. Cause: converting <bound method Conv.call of <tensorflow.python.layers.convolutional.Conv2D object at 0x7f528437df10>>: AssertionError: Bad argument number for Name: 3, expecting 4\n"
     ]
    },
    {
     "name": "stderr",
     "output_type": "stream",
     "text": [
      "W0705 04:27:55.439117 139997008488192 ag_logging.py:145] Entity <bound method Conv.call of <tensorflow.python.layers.convolutional.Conv2D object at 0x7f528437df10>> could not be transformed and will be executed as-is. Please report this to the AutgoGraph team. When filing the bug, set the verbosity to 10 (on Linux, `export AUTOGRAPH_VERBOSITY=10`) and attach the full output. Cause: converting <bound method Conv.call of <tensorflow.python.layers.convolutional.Conv2D object at 0x7f528437df10>>: AssertionError: Bad argument number for Name: 3, expecting 4\n"
     ]
    },
    {
     "name": "stdout",
     "output_type": "stream",
     "text": [
      "WARNING: Entity <bound method Conv.call of <tensorflow.python.layers.convolutional.Conv2D object at 0x7f528437df10>> could not be transformed and will be executed as-is. Please report this to the AutgoGraph team. When filing the bug, set the verbosity to 10 (on Linux, `export AUTOGRAPH_VERBOSITY=10`) and attach the full output. Cause: converting <bound method Conv.call of <tensorflow.python.layers.convolutional.Conv2D object at 0x7f528437df10>>: AssertionError: Bad argument number for Name: 3, expecting 4\n",
      "WARNING:tensorflow:Entity <bound method BatchNormalization.call of <tensorflow.python.layers.normalization.BatchNormalization object at 0x7f5284202ad0>> could not be transformed and will be executed as-is. Please report this to the AutgoGraph team. When filing the bug, set the verbosity to 10 (on Linux, `export AUTOGRAPH_VERBOSITY=10`) and attach the full output. Cause: converting <bound method BatchNormalization.call of <tensorflow.python.layers.normalization.BatchNormalization object at 0x7f5284202ad0>>: AssertionError: Bad argument number for Name: 3, expecting 4\n"
     ]
    },
    {
     "name": "stderr",
     "output_type": "stream",
     "text": [
      "W0705 04:27:55.461370 139997008488192 ag_logging.py:145] Entity <bound method BatchNormalization.call of <tensorflow.python.layers.normalization.BatchNormalization object at 0x7f5284202ad0>> could not be transformed and will be executed as-is. Please report this to the AutgoGraph team. When filing the bug, set the verbosity to 10 (on Linux, `export AUTOGRAPH_VERBOSITY=10`) and attach the full output. Cause: converting <bound method BatchNormalization.call of <tensorflow.python.layers.normalization.BatchNormalization object at 0x7f5284202ad0>>: AssertionError: Bad argument number for Name: 3, expecting 4\n"
     ]
    },
    {
     "name": "stdout",
     "output_type": "stream",
     "text": [
      "WARNING: Entity <bound method BatchNormalization.call of <tensorflow.python.layers.normalization.BatchNormalization object at 0x7f5284202ad0>> could not be transformed and will be executed as-is. Please report this to the AutgoGraph team. When filing the bug, set the verbosity to 10 (on Linux, `export AUTOGRAPH_VERBOSITY=10`) and attach the full output. Cause: converting <bound method BatchNormalization.call of <tensorflow.python.layers.normalization.BatchNormalization object at 0x7f5284202ad0>>: AssertionError: Bad argument number for Name: 3, expecting 4\n",
      "WARNING:tensorflow:Entity <bound method Conv.call of <tensorflow.python.layers.convolutional.Conv2D object at 0x7f52844e5d10>> could not be transformed and will be executed as-is. Please report this to the AutgoGraph team. When filing the bug, set the verbosity to 10 (on Linux, `export AUTOGRAPH_VERBOSITY=10`) and attach the full output. Cause: converting <bound method Conv.call of <tensorflow.python.layers.convolutional.Conv2D object at 0x7f52844e5d10>>: AssertionError: Bad argument number for Name: 3, expecting 4\n"
     ]
    },
    {
     "name": "stderr",
     "output_type": "stream",
     "text": [
      "W0705 04:27:55.525346 139997008488192 ag_logging.py:145] Entity <bound method Conv.call of <tensorflow.python.layers.convolutional.Conv2D object at 0x7f52844e5d10>> could not be transformed and will be executed as-is. Please report this to the AutgoGraph team. When filing the bug, set the verbosity to 10 (on Linux, `export AUTOGRAPH_VERBOSITY=10`) and attach the full output. Cause: converting <bound method Conv.call of <tensorflow.python.layers.convolutional.Conv2D object at 0x7f52844e5d10>>: AssertionError: Bad argument number for Name: 3, expecting 4\n"
     ]
    },
    {
     "name": "stdout",
     "output_type": "stream",
     "text": [
      "WARNING: Entity <bound method Conv.call of <tensorflow.python.layers.convolutional.Conv2D object at 0x7f52844e5d10>> could not be transformed and will be executed as-is. Please report this to the AutgoGraph team. When filing the bug, set the verbosity to 10 (on Linux, `export AUTOGRAPH_VERBOSITY=10`) and attach the full output. Cause: converting <bound method Conv.call of <tensorflow.python.layers.convolutional.Conv2D object at 0x7f52844e5d10>>: AssertionError: Bad argument number for Name: 3, expecting 4\n",
      "WARNING:tensorflow:Entity <bound method BatchNormalization.call of <tensorflow.python.layers.normalization.BatchNormalization object at 0x7f528407de90>> could not be transformed and will be executed as-is. Please report this to the AutgoGraph team. When filing the bug, set the verbosity to 10 (on Linux, `export AUTOGRAPH_VERBOSITY=10`) and attach the full output. Cause: converting <bound method BatchNormalization.call of <tensorflow.python.layers.normalization.BatchNormalization object at 0x7f528407de90>>: AssertionError: Bad argument number for Name: 3, expecting 4\n"
     ]
    },
    {
     "name": "stderr",
     "output_type": "stream",
     "text": [
      "W0705 04:27:55.547738 139997008488192 ag_logging.py:145] Entity <bound method BatchNormalization.call of <tensorflow.python.layers.normalization.BatchNormalization object at 0x7f528407de90>> could not be transformed and will be executed as-is. Please report this to the AutgoGraph team. When filing the bug, set the verbosity to 10 (on Linux, `export AUTOGRAPH_VERBOSITY=10`) and attach the full output. Cause: converting <bound method BatchNormalization.call of <tensorflow.python.layers.normalization.BatchNormalization object at 0x7f528407de90>>: AssertionError: Bad argument number for Name: 3, expecting 4\n"
     ]
    },
    {
     "name": "stdout",
     "output_type": "stream",
     "text": [
      "WARNING: Entity <bound method BatchNormalization.call of <tensorflow.python.layers.normalization.BatchNormalization object at 0x7f528407de90>> could not be transformed and will be executed as-is. Please report this to the AutgoGraph team. When filing the bug, set the verbosity to 10 (on Linux, `export AUTOGRAPH_VERBOSITY=10`) and attach the full output. Cause: converting <bound method BatchNormalization.call of <tensorflow.python.layers.normalization.BatchNormalization object at 0x7f528407de90>>: AssertionError: Bad argument number for Name: 3, expecting 4\n",
      "WARNING:tensorflow:Entity <bound method Conv.call of <tensorflow.python.layers.convolutional.Conv2D object at 0x7f52cfbc2b90>> could not be transformed and will be executed as-is. Please report this to the AutgoGraph team. When filing the bug, set the verbosity to 10 (on Linux, `export AUTOGRAPH_VERBOSITY=10`) and attach the full output. Cause: converting <bound method Conv.call of <tensorflow.python.layers.convolutional.Conv2D object at 0x7f52cfbc2b90>>: AssertionError: Bad argument number for Name: 3, expecting 4\n"
     ]
    },
    {
     "name": "stderr",
     "output_type": "stream",
     "text": [
      "W0705 04:27:55.606810 139997008488192 ag_logging.py:145] Entity <bound method Conv.call of <tensorflow.python.layers.convolutional.Conv2D object at 0x7f52cfbc2b90>> could not be transformed and will be executed as-is. Please report this to the AutgoGraph team. When filing the bug, set the verbosity to 10 (on Linux, `export AUTOGRAPH_VERBOSITY=10`) and attach the full output. Cause: converting <bound method Conv.call of <tensorflow.python.layers.convolutional.Conv2D object at 0x7f52cfbc2b90>>: AssertionError: Bad argument number for Name: 3, expecting 4\n"
     ]
    },
    {
     "name": "stdout",
     "output_type": "stream",
     "text": [
      "WARNING: Entity <bound method Conv.call of <tensorflow.python.layers.convolutional.Conv2D object at 0x7f52cfbc2b90>> could not be transformed and will be executed as-is. Please report this to the AutgoGraph team. When filing the bug, set the verbosity to 10 (on Linux, `export AUTOGRAPH_VERBOSITY=10`) and attach the full output. Cause: converting <bound method Conv.call of <tensorflow.python.layers.convolutional.Conv2D object at 0x7f52cfbc2b90>>: AssertionError: Bad argument number for Name: 3, expecting 4\n",
      "WARNING:tensorflow:Entity <bound method BatchNormalization.call of <tensorflow.python.layers.normalization.BatchNormalization object at 0x7f527c783710>> could not be transformed and will be executed as-is. Please report this to the AutgoGraph team. When filing the bug, set the verbosity to 10 (on Linux, `export AUTOGRAPH_VERBOSITY=10`) and attach the full output. Cause: converting <bound method BatchNormalization.call of <tensorflow.python.layers.normalization.BatchNormalization object at 0x7f527c783710>>: AssertionError: Bad argument number for Name: 3, expecting 4\n"
     ]
    },
    {
     "name": "stderr",
     "output_type": "stream",
     "text": [
      "W0705 04:27:55.629146 139997008488192 ag_logging.py:145] Entity <bound method BatchNormalization.call of <tensorflow.python.layers.normalization.BatchNormalization object at 0x7f527c783710>> could not be transformed and will be executed as-is. Please report this to the AutgoGraph team. When filing the bug, set the verbosity to 10 (on Linux, `export AUTOGRAPH_VERBOSITY=10`) and attach the full output. Cause: converting <bound method BatchNormalization.call of <tensorflow.python.layers.normalization.BatchNormalization object at 0x7f527c783710>>: AssertionError: Bad argument number for Name: 3, expecting 4\n"
     ]
    },
    {
     "name": "stdout",
     "output_type": "stream",
     "text": [
      "WARNING: Entity <bound method BatchNormalization.call of <tensorflow.python.layers.normalization.BatchNormalization object at 0x7f527c783710>> could not be transformed and will be executed as-is. Please report this to the AutgoGraph team. When filing the bug, set the verbosity to 10 (on Linux, `export AUTOGRAPH_VERBOSITY=10`) and attach the full output. Cause: converting <bound method BatchNormalization.call of <tensorflow.python.layers.normalization.BatchNormalization object at 0x7f527c783710>>: AssertionError: Bad argument number for Name: 3, expecting 4\n",
      "WARNING:tensorflow:Entity <bound method Conv.call of <tensorflow.python.layers.convolutional.Conv2D object at 0x7f5284388290>> could not be transformed and will be executed as-is. Please report this to the AutgoGraph team. When filing the bug, set the verbosity to 10 (on Linux, `export AUTOGRAPH_VERBOSITY=10`) and attach the full output. Cause: converting <bound method Conv.call of <tensorflow.python.layers.convolutional.Conv2D object at 0x7f5284388290>>: AssertionError: Bad argument number for Name: 3, expecting 4\n"
     ]
    },
    {
     "name": "stderr",
     "output_type": "stream",
     "text": [
      "W0705 04:27:55.688134 139997008488192 ag_logging.py:145] Entity <bound method Conv.call of <tensorflow.python.layers.convolutional.Conv2D object at 0x7f5284388290>> could not be transformed and will be executed as-is. Please report this to the AutgoGraph team. When filing the bug, set the verbosity to 10 (on Linux, `export AUTOGRAPH_VERBOSITY=10`) and attach the full output. Cause: converting <bound method Conv.call of <tensorflow.python.layers.convolutional.Conv2D object at 0x7f5284388290>>: AssertionError: Bad argument number for Name: 3, expecting 4\n"
     ]
    },
    {
     "name": "stdout",
     "output_type": "stream",
     "text": [
      "WARNING: Entity <bound method Conv.call of <tensorflow.python.layers.convolutional.Conv2D object at 0x7f5284388290>> could not be transformed and will be executed as-is. Please report this to the AutgoGraph team. When filing the bug, set the verbosity to 10 (on Linux, `export AUTOGRAPH_VERBOSITY=10`) and attach the full output. Cause: converting <bound method Conv.call of <tensorflow.python.layers.convolutional.Conv2D object at 0x7f5284388290>>: AssertionError: Bad argument number for Name: 3, expecting 4\n",
      "WARNING:tensorflow:Entity <bound method BatchNormalization.call of <tensorflow.python.layers.normalization.BatchNormalization object at 0x7f5284122550>> could not be transformed and will be executed as-is. Please report this to the AutgoGraph team. When filing the bug, set the verbosity to 10 (on Linux, `export AUTOGRAPH_VERBOSITY=10`) and attach the full output. Cause: converting <bound method BatchNormalization.call of <tensorflow.python.layers.normalization.BatchNormalization object at 0x7f5284122550>>: AssertionError: Bad argument number for Name: 3, expecting 4\n"
     ]
    },
    {
     "name": "stderr",
     "output_type": "stream",
     "text": [
      "W0705 04:27:55.710508 139997008488192 ag_logging.py:145] Entity <bound method BatchNormalization.call of <tensorflow.python.layers.normalization.BatchNormalization object at 0x7f5284122550>> could not be transformed and will be executed as-is. Please report this to the AutgoGraph team. When filing the bug, set the verbosity to 10 (on Linux, `export AUTOGRAPH_VERBOSITY=10`) and attach the full output. Cause: converting <bound method BatchNormalization.call of <tensorflow.python.layers.normalization.BatchNormalization object at 0x7f5284122550>>: AssertionError: Bad argument number for Name: 3, expecting 4\n"
     ]
    },
    {
     "name": "stdout",
     "output_type": "stream",
     "text": [
      "WARNING: Entity <bound method BatchNormalization.call of <tensorflow.python.layers.normalization.BatchNormalization object at 0x7f5284122550>> could not be transformed and will be executed as-is. Please report this to the AutgoGraph team. When filing the bug, set the verbosity to 10 (on Linux, `export AUTOGRAPH_VERBOSITY=10`) and attach the full output. Cause: converting <bound method BatchNormalization.call of <tensorflow.python.layers.normalization.BatchNormalization object at 0x7f5284122550>>: AssertionError: Bad argument number for Name: 3, expecting 4\n",
      "WARNING:tensorflow:Entity <bound method Conv.call of <tensorflow.python.layers.convolutional.Conv2D object at 0x7f5390fc2f90>> could not be transformed and will be executed as-is. Please report this to the AutgoGraph team. When filing the bug, set the verbosity to 10 (on Linux, `export AUTOGRAPH_VERBOSITY=10`) and attach the full output. Cause: converting <bound method Conv.call of <tensorflow.python.layers.convolutional.Conv2D object at 0x7f5390fc2f90>>: AssertionError: Bad argument number for Name: 3, expecting 4\n"
     ]
    },
    {
     "name": "stderr",
     "output_type": "stream",
     "text": [
      "W0705 04:27:55.770960 139997008488192 ag_logging.py:145] Entity <bound method Conv.call of <tensorflow.python.layers.convolutional.Conv2D object at 0x7f5390fc2f90>> could not be transformed and will be executed as-is. Please report this to the AutgoGraph team. When filing the bug, set the verbosity to 10 (on Linux, `export AUTOGRAPH_VERBOSITY=10`) and attach the full output. Cause: converting <bound method Conv.call of <tensorflow.python.layers.convolutional.Conv2D object at 0x7f5390fc2f90>>: AssertionError: Bad argument number for Name: 3, expecting 4\n"
     ]
    },
    {
     "name": "stdout",
     "output_type": "stream",
     "text": [
      "WARNING: Entity <bound method Conv.call of <tensorflow.python.layers.convolutional.Conv2D object at 0x7f5390fc2f90>> could not be transformed and will be executed as-is. Please report this to the AutgoGraph team. When filing the bug, set the verbosity to 10 (on Linux, `export AUTOGRAPH_VERBOSITY=10`) and attach the full output. Cause: converting <bound method Conv.call of <tensorflow.python.layers.convolutional.Conv2D object at 0x7f5390fc2f90>>: AssertionError: Bad argument number for Name: 3, expecting 4\n",
      "WARNING:tensorflow:Entity <bound method BatchNormalization.call of <tensorflow.python.layers.normalization.BatchNormalization object at 0x7f527c770cd0>> could not be transformed and will be executed as-is. Please report this to the AutgoGraph team. When filing the bug, set the verbosity to 10 (on Linux, `export AUTOGRAPH_VERBOSITY=10`) and attach the full output. Cause: converting <bound method BatchNormalization.call of <tensorflow.python.layers.normalization.BatchNormalization object at 0x7f527c770cd0>>: AssertionError: Bad argument number for Name: 3, expecting 4\n"
     ]
    },
    {
     "name": "stderr",
     "output_type": "stream",
     "text": [
      "W0705 04:27:55.793316 139997008488192 ag_logging.py:145] Entity <bound method BatchNormalization.call of <tensorflow.python.layers.normalization.BatchNormalization object at 0x7f527c770cd0>> could not be transformed and will be executed as-is. Please report this to the AutgoGraph team. When filing the bug, set the verbosity to 10 (on Linux, `export AUTOGRAPH_VERBOSITY=10`) and attach the full output. Cause: converting <bound method BatchNormalization.call of <tensorflow.python.layers.normalization.BatchNormalization object at 0x7f527c770cd0>>: AssertionError: Bad argument number for Name: 3, expecting 4\n"
     ]
    },
    {
     "name": "stdout",
     "output_type": "stream",
     "text": [
      "WARNING: Entity <bound method BatchNormalization.call of <tensorflow.python.layers.normalization.BatchNormalization object at 0x7f527c770cd0>> could not be transformed and will be executed as-is. Please report this to the AutgoGraph team. When filing the bug, set the verbosity to 10 (on Linux, `export AUTOGRAPH_VERBOSITY=10`) and attach the full output. Cause: converting <bound method BatchNormalization.call of <tensorflow.python.layers.normalization.BatchNormalization object at 0x7f527c770cd0>>: AssertionError: Bad argument number for Name: 3, expecting 4\n",
      "WARNING:tensorflow:Entity <bound method Conv.call of <tensorflow.python.layers.convolutional.Conv2D object at 0x7f528432cd90>> could not be transformed and will be executed as-is. Please report this to the AutgoGraph team. When filing the bug, set the verbosity to 10 (on Linux, `export AUTOGRAPH_VERBOSITY=10`) and attach the full output. Cause: converting <bound method Conv.call of <tensorflow.python.layers.convolutional.Conv2D object at 0x7f528432cd90>>: AssertionError: Bad argument number for Name: 3, expecting 4\n"
     ]
    },
    {
     "name": "stderr",
     "output_type": "stream",
     "text": [
      "W0705 04:27:55.852512 139997008488192 ag_logging.py:145] Entity <bound method Conv.call of <tensorflow.python.layers.convolutional.Conv2D object at 0x7f528432cd90>> could not be transformed and will be executed as-is. Please report this to the AutgoGraph team. When filing the bug, set the verbosity to 10 (on Linux, `export AUTOGRAPH_VERBOSITY=10`) and attach the full output. Cause: converting <bound method Conv.call of <tensorflow.python.layers.convolutional.Conv2D object at 0x7f528432cd90>>: AssertionError: Bad argument number for Name: 3, expecting 4\n"
     ]
    },
    {
     "name": "stdout",
     "output_type": "stream",
     "text": [
      "WARNING: Entity <bound method Conv.call of <tensorflow.python.layers.convolutional.Conv2D object at 0x7f528432cd90>> could not be transformed and will be executed as-is. Please report this to the AutgoGraph team. When filing the bug, set the verbosity to 10 (on Linux, `export AUTOGRAPH_VERBOSITY=10`) and attach the full output. Cause: converting <bound method Conv.call of <tensorflow.python.layers.convolutional.Conv2D object at 0x7f528432cd90>>: AssertionError: Bad argument number for Name: 3, expecting 4\n",
      "WARNING:tensorflow:Entity <bound method BatchNormalization.call of <tensorflow.python.layers.normalization.BatchNormalization object at 0x7f527c6c56d0>> could not be transformed and will be executed as-is. Please report this to the AutgoGraph team. When filing the bug, set the verbosity to 10 (on Linux, `export AUTOGRAPH_VERBOSITY=10`) and attach the full output. Cause: converting <bound method BatchNormalization.call of <tensorflow.python.layers.normalization.BatchNormalization object at 0x7f527c6c56d0>>: AssertionError: Bad argument number for Name: 3, expecting 4\n"
     ]
    },
    {
     "name": "stderr",
     "output_type": "stream",
     "text": [
      "W0705 04:27:55.874980 139997008488192 ag_logging.py:145] Entity <bound method BatchNormalization.call of <tensorflow.python.layers.normalization.BatchNormalization object at 0x7f527c6c56d0>> could not be transformed and will be executed as-is. Please report this to the AutgoGraph team. When filing the bug, set the verbosity to 10 (on Linux, `export AUTOGRAPH_VERBOSITY=10`) and attach the full output. Cause: converting <bound method BatchNormalization.call of <tensorflow.python.layers.normalization.BatchNormalization object at 0x7f527c6c56d0>>: AssertionError: Bad argument number for Name: 3, expecting 4\n"
     ]
    },
    {
     "name": "stdout",
     "output_type": "stream",
     "text": [
      "WARNING: Entity <bound method BatchNormalization.call of <tensorflow.python.layers.normalization.BatchNormalization object at 0x7f527c6c56d0>> could not be transformed and will be executed as-is. Please report this to the AutgoGraph team. When filing the bug, set the verbosity to 10 (on Linux, `export AUTOGRAPH_VERBOSITY=10`) and attach the full output. Cause: converting <bound method BatchNormalization.call of <tensorflow.python.layers.normalization.BatchNormalization object at 0x7f527c6c56d0>>: AssertionError: Bad argument number for Name: 3, expecting 4\n",
      "WARNING:tensorflow:Entity <bound method Pooling2D.call of <tensorflow.python.layers.pooling.AveragePooling2D object at 0x7f52841d2ed0>> could not be transformed and will be executed as-is. Please report this to the AutgoGraph team. When filing the bug, set the verbosity to 10 (on Linux, `export AUTOGRAPH_VERBOSITY=10`) and attach the full output. Cause: converting <bound method Pooling2D.call of <tensorflow.python.layers.pooling.AveragePooling2D object at 0x7f52841d2ed0>>: AssertionError: Bad argument number for Name: 3, expecting 4\n"
     ]
    },
    {
     "name": "stderr",
     "output_type": "stream",
     "text": [
      "W0705 04:27:55.914472 139997008488192 ag_logging.py:145] Entity <bound method Pooling2D.call of <tensorflow.python.layers.pooling.AveragePooling2D object at 0x7f52841d2ed0>> could not be transformed and will be executed as-is. Please report this to the AutgoGraph team. When filing the bug, set the verbosity to 10 (on Linux, `export AUTOGRAPH_VERBOSITY=10`) and attach the full output. Cause: converting <bound method Pooling2D.call of <tensorflow.python.layers.pooling.AveragePooling2D object at 0x7f52841d2ed0>>: AssertionError: Bad argument number for Name: 3, expecting 4\n"
     ]
    },
    {
     "name": "stdout",
     "output_type": "stream",
     "text": [
      "WARNING: Entity <bound method Pooling2D.call of <tensorflow.python.layers.pooling.AveragePooling2D object at 0x7f52841d2ed0>> could not be transformed and will be executed as-is. Please report this to the AutgoGraph team. When filing the bug, set the verbosity to 10 (on Linux, `export AUTOGRAPH_VERBOSITY=10`) and attach the full output. Cause: converting <bound method Pooling2D.call of <tensorflow.python.layers.pooling.AveragePooling2D object at 0x7f52841d2ed0>>: AssertionError: Bad argument number for Name: 3, expecting 4\n",
      "WARNING:tensorflow:Entity <bound method Conv.call of <tensorflow.python.layers.convolutional.Conv2D object at 0x7f528407d610>> could not be transformed and will be executed as-is. Please report this to the AutgoGraph team. When filing the bug, set the verbosity to 10 (on Linux, `export AUTOGRAPH_VERBOSITY=10`) and attach the full output. Cause: converting <bound method Conv.call of <tensorflow.python.layers.convolutional.Conv2D object at 0x7f528407d610>>: AssertionError: Bad argument number for Name: 3, expecting 4\n"
     ]
    },
    {
     "name": "stderr",
     "output_type": "stream",
     "text": [
      "W0705 04:27:55.971770 139997008488192 ag_logging.py:145] Entity <bound method Conv.call of <tensorflow.python.layers.convolutional.Conv2D object at 0x7f528407d610>> could not be transformed and will be executed as-is. Please report this to the AutgoGraph team. When filing the bug, set the verbosity to 10 (on Linux, `export AUTOGRAPH_VERBOSITY=10`) and attach the full output. Cause: converting <bound method Conv.call of <tensorflow.python.layers.convolutional.Conv2D object at 0x7f528407d610>>: AssertionError: Bad argument number for Name: 3, expecting 4\n"
     ]
    },
    {
     "name": "stdout",
     "output_type": "stream",
     "text": [
      "WARNING: Entity <bound method Conv.call of <tensorflow.python.layers.convolutional.Conv2D object at 0x7f528407d610>> could not be transformed and will be executed as-is. Please report this to the AutgoGraph team. When filing the bug, set the verbosity to 10 (on Linux, `export AUTOGRAPH_VERBOSITY=10`) and attach the full output. Cause: converting <bound method Conv.call of <tensorflow.python.layers.convolutional.Conv2D object at 0x7f528407d610>>: AssertionError: Bad argument number for Name: 3, expecting 4\n",
      "WARNING:tensorflow:Entity <bound method BatchNormalization.call of <tensorflow.python.layers.normalization.BatchNormalization object at 0x7f527c770e50>> could not be transformed and will be executed as-is. Please report this to the AutgoGraph team. When filing the bug, set the verbosity to 10 (on Linux, `export AUTOGRAPH_VERBOSITY=10`) and attach the full output. Cause: converting <bound method BatchNormalization.call of <tensorflow.python.layers.normalization.BatchNormalization object at 0x7f527c770e50>>: AssertionError: Bad argument number for Name: 3, expecting 4\n"
     ]
    },
    {
     "name": "stderr",
     "output_type": "stream",
     "text": [
      "W0705 04:27:55.994506 139997008488192 ag_logging.py:145] Entity <bound method BatchNormalization.call of <tensorflow.python.layers.normalization.BatchNormalization object at 0x7f527c770e50>> could not be transformed and will be executed as-is. Please report this to the AutgoGraph team. When filing the bug, set the verbosity to 10 (on Linux, `export AUTOGRAPH_VERBOSITY=10`) and attach the full output. Cause: converting <bound method BatchNormalization.call of <tensorflow.python.layers.normalization.BatchNormalization object at 0x7f527c770e50>>: AssertionError: Bad argument number for Name: 3, expecting 4\n"
     ]
    },
    {
     "name": "stdout",
     "output_type": "stream",
     "text": [
      "WARNING: Entity <bound method BatchNormalization.call of <tensorflow.python.layers.normalization.BatchNormalization object at 0x7f527c770e50>> could not be transformed and will be executed as-is. Please report this to the AutgoGraph team. When filing the bug, set the verbosity to 10 (on Linux, `export AUTOGRAPH_VERBOSITY=10`) and attach the full output. Cause: converting <bound method BatchNormalization.call of <tensorflow.python.layers.normalization.BatchNormalization object at 0x7f527c770e50>>: AssertionError: Bad argument number for Name: 3, expecting 4\n",
      "WARNING:tensorflow:Entity <bound method Conv.call of <tensorflow.python.layers.convolutional.Conv2D object at 0x7f527c770410>> could not be transformed and will be executed as-is. Please report this to the AutgoGraph team. When filing the bug, set the verbosity to 10 (on Linux, `export AUTOGRAPH_VERBOSITY=10`) and attach the full output. Cause: converting <bound method Conv.call of <tensorflow.python.layers.convolutional.Conv2D object at 0x7f527c770410>>: AssertionError: Bad argument number for Name: 3, expecting 4\n"
     ]
    },
    {
     "name": "stderr",
     "output_type": "stream",
     "text": [
      "W0705 04:27:56.053995 139997008488192 ag_logging.py:145] Entity <bound method Conv.call of <tensorflow.python.layers.convolutional.Conv2D object at 0x7f527c770410>> could not be transformed and will be executed as-is. Please report this to the AutgoGraph team. When filing the bug, set the verbosity to 10 (on Linux, `export AUTOGRAPH_VERBOSITY=10`) and attach the full output. Cause: converting <bound method Conv.call of <tensorflow.python.layers.convolutional.Conv2D object at 0x7f527c770410>>: AssertionError: Bad argument number for Name: 3, expecting 4\n"
     ]
    },
    {
     "name": "stdout",
     "output_type": "stream",
     "text": [
      "WARNING: Entity <bound method Conv.call of <tensorflow.python.layers.convolutional.Conv2D object at 0x7f527c770410>> could not be transformed and will be executed as-is. Please report this to the AutgoGraph team. When filing the bug, set the verbosity to 10 (on Linux, `export AUTOGRAPH_VERBOSITY=10`) and attach the full output. Cause: converting <bound method Conv.call of <tensorflow.python.layers.convolutional.Conv2D object at 0x7f527c770410>>: AssertionError: Bad argument number for Name: 3, expecting 4\n",
      "WARNING:tensorflow:Entity <bound method BatchNormalization.call of <tensorflow.python.layers.normalization.BatchNormalization object at 0x7f527c697f50>> could not be transformed and will be executed as-is. Please report this to the AutgoGraph team. When filing the bug, set the verbosity to 10 (on Linux, `export AUTOGRAPH_VERBOSITY=10`) and attach the full output. Cause: converting <bound method BatchNormalization.call of <tensorflow.python.layers.normalization.BatchNormalization object at 0x7f527c697f50>>: AssertionError: Bad argument number for Name: 3, expecting 4\n"
     ]
    },
    {
     "name": "stderr",
     "output_type": "stream",
     "text": [
      "W0705 04:27:56.076900 139997008488192 ag_logging.py:145] Entity <bound method BatchNormalization.call of <tensorflow.python.layers.normalization.BatchNormalization object at 0x7f527c697f50>> could not be transformed and will be executed as-is. Please report this to the AutgoGraph team. When filing the bug, set the verbosity to 10 (on Linux, `export AUTOGRAPH_VERBOSITY=10`) and attach the full output. Cause: converting <bound method BatchNormalization.call of <tensorflow.python.layers.normalization.BatchNormalization object at 0x7f527c697f50>>: AssertionError: Bad argument number for Name: 3, expecting 4\n"
     ]
    },
    {
     "name": "stdout",
     "output_type": "stream",
     "text": [
      "WARNING: Entity <bound method BatchNormalization.call of <tensorflow.python.layers.normalization.BatchNormalization object at 0x7f527c697f50>> could not be transformed and will be executed as-is. Please report this to the AutgoGraph team. When filing the bug, set the verbosity to 10 (on Linux, `export AUTOGRAPH_VERBOSITY=10`) and attach the full output. Cause: converting <bound method BatchNormalization.call of <tensorflow.python.layers.normalization.BatchNormalization object at 0x7f527c697f50>>: AssertionError: Bad argument number for Name: 3, expecting 4\n",
      "WARNING:tensorflow:Entity <bound method Conv.call of <tensorflow.python.layers.convolutional.Conv2D object at 0x7f52844dcd10>> could not be transformed and will be executed as-is. Please report this to the AutgoGraph team. When filing the bug, set the verbosity to 10 (on Linux, `export AUTOGRAPH_VERBOSITY=10`) and attach the full output. Cause: converting <bound method Conv.call of <tensorflow.python.layers.convolutional.Conv2D object at 0x7f52844dcd10>>: AssertionError: Bad argument number for Name: 3, expecting 4\n"
     ]
    },
    {
     "name": "stderr",
     "output_type": "stream",
     "text": [
      "W0705 04:27:56.136564 139997008488192 ag_logging.py:145] Entity <bound method Conv.call of <tensorflow.python.layers.convolutional.Conv2D object at 0x7f52844dcd10>> could not be transformed and will be executed as-is. Please report this to the AutgoGraph team. When filing the bug, set the verbosity to 10 (on Linux, `export AUTOGRAPH_VERBOSITY=10`) and attach the full output. Cause: converting <bound method Conv.call of <tensorflow.python.layers.convolutional.Conv2D object at 0x7f52844dcd10>>: AssertionError: Bad argument number for Name: 3, expecting 4\n"
     ]
    },
    {
     "name": "stdout",
     "output_type": "stream",
     "text": [
      "WARNING: Entity <bound method Conv.call of <tensorflow.python.layers.convolutional.Conv2D object at 0x7f52844dcd10>> could not be transformed and will be executed as-is. Please report this to the AutgoGraph team. When filing the bug, set the verbosity to 10 (on Linux, `export AUTOGRAPH_VERBOSITY=10`) and attach the full output. Cause: converting <bound method Conv.call of <tensorflow.python.layers.convolutional.Conv2D object at 0x7f52844dcd10>>: AssertionError: Bad argument number for Name: 3, expecting 4\n",
      "WARNING:tensorflow:Entity <bound method BatchNormalization.call of <tensorflow.python.layers.normalization.BatchNormalization object at 0x7f527c542d90>> could not be transformed and will be executed as-is. Please report this to the AutgoGraph team. When filing the bug, set the verbosity to 10 (on Linux, `export AUTOGRAPH_VERBOSITY=10`) and attach the full output. Cause: converting <bound method BatchNormalization.call of <tensorflow.python.layers.normalization.BatchNormalization object at 0x7f527c542d90>>: AssertionError: Bad argument number for Name: 3, expecting 4\n"
     ]
    },
    {
     "name": "stderr",
     "output_type": "stream",
     "text": [
      "W0705 04:27:56.159351 139997008488192 ag_logging.py:145] Entity <bound method BatchNormalization.call of <tensorflow.python.layers.normalization.BatchNormalization object at 0x7f527c542d90>> could not be transformed and will be executed as-is. Please report this to the AutgoGraph team. When filing the bug, set the verbosity to 10 (on Linux, `export AUTOGRAPH_VERBOSITY=10`) and attach the full output. Cause: converting <bound method BatchNormalization.call of <tensorflow.python.layers.normalization.BatchNormalization object at 0x7f527c542d90>>: AssertionError: Bad argument number for Name: 3, expecting 4\n"
     ]
    },
    {
     "name": "stdout",
     "output_type": "stream",
     "text": [
      "WARNING: Entity <bound method BatchNormalization.call of <tensorflow.python.layers.normalization.BatchNormalization object at 0x7f527c542d90>> could not be transformed and will be executed as-is. Please report this to the AutgoGraph team. When filing the bug, set the verbosity to 10 (on Linux, `export AUTOGRAPH_VERBOSITY=10`) and attach the full output. Cause: converting <bound method BatchNormalization.call of <tensorflow.python.layers.normalization.BatchNormalization object at 0x7f527c542d90>>: AssertionError: Bad argument number for Name: 3, expecting 4\n",
      "WARNING:tensorflow:Entity <bound method Conv.call of <tensorflow.python.layers.convolutional.Conv2D object at 0x7f52844dcd10>> could not be transformed and will be executed as-is. Please report this to the AutgoGraph team. When filing the bug, set the verbosity to 10 (on Linux, `export AUTOGRAPH_VERBOSITY=10`) and attach the full output. Cause: converting <bound method Conv.call of <tensorflow.python.layers.convolutional.Conv2D object at 0x7f52844dcd10>>: AssertionError: Bad argument number for Name: 3, expecting 4\n"
     ]
    },
    {
     "name": "stderr",
     "output_type": "stream",
     "text": [
      "W0705 04:27:56.218888 139997008488192 ag_logging.py:145] Entity <bound method Conv.call of <tensorflow.python.layers.convolutional.Conv2D object at 0x7f52844dcd10>> could not be transformed and will be executed as-is. Please report this to the AutgoGraph team. When filing the bug, set the verbosity to 10 (on Linux, `export AUTOGRAPH_VERBOSITY=10`) and attach the full output. Cause: converting <bound method Conv.call of <tensorflow.python.layers.convolutional.Conv2D object at 0x7f52844dcd10>>: AssertionError: Bad argument number for Name: 3, expecting 4\n"
     ]
    },
    {
     "name": "stdout",
     "output_type": "stream",
     "text": [
      "WARNING: Entity <bound method Conv.call of <tensorflow.python.layers.convolutional.Conv2D object at 0x7f52844dcd10>> could not be transformed and will be executed as-is. Please report this to the AutgoGraph team. When filing the bug, set the verbosity to 10 (on Linux, `export AUTOGRAPH_VERBOSITY=10`) and attach the full output. Cause: converting <bound method Conv.call of <tensorflow.python.layers.convolutional.Conv2D object at 0x7f52844dcd10>>: AssertionError: Bad argument number for Name: 3, expecting 4\n",
      "WARNING:tensorflow:Entity <bound method BatchNormalization.call of <tensorflow.python.layers.normalization.BatchNormalization object at 0x7f527c5ffdd0>> could not be transformed and will be executed as-is. Please report this to the AutgoGraph team. When filing the bug, set the verbosity to 10 (on Linux, `export AUTOGRAPH_VERBOSITY=10`) and attach the full output. Cause: converting <bound method BatchNormalization.call of <tensorflow.python.layers.normalization.BatchNormalization object at 0x7f527c5ffdd0>>: AssertionError: Bad argument number for Name: 3, expecting 4\n"
     ]
    },
    {
     "name": "stderr",
     "output_type": "stream",
     "text": [
      "W0705 04:27:56.241383 139997008488192 ag_logging.py:145] Entity <bound method BatchNormalization.call of <tensorflow.python.layers.normalization.BatchNormalization object at 0x7f527c5ffdd0>> could not be transformed and will be executed as-is. Please report this to the AutgoGraph team. When filing the bug, set the verbosity to 10 (on Linux, `export AUTOGRAPH_VERBOSITY=10`) and attach the full output. Cause: converting <bound method BatchNormalization.call of <tensorflow.python.layers.normalization.BatchNormalization object at 0x7f527c5ffdd0>>: AssertionError: Bad argument number for Name: 3, expecting 4\n"
     ]
    },
    {
     "name": "stdout",
     "output_type": "stream",
     "text": [
      "WARNING: Entity <bound method BatchNormalization.call of <tensorflow.python.layers.normalization.BatchNormalization object at 0x7f527c5ffdd0>> could not be transformed and will be executed as-is. Please report this to the AutgoGraph team. When filing the bug, set the verbosity to 10 (on Linux, `export AUTOGRAPH_VERBOSITY=10`) and attach the full output. Cause: converting <bound method BatchNormalization.call of <tensorflow.python.layers.normalization.BatchNormalization object at 0x7f527c5ffdd0>>: AssertionError: Bad argument number for Name: 3, expecting 4\n",
      "WARNING:tensorflow:Entity <bound method Conv.call of <tensorflow.python.layers.convolutional.Conv2D object at 0x7f528408c090>> could not be transformed and will be executed as-is. Please report this to the AutgoGraph team. When filing the bug, set the verbosity to 10 (on Linux, `export AUTOGRAPH_VERBOSITY=10`) and attach the full output. Cause: converting <bound method Conv.call of <tensorflow.python.layers.convolutional.Conv2D object at 0x7f528408c090>>: AssertionError: Bad argument number for Name: 3, expecting 4\n"
     ]
    },
    {
     "name": "stderr",
     "output_type": "stream",
     "text": [
      "W0705 04:27:56.300799 139997008488192 ag_logging.py:145] Entity <bound method Conv.call of <tensorflow.python.layers.convolutional.Conv2D object at 0x7f528408c090>> could not be transformed and will be executed as-is. Please report this to the AutgoGraph team. When filing the bug, set the verbosity to 10 (on Linux, `export AUTOGRAPH_VERBOSITY=10`) and attach the full output. Cause: converting <bound method Conv.call of <tensorflow.python.layers.convolutional.Conv2D object at 0x7f528408c090>>: AssertionError: Bad argument number for Name: 3, expecting 4\n"
     ]
    },
    {
     "name": "stdout",
     "output_type": "stream",
     "text": [
      "WARNING: Entity <bound method Conv.call of <tensorflow.python.layers.convolutional.Conv2D object at 0x7f528408c090>> could not be transformed and will be executed as-is. Please report this to the AutgoGraph team. When filing the bug, set the verbosity to 10 (on Linux, `export AUTOGRAPH_VERBOSITY=10`) and attach the full output. Cause: converting <bound method Conv.call of <tensorflow.python.layers.convolutional.Conv2D object at 0x7f528408c090>>: AssertionError: Bad argument number for Name: 3, expecting 4\n",
      "WARNING:tensorflow:Entity <bound method BatchNormalization.call of <tensorflow.python.layers.normalization.BatchNormalization object at 0x7f527c552790>> could not be transformed and will be executed as-is. Please report this to the AutgoGraph team. When filing the bug, set the verbosity to 10 (on Linux, `export AUTOGRAPH_VERBOSITY=10`) and attach the full output. Cause: converting <bound method BatchNormalization.call of <tensorflow.python.layers.normalization.BatchNormalization object at 0x7f527c552790>>: AssertionError: Bad argument number for Name: 3, expecting 4\n"
     ]
    },
    {
     "name": "stderr",
     "output_type": "stream",
     "text": [
      "W0705 04:27:56.323801 139997008488192 ag_logging.py:145] Entity <bound method BatchNormalization.call of <tensorflow.python.layers.normalization.BatchNormalization object at 0x7f527c552790>> could not be transformed and will be executed as-is. Please report this to the AutgoGraph team. When filing the bug, set the verbosity to 10 (on Linux, `export AUTOGRAPH_VERBOSITY=10`) and attach the full output. Cause: converting <bound method BatchNormalization.call of <tensorflow.python.layers.normalization.BatchNormalization object at 0x7f527c552790>>: AssertionError: Bad argument number for Name: 3, expecting 4\n"
     ]
    },
    {
     "name": "stdout",
     "output_type": "stream",
     "text": [
      "WARNING: Entity <bound method BatchNormalization.call of <tensorflow.python.layers.normalization.BatchNormalization object at 0x7f527c552790>> could not be transformed and will be executed as-is. Please report this to the AutgoGraph team. When filing the bug, set the verbosity to 10 (on Linux, `export AUTOGRAPH_VERBOSITY=10`) and attach the full output. Cause: converting <bound method BatchNormalization.call of <tensorflow.python.layers.normalization.BatchNormalization object at 0x7f527c552790>>: AssertionError: Bad argument number for Name: 3, expecting 4\n",
      "WARNING:tensorflow:Entity <bound method Conv.call of <tensorflow.python.layers.convolutional.Conv2D object at 0x7f52cfbc2b90>> could not be transformed and will be executed as-is. Please report this to the AutgoGraph team. When filing the bug, set the verbosity to 10 (on Linux, `export AUTOGRAPH_VERBOSITY=10`) and attach the full output. Cause: converting <bound method Conv.call of <tensorflow.python.layers.convolutional.Conv2D object at 0x7f52cfbc2b90>>: AssertionError: Bad argument number for Name: 3, expecting 4\n"
     ]
    },
    {
     "name": "stderr",
     "output_type": "stream",
     "text": [
      "W0705 04:27:56.473115 139997008488192 ag_logging.py:145] Entity <bound method Conv.call of <tensorflow.python.layers.convolutional.Conv2D object at 0x7f52cfbc2b90>> could not be transformed and will be executed as-is. Please report this to the AutgoGraph team. When filing the bug, set the verbosity to 10 (on Linux, `export AUTOGRAPH_VERBOSITY=10`) and attach the full output. Cause: converting <bound method Conv.call of <tensorflow.python.layers.convolutional.Conv2D object at 0x7f52cfbc2b90>>: AssertionError: Bad argument number for Name: 3, expecting 4\n"
     ]
    },
    {
     "name": "stdout",
     "output_type": "stream",
     "text": [
      "WARNING: Entity <bound method Conv.call of <tensorflow.python.layers.convolutional.Conv2D object at 0x7f52cfbc2b90>> could not be transformed and will be executed as-is. Please report this to the AutgoGraph team. When filing the bug, set the verbosity to 10 (on Linux, `export AUTOGRAPH_VERBOSITY=10`) and attach the full output. Cause: converting <bound method Conv.call of <tensorflow.python.layers.convolutional.Conv2D object at 0x7f52cfbc2b90>>: AssertionError: Bad argument number for Name: 3, expecting 4\n",
      "WARNING:tensorflow:Entity <bound method BatchNormalization.call of <tensorflow.python.layers.normalization.BatchNormalization object at 0x7f527c465fd0>> could not be transformed and will be executed as-is. Please report this to the AutgoGraph team. When filing the bug, set the verbosity to 10 (on Linux, `export AUTOGRAPH_VERBOSITY=10`) and attach the full output. Cause: converting <bound method BatchNormalization.call of <tensorflow.python.layers.normalization.BatchNormalization object at 0x7f527c465fd0>>: AssertionError: Bad argument number for Name: 3, expecting 4\n"
     ]
    },
    {
     "name": "stderr",
     "output_type": "stream",
     "text": [
      "W0705 04:27:56.495719 139997008488192 ag_logging.py:145] Entity <bound method BatchNormalization.call of <tensorflow.python.layers.normalization.BatchNormalization object at 0x7f527c465fd0>> could not be transformed and will be executed as-is. Please report this to the AutgoGraph team. When filing the bug, set the verbosity to 10 (on Linux, `export AUTOGRAPH_VERBOSITY=10`) and attach the full output. Cause: converting <bound method BatchNormalization.call of <tensorflow.python.layers.normalization.BatchNormalization object at 0x7f527c465fd0>>: AssertionError: Bad argument number for Name: 3, expecting 4\n"
     ]
    },
    {
     "name": "stdout",
     "output_type": "stream",
     "text": [
      "WARNING: Entity <bound method BatchNormalization.call of <tensorflow.python.layers.normalization.BatchNormalization object at 0x7f527c465fd0>> could not be transformed and will be executed as-is. Please report this to the AutgoGraph team. When filing the bug, set the verbosity to 10 (on Linux, `export AUTOGRAPH_VERBOSITY=10`) and attach the full output. Cause: converting <bound method BatchNormalization.call of <tensorflow.python.layers.normalization.BatchNormalization object at 0x7f527c465fd0>>: AssertionError: Bad argument number for Name: 3, expecting 4\n",
      "WARNING:tensorflow:Entity <bound method Conv.call of <tensorflow.python.layers.convolutional.Conv2D object at 0x7f527c5ff610>> could not be transformed and will be executed as-is. Please report this to the AutgoGraph team. When filing the bug, set the verbosity to 10 (on Linux, `export AUTOGRAPH_VERBOSITY=10`) and attach the full output. Cause: converting <bound method Conv.call of <tensorflow.python.layers.convolutional.Conv2D object at 0x7f527c5ff610>>: AssertionError: Bad argument number for Name: 3, expecting 4\n"
     ]
    },
    {
     "name": "stderr",
     "output_type": "stream",
     "text": [
      "W0705 04:27:56.554579 139997008488192 ag_logging.py:145] Entity <bound method Conv.call of <tensorflow.python.layers.convolutional.Conv2D object at 0x7f527c5ff610>> could not be transformed and will be executed as-is. Please report this to the AutgoGraph team. When filing the bug, set the verbosity to 10 (on Linux, `export AUTOGRAPH_VERBOSITY=10`) and attach the full output. Cause: converting <bound method Conv.call of <tensorflow.python.layers.convolutional.Conv2D object at 0x7f527c5ff610>>: AssertionError: Bad argument number for Name: 3, expecting 4\n"
     ]
    },
    {
     "name": "stdout",
     "output_type": "stream",
     "text": [
      "WARNING: Entity <bound method Conv.call of <tensorflow.python.layers.convolutional.Conv2D object at 0x7f527c5ff610>> could not be transformed and will be executed as-is. Please report this to the AutgoGraph team. When filing the bug, set the verbosity to 10 (on Linux, `export AUTOGRAPH_VERBOSITY=10`) and attach the full output. Cause: converting <bound method Conv.call of <tensorflow.python.layers.convolutional.Conv2D object at 0x7f527c5ff610>>: AssertionError: Bad argument number for Name: 3, expecting 4\n",
      "WARNING:tensorflow:Entity <bound method BatchNormalization.call of <tensorflow.python.layers.normalization.BatchNormalization object at 0x7f52c40d02d0>> could not be transformed and will be executed as-is. Please report this to the AutgoGraph team. When filing the bug, set the verbosity to 10 (on Linux, `export AUTOGRAPH_VERBOSITY=10`) and attach the full output. Cause: converting <bound method BatchNormalization.call of <tensorflow.python.layers.normalization.BatchNormalization object at 0x7f52c40d02d0>>: AssertionError: Bad argument number for Name: 3, expecting 4\n"
     ]
    },
    {
     "name": "stderr",
     "output_type": "stream",
     "text": [
      "W0705 04:27:56.577153 139997008488192 ag_logging.py:145] Entity <bound method BatchNormalization.call of <tensorflow.python.layers.normalization.BatchNormalization object at 0x7f52c40d02d0>> could not be transformed and will be executed as-is. Please report this to the AutgoGraph team. When filing the bug, set the verbosity to 10 (on Linux, `export AUTOGRAPH_VERBOSITY=10`) and attach the full output. Cause: converting <bound method BatchNormalization.call of <tensorflow.python.layers.normalization.BatchNormalization object at 0x7f52c40d02d0>>: AssertionError: Bad argument number for Name: 3, expecting 4\n"
     ]
    },
    {
     "name": "stdout",
     "output_type": "stream",
     "text": [
      "WARNING: Entity <bound method BatchNormalization.call of <tensorflow.python.layers.normalization.BatchNormalization object at 0x7f52c40d02d0>> could not be transformed and will be executed as-is. Please report this to the AutgoGraph team. When filing the bug, set the verbosity to 10 (on Linux, `export AUTOGRAPH_VERBOSITY=10`) and attach the full output. Cause: converting <bound method BatchNormalization.call of <tensorflow.python.layers.normalization.BatchNormalization object at 0x7f52c40d02d0>>: AssertionError: Bad argument number for Name: 3, expecting 4\n",
      "WARNING:tensorflow:Entity <bound method Conv.call of <tensorflow.python.layers.convolutional.Conv2D object at 0x7f52c8052a10>> could not be transformed and will be executed as-is. Please report this to the AutgoGraph team. When filing the bug, set the verbosity to 10 (on Linux, `export AUTOGRAPH_VERBOSITY=10`) and attach the full output. Cause: converting <bound method Conv.call of <tensorflow.python.layers.convolutional.Conv2D object at 0x7f52c8052a10>>: AssertionError: Bad argument number for Name: 3, expecting 4\n"
     ]
    },
    {
     "name": "stderr",
     "output_type": "stream",
     "text": [
      "W0705 04:27:56.635835 139997008488192 ag_logging.py:145] Entity <bound method Conv.call of <tensorflow.python.layers.convolutional.Conv2D object at 0x7f52c8052a10>> could not be transformed and will be executed as-is. Please report this to the AutgoGraph team. When filing the bug, set the verbosity to 10 (on Linux, `export AUTOGRAPH_VERBOSITY=10`) and attach the full output. Cause: converting <bound method Conv.call of <tensorflow.python.layers.convolutional.Conv2D object at 0x7f52c8052a10>>: AssertionError: Bad argument number for Name: 3, expecting 4\n"
     ]
    },
    {
     "name": "stdout",
     "output_type": "stream",
     "text": [
      "WARNING: Entity <bound method Conv.call of <tensorflow.python.layers.convolutional.Conv2D object at 0x7f52c8052a10>> could not be transformed and will be executed as-is. Please report this to the AutgoGraph team. When filing the bug, set the verbosity to 10 (on Linux, `export AUTOGRAPH_VERBOSITY=10`) and attach the full output. Cause: converting <bound method Conv.call of <tensorflow.python.layers.convolutional.Conv2D object at 0x7f52c8052a10>>: AssertionError: Bad argument number for Name: 3, expecting 4\n",
      "WARNING:tensorflow:Entity <bound method BatchNormalization.call of <tensorflow.python.layers.normalization.BatchNormalization object at 0x7f527c3e0050>> could not be transformed and will be executed as-is. Please report this to the AutgoGraph team. When filing the bug, set the verbosity to 10 (on Linux, `export AUTOGRAPH_VERBOSITY=10`) and attach the full output. Cause: converting <bound method BatchNormalization.call of <tensorflow.python.layers.normalization.BatchNormalization object at 0x7f527c3e0050>>: AssertionError: Bad argument number for Name: 3, expecting 4\n"
     ]
    },
    {
     "name": "stderr",
     "output_type": "stream",
     "text": [
      "W0705 04:27:56.658273 139997008488192 ag_logging.py:145] Entity <bound method BatchNormalization.call of <tensorflow.python.layers.normalization.BatchNormalization object at 0x7f527c3e0050>> could not be transformed and will be executed as-is. Please report this to the AutgoGraph team. When filing the bug, set the verbosity to 10 (on Linux, `export AUTOGRAPH_VERBOSITY=10`) and attach the full output. Cause: converting <bound method BatchNormalization.call of <tensorflow.python.layers.normalization.BatchNormalization object at 0x7f527c3e0050>>: AssertionError: Bad argument number for Name: 3, expecting 4\n"
     ]
    },
    {
     "name": "stdout",
     "output_type": "stream",
     "text": [
      "WARNING: Entity <bound method BatchNormalization.call of <tensorflow.python.layers.normalization.BatchNormalization object at 0x7f527c3e0050>> could not be transformed and will be executed as-is. Please report this to the AutgoGraph team. When filing the bug, set the verbosity to 10 (on Linux, `export AUTOGRAPH_VERBOSITY=10`) and attach the full output. Cause: converting <bound method BatchNormalization.call of <tensorflow.python.layers.normalization.BatchNormalization object at 0x7f527c3e0050>>: AssertionError: Bad argument number for Name: 3, expecting 4\n",
      "WARNING:tensorflow:Entity <bound method Conv.call of <tensorflow.python.layers.convolutional.Conv2D object at 0x7f5390fc2f90>> could not be transformed and will be executed as-is. Please report this to the AutgoGraph team. When filing the bug, set the verbosity to 10 (on Linux, `export AUTOGRAPH_VERBOSITY=10`) and attach the full output. Cause: converting <bound method Conv.call of <tensorflow.python.layers.convolutional.Conv2D object at 0x7f5390fc2f90>>: AssertionError: Bad argument number for Name: 3, expecting 4\n"
     ]
    },
    {
     "name": "stderr",
     "output_type": "stream",
     "text": [
      "W0705 04:27:56.718190 139997008488192 ag_logging.py:145] Entity <bound method Conv.call of <tensorflow.python.layers.convolutional.Conv2D object at 0x7f5390fc2f90>> could not be transformed and will be executed as-is. Please report this to the AutgoGraph team. When filing the bug, set the verbosity to 10 (on Linux, `export AUTOGRAPH_VERBOSITY=10`) and attach the full output. Cause: converting <bound method Conv.call of <tensorflow.python.layers.convolutional.Conv2D object at 0x7f5390fc2f90>>: AssertionError: Bad argument number for Name: 3, expecting 4\n"
     ]
    },
    {
     "name": "stdout",
     "output_type": "stream",
     "text": [
      "WARNING: Entity <bound method Conv.call of <tensorflow.python.layers.convolutional.Conv2D object at 0x7f5390fc2f90>> could not be transformed and will be executed as-is. Please report this to the AutgoGraph team. When filing the bug, set the verbosity to 10 (on Linux, `export AUTOGRAPH_VERBOSITY=10`) and attach the full output. Cause: converting <bound method Conv.call of <tensorflow.python.layers.convolutional.Conv2D object at 0x7f5390fc2f90>>: AssertionError: Bad argument number for Name: 3, expecting 4\n",
      "WARNING:tensorflow:Entity <bound method BatchNormalization.call of <tensorflow.python.layers.normalization.BatchNormalization object at 0x7f527c470f90>> could not be transformed and will be executed as-is. Please report this to the AutgoGraph team. When filing the bug, set the verbosity to 10 (on Linux, `export AUTOGRAPH_VERBOSITY=10`) and attach the full output. Cause: converting <bound method BatchNormalization.call of <tensorflow.python.layers.normalization.BatchNormalization object at 0x7f527c470f90>>: AssertionError: Bad argument number for Name: 3, expecting 4\n"
     ]
    },
    {
     "name": "stderr",
     "output_type": "stream",
     "text": [
      "W0705 04:27:56.740709 139997008488192 ag_logging.py:145] Entity <bound method BatchNormalization.call of <tensorflow.python.layers.normalization.BatchNormalization object at 0x7f527c470f90>> could not be transformed and will be executed as-is. Please report this to the AutgoGraph team. When filing the bug, set the verbosity to 10 (on Linux, `export AUTOGRAPH_VERBOSITY=10`) and attach the full output. Cause: converting <bound method BatchNormalization.call of <tensorflow.python.layers.normalization.BatchNormalization object at 0x7f527c470f90>>: AssertionError: Bad argument number for Name: 3, expecting 4\n"
     ]
    },
    {
     "name": "stdout",
     "output_type": "stream",
     "text": [
      "WARNING: Entity <bound method BatchNormalization.call of <tensorflow.python.layers.normalization.BatchNormalization object at 0x7f527c470f90>> could not be transformed and will be executed as-is. Please report this to the AutgoGraph team. When filing the bug, set the verbosity to 10 (on Linux, `export AUTOGRAPH_VERBOSITY=10`) and attach the full output. Cause: converting <bound method BatchNormalization.call of <tensorflow.python.layers.normalization.BatchNormalization object at 0x7f527c470f90>>: AssertionError: Bad argument number for Name: 3, expecting 4\n",
      "WARNING:tensorflow:Entity <bound method Conv.call of <tensorflow.python.layers.convolutional.Conv2D object at 0x7f527c521990>> could not be transformed and will be executed as-is. Please report this to the AutgoGraph team. When filing the bug, set the verbosity to 10 (on Linux, `export AUTOGRAPH_VERBOSITY=10`) and attach the full output. Cause: converting <bound method Conv.call of <tensorflow.python.layers.convolutional.Conv2D object at 0x7f527c521990>>: AssertionError: Bad argument number for Name: 3, expecting 4\n"
     ]
    },
    {
     "name": "stderr",
     "output_type": "stream",
     "text": [
      "W0705 04:27:56.800365 139997008488192 ag_logging.py:145] Entity <bound method Conv.call of <tensorflow.python.layers.convolutional.Conv2D object at 0x7f527c521990>> could not be transformed and will be executed as-is. Please report this to the AutgoGraph team. When filing the bug, set the verbosity to 10 (on Linux, `export AUTOGRAPH_VERBOSITY=10`) and attach the full output. Cause: converting <bound method Conv.call of <tensorflow.python.layers.convolutional.Conv2D object at 0x7f527c521990>>: AssertionError: Bad argument number for Name: 3, expecting 4\n"
     ]
    },
    {
     "name": "stdout",
     "output_type": "stream",
     "text": [
      "WARNING: Entity <bound method Conv.call of <tensorflow.python.layers.convolutional.Conv2D object at 0x7f527c521990>> could not be transformed and will be executed as-is. Please report this to the AutgoGraph team. When filing the bug, set the verbosity to 10 (on Linux, `export AUTOGRAPH_VERBOSITY=10`) and attach the full output. Cause: converting <bound method Conv.call of <tensorflow.python.layers.convolutional.Conv2D object at 0x7f527c521990>>: AssertionError: Bad argument number for Name: 3, expecting 4\n",
      "WARNING:tensorflow:Entity <bound method BatchNormalization.call of <tensorflow.python.layers.normalization.BatchNormalization object at 0x7f527c3e0190>> could not be transformed and will be executed as-is. Please report this to the AutgoGraph team. When filing the bug, set the verbosity to 10 (on Linux, `export AUTOGRAPH_VERBOSITY=10`) and attach the full output. Cause: converting <bound method BatchNormalization.call of <tensorflow.python.layers.normalization.BatchNormalization object at 0x7f527c3e0190>>: AssertionError: Bad argument number for Name: 3, expecting 4\n"
     ]
    },
    {
     "name": "stderr",
     "output_type": "stream",
     "text": [
      "W0705 04:27:56.822902 139997008488192 ag_logging.py:145] Entity <bound method BatchNormalization.call of <tensorflow.python.layers.normalization.BatchNormalization object at 0x7f527c3e0190>> could not be transformed and will be executed as-is. Please report this to the AutgoGraph team. When filing the bug, set the verbosity to 10 (on Linux, `export AUTOGRAPH_VERBOSITY=10`) and attach the full output. Cause: converting <bound method BatchNormalization.call of <tensorflow.python.layers.normalization.BatchNormalization object at 0x7f527c3e0190>>: AssertionError: Bad argument number for Name: 3, expecting 4\n"
     ]
    },
    {
     "name": "stdout",
     "output_type": "stream",
     "text": [
      "WARNING: Entity <bound method BatchNormalization.call of <tensorflow.python.layers.normalization.BatchNormalization object at 0x7f527c3e0190>> could not be transformed and will be executed as-is. Please report this to the AutgoGraph team. When filing the bug, set the verbosity to 10 (on Linux, `export AUTOGRAPH_VERBOSITY=10`) and attach the full output. Cause: converting <bound method BatchNormalization.call of <tensorflow.python.layers.normalization.BatchNormalization object at 0x7f527c3e0190>>: AssertionError: Bad argument number for Name: 3, expecting 4\n",
      "WARNING:tensorflow:Entity <bound method Pooling2D.call of <tensorflow.python.layers.pooling.AveragePooling2D object at 0x7f52c40ae590>> could not be transformed and will be executed as-is. Please report this to the AutgoGraph team. When filing the bug, set the verbosity to 10 (on Linux, `export AUTOGRAPH_VERBOSITY=10`) and attach the full output. Cause: converting <bound method Pooling2D.call of <tensorflow.python.layers.pooling.AveragePooling2D object at 0x7f52c40ae590>>: AssertionError: Bad argument number for Name: 3, expecting 4\n"
     ]
    },
    {
     "name": "stderr",
     "output_type": "stream",
     "text": [
      "W0705 04:27:56.862219 139997008488192 ag_logging.py:145] Entity <bound method Pooling2D.call of <tensorflow.python.layers.pooling.AveragePooling2D object at 0x7f52c40ae590>> could not be transformed and will be executed as-is. Please report this to the AutgoGraph team. When filing the bug, set the verbosity to 10 (on Linux, `export AUTOGRAPH_VERBOSITY=10`) and attach the full output. Cause: converting <bound method Pooling2D.call of <tensorflow.python.layers.pooling.AveragePooling2D object at 0x7f52c40ae590>>: AssertionError: Bad argument number for Name: 3, expecting 4\n"
     ]
    },
    {
     "name": "stdout",
     "output_type": "stream",
     "text": [
      "WARNING: Entity <bound method Pooling2D.call of <tensorflow.python.layers.pooling.AveragePooling2D object at 0x7f52c40ae590>> could not be transformed and will be executed as-is. Please report this to the AutgoGraph team. When filing the bug, set the verbosity to 10 (on Linux, `export AUTOGRAPH_VERBOSITY=10`) and attach the full output. Cause: converting <bound method Pooling2D.call of <tensorflow.python.layers.pooling.AveragePooling2D object at 0x7f52c40ae590>>: AssertionError: Bad argument number for Name: 3, expecting 4\n",
      "WARNING:tensorflow:Entity <bound method Conv.call of <tensorflow.python.layers.convolutional.Conv2D object at 0x7f527c3c2fd0>> could not be transformed and will be executed as-is. Please report this to the AutgoGraph team. When filing the bug, set the verbosity to 10 (on Linux, `export AUTOGRAPH_VERBOSITY=10`) and attach the full output. Cause: converting <bound method Conv.call of <tensorflow.python.layers.convolutional.Conv2D object at 0x7f527c3c2fd0>>: AssertionError: Bad argument number for Name: 3, expecting 4\n"
     ]
    },
    {
     "name": "stderr",
     "output_type": "stream",
     "text": [
      "W0705 04:27:56.919441 139997008488192 ag_logging.py:145] Entity <bound method Conv.call of <tensorflow.python.layers.convolutional.Conv2D object at 0x7f527c3c2fd0>> could not be transformed and will be executed as-is. Please report this to the AutgoGraph team. When filing the bug, set the verbosity to 10 (on Linux, `export AUTOGRAPH_VERBOSITY=10`) and attach the full output. Cause: converting <bound method Conv.call of <tensorflow.python.layers.convolutional.Conv2D object at 0x7f527c3c2fd0>>: AssertionError: Bad argument number for Name: 3, expecting 4\n"
     ]
    },
    {
     "name": "stdout",
     "output_type": "stream",
     "text": [
      "WARNING: Entity <bound method Conv.call of <tensorflow.python.layers.convolutional.Conv2D object at 0x7f527c3c2fd0>> could not be transformed and will be executed as-is. Please report this to the AutgoGraph team. When filing the bug, set the verbosity to 10 (on Linux, `export AUTOGRAPH_VERBOSITY=10`) and attach the full output. Cause: converting <bound method Conv.call of <tensorflow.python.layers.convolutional.Conv2D object at 0x7f527c3c2fd0>>: AssertionError: Bad argument number for Name: 3, expecting 4\n",
      "WARNING:tensorflow:Entity <bound method BatchNormalization.call of <tensorflow.python.layers.normalization.BatchNormalization object at 0x7f527c248a10>> could not be transformed and will be executed as-is. Please report this to the AutgoGraph team. When filing the bug, set the verbosity to 10 (on Linux, `export AUTOGRAPH_VERBOSITY=10`) and attach the full output. Cause: converting <bound method BatchNormalization.call of <tensorflow.python.layers.normalization.BatchNormalization object at 0x7f527c248a10>>: AssertionError: Bad argument number for Name: 3, expecting 4\n"
     ]
    },
    {
     "name": "stderr",
     "output_type": "stream",
     "text": [
      "W0705 04:27:56.942299 139997008488192 ag_logging.py:145] Entity <bound method BatchNormalization.call of <tensorflow.python.layers.normalization.BatchNormalization object at 0x7f527c248a10>> could not be transformed and will be executed as-is. Please report this to the AutgoGraph team. When filing the bug, set the verbosity to 10 (on Linux, `export AUTOGRAPH_VERBOSITY=10`) and attach the full output. Cause: converting <bound method BatchNormalization.call of <tensorflow.python.layers.normalization.BatchNormalization object at 0x7f527c248a10>>: AssertionError: Bad argument number for Name: 3, expecting 4\n"
     ]
    },
    {
     "name": "stdout",
     "output_type": "stream",
     "text": [
      "WARNING: Entity <bound method BatchNormalization.call of <tensorflow.python.layers.normalization.BatchNormalization object at 0x7f527c248a10>> could not be transformed and will be executed as-is. Please report this to the AutgoGraph team. When filing the bug, set the verbosity to 10 (on Linux, `export AUTOGRAPH_VERBOSITY=10`) and attach the full output. Cause: converting <bound method BatchNormalization.call of <tensorflow.python.layers.normalization.BatchNormalization object at 0x7f527c248a10>>: AssertionError: Bad argument number for Name: 3, expecting 4\n",
      "WARNING:tensorflow:Entity <bound method Conv.call of <tensorflow.python.layers.convolutional.Conv2D object at 0x7f527c24da10>> could not be transformed and will be executed as-is. Please report this to the AutgoGraph team. When filing the bug, set the verbosity to 10 (on Linux, `export AUTOGRAPH_VERBOSITY=10`) and attach the full output. Cause: converting <bound method Conv.call of <tensorflow.python.layers.convolutional.Conv2D object at 0x7f527c24da10>>: AssertionError: Bad argument number for Name: 3, expecting 4\n"
     ]
    },
    {
     "name": "stderr",
     "output_type": "stream",
     "text": [
      "W0705 04:27:57.002009 139997008488192 ag_logging.py:145] Entity <bound method Conv.call of <tensorflow.python.layers.convolutional.Conv2D object at 0x7f527c24da10>> could not be transformed and will be executed as-is. Please report this to the AutgoGraph team. When filing the bug, set the verbosity to 10 (on Linux, `export AUTOGRAPH_VERBOSITY=10`) and attach the full output. Cause: converting <bound method Conv.call of <tensorflow.python.layers.convolutional.Conv2D object at 0x7f527c24da10>>: AssertionError: Bad argument number for Name: 3, expecting 4\n"
     ]
    },
    {
     "name": "stdout",
     "output_type": "stream",
     "text": [
      "WARNING: Entity <bound method Conv.call of <tensorflow.python.layers.convolutional.Conv2D object at 0x7f527c24da10>> could not be transformed and will be executed as-is. Please report this to the AutgoGraph team. When filing the bug, set the verbosity to 10 (on Linux, `export AUTOGRAPH_VERBOSITY=10`) and attach the full output. Cause: converting <bound method Conv.call of <tensorflow.python.layers.convolutional.Conv2D object at 0x7f527c24da10>>: AssertionError: Bad argument number for Name: 3, expecting 4\n",
      "WARNING:tensorflow:Entity <bound method BatchNormalization.call of <tensorflow.python.layers.normalization.BatchNormalization object at 0x7f527c225950>> could not be transformed and will be executed as-is. Please report this to the AutgoGraph team. When filing the bug, set the verbosity to 10 (on Linux, `export AUTOGRAPH_VERBOSITY=10`) and attach the full output. Cause: converting <bound method BatchNormalization.call of <tensorflow.python.layers.normalization.BatchNormalization object at 0x7f527c225950>>: AssertionError: Bad argument number for Name: 3, expecting 4\n"
     ]
    },
    {
     "name": "stderr",
     "output_type": "stream",
     "text": [
      "W0705 04:27:57.024834 139997008488192 ag_logging.py:145] Entity <bound method BatchNormalization.call of <tensorflow.python.layers.normalization.BatchNormalization object at 0x7f527c225950>> could not be transformed and will be executed as-is. Please report this to the AutgoGraph team. When filing the bug, set the verbosity to 10 (on Linux, `export AUTOGRAPH_VERBOSITY=10`) and attach the full output. Cause: converting <bound method BatchNormalization.call of <tensorflow.python.layers.normalization.BatchNormalization object at 0x7f527c225950>>: AssertionError: Bad argument number for Name: 3, expecting 4\n"
     ]
    },
    {
     "name": "stdout",
     "output_type": "stream",
     "text": [
      "WARNING: Entity <bound method BatchNormalization.call of <tensorflow.python.layers.normalization.BatchNormalization object at 0x7f527c225950>> could not be transformed and will be executed as-is. Please report this to the AutgoGraph team. When filing the bug, set the verbosity to 10 (on Linux, `export AUTOGRAPH_VERBOSITY=10`) and attach the full output. Cause: converting <bound method BatchNormalization.call of <tensorflow.python.layers.normalization.BatchNormalization object at 0x7f527c225950>>: AssertionError: Bad argument number for Name: 3, expecting 4\n",
      "WARNING:tensorflow:Entity <bound method Conv.call of <tensorflow.python.layers.convolutional.Conv2D object at 0x7f52ac77ae10>> could not be transformed and will be executed as-is. Please report this to the AutgoGraph team. When filing the bug, set the verbosity to 10 (on Linux, `export AUTOGRAPH_VERBOSITY=10`) and attach the full output. Cause: converting <bound method Conv.call of <tensorflow.python.layers.convolutional.Conv2D object at 0x7f52ac77ae10>>: AssertionError: Bad argument number for Name: 3, expecting 4\n"
     ]
    },
    {
     "name": "stderr",
     "output_type": "stream",
     "text": [
      "W0705 04:27:57.084113 139997008488192 ag_logging.py:145] Entity <bound method Conv.call of <tensorflow.python.layers.convolutional.Conv2D object at 0x7f52ac77ae10>> could not be transformed and will be executed as-is. Please report this to the AutgoGraph team. When filing the bug, set the verbosity to 10 (on Linux, `export AUTOGRAPH_VERBOSITY=10`) and attach the full output. Cause: converting <bound method Conv.call of <tensorflow.python.layers.convolutional.Conv2D object at 0x7f52ac77ae10>>: AssertionError: Bad argument number for Name: 3, expecting 4\n"
     ]
    },
    {
     "name": "stdout",
     "output_type": "stream",
     "text": [
      "WARNING: Entity <bound method Conv.call of <tensorflow.python.layers.convolutional.Conv2D object at 0x7f52ac77ae10>> could not be transformed and will be executed as-is. Please report this to the AutgoGraph team. When filing the bug, set the verbosity to 10 (on Linux, `export AUTOGRAPH_VERBOSITY=10`) and attach the full output. Cause: converting <bound method Conv.call of <tensorflow.python.layers.convolutional.Conv2D object at 0x7f52ac77ae10>>: AssertionError: Bad argument number for Name: 3, expecting 4\n",
      "WARNING:tensorflow:Entity <bound method BatchNormalization.call of <tensorflow.python.layers.normalization.BatchNormalization object at 0x7f527c230dd0>> could not be transformed and will be executed as-is. Please report this to the AutgoGraph team. When filing the bug, set the verbosity to 10 (on Linux, `export AUTOGRAPH_VERBOSITY=10`) and attach the full output. Cause: converting <bound method BatchNormalization.call of <tensorflow.python.layers.normalization.BatchNormalization object at 0x7f527c230dd0>>: AssertionError: Bad argument number for Name: 3, expecting 4\n"
     ]
    },
    {
     "name": "stderr",
     "output_type": "stream",
     "text": [
      "W0705 04:27:57.106940 139997008488192 ag_logging.py:145] Entity <bound method BatchNormalization.call of <tensorflow.python.layers.normalization.BatchNormalization object at 0x7f527c230dd0>> could not be transformed and will be executed as-is. Please report this to the AutgoGraph team. When filing the bug, set the verbosity to 10 (on Linux, `export AUTOGRAPH_VERBOSITY=10`) and attach the full output. Cause: converting <bound method BatchNormalization.call of <tensorflow.python.layers.normalization.BatchNormalization object at 0x7f527c230dd0>>: AssertionError: Bad argument number for Name: 3, expecting 4\n"
     ]
    },
    {
     "name": "stdout",
     "output_type": "stream",
     "text": [
      "WARNING: Entity <bound method BatchNormalization.call of <tensorflow.python.layers.normalization.BatchNormalization object at 0x7f527c230dd0>> could not be transformed and will be executed as-is. Please report this to the AutgoGraph team. When filing the bug, set the verbosity to 10 (on Linux, `export AUTOGRAPH_VERBOSITY=10`) and attach the full output. Cause: converting <bound method BatchNormalization.call of <tensorflow.python.layers.normalization.BatchNormalization object at 0x7f527c230dd0>>: AssertionError: Bad argument number for Name: 3, expecting 4\n",
      "WARNING:tensorflow:Entity <bound method Conv.call of <tensorflow.python.layers.convolutional.Conv2D object at 0x7f52ac3b9fd0>> could not be transformed and will be executed as-is. Please report this to the AutgoGraph team. When filing the bug, set the verbosity to 10 (on Linux, `export AUTOGRAPH_VERBOSITY=10`) and attach the full output. Cause: converting <bound method Conv.call of <tensorflow.python.layers.convolutional.Conv2D object at 0x7f52ac3b9fd0>>: AssertionError: Bad argument number for Name: 3, expecting 4\n"
     ]
    },
    {
     "name": "stderr",
     "output_type": "stream",
     "text": [
      "W0705 04:27:57.166922 139997008488192 ag_logging.py:145] Entity <bound method Conv.call of <tensorflow.python.layers.convolutional.Conv2D object at 0x7f52ac3b9fd0>> could not be transformed and will be executed as-is. Please report this to the AutgoGraph team. When filing the bug, set the verbosity to 10 (on Linux, `export AUTOGRAPH_VERBOSITY=10`) and attach the full output. Cause: converting <bound method Conv.call of <tensorflow.python.layers.convolutional.Conv2D object at 0x7f52ac3b9fd0>>: AssertionError: Bad argument number for Name: 3, expecting 4\n"
     ]
    },
    {
     "name": "stdout",
     "output_type": "stream",
     "text": [
      "WARNING: Entity <bound method Conv.call of <tensorflow.python.layers.convolutional.Conv2D object at 0x7f52ac3b9fd0>> could not be transformed and will be executed as-is. Please report this to the AutgoGraph team. When filing the bug, set the verbosity to 10 (on Linux, `export AUTOGRAPH_VERBOSITY=10`) and attach the full output. Cause: converting <bound method Conv.call of <tensorflow.python.layers.convolutional.Conv2D object at 0x7f52ac3b9fd0>>: AssertionError: Bad argument number for Name: 3, expecting 4\n",
      "WARNING:tensorflow:Entity <bound method BatchNormalization.call of <tensorflow.python.layers.normalization.BatchNormalization object at 0x7f527c174ed0>> could not be transformed and will be executed as-is. Please report this to the AutgoGraph team. When filing the bug, set the verbosity to 10 (on Linux, `export AUTOGRAPH_VERBOSITY=10`) and attach the full output. Cause: converting <bound method BatchNormalization.call of <tensorflow.python.layers.normalization.BatchNormalization object at 0x7f527c174ed0>>: AssertionError: Bad argument number for Name: 3, expecting 4\n"
     ]
    },
    {
     "name": "stderr",
     "output_type": "stream",
     "text": [
      "W0705 04:27:57.189524 139997008488192 ag_logging.py:145] Entity <bound method BatchNormalization.call of <tensorflow.python.layers.normalization.BatchNormalization object at 0x7f527c174ed0>> could not be transformed and will be executed as-is. Please report this to the AutgoGraph team. When filing the bug, set the verbosity to 10 (on Linux, `export AUTOGRAPH_VERBOSITY=10`) and attach the full output. Cause: converting <bound method BatchNormalization.call of <tensorflow.python.layers.normalization.BatchNormalization object at 0x7f527c174ed0>>: AssertionError: Bad argument number for Name: 3, expecting 4\n"
     ]
    },
    {
     "name": "stdout",
     "output_type": "stream",
     "text": [
      "WARNING: Entity <bound method BatchNormalization.call of <tensorflow.python.layers.normalization.BatchNormalization object at 0x7f527c174ed0>> could not be transformed and will be executed as-is. Please report this to the AutgoGraph team. When filing the bug, set the verbosity to 10 (on Linux, `export AUTOGRAPH_VERBOSITY=10`) and attach the full output. Cause: converting <bound method BatchNormalization.call of <tensorflow.python.layers.normalization.BatchNormalization object at 0x7f527c174ed0>>: AssertionError: Bad argument number for Name: 3, expecting 4\n",
      "WARNING:tensorflow:Entity <bound method Conv.call of <tensorflow.python.layers.convolutional.Conv2D object at 0x7f528405da50>> could not be transformed and will be executed as-is. Please report this to the AutgoGraph team. When filing the bug, set the verbosity to 10 (on Linux, `export AUTOGRAPH_VERBOSITY=10`) and attach the full output. Cause: converting <bound method Conv.call of <tensorflow.python.layers.convolutional.Conv2D object at 0x7f528405da50>>: AssertionError: Bad argument number for Name: 3, expecting 4\n"
     ]
    },
    {
     "name": "stderr",
     "output_type": "stream",
     "text": [
      "W0705 04:27:57.248906 139997008488192 ag_logging.py:145] Entity <bound method Conv.call of <tensorflow.python.layers.convolutional.Conv2D object at 0x7f528405da50>> could not be transformed and will be executed as-is. Please report this to the AutgoGraph team. When filing the bug, set the verbosity to 10 (on Linux, `export AUTOGRAPH_VERBOSITY=10`) and attach the full output. Cause: converting <bound method Conv.call of <tensorflow.python.layers.convolutional.Conv2D object at 0x7f528405da50>>: AssertionError: Bad argument number for Name: 3, expecting 4\n"
     ]
    },
    {
     "name": "stdout",
     "output_type": "stream",
     "text": [
      "WARNING: Entity <bound method Conv.call of <tensorflow.python.layers.convolutional.Conv2D object at 0x7f528405da50>> could not be transformed and will be executed as-is. Please report this to the AutgoGraph team. When filing the bug, set the verbosity to 10 (on Linux, `export AUTOGRAPH_VERBOSITY=10`) and attach the full output. Cause: converting <bound method Conv.call of <tensorflow.python.layers.convolutional.Conv2D object at 0x7f528405da50>>: AssertionError: Bad argument number for Name: 3, expecting 4\n",
      "WARNING:tensorflow:Entity <bound method BatchNormalization.call of <tensorflow.python.layers.normalization.BatchNormalization object at 0x7f52ac0a5410>> could not be transformed and will be executed as-is. Please report this to the AutgoGraph team. When filing the bug, set the verbosity to 10 (on Linux, `export AUTOGRAPH_VERBOSITY=10`) and attach the full output. Cause: converting <bound method BatchNormalization.call of <tensorflow.python.layers.normalization.BatchNormalization object at 0x7f52ac0a5410>>: AssertionError: Bad argument number for Name: 3, expecting 4\n"
     ]
    },
    {
     "name": "stderr",
     "output_type": "stream",
     "text": [
      "W0705 04:27:57.271486 139997008488192 ag_logging.py:145] Entity <bound method BatchNormalization.call of <tensorflow.python.layers.normalization.BatchNormalization object at 0x7f52ac0a5410>> could not be transformed and will be executed as-is. Please report this to the AutgoGraph team. When filing the bug, set the verbosity to 10 (on Linux, `export AUTOGRAPH_VERBOSITY=10`) and attach the full output. Cause: converting <bound method BatchNormalization.call of <tensorflow.python.layers.normalization.BatchNormalization object at 0x7f52ac0a5410>>: AssertionError: Bad argument number for Name: 3, expecting 4\n"
     ]
    },
    {
     "name": "stdout",
     "output_type": "stream",
     "text": [
      "WARNING: Entity <bound method BatchNormalization.call of <tensorflow.python.layers.normalization.BatchNormalization object at 0x7f52ac0a5410>> could not be transformed and will be executed as-is. Please report this to the AutgoGraph team. When filing the bug, set the verbosity to 10 (on Linux, `export AUTOGRAPH_VERBOSITY=10`) and attach the full output. Cause: converting <bound method BatchNormalization.call of <tensorflow.python.layers.normalization.BatchNormalization object at 0x7f52ac0a5410>>: AssertionError: Bad argument number for Name: 3, expecting 4\n",
      "WARNING:tensorflow:Entity <bound method Conv.call of <tensorflow.python.layers.convolutional.Conv2D object at 0x7f527c33b650>> could not be transformed and will be executed as-is. Please report this to the AutgoGraph team. When filing the bug, set the verbosity to 10 (on Linux, `export AUTOGRAPH_VERBOSITY=10`) and attach the full output. Cause: converting <bound method Conv.call of <tensorflow.python.layers.convolutional.Conv2D object at 0x7f527c33b650>>: AssertionError: Bad argument number for Name: 3, expecting 4\n"
     ]
    },
    {
     "name": "stderr",
     "output_type": "stream",
     "text": [
      "W0705 04:27:57.331508 139997008488192 ag_logging.py:145] Entity <bound method Conv.call of <tensorflow.python.layers.convolutional.Conv2D object at 0x7f527c33b650>> could not be transformed and will be executed as-is. Please report this to the AutgoGraph team. When filing the bug, set the verbosity to 10 (on Linux, `export AUTOGRAPH_VERBOSITY=10`) and attach the full output. Cause: converting <bound method Conv.call of <tensorflow.python.layers.convolutional.Conv2D object at 0x7f527c33b650>>: AssertionError: Bad argument number for Name: 3, expecting 4\n"
     ]
    },
    {
     "name": "stdout",
     "output_type": "stream",
     "text": [
      "WARNING: Entity <bound method Conv.call of <tensorflow.python.layers.convolutional.Conv2D object at 0x7f527c33b650>> could not be transformed and will be executed as-is. Please report this to the AutgoGraph team. When filing the bug, set the verbosity to 10 (on Linux, `export AUTOGRAPH_VERBOSITY=10`) and attach the full output. Cause: converting <bound method Conv.call of <tensorflow.python.layers.convolutional.Conv2D object at 0x7f527c33b650>>: AssertionError: Bad argument number for Name: 3, expecting 4\n",
      "WARNING:tensorflow:Entity <bound method BatchNormalization.call of <tensorflow.python.layers.normalization.BatchNormalization object at 0x7f527c25b090>> could not be transformed and will be executed as-is. Please report this to the AutgoGraph team. When filing the bug, set the verbosity to 10 (on Linux, `export AUTOGRAPH_VERBOSITY=10`) and attach the full output. Cause: converting <bound method BatchNormalization.call of <tensorflow.python.layers.normalization.BatchNormalization object at 0x7f527c25b090>>: AssertionError: Bad argument number for Name: 3, expecting 4\n"
     ]
    },
    {
     "name": "stderr",
     "output_type": "stream",
     "text": [
      "W0705 04:27:57.354013 139997008488192 ag_logging.py:145] Entity <bound method BatchNormalization.call of <tensorflow.python.layers.normalization.BatchNormalization object at 0x7f527c25b090>> could not be transformed and will be executed as-is. Please report this to the AutgoGraph team. When filing the bug, set the verbosity to 10 (on Linux, `export AUTOGRAPH_VERBOSITY=10`) and attach the full output. Cause: converting <bound method BatchNormalization.call of <tensorflow.python.layers.normalization.BatchNormalization object at 0x7f527c25b090>>: AssertionError: Bad argument number for Name: 3, expecting 4\n"
     ]
    },
    {
     "name": "stdout",
     "output_type": "stream",
     "text": [
      "WARNING: Entity <bound method BatchNormalization.call of <tensorflow.python.layers.normalization.BatchNormalization object at 0x7f527c25b090>> could not be transformed and will be executed as-is. Please report this to the AutgoGraph team. When filing the bug, set the verbosity to 10 (on Linux, `export AUTOGRAPH_VERBOSITY=10`) and attach the full output. Cause: converting <bound method BatchNormalization.call of <tensorflow.python.layers.normalization.BatchNormalization object at 0x7f527c25b090>>: AssertionError: Bad argument number for Name: 3, expecting 4\n",
      "WARNING:tensorflow:Entity <bound method Conv.call of <tensorflow.python.layers.convolutional.Conv2D object at 0x7f52ac3a41d0>> could not be transformed and will be executed as-is. Please report this to the AutgoGraph team. When filing the bug, set the verbosity to 10 (on Linux, `export AUTOGRAPH_VERBOSITY=10`) and attach the full output. Cause: converting <bound method Conv.call of <tensorflow.python.layers.convolutional.Conv2D object at 0x7f52ac3a41d0>>: AssertionError: Bad argument number for Name: 3, expecting 4\n"
     ]
    },
    {
     "name": "stderr",
     "output_type": "stream",
     "text": [
      "W0705 04:27:57.413283 139997008488192 ag_logging.py:145] Entity <bound method Conv.call of <tensorflow.python.layers.convolutional.Conv2D object at 0x7f52ac3a41d0>> could not be transformed and will be executed as-is. Please report this to the AutgoGraph team. When filing the bug, set the verbosity to 10 (on Linux, `export AUTOGRAPH_VERBOSITY=10`) and attach the full output. Cause: converting <bound method Conv.call of <tensorflow.python.layers.convolutional.Conv2D object at 0x7f52ac3a41d0>>: AssertionError: Bad argument number for Name: 3, expecting 4\n"
     ]
    },
    {
     "name": "stdout",
     "output_type": "stream",
     "text": [
      "WARNING: Entity <bound method Conv.call of <tensorflow.python.layers.convolutional.Conv2D object at 0x7f52ac3a41d0>> could not be transformed and will be executed as-is. Please report this to the AutgoGraph team. When filing the bug, set the verbosity to 10 (on Linux, `export AUTOGRAPH_VERBOSITY=10`) and attach the full output. Cause: converting <bound method Conv.call of <tensorflow.python.layers.convolutional.Conv2D object at 0x7f52ac3a41d0>>: AssertionError: Bad argument number for Name: 3, expecting 4\n",
      "WARNING:tensorflow:Entity <bound method BatchNormalization.call of <tensorflow.python.layers.normalization.BatchNormalization object at 0x7f527c0b3ed0>> could not be transformed and will be executed as-is. Please report this to the AutgoGraph team. When filing the bug, set the verbosity to 10 (on Linux, `export AUTOGRAPH_VERBOSITY=10`) and attach the full output. Cause: converting <bound method BatchNormalization.call of <tensorflow.python.layers.normalization.BatchNormalization object at 0x7f527c0b3ed0>>: AssertionError: Bad argument number for Name: 3, expecting 4\n"
     ]
    },
    {
     "name": "stderr",
     "output_type": "stream",
     "text": [
      "W0705 04:27:57.436238 139997008488192 ag_logging.py:145] Entity <bound method BatchNormalization.call of <tensorflow.python.layers.normalization.BatchNormalization object at 0x7f527c0b3ed0>> could not be transformed and will be executed as-is. Please report this to the AutgoGraph team. When filing the bug, set the verbosity to 10 (on Linux, `export AUTOGRAPH_VERBOSITY=10`) and attach the full output. Cause: converting <bound method BatchNormalization.call of <tensorflow.python.layers.normalization.BatchNormalization object at 0x7f527c0b3ed0>>: AssertionError: Bad argument number for Name: 3, expecting 4\n"
     ]
    },
    {
     "name": "stdout",
     "output_type": "stream",
     "text": [
      "WARNING: Entity <bound method BatchNormalization.call of <tensorflow.python.layers.normalization.BatchNormalization object at 0x7f527c0b3ed0>> could not be transformed and will be executed as-is. Please report this to the AutgoGraph team. When filing the bug, set the verbosity to 10 (on Linux, `export AUTOGRAPH_VERBOSITY=10`) and attach the full output. Cause: converting <bound method BatchNormalization.call of <tensorflow.python.layers.normalization.BatchNormalization object at 0x7f527c0b3ed0>>: AssertionError: Bad argument number for Name: 3, expecting 4\n",
      "WARNING:tensorflow:Entity <bound method Conv.call of <tensorflow.python.layers.convolutional.Conv2D object at 0x7f527c1bae50>> could not be transformed and will be executed as-is. Please report this to the AutgoGraph team. When filing the bug, set the verbosity to 10 (on Linux, `export AUTOGRAPH_VERBOSITY=10`) and attach the full output. Cause: converting <bound method Conv.call of <tensorflow.python.layers.convolutional.Conv2D object at 0x7f527c1bae50>>: AssertionError: Bad argument number for Name: 3, expecting 4\n"
     ]
    },
    {
     "name": "stderr",
     "output_type": "stream",
     "text": [
      "W0705 04:27:57.495942 139997008488192 ag_logging.py:145] Entity <bound method Conv.call of <tensorflow.python.layers.convolutional.Conv2D object at 0x7f527c1bae50>> could not be transformed and will be executed as-is. Please report this to the AutgoGraph team. When filing the bug, set the verbosity to 10 (on Linux, `export AUTOGRAPH_VERBOSITY=10`) and attach the full output. Cause: converting <bound method Conv.call of <tensorflow.python.layers.convolutional.Conv2D object at 0x7f527c1bae50>>: AssertionError: Bad argument number for Name: 3, expecting 4\n"
     ]
    },
    {
     "name": "stdout",
     "output_type": "stream",
     "text": [
      "WARNING: Entity <bound method Conv.call of <tensorflow.python.layers.convolutional.Conv2D object at 0x7f527c1bae50>> could not be transformed and will be executed as-is. Please report this to the AutgoGraph team. When filing the bug, set the verbosity to 10 (on Linux, `export AUTOGRAPH_VERBOSITY=10`) and attach the full output. Cause: converting <bound method Conv.call of <tensorflow.python.layers.convolutional.Conv2D object at 0x7f527c1bae50>>: AssertionError: Bad argument number for Name: 3, expecting 4\n",
      "WARNING:tensorflow:Entity <bound method BatchNormalization.call of <tensorflow.python.layers.normalization.BatchNormalization object at 0x7f528470ec10>> could not be transformed and will be executed as-is. Please report this to the AutgoGraph team. When filing the bug, set the verbosity to 10 (on Linux, `export AUTOGRAPH_VERBOSITY=10`) and attach the full output. Cause: converting <bound method BatchNormalization.call of <tensorflow.python.layers.normalization.BatchNormalization object at 0x7f528470ec10>>: AssertionError: Bad argument number for Name: 3, expecting 4\n"
     ]
    },
    {
     "name": "stderr",
     "output_type": "stream",
     "text": [
      "W0705 04:27:57.518488 139997008488192 ag_logging.py:145] Entity <bound method BatchNormalization.call of <tensorflow.python.layers.normalization.BatchNormalization object at 0x7f528470ec10>> could not be transformed and will be executed as-is. Please report this to the AutgoGraph team. When filing the bug, set the verbosity to 10 (on Linux, `export AUTOGRAPH_VERBOSITY=10`) and attach the full output. Cause: converting <bound method BatchNormalization.call of <tensorflow.python.layers.normalization.BatchNormalization object at 0x7f528470ec10>>: AssertionError: Bad argument number for Name: 3, expecting 4\n"
     ]
    },
    {
     "name": "stdout",
     "output_type": "stream",
     "text": [
      "WARNING: Entity <bound method BatchNormalization.call of <tensorflow.python.layers.normalization.BatchNormalization object at 0x7f528470ec10>> could not be transformed and will be executed as-is. Please report this to the AutgoGraph team. When filing the bug, set the verbosity to 10 (on Linux, `export AUTOGRAPH_VERBOSITY=10`) and attach the full output. Cause: converting <bound method BatchNormalization.call of <tensorflow.python.layers.normalization.BatchNormalization object at 0x7f528470ec10>>: AssertionError: Bad argument number for Name: 3, expecting 4\n",
      "WARNING:tensorflow:Entity <bound method Conv.call of <tensorflow.python.layers.convolutional.Conv2D object at 0x7f527c52b810>> could not be transformed and will be executed as-is. Please report this to the AutgoGraph team. When filing the bug, set the verbosity to 10 (on Linux, `export AUTOGRAPH_VERBOSITY=10`) and attach the full output. Cause: converting <bound method Conv.call of <tensorflow.python.layers.convolutional.Conv2D object at 0x7f527c52b810>>: AssertionError: Bad argument number for Name: 3, expecting 4\n"
     ]
    },
    {
     "name": "stderr",
     "output_type": "stream",
     "text": [
      "W0705 04:27:57.577247 139997008488192 ag_logging.py:145] Entity <bound method Conv.call of <tensorflow.python.layers.convolutional.Conv2D object at 0x7f527c52b810>> could not be transformed and will be executed as-is. Please report this to the AutgoGraph team. When filing the bug, set the verbosity to 10 (on Linux, `export AUTOGRAPH_VERBOSITY=10`) and attach the full output. Cause: converting <bound method Conv.call of <tensorflow.python.layers.convolutional.Conv2D object at 0x7f527c52b810>>: AssertionError: Bad argument number for Name: 3, expecting 4\n"
     ]
    },
    {
     "name": "stdout",
     "output_type": "stream",
     "text": [
      "WARNING: Entity <bound method Conv.call of <tensorflow.python.layers.convolutional.Conv2D object at 0x7f527c52b810>> could not be transformed and will be executed as-is. Please report this to the AutgoGraph team. When filing the bug, set the verbosity to 10 (on Linux, `export AUTOGRAPH_VERBOSITY=10`) and attach the full output. Cause: converting <bound method Conv.call of <tensorflow.python.layers.convolutional.Conv2D object at 0x7f527c52b810>>: AssertionError: Bad argument number for Name: 3, expecting 4\n",
      "WARNING:tensorflow:Entity <bound method BatchNormalization.call of <tensorflow.python.layers.normalization.BatchNormalization object at 0x7f527c0d15d0>> could not be transformed and will be executed as-is. Please report this to the AutgoGraph team. When filing the bug, set the verbosity to 10 (on Linux, `export AUTOGRAPH_VERBOSITY=10`) and attach the full output. Cause: converting <bound method BatchNormalization.call of <tensorflow.python.layers.normalization.BatchNormalization object at 0x7f527c0d15d0>>: AssertionError: Bad argument number for Name: 3, expecting 4\n"
     ]
    },
    {
     "name": "stderr",
     "output_type": "stream",
     "text": [
      "W0705 04:27:57.599714 139997008488192 ag_logging.py:145] Entity <bound method BatchNormalization.call of <tensorflow.python.layers.normalization.BatchNormalization object at 0x7f527c0d15d0>> could not be transformed and will be executed as-is. Please report this to the AutgoGraph team. When filing the bug, set the verbosity to 10 (on Linux, `export AUTOGRAPH_VERBOSITY=10`) and attach the full output. Cause: converting <bound method BatchNormalization.call of <tensorflow.python.layers.normalization.BatchNormalization object at 0x7f527c0d15d0>>: AssertionError: Bad argument number for Name: 3, expecting 4\n"
     ]
    },
    {
     "name": "stdout",
     "output_type": "stream",
     "text": [
      "WARNING: Entity <bound method BatchNormalization.call of <tensorflow.python.layers.normalization.BatchNormalization object at 0x7f527c0d15d0>> could not be transformed and will be executed as-is. Please report this to the AutgoGraph team. When filing the bug, set the verbosity to 10 (on Linux, `export AUTOGRAPH_VERBOSITY=10`) and attach the full output. Cause: converting <bound method BatchNormalization.call of <tensorflow.python.layers.normalization.BatchNormalization object at 0x7f527c0d15d0>>: AssertionError: Bad argument number for Name: 3, expecting 4\n",
      "WARNING:tensorflow:Entity <bound method Conv.call of <tensorflow.python.layers.convolutional.Conv2D object at 0x7f527c15f490>> could not be transformed and will be executed as-is. Please report this to the AutgoGraph team. When filing the bug, set the verbosity to 10 (on Linux, `export AUTOGRAPH_VERBOSITY=10`) and attach the full output. Cause: converting <bound method Conv.call of <tensorflow.python.layers.convolutional.Conv2D object at 0x7f527c15f490>>: AssertionError: Bad argument number for Name: 3, expecting 4\n"
     ]
    },
    {
     "name": "stderr",
     "output_type": "stream",
     "text": [
      "W0705 04:27:57.659417 139997008488192 ag_logging.py:145] Entity <bound method Conv.call of <tensorflow.python.layers.convolutional.Conv2D object at 0x7f527c15f490>> could not be transformed and will be executed as-is. Please report this to the AutgoGraph team. When filing the bug, set the verbosity to 10 (on Linux, `export AUTOGRAPH_VERBOSITY=10`) and attach the full output. Cause: converting <bound method Conv.call of <tensorflow.python.layers.convolutional.Conv2D object at 0x7f527c15f490>>: AssertionError: Bad argument number for Name: 3, expecting 4\n"
     ]
    },
    {
     "name": "stdout",
     "output_type": "stream",
     "text": [
      "WARNING: Entity <bound method Conv.call of <tensorflow.python.layers.convolutional.Conv2D object at 0x7f527c15f490>> could not be transformed and will be executed as-is. Please report this to the AutgoGraph team. When filing the bug, set the verbosity to 10 (on Linux, `export AUTOGRAPH_VERBOSITY=10`) and attach the full output. Cause: converting <bound method Conv.call of <tensorflow.python.layers.convolutional.Conv2D object at 0x7f527c15f490>>: AssertionError: Bad argument number for Name: 3, expecting 4\n",
      "WARNING:tensorflow:Entity <bound method BatchNormalization.call of <tensorflow.python.layers.normalization.BatchNormalization object at 0x7f524467f150>> could not be transformed and will be executed as-is. Please report this to the AutgoGraph team. When filing the bug, set the verbosity to 10 (on Linux, `export AUTOGRAPH_VERBOSITY=10`) and attach the full output. Cause: converting <bound method BatchNormalization.call of <tensorflow.python.layers.normalization.BatchNormalization object at 0x7f524467f150>>: AssertionError: Bad argument number for Name: 3, expecting 4\n"
     ]
    },
    {
     "name": "stderr",
     "output_type": "stream",
     "text": [
      "W0705 04:27:57.682022 139997008488192 ag_logging.py:145] Entity <bound method BatchNormalization.call of <tensorflow.python.layers.normalization.BatchNormalization object at 0x7f524467f150>> could not be transformed and will be executed as-is. Please report this to the AutgoGraph team. When filing the bug, set the verbosity to 10 (on Linux, `export AUTOGRAPH_VERBOSITY=10`) and attach the full output. Cause: converting <bound method BatchNormalization.call of <tensorflow.python.layers.normalization.BatchNormalization object at 0x7f524467f150>>: AssertionError: Bad argument number for Name: 3, expecting 4\n"
     ]
    },
    {
     "name": "stdout",
     "output_type": "stream",
     "text": [
      "WARNING: Entity <bound method BatchNormalization.call of <tensorflow.python.layers.normalization.BatchNormalization object at 0x7f524467f150>> could not be transformed and will be executed as-is. Please report this to the AutgoGraph team. When filing the bug, set the verbosity to 10 (on Linux, `export AUTOGRAPH_VERBOSITY=10`) and attach the full output. Cause: converting <bound method BatchNormalization.call of <tensorflow.python.layers.normalization.BatchNormalization object at 0x7f524467f150>>: AssertionError: Bad argument number for Name: 3, expecting 4\n",
      "WARNING:tensorflow:Entity <bound method Pooling2D.call of <tensorflow.python.layers.pooling.AveragePooling2D object at 0x7f527c3a9d50>> could not be transformed and will be executed as-is. Please report this to the AutgoGraph team. When filing the bug, set the verbosity to 10 (on Linux, `export AUTOGRAPH_VERBOSITY=10`) and attach the full output. Cause: converting <bound method Pooling2D.call of <tensorflow.python.layers.pooling.AveragePooling2D object at 0x7f527c3a9d50>>: AssertionError: Bad argument number for Name: 3, expecting 4\n"
     ]
    },
    {
     "name": "stderr",
     "output_type": "stream",
     "text": [
      "W0705 04:27:57.721533 139997008488192 ag_logging.py:145] Entity <bound method Pooling2D.call of <tensorflow.python.layers.pooling.AveragePooling2D object at 0x7f527c3a9d50>> could not be transformed and will be executed as-is. Please report this to the AutgoGraph team. When filing the bug, set the verbosity to 10 (on Linux, `export AUTOGRAPH_VERBOSITY=10`) and attach the full output. Cause: converting <bound method Pooling2D.call of <tensorflow.python.layers.pooling.AveragePooling2D object at 0x7f527c3a9d50>>: AssertionError: Bad argument number for Name: 3, expecting 4\n"
     ]
    },
    {
     "name": "stdout",
     "output_type": "stream",
     "text": [
      "WARNING: Entity <bound method Pooling2D.call of <tensorflow.python.layers.pooling.AveragePooling2D object at 0x7f527c3a9d50>> could not be transformed and will be executed as-is. Please report this to the AutgoGraph team. When filing the bug, set the verbosity to 10 (on Linux, `export AUTOGRAPH_VERBOSITY=10`) and attach the full output. Cause: converting <bound method Pooling2D.call of <tensorflow.python.layers.pooling.AveragePooling2D object at 0x7f527c3a9d50>>: AssertionError: Bad argument number for Name: 3, expecting 4\n",
      "WARNING:tensorflow:Entity <bound method Conv.call of <tensorflow.python.layers.convolutional.Conv2D object at 0x7f527c27a1d0>> could not be transformed and will be executed as-is. Please report this to the AutgoGraph team. When filing the bug, set the verbosity to 10 (on Linux, `export AUTOGRAPH_VERBOSITY=10`) and attach the full output. Cause: converting <bound method Conv.call of <tensorflow.python.layers.convolutional.Conv2D object at 0x7f527c27a1d0>>: AssertionError: Bad argument number for Name: 3, expecting 4\n"
     ]
    },
    {
     "name": "stderr",
     "output_type": "stream",
     "text": [
      "W0705 04:27:57.778892 139997008488192 ag_logging.py:145] Entity <bound method Conv.call of <tensorflow.python.layers.convolutional.Conv2D object at 0x7f527c27a1d0>> could not be transformed and will be executed as-is. Please report this to the AutgoGraph team. When filing the bug, set the verbosity to 10 (on Linux, `export AUTOGRAPH_VERBOSITY=10`) and attach the full output. Cause: converting <bound method Conv.call of <tensorflow.python.layers.convolutional.Conv2D object at 0x7f527c27a1d0>>: AssertionError: Bad argument number for Name: 3, expecting 4\n"
     ]
    },
    {
     "name": "stdout",
     "output_type": "stream",
     "text": [
      "WARNING: Entity <bound method Conv.call of <tensorflow.python.layers.convolutional.Conv2D object at 0x7f527c27a1d0>> could not be transformed and will be executed as-is. Please report this to the AutgoGraph team. When filing the bug, set the verbosity to 10 (on Linux, `export AUTOGRAPH_VERBOSITY=10`) and attach the full output. Cause: converting <bound method Conv.call of <tensorflow.python.layers.convolutional.Conv2D object at 0x7f527c27a1d0>>: AssertionError: Bad argument number for Name: 3, expecting 4\n",
      "WARNING:tensorflow:Entity <bound method BatchNormalization.call of <tensorflow.python.layers.normalization.BatchNormalization object at 0x7f524471f5d0>> could not be transformed and will be executed as-is. Please report this to the AutgoGraph team. When filing the bug, set the verbosity to 10 (on Linux, `export AUTOGRAPH_VERBOSITY=10`) and attach the full output. Cause: converting <bound method BatchNormalization.call of <tensorflow.python.layers.normalization.BatchNormalization object at 0x7f524471f5d0>>: AssertionError: Bad argument number for Name: 3, expecting 4\n"
     ]
    },
    {
     "name": "stderr",
     "output_type": "stream",
     "text": [
      "W0705 04:27:57.801721 139997008488192 ag_logging.py:145] Entity <bound method BatchNormalization.call of <tensorflow.python.layers.normalization.BatchNormalization object at 0x7f524471f5d0>> could not be transformed and will be executed as-is. Please report this to the AutgoGraph team. When filing the bug, set the verbosity to 10 (on Linux, `export AUTOGRAPH_VERBOSITY=10`) and attach the full output. Cause: converting <bound method BatchNormalization.call of <tensorflow.python.layers.normalization.BatchNormalization object at 0x7f524471f5d0>>: AssertionError: Bad argument number for Name: 3, expecting 4\n"
     ]
    },
    {
     "name": "stdout",
     "output_type": "stream",
     "text": [
      "WARNING: Entity <bound method BatchNormalization.call of <tensorflow.python.layers.normalization.BatchNormalization object at 0x7f524471f5d0>> could not be transformed and will be executed as-is. Please report this to the AutgoGraph team. When filing the bug, set the verbosity to 10 (on Linux, `export AUTOGRAPH_VERBOSITY=10`) and attach the full output. Cause: converting <bound method BatchNormalization.call of <tensorflow.python.layers.normalization.BatchNormalization object at 0x7f524471f5d0>>: AssertionError: Bad argument number for Name: 3, expecting 4\n",
      "WARNING:tensorflow:Entity <bound method Conv.call of <tensorflow.python.layers.convolutional.Conv2D object at 0x7f52846347d0>> could not be transformed and will be executed as-is. Please report this to the AutgoGraph team. When filing the bug, set the verbosity to 10 (on Linux, `export AUTOGRAPH_VERBOSITY=10`) and attach the full output. Cause: converting <bound method Conv.call of <tensorflow.python.layers.convolutional.Conv2D object at 0x7f52846347d0>>: AssertionError: Bad argument number for Name: 3, expecting 4\n"
     ]
    },
    {
     "name": "stderr",
     "output_type": "stream",
     "text": [
      "W0705 04:27:57.861964 139997008488192 ag_logging.py:145] Entity <bound method Conv.call of <tensorflow.python.layers.convolutional.Conv2D object at 0x7f52846347d0>> could not be transformed and will be executed as-is. Please report this to the AutgoGraph team. When filing the bug, set the verbosity to 10 (on Linux, `export AUTOGRAPH_VERBOSITY=10`) and attach the full output. Cause: converting <bound method Conv.call of <tensorflow.python.layers.convolutional.Conv2D object at 0x7f52846347d0>>: AssertionError: Bad argument number for Name: 3, expecting 4\n"
     ]
    },
    {
     "name": "stdout",
     "output_type": "stream",
     "text": [
      "WARNING: Entity <bound method Conv.call of <tensorflow.python.layers.convolutional.Conv2D object at 0x7f52846347d0>> could not be transformed and will be executed as-is. Please report this to the AutgoGraph team. When filing the bug, set the verbosity to 10 (on Linux, `export AUTOGRAPH_VERBOSITY=10`) and attach the full output. Cause: converting <bound method Conv.call of <tensorflow.python.layers.convolutional.Conv2D object at 0x7f52846347d0>>: AssertionError: Bad argument number for Name: 3, expecting 4\n",
      "WARNING:tensorflow:Entity <bound method BatchNormalization.call of <tensorflow.python.layers.normalization.BatchNormalization object at 0x7f52446410d0>> could not be transformed and will be executed as-is. Please report this to the AutgoGraph team. When filing the bug, set the verbosity to 10 (on Linux, `export AUTOGRAPH_VERBOSITY=10`) and attach the full output. Cause: converting <bound method BatchNormalization.call of <tensorflow.python.layers.normalization.BatchNormalization object at 0x7f52446410d0>>: AssertionError: Bad argument number for Name: 3, expecting 4\n"
     ]
    },
    {
     "name": "stderr",
     "output_type": "stream",
     "text": [
      "W0705 04:27:57.884829 139997008488192 ag_logging.py:145] Entity <bound method BatchNormalization.call of <tensorflow.python.layers.normalization.BatchNormalization object at 0x7f52446410d0>> could not be transformed and will be executed as-is. Please report this to the AutgoGraph team. When filing the bug, set the verbosity to 10 (on Linux, `export AUTOGRAPH_VERBOSITY=10`) and attach the full output. Cause: converting <bound method BatchNormalization.call of <tensorflow.python.layers.normalization.BatchNormalization object at 0x7f52446410d0>>: AssertionError: Bad argument number for Name: 3, expecting 4\n"
     ]
    },
    {
     "name": "stdout",
     "output_type": "stream",
     "text": [
      "WARNING: Entity <bound method BatchNormalization.call of <tensorflow.python.layers.normalization.BatchNormalization object at 0x7f52446410d0>> could not be transformed and will be executed as-is. Please report this to the AutgoGraph team. When filing the bug, set the verbosity to 10 (on Linux, `export AUTOGRAPH_VERBOSITY=10`) and attach the full output. Cause: converting <bound method BatchNormalization.call of <tensorflow.python.layers.normalization.BatchNormalization object at 0x7f52446410d0>>: AssertionError: Bad argument number for Name: 3, expecting 4\n",
      "WARNING:tensorflow:Entity <bound method Conv.call of <tensorflow.python.layers.convolutional.Conv2D object at 0x7f52ac0b0750>> could not be transformed and will be executed as-is. Please report this to the AutgoGraph team. When filing the bug, set the verbosity to 10 (on Linux, `export AUTOGRAPH_VERBOSITY=10`) and attach the full output. Cause: converting <bound method Conv.call of <tensorflow.python.layers.convolutional.Conv2D object at 0x7f52ac0b0750>>: AssertionError: Bad argument number for Name: 3, expecting 4\n"
     ]
    },
    {
     "name": "stderr",
     "output_type": "stream",
     "text": [
      "W0705 04:27:57.943941 139997008488192 ag_logging.py:145] Entity <bound method Conv.call of <tensorflow.python.layers.convolutional.Conv2D object at 0x7f52ac0b0750>> could not be transformed and will be executed as-is. Please report this to the AutgoGraph team. When filing the bug, set the verbosity to 10 (on Linux, `export AUTOGRAPH_VERBOSITY=10`) and attach the full output. Cause: converting <bound method Conv.call of <tensorflow.python.layers.convolutional.Conv2D object at 0x7f52ac0b0750>>: AssertionError: Bad argument number for Name: 3, expecting 4\n"
     ]
    },
    {
     "name": "stdout",
     "output_type": "stream",
     "text": [
      "WARNING: Entity <bound method Conv.call of <tensorflow.python.layers.convolutional.Conv2D object at 0x7f52ac0b0750>> could not be transformed and will be executed as-is. Please report this to the AutgoGraph team. When filing the bug, set the verbosity to 10 (on Linux, `export AUTOGRAPH_VERBOSITY=10`) and attach the full output. Cause: converting <bound method Conv.call of <tensorflow.python.layers.convolutional.Conv2D object at 0x7f52ac0b0750>>: AssertionError: Bad argument number for Name: 3, expecting 4\n",
      "WARNING:tensorflow:Entity <bound method BatchNormalization.call of <tensorflow.python.layers.normalization.BatchNormalization object at 0x7f5244688d90>> could not be transformed and will be executed as-is. Please report this to the AutgoGraph team. When filing the bug, set the verbosity to 10 (on Linux, `export AUTOGRAPH_VERBOSITY=10`) and attach the full output. Cause: converting <bound method BatchNormalization.call of <tensorflow.python.layers.normalization.BatchNormalization object at 0x7f5244688d90>>: AssertionError: Bad argument number for Name: 3, expecting 4\n"
     ]
    },
    {
     "name": "stderr",
     "output_type": "stream",
     "text": [
      "W0705 04:27:57.966701 139997008488192 ag_logging.py:145] Entity <bound method BatchNormalization.call of <tensorflow.python.layers.normalization.BatchNormalization object at 0x7f5244688d90>> could not be transformed and will be executed as-is. Please report this to the AutgoGraph team. When filing the bug, set the verbosity to 10 (on Linux, `export AUTOGRAPH_VERBOSITY=10`) and attach the full output. Cause: converting <bound method BatchNormalization.call of <tensorflow.python.layers.normalization.BatchNormalization object at 0x7f5244688d90>>: AssertionError: Bad argument number for Name: 3, expecting 4\n"
     ]
    },
    {
     "name": "stdout",
     "output_type": "stream",
     "text": [
      "WARNING: Entity <bound method BatchNormalization.call of <tensorflow.python.layers.normalization.BatchNormalization object at 0x7f5244688d90>> could not be transformed and will be executed as-is. Please report this to the AutgoGraph team. When filing the bug, set the verbosity to 10 (on Linux, `export AUTOGRAPH_VERBOSITY=10`) and attach the full output. Cause: converting <bound method BatchNormalization.call of <tensorflow.python.layers.normalization.BatchNormalization object at 0x7f5244688d90>>: AssertionError: Bad argument number for Name: 3, expecting 4\n",
      "WARNING:tensorflow:Entity <bound method Conv.call of <tensorflow.python.layers.convolutional.Conv2D object at 0x7f52447173d0>> could not be transformed and will be executed as-is. Please report this to the AutgoGraph team. When filing the bug, set the verbosity to 10 (on Linux, `export AUTOGRAPH_VERBOSITY=10`) and attach the full output. Cause: converting <bound method Conv.call of <tensorflow.python.layers.convolutional.Conv2D object at 0x7f52447173d0>>: AssertionError: Bad argument number for Name: 3, expecting 4\n"
     ]
    },
    {
     "name": "stderr",
     "output_type": "stream",
     "text": [
      "W0705 04:27:58.030187 139997008488192 ag_logging.py:145] Entity <bound method Conv.call of <tensorflow.python.layers.convolutional.Conv2D object at 0x7f52447173d0>> could not be transformed and will be executed as-is. Please report this to the AutgoGraph team. When filing the bug, set the verbosity to 10 (on Linux, `export AUTOGRAPH_VERBOSITY=10`) and attach the full output. Cause: converting <bound method Conv.call of <tensorflow.python.layers.convolutional.Conv2D object at 0x7f52447173d0>>: AssertionError: Bad argument number for Name: 3, expecting 4\n"
     ]
    },
    {
     "name": "stdout",
     "output_type": "stream",
     "text": [
      "WARNING: Entity <bound method Conv.call of <tensorflow.python.layers.convolutional.Conv2D object at 0x7f52447173d0>> could not be transformed and will be executed as-is. Please report this to the AutgoGraph team. When filing the bug, set the verbosity to 10 (on Linux, `export AUTOGRAPH_VERBOSITY=10`) and attach the full output. Cause: converting <bound method Conv.call of <tensorflow.python.layers.convolutional.Conv2D object at 0x7f52447173d0>>: AssertionError: Bad argument number for Name: 3, expecting 4\n",
      "WARNING:tensorflow:Entity <bound method BatchNormalization.call of <tensorflow.python.layers.normalization.BatchNormalization object at 0x7f5244623b10>> could not be transformed and will be executed as-is. Please report this to the AutgoGraph team. When filing the bug, set the verbosity to 10 (on Linux, `export AUTOGRAPH_VERBOSITY=10`) and attach the full output. Cause: converting <bound method BatchNormalization.call of <tensorflow.python.layers.normalization.BatchNormalization object at 0x7f5244623b10>>: AssertionError: Bad argument number for Name: 3, expecting 4\n"
     ]
    },
    {
     "name": "stderr",
     "output_type": "stream",
     "text": [
      "W0705 04:27:58.052688 139997008488192 ag_logging.py:145] Entity <bound method BatchNormalization.call of <tensorflow.python.layers.normalization.BatchNormalization object at 0x7f5244623b10>> could not be transformed and will be executed as-is. Please report this to the AutgoGraph team. When filing the bug, set the verbosity to 10 (on Linux, `export AUTOGRAPH_VERBOSITY=10`) and attach the full output. Cause: converting <bound method BatchNormalization.call of <tensorflow.python.layers.normalization.BatchNormalization object at 0x7f5244623b10>>: AssertionError: Bad argument number for Name: 3, expecting 4\n"
     ]
    },
    {
     "name": "stdout",
     "output_type": "stream",
     "text": [
      "WARNING: Entity <bound method BatchNormalization.call of <tensorflow.python.layers.normalization.BatchNormalization object at 0x7f5244623b10>> could not be transformed and will be executed as-is. Please report this to the AutgoGraph team. When filing the bug, set the verbosity to 10 (on Linux, `export AUTOGRAPH_VERBOSITY=10`) and attach the full output. Cause: converting <bound method BatchNormalization.call of <tensorflow.python.layers.normalization.BatchNormalization object at 0x7f5244623b10>>: AssertionError: Bad argument number for Name: 3, expecting 4\n",
      "WARNING:tensorflow:Entity <bound method Conv.call of <tensorflow.python.layers.convolutional.Conv2D object at 0x7f527c3a9890>> could not be transformed and will be executed as-is. Please report this to the AutgoGraph team. When filing the bug, set the verbosity to 10 (on Linux, `export AUTOGRAPH_VERBOSITY=10`) and attach the full output. Cause: converting <bound method Conv.call of <tensorflow.python.layers.convolutional.Conv2D object at 0x7f527c3a9890>>: AssertionError: Bad argument number for Name: 3, expecting 4\n"
     ]
    },
    {
     "name": "stderr",
     "output_type": "stream",
     "text": [
      "W0705 04:27:58.111239 139997008488192 ag_logging.py:145] Entity <bound method Conv.call of <tensorflow.python.layers.convolutional.Conv2D object at 0x7f527c3a9890>> could not be transformed and will be executed as-is. Please report this to the AutgoGraph team. When filing the bug, set the verbosity to 10 (on Linux, `export AUTOGRAPH_VERBOSITY=10`) and attach the full output. Cause: converting <bound method Conv.call of <tensorflow.python.layers.convolutional.Conv2D object at 0x7f527c3a9890>>: AssertionError: Bad argument number for Name: 3, expecting 4\n"
     ]
    },
    {
     "name": "stdout",
     "output_type": "stream",
     "text": [
      "WARNING: Entity <bound method Conv.call of <tensorflow.python.layers.convolutional.Conv2D object at 0x7f527c3a9890>> could not be transformed and will be executed as-is. Please report this to the AutgoGraph team. When filing the bug, set the verbosity to 10 (on Linux, `export AUTOGRAPH_VERBOSITY=10`) and attach the full output. Cause: converting <bound method Conv.call of <tensorflow.python.layers.convolutional.Conv2D object at 0x7f527c3a9890>>: AssertionError: Bad argument number for Name: 3, expecting 4\n",
      "WARNING:tensorflow:Entity <bound method BatchNormalization.call of <tensorflow.python.layers.normalization.BatchNormalization object at 0x7f524450a890>> could not be transformed and will be executed as-is. Please report this to the AutgoGraph team. When filing the bug, set the verbosity to 10 (on Linux, `export AUTOGRAPH_VERBOSITY=10`) and attach the full output. Cause: converting <bound method BatchNormalization.call of <tensorflow.python.layers.normalization.BatchNormalization object at 0x7f524450a890>>: AssertionError: Bad argument number for Name: 3, expecting 4\n"
     ]
    },
    {
     "name": "stderr",
     "output_type": "stream",
     "text": [
      "W0705 04:27:58.133736 139997008488192 ag_logging.py:145] Entity <bound method BatchNormalization.call of <tensorflow.python.layers.normalization.BatchNormalization object at 0x7f524450a890>> could not be transformed and will be executed as-is. Please report this to the AutgoGraph team. When filing the bug, set the verbosity to 10 (on Linux, `export AUTOGRAPH_VERBOSITY=10`) and attach the full output. Cause: converting <bound method BatchNormalization.call of <tensorflow.python.layers.normalization.BatchNormalization object at 0x7f524450a890>>: AssertionError: Bad argument number for Name: 3, expecting 4\n"
     ]
    },
    {
     "name": "stdout",
     "output_type": "stream",
     "text": [
      "WARNING: Entity <bound method BatchNormalization.call of <tensorflow.python.layers.normalization.BatchNormalization object at 0x7f524450a890>> could not be transformed and will be executed as-is. Please report this to the AutgoGraph team. When filing the bug, set the verbosity to 10 (on Linux, `export AUTOGRAPH_VERBOSITY=10`) and attach the full output. Cause: converting <bound method BatchNormalization.call of <tensorflow.python.layers.normalization.BatchNormalization object at 0x7f524450a890>>: AssertionError: Bad argument number for Name: 3, expecting 4\n",
      "WARNING:tensorflow:Entity <bound method Conv.call of <tensorflow.python.layers.convolutional.Conv2D object at 0x7f52445ee610>> could not be transformed and will be executed as-is. Please report this to the AutgoGraph team. When filing the bug, set the verbosity to 10 (on Linux, `export AUTOGRAPH_VERBOSITY=10`) and attach the full output. Cause: converting <bound method Conv.call of <tensorflow.python.layers.convolutional.Conv2D object at 0x7f52445ee610>>: AssertionError: Bad argument number for Name: 3, expecting 4\n"
     ]
    },
    {
     "name": "stderr",
     "output_type": "stream",
     "text": [
      "W0705 04:27:58.192337 139997008488192 ag_logging.py:145] Entity <bound method Conv.call of <tensorflow.python.layers.convolutional.Conv2D object at 0x7f52445ee610>> could not be transformed and will be executed as-is. Please report this to the AutgoGraph team. When filing the bug, set the verbosity to 10 (on Linux, `export AUTOGRAPH_VERBOSITY=10`) and attach the full output. Cause: converting <bound method Conv.call of <tensorflow.python.layers.convolutional.Conv2D object at 0x7f52445ee610>>: AssertionError: Bad argument number for Name: 3, expecting 4\n"
     ]
    },
    {
     "name": "stdout",
     "output_type": "stream",
     "text": [
      "WARNING: Entity <bound method Conv.call of <tensorflow.python.layers.convolutional.Conv2D object at 0x7f52445ee610>> could not be transformed and will be executed as-is. Please report this to the AutgoGraph team. When filing the bug, set the verbosity to 10 (on Linux, `export AUTOGRAPH_VERBOSITY=10`) and attach the full output. Cause: converting <bound method Conv.call of <tensorflow.python.layers.convolutional.Conv2D object at 0x7f52445ee610>>: AssertionError: Bad argument number for Name: 3, expecting 4\n",
      "WARNING:tensorflow:Entity <bound method BatchNormalization.call of <tensorflow.python.layers.normalization.BatchNormalization object at 0x7f52444ecf10>> could not be transformed and will be executed as-is. Please report this to the AutgoGraph team. When filing the bug, set the verbosity to 10 (on Linux, `export AUTOGRAPH_VERBOSITY=10`) and attach the full output. Cause: converting <bound method BatchNormalization.call of <tensorflow.python.layers.normalization.BatchNormalization object at 0x7f52444ecf10>>: AssertionError: Bad argument number for Name: 3, expecting 4\n"
     ]
    },
    {
     "name": "stderr",
     "output_type": "stream",
     "text": [
      "W0705 04:27:58.214806 139997008488192 ag_logging.py:145] Entity <bound method BatchNormalization.call of <tensorflow.python.layers.normalization.BatchNormalization object at 0x7f52444ecf10>> could not be transformed and will be executed as-is. Please report this to the AutgoGraph team. When filing the bug, set the verbosity to 10 (on Linux, `export AUTOGRAPH_VERBOSITY=10`) and attach the full output. Cause: converting <bound method BatchNormalization.call of <tensorflow.python.layers.normalization.BatchNormalization object at 0x7f52444ecf10>>: AssertionError: Bad argument number for Name: 3, expecting 4\n"
     ]
    },
    {
     "name": "stdout",
     "output_type": "stream",
     "text": [
      "WARNING: Entity <bound method BatchNormalization.call of <tensorflow.python.layers.normalization.BatchNormalization object at 0x7f52444ecf10>> could not be transformed and will be executed as-is. Please report this to the AutgoGraph team. When filing the bug, set the verbosity to 10 (on Linux, `export AUTOGRAPH_VERBOSITY=10`) and attach the full output. Cause: converting <bound method BatchNormalization.call of <tensorflow.python.layers.normalization.BatchNormalization object at 0x7f52444ecf10>>: AssertionError: Bad argument number for Name: 3, expecting 4\n",
      "WARNING:tensorflow:Entity <bound method Conv.call of <tensorflow.python.layers.convolutional.Conv2D object at 0x7f5244593850>> could not be transformed and will be executed as-is. Please report this to the AutgoGraph team. When filing the bug, set the verbosity to 10 (on Linux, `export AUTOGRAPH_VERBOSITY=10`) and attach the full output. Cause: converting <bound method Conv.call of <tensorflow.python.layers.convolutional.Conv2D object at 0x7f5244593850>>: AssertionError: Bad argument number for Name: 3, expecting 4\n"
     ]
    },
    {
     "name": "stderr",
     "output_type": "stream",
     "text": [
      "W0705 04:27:58.273270 139997008488192 ag_logging.py:145] Entity <bound method Conv.call of <tensorflow.python.layers.convolutional.Conv2D object at 0x7f5244593850>> could not be transformed and will be executed as-is. Please report this to the AutgoGraph team. When filing the bug, set the verbosity to 10 (on Linux, `export AUTOGRAPH_VERBOSITY=10`) and attach the full output. Cause: converting <bound method Conv.call of <tensorflow.python.layers.convolutional.Conv2D object at 0x7f5244593850>>: AssertionError: Bad argument number for Name: 3, expecting 4\n"
     ]
    },
    {
     "name": "stdout",
     "output_type": "stream",
     "text": [
      "WARNING: Entity <bound method Conv.call of <tensorflow.python.layers.convolutional.Conv2D object at 0x7f5244593850>> could not be transformed and will be executed as-is. Please report this to the AutgoGraph team. When filing the bug, set the verbosity to 10 (on Linux, `export AUTOGRAPH_VERBOSITY=10`) and attach the full output. Cause: converting <bound method Conv.call of <tensorflow.python.layers.convolutional.Conv2D object at 0x7f5244593850>>: AssertionError: Bad argument number for Name: 3, expecting 4\n",
      "WARNING:tensorflow:Entity <bound method BatchNormalization.call of <tensorflow.python.layers.normalization.BatchNormalization object at 0x7f52445b9150>> could not be transformed and will be executed as-is. Please report this to the AutgoGraph team. When filing the bug, set the verbosity to 10 (on Linux, `export AUTOGRAPH_VERBOSITY=10`) and attach the full output. Cause: converting <bound method BatchNormalization.call of <tensorflow.python.layers.normalization.BatchNormalization object at 0x7f52445b9150>>: AssertionError: Bad argument number for Name: 3, expecting 4\n"
     ]
    },
    {
     "name": "stderr",
     "output_type": "stream",
     "text": [
      "W0705 04:27:58.295610 139997008488192 ag_logging.py:145] Entity <bound method BatchNormalization.call of <tensorflow.python.layers.normalization.BatchNormalization object at 0x7f52445b9150>> could not be transformed and will be executed as-is. Please report this to the AutgoGraph team. When filing the bug, set the verbosity to 10 (on Linux, `export AUTOGRAPH_VERBOSITY=10`) and attach the full output. Cause: converting <bound method BatchNormalization.call of <tensorflow.python.layers.normalization.BatchNormalization object at 0x7f52445b9150>>: AssertionError: Bad argument number for Name: 3, expecting 4\n"
     ]
    },
    {
     "name": "stdout",
     "output_type": "stream",
     "text": [
      "WARNING: Entity <bound method BatchNormalization.call of <tensorflow.python.layers.normalization.BatchNormalization object at 0x7f52445b9150>> could not be transformed and will be executed as-is. Please report this to the AutgoGraph team. When filing the bug, set the verbosity to 10 (on Linux, `export AUTOGRAPH_VERBOSITY=10`) and attach the full output. Cause: converting <bound method BatchNormalization.call of <tensorflow.python.layers.normalization.BatchNormalization object at 0x7f52445b9150>>: AssertionError: Bad argument number for Name: 3, expecting 4\n",
      "WARNING:tensorflow:Entity <bound method Pooling2D.call of <tensorflow.python.layers.pooling.MaxPooling2D object at 0x7f5244512cd0>> could not be transformed and will be executed as-is. Please report this to the AutgoGraph team. When filing the bug, set the verbosity to 10 (on Linux, `export AUTOGRAPH_VERBOSITY=10`) and attach the full output. Cause: converting <bound method Pooling2D.call of <tensorflow.python.layers.pooling.MaxPooling2D object at 0x7f5244512cd0>>: AssertionError: Bad argument number for Name: 3, expecting 4\n"
     ]
    },
    {
     "name": "stderr",
     "output_type": "stream",
     "text": [
      "W0705 04:27:58.334825 139997008488192 ag_logging.py:145] Entity <bound method Pooling2D.call of <tensorflow.python.layers.pooling.MaxPooling2D object at 0x7f5244512cd0>> could not be transformed and will be executed as-is. Please report this to the AutgoGraph team. When filing the bug, set the verbosity to 10 (on Linux, `export AUTOGRAPH_VERBOSITY=10`) and attach the full output. Cause: converting <bound method Pooling2D.call of <tensorflow.python.layers.pooling.MaxPooling2D object at 0x7f5244512cd0>>: AssertionError: Bad argument number for Name: 3, expecting 4\n"
     ]
    },
    {
     "name": "stdout",
     "output_type": "stream",
     "text": [
      "WARNING: Entity <bound method Pooling2D.call of <tensorflow.python.layers.pooling.MaxPooling2D object at 0x7f5244512cd0>> could not be transformed and will be executed as-is. Please report this to the AutgoGraph team. When filing the bug, set the verbosity to 10 (on Linux, `export AUTOGRAPH_VERBOSITY=10`) and attach the full output. Cause: converting <bound method Pooling2D.call of <tensorflow.python.layers.pooling.MaxPooling2D object at 0x7f5244512cd0>>: AssertionError: Bad argument number for Name: 3, expecting 4\n",
      "WARNING:tensorflow:Entity <bound method Conv.call of <tensorflow.python.layers.convolutional.Conv2D object at 0x7f52445bf3d0>> could not be transformed and will be executed as-is. Please report this to the AutgoGraph team. When filing the bug, set the verbosity to 10 (on Linux, `export AUTOGRAPH_VERBOSITY=10`) and attach the full output. Cause: converting <bound method Conv.call of <tensorflow.python.layers.convolutional.Conv2D object at 0x7f52445bf3d0>>: AssertionError: Bad argument number for Name: 3, expecting 4\n"
     ]
    },
    {
     "name": "stderr",
     "output_type": "stream",
     "text": [
      "W0705 04:27:58.393292 139997008488192 ag_logging.py:145] Entity <bound method Conv.call of <tensorflow.python.layers.convolutional.Conv2D object at 0x7f52445bf3d0>> could not be transformed and will be executed as-is. Please report this to the AutgoGraph team. When filing the bug, set the verbosity to 10 (on Linux, `export AUTOGRAPH_VERBOSITY=10`) and attach the full output. Cause: converting <bound method Conv.call of <tensorflow.python.layers.convolutional.Conv2D object at 0x7f52445bf3d0>>: AssertionError: Bad argument number for Name: 3, expecting 4\n"
     ]
    },
    {
     "name": "stdout",
     "output_type": "stream",
     "text": [
      "WARNING: Entity <bound method Conv.call of <tensorflow.python.layers.convolutional.Conv2D object at 0x7f52445bf3d0>> could not be transformed and will be executed as-is. Please report this to the AutgoGraph team. When filing the bug, set the verbosity to 10 (on Linux, `export AUTOGRAPH_VERBOSITY=10`) and attach the full output. Cause: converting <bound method Conv.call of <tensorflow.python.layers.convolutional.Conv2D object at 0x7f52445bf3d0>>: AssertionError: Bad argument number for Name: 3, expecting 4\n",
      "WARNING:tensorflow:Entity <bound method BatchNormalization.call of <tensorflow.python.layers.normalization.BatchNormalization object at 0x7f524435cb50>> could not be transformed and will be executed as-is. Please report this to the AutgoGraph team. When filing the bug, set the verbosity to 10 (on Linux, `export AUTOGRAPH_VERBOSITY=10`) and attach the full output. Cause: converting <bound method BatchNormalization.call of <tensorflow.python.layers.normalization.BatchNormalization object at 0x7f524435cb50>>: AssertionError: Bad argument number for Name: 3, expecting 4\n"
     ]
    },
    {
     "name": "stderr",
     "output_type": "stream",
     "text": [
      "W0705 04:27:58.415997 139997008488192 ag_logging.py:145] Entity <bound method BatchNormalization.call of <tensorflow.python.layers.normalization.BatchNormalization object at 0x7f524435cb50>> could not be transformed and will be executed as-is. Please report this to the AutgoGraph team. When filing the bug, set the verbosity to 10 (on Linux, `export AUTOGRAPH_VERBOSITY=10`) and attach the full output. Cause: converting <bound method BatchNormalization.call of <tensorflow.python.layers.normalization.BatchNormalization object at 0x7f524435cb50>>: AssertionError: Bad argument number for Name: 3, expecting 4\n"
     ]
    },
    {
     "name": "stdout",
     "output_type": "stream",
     "text": [
      "WARNING: Entity <bound method BatchNormalization.call of <tensorflow.python.layers.normalization.BatchNormalization object at 0x7f524435cb50>> could not be transformed and will be executed as-is. Please report this to the AutgoGraph team. When filing the bug, set the verbosity to 10 (on Linux, `export AUTOGRAPH_VERBOSITY=10`) and attach the full output. Cause: converting <bound method BatchNormalization.call of <tensorflow.python.layers.normalization.BatchNormalization object at 0x7f524435cb50>>: AssertionError: Bad argument number for Name: 3, expecting 4\n",
      "WARNING:tensorflow:Entity <bound method Conv.call of <tensorflow.python.layers.convolutional.Conv2D object at 0x7f5244389e90>> could not be transformed and will be executed as-is. Please report this to the AutgoGraph team. When filing the bug, set the verbosity to 10 (on Linux, `export AUTOGRAPH_VERBOSITY=10`) and attach the full output. Cause: converting <bound method Conv.call of <tensorflow.python.layers.convolutional.Conv2D object at 0x7f5244389e90>>: AssertionError: Bad argument number for Name: 3, expecting 4\n"
     ]
    },
    {
     "name": "stderr",
     "output_type": "stream",
     "text": [
      "W0705 04:27:58.473746 139997008488192 ag_logging.py:145] Entity <bound method Conv.call of <tensorflow.python.layers.convolutional.Conv2D object at 0x7f5244389e90>> could not be transformed and will be executed as-is. Please report this to the AutgoGraph team. When filing the bug, set the verbosity to 10 (on Linux, `export AUTOGRAPH_VERBOSITY=10`) and attach the full output. Cause: converting <bound method Conv.call of <tensorflow.python.layers.convolutional.Conv2D object at 0x7f5244389e90>>: AssertionError: Bad argument number for Name: 3, expecting 4\n"
     ]
    },
    {
     "name": "stdout",
     "output_type": "stream",
     "text": [
      "WARNING: Entity <bound method Conv.call of <tensorflow.python.layers.convolutional.Conv2D object at 0x7f5244389e90>> could not be transformed and will be executed as-is. Please report this to the AutgoGraph team. When filing the bug, set the verbosity to 10 (on Linux, `export AUTOGRAPH_VERBOSITY=10`) and attach the full output. Cause: converting <bound method Conv.call of <tensorflow.python.layers.convolutional.Conv2D object at 0x7f5244389e90>>: AssertionError: Bad argument number for Name: 3, expecting 4\n",
      "WARNING:tensorflow:Entity <bound method BatchNormalization.call of <tensorflow.python.layers.normalization.BatchNormalization object at 0x7f5244501250>> could not be transformed and will be executed as-is. Please report this to the AutgoGraph team. When filing the bug, set the verbosity to 10 (on Linux, `export AUTOGRAPH_VERBOSITY=10`) and attach the full output. Cause: converting <bound method BatchNormalization.call of <tensorflow.python.layers.normalization.BatchNormalization object at 0x7f5244501250>>: AssertionError: Bad argument number for Name: 3, expecting 4\n"
     ]
    },
    {
     "name": "stderr",
     "output_type": "stream",
     "text": [
      "W0705 04:27:58.496302 139997008488192 ag_logging.py:145] Entity <bound method BatchNormalization.call of <tensorflow.python.layers.normalization.BatchNormalization object at 0x7f5244501250>> could not be transformed and will be executed as-is. Please report this to the AutgoGraph team. When filing the bug, set the verbosity to 10 (on Linux, `export AUTOGRAPH_VERBOSITY=10`) and attach the full output. Cause: converting <bound method BatchNormalization.call of <tensorflow.python.layers.normalization.BatchNormalization object at 0x7f5244501250>>: AssertionError: Bad argument number for Name: 3, expecting 4\n"
     ]
    },
    {
     "name": "stdout",
     "output_type": "stream",
     "text": [
      "WARNING: Entity <bound method BatchNormalization.call of <tensorflow.python.layers.normalization.BatchNormalization object at 0x7f5244501250>> could not be transformed and will be executed as-is. Please report this to the AutgoGraph team. When filing the bug, set the verbosity to 10 (on Linux, `export AUTOGRAPH_VERBOSITY=10`) and attach the full output. Cause: converting <bound method BatchNormalization.call of <tensorflow.python.layers.normalization.BatchNormalization object at 0x7f5244501250>>: AssertionError: Bad argument number for Name: 3, expecting 4\n",
      "WARNING:tensorflow:Entity <bound method Conv.call of <tensorflow.python.layers.convolutional.Conv2D object at 0x7f5244717ed0>> could not be transformed and will be executed as-is. Please report this to the AutgoGraph team. When filing the bug, set the verbosity to 10 (on Linux, `export AUTOGRAPH_VERBOSITY=10`) and attach the full output. Cause: converting <bound method Conv.call of <tensorflow.python.layers.convolutional.Conv2D object at 0x7f5244717ed0>>: AssertionError: Bad argument number for Name: 3, expecting 4\n"
     ]
    },
    {
     "name": "stderr",
     "output_type": "stream",
     "text": [
      "W0705 04:27:58.554766 139997008488192 ag_logging.py:145] Entity <bound method Conv.call of <tensorflow.python.layers.convolutional.Conv2D object at 0x7f5244717ed0>> could not be transformed and will be executed as-is. Please report this to the AutgoGraph team. When filing the bug, set the verbosity to 10 (on Linux, `export AUTOGRAPH_VERBOSITY=10`) and attach the full output. Cause: converting <bound method Conv.call of <tensorflow.python.layers.convolutional.Conv2D object at 0x7f5244717ed0>>: AssertionError: Bad argument number for Name: 3, expecting 4\n"
     ]
    },
    {
     "name": "stdout",
     "output_type": "stream",
     "text": [
      "WARNING: Entity <bound method Conv.call of <tensorflow.python.layers.convolutional.Conv2D object at 0x7f5244717ed0>> could not be transformed and will be executed as-is. Please report this to the AutgoGraph team. When filing the bug, set the verbosity to 10 (on Linux, `export AUTOGRAPH_VERBOSITY=10`) and attach the full output. Cause: converting <bound method Conv.call of <tensorflow.python.layers.convolutional.Conv2D object at 0x7f5244717ed0>>: AssertionError: Bad argument number for Name: 3, expecting 4\n",
      "WARNING:tensorflow:Entity <bound method BatchNormalization.call of <tensorflow.python.layers.normalization.BatchNormalization object at 0x7f524441e2d0>> could not be transformed and will be executed as-is. Please report this to the AutgoGraph team. When filing the bug, set the verbosity to 10 (on Linux, `export AUTOGRAPH_VERBOSITY=10`) and attach the full output. Cause: converting <bound method BatchNormalization.call of <tensorflow.python.layers.normalization.BatchNormalization object at 0x7f524441e2d0>>: AssertionError: Bad argument number for Name: 3, expecting 4\n"
     ]
    },
    {
     "name": "stderr",
     "output_type": "stream",
     "text": [
      "W0705 04:27:58.577119 139997008488192 ag_logging.py:145] Entity <bound method BatchNormalization.call of <tensorflow.python.layers.normalization.BatchNormalization object at 0x7f524441e2d0>> could not be transformed and will be executed as-is. Please report this to the AutgoGraph team. When filing the bug, set the verbosity to 10 (on Linux, `export AUTOGRAPH_VERBOSITY=10`) and attach the full output. Cause: converting <bound method BatchNormalization.call of <tensorflow.python.layers.normalization.BatchNormalization object at 0x7f524441e2d0>>: AssertionError: Bad argument number for Name: 3, expecting 4\n"
     ]
    },
    {
     "name": "stdout",
     "output_type": "stream",
     "text": [
      "WARNING: Entity <bound method BatchNormalization.call of <tensorflow.python.layers.normalization.BatchNormalization object at 0x7f524441e2d0>> could not be transformed and will be executed as-is. Please report this to the AutgoGraph team. When filing the bug, set the verbosity to 10 (on Linux, `export AUTOGRAPH_VERBOSITY=10`) and attach the full output. Cause: converting <bound method BatchNormalization.call of <tensorflow.python.layers.normalization.BatchNormalization object at 0x7f524441e2d0>>: AssertionError: Bad argument number for Name: 3, expecting 4\n",
      "WARNING:tensorflow:Entity <bound method Conv.call of <tensorflow.python.layers.convolutional.Conv2D object at 0x7f52ac6cce10>> could not be transformed and will be executed as-is. Please report this to the AutgoGraph team. When filing the bug, set the verbosity to 10 (on Linux, `export AUTOGRAPH_VERBOSITY=10`) and attach the full output. Cause: converting <bound method Conv.call of <tensorflow.python.layers.convolutional.Conv2D object at 0x7f52ac6cce10>>: AssertionError: Bad argument number for Name: 3, expecting 4\n"
     ]
    },
    {
     "name": "stderr",
     "output_type": "stream",
     "text": [
      "W0705 04:27:58.636529 139997008488192 ag_logging.py:145] Entity <bound method Conv.call of <tensorflow.python.layers.convolutional.Conv2D object at 0x7f52ac6cce10>> could not be transformed and will be executed as-is. Please report this to the AutgoGraph team. When filing the bug, set the verbosity to 10 (on Linux, `export AUTOGRAPH_VERBOSITY=10`) and attach the full output. Cause: converting <bound method Conv.call of <tensorflow.python.layers.convolutional.Conv2D object at 0x7f52ac6cce10>>: AssertionError: Bad argument number for Name: 3, expecting 4\n"
     ]
    },
    {
     "name": "stdout",
     "output_type": "stream",
     "text": [
      "WARNING: Entity <bound method Conv.call of <tensorflow.python.layers.convolutional.Conv2D object at 0x7f52ac6cce10>> could not be transformed and will be executed as-is. Please report this to the AutgoGraph team. When filing the bug, set the verbosity to 10 (on Linux, `export AUTOGRAPH_VERBOSITY=10`) and attach the full output. Cause: converting <bound method Conv.call of <tensorflow.python.layers.convolutional.Conv2D object at 0x7f52ac6cce10>>: AssertionError: Bad argument number for Name: 3, expecting 4\n",
      "WARNING:tensorflow:Entity <bound method BatchNormalization.call of <tensorflow.python.layers.normalization.BatchNormalization object at 0x7f52442d0e90>> could not be transformed and will be executed as-is. Please report this to the AutgoGraph team. When filing the bug, set the verbosity to 10 (on Linux, `export AUTOGRAPH_VERBOSITY=10`) and attach the full output. Cause: converting <bound method BatchNormalization.call of <tensorflow.python.layers.normalization.BatchNormalization object at 0x7f52442d0e90>>: AssertionError: Bad argument number for Name: 3, expecting 4\n"
     ]
    },
    {
     "name": "stderr",
     "output_type": "stream",
     "text": [
      "W0705 04:27:58.658883 139997008488192 ag_logging.py:145] Entity <bound method BatchNormalization.call of <tensorflow.python.layers.normalization.BatchNormalization object at 0x7f52442d0e90>> could not be transformed and will be executed as-is. Please report this to the AutgoGraph team. When filing the bug, set the verbosity to 10 (on Linux, `export AUTOGRAPH_VERBOSITY=10`) and attach the full output. Cause: converting <bound method BatchNormalization.call of <tensorflow.python.layers.normalization.BatchNormalization object at 0x7f52442d0e90>>: AssertionError: Bad argument number for Name: 3, expecting 4\n"
     ]
    },
    {
     "name": "stdout",
     "output_type": "stream",
     "text": [
      "WARNING: Entity <bound method BatchNormalization.call of <tensorflow.python.layers.normalization.BatchNormalization object at 0x7f52442d0e90>> could not be transformed and will be executed as-is. Please report this to the AutgoGraph team. When filing the bug, set the verbosity to 10 (on Linux, `export AUTOGRAPH_VERBOSITY=10`) and attach the full output. Cause: converting <bound method BatchNormalization.call of <tensorflow.python.layers.normalization.BatchNormalization object at 0x7f52442d0e90>>: AssertionError: Bad argument number for Name: 3, expecting 4\n",
      "WARNING:tensorflow:Entity <bound method Conv.call of <tensorflow.python.layers.convolutional.Conv2D object at 0x7f524441ea10>> could not be transformed and will be executed as-is. Please report this to the AutgoGraph team. When filing the bug, set the verbosity to 10 (on Linux, `export AUTOGRAPH_VERBOSITY=10`) and attach the full output. Cause: converting <bound method Conv.call of <tensorflow.python.layers.convolutional.Conv2D object at 0x7f524441ea10>>: AssertionError: Bad argument number for Name: 3, expecting 4\n"
     ]
    },
    {
     "name": "stderr",
     "output_type": "stream",
     "text": [
      "W0705 04:27:58.719532 139997008488192 ag_logging.py:145] Entity <bound method Conv.call of <tensorflow.python.layers.convolutional.Conv2D object at 0x7f524441ea10>> could not be transformed and will be executed as-is. Please report this to the AutgoGraph team. When filing the bug, set the verbosity to 10 (on Linux, `export AUTOGRAPH_VERBOSITY=10`) and attach the full output. Cause: converting <bound method Conv.call of <tensorflow.python.layers.convolutional.Conv2D object at 0x7f524441ea10>>: AssertionError: Bad argument number for Name: 3, expecting 4\n"
     ]
    },
    {
     "name": "stdout",
     "output_type": "stream",
     "text": [
      "WARNING: Entity <bound method Conv.call of <tensorflow.python.layers.convolutional.Conv2D object at 0x7f524441ea10>> could not be transformed and will be executed as-is. Please report this to the AutgoGraph team. When filing the bug, set the verbosity to 10 (on Linux, `export AUTOGRAPH_VERBOSITY=10`) and attach the full output. Cause: converting <bound method Conv.call of <tensorflow.python.layers.convolutional.Conv2D object at 0x7f524441ea10>>: AssertionError: Bad argument number for Name: 3, expecting 4\n",
      "WARNING:tensorflow:Entity <bound method BatchNormalization.call of <tensorflow.python.layers.normalization.BatchNormalization object at 0x7f52441f4a90>> could not be transformed and will be executed as-is. Please report this to the AutgoGraph team. When filing the bug, set the verbosity to 10 (on Linux, `export AUTOGRAPH_VERBOSITY=10`) and attach the full output. Cause: converting <bound method BatchNormalization.call of <tensorflow.python.layers.normalization.BatchNormalization object at 0x7f52441f4a90>>: AssertionError: Bad argument number for Name: 3, expecting 4\n"
     ]
    },
    {
     "name": "stderr",
     "output_type": "stream",
     "text": [
      "W0705 04:27:58.741880 139997008488192 ag_logging.py:145] Entity <bound method BatchNormalization.call of <tensorflow.python.layers.normalization.BatchNormalization object at 0x7f52441f4a90>> could not be transformed and will be executed as-is. Please report this to the AutgoGraph team. When filing the bug, set the verbosity to 10 (on Linux, `export AUTOGRAPH_VERBOSITY=10`) and attach the full output. Cause: converting <bound method BatchNormalization.call of <tensorflow.python.layers.normalization.BatchNormalization object at 0x7f52441f4a90>>: AssertionError: Bad argument number for Name: 3, expecting 4\n"
     ]
    },
    {
     "name": "stdout",
     "output_type": "stream",
     "text": [
      "WARNING: Entity <bound method BatchNormalization.call of <tensorflow.python.layers.normalization.BatchNormalization object at 0x7f52441f4a90>> could not be transformed and will be executed as-is. Please report this to the AutgoGraph team. When filing the bug, set the verbosity to 10 (on Linux, `export AUTOGRAPH_VERBOSITY=10`) and attach the full output. Cause: converting <bound method BatchNormalization.call of <tensorflow.python.layers.normalization.BatchNormalization object at 0x7f52441f4a90>>: AssertionError: Bad argument number for Name: 3, expecting 4\n",
      "WARNING:tensorflow:Entity <bound method Conv.call of <tensorflow.python.layers.convolutional.Conv2D object at 0x7f527c0ae550>> could not be transformed and will be executed as-is. Please report this to the AutgoGraph team. When filing the bug, set the verbosity to 10 (on Linux, `export AUTOGRAPH_VERBOSITY=10`) and attach the full output. Cause: converting <bound method Conv.call of <tensorflow.python.layers.convolutional.Conv2D object at 0x7f527c0ae550>>: AssertionError: Bad argument number for Name: 3, expecting 4\n"
     ]
    },
    {
     "name": "stderr",
     "output_type": "stream",
     "text": [
      "W0705 04:27:58.800322 139997008488192 ag_logging.py:145] Entity <bound method Conv.call of <tensorflow.python.layers.convolutional.Conv2D object at 0x7f527c0ae550>> could not be transformed and will be executed as-is. Please report this to the AutgoGraph team. When filing the bug, set the verbosity to 10 (on Linux, `export AUTOGRAPH_VERBOSITY=10`) and attach the full output. Cause: converting <bound method Conv.call of <tensorflow.python.layers.convolutional.Conv2D object at 0x7f527c0ae550>>: AssertionError: Bad argument number for Name: 3, expecting 4\n"
     ]
    },
    {
     "name": "stdout",
     "output_type": "stream",
     "text": [
      "WARNING: Entity <bound method Conv.call of <tensorflow.python.layers.convolutional.Conv2D object at 0x7f527c0ae550>> could not be transformed and will be executed as-is. Please report this to the AutgoGraph team. When filing the bug, set the verbosity to 10 (on Linux, `export AUTOGRAPH_VERBOSITY=10`) and attach the full output. Cause: converting <bound method Conv.call of <tensorflow.python.layers.convolutional.Conv2D object at 0x7f527c0ae550>>: AssertionError: Bad argument number for Name: 3, expecting 4\n",
      "WARNING:tensorflow:Entity <bound method BatchNormalization.call of <tensorflow.python.layers.normalization.BatchNormalization object at 0x7f52442081d0>> could not be transformed and will be executed as-is. Please report this to the AutgoGraph team. When filing the bug, set the verbosity to 10 (on Linux, `export AUTOGRAPH_VERBOSITY=10`) and attach the full output. Cause: converting <bound method BatchNormalization.call of <tensorflow.python.layers.normalization.BatchNormalization object at 0x7f52442081d0>>: AssertionError: Bad argument number for Name: 3, expecting 4\n"
     ]
    },
    {
     "name": "stderr",
     "output_type": "stream",
     "text": [
      "W0705 04:27:58.822822 139997008488192 ag_logging.py:145] Entity <bound method BatchNormalization.call of <tensorflow.python.layers.normalization.BatchNormalization object at 0x7f52442081d0>> could not be transformed and will be executed as-is. Please report this to the AutgoGraph team. When filing the bug, set the verbosity to 10 (on Linux, `export AUTOGRAPH_VERBOSITY=10`) and attach the full output. Cause: converting <bound method BatchNormalization.call of <tensorflow.python.layers.normalization.BatchNormalization object at 0x7f52442081d0>>: AssertionError: Bad argument number for Name: 3, expecting 4\n"
     ]
    },
    {
     "name": "stdout",
     "output_type": "stream",
     "text": [
      "WARNING: Entity <bound method BatchNormalization.call of <tensorflow.python.layers.normalization.BatchNormalization object at 0x7f52442081d0>> could not be transformed and will be executed as-is. Please report this to the AutgoGraph team. When filing the bug, set the verbosity to 10 (on Linux, `export AUTOGRAPH_VERBOSITY=10`) and attach the full output. Cause: converting <bound method BatchNormalization.call of <tensorflow.python.layers.normalization.BatchNormalization object at 0x7f52442081d0>>: AssertionError: Bad argument number for Name: 3, expecting 4\n",
      "WARNING:tensorflow:Entity <bound method Conv.call of <tensorflow.python.layers.convolutional.Conv2D object at 0x7f5244651e10>> could not be transformed and will be executed as-is. Please report this to the AutgoGraph team. When filing the bug, set the verbosity to 10 (on Linux, `export AUTOGRAPH_VERBOSITY=10`) and attach the full output. Cause: converting <bound method Conv.call of <tensorflow.python.layers.convolutional.Conv2D object at 0x7f5244651e10>>: AssertionError: Bad argument number for Name: 3, expecting 4\n"
     ]
    },
    {
     "name": "stderr",
     "output_type": "stream",
     "text": [
      "W0705 04:27:58.881750 139997008488192 ag_logging.py:145] Entity <bound method Conv.call of <tensorflow.python.layers.convolutional.Conv2D object at 0x7f5244651e10>> could not be transformed and will be executed as-is. Please report this to the AutgoGraph team. When filing the bug, set the verbosity to 10 (on Linux, `export AUTOGRAPH_VERBOSITY=10`) and attach the full output. Cause: converting <bound method Conv.call of <tensorflow.python.layers.convolutional.Conv2D object at 0x7f5244651e10>>: AssertionError: Bad argument number for Name: 3, expecting 4\n"
     ]
    },
    {
     "name": "stdout",
     "output_type": "stream",
     "text": [
      "WARNING: Entity <bound method Conv.call of <tensorflow.python.layers.convolutional.Conv2D object at 0x7f5244651e10>> could not be transformed and will be executed as-is. Please report this to the AutgoGraph team. When filing the bug, set the verbosity to 10 (on Linux, `export AUTOGRAPH_VERBOSITY=10`) and attach the full output. Cause: converting <bound method Conv.call of <tensorflow.python.layers.convolutional.Conv2D object at 0x7f5244651e10>>: AssertionError: Bad argument number for Name: 3, expecting 4\n",
      "WARNING:tensorflow:Entity <bound method BatchNormalization.call of <tensorflow.python.layers.normalization.BatchNormalization object at 0x7f524412cc90>> could not be transformed and will be executed as-is. Please report this to the AutgoGraph team. When filing the bug, set the verbosity to 10 (on Linux, `export AUTOGRAPH_VERBOSITY=10`) and attach the full output. Cause: converting <bound method BatchNormalization.call of <tensorflow.python.layers.normalization.BatchNormalization object at 0x7f524412cc90>>: AssertionError: Bad argument number for Name: 3, expecting 4\n"
     ]
    },
    {
     "name": "stderr",
     "output_type": "stream",
     "text": [
      "W0705 04:27:58.904124 139997008488192 ag_logging.py:145] Entity <bound method BatchNormalization.call of <tensorflow.python.layers.normalization.BatchNormalization object at 0x7f524412cc90>> could not be transformed and will be executed as-is. Please report this to the AutgoGraph team. When filing the bug, set the verbosity to 10 (on Linux, `export AUTOGRAPH_VERBOSITY=10`) and attach the full output. Cause: converting <bound method BatchNormalization.call of <tensorflow.python.layers.normalization.BatchNormalization object at 0x7f524412cc90>>: AssertionError: Bad argument number for Name: 3, expecting 4\n"
     ]
    },
    {
     "name": "stdout",
     "output_type": "stream",
     "text": [
      "WARNING: Entity <bound method BatchNormalization.call of <tensorflow.python.layers.normalization.BatchNormalization object at 0x7f524412cc90>> could not be transformed and will be executed as-is. Please report this to the AutgoGraph team. When filing the bug, set the verbosity to 10 (on Linux, `export AUTOGRAPH_VERBOSITY=10`) and attach the full output. Cause: converting <bound method BatchNormalization.call of <tensorflow.python.layers.normalization.BatchNormalization object at 0x7f524412cc90>>: AssertionError: Bad argument number for Name: 3, expecting 4\n",
      "WARNING:tensorflow:Entity <bound method Conv.call of <tensorflow.python.layers.convolutional.Conv2D object at 0x7f527c0ae550>> could not be transformed and will be executed as-is. Please report this to the AutgoGraph team. When filing the bug, set the verbosity to 10 (on Linux, `export AUTOGRAPH_VERBOSITY=10`) and attach the full output. Cause: converting <bound method Conv.call of <tensorflow.python.layers.convolutional.Conv2D object at 0x7f527c0ae550>>: AssertionError: Bad argument number for Name: 3, expecting 4\n"
     ]
    },
    {
     "name": "stderr",
     "output_type": "stream",
     "text": [
      "W0705 04:27:58.962554 139997008488192 ag_logging.py:145] Entity <bound method Conv.call of <tensorflow.python.layers.convolutional.Conv2D object at 0x7f527c0ae550>> could not be transformed and will be executed as-is. Please report this to the AutgoGraph team. When filing the bug, set the verbosity to 10 (on Linux, `export AUTOGRAPH_VERBOSITY=10`) and attach the full output. Cause: converting <bound method Conv.call of <tensorflow.python.layers.convolutional.Conv2D object at 0x7f527c0ae550>>: AssertionError: Bad argument number for Name: 3, expecting 4\n"
     ]
    },
    {
     "name": "stdout",
     "output_type": "stream",
     "text": [
      "WARNING: Entity <bound method Conv.call of <tensorflow.python.layers.convolutional.Conv2D object at 0x7f527c0ae550>> could not be transformed and will be executed as-is. Please report this to the AutgoGraph team. When filing the bug, set the verbosity to 10 (on Linux, `export AUTOGRAPH_VERBOSITY=10`) and attach the full output. Cause: converting <bound method Conv.call of <tensorflow.python.layers.convolutional.Conv2D object at 0x7f527c0ae550>>: AssertionError: Bad argument number for Name: 3, expecting 4\n",
      "WARNING:tensorflow:Entity <bound method BatchNormalization.call of <tensorflow.python.layers.normalization.BatchNormalization object at 0x7f52440bb550>> could not be transformed and will be executed as-is. Please report this to the AutgoGraph team. When filing the bug, set the verbosity to 10 (on Linux, `export AUTOGRAPH_VERBOSITY=10`) and attach the full output. Cause: converting <bound method BatchNormalization.call of <tensorflow.python.layers.normalization.BatchNormalization object at 0x7f52440bb550>>: AssertionError: Bad argument number for Name: 3, expecting 4\n"
     ]
    },
    {
     "name": "stderr",
     "output_type": "stream",
     "text": [
      "W0705 04:27:58.984992 139997008488192 ag_logging.py:145] Entity <bound method BatchNormalization.call of <tensorflow.python.layers.normalization.BatchNormalization object at 0x7f52440bb550>> could not be transformed and will be executed as-is. Please report this to the AutgoGraph team. When filing the bug, set the verbosity to 10 (on Linux, `export AUTOGRAPH_VERBOSITY=10`) and attach the full output. Cause: converting <bound method BatchNormalization.call of <tensorflow.python.layers.normalization.BatchNormalization object at 0x7f52440bb550>>: AssertionError: Bad argument number for Name: 3, expecting 4\n"
     ]
    },
    {
     "name": "stdout",
     "output_type": "stream",
     "text": [
      "WARNING: Entity <bound method BatchNormalization.call of <tensorflow.python.layers.normalization.BatchNormalization object at 0x7f52440bb550>> could not be transformed and will be executed as-is. Please report this to the AutgoGraph team. When filing the bug, set the verbosity to 10 (on Linux, `export AUTOGRAPH_VERBOSITY=10`) and attach the full output. Cause: converting <bound method BatchNormalization.call of <tensorflow.python.layers.normalization.BatchNormalization object at 0x7f52440bb550>>: AssertionError: Bad argument number for Name: 3, expecting 4\n",
      "WARNING:tensorflow:Entity <bound method Pooling2D.call of <tensorflow.python.layers.pooling.AveragePooling2D object at 0x7f5244651e10>> could not be transformed and will be executed as-is. Please report this to the AutgoGraph team. When filing the bug, set the verbosity to 10 (on Linux, `export AUTOGRAPH_VERBOSITY=10`) and attach the full output. Cause: converting <bound method Pooling2D.call of <tensorflow.python.layers.pooling.AveragePooling2D object at 0x7f5244651e10>>: AssertionError: Bad argument number for Name: 3, expecting 4\n"
     ]
    },
    {
     "name": "stderr",
     "output_type": "stream",
     "text": [
      "W0705 04:27:59.024684 139997008488192 ag_logging.py:145] Entity <bound method Pooling2D.call of <tensorflow.python.layers.pooling.AveragePooling2D object at 0x7f5244651e10>> could not be transformed and will be executed as-is. Please report this to the AutgoGraph team. When filing the bug, set the verbosity to 10 (on Linux, `export AUTOGRAPH_VERBOSITY=10`) and attach the full output. Cause: converting <bound method Pooling2D.call of <tensorflow.python.layers.pooling.AveragePooling2D object at 0x7f5244651e10>>: AssertionError: Bad argument number for Name: 3, expecting 4\n"
     ]
    },
    {
     "name": "stdout",
     "output_type": "stream",
     "text": [
      "WARNING: Entity <bound method Pooling2D.call of <tensorflow.python.layers.pooling.AveragePooling2D object at 0x7f5244651e10>> could not be transformed and will be executed as-is. Please report this to the AutgoGraph team. When filing the bug, set the verbosity to 10 (on Linux, `export AUTOGRAPH_VERBOSITY=10`) and attach the full output. Cause: converting <bound method Pooling2D.call of <tensorflow.python.layers.pooling.AveragePooling2D object at 0x7f5244651e10>>: AssertionError: Bad argument number for Name: 3, expecting 4\n",
      "WARNING:tensorflow:Entity <bound method Conv.call of <tensorflow.python.layers.convolutional.Conv2D object at 0x7f5244389e90>> could not be transformed and will be executed as-is. Please report this to the AutgoGraph team. When filing the bug, set the verbosity to 10 (on Linux, `export AUTOGRAPH_VERBOSITY=10`) and attach the full output. Cause: converting <bound method Conv.call of <tensorflow.python.layers.convolutional.Conv2D object at 0x7f5244389e90>>: AssertionError: Bad argument number for Name: 3, expecting 4\n"
     ]
    },
    {
     "name": "stderr",
     "output_type": "stream",
     "text": [
      "W0705 04:27:59.181767 139997008488192 ag_logging.py:145] Entity <bound method Conv.call of <tensorflow.python.layers.convolutional.Conv2D object at 0x7f5244389e90>> could not be transformed and will be executed as-is. Please report this to the AutgoGraph team. When filing the bug, set the verbosity to 10 (on Linux, `export AUTOGRAPH_VERBOSITY=10`) and attach the full output. Cause: converting <bound method Conv.call of <tensorflow.python.layers.convolutional.Conv2D object at 0x7f5244389e90>>: AssertionError: Bad argument number for Name: 3, expecting 4\n"
     ]
    },
    {
     "name": "stdout",
     "output_type": "stream",
     "text": [
      "WARNING: Entity <bound method Conv.call of <tensorflow.python.layers.convolutional.Conv2D object at 0x7f5244389e90>> could not be transformed and will be executed as-is. Please report this to the AutgoGraph team. When filing the bug, set the verbosity to 10 (on Linux, `export AUTOGRAPH_VERBOSITY=10`) and attach the full output. Cause: converting <bound method Conv.call of <tensorflow.python.layers.convolutional.Conv2D object at 0x7f5244389e90>>: AssertionError: Bad argument number for Name: 3, expecting 4\n",
      "WARNING:tensorflow:Entity <bound method BatchNormalization.call of <tensorflow.python.layers.normalization.BatchNormalization object at 0x7f528459b910>> could not be transformed and will be executed as-is. Please report this to the AutgoGraph team. When filing the bug, set the verbosity to 10 (on Linux, `export AUTOGRAPH_VERBOSITY=10`) and attach the full output. Cause: converting <bound method BatchNormalization.call of <tensorflow.python.layers.normalization.BatchNormalization object at 0x7f528459b910>>: AssertionError: Bad argument number for Name: 3, expecting 4\n"
     ]
    },
    {
     "name": "stderr",
     "output_type": "stream",
     "text": [
      "W0705 04:27:59.204703 139997008488192 ag_logging.py:145] Entity <bound method BatchNormalization.call of <tensorflow.python.layers.normalization.BatchNormalization object at 0x7f528459b910>> could not be transformed and will be executed as-is. Please report this to the AutgoGraph team. When filing the bug, set the verbosity to 10 (on Linux, `export AUTOGRAPH_VERBOSITY=10`) and attach the full output. Cause: converting <bound method BatchNormalization.call of <tensorflow.python.layers.normalization.BatchNormalization object at 0x7f528459b910>>: AssertionError: Bad argument number for Name: 3, expecting 4\n"
     ]
    },
    {
     "name": "stdout",
     "output_type": "stream",
     "text": [
      "WARNING: Entity <bound method BatchNormalization.call of <tensorflow.python.layers.normalization.BatchNormalization object at 0x7f528459b910>> could not be transformed and will be executed as-is. Please report this to the AutgoGraph team. When filing the bug, set the verbosity to 10 (on Linux, `export AUTOGRAPH_VERBOSITY=10`) and attach the full output. Cause: converting <bound method BatchNormalization.call of <tensorflow.python.layers.normalization.BatchNormalization object at 0x7f528459b910>>: AssertionError: Bad argument number for Name: 3, expecting 4\n",
      "WARNING:tensorflow:Entity <bound method Conv.call of <tensorflow.python.layers.convolutional.Conv2D object at 0x7f52441f4110>> could not be transformed and will be executed as-is. Please report this to the AutgoGraph team. When filing the bug, set the verbosity to 10 (on Linux, `export AUTOGRAPH_VERBOSITY=10`) and attach the full output. Cause: converting <bound method Conv.call of <tensorflow.python.layers.convolutional.Conv2D object at 0x7f52441f4110>>: AssertionError: Bad argument number for Name: 3, expecting 4\n"
     ]
    },
    {
     "name": "stderr",
     "output_type": "stream",
     "text": [
      "W0705 04:27:59.264228 139997008488192 ag_logging.py:145] Entity <bound method Conv.call of <tensorflow.python.layers.convolutional.Conv2D object at 0x7f52441f4110>> could not be transformed and will be executed as-is. Please report this to the AutgoGraph team. When filing the bug, set the verbosity to 10 (on Linux, `export AUTOGRAPH_VERBOSITY=10`) and attach the full output. Cause: converting <bound method Conv.call of <tensorflow.python.layers.convolutional.Conv2D object at 0x7f52441f4110>>: AssertionError: Bad argument number for Name: 3, expecting 4\n"
     ]
    },
    {
     "name": "stdout",
     "output_type": "stream",
     "text": [
      "WARNING: Entity <bound method Conv.call of <tensorflow.python.layers.convolutional.Conv2D object at 0x7f52441f4110>> could not be transformed and will be executed as-is. Please report this to the AutgoGraph team. When filing the bug, set the verbosity to 10 (on Linux, `export AUTOGRAPH_VERBOSITY=10`) and attach the full output. Cause: converting <bound method Conv.call of <tensorflow.python.layers.convolutional.Conv2D object at 0x7f52441f4110>>: AssertionError: Bad argument number for Name: 3, expecting 4\n",
      "WARNING:tensorflow:Entity <bound method BatchNormalization.call of <tensorflow.python.layers.normalization.BatchNormalization object at 0x7f52ac600790>> could not be transformed and will be executed as-is. Please report this to the AutgoGraph team. When filing the bug, set the verbosity to 10 (on Linux, `export AUTOGRAPH_VERBOSITY=10`) and attach the full output. Cause: converting <bound method BatchNormalization.call of <tensorflow.python.layers.normalization.BatchNormalization object at 0x7f52ac600790>>: AssertionError: Bad argument number for Name: 3, expecting 4\n"
     ]
    },
    {
     "name": "stderr",
     "output_type": "stream",
     "text": [
      "W0705 04:27:59.286679 139997008488192 ag_logging.py:145] Entity <bound method BatchNormalization.call of <tensorflow.python.layers.normalization.BatchNormalization object at 0x7f52ac600790>> could not be transformed and will be executed as-is. Please report this to the AutgoGraph team. When filing the bug, set the verbosity to 10 (on Linux, `export AUTOGRAPH_VERBOSITY=10`) and attach the full output. Cause: converting <bound method BatchNormalization.call of <tensorflow.python.layers.normalization.BatchNormalization object at 0x7f52ac600790>>: AssertionError: Bad argument number for Name: 3, expecting 4\n"
     ]
    },
    {
     "name": "stdout",
     "output_type": "stream",
     "text": [
      "WARNING: Entity <bound method BatchNormalization.call of <tensorflow.python.layers.normalization.BatchNormalization object at 0x7f52ac600790>> could not be transformed and will be executed as-is. Please report this to the AutgoGraph team. When filing the bug, set the verbosity to 10 (on Linux, `export AUTOGRAPH_VERBOSITY=10`) and attach the full output. Cause: converting <bound method BatchNormalization.call of <tensorflow.python.layers.normalization.BatchNormalization object at 0x7f52ac600790>>: AssertionError: Bad argument number for Name: 3, expecting 4\n",
      "WARNING:tensorflow:Entity <bound method Conv.call of <tensorflow.python.layers.convolutional.Conv2D object at 0x7f527c728e10>> could not be transformed and will be executed as-is. Please report this to the AutgoGraph team. When filing the bug, set the verbosity to 10 (on Linux, `export AUTOGRAPH_VERBOSITY=10`) and attach the full output. Cause: converting <bound method Conv.call of <tensorflow.python.layers.convolutional.Conv2D object at 0x7f527c728e10>>: AssertionError: Bad argument number for Name: 3, expecting 4\n"
     ]
    },
    {
     "name": "stderr",
     "output_type": "stream",
     "text": [
      "W0705 04:27:59.344747 139997008488192 ag_logging.py:145] Entity <bound method Conv.call of <tensorflow.python.layers.convolutional.Conv2D object at 0x7f527c728e10>> could not be transformed and will be executed as-is. Please report this to the AutgoGraph team. When filing the bug, set the verbosity to 10 (on Linux, `export AUTOGRAPH_VERBOSITY=10`) and attach the full output. Cause: converting <bound method Conv.call of <tensorflow.python.layers.convolutional.Conv2D object at 0x7f527c728e10>>: AssertionError: Bad argument number for Name: 3, expecting 4\n"
     ]
    },
    {
     "name": "stdout",
     "output_type": "stream",
     "text": [
      "WARNING: Entity <bound method Conv.call of <tensorflow.python.layers.convolutional.Conv2D object at 0x7f527c728e10>> could not be transformed and will be executed as-is. Please report this to the AutgoGraph team. When filing the bug, set the verbosity to 10 (on Linux, `export AUTOGRAPH_VERBOSITY=10`) and attach the full output. Cause: converting <bound method Conv.call of <tensorflow.python.layers.convolutional.Conv2D object at 0x7f527c728e10>>: AssertionError: Bad argument number for Name: 3, expecting 4\n",
      "WARNING:tensorflow:Entity <bound method BatchNormalization.call of <tensorflow.python.layers.normalization.BatchNormalization object at 0x7f524411ab10>> could not be transformed and will be executed as-is. Please report this to the AutgoGraph team. When filing the bug, set the verbosity to 10 (on Linux, `export AUTOGRAPH_VERBOSITY=10`) and attach the full output. Cause: converting <bound method BatchNormalization.call of <tensorflow.python.layers.normalization.BatchNormalization object at 0x7f524411ab10>>: AssertionError: Bad argument number for Name: 3, expecting 4\n"
     ]
    },
    {
     "name": "stderr",
     "output_type": "stream",
     "text": [
      "W0705 04:27:59.367056 139997008488192 ag_logging.py:145] Entity <bound method BatchNormalization.call of <tensorflow.python.layers.normalization.BatchNormalization object at 0x7f524411ab10>> could not be transformed and will be executed as-is. Please report this to the AutgoGraph team. When filing the bug, set the verbosity to 10 (on Linux, `export AUTOGRAPH_VERBOSITY=10`) and attach the full output. Cause: converting <bound method BatchNormalization.call of <tensorflow.python.layers.normalization.BatchNormalization object at 0x7f524411ab10>>: AssertionError: Bad argument number for Name: 3, expecting 4\n"
     ]
    },
    {
     "name": "stdout",
     "output_type": "stream",
     "text": [
      "WARNING: Entity <bound method BatchNormalization.call of <tensorflow.python.layers.normalization.BatchNormalization object at 0x7f524411ab10>> could not be transformed and will be executed as-is. Please report this to the AutgoGraph team. When filing the bug, set the verbosity to 10 (on Linux, `export AUTOGRAPH_VERBOSITY=10`) and attach the full output. Cause: converting <bound method BatchNormalization.call of <tensorflow.python.layers.normalization.BatchNormalization object at 0x7f524411ab10>>: AssertionError: Bad argument number for Name: 3, expecting 4\n",
      "WARNING:tensorflow:Entity <bound method Conv.call of <tensorflow.python.layers.convolutional.Conv2D object at 0x7f524435b3d0>> could not be transformed and will be executed as-is. Please report this to the AutgoGraph team. When filing the bug, set the verbosity to 10 (on Linux, `export AUTOGRAPH_VERBOSITY=10`) and attach the full output. Cause: converting <bound method Conv.call of <tensorflow.python.layers.convolutional.Conv2D object at 0x7f524435b3d0>>: AssertionError: Bad argument number for Name: 3, expecting 4\n"
     ]
    },
    {
     "name": "stderr",
     "output_type": "stream",
     "text": [
      "W0705 04:27:59.430089 139997008488192 ag_logging.py:145] Entity <bound method Conv.call of <tensorflow.python.layers.convolutional.Conv2D object at 0x7f524435b3d0>> could not be transformed and will be executed as-is. Please report this to the AutgoGraph team. When filing the bug, set the verbosity to 10 (on Linux, `export AUTOGRAPH_VERBOSITY=10`) and attach the full output. Cause: converting <bound method Conv.call of <tensorflow.python.layers.convolutional.Conv2D object at 0x7f524435b3d0>>: AssertionError: Bad argument number for Name: 3, expecting 4\n"
     ]
    },
    {
     "name": "stdout",
     "output_type": "stream",
     "text": [
      "WARNING: Entity <bound method Conv.call of <tensorflow.python.layers.convolutional.Conv2D object at 0x7f524435b3d0>> could not be transformed and will be executed as-is. Please report this to the AutgoGraph team. When filing the bug, set the verbosity to 10 (on Linux, `export AUTOGRAPH_VERBOSITY=10`) and attach the full output. Cause: converting <bound method Conv.call of <tensorflow.python.layers.convolutional.Conv2D object at 0x7f524435b3d0>>: AssertionError: Bad argument number for Name: 3, expecting 4\n",
      "WARNING:tensorflow:Entity <bound method BatchNormalization.call of <tensorflow.python.layers.normalization.BatchNormalization object at 0x7f5228704b90>> could not be transformed and will be executed as-is. Please report this to the AutgoGraph team. When filing the bug, set the verbosity to 10 (on Linux, `export AUTOGRAPH_VERBOSITY=10`) and attach the full output. Cause: converting <bound method BatchNormalization.call of <tensorflow.python.layers.normalization.BatchNormalization object at 0x7f5228704b90>>: AssertionError: Bad argument number for Name: 3, expecting 4\n"
     ]
    },
    {
     "name": "stderr",
     "output_type": "stream",
     "text": [
      "W0705 04:27:59.452604 139997008488192 ag_logging.py:145] Entity <bound method BatchNormalization.call of <tensorflow.python.layers.normalization.BatchNormalization object at 0x7f5228704b90>> could not be transformed and will be executed as-is. Please report this to the AutgoGraph team. When filing the bug, set the verbosity to 10 (on Linux, `export AUTOGRAPH_VERBOSITY=10`) and attach the full output. Cause: converting <bound method BatchNormalization.call of <tensorflow.python.layers.normalization.BatchNormalization object at 0x7f5228704b90>>: AssertionError: Bad argument number for Name: 3, expecting 4\n"
     ]
    },
    {
     "name": "stdout",
     "output_type": "stream",
     "text": [
      "WARNING: Entity <bound method BatchNormalization.call of <tensorflow.python.layers.normalization.BatchNormalization object at 0x7f5228704b90>> could not be transformed and will be executed as-is. Please report this to the AutgoGraph team. When filing the bug, set the verbosity to 10 (on Linux, `export AUTOGRAPH_VERBOSITY=10`) and attach the full output. Cause: converting <bound method BatchNormalization.call of <tensorflow.python.layers.normalization.BatchNormalization object at 0x7f5228704b90>>: AssertionError: Bad argument number for Name: 3, expecting 4\n",
      "WARNING:tensorflow:Entity <bound method Conv.call of <tensorflow.python.layers.convolutional.Conv2D object at 0x7f52843e0dd0>> could not be transformed and will be executed as-is. Please report this to the AutgoGraph team. When filing the bug, set the verbosity to 10 (on Linux, `export AUTOGRAPH_VERBOSITY=10`) and attach the full output. Cause: converting <bound method Conv.call of <tensorflow.python.layers.convolutional.Conv2D object at 0x7f52843e0dd0>>: AssertionError: Bad argument number for Name: 3, expecting 4\n"
     ]
    },
    {
     "name": "stderr",
     "output_type": "stream",
     "text": [
      "W0705 04:27:59.511424 139997008488192 ag_logging.py:145] Entity <bound method Conv.call of <tensorflow.python.layers.convolutional.Conv2D object at 0x7f52843e0dd0>> could not be transformed and will be executed as-is. Please report this to the AutgoGraph team. When filing the bug, set the verbosity to 10 (on Linux, `export AUTOGRAPH_VERBOSITY=10`) and attach the full output. Cause: converting <bound method Conv.call of <tensorflow.python.layers.convolutional.Conv2D object at 0x7f52843e0dd0>>: AssertionError: Bad argument number for Name: 3, expecting 4\n"
     ]
    },
    {
     "name": "stdout",
     "output_type": "stream",
     "text": [
      "WARNING: Entity <bound method Conv.call of <tensorflow.python.layers.convolutional.Conv2D object at 0x7f52843e0dd0>> could not be transformed and will be executed as-is. Please report this to the AutgoGraph team. When filing the bug, set the verbosity to 10 (on Linux, `export AUTOGRAPH_VERBOSITY=10`) and attach the full output. Cause: converting <bound method Conv.call of <tensorflow.python.layers.convolutional.Conv2D object at 0x7f52843e0dd0>>: AssertionError: Bad argument number for Name: 3, expecting 4\n",
      "WARNING:tensorflow:Entity <bound method BatchNormalization.call of <tensorflow.python.layers.normalization.BatchNormalization object at 0x7f52442a9b50>> could not be transformed and will be executed as-is. Please report this to the AutgoGraph team. When filing the bug, set the verbosity to 10 (on Linux, `export AUTOGRAPH_VERBOSITY=10`) and attach the full output. Cause: converting <bound method BatchNormalization.call of <tensorflow.python.layers.normalization.BatchNormalization object at 0x7f52442a9b50>>: AssertionError: Bad argument number for Name: 3, expecting 4\n"
     ]
    },
    {
     "name": "stderr",
     "output_type": "stream",
     "text": [
      "W0705 04:27:59.533874 139997008488192 ag_logging.py:145] Entity <bound method BatchNormalization.call of <tensorflow.python.layers.normalization.BatchNormalization object at 0x7f52442a9b50>> could not be transformed and will be executed as-is. Please report this to the AutgoGraph team. When filing the bug, set the verbosity to 10 (on Linux, `export AUTOGRAPH_VERBOSITY=10`) and attach the full output. Cause: converting <bound method BatchNormalization.call of <tensorflow.python.layers.normalization.BatchNormalization object at 0x7f52442a9b50>>: AssertionError: Bad argument number for Name: 3, expecting 4\n"
     ]
    },
    {
     "name": "stdout",
     "output_type": "stream",
     "text": [
      "WARNING: Entity <bound method BatchNormalization.call of <tensorflow.python.layers.normalization.BatchNormalization object at 0x7f52442a9b50>> could not be transformed and will be executed as-is. Please report this to the AutgoGraph team. When filing the bug, set the verbosity to 10 (on Linux, `export AUTOGRAPH_VERBOSITY=10`) and attach the full output. Cause: converting <bound method BatchNormalization.call of <tensorflow.python.layers.normalization.BatchNormalization object at 0x7f52442a9b50>>: AssertionError: Bad argument number for Name: 3, expecting 4\n",
      "WARNING:tensorflow:Entity <bound method Conv.call of <tensorflow.python.layers.convolutional.Conv2D object at 0x7f5244087e50>> could not be transformed and will be executed as-is. Please report this to the AutgoGraph team. When filing the bug, set the verbosity to 10 (on Linux, `export AUTOGRAPH_VERBOSITY=10`) and attach the full output. Cause: converting <bound method Conv.call of <tensorflow.python.layers.convolutional.Conv2D object at 0x7f5244087e50>>: AssertionError: Bad argument number for Name: 3, expecting 4\n"
     ]
    },
    {
     "name": "stderr",
     "output_type": "stream",
     "text": [
      "W0705 04:27:59.593412 139997008488192 ag_logging.py:145] Entity <bound method Conv.call of <tensorflow.python.layers.convolutional.Conv2D object at 0x7f5244087e50>> could not be transformed and will be executed as-is. Please report this to the AutgoGraph team. When filing the bug, set the verbosity to 10 (on Linux, `export AUTOGRAPH_VERBOSITY=10`) and attach the full output. Cause: converting <bound method Conv.call of <tensorflow.python.layers.convolutional.Conv2D object at 0x7f5244087e50>>: AssertionError: Bad argument number for Name: 3, expecting 4\n"
     ]
    },
    {
     "name": "stdout",
     "output_type": "stream",
     "text": [
      "WARNING: Entity <bound method Conv.call of <tensorflow.python.layers.convolutional.Conv2D object at 0x7f5244087e50>> could not be transformed and will be executed as-is. Please report this to the AutgoGraph team. When filing the bug, set the verbosity to 10 (on Linux, `export AUTOGRAPH_VERBOSITY=10`) and attach the full output. Cause: converting <bound method Conv.call of <tensorflow.python.layers.convolutional.Conv2D object at 0x7f5244087e50>>: AssertionError: Bad argument number for Name: 3, expecting 4\n",
      "WARNING:tensorflow:Entity <bound method BatchNormalization.call of <tensorflow.python.layers.normalization.BatchNormalization object at 0x7f52286dfad0>> could not be transformed and will be executed as-is. Please report this to the AutgoGraph team. When filing the bug, set the verbosity to 10 (on Linux, `export AUTOGRAPH_VERBOSITY=10`) and attach the full output. Cause: converting <bound method BatchNormalization.call of <tensorflow.python.layers.normalization.BatchNormalization object at 0x7f52286dfad0>>: AssertionError: Bad argument number for Name: 3, expecting 4\n"
     ]
    },
    {
     "name": "stderr",
     "output_type": "stream",
     "text": [
      "W0705 04:27:59.616043 139997008488192 ag_logging.py:145] Entity <bound method BatchNormalization.call of <tensorflow.python.layers.normalization.BatchNormalization object at 0x7f52286dfad0>> could not be transformed and will be executed as-is. Please report this to the AutgoGraph team. When filing the bug, set the verbosity to 10 (on Linux, `export AUTOGRAPH_VERBOSITY=10`) and attach the full output. Cause: converting <bound method BatchNormalization.call of <tensorflow.python.layers.normalization.BatchNormalization object at 0x7f52286dfad0>>: AssertionError: Bad argument number for Name: 3, expecting 4\n"
     ]
    },
    {
     "name": "stdout",
     "output_type": "stream",
     "text": [
      "WARNING: Entity <bound method BatchNormalization.call of <tensorflow.python.layers.normalization.BatchNormalization object at 0x7f52286dfad0>> could not be transformed and will be executed as-is. Please report this to the AutgoGraph team. When filing the bug, set the verbosity to 10 (on Linux, `export AUTOGRAPH_VERBOSITY=10`) and attach the full output. Cause: converting <bound method BatchNormalization.call of <tensorflow.python.layers.normalization.BatchNormalization object at 0x7f52286dfad0>>: AssertionError: Bad argument number for Name: 3, expecting 4\n",
      "WARNING:tensorflow:Entity <bound method Conv.call of <tensorflow.python.layers.convolutional.Conv2D object at 0x7f5228704050>> could not be transformed and will be executed as-is. Please report this to the AutgoGraph team. When filing the bug, set the verbosity to 10 (on Linux, `export AUTOGRAPH_VERBOSITY=10`) and attach the full output. Cause: converting <bound method Conv.call of <tensorflow.python.layers.convolutional.Conv2D object at 0x7f5228704050>>: AssertionError: Bad argument number for Name: 3, expecting 4\n"
     ]
    },
    {
     "name": "stderr",
     "output_type": "stream",
     "text": [
      "W0705 04:27:59.687613 139997008488192 ag_logging.py:145] Entity <bound method Conv.call of <tensorflow.python.layers.convolutional.Conv2D object at 0x7f5228704050>> could not be transformed and will be executed as-is. Please report this to the AutgoGraph team. When filing the bug, set the verbosity to 10 (on Linux, `export AUTOGRAPH_VERBOSITY=10`) and attach the full output. Cause: converting <bound method Conv.call of <tensorflow.python.layers.convolutional.Conv2D object at 0x7f5228704050>>: AssertionError: Bad argument number for Name: 3, expecting 4\n"
     ]
    },
    {
     "name": "stdout",
     "output_type": "stream",
     "text": [
      "WARNING: Entity <bound method Conv.call of <tensorflow.python.layers.convolutional.Conv2D object at 0x7f5228704050>> could not be transformed and will be executed as-is. Please report this to the AutgoGraph team. When filing the bug, set the verbosity to 10 (on Linux, `export AUTOGRAPH_VERBOSITY=10`) and attach the full output. Cause: converting <bound method Conv.call of <tensorflow.python.layers.convolutional.Conv2D object at 0x7f5228704050>>: AssertionError: Bad argument number for Name: 3, expecting 4\n",
      "WARNING:tensorflow:Entity <bound method BatchNormalization.call of <tensorflow.python.layers.normalization.BatchNormalization object at 0x7f5228761510>> could not be transformed and will be executed as-is. Please report this to the AutgoGraph team. When filing the bug, set the verbosity to 10 (on Linux, `export AUTOGRAPH_VERBOSITY=10`) and attach the full output. Cause: converting <bound method BatchNormalization.call of <tensorflow.python.layers.normalization.BatchNormalization object at 0x7f5228761510>>: AssertionError: Bad argument number for Name: 3, expecting 4\n"
     ]
    },
    {
     "name": "stderr",
     "output_type": "stream",
     "text": [
      "W0705 04:27:59.710501 139997008488192 ag_logging.py:145] Entity <bound method BatchNormalization.call of <tensorflow.python.layers.normalization.BatchNormalization object at 0x7f5228761510>> could not be transformed and will be executed as-is. Please report this to the AutgoGraph team. When filing the bug, set the verbosity to 10 (on Linux, `export AUTOGRAPH_VERBOSITY=10`) and attach the full output. Cause: converting <bound method BatchNormalization.call of <tensorflow.python.layers.normalization.BatchNormalization object at 0x7f5228761510>>: AssertionError: Bad argument number for Name: 3, expecting 4\n"
     ]
    },
    {
     "name": "stdout",
     "output_type": "stream",
     "text": [
      "WARNING: Entity <bound method BatchNormalization.call of <tensorflow.python.layers.normalization.BatchNormalization object at 0x7f5228761510>> could not be transformed and will be executed as-is. Please report this to the AutgoGraph team. When filing the bug, set the verbosity to 10 (on Linux, `export AUTOGRAPH_VERBOSITY=10`) and attach the full output. Cause: converting <bound method BatchNormalization.call of <tensorflow.python.layers.normalization.BatchNormalization object at 0x7f5228761510>>: AssertionError: Bad argument number for Name: 3, expecting 4\n",
      "WARNING:tensorflow:Entity <bound method Conv.call of <tensorflow.python.layers.convolutional.Conv2D object at 0x7f52441e3410>> could not be transformed and will be executed as-is. Please report this to the AutgoGraph team. When filing the bug, set the verbosity to 10 (on Linux, `export AUTOGRAPH_VERBOSITY=10`) and attach the full output. Cause: converting <bound method Conv.call of <tensorflow.python.layers.convolutional.Conv2D object at 0x7f52441e3410>>: AssertionError: Bad argument number for Name: 3, expecting 4\n"
     ]
    },
    {
     "name": "stderr",
     "output_type": "stream",
     "text": [
      "W0705 04:27:59.769394 139997008488192 ag_logging.py:145] Entity <bound method Conv.call of <tensorflow.python.layers.convolutional.Conv2D object at 0x7f52441e3410>> could not be transformed and will be executed as-is. Please report this to the AutgoGraph team. When filing the bug, set the verbosity to 10 (on Linux, `export AUTOGRAPH_VERBOSITY=10`) and attach the full output. Cause: converting <bound method Conv.call of <tensorflow.python.layers.convolutional.Conv2D object at 0x7f52441e3410>>: AssertionError: Bad argument number for Name: 3, expecting 4\n"
     ]
    },
    {
     "name": "stdout",
     "output_type": "stream",
     "text": [
      "WARNING: Entity <bound method Conv.call of <tensorflow.python.layers.convolutional.Conv2D object at 0x7f52441e3410>> could not be transformed and will be executed as-is. Please report this to the AutgoGraph team. When filing the bug, set the verbosity to 10 (on Linux, `export AUTOGRAPH_VERBOSITY=10`) and attach the full output. Cause: converting <bound method Conv.call of <tensorflow.python.layers.convolutional.Conv2D object at 0x7f52441e3410>>: AssertionError: Bad argument number for Name: 3, expecting 4\n",
      "WARNING:tensorflow:Entity <bound method BatchNormalization.call of <tensorflow.python.layers.normalization.BatchNormalization object at 0x7f52285534d0>> could not be transformed and will be executed as-is. Please report this to the AutgoGraph team. When filing the bug, set the verbosity to 10 (on Linux, `export AUTOGRAPH_VERBOSITY=10`) and attach the full output. Cause: converting <bound method BatchNormalization.call of <tensorflow.python.layers.normalization.BatchNormalization object at 0x7f52285534d0>>: AssertionError: Bad argument number for Name: 3, expecting 4\n"
     ]
    },
    {
     "name": "stderr",
     "output_type": "stream",
     "text": [
      "W0705 04:27:59.791988 139997008488192 ag_logging.py:145] Entity <bound method BatchNormalization.call of <tensorflow.python.layers.normalization.BatchNormalization object at 0x7f52285534d0>> could not be transformed and will be executed as-is. Please report this to the AutgoGraph team. When filing the bug, set the verbosity to 10 (on Linux, `export AUTOGRAPH_VERBOSITY=10`) and attach the full output. Cause: converting <bound method BatchNormalization.call of <tensorflow.python.layers.normalization.BatchNormalization object at 0x7f52285534d0>>: AssertionError: Bad argument number for Name: 3, expecting 4\n"
     ]
    },
    {
     "name": "stdout",
     "output_type": "stream",
     "text": [
      "WARNING: Entity <bound method BatchNormalization.call of <tensorflow.python.layers.normalization.BatchNormalization object at 0x7f52285534d0>> could not be transformed and will be executed as-is. Please report this to the AutgoGraph team. When filing the bug, set the verbosity to 10 (on Linux, `export AUTOGRAPH_VERBOSITY=10`) and attach the full output. Cause: converting <bound method BatchNormalization.call of <tensorflow.python.layers.normalization.BatchNormalization object at 0x7f52285534d0>>: AssertionError: Bad argument number for Name: 3, expecting 4\n",
      "WARNING:tensorflow:Entity <bound method Conv.call of <tensorflow.python.layers.convolutional.Conv2D object at 0x7f52287615d0>> could not be transformed and will be executed as-is. Please report this to the AutgoGraph team. When filing the bug, set the verbosity to 10 (on Linux, `export AUTOGRAPH_VERBOSITY=10`) and attach the full output. Cause: converting <bound method Conv.call of <tensorflow.python.layers.convolutional.Conv2D object at 0x7f52287615d0>>: AssertionError: Bad argument number for Name: 3, expecting 4\n"
     ]
    },
    {
     "name": "stderr",
     "output_type": "stream",
     "text": [
      "W0705 04:27:59.851216 139997008488192 ag_logging.py:145] Entity <bound method Conv.call of <tensorflow.python.layers.convolutional.Conv2D object at 0x7f52287615d0>> could not be transformed and will be executed as-is. Please report this to the AutgoGraph team. When filing the bug, set the verbosity to 10 (on Linux, `export AUTOGRAPH_VERBOSITY=10`) and attach the full output. Cause: converting <bound method Conv.call of <tensorflow.python.layers.convolutional.Conv2D object at 0x7f52287615d0>>: AssertionError: Bad argument number for Name: 3, expecting 4\n"
     ]
    },
    {
     "name": "stdout",
     "output_type": "stream",
     "text": [
      "WARNING: Entity <bound method Conv.call of <tensorflow.python.layers.convolutional.Conv2D object at 0x7f52287615d0>> could not be transformed and will be executed as-is. Please report this to the AutgoGraph team. When filing the bug, set the verbosity to 10 (on Linux, `export AUTOGRAPH_VERBOSITY=10`) and attach the full output. Cause: converting <bound method Conv.call of <tensorflow.python.layers.convolutional.Conv2D object at 0x7f52287615d0>>: AssertionError: Bad argument number for Name: 3, expecting 4\n",
      "WARNING:tensorflow:Entity <bound method BatchNormalization.call of <tensorflow.python.layers.normalization.BatchNormalization object at 0x7f5228583b10>> could not be transformed and will be executed as-is. Please report this to the AutgoGraph team. When filing the bug, set the verbosity to 10 (on Linux, `export AUTOGRAPH_VERBOSITY=10`) and attach the full output. Cause: converting <bound method BatchNormalization.call of <tensorflow.python.layers.normalization.BatchNormalization object at 0x7f5228583b10>>: AssertionError: Bad argument number for Name: 3, expecting 4\n"
     ]
    },
    {
     "name": "stderr",
     "output_type": "stream",
     "text": [
      "W0705 04:27:59.873858 139997008488192 ag_logging.py:145] Entity <bound method BatchNormalization.call of <tensorflow.python.layers.normalization.BatchNormalization object at 0x7f5228583b10>> could not be transformed and will be executed as-is. Please report this to the AutgoGraph team. When filing the bug, set the verbosity to 10 (on Linux, `export AUTOGRAPH_VERBOSITY=10`) and attach the full output. Cause: converting <bound method BatchNormalization.call of <tensorflow.python.layers.normalization.BatchNormalization object at 0x7f5228583b10>>: AssertionError: Bad argument number for Name: 3, expecting 4\n"
     ]
    },
    {
     "name": "stdout",
     "output_type": "stream",
     "text": [
      "WARNING: Entity <bound method BatchNormalization.call of <tensorflow.python.layers.normalization.BatchNormalization object at 0x7f5228583b10>> could not be transformed and will be executed as-is. Please report this to the AutgoGraph team. When filing the bug, set the verbosity to 10 (on Linux, `export AUTOGRAPH_VERBOSITY=10`) and attach the full output. Cause: converting <bound method BatchNormalization.call of <tensorflow.python.layers.normalization.BatchNormalization object at 0x7f5228583b10>>: AssertionError: Bad argument number for Name: 3, expecting 4\n",
      "WARNING:tensorflow:Entity <bound method Pooling2D.call of <tensorflow.python.layers.pooling.AveragePooling2D object at 0x7f522879f2d0>> could not be transformed and will be executed as-is. Please report this to the AutgoGraph team. When filing the bug, set the verbosity to 10 (on Linux, `export AUTOGRAPH_VERBOSITY=10`) and attach the full output. Cause: converting <bound method Pooling2D.call of <tensorflow.python.layers.pooling.AveragePooling2D object at 0x7f522879f2d0>>: AssertionError: Bad argument number for Name: 3, expecting 4\n"
     ]
    },
    {
     "name": "stderr",
     "output_type": "stream",
     "text": [
      "W0705 04:27:59.914231 139997008488192 ag_logging.py:145] Entity <bound method Pooling2D.call of <tensorflow.python.layers.pooling.AveragePooling2D object at 0x7f522879f2d0>> could not be transformed and will be executed as-is. Please report this to the AutgoGraph team. When filing the bug, set the verbosity to 10 (on Linux, `export AUTOGRAPH_VERBOSITY=10`) and attach the full output. Cause: converting <bound method Pooling2D.call of <tensorflow.python.layers.pooling.AveragePooling2D object at 0x7f522879f2d0>>: AssertionError: Bad argument number for Name: 3, expecting 4\n"
     ]
    },
    {
     "name": "stdout",
     "output_type": "stream",
     "text": [
      "WARNING: Entity <bound method Pooling2D.call of <tensorflow.python.layers.pooling.AveragePooling2D object at 0x7f522879f2d0>> could not be transformed and will be executed as-is. Please report this to the AutgoGraph team. When filing the bug, set the verbosity to 10 (on Linux, `export AUTOGRAPH_VERBOSITY=10`) and attach the full output. Cause: converting <bound method Pooling2D.call of <tensorflow.python.layers.pooling.AveragePooling2D object at 0x7f522879f2d0>>: AssertionError: Bad argument number for Name: 3, expecting 4\n",
      "WARNING:tensorflow:Entity <bound method Conv.call of <tensorflow.python.layers.convolutional.Conv2D object at 0x7f524411a610>> could not be transformed and will be executed as-is. Please report this to the AutgoGraph team. When filing the bug, set the verbosity to 10 (on Linux, `export AUTOGRAPH_VERBOSITY=10`) and attach the full output. Cause: converting <bound method Conv.call of <tensorflow.python.layers.convolutional.Conv2D object at 0x7f524411a610>>: AssertionError: Bad argument number for Name: 3, expecting 4\n"
     ]
    },
    {
     "name": "stderr",
     "output_type": "stream",
     "text": [
      "W0705 04:27:59.972076 139997008488192 ag_logging.py:145] Entity <bound method Conv.call of <tensorflow.python.layers.convolutional.Conv2D object at 0x7f524411a610>> could not be transformed and will be executed as-is. Please report this to the AutgoGraph team. When filing the bug, set the verbosity to 10 (on Linux, `export AUTOGRAPH_VERBOSITY=10`) and attach the full output. Cause: converting <bound method Conv.call of <tensorflow.python.layers.convolutional.Conv2D object at 0x7f524411a610>>: AssertionError: Bad argument number for Name: 3, expecting 4\n"
     ]
    },
    {
     "name": "stdout",
     "output_type": "stream",
     "text": [
      "WARNING: Entity <bound method Conv.call of <tensorflow.python.layers.convolutional.Conv2D object at 0x7f524411a610>> could not be transformed and will be executed as-is. Please report this to the AutgoGraph team. When filing the bug, set the verbosity to 10 (on Linux, `export AUTOGRAPH_VERBOSITY=10`) and attach the full output. Cause: converting <bound method Conv.call of <tensorflow.python.layers.convolutional.Conv2D object at 0x7f524411a610>>: AssertionError: Bad argument number for Name: 3, expecting 4\n",
      "WARNING:tensorflow:Entity <bound method BatchNormalization.call of <tensorflow.python.layers.normalization.BatchNormalization object at 0x7f52287a0a50>> could not be transformed and will be executed as-is. Please report this to the AutgoGraph team. When filing the bug, set the verbosity to 10 (on Linux, `export AUTOGRAPH_VERBOSITY=10`) and attach the full output. Cause: converting <bound method BatchNormalization.call of <tensorflow.python.layers.normalization.BatchNormalization object at 0x7f52287a0a50>>: AssertionError: Bad argument number for Name: 3, expecting 4\n"
     ]
    },
    {
     "name": "stderr",
     "output_type": "stream",
     "text": [
      "W0705 04:27:59.994973 139997008488192 ag_logging.py:145] Entity <bound method BatchNormalization.call of <tensorflow.python.layers.normalization.BatchNormalization object at 0x7f52287a0a50>> could not be transformed and will be executed as-is. Please report this to the AutgoGraph team. When filing the bug, set the verbosity to 10 (on Linux, `export AUTOGRAPH_VERBOSITY=10`) and attach the full output. Cause: converting <bound method BatchNormalization.call of <tensorflow.python.layers.normalization.BatchNormalization object at 0x7f52287a0a50>>: AssertionError: Bad argument number for Name: 3, expecting 4\n"
     ]
    },
    {
     "name": "stdout",
     "output_type": "stream",
     "text": [
      "WARNING: Entity <bound method BatchNormalization.call of <tensorflow.python.layers.normalization.BatchNormalization object at 0x7f52287a0a50>> could not be transformed and will be executed as-is. Please report this to the AutgoGraph team. When filing the bug, set the verbosity to 10 (on Linux, `export AUTOGRAPH_VERBOSITY=10`) and attach the full output. Cause: converting <bound method BatchNormalization.call of <tensorflow.python.layers.normalization.BatchNormalization object at 0x7f52287a0a50>>: AssertionError: Bad argument number for Name: 3, expecting 4\n",
      "WARNING:tensorflow:Entity <bound method Pooling2D.call of <tensorflow.python.layers.pooling.AveragePooling2D object at 0x7f52c80a5510>> could not be transformed and will be executed as-is. Please report this to the AutgoGraph team. When filing the bug, set the verbosity to 10 (on Linux, `export AUTOGRAPH_VERBOSITY=10`) and attach the full output. Cause: converting <bound method Pooling2D.call of <tensorflow.python.layers.pooling.AveragePooling2D object at 0x7f52c80a5510>>: AssertionError: Bad argument number for Name: 3, expecting 4\n"
     ]
    },
    {
     "name": "stderr",
     "output_type": "stream",
     "text": [
      "W0705 04:28:00.035302 139997008488192 ag_logging.py:145] Entity <bound method Pooling2D.call of <tensorflow.python.layers.pooling.AveragePooling2D object at 0x7f52c80a5510>> could not be transformed and will be executed as-is. Please report this to the AutgoGraph team. When filing the bug, set the verbosity to 10 (on Linux, `export AUTOGRAPH_VERBOSITY=10`) and attach the full output. Cause: converting <bound method Pooling2D.call of <tensorflow.python.layers.pooling.AveragePooling2D object at 0x7f52c80a5510>>: AssertionError: Bad argument number for Name: 3, expecting 4\n"
     ]
    },
    {
     "name": "stdout",
     "output_type": "stream",
     "text": [
      "WARNING: Entity <bound method Pooling2D.call of <tensorflow.python.layers.pooling.AveragePooling2D object at 0x7f52c80a5510>> could not be transformed and will be executed as-is. Please report this to the AutgoGraph team. When filing the bug, set the verbosity to 10 (on Linux, `export AUTOGRAPH_VERBOSITY=10`) and attach the full output. Cause: converting <bound method Pooling2D.call of <tensorflow.python.layers.pooling.AveragePooling2D object at 0x7f52c80a5510>>: AssertionError: Bad argument number for Name: 3, expecting 4\n",
      "WARNING:tensorflow:From /home/hicup/Documents/ad-recommendation/demography/model.py:93: calling dropout (from tensorflow.python.ops.nn_ops) with keep_prob is deprecated and will be removed in a future version.\n",
      "Instructions for updating:\n",
      "Please use `rate` instead of `keep_prob`. Rate should be set to `rate = 1 - keep_prob`.\n"
     ]
    },
    {
     "name": "stderr",
     "output_type": "stream",
     "text": [
      "W0705 04:28:00.038038 139997008488192 deprecation.py:506] From /home/hicup/Documents/ad-recommendation/demography/model.py:93: calling dropout (from tensorflow.python.ops.nn_ops) with keep_prob is deprecated and will be removed in a future version.\n",
      "Instructions for updating:\n",
      "Please use `rate` instead of `keep_prob`. Rate should be set to `rate = 1 - keep_prob`.\n"
     ]
    },
    {
     "name": "stdout",
     "output_type": "stream",
     "text": [
      "WARNING:tensorflow:From /home/hicup/anaconda3/envs/tf_gpu/lib/python3.7/site-packages/tensorflow/contrib/layers/python/layers/layers.py:1634: flatten (from tensorflow.python.layers.core) is deprecated and will be removed in a future version.\n",
      "Instructions for updating:\n",
      "Use keras.layers.flatten instead.\n"
     ]
    },
    {
     "name": "stderr",
     "output_type": "stream",
     "text": [
      "W0705 04:28:00.039008 139997008488192 deprecation.py:323] From /home/hicup/anaconda3/envs/tf_gpu/lib/python3.7/site-packages/tensorflow/contrib/layers/python/layers/layers.py:1634: flatten (from tensorflow.python.layers.core) is deprecated and will be removed in a future version.\n",
      "Instructions for updating:\n",
      "Use keras.layers.flatten instead.\n"
     ]
    },
    {
     "name": "stdout",
     "output_type": "stream",
     "text": [
      "WARNING:tensorflow:Entity <bound method Flatten.call of <tensorflow.python.layers.core.Flatten object at 0x7f524435b3d0>> could not be transformed and will be executed as-is. Please report this to the AutgoGraph team. When filing the bug, set the verbosity to 10 (on Linux, `export AUTOGRAPH_VERBOSITY=10`) and attach the full output. Cause: converting <bound method Flatten.call of <tensorflow.python.layers.core.Flatten object at 0x7f524435b3d0>>: AttributeError: module 'gast' has no attribute 'Num'\n"
     ]
    },
    {
     "name": "stderr",
     "output_type": "stream",
     "text": [
      "W0705 04:28:00.049358 139997008488192 ag_logging.py:145] Entity <bound method Flatten.call of <tensorflow.python.layers.core.Flatten object at 0x7f524435b3d0>> could not be transformed and will be executed as-is. Please report this to the AutgoGraph team. When filing the bug, set the verbosity to 10 (on Linux, `export AUTOGRAPH_VERBOSITY=10`) and attach the full output. Cause: converting <bound method Flatten.call of <tensorflow.python.layers.core.Flatten object at 0x7f524435b3d0>>: AttributeError: module 'gast' has no attribute 'Num'\n"
     ]
    },
    {
     "name": "stdout",
     "output_type": "stream",
     "text": [
      "WARNING: Entity <bound method Flatten.call of <tensorflow.python.layers.core.Flatten object at 0x7f524435b3d0>> could not be transformed and will be executed as-is. Please report this to the AutgoGraph team. When filing the bug, set the verbosity to 10 (on Linux, `export AUTOGRAPH_VERBOSITY=10`) and attach the full output. Cause: converting <bound method Flatten.call of <tensorflow.python.layers.core.Flatten object at 0x7f524435b3d0>>: AttributeError: module 'gast' has no attribute 'Num'\n",
      "WARNING:tensorflow:From /home/hicup/Documents/ad-recommendation/demography/model.py:98: The name tf.truncated_normal is deprecated. Please use tf.random.truncated_normal instead.\n",
      "\n"
     ]
    },
    {
     "name": "stderr",
     "output_type": "stream",
     "text": [
      "W0705 04:28:00.056070 139997008488192 deprecation_wrapper.py:119] From /home/hicup/Documents/ad-recommendation/demography/model.py:98: The name tf.truncated_normal is deprecated. Please use tf.random.truncated_normal instead.\n",
      "\n"
     ]
    },
    {
     "name": "stdout",
     "output_type": "stream",
     "text": [
      "WARNING:tensorflow:From /home/hicup/Documents/ad-recommendation/demography/model.py:54: The name tf.summary.histogram is deprecated. Please use tf.compat.v1.summary.histogram instead.\n",
      "\n"
     ]
    },
    {
     "name": "stderr",
     "output_type": "stream",
     "text": [
      "W0705 04:28:00.063782 139997008488192 deprecation_wrapper.py:119] From /home/hicup/Documents/ad-recommendation/demography/model.py:54: The name tf.summary.histogram is deprecated. Please use tf.compat.v1.summary.histogram instead.\n",
      "\n"
     ]
    },
    {
     "name": "stdout",
     "output_type": "stream",
     "text": [
      "WARNING:tensorflow:From /home/hicup/Documents/ad-recommendation/demography/model.py:55: The name tf.summary.scalar is deprecated. Please use tf.compat.v1.summary.scalar instead.\n",
      "\n"
     ]
    },
    {
     "name": "stderr",
     "output_type": "stream",
     "text": [
      "W0705 04:28:00.065731 139997008488192 deprecation_wrapper.py:119] From /home/hicup/Documents/ad-recommendation/demography/model.py:55: The name tf.summary.scalar is deprecated. Please use tf.compat.v1.summary.scalar instead.\n",
      "\n"
     ]
    },
    {
     "name": "stdout",
     "output_type": "stream",
     "text": [
      "./gender/checkpoint-14999\n",
      "WARNING:tensorflow:From /home/hicup/anaconda3/envs/tf_gpu/lib/python3.7/site-packages/tensorflow/python/training/saver.py:1276: checkpoint_exists (from tensorflow.python.training.checkpoint_management) is deprecated and will be removed in a future version.\n",
      "Instructions for updating:\n",
      "Use standard file APIs to check for files with this prefix.\n"
     ]
    },
    {
     "name": "stderr",
     "output_type": "stream",
     "text": [
      "W0705 04:28:00.282945 139997008488192 deprecation.py:323] From /home/hicup/anaconda3/envs/tf_gpu/lib/python3.7/site-packages/tensorflow/python/training/saver.py:1276: checkpoint_exists (from tensorflow.python.training.checkpoint_management) is deprecated and will be removed in a future version.\n",
      "Instructions for updating:\n",
      "Use standard file APIs to check for files with this prefix.\n"
     ]
    },
    {
     "name": "stdout",
     "output_type": "stream",
     "text": [
      "INFO:tensorflow:Restoring parameters from ./gender/checkpoint-14999\n"
     ]
    },
    {
     "name": "stderr",
     "output_type": "stream",
     "text": [
      "I0705 04:28:00.284930 139997008488192 saver.py:1280] Restoring parameters from ./gender/checkpoint-14999\n"
     ]
    },
    {
     "name": "stdout",
     "output_type": "stream",
     "text": [
      "WARNING:tensorflow:From /home/hicup/Documents/ad-recommendation/demography/utils.py:62: The name tf.ConfigProto is deprecated. Please use tf.compat.v1.ConfigProto instead.\n",
      "\n"
     ]
    },
    {
     "name": "stderr",
     "output_type": "stream",
     "text": [
      "W0705 04:28:00.636212 139997008488192 deprecation_wrapper.py:119] From /home/hicup/Documents/ad-recommendation/demography/utils.py:62: The name tf.ConfigProto is deprecated. Please use tf.compat.v1.ConfigProto instead.\n",
      "\n"
     ]
    },
    {
     "name": "stdout",
     "output_type": "stream",
     "text": [
      "WARNING:tensorflow:From /home/hicup/Documents/ad-recommendation/demography/utils.py:63: The name tf.Session is deprecated. Please use tf.compat.v1.Session instead.\n",
      "\n"
     ]
    },
    {
     "name": "stderr",
     "output_type": "stream",
     "text": [
      "W0705 04:28:00.637531 139997008488192 deprecation_wrapper.py:119] From /home/hicup/Documents/ad-recommendation/demography/utils.py:63: The name tf.Session is deprecated. Please use tf.compat.v1.Session instead.\n",
      "\n"
     ]
    },
    {
     "name": "stdout",
     "output_type": "stream",
     "text": [
      "WARNING:tensorflow:From /home/hicup/Documents/ad-recommendation/demography/utils.py:66: The name tf.placeholder is deprecated. Please use tf.compat.v1.placeholder instead.\n",
      "\n"
     ]
    },
    {
     "name": "stderr",
     "output_type": "stream",
     "text": [
      "W0705 04:28:00.648738 139997008488192 deprecation_wrapper.py:119] From /home/hicup/Documents/ad-recommendation/demography/utils.py:66: The name tf.placeholder is deprecated. Please use tf.compat.v1.placeholder instead.\n",
      "\n"
     ]
    },
    {
     "name": "stdout",
     "output_type": "stream",
     "text": [
      "WARNING:tensorflow:From /home/hicup/Documents/ad-recommendation/demography/utils.py:73: The name tf.image.resize_images is deprecated. Please use tf.image.resize instead.\n",
      "\n"
     ]
    },
    {
     "name": "stderr",
     "output_type": "stream",
     "text": [
      "W0705 04:28:00.652201 139997008488192 deprecation_wrapper.py:119] From /home/hicup/Documents/ad-recommendation/demography/utils.py:73: The name tf.image.resize_images is deprecated. Please use tf.image.resize instead.\n",
      "\n"
     ]
    },
    {
     "name": "stdout",
     "output_type": "stream",
     "text": [
      "['../recommendation/images/chathuranga_22_male_1.png', '../recommendation/images/ishen_15_m_2.png', '../recommendation/images/Anjanee_23_female_2.png', '../recommendation/images/chathuranga_22_male_2.png', '../recommendation/images/sadew_15_m_2.png', '../recommendation/images/Sandul_23_male_1.png', '../recommendation/images/raveesha_male_16_2.png', '../recommendation/images/Lal_64_M_2.png', '../recommendation/images/sadula_22_male_2.png', '../recommendation/images/jeewantha01_2.png', '../recommendation/images/shenal_21_Male_1.png', '../recommendation/images/Sajith_28_male_2.png', '../recommendation/images/Ranumi_9_female_1.png', '../recommendation/images/Lahiru_23_male_1.png', '../recommendation/images/pramodya_15_m_2.png', '../recommendation/images/mithun_6_m_1.png', '../recommendation/images/test123_2.png', '../recommendation/images/Rajitha_22_Male_2.png', '../recommendation/images/dilini_39_Female_1.png', '../recommendation/images/Vimukthi_23_M_1.png', '../recommendation/images/test_1.png', '../recommendation/images/Jerry_24_male_2.png', '../recommendation/images/Harison_87_m_2.png', '../recommendation/images/Dulanjani_1.png', '../recommendation/images/Koshana_23_Male_1.png', '../recommendation/images/t_1.png', '../recommendation/images/Yashmitha_23_Female_2.png', '../recommendation/images/Lasun Anjana_23_m_2.png', '../recommendation/images/Numaya_23_Female_2.png', '../recommendation/images/Dulmini_23__female_2.png', '../recommendation/images/Swarna_53_female_2.png', '../recommendation/images/Ravindu_27_Male_1.png', '../recommendation/images/Meth_11_male_2.png', '../recommendation/images/YaxaSR!_22_M_2.png', '../recommendation/images/jeewantha01_25_male_2.png', '../recommendation/images/Ravindu_23_male_2.png', '../recommendation/images/Thisal 1_22_male_1.png', '../recommendation/images/thejan_14_male_1.png', '../recommendation/images/Ramesha_15_f_1.png', '../recommendation/images/Venura_23_male_1.png', '../recommendation/images/Rajitha_22_Male_1.png', '../recommendation/images/medhavi_25_female_2.png', '../recommendation/images/Chamath_24_male_2.png', '../recommendation/images/gavindu2_20_male_1.png', '../recommendation/images/sandul_23_male_2.png', '../recommendation/images/sankalpa_21_male_2.png', '../recommendation/images/Samadhi_23_female_2.png', '../recommendation/images/nalika_54_female_2.png', '../recommendation/images/kolithakasun@gmail.com_2.png', '../recommendation/images/Thathsarani_24_f_2.png', '../recommendation/images/Yomal_22_male_2.png', '../recommendation/images/Deshani_24_f_1.png', '../recommendation/images/Ridmie_22_female_1.png', '../recommendation/images/Rithma_22_Female_1.png', '../recommendation/images/kalshan_24_male_1.png', '../recommendation/images/medhavi_25_female_1.png', '../recommendation/images/ishara_1_Male_2.png', '../recommendation/images/Tharushika_22_female_2.png', '../recommendation/images/nethul_15_m_1.png', '../recommendation/images/Kavindu__19_m_1.png', '../recommendation/images/chandula_24_female_1.png', '../recommendation/images/ishara_1_Male_1.png', '../recommendation/images/Shalitha_23_male_1.png', '../recommendation/images/Sajeewa_25_male_1.png', '../recommendation/images/Herath_51_female_1.png', '../recommendation/images/Priyanthi_43_f_2.png', '../recommendation/images/sandali_23_female_1.png', '../recommendation/images/Pasindu_22_Male_2.png', '../recommendation/images/Swarna_53_female_1.png', '../recommendation/images/lahiru_23_malexxx_2.png', '../recommendation/images/Shehani_30_female_2.png', '../recommendation/images/Nethmi_23_female_2.png', '../recommendation/images/Maneesha_24_female_2.png', '../recommendation/images/Piyumi_24_F_1.png', '../recommendation/images/tharindra_28_female_2.png', '../recommendation/images/Shehani_30_female_1.png', '../recommendation/images/Hiruni_23_Female_2.png', '../recommendation/images/Nilanthi_50_Female_2.png', '../recommendation/images/mallika_51_female_2.png', '../recommendation/images/Priyantha_50_male_2.png', '../recommendation/images/Ravihari_25_Female_1.png', '../recommendation/images/Yehan_18_male_1.png', '../recommendation/images/nimsara_21_male_1.png', '../recommendation/images/Chulangani_26_Female_1.png', '../recommendation/images/malani_67_female_2.png', '../recommendation/images/lakshan1_24_male_1.png', '../recommendation/images/nadeeka_41_f_2.png', '../recommendation/images/Pasindu_22_Male_1.png', '../recommendation/images/Senura_24_Male_2.png', '../recommendation/images/kumara_49_male_2.png', '../recommendation/images/Chanumi_08_female_1.png', '../recommendation/images/nethmi_22_female_1.png', '../recommendation/images/Bawantha_98_male_2.png', '../recommendation/images/Chathupama_23_female_2.png', '../recommendation/images/Tharindu_27_Male_2.png', '../recommendation/images/Priyantha_50_male_1.png', '../recommendation/images/Rawaar_2.png', '../recommendation/images/ariyavathi_56_female_1.png', '../recommendation/images/Thisal_22_male_1.png', '../recommendation/images/Ayesha_22_female_1.png', '../recommendation/images/Kavindi_24_female_1.png', '../recommendation/images/Ex-Id-Palindi-22-Female_2.png', '../recommendation/images/rreeta_76_female_1.png', '../recommendation/images/mithun_6_m_2.png', '../recommendation/images/Rashmie_15_f_1.png', '../recommendation/images/Irangani_73_f_2.png', '../recommendation/images/kolithakasun@gmail.com_1.png', '../recommendation/images/samanthi_48_female_1.png', '../recommendation/images/Dimuthu_23_Male_2.png', '../recommendation/images/kushani_20_female_1.png', '../recommendation/images/hj_2.png', '../recommendation/images/Kinsly_75_M_2.png', '../recommendation/images/Nayanathara_25_ female _2.png', '../recommendation/images/ashinsana_20_male_1.png', '../recommendation/images/Ex-Id-Palindi-22-Female_1.png', '../recommendation/images/senudi_11_f_2.png', '../recommendation/images/sandul_23_male_1.png', '../recommendation/images/shenal_21_Male_2.png', '../recommendation/images/Shanaka_19_male_1.png', '../recommendation/images/Dinusha_21_male_1.png', '../recommendation/images/Samadhi_23_female_1.png', '../recommendation/images/Yasith_23_male_2.png', '../recommendation/images/kaushalya_23_Female_1.png', '../recommendation/images/Dinukthi_22_Female_1.png', '../recommendation/images/Ravindu_27_Male_2.png', '../recommendation/images/Rochelle_36_Female_1.png', '../recommendation/images/test1_2.png', '../recommendation/images/lahiru_23_malexxx_1.png', '../recommendation/images/sadula_22_,ale_2.png', '../recommendation/images/Vishmi_20-female_2.png', '../recommendation/images/Pamudu_21_Male_2.png', '../recommendation/images/kumara_49_male_1.png', '../recommendation/images/xzcxz_1.png', '../recommendation/images/Wojithma_20_female_1.png', '../recommendation/images/Tharushika_22_female_1.png', '../recommendation/images/Chamal_25_male_2.png', '../recommendation/images/chathurangani_35_female_1.png', '../recommendation/images/pubudu_23_male_1.png', '../recommendation/images/Chamal_25_male_1.png', '../recommendation/images/Anjalee-22-Female_2.png', '../recommendation/images/Mihiri_24_f_1.png', '../recommendation/images/Deshani_24_Female_1.png', '../recommendation/images/Sameera_27_male_2.png', '../recommendation/images/Priyanthi_43_f_1.png', '../recommendation/images/Kanchana_52_female_2.png', '../recommendation/images/test_23_male_2.png', '../recommendation/images/Ranula_24_M_2.png', '../recommendation/images/nadeeka_41_f_1.png', '../recommendation/images/pramodya_16_m_2.png', '../recommendation/images/Desilva_23_M_1.png', '../recommendation/images/Sudesha_24_male_1.png', '../recommendation/images/sadew_15_m_1.png', '../recommendation/images/dewdun_15_m_2.png', '../recommendation/images/sachindu_23_male_2.png', '../recommendation/images/Pasindu_23_male_1.png', '../recommendation/images/Lakshika_24_m_1.png', '../recommendation/images/Deshani_24_f_2.png', '../recommendation/images/Maneesha_24_female_1.png', '../recommendation/images/sankalpa1_21_male_2.png', '../recommendation/images/mallika_51_female_1.png', '../recommendation/images/Dilmi_22_female_2.png', '../recommendation/images/sithira_22_male_2.png', '../recommendation/images/Pasindu_23_male_2.png', '../recommendation/images/Tharindu_27_Male_1.png', '../recommendation/images/Thisal 1_22_male_2.png', '../recommendation/images/Shanaka_19_male_2.png', '../recommendation/images/Nirmani_24_female_2.png', '../recommendation/images/Wojithma_20_female_2.png', '../recommendation/images/sameera_32_male_1.png', '../recommendation/images/Gkarunawathi_74_female_1.png', '../recommendation/images/Anjalee-22-Female_1.png', '../recommendation/images/Nilanthi_50_Female_1.png', '../recommendation/images/raveesha_male_16_1.png', '../recommendation/images/sadula_22_male_1.png', '../recommendation/images/jeewantha01_1.png', '../recommendation/images/Harison_87_m_1.png', '../recommendation/images/Anusha_56_f_2.png', '../recommendation/images/Oshadie_24_female_2.png', '../recommendation/images/samanthi_48_female_2.png', '../recommendation/images/ravindu_23_male_2.png', '../recommendation/images/Thushan_25_Male_2.png', '../recommendation/images/milith_23_M_1.png', '../recommendation/images/Jayasinghe_51_Female_2.png', '../recommendation/images/Ramesha_15_f_2.png', '../recommendation/images/samuki_19_female_2.png', '../recommendation/images/enoka_53_female_1.png', '../recommendation/images/Haritha_22_male_2.png', '../recommendation/images/Deshani_24_F_2.png', '../recommendation/images/Dilmi_22_female_1.png', '../recommendation/images/Malith_29_male_1.png', '../recommendation/images/sithira_22_male_1.png', '../recommendation/images/dasun_23_male_2.png', '../recommendation/images/Ridmie_22_female_2.png', '../recommendation/images/Mishara_23_M_2.png', '../recommendation/images/DImtharu_09_M_1.png', '../recommendation/images/Venuri_22_female_2.png', '../recommendation/images/rasika_53_female_1.png', '../recommendation/images/Kamani_51_female_1.png', '../recommendation/images/Lahiru_23_male_2.png', '../recommendation/images/Himantha, 22, Male_2.png', '../recommendation/images/Hansi_21_female_1.png', '../recommendation/images/nirosha_46_f_2.png', '../recommendation/images/Nethmi_23_Female_1.png', '../recommendation/images/gavindu_21_male_1.png', '../recommendation/images/xzcxz_2.png', '../recommendation/images/nimeshi_20_female_2.png', '../recommendation/images/Kavishka_24_male_1.png', '../recommendation/images/Rashmika_23_male_2.png', '../recommendation/images/Lakshika_24_m_2.png', '../recommendation/images/Chanumi_08_female_2.png', '../recommendation/images/Lasindu_30_Male_2.png', '../recommendation/images/sankalpa_21_male_1.png', '../recommendation/images/madumi_23_female _1.png', '../recommendation/images/Malith_29_male_2.png', '../recommendation/images/Vinodya_22_female_1.png', '../recommendation/images/Lakshan 27 m_1.png', '../recommendation/images/Ravindu_23_male_1.png', '../recommendation/images/Kavindu__19_m_2.png', '../recommendation/images/amana_14_female_2.png', '../recommendation/images/Ranji_65_F_1.png', '../recommendation/images/pramodya_15_m_1.png', '../recommendation/images/thilina_23_male_2.png', '../recommendation/images/Rochelle_36_Female_2.png', '../recommendation/images/sadun_20_male_1.png', '../recommendation/images/Mishara_23_M_1.png', '../recommendation/images/Lakshan 27 m_2.png', '../recommendation/images/Dilakshika_23_female_1.png', '../recommendation/images/Numaya_23_Female_1.png', '../recommendation/images/sandula_22_male_1.png', '../recommendation/images/Tharaka_24_male_2.png', '../recommendation/images/Kasun_2.png', '../recommendation/images/Supun_22_Male_1.png', '../recommendation/images/Rashmie_15_f_2.png', '../recommendation/images/Dinu_25_f_2.png', '../recommendation/images/nandana_23_male _1.png', '../recommendation/images/Chathurni_21_Female_1.png', '../recommendation/images/nethmi_22_female_2.png', '../recommendation/images/Nethma_24_Female_2.png', '../recommendation/images/chathurangani_35_female_2.png', '../recommendation/images/Nawod_23_male_2.png', '../recommendation/images/Nipuna_25_male_1.png', '../recommendation/images/Piyumi_24_F_2.png', '../recommendation/images/nalika_54_female_1.png', '../recommendation/images/enoka_53_female_2.png', '../recommendation/images/Koshana_23_Male_2.png', '../recommendation/images/nimsara1_21_male_1.png', '../recommendation/images/test_2.png', '../recommendation/images/sandali_23_female_2.png', '../recommendation/images/hj_1.png', '../recommendation/images/nimsara1_21_male_2.png', '../recommendation/images/ariyavathi_56_female_2.png', '../recommendation/images/Chathurni_21_Female_2.png', '../recommendation/images/gavindu2_20_male_2.png', '../recommendation/images/Kamani_51_female_2.png', '../recommendation/images/Nethmi_23_Female_2.png', '../recommendation/images/Dinuka_17_male_1.png', '../recommendation/images/sadun_20_male_2.png', '../recommendation/images/geethanjali_41_female_1.png', '../recommendation/images/sameera_32_male_2.png', '../recommendation/images/jeewantha01_25_male_1.png', '../recommendation/images/dilini_39_Female_2.png', '../recommendation/images/sachindu_23_male_1.png', '../recommendation/images/hasitha_23_male_1.png', '../recommendation/images/test_23_male_1.png', '../recommendation/images/Kavindi_24_female_2.png', '../recommendation/images/Hansi_21_female_2.png', '../recommendation/images/Himashi_23_female _2.png', '../recommendation/images/Yomal_22_male_1.png', '../recommendation/images/Chulangani_26_Female_2.png', '../recommendation/images/Vimukthi_23_M_2.png', '../recommendation/images/Chamath_24_male_1.png', '../recommendation/images/Dinu_25_f_1.png', '../recommendation/images/hasitha_23_male_2.png', '../recommendation/images/Dinuka_23_male_2.png', '../recommendation/images/Oshadie_24_female_1.png', '../recommendation/images/rr_2.png', '../recommendation/images/dinil_20_male_1.png', '../recommendation/images/Kanchana_52_female_1.png', '../recommendation/images/kalshan_24_male_2.png', '../recommendation/images/nethul_15_m_2.png', '../recommendation/images/Buddhika_2.png', '../recommendation/images/Ranji_65_F_2.png', '../recommendation/images/Padma_77_F_1.png', '../recommendation/images/Yasith_23_male_1.png', '../recommendation/images/Sameera_27_male_1.png', '../recommendation/images/Himantha_26_Male_1.png', '../recommendation/images/Thilini1_25_1.png', '../recommendation/images/Ranumi_9_female_2.png', '../recommendation/images/vishvakumara_21_male_1.png', '../recommendation/images/Herath_51_female_2.png', '../recommendation/images/Sajeewa_25_male_2.png', '../recommendation/images/Supun_22_Male_2.png', '../recommendation/images/Rawaar_1.png', '../recommendation/images/Venura_23_male_2.png', '../recommendation/images/Rashmika_23_male_1.png', '../recommendation/images/Kumudu_55_female_1.png', '../recommendation/images/manuja_22_male_2.png', '../recommendation/images/Oshadi_21_Female_1.png', '../recommendation/images/malani_67_female_1.png', '../recommendation/images/gavindu_21_male_2.png', '../recommendation/images/Udayanga_22_male_1.png', '../recommendation/images/Ayesha_22_female_2.png', '../recommendation/images/Irangani_73_f_1.png', '../recommendation/images/test1_1.png', '../recommendation/images/Sathsara_24_Male_1.png', '../recommendation/images/senura_15_m_1.png', '../recommendation/images/Hiruni_23_Female_1.png', '../recommendation/images/Shalitha_23_male_2.png', '../recommendation/images/Pamudu_21_Male_1.png', '../recommendation/images/Dimuthu_23_Male_1.png', '../recommendation/images/milith_23_M_2.png', '../recommendation/images/dylon_20_male_2.png', '../recommendation/images/samuki_19_female_1.png', '../recommendation/images/Thilini1_25_2.png', '../recommendation/images/Mihiri_24_f_2.png', '../recommendation/images/nirosha_46_f_1.png', '../recommendation/images/Oshadi_21_Female_2.png', '../recommendation/images/sarath_72_male_1.png', '../recommendation/images/aravindi_25_female_1.png', '../recommendation/images/tharindra_28_female_1.png', '../recommendation/images/Kavishka_24_male_2.png', '../recommendation/images/Tharaka_24_male_1.png', '../recommendation/images/Sanuli_12_female_1.png', '../recommendation/images/sankalpa1_21_male_1.png', '../recommendation/images/aravindi_25_female_2.png', '../recommendation/images/madumi_23_female _2.png', '../recommendation/images/Venuri_22_female_1.png', '../recommendation/images/sarath_72_male_2.png', '../recommendation/images/Thathsarani_24_f_1.png', '../recommendation/images/Sriyani_55_female_1.png', '../recommendation/images/test123_1.png', '../recommendation/images/dasun_23_male_1.png', '../recommendation/images/Nayanathara_25_ female _1.png', '../recommendation/images/nimsara_21_male_2.png', '../recommendation/images/Dinuka_17_male_2.png', '../recommendation/images/Sandul_23_male_2.png', '../recommendation/images/Akasha_12_Female_2.png', '../recommendation/images/geethanjali_41_female_2.png', '../recommendation/images/sadula_22_,ale_1.png', '../recommendation/images/rasika_53_female_2.png', '../recommendation/images/champica_52_female_1.png', '../recommendation/images/Padma_77_F_2.png', '../recommendation/images/Udayanga_22_male_2.png', '../recommendation/images/Deshani_24_Female_2.png', '../recommendation/images/Rithma_22_Female_2.png', '../recommendation/images/Nethmi_19_Female_1.png', '../recommendation/images/Nawod_23_male_1.png', '../recommendation/images/Dinukthi_22_Female_2.png', '../recommendation/images/Dulmini_23__female_1.png', '../recommendation/images/Yashmitha_23_Female_1.png', '../recommendation/images/Omethma_12_female_2.png', '../recommendation/images/Kinsly_75_M_1.png', '../recommendation/images/Haritha_22_male_1.png', '../recommendation/images/pramodya_16_m_1.png', '../recommendation/images/Sajith_28_male_1.png', '../recommendation/images/ashinsana_20_male_2.png', '../recommendation/images/Lal_64_M_1.png', '../recommendation/images/Nethmi_19_Female_2.png', '../recommendation/images/supun_23_male_1.png', '../recommendation/images/lakshan1_24_male_2.png', '../recommendation/images/Sanuli_12_female_2.png', '../recommendation/images/Himantha, 22, Male_1.png', '../recommendation/images/Nirmal_23_male_2.png', '../recommendation/images/Akasha_12_Female_1.png', '../recommendation/images/Nirmani_24_female_1.png', '../recommendation/images/Lasindu_30_Male_1.png', '../recommendation/images/Kasun_1.png', '../recommendation/images/Meth_11_male_1.png', '../recommendation/images/Ravihari_25_Female_2.png', '../recommendation/images/sandula_22_male_2.png', '../recommendation/images/Thisal_22_male_2.png', '../recommendation/images/Ranula_24_M_1.png', '../recommendation/images/dewdun_15_m_1.png', '../recommendation/images/pubudu_23_male_2.png', '../recommendation/images/amana_14_female_1.png', '../recommendation/images/Dulanjani_2.png', '../recommendation/images/Anusha_56_f_1.png', '../recommendation/images/Sriyani_55_female_2.png', '../recommendation/images/kaushalya_23_Female_2.png', '../recommendation/images/Senura_24_Male_1.png', '../recommendation/images/Himashi_23_female _1.png', '../recommendation/images/Chathupama_23_female_1.png', '../recommendation/images/Vishwa_16_m_2.png', '../recommendation/images/DImtharu_09_M_2.png', '../recommendation/images/senura_15_m_2.png', '../recommendation/images/Jayasinghe_51_Female_1.png', '../recommendation/images/Desilva_23_M_2.png', '../recommendation/images/Dilith_24_Male_1.png', '../recommendation/images/Dinuka_23_male_1.png', '../recommendation/images/thejan_14_male_2.png', '../recommendation/images/Thushan_25_Male_1.png', '../recommendation/images/rreeta_76_female_2.png', '../recommendation/images/rr_1.png', '../recommendation/images/Yehan_18_male_2.png', '../recommendation/images/Vishwa_16_m_1.png', '../recommendation/images/Buddhima4_21_male_1.png', '../recommendation/images/Supun_23_male_2.png', '../recommendation/images/Vinodya_22_female_2.png', '../recommendation/images/YaxaSR!_22_M_1.png', '../recommendation/images/champica_52_female_2.png', '../recommendation/images/nimeshi_20_female_1.png', '../recommendation/images/Himantha_26_Male_2.png', '../recommendation/images/Supun_23_male_1.png', '../recommendation/images/Anjana_95_Male_1.png', '../recommendation/images/t_2.png', '../recommendation/images/kushani_20_female_2.png', '../recommendation/images/senudi_11_f_1.png', '../recommendation/images/vishvakumara_21_male_2.png', '../recommendation/images/manuja_22_male_1.png', '../recommendation/images/ravindu_23_male_1.png', '../recommendation/images/chandula_24_female_2.png', '../recommendation/images/Anjanee_23_female_1.png', '../recommendation/images/Sudesha_24_male_2.png', '../recommendation/images/Nethma_24_Female_1.png', '../recommendation/images/Sanjana_20_male_2.png', '../recommendation/images/Anjana_95_Male_2.png', '../recommendation/images/Jerry_24_male_1.png', '../recommendation/images/ishen_15_m_1.png', '../recommendation/images/dylon_20_male_1.png', '../recommendation/images/Bawantha_98_male_1.png', '../recommendation/images/Sathsara_24_Male_2.png', '../recommendation/images/dinil_20_male_2.png', '../recommendation/images/Vishmi_20-female_1.png', '../recommendation/images/Buddhika_1.png', '../recommendation/images/Dilakshika_23_female_2.png', '../recommendation/images/thilina_23_male_1.png', '../recommendation/images/Dilith_24_Male_2.png', '../recommendation/images/supun_23_male_2.png', '../recommendation/images/Omethma_12_female_1.png', '../recommendation/images/Nethmi_23_female_1.png', '../recommendation/images/nandana_23_male _2.png', '../recommendation/images/Buddhima4_21_male_2.png', '../recommendation/images/Nirmal_23_male_1.png', '../recommendation/images/Gkarunawathi_74_female_2.png', '../recommendation/images/Deshani_24_F_1.png', '../recommendation/images/Lasun Anjana_23_m_1.png', '../recommendation/images/Sanjana_20_male_1.png', '../recommendation/images/Nipuna_25_male_2.png', '../recommendation/images/Kumudu_55_female_2.png', '../recommendation/images/Dinusha_21_male_2.png']\n",
      "Running file ../recommendation/images/chathuranga_22_male_1.png\n",
      "WARNING:tensorflow:From /home/hicup/Documents/ad-recommendation/demography/utils.py:133: FastGFile.__init__ (from tensorflow.python.platform.gfile) is deprecated and will be removed in a future version.\n",
      "Instructions for updating:\n",
      "Use tf.gfile.GFile.\n"
     ]
    },
    {
     "name": "stderr",
     "output_type": "stream",
     "text": [
      "W0705 04:28:00.656938 139997008488192 deprecation.py:323] From /home/hicup/Documents/ad-recommendation/demography/utils.py:133: FastGFile.__init__ (from tensorflow.python.platform.gfile) is deprecated and will be removed in a future version.\n",
      "Instructions for updating:\n",
      "Use tf.gfile.GFile.\n"
     ]
    },
    {
     "name": "stdout",
     "output_type": "stream",
     "text": [
      "Converting PNG to JPEG for ../recommendation/images/chathuranga_22_male_1.png\n",
      "Running multi-cropped image\n",
      "WARNING:tensorflow:From /home/hicup/anaconda3/envs/tf_gpu/lib/python3.7/site-packages/tensorflow/python/ops/image_ops_impl.py:1514: div (from tensorflow.python.ops.math_ops) is deprecated and will be removed in a future version.\n",
      "Instructions for updating:\n",
      "Deprecated in favor of operator or tf.math.divide.\n"
     ]
    },
    {
     "name": "stderr",
     "output_type": "stream",
     "text": [
      "W0705 04:28:00.790529 139997008488192 deprecation.py:323] From /home/hicup/anaconda3/envs/tf_gpu/lib/python3.7/site-packages/tensorflow/python/ops/image_ops_impl.py:1514: div (from tensorflow.python.ops.math_ops) is deprecated and will be removed in a future version.\n",
      "Instructions for updating:\n",
      "Deprecated in favor of operator or tf.math.divide.\n"
     ]
    },
    {
     "name": "stdout",
     "output_type": "stream",
     "text": [
      "Guess @ 1 M, prob = 0.91\n",
      "Running file ../recommendation/images/ishen_15_m_2.png\n",
      "Converting PNG to JPEG for ../recommendation/images/ishen_15_m_2.png\n",
      "Running multi-cropped image\n",
      "Guess @ 1 M, prob = 1.00\n",
      "Running file ../recommendation/images/Anjanee_23_female_2.png\n",
      "Converting PNG to JPEG for ../recommendation/images/Anjanee_23_female_2.png\n",
      "Running multi-cropped image\n",
      "Guess @ 1 F, prob = 1.00\n",
      "Running file ../recommendation/images/chathuranga_22_male_2.png\n",
      "Converting PNG to JPEG for ../recommendation/images/chathuranga_22_male_2.png\n",
      "Running multi-cropped image\n",
      "Guess @ 1 M, prob = 0.92\n",
      "Running file ../recommendation/images/sadew_15_m_2.png\n",
      "Converting PNG to JPEG for ../recommendation/images/sadew_15_m_2.png\n",
      "Running multi-cropped image\n",
      "Guess @ 1 M, prob = 1.00\n",
      "Running file ../recommendation/images/Sandul_23_male_1.png\n",
      "Converting PNG to JPEG for ../recommendation/images/Sandul_23_male_1.png\n",
      "Running multi-cropped image\n",
      "Guess @ 1 M, prob = 0.92\n",
      "Running file ../recommendation/images/raveesha_male_16_2.png\n",
      "Converting PNG to JPEG for ../recommendation/images/raveesha_male_16_2.png\n",
      "Running multi-cropped image\n",
      "Guess @ 1 M, prob = 0.99\n",
      "Running file ../recommendation/images/Lal_64_M_2.png\n",
      "Converting PNG to JPEG for ../recommendation/images/Lal_64_M_2.png\n",
      "Running multi-cropped image\n",
      "Guess @ 1 F, prob = 0.75\n",
      "Running file ../recommendation/images/sadula_22_male_2.png\n",
      "Converting PNG to JPEG for ../recommendation/images/sadula_22_male_2.png\n",
      "Running multi-cropped image\n",
      "Guess @ 1 M, prob = 1.00\n",
      "Running file ../recommendation/images/jeewantha01_2.png\n",
      "Converting PNG to JPEG for ../recommendation/images/jeewantha01_2.png\n",
      "Running multi-cropped image\n",
      "Guess @ 1 M, prob = 0.98\n",
      "Running file ../recommendation/images/shenal_21_Male_1.png\n",
      "Converting PNG to JPEG for ../recommendation/images/shenal_21_Male_1.png\n",
      "Running multi-cropped image\n",
      "Guess @ 1 M, prob = 1.00\n",
      "Running file ../recommendation/images/Sajith_28_male_2.png\n",
      "Converting PNG to JPEG for ../recommendation/images/Sajith_28_male_2.png\n",
      "Running multi-cropped image\n",
      "Guess @ 1 M, prob = 0.70\n",
      "Running file ../recommendation/images/Ranumi_9_female_1.png\n",
      "Converting PNG to JPEG for ../recommendation/images/Ranumi_9_female_1.png\n",
      "Running multi-cropped image\n",
      "Guess @ 1 F, prob = 0.82\n",
      "Running file ../recommendation/images/Lahiru_23_male_1.png\n",
      "Converting PNG to JPEG for ../recommendation/images/Lahiru_23_male_1.png\n",
      "Running multi-cropped image\n",
      "Guess @ 1 M, prob = 1.00\n",
      "Running file ../recommendation/images/pramodya_15_m_2.png\n",
      "Converting PNG to JPEG for ../recommendation/images/pramodya_15_m_2.png\n",
      "Running multi-cropped image\n",
      "Guess @ 1 M, prob = 0.98\n",
      "Running file ../recommendation/images/mithun_6_m_1.png\n",
      "Converting PNG to JPEG for ../recommendation/images/mithun_6_m_1.png\n",
      "Running multi-cropped image\n",
      "Guess @ 1 M, prob = 0.88\n",
      "Running file ../recommendation/images/test123_2.png\n",
      "Converting PNG to JPEG for ../recommendation/images/test123_2.png\n",
      "Running multi-cropped image\n",
      "Guess @ 1 F, prob = 0.97\n",
      "Running file ../recommendation/images/Rajitha_22_Male_2.png\n",
      "Converting PNG to JPEG for ../recommendation/images/Rajitha_22_Male_2.png\n",
      "Running multi-cropped image\n",
      "Guess @ 1 M, prob = 0.88\n",
      "Running file ../recommendation/images/dilini_39_Female_1.png\n",
      "Converting PNG to JPEG for ../recommendation/images/dilini_39_Female_1.png\n",
      "Running multi-cropped image\n",
      "Guess @ 1 M, prob = 0.58\n",
      "Running file ../recommendation/images/Vimukthi_23_M_1.png\n",
      "Converting PNG to JPEG for ../recommendation/images/Vimukthi_23_M_1.png\n",
      "Running multi-cropped image\n",
      "Guess @ 1 M, prob = 0.99\n",
      "Running file ../recommendation/images/test_1.png\n",
      "Converting PNG to JPEG for ../recommendation/images/test_1.png\n",
      "Running multi-cropped image\n",
      "Guess @ 1 M, prob = 1.00\n",
      "Running file ../recommendation/images/Jerry_24_male_2.png\n",
      "Converting PNG to JPEG for ../recommendation/images/Jerry_24_male_2.png\n",
      "Running multi-cropped image\n",
      "Guess @ 1 M, prob = 1.00\n",
      "Running file ../recommendation/images/Harison_87_m_2.png\n",
      "Converting PNG to JPEG for ../recommendation/images/Harison_87_m_2.png\n",
      "Running multi-cropped image\n",
      "Guess @ 1 M, prob = 0.84\n",
      "Running file ../recommendation/images/Dulanjani_1.png\n",
      "Converting PNG to JPEG for ../recommendation/images/Dulanjani_1.png\n",
      "Running multi-cropped image\n",
      "Guess @ 1 F, prob = 0.83\n",
      "Running file ../recommendation/images/Koshana_23_Male_1.png\n",
      "Converting PNG to JPEG for ../recommendation/images/Koshana_23_Male_1.png\n",
      "Running multi-cropped image\n",
      "Guess @ 1 M, prob = 0.98\n",
      "Running file ../recommendation/images/t_1.png\n",
      "Converting PNG to JPEG for ../recommendation/images/t_1.png\n",
      "Running multi-cropped image\n",
      "Guess @ 1 F, prob = 0.52\n",
      "Running file ../recommendation/images/Yashmitha_23_Female_2.png\n",
      "Converting PNG to JPEG for ../recommendation/images/Yashmitha_23_Female_2.png\n",
      "Running multi-cropped image\n",
      "Guess @ 1 F, prob = 0.63\n",
      "Running file ../recommendation/images/Lasun Anjana_23_m_2.png\n",
      "Converting PNG to JPEG for ../recommendation/images/Lasun Anjana_23_m_2.png\n",
      "Running multi-cropped image\n",
      "Guess @ 1 M, prob = 0.94\n",
      "Running file ../recommendation/images/Numaya_23_Female_2.png\n",
      "Converting PNG to JPEG for ../recommendation/images/Numaya_23_Female_2.png\n",
      "Running multi-cropped image\n",
      "Guess @ 1 F, prob = 1.00\n",
      "Running file ../recommendation/images/Dulmini_23__female_2.png\n",
      "Converting PNG to JPEG for ../recommendation/images/Dulmini_23__female_2.png\n",
      "Running multi-cropped image\n",
      "Guess @ 1 F, prob = 1.00\n",
      "Running file ../recommendation/images/Swarna_53_female_2.png\n",
      "Converting PNG to JPEG for ../recommendation/images/Swarna_53_female_2.png\n",
      "Running multi-cropped image\n",
      "Guess @ 1 M, prob = 0.80\n",
      "Running file ../recommendation/images/Ravindu_27_Male_1.png\n",
      "Converting PNG to JPEG for ../recommendation/images/Ravindu_27_Male_1.png\n",
      "Running multi-cropped image\n",
      "Guess @ 1 M, prob = 1.00\n",
      "Running file ../recommendation/images/Meth_11_male_2.png\n",
      "Converting PNG to JPEG for ../recommendation/images/Meth_11_male_2.png\n",
      "Running multi-cropped image\n",
      "Guess @ 1 M, prob = 0.55\n",
      "Running file ../recommendation/images/YaxaSR!_22_M_2.png\n",
      "Converting PNG to JPEG for ../recommendation/images/YaxaSR!_22_M_2.png\n",
      "Running multi-cropped image\n",
      "Guess @ 1 F, prob = 0.97\n",
      "Running file ../recommendation/images/jeewantha01_25_male_2.png\n",
      "Converting PNG to JPEG for ../recommendation/images/jeewantha01_25_male_2.png\n",
      "Running multi-cropped image\n",
      "Guess @ 1 M, prob = 1.00\n",
      "Running file ../recommendation/images/Ravindu_23_male_2.png\n",
      "Converting PNG to JPEG for ../recommendation/images/Ravindu_23_male_2.png\n",
      "Running multi-cropped image\n",
      "Guess @ 1 M, prob = 0.97\n",
      "Running file ../recommendation/images/Thisal 1_22_male_1.png\n",
      "Converting PNG to JPEG for ../recommendation/images/Thisal 1_22_male_1.png\n",
      "Running multi-cropped image\n",
      "Guess @ 1 M, prob = 0.99\n",
      "Running file ../recommendation/images/thejan_14_male_1.png\n",
      "Converting PNG to JPEG for ../recommendation/images/thejan_14_male_1.png\n",
      "Running multi-cropped image\n",
      "Guess @ 1 M, prob = 0.81\n",
      "Running file ../recommendation/images/Ramesha_15_f_1.png\n",
      "Converting PNG to JPEG for ../recommendation/images/Ramesha_15_f_1.png\n",
      "Running multi-cropped image\n",
      "Guess @ 1 M, prob = 0.93\n",
      "Running file ../recommendation/images/Venura_23_male_1.png\n",
      "Converting PNG to JPEG for ../recommendation/images/Venura_23_male_1.png\n",
      "Running multi-cropped image\n",
      "Guess @ 1 M, prob = 1.00\n",
      "Running file ../recommendation/images/Rajitha_22_Male_1.png\n",
      "Converting PNG to JPEG for ../recommendation/images/Rajitha_22_Male_1.png\n",
      "Running multi-cropped image\n",
      "Guess @ 1 M, prob = 0.69\n",
      "Running file ../recommendation/images/medhavi_25_female_2.png\n",
      "Converting PNG to JPEG for ../recommendation/images/medhavi_25_female_2.png\n",
      "Running multi-cropped image\n",
      "Guess @ 1 F, prob = 1.00\n",
      "Running file ../recommendation/images/Chamath_24_male_2.png\n",
      "Converting PNG to JPEG for ../recommendation/images/Chamath_24_male_2.png\n",
      "Running multi-cropped image\n",
      "Guess @ 1 M, prob = 1.00\n",
      "Running file ../recommendation/images/gavindu2_20_male_1.png\n",
      "Converting PNG to JPEG for ../recommendation/images/gavindu2_20_male_1.png\n",
      "Running multi-cropped image\n",
      "Guess @ 1 F, prob = 0.75\n",
      "Running file ../recommendation/images/sandul_23_male_2.png\n",
      "Converting PNG to JPEG for ../recommendation/images/sandul_23_male_2.png\n",
      "Running multi-cropped image\n",
      "Guess @ 1 M, prob = 1.00\n",
      "Running file ../recommendation/images/sankalpa_21_male_2.png\n",
      "Converting PNG to JPEG for ../recommendation/images/sankalpa_21_male_2.png\n"
     ]
    },
    {
     "name": "stdout",
     "output_type": "stream",
     "text": [
      "Running multi-cropped image\n",
      "Guess @ 1 M, prob = 1.00\n",
      "Running file ../recommendation/images/Samadhi_23_female_2.png\n",
      "Converting PNG to JPEG for ../recommendation/images/Samadhi_23_female_2.png\n",
      "Running multi-cropped image\n",
      "Guess @ 1 F, prob = 1.00\n",
      "Running file ../recommendation/images/nalika_54_female_2.png\n",
      "Converting PNG to JPEG for ../recommendation/images/nalika_54_female_2.png\n",
      "Running multi-cropped image\n",
      "Guess @ 1 F, prob = 0.70\n",
      "Running file ../recommendation/images/kolithakasun@gmail.com_2.png\n",
      "Converting PNG to JPEG for ../recommendation/images/kolithakasun@gmail.com_2.png\n",
      "Running multi-cropped image\n",
      "Guess @ 1 M, prob = 0.97\n",
      "Running file ../recommendation/images/Thathsarani_24_f_2.png\n",
      "Converting PNG to JPEG for ../recommendation/images/Thathsarani_24_f_2.png\n",
      "Running multi-cropped image\n",
      "Guess @ 1 F, prob = 1.00\n",
      "Running file ../recommendation/images/Yomal_22_male_2.png\n",
      "Converting PNG to JPEG for ../recommendation/images/Yomal_22_male_2.png\n",
      "Running multi-cropped image\n",
      "Guess @ 1 M, prob = 0.80\n",
      "Running file ../recommendation/images/Deshani_24_f_1.png\n",
      "Converting PNG to JPEG for ../recommendation/images/Deshani_24_f_1.png\n",
      "Running multi-cropped image\n",
      "Guess @ 1 F, prob = 1.00\n",
      "Running file ../recommendation/images/Ridmie_22_female_1.png\n",
      "Converting PNG to JPEG for ../recommendation/images/Ridmie_22_female_1.png\n",
      "Running multi-cropped image\n",
      "Guess @ 1 F, prob = 1.00\n",
      "Running file ../recommendation/images/Rithma_22_Female_1.png\n",
      "Converting PNG to JPEG for ../recommendation/images/Rithma_22_Female_1.png\n",
      "Running multi-cropped image\n",
      "Guess @ 1 F, prob = 1.00\n",
      "Running file ../recommendation/images/kalshan_24_male_1.png\n",
      "Converting PNG to JPEG for ../recommendation/images/kalshan_24_male_1.png\n",
      "Running multi-cropped image\n",
      "Guess @ 1 M, prob = 1.00\n",
      "Running file ../recommendation/images/medhavi_25_female_1.png\n",
      "Converting PNG to JPEG for ../recommendation/images/medhavi_25_female_1.png\n",
      "Running multi-cropped image\n",
      "Guess @ 1 F, prob = 1.00\n",
      "Running file ../recommendation/images/ishara_1_Male_2.png\n",
      "Converting PNG to JPEG for ../recommendation/images/ishara_1_Male_2.png\n",
      "Running multi-cropped image\n",
      "Guess @ 1 M, prob = 1.00\n",
      "Running file ../recommendation/images/Tharushika_22_female_2.png\n",
      "Converting PNG to JPEG for ../recommendation/images/Tharushika_22_female_2.png\n",
      "Running multi-cropped image\n",
      "Guess @ 1 F, prob = 0.99\n",
      "Running file ../recommendation/images/nethul_15_m_1.png\n",
      "Converting PNG to JPEG for ../recommendation/images/nethul_15_m_1.png\n",
      "Running multi-cropped image\n",
      "Guess @ 1 M, prob = 0.66\n",
      "Running file ../recommendation/images/Kavindu__19_m_1.png\n",
      "Converting PNG to JPEG for ../recommendation/images/Kavindu__19_m_1.png\n",
      "Running multi-cropped image\n",
      "Guess @ 1 M, prob = 0.95\n",
      "Running file ../recommendation/images/chandula_24_female_1.png\n",
      "Converting PNG to JPEG for ../recommendation/images/chandula_24_female_1.png\n",
      "Running multi-cropped image\n",
      "Guess @ 1 F, prob = 1.00\n",
      "Running file ../recommendation/images/ishara_1_Male_1.png\n",
      "Converting PNG to JPEG for ../recommendation/images/ishara_1_Male_1.png\n",
      "Running multi-cropped image\n",
      "Guess @ 1 M, prob = 1.00\n",
      "Running file ../recommendation/images/Shalitha_23_male_1.png\n",
      "Converting PNG to JPEG for ../recommendation/images/Shalitha_23_male_1.png\n",
      "Running multi-cropped image\n",
      "Guess @ 1 M, prob = 0.97\n",
      "Running file ../recommendation/images/Sajeewa_25_male_1.png\n",
      "Converting PNG to JPEG for ../recommendation/images/Sajeewa_25_male_1.png\n",
      "Running multi-cropped image\n",
      "Guess @ 1 M, prob = 1.00\n",
      "Running file ../recommendation/images/Herath_51_female_1.png\n",
      "Converting PNG to JPEG for ../recommendation/images/Herath_51_female_1.png\n",
      "Running multi-cropped image\n",
      "Guess @ 1 M, prob = 0.70\n",
      "Running file ../recommendation/images/Priyanthi_43_f_2.png\n",
      "Converting PNG to JPEG for ../recommendation/images/Priyanthi_43_f_2.png\n",
      "Running multi-cropped image\n",
      "Guess @ 1 F, prob = 0.73\n",
      "Running file ../recommendation/images/sandali_23_female_1.png\n",
      "Converting PNG to JPEG for ../recommendation/images/sandali_23_female_1.png\n",
      "Running multi-cropped image\n",
      "Guess @ 1 F, prob = 1.00\n",
      "Running file ../recommendation/images/Pasindu_22_Male_2.png\n",
      "Converting PNG to JPEG for ../recommendation/images/Pasindu_22_Male_2.png\n",
      "Running multi-cropped image\n",
      "Guess @ 1 F, prob = 0.63\n",
      "Running file ../recommendation/images/Swarna_53_female_1.png\n",
      "Converting PNG to JPEG for ../recommendation/images/Swarna_53_female_1.png\n",
      "Running multi-cropped image\n",
      "Guess @ 1 M, prob = 0.89\n",
      "Running file ../recommendation/images/lahiru_23_malexxx_2.png\n",
      "Converting PNG to JPEG for ../recommendation/images/lahiru_23_malexxx_2.png\n",
      "Running multi-cropped image\n",
      "Guess @ 1 F, prob = 0.52\n",
      "Running file ../recommendation/images/Shehani_30_female_2.png\n",
      "Converting PNG to JPEG for ../recommendation/images/Shehani_30_female_2.png\n",
      "Running multi-cropped image\n",
      "Guess @ 1 F, prob = 0.60\n",
      "Running file ../recommendation/images/Nethmi_23_female_2.png\n",
      "Converting PNG to JPEG for ../recommendation/images/Nethmi_23_female_2.png\n",
      "Running multi-cropped image\n",
      "Guess @ 1 F, prob = 0.84\n",
      "Running file ../recommendation/images/Maneesha_24_female_2.png\n",
      "Converting PNG to JPEG for ../recommendation/images/Maneesha_24_female_2.png\n",
      "Running multi-cropped image\n",
      "Guess @ 1 F, prob = 1.00\n",
      "Running file ../recommendation/images/Piyumi_24_F_1.png\n",
      "Converting PNG to JPEG for ../recommendation/images/Piyumi_24_F_1.png\n",
      "Running multi-cropped image\n",
      "Guess @ 1 F, prob = 0.51\n",
      "Running file ../recommendation/images/tharindra_28_female_2.png\n",
      "Converting PNG to JPEG for ../recommendation/images/tharindra_28_female_2.png\n",
      "Running multi-cropped image\n",
      "Guess @ 1 F, prob = 1.00\n",
      "Running file ../recommendation/images/Shehani_30_female_1.png\n",
      "Converting PNG to JPEG for ../recommendation/images/Shehani_30_female_1.png\n",
      "Running multi-cropped image\n",
      "Guess @ 1 F, prob = 0.64\n",
      "Running file ../recommendation/images/Hiruni_23_Female_2.png\n",
      "Converting PNG to JPEG for ../recommendation/images/Hiruni_23_Female_2.png\n",
      "Running multi-cropped image\n",
      "Guess @ 1 F, prob = 0.97\n",
      "Running file ../recommendation/images/Nilanthi_50_Female_2.png\n",
      "Converting PNG to JPEG for ../recommendation/images/Nilanthi_50_Female_2.png\n",
      "Running multi-cropped image\n",
      "Guess @ 1 F, prob = 0.61\n",
      "Running file ../recommendation/images/mallika_51_female_2.png\n",
      "Converting PNG to JPEG for ../recommendation/images/mallika_51_female_2.png\n",
      "Running multi-cropped image\n",
      "Guess @ 1 M, prob = 0.90\n",
      "Running file ../recommendation/images/Priyantha_50_male_2.png\n",
      "Converting PNG to JPEG for ../recommendation/images/Priyantha_50_male_2.png\n",
      "Running multi-cropped image\n",
      "Guess @ 1 F, prob = 0.61\n",
      "Running file ../recommendation/images/Ravihari_25_Female_1.png\n",
      "Converting PNG to JPEG for ../recommendation/images/Ravihari_25_Female_1.png\n",
      "Running multi-cropped image\n",
      "Guess @ 1 F, prob = 1.00\n",
      "Running file ../recommendation/images/Yehan_18_male_1.png\n",
      "Converting PNG to JPEG for ../recommendation/images/Yehan_18_male_1.png\n",
      "Running multi-cropped image\n",
      "Guess @ 1 M, prob = 1.00\n",
      "Running file ../recommendation/images/nimsara_21_male_1.png\n",
      "Converting PNG to JPEG for ../recommendation/images/nimsara_21_male_1.png\n",
      "Running multi-cropped image\n",
      "Guess @ 1 M, prob = 0.97\n",
      "Running file ../recommendation/images/Chulangani_26_Female_1.png\n",
      "Converting PNG to JPEG for ../recommendation/images/Chulangani_26_Female_1.png\n",
      "Running multi-cropped image\n",
      "Guess @ 1 F, prob = 1.00\n",
      "Running file ../recommendation/images/malani_67_female_2.png\n",
      "Converting PNG to JPEG for ../recommendation/images/malani_67_female_2.png\n",
      "Running multi-cropped image\n",
      "Guess @ 1 F, prob = 0.72\n",
      "Running file ../recommendation/images/lakshan1_24_male_1.png\n",
      "Converting PNG to JPEG for ../recommendation/images/lakshan1_24_male_1.png\n",
      "Running multi-cropped image\n",
      "Guess @ 1 M, prob = 0.99\n",
      "Running file ../recommendation/images/nadeeka_41_f_2.png\n",
      "Converting PNG to JPEG for ../recommendation/images/nadeeka_41_f_2.png\n",
      "Running multi-cropped image\n",
      "Guess @ 1 F, prob = 0.68\n",
      "Running file ../recommendation/images/Pasindu_22_Male_1.png\n",
      "Converting PNG to JPEG for ../recommendation/images/Pasindu_22_Male_1.png\n",
      "Running multi-cropped image\n",
      "Guess @ 1 M, prob = 0.56\n",
      "Running file ../recommendation/images/Senura_24_Male_2.png\n",
      "Converting PNG to JPEG for ../recommendation/images/Senura_24_Male_2.png\n",
      "Running multi-cropped image\n",
      "Guess @ 1 M, prob = 0.99\n",
      "Running file ../recommendation/images/kumara_49_male_2.png\n",
      "Converting PNG to JPEG for ../recommendation/images/kumara_49_male_2.png\n"
     ]
    },
    {
     "name": "stdout",
     "output_type": "stream",
     "text": [
      "Running multi-cropped image\n",
      "Guess @ 1 F, prob = 0.52\n",
      "Running file ../recommendation/images/Chanumi_08_female_1.png\n",
      "Converting PNG to JPEG for ../recommendation/images/Chanumi_08_female_1.png\n",
      "Running multi-cropped image\n",
      "Guess @ 1 M, prob = 0.99\n",
      "Running file ../recommendation/images/nethmi_22_female_1.png\n",
      "Converting PNG to JPEG for ../recommendation/images/nethmi_22_female_1.png\n",
      "Running multi-cropped image\n",
      "Guess @ 1 F, prob = 0.90\n",
      "Running file ../recommendation/images/Bawantha_98_male_2.png\n",
      "Converting PNG to JPEG for ../recommendation/images/Bawantha_98_male_2.png\n",
      "Running multi-cropped image\n",
      "Guess @ 1 M, prob = 0.90\n",
      "Running file ../recommendation/images/Chathupama_23_female_2.png\n",
      "Converting PNG to JPEG for ../recommendation/images/Chathupama_23_female_2.png\n",
      "Running multi-cropped image\n",
      "Guess @ 1 F, prob = 0.98\n",
      "Running file ../recommendation/images/Tharindu_27_Male_2.png\n",
      "Converting PNG to JPEG for ../recommendation/images/Tharindu_27_Male_2.png\n",
      "Running multi-cropped image\n",
      "Guess @ 1 M, prob = 1.00\n",
      "Running file ../recommendation/images/Priyantha_50_male_1.png\n",
      "Converting PNG to JPEG for ../recommendation/images/Priyantha_50_male_1.png\n",
      "Running multi-cropped image\n",
      "Guess @ 1 F, prob = 0.56\n",
      "Running file ../recommendation/images/Rawaar_2.png\n",
      "Converting PNG to JPEG for ../recommendation/images/Rawaar_2.png\n",
      "Running multi-cropped image\n",
      "Guess @ 1 M, prob = 0.68\n",
      "Running file ../recommendation/images/ariyavathi_56_female_1.png\n",
      "Converting PNG to JPEG for ../recommendation/images/ariyavathi_56_female_1.png\n",
      "Running multi-cropped image\n",
      "Guess @ 1 M, prob = 0.99\n",
      "Running file ../recommendation/images/Thisal_22_male_1.png\n",
      "Converting PNG to JPEG for ../recommendation/images/Thisal_22_male_1.png\n",
      "Running multi-cropped image\n",
      "Guess @ 1 M, prob = 1.00\n",
      "Running file ../recommendation/images/Ayesha_22_female_1.png\n",
      "Converting PNG to JPEG for ../recommendation/images/Ayesha_22_female_1.png\n",
      "Running multi-cropped image\n",
      "Guess @ 1 F, prob = 0.98\n",
      "Running file ../recommendation/images/Kavindi_24_female_1.png\n",
      "Converting PNG to JPEG for ../recommendation/images/Kavindi_24_female_1.png\n",
      "Running multi-cropped image\n",
      "Guess @ 1 M, prob = 0.57\n",
      "Running file ../recommendation/images/Ex-Id-Palindi-22-Female_2.png\n",
      "Converting PNG to JPEG for ../recommendation/images/Ex-Id-Palindi-22-Female_2.png\n",
      "Running multi-cropped image\n",
      "Guess @ 1 F, prob = 0.68\n",
      "Running file ../recommendation/images/rreeta_76_female_1.png\n",
      "Converting PNG to JPEG for ../recommendation/images/rreeta_76_female_1.png\n",
      "Running multi-cropped image\n",
      "Guess @ 1 M, prob = 0.87\n",
      "Running file ../recommendation/images/mithun_6_m_2.png\n",
      "Converting PNG to JPEG for ../recommendation/images/mithun_6_m_2.png\n",
      "Running multi-cropped image\n",
      "Guess @ 1 M, prob = 0.90\n",
      "Running file ../recommendation/images/Rashmie_15_f_1.png\n",
      "Converting PNG to JPEG for ../recommendation/images/Rashmie_15_f_1.png\n",
      "Running multi-cropped image\n",
      "Guess @ 1 F, prob = 1.00\n",
      "Running file ../recommendation/images/Irangani_73_f_2.png\n",
      "Converting PNG to JPEG for ../recommendation/images/Irangani_73_f_2.png\n",
      "Running multi-cropped image\n",
      "Guess @ 1 M, prob = 1.00\n",
      "Running file ../recommendation/images/kolithakasun@gmail.com_1.png\n",
      "Converting PNG to JPEG for ../recommendation/images/kolithakasun@gmail.com_1.png\n",
      "Running multi-cropped image\n",
      "Guess @ 1 M, prob = 1.00\n",
      "Running file ../recommendation/images/samanthi_48_female_1.png\n",
      "Converting PNG to JPEG for ../recommendation/images/samanthi_48_female_1.png\n",
      "Running multi-cropped image\n",
      "Guess @ 1 F, prob = 0.72\n",
      "Running file ../recommendation/images/Dimuthu_23_Male_2.png\n",
      "Converting PNG to JPEG for ../recommendation/images/Dimuthu_23_Male_2.png\n",
      "Running multi-cropped image\n",
      "Guess @ 1 M, prob = 0.90\n",
      "Running file ../recommendation/images/kushani_20_female_1.png\n",
      "Converting PNG to JPEG for ../recommendation/images/kushani_20_female_1.png\n",
      "Running multi-cropped image\n",
      "Guess @ 1 F, prob = 0.80\n",
      "Running file ../recommendation/images/hj_2.png\n",
      "Converting PNG to JPEG for ../recommendation/images/hj_2.png\n",
      "Running multi-cropped image\n",
      "Guess @ 1 M, prob = 0.99\n",
      "Running file ../recommendation/images/Kinsly_75_M_2.png\n",
      "Converting PNG to JPEG for ../recommendation/images/Kinsly_75_M_2.png\n",
      "Running multi-cropped image\n",
      "Guess @ 1 M, prob = 0.94\n",
      "Running file ../recommendation/images/Nayanathara_25_ female _2.png\n",
      "Converting PNG to JPEG for ../recommendation/images/Nayanathara_25_ female _2.png\n",
      "Running multi-cropped image\n",
      "Guess @ 1 F, prob = 0.65\n",
      "Running file ../recommendation/images/ashinsana_20_male_1.png\n",
      "Converting PNG to JPEG for ../recommendation/images/ashinsana_20_male_1.png\n",
      "Running multi-cropped image\n",
      "Guess @ 1 M, prob = 0.87\n",
      "Running file ../recommendation/images/Ex-Id-Palindi-22-Female_1.png\n",
      "Converting PNG to JPEG for ../recommendation/images/Ex-Id-Palindi-22-Female_1.png\n",
      "Running multi-cropped image\n",
      "Guess @ 1 F, prob = 0.61\n",
      "Running file ../recommendation/images/senudi_11_f_2.png\n",
      "Converting PNG to JPEG for ../recommendation/images/senudi_11_f_2.png\n",
      "Running multi-cropped image\n",
      "Guess @ 1 F, prob = 0.73\n",
      "Running file ../recommendation/images/sandul_23_male_1.png\n",
      "Converting PNG to JPEG for ../recommendation/images/sandul_23_male_1.png\n",
      "Running multi-cropped image\n",
      "Guess @ 1 M, prob = 0.93\n",
      "Running file ../recommendation/images/shenal_21_Male_2.png\n",
      "Converting PNG to JPEG for ../recommendation/images/shenal_21_Male_2.png\n",
      "Running multi-cropped image\n",
      "Guess @ 1 M, prob = 1.00\n",
      "Running file ../recommendation/images/Shanaka_19_male_1.png\n",
      "Converting PNG to JPEG for ../recommendation/images/Shanaka_19_male_1.png\n",
      "Running multi-cropped image\n",
      "Guess @ 1 M, prob = 0.99\n",
      "Running file ../recommendation/images/Dinusha_21_male_1.png\n",
      "Converting PNG to JPEG for ../recommendation/images/Dinusha_21_male_1.png\n",
      "Running multi-cropped image\n",
      "Guess @ 1 M, prob = 0.99\n",
      "Running file ../recommendation/images/Samadhi_23_female_1.png\n",
      "Converting PNG to JPEG for ../recommendation/images/Samadhi_23_female_1.png\n",
      "Running multi-cropped image\n",
      "Guess @ 1 M, prob = 0.72\n",
      "Running file ../recommendation/images/Yasith_23_male_2.png\n",
      "Converting PNG to JPEG for ../recommendation/images/Yasith_23_male_2.png\n",
      "Running multi-cropped image\n",
      "Guess @ 1 M, prob = 1.00\n",
      "Running file ../recommendation/images/kaushalya_23_Female_1.png\n",
      "Converting PNG to JPEG for ../recommendation/images/kaushalya_23_Female_1.png\n",
      "Running multi-cropped image\n",
      "Guess @ 1 F, prob = 0.83\n",
      "Running file ../recommendation/images/Dinukthi_22_Female_1.png\n",
      "Converting PNG to JPEG for ../recommendation/images/Dinukthi_22_Female_1.png\n",
      "Running multi-cropped image\n",
      "Guess @ 1 F, prob = 0.86\n",
      "Running file ../recommendation/images/Ravindu_27_Male_2.png\n",
      "Converting PNG to JPEG for ../recommendation/images/Ravindu_27_Male_2.png\n",
      "Running multi-cropped image\n",
      "Guess @ 1 M, prob = 1.00\n",
      "Running file ../recommendation/images/Rochelle_36_Female_1.png\n",
      "Converting PNG to JPEG for ../recommendation/images/Rochelle_36_Female_1.png\n",
      "Running multi-cropped image\n",
      "Guess @ 1 F, prob = 0.83\n",
      "Running file ../recommendation/images/test1_2.png\n",
      "Converting PNG to JPEG for ../recommendation/images/test1_2.png\n",
      "Running multi-cropped image\n",
      "Guess @ 1 M, prob = 1.00\n",
      "Running file ../recommendation/images/lahiru_23_malexxx_1.png\n",
      "Converting PNG to JPEG for ../recommendation/images/lahiru_23_malexxx_1.png\n",
      "Running multi-cropped image\n",
      "Guess @ 1 F, prob = 0.57\n",
      "Running file ../recommendation/images/sadula_22_,ale_2.png\n",
      "Converting PNG to JPEG for ../recommendation/images/sadula_22_,ale_2.png\n",
      "Running multi-cropped image\n",
      "Guess @ 1 M, prob = 1.00\n",
      "Running file ../recommendation/images/Vishmi_20-female_2.png\n",
      "Converting PNG to JPEG for ../recommendation/images/Vishmi_20-female_2.png\n",
      "Running multi-cropped image\n",
      "Guess @ 1 F, prob = 0.92\n",
      "Running file ../recommendation/images/Pamudu_21_Male_2.png\n",
      "Converting PNG to JPEG for ../recommendation/images/Pamudu_21_Male_2.png\n",
      "Running multi-cropped image\n",
      "Guess @ 1 M, prob = 0.99\n",
      "Running file ../recommendation/images/kumara_49_male_1.png\n",
      "Converting PNG to JPEG for ../recommendation/images/kumara_49_male_1.png\n",
      "Running multi-cropped image\n",
      "Guess @ 1 F, prob = 0.72\n",
      "Running file ../recommendation/images/xzcxz_1.png\n",
      "Converting PNG to JPEG for ../recommendation/images/xzcxz_1.png\n",
      "Running multi-cropped image\n",
      "Guess @ 1 M, prob = 1.00\n",
      "Running file ../recommendation/images/Wojithma_20_female_1.png\n",
      "Converting PNG to JPEG for ../recommendation/images/Wojithma_20_female_1.png\n"
     ]
    },
    {
     "name": "stdout",
     "output_type": "stream",
     "text": [
      "Running multi-cropped image\n",
      "Guess @ 1 M, prob = 0.74\n",
      "Running file ../recommendation/images/Tharushika_22_female_1.png\n",
      "Converting PNG to JPEG for ../recommendation/images/Tharushika_22_female_1.png\n",
      "Running multi-cropped image\n",
      "Guess @ 1 F, prob = 1.00\n",
      "Running file ../recommendation/images/Chamal_25_male_2.png\n",
      "Converting PNG to JPEG for ../recommendation/images/Chamal_25_male_2.png\n",
      "Running multi-cropped image\n",
      "Guess @ 1 M, prob = 1.00\n",
      "Running file ../recommendation/images/chathurangani_35_female_1.png\n",
      "Converting PNG to JPEG for ../recommendation/images/chathurangani_35_female_1.png\n",
      "Running multi-cropped image\n",
      "Guess @ 1 M, prob = 0.86\n",
      "Running file ../recommendation/images/pubudu_23_male_1.png\n",
      "Converting PNG to JPEG for ../recommendation/images/pubudu_23_male_1.png\n",
      "Running multi-cropped image\n",
      "Guess @ 1 M, prob = 0.96\n",
      "Running file ../recommendation/images/Chamal_25_male_1.png\n",
      "Converting PNG to JPEG for ../recommendation/images/Chamal_25_male_1.png\n",
      "Running multi-cropped image\n",
      "Guess @ 1 M, prob = 1.00\n",
      "Running file ../recommendation/images/Anjalee-22-Female_2.png\n",
      "Converting PNG to JPEG for ../recommendation/images/Anjalee-22-Female_2.png\n",
      "Running multi-cropped image\n",
      "Guess @ 1 F, prob = 1.00\n",
      "Running file ../recommendation/images/Mihiri_24_f_1.png\n",
      "Converting PNG to JPEG for ../recommendation/images/Mihiri_24_f_1.png\n",
      "Running multi-cropped image\n",
      "Guess @ 1 F, prob = 0.95\n",
      "Running file ../recommendation/images/Deshani_24_Female_1.png\n",
      "Converting PNG to JPEG for ../recommendation/images/Deshani_24_Female_1.png\n",
      "Running multi-cropped image\n",
      "Guess @ 1 F, prob = 1.00\n",
      "Running file ../recommendation/images/Sameera_27_male_2.png\n",
      "Converting PNG to JPEG for ../recommendation/images/Sameera_27_male_2.png\n",
      "Running multi-cropped image\n",
      "Guess @ 1 M, prob = 0.98\n",
      "Running file ../recommendation/images/Priyanthi_43_f_1.png\n",
      "Converting PNG to JPEG for ../recommendation/images/Priyanthi_43_f_1.png\n",
      "Running multi-cropped image\n",
      "Guess @ 1 F, prob = 0.95\n",
      "Running file ../recommendation/images/Kanchana_52_female_2.png\n",
      "Converting PNG to JPEG for ../recommendation/images/Kanchana_52_female_2.png\n",
      "Running multi-cropped image\n",
      "Guess @ 1 M, prob = 0.84\n",
      "Running file ../recommendation/images/test_23_male_2.png\n",
      "Converting PNG to JPEG for ../recommendation/images/test_23_male_2.png\n",
      "Running multi-cropped image\n",
      "Guess @ 1 M, prob = 1.00\n",
      "Running file ../recommendation/images/Ranula_24_M_2.png\n",
      "Converting PNG to JPEG for ../recommendation/images/Ranula_24_M_2.png\n",
      "Running multi-cropped image\n",
      "Guess @ 1 M, prob = 1.00\n",
      "Running file ../recommendation/images/nadeeka_41_f_1.png\n",
      "Converting PNG to JPEG for ../recommendation/images/nadeeka_41_f_1.png\n",
      "Running multi-cropped image\n",
      "Guess @ 1 F, prob = 0.68\n",
      "Running file ../recommendation/images/pramodya_16_m_2.png\n",
      "Converting PNG to JPEG for ../recommendation/images/pramodya_16_m_2.png\n",
      "Running multi-cropped image\n",
      "Guess @ 1 M, prob = 0.94\n",
      "Running file ../recommendation/images/Desilva_23_M_1.png\n",
      "Converting PNG to JPEG for ../recommendation/images/Desilva_23_M_1.png\n",
      "Running multi-cropped image\n",
      "Guess @ 1 M, prob = 1.00\n",
      "Running file ../recommendation/images/Sudesha_24_male_1.png\n",
      "Converting PNG to JPEG for ../recommendation/images/Sudesha_24_male_1.png\n",
      "Running multi-cropped image\n",
      "Guess @ 1 M, prob = 1.00\n",
      "Running file ../recommendation/images/sadew_15_m_1.png\n",
      "Converting PNG to JPEG for ../recommendation/images/sadew_15_m_1.png\n",
      "Running multi-cropped image\n",
      "Guess @ 1 M, prob = 0.99\n",
      "Running file ../recommendation/images/dewdun_15_m_2.png\n",
      "Converting PNG to JPEG for ../recommendation/images/dewdun_15_m_2.png\n",
      "Running multi-cropped image\n",
      "Guess @ 1 M, prob = 0.92\n",
      "Running file ../recommendation/images/sachindu_23_male_2.png\n",
      "Converting PNG to JPEG for ../recommendation/images/sachindu_23_male_2.png\n",
      "Running multi-cropped image\n",
      "Guess @ 1 M, prob = 0.55\n",
      "Running file ../recommendation/images/Pasindu_23_male_1.png\n",
      "Converting PNG to JPEG for ../recommendation/images/Pasindu_23_male_1.png\n",
      "Running multi-cropped image\n",
      "Guess @ 1 M, prob = 1.00\n",
      "Running file ../recommendation/images/Lakshika_24_m_1.png\n",
      "Converting PNG to JPEG for ../recommendation/images/Lakshika_24_m_1.png\n",
      "Running multi-cropped image\n",
      "Guess @ 1 M, prob = 1.00\n",
      "Running file ../recommendation/images/Deshani_24_f_2.png\n",
      "Converting PNG to JPEG for ../recommendation/images/Deshani_24_f_2.png\n",
      "Running multi-cropped image\n",
      "Guess @ 1 F, prob = 1.00\n",
      "Running file ../recommendation/images/Maneesha_24_female_1.png\n",
      "Converting PNG to JPEG for ../recommendation/images/Maneesha_24_female_1.png\n",
      "Running multi-cropped image\n",
      "Guess @ 1 F, prob = 1.00\n",
      "Running file ../recommendation/images/sankalpa1_21_male_2.png\n",
      "Converting PNG to JPEG for ../recommendation/images/sankalpa1_21_male_2.png\n",
      "Running multi-cropped image\n",
      "Guess @ 1 M, prob = 1.00\n",
      "Running file ../recommendation/images/mallika_51_female_1.png\n",
      "Converting PNG to JPEG for ../recommendation/images/mallika_51_female_1.png\n",
      "Running multi-cropped image\n",
      "Guess @ 1 M, prob = 0.63\n",
      "Running file ../recommendation/images/Dilmi_22_female_2.png\n",
      "Converting PNG to JPEG for ../recommendation/images/Dilmi_22_female_2.png\n",
      "Running multi-cropped image\n",
      "Guess @ 1 F, prob = 1.00\n",
      "Running file ../recommendation/images/sithira_22_male_2.png\n",
      "Converting PNG to JPEG for ../recommendation/images/sithira_22_male_2.png\n",
      "Running multi-cropped image\n",
      "Guess @ 1 M, prob = 1.00\n",
      "Running file ../recommendation/images/Pasindu_23_male_2.png\n",
      "Converting PNG to JPEG for ../recommendation/images/Pasindu_23_male_2.png\n",
      "Running multi-cropped image\n",
      "Guess @ 1 M, prob = 1.00\n",
      "Running file ../recommendation/images/Tharindu_27_Male_1.png\n",
      "Converting PNG to JPEG for ../recommendation/images/Tharindu_27_Male_1.png\n",
      "Running multi-cropped image\n",
      "Guess @ 1 M, prob = 1.00\n",
      "Running file ../recommendation/images/Thisal 1_22_male_2.png\n",
      "Converting PNG to JPEG for ../recommendation/images/Thisal 1_22_male_2.png\n",
      "Running multi-cropped image\n",
      "Guess @ 1 M, prob = 1.00\n",
      "Running file ../recommendation/images/Shanaka_19_male_2.png\n",
      "Converting PNG to JPEG for ../recommendation/images/Shanaka_19_male_2.png\n",
      "Running multi-cropped image\n",
      "Guess @ 1 M, prob = 0.99\n",
      "Running file ../recommendation/images/Nirmani_24_female_2.png\n",
      "Converting PNG to JPEG for ../recommendation/images/Nirmani_24_female_2.png\n",
      "Running multi-cropped image\n",
      "Guess @ 1 M, prob = 0.54\n",
      "Running file ../recommendation/images/Wojithma_20_female_2.png\n",
      "Converting PNG to JPEG for ../recommendation/images/Wojithma_20_female_2.png\n",
      "Running multi-cropped image\n",
      "Guess @ 1 M, prob = 0.53\n",
      "Running file ../recommendation/images/sameera_32_male_1.png\n",
      "Converting PNG to JPEG for ../recommendation/images/sameera_32_male_1.png\n",
      "Running multi-cropped image\n",
      "Guess @ 1 M, prob = 0.92\n",
      "Running file ../recommendation/images/Gkarunawathi_74_female_1.png\n",
      "Converting PNG to JPEG for ../recommendation/images/Gkarunawathi_74_female_1.png\n",
      "Running multi-cropped image\n",
      "Guess @ 1 M, prob = 1.00\n",
      "Running file ../recommendation/images/Anjalee-22-Female_1.png\n",
      "Converting PNG to JPEG for ../recommendation/images/Anjalee-22-Female_1.png\n",
      "Running multi-cropped image\n",
      "Guess @ 1 F, prob = 1.00\n",
      "Running file ../recommendation/images/Nilanthi_50_Female_1.png\n",
      "Converting PNG to JPEG for ../recommendation/images/Nilanthi_50_Female_1.png\n",
      "Running multi-cropped image\n",
      "Guess @ 1 F, prob = 0.61\n",
      "Running file ../recommendation/images/raveesha_male_16_1.png\n",
      "Converting PNG to JPEG for ../recommendation/images/raveesha_male_16_1.png\n",
      "Running multi-cropped image\n",
      "Guess @ 1 M, prob = 1.00\n",
      "Running file ../recommendation/images/sadula_22_male_1.png\n",
      "Converting PNG to JPEG for ../recommendation/images/sadula_22_male_1.png\n",
      "Running multi-cropped image\n",
      "Guess @ 1 M, prob = 1.00\n",
      "Running file ../recommendation/images/jeewantha01_1.png\n",
      "Converting PNG to JPEG for ../recommendation/images/jeewantha01_1.png\n",
      "Running multi-cropped image\n",
      "Guess @ 1 M, prob = 1.00\n",
      "Running file ../recommendation/images/Harison_87_m_1.png\n",
      "Converting PNG to JPEG for ../recommendation/images/Harison_87_m_1.png\n",
      "Running multi-cropped image\n",
      "Guess @ 1 M, prob = 0.81\n",
      "Running file ../recommendation/images/Anusha_56_f_2.png\n",
      "Converting PNG to JPEG for ../recommendation/images/Anusha_56_f_2.png\n",
      "Running multi-cropped image\n",
      "Guess @ 1 M, prob = 0.73\n",
      "Running file ../recommendation/images/Oshadie_24_female_2.png\n",
      "Converting PNG to JPEG for ../recommendation/images/Oshadie_24_female_2.png\n"
     ]
    },
    {
     "name": "stdout",
     "output_type": "stream",
     "text": [
      "Running multi-cropped image\n",
      "Guess @ 1 F, prob = 1.00\n",
      "Running file ../recommendation/images/samanthi_48_female_2.png\n",
      "Converting PNG to JPEG for ../recommendation/images/samanthi_48_female_2.png\n",
      "Running multi-cropped image\n",
      "Guess @ 1 F, prob = 0.52\n",
      "Running file ../recommendation/images/ravindu_23_male_2.png\n",
      "Converting PNG to JPEG for ../recommendation/images/ravindu_23_male_2.png\n",
      "Running multi-cropped image\n",
      "Guess @ 1 M, prob = 0.90\n",
      "Running file ../recommendation/images/Thushan_25_Male_2.png\n",
      "Converting PNG to JPEG for ../recommendation/images/Thushan_25_Male_2.png\n",
      "Running multi-cropped image\n",
      "Guess @ 1 F, prob = 0.62\n",
      "Running file ../recommendation/images/milith_23_M_1.png\n",
      "Converting PNG to JPEG for ../recommendation/images/milith_23_M_1.png\n",
      "Running multi-cropped image\n",
      "Guess @ 1 M, prob = 1.00\n",
      "Running file ../recommendation/images/Jayasinghe_51_Female_2.png\n",
      "Converting PNG to JPEG for ../recommendation/images/Jayasinghe_51_Female_2.png\n",
      "Running multi-cropped image\n",
      "Guess @ 1 F, prob = 0.98\n",
      "Running file ../recommendation/images/Ramesha_15_f_2.png\n",
      "Converting PNG to JPEG for ../recommendation/images/Ramesha_15_f_2.png\n",
      "Running multi-cropped image\n",
      "Guess @ 1 M, prob = 0.97\n",
      "Running file ../recommendation/images/samuki_19_female_2.png\n",
      "Converting PNG to JPEG for ../recommendation/images/samuki_19_female_2.png\n",
      "Running multi-cropped image\n",
      "Guess @ 1 M, prob = 0.52\n",
      "Running file ../recommendation/images/enoka_53_female_1.png\n",
      "Converting PNG to JPEG for ../recommendation/images/enoka_53_female_1.png\n",
      "Running multi-cropped image\n",
      "Guess @ 1 M, prob = 0.99\n",
      "Running file ../recommendation/images/Haritha_22_male_2.png\n",
      "Converting PNG to JPEG for ../recommendation/images/Haritha_22_male_2.png\n",
      "Running multi-cropped image\n",
      "Guess @ 1 M, prob = 0.98\n",
      "Running file ../recommendation/images/Deshani_24_F_2.png\n",
      "Converting PNG to JPEG for ../recommendation/images/Deshani_24_F_2.png\n",
      "Running multi-cropped image\n",
      "Guess @ 1 F, prob = 1.00\n",
      "Running file ../recommendation/images/Dilmi_22_female_1.png\n",
      "Converting PNG to JPEG for ../recommendation/images/Dilmi_22_female_1.png\n",
      "Running multi-cropped image\n",
      "Guess @ 1 F, prob = 1.00\n",
      "Running file ../recommendation/images/Malith_29_male_1.png\n",
      "Converting PNG to JPEG for ../recommendation/images/Malith_29_male_1.png\n",
      "Running multi-cropped image\n",
      "Guess @ 1 M, prob = 1.00\n",
      "Running file ../recommendation/images/sithira_22_male_1.png\n",
      "Converting PNG to JPEG for ../recommendation/images/sithira_22_male_1.png\n",
      "Running multi-cropped image\n",
      "Guess @ 1 M, prob = 1.00\n",
      "Running file ../recommendation/images/dasun_23_male_2.png\n",
      "Converting PNG to JPEG for ../recommendation/images/dasun_23_male_2.png\n",
      "Running multi-cropped image\n",
      "Guess @ 1 M, prob = 1.00\n",
      "Running file ../recommendation/images/Ridmie_22_female_2.png\n",
      "Converting PNG to JPEG for ../recommendation/images/Ridmie_22_female_2.png\n",
      "Running multi-cropped image\n",
      "Guess @ 1 F, prob = 0.65\n",
      "Running file ../recommendation/images/Mishara_23_M_2.png\n",
      "Converting PNG to JPEG for ../recommendation/images/Mishara_23_M_2.png\n",
      "Running multi-cropped image\n",
      "Guess @ 1 M, prob = 1.00\n",
      "Running file ../recommendation/images/DImtharu_09_M_1.png\n",
      "Converting PNG to JPEG for ../recommendation/images/DImtharu_09_M_1.png\n",
      "Running multi-cropped image\n",
      "Guess @ 1 M, prob = 1.00\n",
      "Running file ../recommendation/images/Venuri_22_female_2.png\n",
      "Converting PNG to JPEG for ../recommendation/images/Venuri_22_female_2.png\n",
      "Running multi-cropped image\n",
      "Guess @ 1 F, prob = 0.99\n",
      "Running file ../recommendation/images/rasika_53_female_1.png\n",
      "Converting PNG to JPEG for ../recommendation/images/rasika_53_female_1.png\n",
      "Running multi-cropped image\n",
      "Guess @ 1 F, prob = 1.00\n",
      "Running file ../recommendation/images/Kamani_51_female_1.png\n",
      "Converting PNG to JPEG for ../recommendation/images/Kamani_51_female_1.png\n",
      "Running multi-cropped image\n",
      "Guess @ 1 F, prob = 0.99\n",
      "Running file ../recommendation/images/Lahiru_23_male_2.png\n",
      "Converting PNG to JPEG for ../recommendation/images/Lahiru_23_male_2.png\n",
      "Running multi-cropped image\n",
      "Guess @ 1 M, prob = 0.99\n",
      "Running file ../recommendation/images/Himantha, 22, Male_2.png\n",
      "Converting PNG to JPEG for ../recommendation/images/Himantha, 22, Male_2.png\n",
      "Running multi-cropped image\n",
      "Guess @ 1 M, prob = 1.00\n",
      "Running file ../recommendation/images/Hansi_21_female_1.png\n",
      "Converting PNG to JPEG for ../recommendation/images/Hansi_21_female_1.png\n",
      "Running multi-cropped image\n",
      "Guess @ 1 F, prob = 0.83\n",
      "Running file ../recommendation/images/nirosha_46_f_2.png\n",
      "Converting PNG to JPEG for ../recommendation/images/nirosha_46_f_2.png\n",
      "Running multi-cropped image\n",
      "Guess @ 1 F, prob = 1.00\n",
      "Running file ../recommendation/images/Nethmi_23_Female_1.png\n",
      "Converting PNG to JPEG for ../recommendation/images/Nethmi_23_Female_1.png\n",
      "Running multi-cropped image\n",
      "Guess @ 1 F, prob = 0.99\n",
      "Running file ../recommendation/images/gavindu_21_male_1.png\n",
      "Converting PNG to JPEG for ../recommendation/images/gavindu_21_male_1.png\n",
      "Running multi-cropped image\n",
      "Guess @ 1 M, prob = 1.00\n",
      "Running file ../recommendation/images/xzcxz_2.png\n",
      "Converting PNG to JPEG for ../recommendation/images/xzcxz_2.png\n",
      "Running multi-cropped image\n",
      "Guess @ 1 M, prob = 0.98\n",
      "Running file ../recommendation/images/nimeshi_20_female_2.png\n",
      "Converting PNG to JPEG for ../recommendation/images/nimeshi_20_female_2.png\n",
      "Running multi-cropped image\n",
      "Guess @ 1 M, prob = 0.99\n",
      "Running file ../recommendation/images/Kavishka_24_male_1.png\n",
      "Converting PNG to JPEG for ../recommendation/images/Kavishka_24_male_1.png\n",
      "Running multi-cropped image\n",
      "Guess @ 1 M, prob = 1.00\n",
      "Running file ../recommendation/images/Rashmika_23_male_2.png\n",
      "Converting PNG to JPEG for ../recommendation/images/Rashmika_23_male_2.png\n",
      "Running multi-cropped image\n",
      "Guess @ 1 M, prob = 1.00\n",
      "Running file ../recommendation/images/Lakshika_24_m_2.png\n",
      "Converting PNG to JPEG for ../recommendation/images/Lakshika_24_m_2.png\n",
      "Running multi-cropped image\n",
      "Guess @ 1 M, prob = 0.98\n",
      "Running file ../recommendation/images/Chanumi_08_female_2.png\n",
      "Converting PNG to JPEG for ../recommendation/images/Chanumi_08_female_2.png\n",
      "Running multi-cropped image\n",
      "Guess @ 1 M, prob = 0.96\n",
      "Running file ../recommendation/images/Lasindu_30_Male_2.png\n",
      "Converting PNG to JPEG for ../recommendation/images/Lasindu_30_Male_2.png\n",
      "Running multi-cropped image\n",
      "Guess @ 1 M, prob = 1.00\n",
      "Running file ../recommendation/images/sankalpa_21_male_1.png\n",
      "Converting PNG to JPEG for ../recommendation/images/sankalpa_21_male_1.png\n",
      "Running multi-cropped image\n",
      "Guess @ 1 M, prob = 1.00\n",
      "Running file ../recommendation/images/madumi_23_female _1.png\n",
      "Converting PNG to JPEG for ../recommendation/images/madumi_23_female _1.png\n",
      "Running multi-cropped image\n",
      "Guess @ 1 F, prob = 0.85\n",
      "Running file ../recommendation/images/Malith_29_male_2.png\n",
      "Converting PNG to JPEG for ../recommendation/images/Malith_29_male_2.png\n",
      "Running multi-cropped image\n",
      "Guess @ 1 M, prob = 0.99\n",
      "Running file ../recommendation/images/Vinodya_22_female_1.png\n",
      "Converting PNG to JPEG for ../recommendation/images/Vinodya_22_female_1.png\n",
      "Running multi-cropped image\n",
      "Guess @ 1 F, prob = 0.96\n",
      "Running file ../recommendation/images/Lakshan 27 m_1.png\n",
      "Converting PNG to JPEG for ../recommendation/images/Lakshan 27 m_1.png\n",
      "Running multi-cropped image\n",
      "Guess @ 1 F, prob = 0.84\n",
      "Running file ../recommendation/images/Ravindu_23_male_1.png\n",
      "Converting PNG to JPEG for ../recommendation/images/Ravindu_23_male_1.png\n",
      "Running multi-cropped image\n",
      "Guess @ 1 M, prob = 0.98\n",
      "Running file ../recommendation/images/Kavindu__19_m_2.png\n",
      "Converting PNG to JPEG for ../recommendation/images/Kavindu__19_m_2.png\n",
      "Running multi-cropped image\n",
      "Guess @ 1 M, prob = 1.00\n",
      "Running file ../recommendation/images/amana_14_female_2.png\n",
      "Converting PNG to JPEG for ../recommendation/images/amana_14_female_2.png\n",
      "Running multi-cropped image\n",
      "Guess @ 1 M, prob = 1.00\n",
      "Running file ../recommendation/images/Ranji_65_F_1.png\n",
      "Converting PNG to JPEG for ../recommendation/images/Ranji_65_F_1.png\n",
      "Running multi-cropped image\n",
      "Guess @ 1 F, prob = 0.77\n",
      "Running file ../recommendation/images/pramodya_15_m_1.png\n",
      "Converting PNG to JPEG for ../recommendation/images/pramodya_15_m_1.png\n",
      "Running multi-cropped image\n",
      "Guess @ 1 M, prob = 0.97\n",
      "Running file ../recommendation/images/thilina_23_male_2.png\n",
      "Converting PNG to JPEG for ../recommendation/images/thilina_23_male_2.png\n",
      "Running multi-cropped image\n"
     ]
    },
    {
     "name": "stdout",
     "output_type": "stream",
     "text": [
      "Guess @ 1 M, prob = 0.82\n",
      "Running file ../recommendation/images/Rochelle_36_Female_2.png\n",
      "Converting PNG to JPEG for ../recommendation/images/Rochelle_36_Female_2.png\n",
      "Running multi-cropped image\n",
      "Guess @ 1 F, prob = 0.94\n",
      "Running file ../recommendation/images/sadun_20_male_1.png\n",
      "Converting PNG to JPEG for ../recommendation/images/sadun_20_male_1.png\n",
      "Running multi-cropped image\n",
      "Guess @ 1 M, prob = 1.00\n",
      "Running file ../recommendation/images/Mishara_23_M_1.png\n",
      "Converting PNG to JPEG for ../recommendation/images/Mishara_23_M_1.png\n",
      "Running multi-cropped image\n",
      "Guess @ 1 M, prob = 0.99\n",
      "Running file ../recommendation/images/Lakshan 27 m_2.png\n",
      "Converting PNG to JPEG for ../recommendation/images/Lakshan 27 m_2.png\n",
      "Running multi-cropped image\n",
      "Guess @ 1 F, prob = 0.92\n",
      "Running file ../recommendation/images/Dilakshika_23_female_1.png\n",
      "Converting PNG to JPEG for ../recommendation/images/Dilakshika_23_female_1.png\n",
      "Running multi-cropped image\n",
      "Guess @ 1 F, prob = 1.00\n",
      "Running file ../recommendation/images/Numaya_23_Female_1.png\n",
      "Converting PNG to JPEG for ../recommendation/images/Numaya_23_Female_1.png\n",
      "Running multi-cropped image\n",
      "Guess @ 1 F, prob = 1.00\n",
      "Running file ../recommendation/images/sandula_22_male_1.png\n",
      "Converting PNG to JPEG for ../recommendation/images/sandula_22_male_1.png\n",
      "Running multi-cropped image\n",
      "Guess @ 1 M, prob = 0.70\n",
      "Running file ../recommendation/images/Tharaka_24_male_2.png\n",
      "Converting PNG to JPEG for ../recommendation/images/Tharaka_24_male_2.png\n",
      "Running multi-cropped image\n",
      "Guess @ 1 M, prob = 0.99\n",
      "Running file ../recommendation/images/Kasun_2.png\n",
      "Converting PNG to JPEG for ../recommendation/images/Kasun_2.png\n",
      "Running multi-cropped image\n",
      "Guess @ 1 M, prob = 1.00\n",
      "Running file ../recommendation/images/Supun_22_Male_1.png\n",
      "Converting PNG to JPEG for ../recommendation/images/Supun_22_Male_1.png\n",
      "Running multi-cropped image\n",
      "Guess @ 1 M, prob = 0.95\n",
      "Running file ../recommendation/images/Rashmie_15_f_2.png\n",
      "Converting PNG to JPEG for ../recommendation/images/Rashmie_15_f_2.png\n",
      "Running multi-cropped image\n",
      "Guess @ 1 F, prob = 0.81\n",
      "Running file ../recommendation/images/Dinu_25_f_2.png\n",
      "Converting PNG to JPEG for ../recommendation/images/Dinu_25_f_2.png\n",
      "Running multi-cropped image\n",
      "Guess @ 1 F, prob = 0.92\n",
      "Running file ../recommendation/images/nandana_23_male _1.png\n",
      "Converting PNG to JPEG for ../recommendation/images/nandana_23_male _1.png\n",
      "Running multi-cropped image\n",
      "Guess @ 1 M, prob = 1.00\n",
      "Running file ../recommendation/images/Chathurni_21_Female_1.png\n",
      "Converting PNG to JPEG for ../recommendation/images/Chathurni_21_Female_1.png\n",
      "Running multi-cropped image\n",
      "Guess @ 1 M, prob = 0.65\n",
      "Running file ../recommendation/images/nethmi_22_female_2.png\n",
      "Converting PNG to JPEG for ../recommendation/images/nethmi_22_female_2.png\n",
      "Running multi-cropped image\n",
      "Guess @ 1 F, prob = 0.97\n",
      "Running file ../recommendation/images/Nethma_24_Female_2.png\n",
      "Converting PNG to JPEG for ../recommendation/images/Nethma_24_Female_2.png\n",
      "Running multi-cropped image\n",
      "Guess @ 1 F, prob = 1.00\n",
      "Running file ../recommendation/images/chathurangani_35_female_2.png\n",
      "Converting PNG to JPEG for ../recommendation/images/chathurangani_35_female_2.png\n",
      "Running multi-cropped image\n",
      "Guess @ 1 M, prob = 0.88\n",
      "Running file ../recommendation/images/Nawod_23_male_2.png\n",
      "Converting PNG to JPEG for ../recommendation/images/Nawod_23_male_2.png\n",
      "Running multi-cropped image\n",
      "Guess @ 1 M, prob = 0.72\n",
      "Running file ../recommendation/images/Nipuna_25_male_1.png\n",
      "Converting PNG to JPEG for ../recommendation/images/Nipuna_25_male_1.png\n",
      "Running multi-cropped image\n",
      "Guess @ 1 M, prob = 1.00\n",
      "Running file ../recommendation/images/Piyumi_24_F_2.png\n",
      "Converting PNG to JPEG for ../recommendation/images/Piyumi_24_F_2.png\n",
      "Running multi-cropped image\n",
      "Guess @ 1 F, prob = 0.57\n",
      "Running file ../recommendation/images/nalika_54_female_1.png\n",
      "Converting PNG to JPEG for ../recommendation/images/nalika_54_female_1.png\n",
      "Running multi-cropped image\n",
      "Guess @ 1 F, prob = 0.76\n",
      "Running file ../recommendation/images/enoka_53_female_2.png\n",
      "Converting PNG to JPEG for ../recommendation/images/enoka_53_female_2.png\n",
      "Running multi-cropped image\n",
      "Guess @ 1 M, prob = 1.00\n",
      "Running file ../recommendation/images/Koshana_23_Male_2.png\n",
      "Converting PNG to JPEG for ../recommendation/images/Koshana_23_Male_2.png\n",
      "Running multi-cropped image\n",
      "Guess @ 1 M, prob = 1.00\n",
      "Running file ../recommendation/images/nimsara1_21_male_1.png\n",
      "Converting PNG to JPEG for ../recommendation/images/nimsara1_21_male_1.png\n",
      "Running multi-cropped image\n",
      "Guess @ 1 M, prob = 1.00\n",
      "Running file ../recommendation/images/test_2.png\n",
      "Converting PNG to JPEG for ../recommendation/images/test_2.png\n",
      "Running multi-cropped image\n",
      "Guess @ 1 M, prob = 1.00\n",
      "Running file ../recommendation/images/sandali_23_female_2.png\n",
      "Converting PNG to JPEG for ../recommendation/images/sandali_23_female_2.png\n",
      "Running multi-cropped image\n",
      "Guess @ 1 F, prob = 1.00\n",
      "Running file ../recommendation/images/hj_1.png\n",
      "Converting PNG to JPEG for ../recommendation/images/hj_1.png\n",
      "Running multi-cropped image\n",
      "Guess @ 1 M, prob = 0.60\n",
      "Running file ../recommendation/images/nimsara1_21_male_2.png\n",
      "Converting PNG to JPEG for ../recommendation/images/nimsara1_21_male_2.png\n",
      "Running multi-cropped image\n",
      "Guess @ 1 M, prob = 1.00\n",
      "Running file ../recommendation/images/ariyavathi_56_female_2.png\n",
      "Converting PNG to JPEG for ../recommendation/images/ariyavathi_56_female_2.png\n",
      "Running multi-cropped image\n",
      "Guess @ 1 M, prob = 0.99\n",
      "Running file ../recommendation/images/Chathurni_21_Female_2.png\n",
      "Converting PNG to JPEG for ../recommendation/images/Chathurni_21_Female_2.png\n",
      "Running multi-cropped image\n",
      "Guess @ 1 F, prob = 0.60\n",
      "Running file ../recommendation/images/gavindu2_20_male_2.png\n",
      "Converting PNG to JPEG for ../recommendation/images/gavindu2_20_male_2.png\n",
      "Running multi-cropped image\n",
      "Guess @ 1 F, prob = 0.75\n",
      "Running file ../recommendation/images/Kamani_51_female_2.png\n",
      "Converting PNG to JPEG for ../recommendation/images/Kamani_51_female_2.png\n",
      "Running multi-cropped image\n",
      "Guess @ 1 F, prob = 0.99\n",
      "Running file ../recommendation/images/Nethmi_23_Female_2.png\n",
      "Converting PNG to JPEG for ../recommendation/images/Nethmi_23_Female_2.png\n",
      "Running multi-cropped image\n",
      "Guess @ 1 F, prob = 0.98\n",
      "Running file ../recommendation/images/Dinuka_17_male_1.png\n",
      "Converting PNG to JPEG for ../recommendation/images/Dinuka_17_male_1.png\n",
      "Running multi-cropped image\n",
      "Guess @ 1 M, prob = 1.00\n",
      "Running file ../recommendation/images/sadun_20_male_2.png\n",
      "Converting PNG to JPEG for ../recommendation/images/sadun_20_male_2.png\n",
      "Running multi-cropped image\n",
      "Guess @ 1 M, prob = 1.00\n",
      "Running file ../recommendation/images/geethanjali_41_female_1.png\n",
      "Converting PNG to JPEG for ../recommendation/images/geethanjali_41_female_1.png\n",
      "Running multi-cropped image\n",
      "Guess @ 1 M, prob = 0.83\n",
      "Running file ../recommendation/images/sameera_32_male_2.png\n",
      "Converting PNG to JPEG for ../recommendation/images/sameera_32_male_2.png\n",
      "Running multi-cropped image\n",
      "Guess @ 1 M, prob = 0.78\n",
      "Running file ../recommendation/images/jeewantha01_25_male_1.png\n",
      "Converting PNG to JPEG for ../recommendation/images/jeewantha01_25_male_1.png\n",
      "Running multi-cropped image\n",
      "Guess @ 1 M, prob = 1.00\n",
      "Running file ../recommendation/images/dilini_39_Female_2.png\n",
      "Converting PNG to JPEG for ../recommendation/images/dilini_39_Female_2.png\n",
      "Running multi-cropped image\n",
      "Guess @ 1 M, prob = 0.85\n",
      "Running file ../recommendation/images/sachindu_23_male_1.png\n",
      "Converting PNG to JPEG for ../recommendation/images/sachindu_23_male_1.png\n",
      "Running multi-cropped image\n",
      "Guess @ 1 F, prob = 0.79\n",
      "Running file ../recommendation/images/hasitha_23_male_1.png\n",
      "Converting PNG to JPEG for ../recommendation/images/hasitha_23_male_1.png\n",
      "Running multi-cropped image\n",
      "Guess @ 1 M, prob = 0.84\n",
      "Running file ../recommendation/images/test_23_male_1.png\n",
      "Converting PNG to JPEG for ../recommendation/images/test_23_male_1.png\n",
      "Running multi-cropped image\n",
      "Guess @ 1 M, prob = 1.00\n",
      "Running file ../recommendation/images/Kavindi_24_female_2.png\n",
      "Converting PNG to JPEG for ../recommendation/images/Kavindi_24_female_2.png\n",
      "Running multi-cropped image\n",
      "Guess @ 1 M, prob = 0.75\n",
      "Running file ../recommendation/images/Hansi_21_female_2.png\n",
      "Converting PNG to JPEG for ../recommendation/images/Hansi_21_female_2.png\n",
      "Running multi-cropped image\n"
     ]
    },
    {
     "name": "stdout",
     "output_type": "stream",
     "text": [
      "Guess @ 1 F, prob = 0.62\n",
      "Running file ../recommendation/images/Himashi_23_female _2.png\n",
      "Converting PNG to JPEG for ../recommendation/images/Himashi_23_female _2.png\n",
      "Running multi-cropped image\n",
      "Guess @ 1 F, prob = 0.98\n",
      "Running file ../recommendation/images/Yomal_22_male_1.png\n",
      "Converting PNG to JPEG for ../recommendation/images/Yomal_22_male_1.png\n",
      "Running multi-cropped image\n",
      "Guess @ 1 M, prob = 0.76\n",
      "Running file ../recommendation/images/Chulangani_26_Female_2.png\n",
      "Converting PNG to JPEG for ../recommendation/images/Chulangani_26_Female_2.png\n",
      "Running multi-cropped image\n",
      "Guess @ 1 F, prob = 1.00\n",
      "Running file ../recommendation/images/Vimukthi_23_M_2.png\n",
      "Converting PNG to JPEG for ../recommendation/images/Vimukthi_23_M_2.png\n",
      "Running multi-cropped image\n",
      "Guess @ 1 M, prob = 0.96\n",
      "Running file ../recommendation/images/Chamath_24_male_1.png\n",
      "Converting PNG to JPEG for ../recommendation/images/Chamath_24_male_1.png\n",
      "Running multi-cropped image\n",
      "Guess @ 1 M, prob = 1.00\n",
      "Running file ../recommendation/images/Dinu_25_f_1.png\n",
      "Converting PNG to JPEG for ../recommendation/images/Dinu_25_f_1.png\n",
      "Running multi-cropped image\n",
      "Guess @ 1 F, prob = 0.98\n",
      "Running file ../recommendation/images/hasitha_23_male_2.png\n",
      "Converting PNG to JPEG for ../recommendation/images/hasitha_23_male_2.png\n",
      "Running multi-cropped image\n",
      "Guess @ 1 M, prob = 0.90\n",
      "Running file ../recommendation/images/Dinuka_23_male_2.png\n",
      "Converting PNG to JPEG for ../recommendation/images/Dinuka_23_male_2.png\n",
      "Running multi-cropped image\n",
      "Guess @ 1 M, prob = 1.00\n",
      "Running file ../recommendation/images/Oshadie_24_female_1.png\n",
      "Converting PNG to JPEG for ../recommendation/images/Oshadie_24_female_1.png\n",
      "Running multi-cropped image\n",
      "Guess @ 1 F, prob = 0.99\n",
      "Running file ../recommendation/images/rr_2.png\n",
      "Converting PNG to JPEG for ../recommendation/images/rr_2.png\n",
      "Running multi-cropped image\n",
      "Guess @ 1 M, prob = 0.76\n",
      "Running file ../recommendation/images/dinil_20_male_1.png\n",
      "Converting PNG to JPEG for ../recommendation/images/dinil_20_male_1.png\n",
      "Running multi-cropped image\n",
      "Guess @ 1 M, prob = 0.83\n",
      "Running file ../recommendation/images/Kanchana_52_female_1.png\n",
      "Converting PNG to JPEG for ../recommendation/images/Kanchana_52_female_1.png\n",
      "Running multi-cropped image\n",
      "Guess @ 1 M, prob = 1.00\n",
      "Running file ../recommendation/images/kalshan_24_male_2.png\n",
      "Converting PNG to JPEG for ../recommendation/images/kalshan_24_male_2.png\n",
      "Running multi-cropped image\n",
      "Guess @ 1 M, prob = 0.99\n",
      "Running file ../recommendation/images/nethul_15_m_2.png\n",
      "Converting PNG to JPEG for ../recommendation/images/nethul_15_m_2.png\n",
      "Running multi-cropped image\n",
      "Guess @ 1 M, prob = 0.81\n",
      "Running file ../recommendation/images/Buddhika_2.png\n",
      "Converting PNG to JPEG for ../recommendation/images/Buddhika_2.png\n",
      "Running multi-cropped image\n",
      "Guess @ 1 F, prob = 0.97\n",
      "Running file ../recommendation/images/Ranji_65_F_2.png\n",
      "Converting PNG to JPEG for ../recommendation/images/Ranji_65_F_2.png\n",
      "Running multi-cropped image\n",
      "Guess @ 1 F, prob = 0.75\n",
      "Running file ../recommendation/images/Padma_77_F_1.png\n",
      "Converting PNG to JPEG for ../recommendation/images/Padma_77_F_1.png\n",
      "Running multi-cropped image\n",
      "Guess @ 1 M, prob = 0.69\n",
      "Running file ../recommendation/images/Yasith_23_male_1.png\n",
      "Converting PNG to JPEG for ../recommendation/images/Yasith_23_male_1.png\n",
      "Running multi-cropped image\n",
      "Guess @ 1 M, prob = 1.00\n",
      "Running file ../recommendation/images/Sameera_27_male_1.png\n",
      "Converting PNG to JPEG for ../recommendation/images/Sameera_27_male_1.png\n",
      "Running multi-cropped image\n",
      "Guess @ 1 M, prob = 0.97\n",
      "Running file ../recommendation/images/Himantha_26_Male_1.png\n",
      "Converting PNG to JPEG for ../recommendation/images/Himantha_26_Male_1.png\n",
      "Running multi-cropped image\n",
      "Guess @ 1 M, prob = 1.00\n",
      "Running file ../recommendation/images/Thilini1_25_1.png\n",
      "Converting PNG to JPEG for ../recommendation/images/Thilini1_25_1.png\n",
      "Running multi-cropped image\n",
      "Guess @ 1 F, prob = 1.00\n",
      "Running file ../recommendation/images/Ranumi_9_female_2.png\n",
      "Converting PNG to JPEG for ../recommendation/images/Ranumi_9_female_2.png\n",
      "Running multi-cropped image\n",
      "Guess @ 1 F, prob = 0.81\n",
      "Running file ../recommendation/images/vishvakumara_21_male_1.png\n",
      "Converting PNG to JPEG for ../recommendation/images/vishvakumara_21_male_1.png\n",
      "Running multi-cropped image\n",
      "Guess @ 1 M, prob = 0.52\n",
      "Running file ../recommendation/images/Herath_51_female_2.png\n",
      "Converting PNG to JPEG for ../recommendation/images/Herath_51_female_2.png\n",
      "Running multi-cropped image\n",
      "Guess @ 1 M, prob = 0.69\n",
      "Running file ../recommendation/images/Sajeewa_25_male_2.png\n",
      "Converting PNG to JPEG for ../recommendation/images/Sajeewa_25_male_2.png\n",
      "Running multi-cropped image\n",
      "Guess @ 1 M, prob = 1.00\n",
      "Running file ../recommendation/images/Supun_22_Male_2.png\n",
      "Converting PNG to JPEG for ../recommendation/images/Supun_22_Male_2.png\n",
      "Running multi-cropped image\n",
      "Guess @ 1 M, prob = 0.93\n",
      "Running file ../recommendation/images/Rawaar_1.png\n",
      "Converting PNG to JPEG for ../recommendation/images/Rawaar_1.png\n",
      "Running multi-cropped image\n",
      "Guess @ 1 M, prob = 0.75\n",
      "Running file ../recommendation/images/Venura_23_male_2.png\n",
      "Converting PNG to JPEG for ../recommendation/images/Venura_23_male_2.png\n",
      "Running multi-cropped image\n",
      "Guess @ 1 M, prob = 1.00\n",
      "Running file ../recommendation/images/Rashmika_23_male_1.png\n",
      "Converting PNG to JPEG for ../recommendation/images/Rashmika_23_male_1.png\n",
      "Running multi-cropped image\n",
      "Guess @ 1 M, prob = 0.96\n",
      "Running file ../recommendation/images/Kumudu_55_female_1.png\n",
      "Converting PNG to JPEG for ../recommendation/images/Kumudu_55_female_1.png\n",
      "Running multi-cropped image\n",
      "Guess @ 1 M, prob = 0.57\n",
      "Running file ../recommendation/images/manuja_22_male_2.png\n",
      "Converting PNG to JPEG for ../recommendation/images/manuja_22_male_2.png\n",
      "Running multi-cropped image\n",
      "Guess @ 1 M, prob = 0.88\n",
      "Running file ../recommendation/images/Oshadi_21_Female_1.png\n",
      "Converting PNG to JPEG for ../recommendation/images/Oshadi_21_Female_1.png\n",
      "Running multi-cropped image\n",
      "Guess @ 1 F, prob = 1.00\n",
      "Running file ../recommendation/images/malani_67_female_1.png\n",
      "Converting PNG to JPEG for ../recommendation/images/malani_67_female_1.png\n",
      "Running multi-cropped image\n",
      "Guess @ 1 F, prob = 0.84\n",
      "Running file ../recommendation/images/gavindu_21_male_2.png\n",
      "Converting PNG to JPEG for ../recommendation/images/gavindu_21_male_2.png\n",
      "Running multi-cropped image\n",
      "Guess @ 1 M, prob = 0.97\n",
      "Running file ../recommendation/images/Udayanga_22_male_1.png\n",
      "Converting PNG to JPEG for ../recommendation/images/Udayanga_22_male_1.png\n",
      "Running multi-cropped image\n",
      "Guess @ 1 M, prob = 0.94\n",
      "Running file ../recommendation/images/Ayesha_22_female_2.png\n",
      "Converting PNG to JPEG for ../recommendation/images/Ayesha_22_female_2.png\n",
      "Running multi-cropped image\n",
      "Guess @ 1 F, prob = 1.00\n",
      "Running file ../recommendation/images/Irangani_73_f_1.png\n",
      "Converting PNG to JPEG for ../recommendation/images/Irangani_73_f_1.png\n",
      "Running multi-cropped image\n",
      "Guess @ 1 M, prob = 0.95\n",
      "Running file ../recommendation/images/test1_1.png\n",
      "Converting PNG to JPEG for ../recommendation/images/test1_1.png\n",
      "Running multi-cropped image\n",
      "Guess @ 1 M, prob = 1.00\n",
      "Running file ../recommendation/images/Sathsara_24_Male_1.png\n",
      "Converting PNG to JPEG for ../recommendation/images/Sathsara_24_Male_1.png\n",
      "Running multi-cropped image\n",
      "Guess @ 1 M, prob = 0.93\n",
      "Running file ../recommendation/images/senura_15_m_1.png\n",
      "Converting PNG to JPEG for ../recommendation/images/senura_15_m_1.png\n",
      "Running multi-cropped image\n",
      "Guess @ 1 M, prob = 0.62\n",
      "Running file ../recommendation/images/Hiruni_23_Female_1.png\n",
      "Converting PNG to JPEG for ../recommendation/images/Hiruni_23_Female_1.png\n",
      "Running multi-cropped image\n",
      "Guess @ 1 F, prob = 0.88\n",
      "Running file ../recommendation/images/Shalitha_23_male_2.png\n",
      "Converting PNG to JPEG for ../recommendation/images/Shalitha_23_male_2.png\n",
      "Running multi-cropped image\n",
      "Guess @ 1 M, prob = 0.97\n",
      "Running file ../recommendation/images/Pamudu_21_Male_1.png\n",
      "Converting PNG to JPEG for ../recommendation/images/Pamudu_21_Male_1.png\n",
      "Running multi-cropped image\n",
      "Guess @ 1 M, prob = 0.99\n",
      "Running file ../recommendation/images/Dimuthu_23_Male_1.png\n",
      "Converting PNG to JPEG for ../recommendation/images/Dimuthu_23_Male_1.png\n",
      "Running multi-cropped image\n",
      "Guess @ 1 M, prob = 0.84\n",
      "Running file ../recommendation/images/milith_23_M_2.png\n",
      "Converting PNG to JPEG for ../recommendation/images/milith_23_M_2.png\n"
     ]
    },
    {
     "name": "stdout",
     "output_type": "stream",
     "text": [
      "Running multi-cropped image\n",
      "Guess @ 1 M, prob = 1.00\n",
      "Running file ../recommendation/images/dylon_20_male_2.png\n",
      "Converting PNG to JPEG for ../recommendation/images/dylon_20_male_2.png\n",
      "Running multi-cropped image\n",
      "Guess @ 1 M, prob = 1.00\n",
      "Running file ../recommendation/images/samuki_19_female_1.png\n",
      "Converting PNG to JPEG for ../recommendation/images/samuki_19_female_1.png\n",
      "Running multi-cropped image\n",
      "Guess @ 1 M, prob = 0.94\n",
      "Running file ../recommendation/images/Thilini1_25_2.png\n",
      "Converting PNG to JPEG for ../recommendation/images/Thilini1_25_2.png\n",
      "Running multi-cropped image\n",
      "Guess @ 1 F, prob = 0.99\n",
      "Running file ../recommendation/images/Mihiri_24_f_2.png\n",
      "Converting PNG to JPEG for ../recommendation/images/Mihiri_24_f_2.png\n",
      "Running multi-cropped image\n",
      "Guess @ 1 F, prob = 1.00\n",
      "Running file ../recommendation/images/nirosha_46_f_1.png\n",
      "Converting PNG to JPEG for ../recommendation/images/nirosha_46_f_1.png\n",
      "Running multi-cropped image\n",
      "Guess @ 1 F, prob = 1.00\n",
      "Running file ../recommendation/images/Oshadi_21_Female_2.png\n",
      "Converting PNG to JPEG for ../recommendation/images/Oshadi_21_Female_2.png\n",
      "Running multi-cropped image\n",
      "Guess @ 1 F, prob = 1.00\n",
      "Running file ../recommendation/images/sarath_72_male_1.png\n",
      "Converting PNG to JPEG for ../recommendation/images/sarath_72_male_1.png\n",
      "Running multi-cropped image\n",
      "Guess @ 1 F, prob = 0.84\n",
      "Running file ../recommendation/images/aravindi_25_female_1.png\n",
      "Converting PNG to JPEG for ../recommendation/images/aravindi_25_female_1.png\n",
      "Running multi-cropped image\n",
      "Guess @ 1 F, prob = 0.93\n",
      "Running file ../recommendation/images/tharindra_28_female_1.png\n",
      "Converting PNG to JPEG for ../recommendation/images/tharindra_28_female_1.png\n",
      "Running multi-cropped image\n",
      "Guess @ 1 F, prob = 0.99\n",
      "Running file ../recommendation/images/Kavishka_24_male_2.png\n",
      "Converting PNG to JPEG for ../recommendation/images/Kavishka_24_male_2.png\n",
      "Running multi-cropped image\n",
      "Guess @ 1 M, prob = 1.00\n",
      "Running file ../recommendation/images/Tharaka_24_male_1.png\n",
      "Converting PNG to JPEG for ../recommendation/images/Tharaka_24_male_1.png\n",
      "Running multi-cropped image\n",
      "Guess @ 1 M, prob = 0.98\n",
      "Running file ../recommendation/images/Sanuli_12_female_1.png\n",
      "Converting PNG to JPEG for ../recommendation/images/Sanuli_12_female_1.png\n",
      "Running multi-cropped image\n",
      "Guess @ 1 M, prob = 0.71\n",
      "Running file ../recommendation/images/sankalpa1_21_male_1.png\n",
      "Converting PNG to JPEG for ../recommendation/images/sankalpa1_21_male_1.png\n",
      "Running multi-cropped image\n",
      "Guess @ 1 M, prob = 1.00\n",
      "Running file ../recommendation/images/aravindi_25_female_2.png\n",
      "Converting PNG to JPEG for ../recommendation/images/aravindi_25_female_2.png\n",
      "Running multi-cropped image\n",
      "Guess @ 1 F, prob = 0.99\n",
      "Running file ../recommendation/images/madumi_23_female _2.png\n",
      "Converting PNG to JPEG for ../recommendation/images/madumi_23_female _2.png\n",
      "Running multi-cropped image\n",
      "Guess @ 1 F, prob = 0.78\n",
      "Running file ../recommendation/images/Venuri_22_female_1.png\n",
      "Converting PNG to JPEG for ../recommendation/images/Venuri_22_female_1.png\n",
      "Running multi-cropped image\n",
      "Guess @ 1 F, prob = 1.00\n",
      "Running file ../recommendation/images/sarath_72_male_2.png\n",
      "Converting PNG to JPEG for ../recommendation/images/sarath_72_male_2.png\n",
      "Running multi-cropped image\n",
      "Guess @ 1 F, prob = 0.72\n",
      "Running file ../recommendation/images/Thathsarani_24_f_1.png\n",
      "Converting PNG to JPEG for ../recommendation/images/Thathsarani_24_f_1.png\n",
      "Running multi-cropped image\n",
      "Guess @ 1 F, prob = 1.00\n",
      "Running file ../recommendation/images/Sriyani_55_female_1.png\n",
      "Converting PNG to JPEG for ../recommendation/images/Sriyani_55_female_1.png\n",
      "Running multi-cropped image\n",
      "Guess @ 1 M, prob = 0.81\n",
      "Running file ../recommendation/images/test123_1.png\n",
      "Converting PNG to JPEG for ../recommendation/images/test123_1.png\n",
      "Running multi-cropped image\n",
      "Guess @ 1 M, prob = 0.77\n",
      "Running file ../recommendation/images/dasun_23_male_1.png\n",
      "Converting PNG to JPEG for ../recommendation/images/dasun_23_male_1.png\n",
      "Running multi-cropped image\n",
      "Guess @ 1 M, prob = 0.98\n",
      "Running file ../recommendation/images/Nayanathara_25_ female _1.png\n",
      "Converting PNG to JPEG for ../recommendation/images/Nayanathara_25_ female _1.png\n",
      "Running multi-cropped image\n",
      "Guess @ 1 F, prob = 0.81\n",
      "Running file ../recommendation/images/nimsara_21_male_2.png\n",
      "Converting PNG to JPEG for ../recommendation/images/nimsara_21_male_2.png\n",
      "Running multi-cropped image\n",
      "Guess @ 1 M, prob = 1.00\n",
      "Running file ../recommendation/images/Dinuka_17_male_2.png\n",
      "Converting PNG to JPEG for ../recommendation/images/Dinuka_17_male_2.png\n",
      "Running multi-cropped image\n",
      "Guess @ 1 M, prob = 1.00\n",
      "Running file ../recommendation/images/Sandul_23_male_2.png\n",
      "Converting PNG to JPEG for ../recommendation/images/Sandul_23_male_2.png\n",
      "Running multi-cropped image\n",
      "Guess @ 1 M, prob = 0.92\n",
      "Running file ../recommendation/images/Akasha_12_Female_2.png\n",
      "Converting PNG to JPEG for ../recommendation/images/Akasha_12_Female_2.png\n",
      "Running multi-cropped image\n",
      "Guess @ 1 M, prob = 0.98\n",
      "Running file ../recommendation/images/geethanjali_41_female_2.png\n",
      "Converting PNG to JPEG for ../recommendation/images/geethanjali_41_female_2.png\n",
      "Running multi-cropped image\n",
      "Guess @ 1 M, prob = 0.81\n",
      "Running file ../recommendation/images/sadula_22_,ale_1.png\n",
      "Converting PNG to JPEG for ../recommendation/images/sadula_22_,ale_1.png\n",
      "Running multi-cropped image\n",
      "Guess @ 1 M, prob = 1.00\n",
      "Running file ../recommendation/images/rasika_53_female_2.png\n",
      "Converting PNG to JPEG for ../recommendation/images/rasika_53_female_2.png\n",
      "Running multi-cropped image\n",
      "Guess @ 1 F, prob = 1.00\n",
      "Running file ../recommendation/images/champica_52_female_1.png\n",
      "Converting PNG to JPEG for ../recommendation/images/champica_52_female_1.png\n",
      "Running multi-cropped image\n",
      "Guess @ 1 M, prob = 0.88\n",
      "Running file ../recommendation/images/Padma_77_F_2.png\n",
      "Converting PNG to JPEG for ../recommendation/images/Padma_77_F_2.png\n",
      "Running multi-cropped image\n",
      "Guess @ 1 M, prob = 0.66\n",
      "Running file ../recommendation/images/Udayanga_22_male_2.png\n",
      "Converting PNG to JPEG for ../recommendation/images/Udayanga_22_male_2.png\n",
      "Running multi-cropped image\n",
      "Guess @ 1 M, prob = 0.90\n",
      "Running file ../recommendation/images/Deshani_24_Female_2.png\n",
      "Converting PNG to JPEG for ../recommendation/images/Deshani_24_Female_2.png\n",
      "Running multi-cropped image\n",
      "Guess @ 1 F, prob = 1.00\n",
      "Running file ../recommendation/images/Rithma_22_Female_2.png\n",
      "Converting PNG to JPEG for ../recommendation/images/Rithma_22_Female_2.png\n",
      "Running multi-cropped image\n",
      "Guess @ 1 F, prob = 1.00\n",
      "Running file ../recommendation/images/Nethmi_19_Female_1.png\n",
      "Converting PNG to JPEG for ../recommendation/images/Nethmi_19_Female_1.png\n",
      "Running multi-cropped image\n",
      "Guess @ 1 M, prob = 1.00\n",
      "Running file ../recommendation/images/Nawod_23_male_1.png\n",
      "Converting PNG to JPEG for ../recommendation/images/Nawod_23_male_1.png\n",
      "Running multi-cropped image\n",
      "Guess @ 1 M, prob = 0.65\n",
      "Running file ../recommendation/images/Dinukthi_22_Female_2.png\n",
      "Converting PNG to JPEG for ../recommendation/images/Dinukthi_22_Female_2.png\n",
      "Running multi-cropped image\n",
      "Guess @ 1 F, prob = 0.64\n",
      "Running file ../recommendation/images/Dulmini_23__female_1.png\n",
      "Converting PNG to JPEG for ../recommendation/images/Dulmini_23__female_1.png\n",
      "Running multi-cropped image\n",
      "Guess @ 1 F, prob = 1.00\n",
      "Running file ../recommendation/images/Yashmitha_23_Female_1.png\n",
      "Converting PNG to JPEG for ../recommendation/images/Yashmitha_23_Female_1.png\n",
      "Running multi-cropped image\n",
      "Guess @ 1 F, prob = 0.54\n",
      "Running file ../recommendation/images/Omethma_12_female_2.png\n",
      "Converting PNG to JPEG for ../recommendation/images/Omethma_12_female_2.png\n",
      "Running multi-cropped image\n",
      "Guess @ 1 M, prob = 1.00\n",
      "Running file ../recommendation/images/Kinsly_75_M_1.png\n",
      "Converting PNG to JPEG for ../recommendation/images/Kinsly_75_M_1.png\n",
      "Running multi-cropped image\n",
      "Guess @ 1 M, prob = 0.92\n",
      "Running file ../recommendation/images/Haritha_22_male_1.png\n",
      "Converting PNG to JPEG for ../recommendation/images/Haritha_22_male_1.png\n",
      "Running multi-cropped image\n",
      "Guess @ 1 M, prob = 0.99\n",
      "Running file ../recommendation/images/pramodya_16_m_1.png\n",
      "Converting PNG to JPEG for ../recommendation/images/pramodya_16_m_1.png\n",
      "Running multi-cropped image\n",
      "Guess @ 1 F, prob = 0.63\n",
      "Running file ../recommendation/images/Sajith_28_male_1.png\n",
      "Converting PNG to JPEG for ../recommendation/images/Sajith_28_male_1.png\n"
     ]
    },
    {
     "name": "stdout",
     "output_type": "stream",
     "text": [
      "Running multi-cropped image\n",
      "Guess @ 1 M, prob = 0.71\n",
      "Running file ../recommendation/images/ashinsana_20_male_2.png\n",
      "Converting PNG to JPEG for ../recommendation/images/ashinsana_20_male_2.png\n",
      "Running multi-cropped image\n",
      "Guess @ 1 M, prob = 1.00\n",
      "Running file ../recommendation/images/Lal_64_M_1.png\n",
      "Converting PNG to JPEG for ../recommendation/images/Lal_64_M_1.png\n",
      "Running multi-cropped image\n",
      "Guess @ 1 F, prob = 0.77\n",
      "Running file ../recommendation/images/Nethmi_19_Female_2.png\n",
      "Converting PNG to JPEG for ../recommendation/images/Nethmi_19_Female_2.png\n",
      "Running multi-cropped image\n",
      "Guess @ 1 M, prob = 1.00\n",
      "Running file ../recommendation/images/supun_23_male_1.png\n",
      "Converting PNG to JPEG for ../recommendation/images/supun_23_male_1.png\n",
      "Running multi-cropped image\n",
      "Guess @ 1 M, prob = 1.00\n",
      "Running file ../recommendation/images/lakshan1_24_male_2.png\n",
      "Converting PNG to JPEG for ../recommendation/images/lakshan1_24_male_2.png\n",
      "Running multi-cropped image\n",
      "Guess @ 1 M, prob = 0.99\n",
      "Running file ../recommendation/images/Sanuli_12_female_2.png\n",
      "Converting PNG to JPEG for ../recommendation/images/Sanuli_12_female_2.png\n",
      "Running multi-cropped image\n",
      "Guess @ 1 M, prob = 0.67\n",
      "Running file ../recommendation/images/Himantha, 22, Male_1.png\n",
      "Converting PNG to JPEG for ../recommendation/images/Himantha, 22, Male_1.png\n",
      "Running multi-cropped image\n",
      "Guess @ 1 M, prob = 1.00\n",
      "Running file ../recommendation/images/Nirmal_23_male_2.png\n",
      "Converting PNG to JPEG for ../recommendation/images/Nirmal_23_male_2.png\n",
      "Running multi-cropped image\n",
      "Guess @ 1 F, prob = 0.94\n",
      "Running file ../recommendation/images/Akasha_12_Female_1.png\n",
      "Converting PNG to JPEG for ../recommendation/images/Akasha_12_Female_1.png\n",
      "Running multi-cropped image\n",
      "Guess @ 1 M, prob = 0.97\n",
      "Running file ../recommendation/images/Nirmani_24_female_1.png\n",
      "Converting PNG to JPEG for ../recommendation/images/Nirmani_24_female_1.png\n",
      "Running multi-cropped image\n",
      "Guess @ 1 F, prob = 0.76\n",
      "Running file ../recommendation/images/Lasindu_30_Male_1.png\n",
      "Converting PNG to JPEG for ../recommendation/images/Lasindu_30_Male_1.png\n",
      "Running multi-cropped image\n",
      "Guess @ 1 M, prob = 0.99\n",
      "Running file ../recommendation/images/Kasun_1.png\n",
      "Converting PNG to JPEG for ../recommendation/images/Kasun_1.png\n",
      "Running multi-cropped image\n",
      "Guess @ 1 M, prob = 1.00\n",
      "Running file ../recommendation/images/Meth_11_male_1.png\n",
      "Converting PNG to JPEG for ../recommendation/images/Meth_11_male_1.png\n",
      "Running multi-cropped image\n",
      "Guess @ 1 F, prob = 0.63\n",
      "Running file ../recommendation/images/Ravihari_25_Female_2.png\n",
      "Converting PNG to JPEG for ../recommendation/images/Ravihari_25_Female_2.png\n",
      "Running multi-cropped image\n",
      "Guess @ 1 F, prob = 1.00\n",
      "Running file ../recommendation/images/sandula_22_male_2.png\n",
      "Converting PNG to JPEG for ../recommendation/images/sandula_22_male_2.png\n",
      "Running multi-cropped image\n",
      "Guess @ 1 M, prob = 0.70\n",
      "Running file ../recommendation/images/Thisal_22_male_2.png\n",
      "Converting PNG to JPEG for ../recommendation/images/Thisal_22_male_2.png\n",
      "Running multi-cropped image\n",
      "Guess @ 1 M, prob = 1.00\n",
      "Running file ../recommendation/images/Ranula_24_M_1.png\n",
      "Converting PNG to JPEG for ../recommendation/images/Ranula_24_M_1.png\n",
      "Running multi-cropped image\n",
      "Guess @ 1 M, prob = 1.00\n",
      "Running file ../recommendation/images/dewdun_15_m_1.png\n",
      "Converting PNG to JPEG for ../recommendation/images/dewdun_15_m_1.png\n",
      "Running multi-cropped image\n",
      "Guess @ 1 M, prob = 0.66\n",
      "Running file ../recommendation/images/pubudu_23_male_2.png\n",
      "Converting PNG to JPEG for ../recommendation/images/pubudu_23_male_2.png\n",
      "Running multi-cropped image\n",
      "Guess @ 1 M, prob = 0.99\n",
      "Running file ../recommendation/images/amana_14_female_1.png\n",
      "Converting PNG to JPEG for ../recommendation/images/amana_14_female_1.png\n",
      "Running multi-cropped image\n",
      "Guess @ 1 M, prob = 0.89\n",
      "Running file ../recommendation/images/Dulanjani_2.png\n",
      "Converting PNG to JPEG for ../recommendation/images/Dulanjani_2.png\n",
      "Running multi-cropped image\n",
      "Guess @ 1 F, prob = 0.62\n",
      "Running file ../recommendation/images/Anusha_56_f_1.png\n",
      "Converting PNG to JPEG for ../recommendation/images/Anusha_56_f_1.png\n",
      "Running multi-cropped image\n",
      "Guess @ 1 M, prob = 0.77\n",
      "Running file ../recommendation/images/Sriyani_55_female_2.png\n",
      "Converting PNG to JPEG for ../recommendation/images/Sriyani_55_female_2.png\n",
      "Running multi-cropped image\n",
      "Guess @ 1 F, prob = 0.97\n",
      "Running file ../recommendation/images/kaushalya_23_Female_2.png\n",
      "Converting PNG to JPEG for ../recommendation/images/kaushalya_23_Female_2.png\n",
      "Running multi-cropped image\n",
      "Guess @ 1 F, prob = 0.62\n",
      "Running file ../recommendation/images/Senura_24_Male_1.png\n",
      "Converting PNG to JPEG for ../recommendation/images/Senura_24_Male_1.png\n",
      "Running multi-cropped image\n",
      "Guess @ 1 M, prob = 1.00\n",
      "Running file ../recommendation/images/Himashi_23_female _1.png\n",
      "Converting PNG to JPEG for ../recommendation/images/Himashi_23_female _1.png\n",
      "Running multi-cropped image\n",
      "Guess @ 1 F, prob = 1.00\n",
      "Running file ../recommendation/images/Chathupama_23_female_1.png\n",
      "Converting PNG to JPEG for ../recommendation/images/Chathupama_23_female_1.png\n",
      "Running multi-cropped image\n",
      "Guess @ 1 F, prob = 1.00\n",
      "Running file ../recommendation/images/Vishwa_16_m_2.png\n",
      "Converting PNG to JPEG for ../recommendation/images/Vishwa_16_m_2.png\n",
      "Running multi-cropped image\n",
      "Guess @ 1 M, prob = 0.57\n",
      "Running file ../recommendation/images/DImtharu_09_M_2.png\n",
      "Converting PNG to JPEG for ../recommendation/images/DImtharu_09_M_2.png\n",
      "Running multi-cropped image\n",
      "Guess @ 1 M, prob = 1.00\n",
      "Running file ../recommendation/images/senura_15_m_2.png\n",
      "Converting PNG to JPEG for ../recommendation/images/senura_15_m_2.png\n",
      "Running multi-cropped image\n",
      "Guess @ 1 M, prob = 0.95\n",
      "Running file ../recommendation/images/Jayasinghe_51_Female_1.png\n",
      "Converting PNG to JPEG for ../recommendation/images/Jayasinghe_51_Female_1.png\n",
      "Running multi-cropped image\n",
      "Guess @ 1 F, prob = 0.96\n",
      "Running file ../recommendation/images/Desilva_23_M_2.png\n",
      "Converting PNG to JPEG for ../recommendation/images/Desilva_23_M_2.png\n",
      "Running multi-cropped image\n",
      "Guess @ 1 M, prob = 1.00\n",
      "Running file ../recommendation/images/Dilith_24_Male_1.png\n",
      "Converting PNG to JPEG for ../recommendation/images/Dilith_24_Male_1.png\n",
      "Running multi-cropped image\n",
      "Guess @ 1 M, prob = 0.79\n",
      "Running file ../recommendation/images/Dinuka_23_male_1.png\n",
      "Converting PNG to JPEG for ../recommendation/images/Dinuka_23_male_1.png\n",
      "Running multi-cropped image\n",
      "Guess @ 1 M, prob = 1.00\n",
      "Running file ../recommendation/images/thejan_14_male_2.png\n",
      "Converting PNG to JPEG for ../recommendation/images/thejan_14_male_2.png\n",
      "Running multi-cropped image\n",
      "Guess @ 1 M, prob = 0.67\n",
      "Running file ../recommendation/images/Thushan_25_Male_1.png\n",
      "Converting PNG to JPEG for ../recommendation/images/Thushan_25_Male_1.png\n",
      "Running multi-cropped image\n",
      "Guess @ 1 F, prob = 0.83\n",
      "Running file ../recommendation/images/rreeta_76_female_2.png\n",
      "Converting PNG to JPEG for ../recommendation/images/rreeta_76_female_2.png\n",
      "Running multi-cropped image\n",
      "Guess @ 1 M, prob = 0.96\n",
      "Running file ../recommendation/images/rr_1.png\n",
      "Converting PNG to JPEG for ../recommendation/images/rr_1.png\n",
      "Running multi-cropped image\n",
      "Guess @ 1 M, prob = 0.85\n",
      "Running file ../recommendation/images/Yehan_18_male_2.png\n",
      "Converting PNG to JPEG for ../recommendation/images/Yehan_18_male_2.png\n",
      "Running multi-cropped image\n",
      "Guess @ 1 M, prob = 1.00\n",
      "Running file ../recommendation/images/Vishwa_16_m_1.png\n",
      "Converting PNG to JPEG for ../recommendation/images/Vishwa_16_m_1.png\n",
      "Running multi-cropped image\n",
      "Guess @ 1 M, prob = 0.88\n",
      "Running file ../recommendation/images/Buddhima4_21_male_1.png\n",
      "Converting PNG to JPEG for ../recommendation/images/Buddhima4_21_male_1.png\n",
      "Running multi-cropped image\n",
      "Guess @ 1 M, prob = 1.00\n",
      "Running file ../recommendation/images/Supun_23_male_2.png\n",
      "Converting PNG to JPEG for ../recommendation/images/Supun_23_male_2.png\n",
      "Running multi-cropped image\n",
      "Guess @ 1 F, prob = 0.72\n",
      "Running file ../recommendation/images/Vinodya_22_female_2.png\n",
      "Converting PNG to JPEG for ../recommendation/images/Vinodya_22_female_2.png\n",
      "Running multi-cropped image\n",
      "Guess @ 1 F, prob = 1.00\n",
      "Running file ../recommendation/images/YaxaSR!_22_M_1.png\n",
      "Converting PNG to JPEG for ../recommendation/images/YaxaSR!_22_M_1.png\n",
      "Running multi-cropped image\n",
      "Guess @ 1 F, prob = 1.00\n",
      "Running file ../recommendation/images/champica_52_female_2.png\n",
      "Converting PNG to JPEG for ../recommendation/images/champica_52_female_2.png\n"
     ]
    },
    {
     "name": "stdout",
     "output_type": "stream",
     "text": [
      "Running multi-cropped image\n",
      "Guess @ 1 M, prob = 0.94\n",
      "Running file ../recommendation/images/nimeshi_20_female_1.png\n",
      "Converting PNG to JPEG for ../recommendation/images/nimeshi_20_female_1.png\n",
      "Running multi-cropped image\n",
      "Guess @ 1 M, prob = 0.99\n",
      "Running file ../recommendation/images/Himantha_26_Male_2.png\n",
      "Converting PNG to JPEG for ../recommendation/images/Himantha_26_Male_2.png\n",
      "Running multi-cropped image\n",
      "Guess @ 1 M, prob = 1.00\n",
      "Running file ../recommendation/images/Supun_23_male_1.png\n",
      "Converting PNG to JPEG for ../recommendation/images/Supun_23_male_1.png\n",
      "Running multi-cropped image\n",
      "Guess @ 1 F, prob = 0.73\n",
      "Running file ../recommendation/images/Anjana_95_Male_1.png\n",
      "Converting PNG to JPEG for ../recommendation/images/Anjana_95_Male_1.png\n",
      "Running multi-cropped image\n",
      "Guess @ 1 M, prob = 1.00\n",
      "Running file ../recommendation/images/t_2.png\n",
      "Converting PNG to JPEG for ../recommendation/images/t_2.png\n",
      "Running multi-cropped image\n",
      "Guess @ 1 M, prob = 0.52\n",
      "Running file ../recommendation/images/kushani_20_female_2.png\n",
      "Converting PNG to JPEG for ../recommendation/images/kushani_20_female_2.png\n",
      "Running multi-cropped image\n",
      "Guess @ 1 F, prob = 0.84\n",
      "Running file ../recommendation/images/senudi_11_f_1.png\n",
      "Converting PNG to JPEG for ../recommendation/images/senudi_11_f_1.png\n",
      "Running multi-cropped image\n",
      "Guess @ 1 M, prob = 0.56\n",
      "Running file ../recommendation/images/vishvakumara_21_male_2.png\n",
      "Converting PNG to JPEG for ../recommendation/images/vishvakumara_21_male_2.png\n",
      "Running multi-cropped image\n",
      "Guess @ 1 F, prob = 0.50\n",
      "Running file ../recommendation/images/manuja_22_male_1.png\n",
      "Converting PNG to JPEG for ../recommendation/images/manuja_22_male_1.png\n",
      "Running multi-cropped image\n",
      "Guess @ 1 M, prob = 0.78\n",
      "Running file ../recommendation/images/ravindu_23_male_1.png\n",
      "Converting PNG to JPEG for ../recommendation/images/ravindu_23_male_1.png\n",
      "Running multi-cropped image\n",
      "Guess @ 1 M, prob = 0.89\n",
      "Running file ../recommendation/images/chandula_24_female_2.png\n",
      "Converting PNG to JPEG for ../recommendation/images/chandula_24_female_2.png\n",
      "Running multi-cropped image\n",
      "Guess @ 1 F, prob = 1.00\n",
      "Running file ../recommendation/images/Anjanee_23_female_1.png\n",
      "Converting PNG to JPEG for ../recommendation/images/Anjanee_23_female_1.png\n",
      "Running multi-cropped image\n",
      "Guess @ 1 F, prob = 0.69\n",
      "Running file ../recommendation/images/Sudesha_24_male_2.png\n",
      "Converting PNG to JPEG for ../recommendation/images/Sudesha_24_male_2.png\n",
      "Running multi-cropped image\n",
      "Guess @ 1 M, prob = 1.00\n",
      "Running file ../recommendation/images/Nethma_24_Female_1.png\n",
      "Converting PNG to JPEG for ../recommendation/images/Nethma_24_Female_1.png\n",
      "Running multi-cropped image\n",
      "Guess @ 1 F, prob = 1.00\n",
      "Running file ../recommendation/images/Sanjana_20_male_2.png\n",
      "Converting PNG to JPEG for ../recommendation/images/Sanjana_20_male_2.png\n",
      "Running multi-cropped image\n",
      "Guess @ 1 M, prob = 1.00\n",
      "Running file ../recommendation/images/Anjana_95_Male_2.png\n",
      "Converting PNG to JPEG for ../recommendation/images/Anjana_95_Male_2.png\n",
      "Running multi-cropped image\n",
      "Guess @ 1 M, prob = 1.00\n",
      "Running file ../recommendation/images/Jerry_24_male_1.png\n",
      "Converting PNG to JPEG for ../recommendation/images/Jerry_24_male_1.png\n",
      "Running multi-cropped image\n",
      "Guess @ 1 M, prob = 1.00\n",
      "Running file ../recommendation/images/ishen_15_m_1.png\n",
      "Converting PNG to JPEG for ../recommendation/images/ishen_15_m_1.png\n",
      "Running multi-cropped image\n",
      "Guess @ 1 M, prob = 0.82\n",
      "Running file ../recommendation/images/dylon_20_male_1.png\n",
      "Converting PNG to JPEG for ../recommendation/images/dylon_20_male_1.png\n",
      "Running multi-cropped image\n",
      "Guess @ 1 M, prob = 1.00\n",
      "Running file ../recommendation/images/Bawantha_98_male_1.png\n",
      "Converting PNG to JPEG for ../recommendation/images/Bawantha_98_male_1.png\n",
      "Running multi-cropped image\n",
      "Guess @ 1 M, prob = 0.82\n",
      "Running file ../recommendation/images/Sathsara_24_Male_2.png\n",
      "Converting PNG to JPEG for ../recommendation/images/Sathsara_24_Male_2.png\n",
      "Running multi-cropped image\n",
      "Guess @ 1 M, prob = 0.95\n",
      "Running file ../recommendation/images/dinil_20_male_2.png\n",
      "Converting PNG to JPEG for ../recommendation/images/dinil_20_male_2.png\n",
      "Running multi-cropped image\n",
      "Guess @ 1 M, prob = 0.90\n",
      "Running file ../recommendation/images/Vishmi_20-female_1.png\n",
      "Converting PNG to JPEG for ../recommendation/images/Vishmi_20-female_1.png\n",
      "Running multi-cropped image\n",
      "Guess @ 1 F, prob = 0.80\n",
      "Running file ../recommendation/images/Buddhika_1.png\n",
      "Converting PNG to JPEG for ../recommendation/images/Buddhika_1.png\n",
      "Running multi-cropped image\n",
      "Guess @ 1 F, prob = 0.99\n",
      "Running file ../recommendation/images/Dilakshika_23_female_2.png\n",
      "Converting PNG to JPEG for ../recommendation/images/Dilakshika_23_female_2.png\n",
      "Running multi-cropped image\n",
      "Guess @ 1 F, prob = 1.00\n",
      "Running file ../recommendation/images/thilina_23_male_1.png\n",
      "Converting PNG to JPEG for ../recommendation/images/thilina_23_male_1.png\n",
      "Running multi-cropped image\n",
      "Guess @ 1 M, prob = 0.79\n",
      "Running file ../recommendation/images/Dilith_24_Male_2.png\n",
      "Converting PNG to JPEG for ../recommendation/images/Dilith_24_Male_2.png\n",
      "Running multi-cropped image\n",
      "Guess @ 1 M, prob = 0.81\n",
      "Running file ../recommendation/images/supun_23_male_2.png\n",
      "Converting PNG to JPEG for ../recommendation/images/supun_23_male_2.png\n",
      "Running multi-cropped image\n",
      "Guess @ 1 M, prob = 1.00\n",
      "Running file ../recommendation/images/Omethma_12_female_1.png\n",
      "Converting PNG to JPEG for ../recommendation/images/Omethma_12_female_1.png\n",
      "Running multi-cropped image\n",
      "Guess @ 1 M, prob = 1.00\n",
      "Running file ../recommendation/images/Nethmi_23_female_1.png\n",
      "Converting PNG to JPEG for ../recommendation/images/Nethmi_23_female_1.png\n",
      "Running multi-cropped image\n",
      "Guess @ 1 F, prob = 0.95\n",
      "Running file ../recommendation/images/nandana_23_male _2.png\n",
      "Converting PNG to JPEG for ../recommendation/images/nandana_23_male _2.png\n",
      "Running multi-cropped image\n",
      "Guess @ 1 M, prob = 1.00\n",
      "Running file ../recommendation/images/Buddhima4_21_male_2.png\n",
      "Converting PNG to JPEG for ../recommendation/images/Buddhima4_21_male_2.png\n",
      "Running multi-cropped image\n",
      "Guess @ 1 M, prob = 1.00\n",
      "Running file ../recommendation/images/Nirmal_23_male_1.png\n",
      "Converting PNG to JPEG for ../recommendation/images/Nirmal_23_male_1.png\n",
      "Running multi-cropped image\n",
      "Guess @ 1 F, prob = 0.70\n",
      "Running file ../recommendation/images/Gkarunawathi_74_female_2.png\n",
      "Converting PNG to JPEG for ../recommendation/images/Gkarunawathi_74_female_2.png\n",
      "Running multi-cropped image\n",
      "Guess @ 1 M, prob = 1.00\n",
      "Running file ../recommendation/images/Deshani_24_F_1.png\n",
      "Converting PNG to JPEG for ../recommendation/images/Deshani_24_F_1.png\n",
      "Running multi-cropped image\n",
      "Guess @ 1 F, prob = 1.00\n",
      "Running file ../recommendation/images/Lasun Anjana_23_m_1.png\n",
      "Converting PNG to JPEG for ../recommendation/images/Lasun Anjana_23_m_1.png\n",
      "Running multi-cropped image\n",
      "Guess @ 1 M, prob = 0.83\n",
      "Running file ../recommendation/images/Sanjana_20_male_1.png\n",
      "Converting PNG to JPEG for ../recommendation/images/Sanjana_20_male_1.png\n",
      "Running multi-cropped image\n",
      "Guess @ 1 M, prob = 1.00\n",
      "Running file ../recommendation/images/Nipuna_25_male_2.png\n",
      "Converting PNG to JPEG for ../recommendation/images/Nipuna_25_male_2.png\n",
      "Running multi-cropped image\n",
      "Guess @ 1 M, prob = 1.00\n",
      "Running file ../recommendation/images/Kumudu_55_female_2.png\n",
      "Converting PNG to JPEG for ../recommendation/images/Kumudu_55_female_2.png\n",
      "Running multi-cropped image\n",
      "Guess @ 1 M, prob = 0.55\n",
      "Running file ../recommendation/images/Dinusha_21_male_2.png\n",
      "Converting PNG to JPEG for ../recommendation/images/Dinusha_21_male_2.png\n",
      "Running multi-cropped image\n",
      "Guess @ 1 M, prob = 0.85\n"
     ]
    },
    {
     "ename": "SystemExit",
     "evalue": "",
     "output_type": "error",
     "traceback": [
      "An exception has occurred, use %tb to see the full traceback.\n",
      "\u001b[0;31mSystemExit\u001b[0m\n"
     ]
    },
    {
     "name": "stderr",
     "output_type": "stream",
     "text": [
      "/home/hicup/anaconda3/envs/tf_gpu/lib/python3.7/site-packages/IPython/core/interactiveshell.py:3445: UserWarning: To exit: use 'exit', 'quit', or Ctrl-D.\n",
      "  warn(\"To exit: use 'exit', 'quit', or Ctrl-D.\", stacklevel=1)\n"
     ]
    }
   ],
   "source": [
    "tf.app.run()"
   ]
  },
  {
   "cell_type": "code",
   "execution_count": null,
   "metadata": {},
   "outputs": [],
   "source": [
    "# add accuracy\n",
    "# add training acc and loss curves"
   ]
  },
  {
   "cell_type": "code",
   "execution_count": null,
   "metadata": {},
   "outputs": [],
   "source": []
  },
  {
   "cell_type": "code",
   "execution_count": null,
   "metadata": {},
   "outputs": [],
   "source": []
  },
  {
   "cell_type": "code",
   "execution_count": null,
   "metadata": {},
   "outputs": [],
   "source": []
  },
  {
   "cell_type": "code",
   "execution_count": null,
   "metadata": {},
   "outputs": [],
   "source": []
  },
  {
   "cell_type": "code",
   "execution_count": 8,
   "metadata": {},
   "outputs": [
    {
     "data": {
      "text/plain": [
       "0"
      ]
     },
     "execution_count": 8,
     "metadata": {},
     "output_type": "execute_result"
    }
   ],
   "source": [
    "os.system('python guess.py --class_type gender --model_type inception --model_dir ./gender/ --filename ../recommendation/images/lahiru_23_malexxx_1.png')\n"
   ]
  },
  {
   "cell_type": "code",
   "execution_count": 3,
   "metadata": {},
   "outputs": [
    {
     "name": "stdout",
     "output_type": "stream",
     "text": [
      "/home/hicup/Documents/ad-recommendation/demography\r\n"
     ]
    }
   ],
   "source": [
    "!pwd"
   ]
  },
  {
   "cell_type": "code",
   "execution_count": null,
   "metadata": {},
   "outputs": [],
   "source": []
  }
 ],
 "metadata": {
  "kernelspec": {
   "display_name": "Python 3",
   "language": "python",
   "name": "python3"
  },
  "language_info": {
   "codemirror_mode": {
    "name": "ipython",
    "version": 3
   },
   "file_extension": ".py",
   "mimetype": "text/x-python",
   "name": "python",
   "nbconvert_exporter": "python",
   "pygments_lexer": "ipython3",
   "version": "3.8.5"
  }
 },
 "nbformat": 4,
 "nbformat_minor": 4
}
