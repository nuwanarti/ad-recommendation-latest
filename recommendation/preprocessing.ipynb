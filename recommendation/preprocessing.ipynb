{
 "cells": [
  {
   "cell_type": "code",
   "execution_count": 1,
   "metadata": {
    "scrolled": true
   },
   "outputs": [],
   "source": [
    "import pymongo\n",
    "import pandas as pd\n",
    "import base64\n",
    "from PIL import Image\n",
    "import io\n",
    "import matplotlib.pyplot as plt\n",
    "from pandas.plotting import parallel_coordinates"
   ]
  },
  {
   "cell_type": "code",
   "execution_count": 6,
   "metadata": {},
   "outputs": [],
   "source": [
    "# !pip install pymongo"
   ]
  },
  {
   "cell_type": "code",
   "execution_count": 7,
   "metadata": {},
   "outputs": [],
   "source": [
    "timelines = pd.read_csv('timelines.csv')"
   ]
  },
  {
   "cell_type": "code",
   "execution_count": 8,
   "metadata": {},
   "outputs": [],
   "source": [
    "demographies = pd.read_csv('demographies.csv')"
   ]
  },
  {
   "cell_type": "code",
   "execution_count": 10,
   "metadata": {},
   "outputs": [],
   "source": [
    "timelines = timelines.dropna()"
   ]
  },
  {
   "cell_type": "code",
   "execution_count": 6,
   "metadata": {},
   "outputs": [],
   "source": [
    "# myclient = pymongo.MongoClient(\"mongodb://localhost:27017/\")\n",
    "# db = myclient[\"recommendersystems\"]\n",
    "# emo = db[\"emotions\"]\n",
    "\n",
    "# x = emo.find_one()\n",
    "\n",
    "# print(x)"
   ]
  },
  {
   "cell_type": "code",
   "execution_count": 11,
   "metadata": {},
   "outputs": [],
   "source": [
    "emo = pd.read_csv('emotions.csv')\n",
    "emo = emo.sort_values(by=['userId', 'timestamp'])\n",
    "emo = emo.dropna()"
   ]
  },
  {
   "cell_type": "code",
   "execution_count": 12,
   "metadata": {
    "scrolled": true
   },
   "outputs": [
    {
     "data": {
      "text/html": [
       "<div>\n",
       "<style scoped>\n",
       "    .dataframe tbody tr th:only-of-type {\n",
       "        vertical-align: middle;\n",
       "    }\n",
       "\n",
       "    .dataframe tbody tr th {\n",
       "        vertical-align: top;\n",
       "    }\n",
       "\n",
       "    .dataframe thead th {\n",
       "        text-align: right;\n",
       "    }\n",
       "</style>\n",
       "<table border=\"1\" class=\"dataframe\">\n",
       "  <thead>\n",
       "    <tr style=\"text-align: right;\">\n",
       "      <th></th>\n",
       "      <th>smile</th>\n",
       "      <th>innerBrowRaise</th>\n",
       "      <th>browRaise</th>\n",
       "      <th>browFurrow</th>\n",
       "      <th>noseWrinkle</th>\n",
       "      <th>upperLipRaise</th>\n",
       "      <th>lipCornerDepressor</th>\n",
       "      <th>chinRaise</th>\n",
       "      <th>lipPucker</th>\n",
       "      <th>lipPress</th>\n",
       "      <th>...</th>\n",
       "      <th>disgust</th>\n",
       "      <th>contempt</th>\n",
       "      <th>anger</th>\n",
       "      <th>fear</th>\n",
       "      <th>surprise</th>\n",
       "      <th>valence</th>\n",
       "      <th>engagement</th>\n",
       "      <th>timestamp</th>\n",
       "      <th>userId</th>\n",
       "      <th>_id</th>\n",
       "    </tr>\n",
       "  </thead>\n",
       "  <tbody>\n",
       "    <tr>\n",
       "      <th>219105</th>\n",
       "      <td>0.000023</td>\n",
       "      <td>0.286420</td>\n",
       "      <td>0.324985</td>\n",
       "      <td>0.000130</td>\n",
       "      <td>0.043827</td>\n",
       "      <td>0.000022</td>\n",
       "      <td>0.000339</td>\n",
       "      <td>0.388137</td>\n",
       "      <td>0.003109</td>\n",
       "      <td>0.002685</td>\n",
       "      <td>...</td>\n",
       "      <td>0.427603</td>\n",
       "      <td>0.192674</td>\n",
       "      <td>0.001948</td>\n",
       "      <td>0.004508</td>\n",
       "      <td>0.197079</td>\n",
       "      <td>0.0</td>\n",
       "      <td>0.083111</td>\n",
       "      <td>1.623047e+12</td>\n",
       "      <td>Akarsha_12_Female</td>\n",
       "      <td>ObjectId(60bdbd2d75bcd134fe775760)</td>\n",
       "    </tr>\n",
       "    <tr>\n",
       "      <th>219107</th>\n",
       "      <td>0.001308</td>\n",
       "      <td>0.005566</td>\n",
       "      <td>0.290480</td>\n",
       "      <td>0.000741</td>\n",
       "      <td>0.265971</td>\n",
       "      <td>0.027669</td>\n",
       "      <td>0.000128</td>\n",
       "      <td>0.035873</td>\n",
       "      <td>0.001603</td>\n",
       "      <td>0.001879</td>\n",
       "      <td>...</td>\n",
       "      <td>0.479791</td>\n",
       "      <td>0.192659</td>\n",
       "      <td>0.001952</td>\n",
       "      <td>0.004343</td>\n",
       "      <td>0.200429</td>\n",
       "      <td>0.0</td>\n",
       "      <td>0.117863</td>\n",
       "      <td>1.623047e+12</td>\n",
       "      <td>Akarsha_12_Female</td>\n",
       "      <td>ObjectId(60bdbd2d75bcd134fe775761)</td>\n",
       "    </tr>\n",
       "    <tr>\n",
       "      <th>219106</th>\n",
       "      <td>0.000184</td>\n",
       "      <td>0.011433</td>\n",
       "      <td>0.138774</td>\n",
       "      <td>0.001032</td>\n",
       "      <td>0.209178</td>\n",
       "      <td>0.041469</td>\n",
       "      <td>0.002174</td>\n",
       "      <td>0.028054</td>\n",
       "      <td>0.001491</td>\n",
       "      <td>0.001221</td>\n",
       "      <td>...</td>\n",
       "      <td>0.443336</td>\n",
       "      <td>0.192675</td>\n",
       "      <td>0.001963</td>\n",
       "      <td>0.004485</td>\n",
       "      <td>0.195367</td>\n",
       "      <td>0.0</td>\n",
       "      <td>0.085559</td>\n",
       "      <td>1.623047e+12</td>\n",
       "      <td>Akarsha_12_Female</td>\n",
       "      <td>ObjectId(60bdbd2d75bcd134fe775762)</td>\n",
       "    </tr>\n",
       "    <tr>\n",
       "      <th>219108</th>\n",
       "      <td>0.000069</td>\n",
       "      <td>0.004591</td>\n",
       "      <td>0.061073</td>\n",
       "      <td>0.009487</td>\n",
       "      <td>21.571196</td>\n",
       "      <td>0.042780</td>\n",
       "      <td>0.003898</td>\n",
       "      <td>0.233027</td>\n",
       "      <td>0.009496</td>\n",
       "      <td>0.000315</td>\n",
       "      <td>...</td>\n",
       "      <td>2.915958</td>\n",
       "      <td>0.192707</td>\n",
       "      <td>0.001984</td>\n",
       "      <td>0.004514</td>\n",
       "      <td>0.193769</td>\n",
       "      <td>0.0</td>\n",
       "      <td>0.373818</td>\n",
       "      <td>1.623047e+12</td>\n",
       "      <td>Akarsha_12_Female</td>\n",
       "      <td>ObjectId(60bdbd2d75bcd134fe775763)</td>\n",
       "    </tr>\n",
       "    <tr>\n",
       "      <th>219110</th>\n",
       "      <td>0.000199</td>\n",
       "      <td>0.006848</td>\n",
       "      <td>0.219500</td>\n",
       "      <td>0.030979</td>\n",
       "      <td>4.126130</td>\n",
       "      <td>0.044266</td>\n",
       "      <td>0.019357</td>\n",
       "      <td>6.855668</td>\n",
       "      <td>0.012115</td>\n",
       "      <td>0.000771</td>\n",
       "      <td>...</td>\n",
       "      <td>0.628714</td>\n",
       "      <td>0.192783</td>\n",
       "      <td>0.002459</td>\n",
       "      <td>0.004506</td>\n",
       "      <td>0.194787</td>\n",
       "      <td>0.0</td>\n",
       "      <td>0.172907</td>\n",
       "      <td>1.623047e+12</td>\n",
       "      <td>Akarsha_12_Female</td>\n",
       "      <td>ObjectId(60bdbd2d75bcd134fe775764)</td>\n",
       "    </tr>\n",
       "  </tbody>\n",
       "</table>\n",
       "<p>5 rows × 33 columns</p>\n",
       "</div>"
      ],
      "text/plain": [
       "           smile  innerBrowRaise  browRaise  browFurrow  noseWrinkle  \\\n",
       "219105  0.000023        0.286420   0.324985    0.000130     0.043827   \n",
       "219107  0.001308        0.005566   0.290480    0.000741     0.265971   \n",
       "219106  0.000184        0.011433   0.138774    0.001032     0.209178   \n",
       "219108  0.000069        0.004591   0.061073    0.009487    21.571196   \n",
       "219110  0.000199        0.006848   0.219500    0.030979     4.126130   \n",
       "\n",
       "        upperLipRaise  lipCornerDepressor  chinRaise  lipPucker  lipPress  \\\n",
       "219105       0.000022            0.000339   0.388137   0.003109  0.002685   \n",
       "219107       0.027669            0.000128   0.035873   0.001603  0.001879   \n",
       "219106       0.041469            0.002174   0.028054   0.001491  0.001221   \n",
       "219108       0.042780            0.003898   0.233027   0.009496  0.000315   \n",
       "219110       0.044266            0.019357   6.855668   0.012115  0.000771   \n",
       "\n",
       "        ...   disgust  contempt     anger      fear  surprise  valence  \\\n",
       "219105  ...  0.427603  0.192674  0.001948  0.004508  0.197079      0.0   \n",
       "219107  ...  0.479791  0.192659  0.001952  0.004343  0.200429      0.0   \n",
       "219106  ...  0.443336  0.192675  0.001963  0.004485  0.195367      0.0   \n",
       "219108  ...  2.915958  0.192707  0.001984  0.004514  0.193769      0.0   \n",
       "219110  ...  0.628714  0.192783  0.002459  0.004506  0.194787      0.0   \n",
       "\n",
       "        engagement     timestamp             userId  \\\n",
       "219105    0.083111  1.623047e+12  Akarsha_12_Female   \n",
       "219107    0.117863  1.623047e+12  Akarsha_12_Female   \n",
       "219106    0.085559  1.623047e+12  Akarsha_12_Female   \n",
       "219108    0.373818  1.623047e+12  Akarsha_12_Female   \n",
       "219110    0.172907  1.623047e+12  Akarsha_12_Female   \n",
       "\n",
       "                                       _id  \n",
       "219105  ObjectId(60bdbd2d75bcd134fe775760)  \n",
       "219107  ObjectId(60bdbd2d75bcd134fe775761)  \n",
       "219106  ObjectId(60bdbd2d75bcd134fe775762)  \n",
       "219108  ObjectId(60bdbd2d75bcd134fe775763)  \n",
       "219110  ObjectId(60bdbd2d75bcd134fe775764)  \n",
       "\n",
       "[5 rows x 33 columns]"
      ]
     },
     "execution_count": 12,
     "metadata": {},
     "output_type": "execute_result"
    }
   ],
   "source": [
    "emo.head()"
   ]
  },
  {
   "cell_type": "code",
   "execution_count": 9,
   "metadata": {
    "scrolled": true
   },
   "outputs": [
    {
     "data": {
      "text/plain": [
       "Index(['smile', 'innerBrowRaise', 'browRaise', 'browFurrow', 'noseWrinkle',\n",
       "       'upperLipRaise', 'lipCornerDepressor', 'chinRaise', 'lipPucker',\n",
       "       'lipPress', 'lipSuck', 'mouthOpen', 'smirk', 'eyeClosure', 'attention',\n",
       "       'lidTighten', 'jawDrop', 'dimpler', 'eyeWiden', 'cheekRaise',\n",
       "       'lipStretch', 'joy', 'sadness', 'disgust', 'contempt', 'anger', 'fear',\n",
       "       'surprise', 'valence', 'engagement', 'timestamp', 'userId', '_id'],\n",
       "      dtype='object')"
      ]
     },
     "execution_count": 9,
     "metadata": {},
     "output_type": "execute_result"
    }
   ],
   "source": [
    "emo.columns"
   ]
  },
  {
   "cell_type": "code",
   "execution_count": 13,
   "metadata": {},
   "outputs": [],
   "source": [
    "def getRows(name):\n",
    "    rows = emo.loc[emo['userId'] == name]\n",
    "    "
   ]
  },
  {
   "cell_type": "code",
   "execution_count": 14,
   "metadata": {},
   "outputs": [],
   "source": [
    "# 1 min ad duration for 32 seconds -> tikiri mari\n",
    "# 3 min 45 seconds duration for 32 seconds -> boc\n",
    "# 6 min 6 seconds duration for 32 seconds -> cream cracker\n",
    "# 8 min 6 seconds duration for 32 seconds -> koththu mee"
   ]
  },
  {
   "cell_type": "code",
   "execution_count": 15,
   "metadata": {},
   "outputs": [],
   "source": [
    "# function for save images\n",
    "def saveImg(fileName, imgString):\n",
    "#     print(imgString)\n",
    "#     return\n",
    "    image = base64.b64decode(imgString[22:])\n",
    "    imagePath = ('images/' + fileName)\n",
    "    img = Image.open(io.BytesIO(image))\n",
    "    img.save(imagePath, 'png')"
   ]
  },
  {
   "cell_type": "code",
   "execution_count": 16,
   "metadata": {},
   "outputs": [],
   "source": [
    "# iterate through demographies and save the images\n",
    "# for i, row in demographies.iterrows():\n",
    "#     images = json.loads(row['images'])\n",
    "#     if(len(images) > 2):\n",
    "#         saveImg(row['userId'] + '_' + str(1) + '.png', images[0]['data'])\n",
    "#         saveImg(row['userId'] + '_' + str(2) + '.png', images[1]['data'])\n",
    "# #     break\n",
    "        \n",
    "            "
   ]
  },
  {
   "cell_type": "code",
   "execution_count": 15,
   "metadata": {},
   "outputs": [],
   "source": [
    "movieParts = pd.DataFrame([], columns=emo.columns)\n",
    "frame = []"
   ]
  },
  {
   "cell_type": "code",
   "execution_count": 210,
   "metadata": {
    "scrolled": true
   },
   "outputs": [
    {
     "name": "stderr",
     "output_type": "stream",
     "text": [
      "<ipython-input-210-ec21dfe28a42>:8: SettingWithCopyWarning: \n",
      "A value is trying to be set on a copy of a slice from a DataFrame.\n",
      "Try using .loc[row_indexer,col_indexer] = value instead\n",
      "\n",
      "See the caveats in the documentation: https://pandas.pydata.org/pandas-docs/stable/user_guide/indexing.html#returning-a-view-versus-a-copy\n",
      "  userEmo['timestamp'] -= initValue\n",
      "<ipython-input-210-ec21dfe28a42>:9: SettingWithCopyWarning: \n",
      "A value is trying to be set on a copy of a slice from a DataFrame.\n",
      "Try using .loc[row_indexer,col_indexer] = value instead\n",
      "\n",
      "See the caveats in the documentation: https://pandas.pydata.org/pandas-docs/stable/user_guide/indexing.html#returning-a-view-versus-a-copy\n",
      "  userEmo['timestamp'] /= 1000\n"
     ]
    },
    {
     "name": "stdout",
     "output_type": "stream",
     "text": [
      "727\n",
      "2190\n",
      "5116\n",
      "5712\n",
      "8073\n",
      "8772\n",
      "10468\n",
      "445\n"
     ]
    },
    {
     "name": "stderr",
     "output_type": "stream",
     "text": [
      "<ipython-input-210-ec21dfe28a42>:8: SettingWithCopyWarning: \n",
      "A value is trying to be set on a copy of a slice from a DataFrame.\n",
      "Try using .loc[row_indexer,col_indexer] = value instead\n",
      "\n",
      "See the caveats in the documentation: https://pandas.pydata.org/pandas-docs/stable/user_guide/indexing.html#returning-a-view-versus-a-copy\n",
      "  userEmo['timestamp'] -= initValue\n",
      "<ipython-input-210-ec21dfe28a42>:9: SettingWithCopyWarning: \n",
      "A value is trying to be set on a copy of a slice from a DataFrame.\n",
      "Try using .loc[row_indexer,col_indexer] = value instead\n",
      "\n",
      "See the caveats in the documentation: https://pandas.pydata.org/pandas-docs/stable/user_guide/indexing.html#returning-a-view-versus-a-copy\n",
      "  userEmo['timestamp'] /= 1000\n"
     ]
    },
    {
     "name": "stdout",
     "output_type": "stream",
     "text": [
      "1332\n",
      "3141\n",
      "3557\n",
      "5057\n",
      "5418\n",
      "6584\n",
      "446\n",
      "1390\n"
     ]
    },
    {
     "name": "stderr",
     "output_type": "stream",
     "text": [
      "<ipython-input-210-ec21dfe28a42>:8: SettingWithCopyWarning: \n",
      "A value is trying to be set on a copy of a slice from a DataFrame.\n",
      "Try using .loc[row_indexer,col_indexer] = value instead\n",
      "\n",
      "See the caveats in the documentation: https://pandas.pydata.org/pandas-docs/stable/user_guide/indexing.html#returning-a-view-versus-a-copy\n",
      "  userEmo['timestamp'] -= initValue\n",
      "<ipython-input-210-ec21dfe28a42>:9: SettingWithCopyWarning: \n",
      "A value is trying to be set on a copy of a slice from a DataFrame.\n",
      "Try using .loc[row_indexer,col_indexer] = value instead\n",
      "\n",
      "See the caveats in the documentation: https://pandas.pydata.org/pandas-docs/stable/user_guide/indexing.html#returning-a-view-versus-a-copy\n",
      "  userEmo['timestamp'] /= 1000\n"
     ]
    },
    {
     "name": "stdout",
     "output_type": "stream",
     "text": [
      "3301\n",
      "3758\n",
      "5277\n",
      "5725\n",
      "6965\n"
     ]
    },
    {
     "name": "stderr",
     "output_type": "stream",
     "text": [
      "<ipython-input-210-ec21dfe28a42>:8: SettingWithCopyWarning: \n",
      "A value is trying to be set on a copy of a slice from a DataFrame.\n",
      "Try using .loc[row_indexer,col_indexer] = value instead\n",
      "\n",
      "See the caveats in the documentation: https://pandas.pydata.org/pandas-docs/stable/user_guide/indexing.html#returning-a-view-versus-a-copy\n",
      "  userEmo['timestamp'] -= initValue\n",
      "<ipython-input-210-ec21dfe28a42>:9: SettingWithCopyWarning: \n",
      "A value is trying to be set on a copy of a slice from a DataFrame.\n",
      "Try using .loc[row_indexer,col_indexer] = value instead\n",
      "\n",
      "See the caveats in the documentation: https://pandas.pydata.org/pandas-docs/stable/user_guide/indexing.html#returning-a-view-versus-a-copy\n",
      "  userEmo['timestamp'] /= 1000\n"
     ]
    },
    {
     "name": "stdout",
     "output_type": "stream",
     "text": [
      "418\n",
      "1360\n",
      "3229\n",
      "3682\n",
      "5172\n",
      "5423\n",
      "6405\n",
      "428\n"
     ]
    },
    {
     "name": "stderr",
     "output_type": "stream",
     "text": [
      "<ipython-input-210-ec21dfe28a42>:8: SettingWithCopyWarning: \n",
      "A value is trying to be set on a copy of a slice from a DataFrame.\n",
      "Try using .loc[row_indexer,col_indexer] = value instead\n",
      "\n",
      "See the caveats in the documentation: https://pandas.pydata.org/pandas-docs/stable/user_guide/indexing.html#returning-a-view-versus-a-copy\n",
      "  userEmo['timestamp'] -= initValue\n",
      "<ipython-input-210-ec21dfe28a42>:9: SettingWithCopyWarning: \n",
      "A value is trying to be set on a copy of a slice from a DataFrame.\n",
      "Try using .loc[row_indexer,col_indexer] = value instead\n",
      "\n",
      "See the caveats in the documentation: https://pandas.pydata.org/pandas-docs/stable/user_guide/indexing.html#returning-a-view-versus-a-copy\n",
      "  userEmo['timestamp'] /= 1000\n"
     ]
    },
    {
     "name": "stdout",
     "output_type": "stream",
     "text": [
      "1210\n",
      "3045\n",
      "3499\n",
      "4853\n",
      "5235\n",
      "6185\n"
     ]
    },
    {
     "name": "stderr",
     "output_type": "stream",
     "text": [
      "<ipython-input-210-ec21dfe28a42>:8: SettingWithCopyWarning: \n",
      "A value is trying to be set on a copy of a slice from a DataFrame.\n",
      "Try using .loc[row_indexer,col_indexer] = value instead\n",
      "\n",
      "See the caveats in the documentation: https://pandas.pydata.org/pandas-docs/stable/user_guide/indexing.html#returning-a-view-versus-a-copy\n",
      "  userEmo['timestamp'] -= initValue\n",
      "<ipython-input-210-ec21dfe28a42>:9: SettingWithCopyWarning: \n",
      "A value is trying to be set on a copy of a slice from a DataFrame.\n",
      "Try using .loc[row_indexer,col_indexer] = value instead\n",
      "\n",
      "See the caveats in the documentation: https://pandas.pydata.org/pandas-docs/stable/user_guide/indexing.html#returning-a-view-versus-a-copy\n",
      "  userEmo['timestamp'] /= 1000\n"
     ]
    },
    {
     "name": "stdout",
     "output_type": "stream",
     "text": [
      "491\n",
      "1468\n",
      "3392\n",
      "3798\n",
      "5393\n",
      "5795\n",
      "7109\n",
      "357\n"
     ]
    },
    {
     "name": "stderr",
     "output_type": "stream",
     "text": [
      "<ipython-input-210-ec21dfe28a42>:8: SettingWithCopyWarning: \n",
      "A value is trying to be set on a copy of a slice from a DataFrame.\n",
      "Try using .loc[row_indexer,col_indexer] = value instead\n",
      "\n",
      "See the caveats in the documentation: https://pandas.pydata.org/pandas-docs/stable/user_guide/indexing.html#returning-a-view-versus-a-copy\n",
      "  userEmo['timestamp'] -= initValue\n",
      "<ipython-input-210-ec21dfe28a42>:9: SettingWithCopyWarning: \n",
      "A value is trying to be set on a copy of a slice from a DataFrame.\n",
      "Try using .loc[row_indexer,col_indexer] = value instead\n",
      "\n",
      "See the caveats in the documentation: https://pandas.pydata.org/pandas-docs/stable/user_guide/indexing.html#returning-a-view-versus-a-copy\n",
      "  userEmo['timestamp'] /= 1000\n"
     ]
    },
    {
     "name": "stdout",
     "output_type": "stream",
     "text": [
      "1093\n",
      "2347\n",
      "2674\n",
      "3923\n",
      "4284\n",
      "5208\n",
      "487\n",
      "1495\n"
     ]
    },
    {
     "name": "stderr",
     "output_type": "stream",
     "text": [
      "<ipython-input-210-ec21dfe28a42>:8: SettingWithCopyWarning: \n",
      "A value is trying to be set on a copy of a slice from a DataFrame.\n",
      "Try using .loc[row_indexer,col_indexer] = value instead\n",
      "\n",
      "See the caveats in the documentation: https://pandas.pydata.org/pandas-docs/stable/user_guide/indexing.html#returning-a-view-versus-a-copy\n",
      "  userEmo['timestamp'] -= initValue\n",
      "<ipython-input-210-ec21dfe28a42>:9: SettingWithCopyWarning: \n",
      "A value is trying to be set on a copy of a slice from a DataFrame.\n",
      "Try using .loc[row_indexer,col_indexer] = value instead\n",
      "\n",
      "See the caveats in the documentation: https://pandas.pydata.org/pandas-docs/stable/user_guide/indexing.html#returning-a-view-versus-a-copy\n",
      "  userEmo['timestamp'] /= 1000\n"
     ]
    },
    {
     "name": "stdout",
     "output_type": "stream",
     "text": [
      "3556\n",
      "4051\n",
      "5776\n",
      "6268\n",
      "7667\n"
     ]
    },
    {
     "name": "stderr",
     "output_type": "stream",
     "text": [
      "<ipython-input-210-ec21dfe28a42>:8: SettingWithCopyWarning: \n",
      "A value is trying to be set on a copy of a slice from a DataFrame.\n",
      "Try using .loc[row_indexer,col_indexer] = value instead\n",
      "\n",
      "See the caveats in the documentation: https://pandas.pydata.org/pandas-docs/stable/user_guide/indexing.html#returning-a-view-versus-a-copy\n",
      "  userEmo['timestamp'] -= initValue\n",
      "<ipython-input-210-ec21dfe28a42>:9: SettingWithCopyWarning: \n",
      "A value is trying to be set on a copy of a slice from a DataFrame.\n",
      "Try using .loc[row_indexer,col_indexer] = value instead\n",
      "\n",
      "See the caveats in the documentation: https://pandas.pydata.org/pandas-docs/stable/user_guide/indexing.html#returning-a-view-versus-a-copy\n",
      "  userEmo['timestamp'] /= 1000\n"
     ]
    },
    {
     "name": "stdout",
     "output_type": "stream",
     "text": [
      "222\n",
      "1096\n",
      "2663\n",
      "2944\n",
      "4094\n",
      "4372\n",
      "5223\n"
     ]
    },
    {
     "name": "stderr",
     "output_type": "stream",
     "text": [
      "<ipython-input-210-ec21dfe28a42>:8: SettingWithCopyWarning: \n",
      "A value is trying to be set on a copy of a slice from a DataFrame.\n",
      "Try using .loc[row_indexer,col_indexer] = value instead\n",
      "\n",
      "See the caveats in the documentation: https://pandas.pydata.org/pandas-docs/stable/user_guide/indexing.html#returning-a-view-versus-a-copy\n",
      "  userEmo['timestamp'] -= initValue\n",
      "<ipython-input-210-ec21dfe28a42>:9: SettingWithCopyWarning: \n",
      "A value is trying to be set on a copy of a slice from a DataFrame.\n",
      "Try using .loc[row_indexer,col_indexer] = value instead\n",
      "\n",
      "See the caveats in the documentation: https://pandas.pydata.org/pandas-docs/stable/user_guide/indexing.html#returning-a-view-versus-a-copy\n",
      "  userEmo['timestamp'] /= 1000\n"
     ]
    },
    {
     "name": "stdout",
     "output_type": "stream",
     "text": [
      "0\n",
      "253\n",
      "1153\n",
      "1413\n",
      "2620\n",
      "3101\n",
      "4880\n"
     ]
    },
    {
     "name": "stderr",
     "output_type": "stream",
     "text": [
      "<ipython-input-210-ec21dfe28a42>:8: SettingWithCopyWarning: \n",
      "A value is trying to be set on a copy of a slice from a DataFrame.\n",
      "Try using .loc[row_indexer,col_indexer] = value instead\n",
      "\n",
      "See the caveats in the documentation: https://pandas.pydata.org/pandas-docs/stable/user_guide/indexing.html#returning-a-view-versus-a-copy\n",
      "  userEmo['timestamp'] -= initValue\n",
      "<ipython-input-210-ec21dfe28a42>:9: SettingWithCopyWarning: \n",
      "A value is trying to be set on a copy of a slice from a DataFrame.\n",
      "Try using .loc[row_indexer,col_indexer] = value instead\n",
      "\n",
      "See the caveats in the documentation: https://pandas.pydata.org/pandas-docs/stable/user_guide/indexing.html#returning-a-view-versus-a-copy\n",
      "  userEmo['timestamp'] /= 1000\n"
     ]
    },
    {
     "name": "stdout",
     "output_type": "stream",
     "text": [
      "304\n",
      "1148\n",
      "2547\n",
      "2906\n",
      "4078\n",
      "4430\n",
      "5389\n",
      "303\n"
     ]
    },
    {
     "name": "stderr",
     "output_type": "stream",
     "text": [
      "<ipython-input-210-ec21dfe28a42>:8: SettingWithCopyWarning: \n",
      "A value is trying to be set on a copy of a slice from a DataFrame.\n",
      "Try using .loc[row_indexer,col_indexer] = value instead\n",
      "\n",
      "See the caveats in the documentation: https://pandas.pydata.org/pandas-docs/stable/user_guide/indexing.html#returning-a-view-versus-a-copy\n",
      "  userEmo['timestamp'] -= initValue\n",
      "<ipython-input-210-ec21dfe28a42>:9: SettingWithCopyWarning: \n",
      "A value is trying to be set on a copy of a slice from a DataFrame.\n",
      "Try using .loc[row_indexer,col_indexer] = value instead\n",
      "\n",
      "See the caveats in the documentation: https://pandas.pydata.org/pandas-docs/stable/user_guide/indexing.html#returning-a-view-versus-a-copy\n",
      "  userEmo['timestamp'] /= 1000\n"
     ]
    },
    {
     "name": "stdout",
     "output_type": "stream",
     "text": [
      "1099\n",
      "2250\n",
      "2505\n",
      "3423\n",
      "3681\n",
      "4463\n",
      "11\n"
     ]
    },
    {
     "name": "stderr",
     "output_type": "stream",
     "text": [
      "<ipython-input-210-ec21dfe28a42>:8: SettingWithCopyWarning: \n",
      "A value is trying to be set on a copy of a slice from a DataFrame.\n",
      "Try using .loc[row_indexer,col_indexer] = value instead\n",
      "\n",
      "See the caveats in the documentation: https://pandas.pydata.org/pandas-docs/stable/user_guide/indexing.html#returning-a-view-versus-a-copy\n",
      "  userEmo['timestamp'] -= initValue\n",
      "<ipython-input-210-ec21dfe28a42>:9: SettingWithCopyWarning: \n",
      "A value is trying to be set on a copy of a slice from a DataFrame.\n",
      "Try using .loc[row_indexer,col_indexer] = value instead\n",
      "\n",
      "See the caveats in the documentation: https://pandas.pydata.org/pandas-docs/stable/user_guide/indexing.html#returning-a-view-versus-a-copy\n",
      "  userEmo['timestamp'] /= 1000\n"
     ]
    },
    {
     "name": "stdout",
     "output_type": "stream",
     "text": [
      "73\n",
      "189\n",
      "213\n",
      "282\n",
      "302\n",
      "346\n"
     ]
    },
    {
     "name": "stderr",
     "output_type": "stream",
     "text": [
      "<ipython-input-210-ec21dfe28a42>:8: SettingWithCopyWarning: \n",
      "A value is trying to be set on a copy of a slice from a DataFrame.\n",
      "Try using .loc[row_indexer,col_indexer] = value instead\n",
      "\n",
      "See the caveats in the documentation: https://pandas.pydata.org/pandas-docs/stable/user_guide/indexing.html#returning-a-view-versus-a-copy\n",
      "  userEmo['timestamp'] -= initValue\n",
      "<ipython-input-210-ec21dfe28a42>:9: SettingWithCopyWarning: \n",
      "A value is trying to be set on a copy of a slice from a DataFrame.\n",
      "Try using .loc[row_indexer,col_indexer] = value instead\n",
      "\n",
      "See the caveats in the documentation: https://pandas.pydata.org/pandas-docs/stable/user_guide/indexing.html#returning-a-view-versus-a-copy\n",
      "  userEmo['timestamp'] /= 1000\n"
     ]
    },
    {
     "name": "stdout",
     "output_type": "stream",
     "text": [
      "253\n",
      "780\n",
      "1882\n",
      "2147\n",
      "2999\n",
      "3237\n",
      "3924\n"
     ]
    },
    {
     "name": "stderr",
     "output_type": "stream",
     "text": [
      "<ipython-input-210-ec21dfe28a42>:8: SettingWithCopyWarning: \n",
      "A value is trying to be set on a copy of a slice from a DataFrame.\n",
      "Try using .loc[row_indexer,col_indexer] = value instead\n",
      "\n",
      "See the caveats in the documentation: https://pandas.pydata.org/pandas-docs/stable/user_guide/indexing.html#returning-a-view-versus-a-copy\n",
      "  userEmo['timestamp'] -= initValue\n",
      "<ipython-input-210-ec21dfe28a42>:9: SettingWithCopyWarning: \n",
      "A value is trying to be set on a copy of a slice from a DataFrame.\n",
      "Try using .loc[row_indexer,col_indexer] = value instead\n",
      "\n",
      "See the caveats in the documentation: https://pandas.pydata.org/pandas-docs/stable/user_guide/indexing.html#returning-a-view-versus-a-copy\n",
      "  userEmo['timestamp'] /= 1000\n"
     ]
    },
    {
     "name": "stdout",
     "output_type": "stream",
     "text": [
      "441\n",
      "1395\n",
      "3274\n",
      "3775\n",
      "5294\n",
      "5610\n",
      "6917\n",
      "492\n"
     ]
    },
    {
     "name": "stderr",
     "output_type": "stream",
     "text": [
      "<ipython-input-210-ec21dfe28a42>:8: SettingWithCopyWarning: \n",
      "A value is trying to be set on a copy of a slice from a DataFrame.\n",
      "Try using .loc[row_indexer,col_indexer] = value instead\n",
      "\n",
      "See the caveats in the documentation: https://pandas.pydata.org/pandas-docs/stable/user_guide/indexing.html#returning-a-view-versus-a-copy\n",
      "  userEmo['timestamp'] -= initValue\n",
      "<ipython-input-210-ec21dfe28a42>:9: SettingWithCopyWarning: \n",
      "A value is trying to be set on a copy of a slice from a DataFrame.\n",
      "Try using .loc[row_indexer,col_indexer] = value instead\n",
      "\n",
      "See the caveats in the documentation: https://pandas.pydata.org/pandas-docs/stable/user_guide/indexing.html#returning-a-view-versus-a-copy\n",
      "  userEmo['timestamp'] /= 1000\n"
     ]
    },
    {
     "name": "stdout",
     "output_type": "stream",
     "text": [
      "1455\n",
      "3417\n",
      "3892\n",
      "5555\n",
      "6045\n",
      "7259\n",
      "461\n",
      "1397\n"
     ]
    },
    {
     "name": "stderr",
     "output_type": "stream",
     "text": [
      "<ipython-input-210-ec21dfe28a42>:8: SettingWithCopyWarning: \n",
      "A value is trying to be set on a copy of a slice from a DataFrame.\n",
      "Try using .loc[row_indexer,col_indexer] = value instead\n",
      "\n",
      "See the caveats in the documentation: https://pandas.pydata.org/pandas-docs/stable/user_guide/indexing.html#returning-a-view-versus-a-copy\n",
      "  userEmo['timestamp'] -= initValue\n",
      "<ipython-input-210-ec21dfe28a42>:9: SettingWithCopyWarning: \n",
      "A value is trying to be set on a copy of a slice from a DataFrame.\n",
      "Try using .loc[row_indexer,col_indexer] = value instead\n",
      "\n",
      "See the caveats in the documentation: https://pandas.pydata.org/pandas-docs/stable/user_guide/indexing.html#returning-a-view-versus-a-copy\n",
      "  userEmo['timestamp'] /= 1000\n"
     ]
    },
    {
     "name": "stdout",
     "output_type": "stream",
     "text": [
      "3311\n",
      "3771\n",
      "5325\n",
      "5677\n",
      "6824\n"
     ]
    },
    {
     "name": "stderr",
     "output_type": "stream",
     "text": [
      "<ipython-input-210-ec21dfe28a42>:8: SettingWithCopyWarning: \n",
      "A value is trying to be set on a copy of a slice from a DataFrame.\n",
      "Try using .loc[row_indexer,col_indexer] = value instead\n",
      "\n",
      "See the caveats in the documentation: https://pandas.pydata.org/pandas-docs/stable/user_guide/indexing.html#returning-a-view-versus-a-copy\n",
      "  userEmo['timestamp'] -= initValue\n",
      "<ipython-input-210-ec21dfe28a42>:9: SettingWithCopyWarning: \n",
      "A value is trying to be set on a copy of a slice from a DataFrame.\n",
      "Try using .loc[row_indexer,col_indexer] = value instead\n",
      "\n",
      "See the caveats in the documentation: https://pandas.pydata.org/pandas-docs/stable/user_guide/indexing.html#returning-a-view-versus-a-copy\n",
      "  userEmo['timestamp'] /= 1000\n"
     ]
    },
    {
     "name": "stdout",
     "output_type": "stream",
     "text": [
      "669\n",
      "2135\n",
      "4689\n",
      "5310\n",
      "6836\n",
      "6836\n",
      "6836\n",
      "669\n"
     ]
    },
    {
     "name": "stderr",
     "output_type": "stream",
     "text": [
      "<ipython-input-210-ec21dfe28a42>:8: SettingWithCopyWarning: \n",
      "A value is trying to be set on a copy of a slice from a DataFrame.\n",
      "Try using .loc[row_indexer,col_indexer] = value instead\n",
      "\n",
      "See the caveats in the documentation: https://pandas.pydata.org/pandas-docs/stable/user_guide/indexing.html#returning-a-view-versus-a-copy\n",
      "  userEmo['timestamp'] -= initValue\n",
      "<ipython-input-210-ec21dfe28a42>:9: SettingWithCopyWarning: \n",
      "A value is trying to be set on a copy of a slice from a DataFrame.\n",
      "Try using .loc[row_indexer,col_indexer] = value instead\n",
      "\n",
      "See the caveats in the documentation: https://pandas.pydata.org/pandas-docs/stable/user_guide/indexing.html#returning-a-view-versus-a-copy\n",
      "  userEmo['timestamp'] /= 1000\n"
     ]
    },
    {
     "name": "stdout",
     "output_type": "stream",
     "text": [
      "2135\n",
      "4689\n",
      "5310\n",
      "6837\n",
      "6837\n",
      "6837\n",
      "580\n",
      "2110\n"
     ]
    },
    {
     "name": "stderr",
     "output_type": "stream",
     "text": [
      "<ipython-input-210-ec21dfe28a42>:8: SettingWithCopyWarning: \n",
      "A value is trying to be set on a copy of a slice from a DataFrame.\n",
      "Try using .loc[row_indexer,col_indexer] = value instead\n",
      "\n",
      "See the caveats in the documentation: https://pandas.pydata.org/pandas-docs/stable/user_guide/indexing.html#returning-a-view-versus-a-copy\n",
      "  userEmo['timestamp'] -= initValue\n",
      "<ipython-input-210-ec21dfe28a42>:9: SettingWithCopyWarning: \n",
      "A value is trying to be set on a copy of a slice from a DataFrame.\n",
      "Try using .loc[row_indexer,col_indexer] = value instead\n",
      "\n",
      "See the caveats in the documentation: https://pandas.pydata.org/pandas-docs/stable/user_guide/indexing.html#returning-a-view-versus-a-copy\n",
      "  userEmo['timestamp'] /= 1000\n"
     ]
    },
    {
     "name": "stdout",
     "output_type": "stream",
     "text": [
      "4340\n",
      "4976\n",
      "7124\n",
      "7452\n",
      "9263\n"
     ]
    },
    {
     "name": "stderr",
     "output_type": "stream",
     "text": [
      "<ipython-input-210-ec21dfe28a42>:8: SettingWithCopyWarning: \n",
      "A value is trying to be set on a copy of a slice from a DataFrame.\n",
      "Try using .loc[row_indexer,col_indexer] = value instead\n",
      "\n",
      "See the caveats in the documentation: https://pandas.pydata.org/pandas-docs/stable/user_guide/indexing.html#returning-a-view-versus-a-copy\n",
      "  userEmo['timestamp'] -= initValue\n",
      "<ipython-input-210-ec21dfe28a42>:9: SettingWithCopyWarning: \n",
      "A value is trying to be set on a copy of a slice from a DataFrame.\n",
      "Try using .loc[row_indexer,col_indexer] = value instead\n",
      "\n",
      "See the caveats in the documentation: https://pandas.pydata.org/pandas-docs/stable/user_guide/indexing.html#returning-a-view-versus-a-copy\n",
      "  userEmo['timestamp'] /= 1000\n"
     ]
    },
    {
     "name": "stdout",
     "output_type": "stream",
     "text": [
      "581\n",
      "2152\n",
      "4358\n",
      "5019\n",
      "7164\n",
      "7496\n",
      "9304\n",
      "708\n"
     ]
    },
    {
     "name": "stderr",
     "output_type": "stream",
     "text": [
      "<ipython-input-210-ec21dfe28a42>:8: SettingWithCopyWarning: \n",
      "A value is trying to be set on a copy of a slice from a DataFrame.\n",
      "Try using .loc[row_indexer,col_indexer] = value instead\n",
      "\n",
      "See the caveats in the documentation: https://pandas.pydata.org/pandas-docs/stable/user_guide/indexing.html#returning-a-view-versus-a-copy\n",
      "  userEmo['timestamp'] -= initValue\n",
      "<ipython-input-210-ec21dfe28a42>:9: SettingWithCopyWarning: \n",
      "A value is trying to be set on a copy of a slice from a DataFrame.\n",
      "Try using .loc[row_indexer,col_indexer] = value instead\n",
      "\n",
      "See the caveats in the documentation: https://pandas.pydata.org/pandas-docs/stable/user_guide/indexing.html#returning-a-view-versus-a-copy\n",
      "  userEmo['timestamp'] /= 1000\n"
     ]
    },
    {
     "name": "stdout",
     "output_type": "stream",
     "text": [
      "2302\n",
      "5211\n",
      "5915\n",
      "8294\n",
      "8994\n",
      "10906\n",
      "25\n",
      "1718\n"
     ]
    },
    {
     "name": "stderr",
     "output_type": "stream",
     "text": [
      "<ipython-input-210-ec21dfe28a42>:8: SettingWithCopyWarning: \n",
      "A value is trying to be set on a copy of a slice from a DataFrame.\n",
      "Try using .loc[row_indexer,col_indexer] = value instead\n",
      "\n",
      "See the caveats in the documentation: https://pandas.pydata.org/pandas-docs/stable/user_guide/indexing.html#returning-a-view-versus-a-copy\n",
      "  userEmo['timestamp'] -= initValue\n",
      "<ipython-input-210-ec21dfe28a42>:9: SettingWithCopyWarning: \n",
      "A value is trying to be set on a copy of a slice from a DataFrame.\n",
      "Try using .loc[row_indexer,col_indexer] = value instead\n",
      "\n",
      "See the caveats in the documentation: https://pandas.pydata.org/pandas-docs/stable/user_guide/indexing.html#returning-a-view-versus-a-copy\n",
      "  userEmo['timestamp'] /= 1000\n"
     ]
    },
    {
     "name": "stdout",
     "output_type": "stream",
     "text": [
      "3510\n",
      "4219\n",
      "6535\n",
      "7234\n",
      "9157\n"
     ]
    },
    {
     "name": "stderr",
     "output_type": "stream",
     "text": [
      "<ipython-input-210-ec21dfe28a42>:8: SettingWithCopyWarning: \n",
      "A value is trying to be set on a copy of a slice from a DataFrame.\n",
      "Try using .loc[row_indexer,col_indexer] = value instead\n",
      "\n",
      "See the caveats in the documentation: https://pandas.pydata.org/pandas-docs/stable/user_guide/indexing.html#returning-a-view-versus-a-copy\n",
      "  userEmo['timestamp'] -= initValue\n",
      "<ipython-input-210-ec21dfe28a42>:9: SettingWithCopyWarning: \n",
      "A value is trying to be set on a copy of a slice from a DataFrame.\n",
      "Try using .loc[row_indexer,col_indexer] = value instead\n",
      "\n",
      "See the caveats in the documentation: https://pandas.pydata.org/pandas-docs/stable/user_guide/indexing.html#returning-a-view-versus-a-copy\n",
      "  userEmo['timestamp'] /= 1000\n"
     ]
    },
    {
     "name": "stdout",
     "output_type": "stream",
     "text": [
      "698\n",
      "2432\n",
      "5429\n",
      "6148\n",
      "8603\n",
      "9323\n",
      "11309\n",
      "0\n"
     ]
    },
    {
     "name": "stderr",
     "output_type": "stream",
     "text": [
      "<ipython-input-210-ec21dfe28a42>:8: SettingWithCopyWarning: \n",
      "A value is trying to be set on a copy of a slice from a DataFrame.\n",
      "Try using .loc[row_indexer,col_indexer] = value instead\n",
      "\n",
      "See the caveats in the documentation: https://pandas.pydata.org/pandas-docs/stable/user_guide/indexing.html#returning-a-view-versus-a-copy\n",
      "  userEmo['timestamp'] -= initValue\n",
      "<ipython-input-210-ec21dfe28a42>:9: SettingWithCopyWarning: \n",
      "A value is trying to be set on a copy of a slice from a DataFrame.\n",
      "Try using .loc[row_indexer,col_indexer] = value instead\n",
      "\n",
      "See the caveats in the documentation: https://pandas.pydata.org/pandas-docs/stable/user_guide/indexing.html#returning-a-view-versus-a-copy\n",
      "  userEmo['timestamp'] /= 1000\n"
     ]
    },
    {
     "name": "stdout",
     "output_type": "stream",
     "text": [
      "1150\n",
      "1791\n",
      "2047\n",
      "2708\n",
      "3009\n",
      "3543\n"
     ]
    },
    {
     "name": "stderr",
     "output_type": "stream",
     "text": [
      "<ipython-input-210-ec21dfe28a42>:8: SettingWithCopyWarning: \n",
      "A value is trying to be set on a copy of a slice from a DataFrame.\n",
      "Try using .loc[row_indexer,col_indexer] = value instead\n",
      "\n",
      "See the caveats in the documentation: https://pandas.pydata.org/pandas-docs/stable/user_guide/indexing.html#returning-a-view-versus-a-copy\n",
      "  userEmo['timestamp'] -= initValue\n",
      "<ipython-input-210-ec21dfe28a42>:9: SettingWithCopyWarning: \n",
      "A value is trying to be set on a copy of a slice from a DataFrame.\n",
      "Try using .loc[row_indexer,col_indexer] = value instead\n",
      "\n",
      "See the caveats in the documentation: https://pandas.pydata.org/pandas-docs/stable/user_guide/indexing.html#returning-a-view-versus-a-copy\n",
      "  userEmo['timestamp'] /= 1000\n"
     ]
    },
    {
     "name": "stdout",
     "output_type": "stream",
     "text": [
      "664\n",
      "2320\n",
      "5257\n",
      "5690\n",
      "8051\n",
      "8779\n",
      "10685\n",
      "416\n"
     ]
    },
    {
     "name": "stderr",
     "output_type": "stream",
     "text": [
      "<ipython-input-210-ec21dfe28a42>:8: SettingWithCopyWarning: \n",
      "A value is trying to be set on a copy of a slice from a DataFrame.\n",
      "Try using .loc[row_indexer,col_indexer] = value instead\n",
      "\n",
      "See the caveats in the documentation: https://pandas.pydata.org/pandas-docs/stable/user_guide/indexing.html#returning-a-view-versus-a-copy\n",
      "  userEmo['timestamp'] -= initValue\n",
      "<ipython-input-210-ec21dfe28a42>:9: SettingWithCopyWarning: \n",
      "A value is trying to be set on a copy of a slice from a DataFrame.\n",
      "Try using .loc[row_indexer,col_indexer] = value instead\n",
      "\n",
      "See the caveats in the documentation: https://pandas.pydata.org/pandas-docs/stable/user_guide/indexing.html#returning-a-view-versus-a-copy\n",
      "  userEmo['timestamp'] /= 1000\n"
     ]
    },
    {
     "name": "stdout",
     "output_type": "stream",
     "text": [
      "1450\n",
      "3121\n",
      "3483\n",
      "4847\n",
      "5249\n",
      "6306\n",
      "391\n",
      "1234\n"
     ]
    },
    {
     "name": "stderr",
     "output_type": "stream",
     "text": [
      "<ipython-input-210-ec21dfe28a42>:8: SettingWithCopyWarning: \n",
      "A value is trying to be set on a copy of a slice from a DataFrame.\n",
      "Try using .loc[row_indexer,col_indexer] = value instead\n",
      "\n",
      "See the caveats in the documentation: https://pandas.pydata.org/pandas-docs/stable/user_guide/indexing.html#returning-a-view-versus-a-copy\n",
      "  userEmo['timestamp'] -= initValue\n",
      "<ipython-input-210-ec21dfe28a42>:9: SettingWithCopyWarning: \n",
      "A value is trying to be set on a copy of a slice from a DataFrame.\n",
      "Try using .loc[row_indexer,col_indexer] = value instead\n",
      "\n",
      "See the caveats in the documentation: https://pandas.pydata.org/pandas-docs/stable/user_guide/indexing.html#returning-a-view-versus-a-copy\n",
      "  userEmo['timestamp'] /= 1000\n"
     ]
    },
    {
     "name": "stdout",
     "output_type": "stream",
     "text": [
      "2881\n",
      "3284\n",
      "4672\n",
      "5014\n",
      "6149\n"
     ]
    },
    {
     "name": "stderr",
     "output_type": "stream",
     "text": [
      "<ipython-input-210-ec21dfe28a42>:8: SettingWithCopyWarning: \n",
      "A value is trying to be set on a copy of a slice from a DataFrame.\n",
      "Try using .loc[row_indexer,col_indexer] = value instead\n",
      "\n",
      "See the caveats in the documentation: https://pandas.pydata.org/pandas-docs/stable/user_guide/indexing.html#returning-a-view-versus-a-copy\n",
      "  userEmo['timestamp'] -= initValue\n",
      "<ipython-input-210-ec21dfe28a42>:9: SettingWithCopyWarning: \n",
      "A value is trying to be set on a copy of a slice from a DataFrame.\n",
      "Try using .loc[row_indexer,col_indexer] = value instead\n",
      "\n",
      "See the caveats in the documentation: https://pandas.pydata.org/pandas-docs/stable/user_guide/indexing.html#returning-a-view-versus-a-copy\n",
      "  userEmo['timestamp'] /= 1000\n"
     ]
    },
    {
     "name": "stdout",
     "output_type": "stream",
     "text": [
      "718\n",
      "2613\n",
      "5410\n",
      "6090\n",
      "8353\n",
      "8996\n",
      "10789\n",
      "725\n"
     ]
    },
    {
     "name": "stderr",
     "output_type": "stream",
     "text": [
      "<ipython-input-210-ec21dfe28a42>:8: SettingWithCopyWarning: \n",
      "A value is trying to be set on a copy of a slice from a DataFrame.\n",
      "Try using .loc[row_indexer,col_indexer] = value instead\n",
      "\n",
      "See the caveats in the documentation: https://pandas.pydata.org/pandas-docs/stable/user_guide/indexing.html#returning-a-view-versus-a-copy\n",
      "  userEmo['timestamp'] -= initValue\n",
      "<ipython-input-210-ec21dfe28a42>:9: SettingWithCopyWarning: \n",
      "A value is trying to be set on a copy of a slice from a DataFrame.\n",
      "Try using .loc[row_indexer,col_indexer] = value instead\n",
      "\n",
      "See the caveats in the documentation: https://pandas.pydata.org/pandas-docs/stable/user_guide/indexing.html#returning-a-view-versus-a-copy\n",
      "  userEmo['timestamp'] /= 1000\n"
     ]
    },
    {
     "name": "stdout",
     "output_type": "stream",
     "text": [
      "2453\n",
      "5281\n",
      "5928\n",
      "8149\n",
      "8804\n",
      "10614\n",
      "262\n",
      "909\n"
     ]
    },
    {
     "name": "stderr",
     "output_type": "stream",
     "text": [
      "<ipython-input-210-ec21dfe28a42>:8: SettingWithCopyWarning: \n",
      "A value is trying to be set on a copy of a slice from a DataFrame.\n",
      "Try using .loc[row_indexer,col_indexer] = value instead\n",
      "\n",
      "See the caveats in the documentation: https://pandas.pydata.org/pandas-docs/stable/user_guide/indexing.html#returning-a-view-versus-a-copy\n",
      "  userEmo['timestamp'] -= initValue\n",
      "<ipython-input-210-ec21dfe28a42>:9: SettingWithCopyWarning: \n",
      "A value is trying to be set on a copy of a slice from a DataFrame.\n",
      "Try using .loc[row_indexer,col_indexer] = value instead\n",
      "\n",
      "See the caveats in the documentation: https://pandas.pydata.org/pandas-docs/stable/user_guide/indexing.html#returning-a-view-versus-a-copy\n",
      "  userEmo['timestamp'] /= 1000\n"
     ]
    },
    {
     "name": "stdout",
     "output_type": "stream",
     "text": [
      "2013\n",
      "2268\n",
      "3156\n",
      "3433\n",
      "4132\n"
     ]
    },
    {
     "name": "stderr",
     "output_type": "stream",
     "text": [
      "<ipython-input-210-ec21dfe28a42>:8: SettingWithCopyWarning: \n",
      "A value is trying to be set on a copy of a slice from a DataFrame.\n",
      "Try using .loc[row_indexer,col_indexer] = value instead\n",
      "\n",
      "See the caveats in the documentation: https://pandas.pydata.org/pandas-docs/stable/user_guide/indexing.html#returning-a-view-versus-a-copy\n",
      "  userEmo['timestamp'] -= initValue\n",
      "<ipython-input-210-ec21dfe28a42>:9: SettingWithCopyWarning: \n",
      "A value is trying to be set on a copy of a slice from a DataFrame.\n",
      "Try using .loc[row_indexer,col_indexer] = value instead\n",
      "\n",
      "See the caveats in the documentation: https://pandas.pydata.org/pandas-docs/stable/user_guide/indexing.html#returning-a-view-versus-a-copy\n",
      "  userEmo['timestamp'] /= 1000\n"
     ]
    },
    {
     "name": "stdout",
     "output_type": "stream",
     "text": [
      "226\n",
      "649\n",
      "1664\n",
      "1899\n",
      "2599\n",
      "2848\n",
      "3562\n"
     ]
    },
    {
     "name": "stderr",
     "output_type": "stream",
     "text": [
      "<ipython-input-210-ec21dfe28a42>:8: SettingWithCopyWarning: \n",
      "A value is trying to be set on a copy of a slice from a DataFrame.\n",
      "Try using .loc[row_indexer,col_indexer] = value instead\n",
      "\n",
      "See the caveats in the documentation: https://pandas.pydata.org/pandas-docs/stable/user_guide/indexing.html#returning-a-view-versus-a-copy\n",
      "  userEmo['timestamp'] -= initValue\n",
      "<ipython-input-210-ec21dfe28a42>:9: SettingWithCopyWarning: \n",
      "A value is trying to be set on a copy of a slice from a DataFrame.\n",
      "Try using .loc[row_indexer,col_indexer] = value instead\n",
      "\n",
      "See the caveats in the documentation: https://pandas.pydata.org/pandas-docs/stable/user_guide/indexing.html#returning-a-view-versus-a-copy\n",
      "  userEmo['timestamp'] /= 1000\n"
     ]
    },
    {
     "name": "stdout",
     "output_type": "stream",
     "text": [
      "732\n",
      "2399\n",
      "5290\n",
      "6015\n",
      "8537\n",
      "9277\n",
      "11180\n",
      "380\n"
     ]
    },
    {
     "name": "stderr",
     "output_type": "stream",
     "text": [
      "<ipython-input-210-ec21dfe28a42>:8: SettingWithCopyWarning: \n",
      "A value is trying to be set on a copy of a slice from a DataFrame.\n",
      "Try using .loc[row_indexer,col_indexer] = value instead\n",
      "\n",
      "See the caveats in the documentation: https://pandas.pydata.org/pandas-docs/stable/user_guide/indexing.html#returning-a-view-versus-a-copy\n",
      "  userEmo['timestamp'] -= initValue\n",
      "<ipython-input-210-ec21dfe28a42>:9: SettingWithCopyWarning: \n",
      "A value is trying to be set on a copy of a slice from a DataFrame.\n",
      "Try using .loc[row_indexer,col_indexer] = value instead\n",
      "\n",
      "See the caveats in the documentation: https://pandas.pydata.org/pandas-docs/stable/user_guide/indexing.html#returning-a-view-versus-a-copy\n",
      "  userEmo['timestamp'] /= 1000\n"
     ]
    },
    {
     "name": "stdout",
     "output_type": "stream",
     "text": [
      "1147\n",
      "2775\n",
      "3183\n",
      "4541\n",
      "4949\n",
      "6046\n",
      "327\n"
     ]
    },
    {
     "name": "stderr",
     "output_type": "stream",
     "text": [
      "<ipython-input-210-ec21dfe28a42>:8: SettingWithCopyWarning: \n",
      "A value is trying to be set on a copy of a slice from a DataFrame.\n",
      "Try using .loc[row_indexer,col_indexer] = value instead\n",
      "\n",
      "See the caveats in the documentation: https://pandas.pydata.org/pandas-docs/stable/user_guide/indexing.html#returning-a-view-versus-a-copy\n",
      "  userEmo['timestamp'] -= initValue\n",
      "<ipython-input-210-ec21dfe28a42>:9: SettingWithCopyWarning: \n",
      "A value is trying to be set on a copy of a slice from a DataFrame.\n",
      "Try using .loc[row_indexer,col_indexer] = value instead\n",
      "\n",
      "See the caveats in the documentation: https://pandas.pydata.org/pandas-docs/stable/user_guide/indexing.html#returning-a-view-versus-a-copy\n",
      "  userEmo['timestamp'] /= 1000\n"
     ]
    },
    {
     "name": "stdout",
     "output_type": "stream",
     "text": [
      "1206\n",
      "2795\n",
      "3203\n",
      "4499\n",
      "4850\n",
      "5828\n"
     ]
    },
    {
     "name": "stderr",
     "output_type": "stream",
     "text": [
      "<ipython-input-210-ec21dfe28a42>:8: SettingWithCopyWarning: \n",
      "A value is trying to be set on a copy of a slice from a DataFrame.\n",
      "Try using .loc[row_indexer,col_indexer] = value instead\n",
      "\n",
      "See the caveats in the documentation: https://pandas.pydata.org/pandas-docs/stable/user_guide/indexing.html#returning-a-view-versus-a-copy\n",
      "  userEmo['timestamp'] -= initValue\n",
      "<ipython-input-210-ec21dfe28a42>:9: SettingWithCopyWarning: \n",
      "A value is trying to be set on a copy of a slice from a DataFrame.\n",
      "Try using .loc[row_indexer,col_indexer] = value instead\n",
      "\n",
      "See the caveats in the documentation: https://pandas.pydata.org/pandas-docs/stable/user_guide/indexing.html#returning-a-view-versus-a-copy\n",
      "  userEmo['timestamp'] /= 1000\n"
     ]
    },
    {
     "name": "stdout",
     "output_type": "stream",
     "text": [
      "709\n",
      "1958\n",
      "4578\n",
      "4578\n",
      "4578\n",
      "4578\n",
      "4578\n",
      "765\n"
     ]
    },
    {
     "name": "stderr",
     "output_type": "stream",
     "text": [
      "<ipython-input-210-ec21dfe28a42>:8: SettingWithCopyWarning: \n",
      "A value is trying to be set on a copy of a slice from a DataFrame.\n",
      "Try using .loc[row_indexer,col_indexer] = value instead\n",
      "\n",
      "See the caveats in the documentation: https://pandas.pydata.org/pandas-docs/stable/user_guide/indexing.html#returning-a-view-versus-a-copy\n",
      "  userEmo['timestamp'] -= initValue\n",
      "<ipython-input-210-ec21dfe28a42>:9: SettingWithCopyWarning: \n",
      "A value is trying to be set on a copy of a slice from a DataFrame.\n",
      "Try using .loc[row_indexer,col_indexer] = value instead\n",
      "\n",
      "See the caveats in the documentation: https://pandas.pydata.org/pandas-docs/stable/user_guide/indexing.html#returning-a-view-versus-a-copy\n",
      "  userEmo['timestamp'] /= 1000\n"
     ]
    },
    {
     "name": "stdout",
     "output_type": "stream",
     "text": [
      "3287\n",
      "6394\n",
      "7113\n",
      "9614\n",
      "10313\n",
      "12216\n"
     ]
    },
    {
     "name": "stderr",
     "output_type": "stream",
     "text": [
      "<ipython-input-210-ec21dfe28a42>:8: SettingWithCopyWarning: \n",
      "A value is trying to be set on a copy of a slice from a DataFrame.\n",
      "Try using .loc[row_indexer,col_indexer] = value instead\n",
      "\n",
      "See the caveats in the documentation: https://pandas.pydata.org/pandas-docs/stable/user_guide/indexing.html#returning-a-view-versus-a-copy\n",
      "  userEmo['timestamp'] -= initValue\n",
      "<ipython-input-210-ec21dfe28a42>:9: SettingWithCopyWarning: \n",
      "A value is trying to be set on a copy of a slice from a DataFrame.\n",
      "Try using .loc[row_indexer,col_indexer] = value instead\n",
      "\n",
      "See the caveats in the documentation: https://pandas.pydata.org/pandas-docs/stable/user_guide/indexing.html#returning-a-view-versus-a-copy\n",
      "  userEmo['timestamp'] /= 1000\n"
     ]
    },
    {
     "name": "stdout",
     "output_type": "stream",
     "text": [
      "572\n",
      "2389\n",
      "4781\n",
      "5356\n",
      "7292\n",
      "7851\n",
      "9402\n"
     ]
    },
    {
     "name": "stderr",
     "output_type": "stream",
     "text": [
      "<ipython-input-210-ec21dfe28a42>:8: SettingWithCopyWarning: \n",
      "A value is trying to be set on a copy of a slice from a DataFrame.\n",
      "Try using .loc[row_indexer,col_indexer] = value instead\n",
      "\n",
      "See the caveats in the documentation: https://pandas.pydata.org/pandas-docs/stable/user_guide/indexing.html#returning-a-view-versus-a-copy\n",
      "  userEmo['timestamp'] -= initValue\n",
      "<ipython-input-210-ec21dfe28a42>:9: SettingWithCopyWarning: \n",
      "A value is trying to be set on a copy of a slice from a DataFrame.\n",
      "Try using .loc[row_indexer,col_indexer] = value instead\n",
      "\n",
      "See the caveats in the documentation: https://pandas.pydata.org/pandas-docs/stable/user_guide/indexing.html#returning-a-view-versus-a-copy\n",
      "  userEmo['timestamp'] /= 1000\n"
     ]
    },
    {
     "name": "stdout",
     "output_type": "stream",
     "text": [
      "447\n",
      "2118\n",
      "3932\n",
      "4377\n",
      "5878\n",
      "6326\n",
      "7519\n",
      "439\n"
     ]
    },
    {
     "name": "stderr",
     "output_type": "stream",
     "text": [
      "<ipython-input-210-ec21dfe28a42>:8: SettingWithCopyWarning: \n",
      "A value is trying to be set on a copy of a slice from a DataFrame.\n",
      "Try using .loc[row_indexer,col_indexer] = value instead\n",
      "\n",
      "See the caveats in the documentation: https://pandas.pydata.org/pandas-docs/stable/user_guide/indexing.html#returning-a-view-versus-a-copy\n",
      "  userEmo['timestamp'] -= initValue\n",
      "<ipython-input-210-ec21dfe28a42>:9: SettingWithCopyWarning: \n",
      "A value is trying to be set on a copy of a slice from a DataFrame.\n",
      "Try using .loc[row_indexer,col_indexer] = value instead\n",
      "\n",
      "See the caveats in the documentation: https://pandas.pydata.org/pandas-docs/stable/user_guide/indexing.html#returning-a-view-versus-a-copy\n",
      "  userEmo['timestamp'] /= 1000\n"
     ]
    },
    {
     "name": "stdout",
     "output_type": "stream",
     "text": [
      "1320\n",
      "2682\n",
      "2942\n",
      "4079\n",
      "4514\n",
      "5694\n"
     ]
    },
    {
     "name": "stderr",
     "output_type": "stream",
     "text": [
      "<ipython-input-210-ec21dfe28a42>:8: SettingWithCopyWarning: \n",
      "A value is trying to be set on a copy of a slice from a DataFrame.\n",
      "Try using .loc[row_indexer,col_indexer] = value instead\n",
      "\n",
      "See the caveats in the documentation: https://pandas.pydata.org/pandas-docs/stable/user_guide/indexing.html#returning-a-view-versus-a-copy\n",
      "  userEmo['timestamp'] -= initValue\n",
      "<ipython-input-210-ec21dfe28a42>:9: SettingWithCopyWarning: \n",
      "A value is trying to be set on a copy of a slice from a DataFrame.\n",
      "Try using .loc[row_indexer,col_indexer] = value instead\n",
      "\n",
      "See the caveats in the documentation: https://pandas.pydata.org/pandas-docs/stable/user_guide/indexing.html#returning-a-view-versus-a-copy\n",
      "  userEmo['timestamp'] /= 1000\n"
     ]
    },
    {
     "name": "stdout",
     "output_type": "stream",
     "text": [
      "427\n",
      "1695\n",
      "3502\n",
      "3937\n",
      "5429\n",
      "5863\n",
      "7020\n"
     ]
    },
    {
     "name": "stderr",
     "output_type": "stream",
     "text": [
      "<ipython-input-210-ec21dfe28a42>:8: SettingWithCopyWarning: \n",
      "A value is trying to be set on a copy of a slice from a DataFrame.\n",
      "Try using .loc[row_indexer,col_indexer] = value instead\n",
      "\n",
      "See the caveats in the documentation: https://pandas.pydata.org/pandas-docs/stable/user_guide/indexing.html#returning-a-view-versus-a-copy\n",
      "  userEmo['timestamp'] -= initValue\n",
      "<ipython-input-210-ec21dfe28a42>:9: SettingWithCopyWarning: \n",
      "A value is trying to be set on a copy of a slice from a DataFrame.\n",
      "Try using .loc[row_indexer,col_indexer] = value instead\n",
      "\n",
      "See the caveats in the documentation: https://pandas.pydata.org/pandas-docs/stable/user_guide/indexing.html#returning-a-view-versus-a-copy\n",
      "  userEmo['timestamp'] /= 1000\n"
     ]
    },
    {
     "name": "stdout",
     "output_type": "stream",
     "text": [
      "426\n",
      "1546\n",
      "3272\n",
      "3653\n",
      "4970\n",
      "5376\n",
      "6439\n"
     ]
    },
    {
     "name": "stderr",
     "output_type": "stream",
     "text": [
      "<ipython-input-210-ec21dfe28a42>:8: SettingWithCopyWarning: \n",
      "A value is trying to be set on a copy of a slice from a DataFrame.\n",
      "Try using .loc[row_indexer,col_indexer] = value instead\n",
      "\n",
      "See the caveats in the documentation: https://pandas.pydata.org/pandas-docs/stable/user_guide/indexing.html#returning-a-view-versus-a-copy\n",
      "  userEmo['timestamp'] -= initValue\n",
      "<ipython-input-210-ec21dfe28a42>:9: SettingWithCopyWarning: \n",
      "A value is trying to be set on a copy of a slice from a DataFrame.\n",
      "Try using .loc[row_indexer,col_indexer] = value instead\n",
      "\n",
      "See the caveats in the documentation: https://pandas.pydata.org/pandas-docs/stable/user_guide/indexing.html#returning-a-view-versus-a-copy\n",
      "  userEmo['timestamp'] /= 1000\n"
     ]
    },
    {
     "name": "stdout",
     "output_type": "stream",
     "text": [
      "114\n",
      "874\n",
      "1633\n",
      "1786\n",
      "2439\n",
      "2706\n",
      "2915\n"
     ]
    },
    {
     "name": "stderr",
     "output_type": "stream",
     "text": [
      "<ipython-input-210-ec21dfe28a42>:8: SettingWithCopyWarning: \n",
      "A value is trying to be set on a copy of a slice from a DataFrame.\n",
      "Try using .loc[row_indexer,col_indexer] = value instead\n",
      "\n",
      "See the caveats in the documentation: https://pandas.pydata.org/pandas-docs/stable/user_guide/indexing.html#returning-a-view-versus-a-copy\n",
      "  userEmo['timestamp'] -= initValue\n",
      "<ipython-input-210-ec21dfe28a42>:9: SettingWithCopyWarning: \n",
      "A value is trying to be set on a copy of a slice from a DataFrame.\n",
      "Try using .loc[row_indexer,col_indexer] = value instead\n",
      "\n",
      "See the caveats in the documentation: https://pandas.pydata.org/pandas-docs/stable/user_guide/indexing.html#returning-a-view-versus-a-copy\n",
      "  userEmo['timestamp'] /= 1000\n"
     ]
    },
    {
     "name": "stdout",
     "output_type": "stream",
     "text": [
      "193\n",
      "636\n",
      "1237\n",
      "1300\n",
      "1875\n",
      "2029\n",
      "2252\n",
      "36\n"
     ]
    },
    {
     "name": "stderr",
     "output_type": "stream",
     "text": [
      "<ipython-input-210-ec21dfe28a42>:8: SettingWithCopyWarning: \n",
      "A value is trying to be set on a copy of a slice from a DataFrame.\n",
      "Try using .loc[row_indexer,col_indexer] = value instead\n",
      "\n",
      "See the caveats in the documentation: https://pandas.pydata.org/pandas-docs/stable/user_guide/indexing.html#returning-a-view-versus-a-copy\n",
      "  userEmo['timestamp'] -= initValue\n",
      "<ipython-input-210-ec21dfe28a42>:9: SettingWithCopyWarning: \n",
      "A value is trying to be set on a copy of a slice from a DataFrame.\n",
      "Try using .loc[row_indexer,col_indexer] = value instead\n",
      "\n",
      "See the caveats in the documentation: https://pandas.pydata.org/pandas-docs/stable/user_guide/indexing.html#returning-a-view-versus-a-copy\n",
      "  userEmo['timestamp'] /= 1000\n"
     ]
    },
    {
     "name": "stdout",
     "output_type": "stream",
     "text": [
      "292\n",
      "387\n",
      "544\n",
      "767\n",
      "998\n",
      "1483\n",
      "400\n"
     ]
    },
    {
     "name": "stderr",
     "output_type": "stream",
     "text": [
      "<ipython-input-210-ec21dfe28a42>:8: SettingWithCopyWarning: \n",
      "A value is trying to be set on a copy of a slice from a DataFrame.\n",
      "Try using .loc[row_indexer,col_indexer] = value instead\n",
      "\n",
      "See the caveats in the documentation: https://pandas.pydata.org/pandas-docs/stable/user_guide/indexing.html#returning-a-view-versus-a-copy\n",
      "  userEmo['timestamp'] -= initValue\n",
      "<ipython-input-210-ec21dfe28a42>:9: SettingWithCopyWarning: \n",
      "A value is trying to be set on a copy of a slice from a DataFrame.\n",
      "Try using .loc[row_indexer,col_indexer] = value instead\n",
      "\n",
      "See the caveats in the documentation: https://pandas.pydata.org/pandas-docs/stable/user_guide/indexing.html#returning-a-view-versus-a-copy\n",
      "  userEmo['timestamp'] /= 1000\n"
     ]
    },
    {
     "name": "stdout",
     "output_type": "stream",
     "text": [
      "1220\n",
      "2358\n",
      "2666\n",
      "3764\n",
      "4201\n",
      "5430\n",
      "0\n",
      "5\n"
     ]
    },
    {
     "name": "stderr",
     "output_type": "stream",
     "text": [
      "<ipython-input-210-ec21dfe28a42>:8: SettingWithCopyWarning: \n",
      "A value is trying to be set on a copy of a slice from a DataFrame.\n",
      "Try using .loc[row_indexer,col_indexer] = value instead\n",
      "\n",
      "See the caveats in the documentation: https://pandas.pydata.org/pandas-docs/stable/user_guide/indexing.html#returning-a-view-versus-a-copy\n",
      "  userEmo['timestamp'] -= initValue\n",
      "<ipython-input-210-ec21dfe28a42>:9: SettingWithCopyWarning: \n",
      "A value is trying to be set on a copy of a slice from a DataFrame.\n",
      "Try using .loc[row_indexer,col_indexer] = value instead\n",
      "\n",
      "See the caveats in the documentation: https://pandas.pydata.org/pandas-docs/stable/user_guide/indexing.html#returning-a-view-versus-a-copy\n",
      "  userEmo['timestamp'] /= 1000\n"
     ]
    },
    {
     "name": "stdout",
     "output_type": "stream",
     "text": [
      "14\n",
      "16\n",
      "82\n",
      "88\n",
      "128\n"
     ]
    },
    {
     "name": "stderr",
     "output_type": "stream",
     "text": [
      "<ipython-input-210-ec21dfe28a42>:8: SettingWithCopyWarning: \n",
      "A value is trying to be set on a copy of a slice from a DataFrame.\n",
      "Try using .loc[row_indexer,col_indexer] = value instead\n",
      "\n",
      "See the caveats in the documentation: https://pandas.pydata.org/pandas-docs/stable/user_guide/indexing.html#returning-a-view-versus-a-copy\n",
      "  userEmo['timestamp'] -= initValue\n",
      "<ipython-input-210-ec21dfe28a42>:9: SettingWithCopyWarning: \n",
      "A value is trying to be set on a copy of a slice from a DataFrame.\n",
      "Try using .loc[row_indexer,col_indexer] = value instead\n",
      "\n",
      "See the caveats in the documentation: https://pandas.pydata.org/pandas-docs/stable/user_guide/indexing.html#returning-a-view-versus-a-copy\n",
      "  userEmo['timestamp'] /= 1000\n"
     ]
    },
    {
     "name": "stdout",
     "output_type": "stream",
     "text": [
      "326\n",
      "1633\n",
      "3063\n",
      "3405\n",
      "4606\n",
      "4966\n",
      "5876\n",
      "0\n"
     ]
    },
    {
     "name": "stderr",
     "output_type": "stream",
     "text": [
      "<ipython-input-210-ec21dfe28a42>:8: SettingWithCopyWarning: \n",
      "A value is trying to be set on a copy of a slice from a DataFrame.\n",
      "Try using .loc[row_indexer,col_indexer] = value instead\n",
      "\n",
      "See the caveats in the documentation: https://pandas.pydata.org/pandas-docs/stable/user_guide/indexing.html#returning-a-view-versus-a-copy\n",
      "  userEmo['timestamp'] -= initValue\n",
      "<ipython-input-210-ec21dfe28a42>:9: SettingWithCopyWarning: \n",
      "A value is trying to be set on a copy of a slice from a DataFrame.\n",
      "Try using .loc[row_indexer,col_indexer] = value instead\n",
      "\n",
      "See the caveats in the documentation: https://pandas.pydata.org/pandas-docs/stable/user_guide/indexing.html#returning-a-view-versus-a-copy\n",
      "  userEmo['timestamp'] /= 1000\n"
     ]
    },
    {
     "name": "stdout",
     "output_type": "stream",
     "text": [
      "9\n",
      "15\n",
      "22\n",
      "32\n",
      "34\n",
      "43\n",
      "8\n",
      "41\n"
     ]
    },
    {
     "name": "stderr",
     "output_type": "stream",
     "text": [
      "<ipython-input-210-ec21dfe28a42>:8: SettingWithCopyWarning: \n",
      "A value is trying to be set on a copy of a slice from a DataFrame.\n",
      "Try using .loc[row_indexer,col_indexer] = value instead\n",
      "\n",
      "See the caveats in the documentation: https://pandas.pydata.org/pandas-docs/stable/user_guide/indexing.html#returning-a-view-versus-a-copy\n",
      "  userEmo['timestamp'] -= initValue\n",
      "<ipython-input-210-ec21dfe28a42>:9: SettingWithCopyWarning: \n",
      "A value is trying to be set on a copy of a slice from a DataFrame.\n",
      "Try using .loc[row_indexer,col_indexer] = value instead\n",
      "\n",
      "See the caveats in the documentation: https://pandas.pydata.org/pandas-docs/stable/user_guide/indexing.html#returning-a-view-versus-a-copy\n",
      "  userEmo['timestamp'] /= 1000\n"
     ]
    },
    {
     "name": "stdout",
     "output_type": "stream",
     "text": [
      "75\n",
      "83\n",
      "154\n",
      "158\n",
      "161\n"
     ]
    },
    {
     "name": "stderr",
     "output_type": "stream",
     "text": [
      "<ipython-input-210-ec21dfe28a42>:8: SettingWithCopyWarning: \n",
      "A value is trying to be set on a copy of a slice from a DataFrame.\n",
      "Try using .loc[row_indexer,col_indexer] = value instead\n",
      "\n",
      "See the caveats in the documentation: https://pandas.pydata.org/pandas-docs/stable/user_guide/indexing.html#returning-a-view-versus-a-copy\n",
      "  userEmo['timestamp'] -= initValue\n",
      "<ipython-input-210-ec21dfe28a42>:9: SettingWithCopyWarning: \n",
      "A value is trying to be set on a copy of a slice from a DataFrame.\n",
      "Try using .loc[row_indexer,col_indexer] = value instead\n",
      "\n",
      "See the caveats in the documentation: https://pandas.pydata.org/pandas-docs/stable/user_guide/indexing.html#returning-a-view-versus-a-copy\n",
      "  userEmo['timestamp'] /= 1000\n"
     ]
    },
    {
     "name": "stdout",
     "output_type": "stream",
     "text": [
      "303\n",
      "881\n",
      "2503\n",
      "2922\n",
      "4326\n",
      "4681\n",
      "5857\n"
     ]
    },
    {
     "name": "stderr",
     "output_type": "stream",
     "text": [
      "<ipython-input-210-ec21dfe28a42>:8: SettingWithCopyWarning: \n",
      "A value is trying to be set on a copy of a slice from a DataFrame.\n",
      "Try using .loc[row_indexer,col_indexer] = value instead\n",
      "\n",
      "See the caveats in the documentation: https://pandas.pydata.org/pandas-docs/stable/user_guide/indexing.html#returning-a-view-versus-a-copy\n",
      "  userEmo['timestamp'] -= initValue\n",
      "<ipython-input-210-ec21dfe28a42>:9: SettingWithCopyWarning: \n",
      "A value is trying to be set on a copy of a slice from a DataFrame.\n",
      "Try using .loc[row_indexer,col_indexer] = value instead\n",
      "\n",
      "See the caveats in the documentation: https://pandas.pydata.org/pandas-docs/stable/user_guide/indexing.html#returning-a-view-versus-a-copy\n",
      "  userEmo['timestamp'] /= 1000\n"
     ]
    },
    {
     "name": "stdout",
     "output_type": "stream",
     "text": [
      "355\n",
      "1118\n",
      "2593\n",
      "2948\n",
      "4135\n",
      "4488\n",
      "5288\n"
     ]
    },
    {
     "name": "stderr",
     "output_type": "stream",
     "text": [
      "<ipython-input-210-ec21dfe28a42>:8: SettingWithCopyWarning: \n",
      "A value is trying to be set on a copy of a slice from a DataFrame.\n",
      "Try using .loc[row_indexer,col_indexer] = value instead\n",
      "\n",
      "See the caveats in the documentation: https://pandas.pydata.org/pandas-docs/stable/user_guide/indexing.html#returning-a-view-versus-a-copy\n",
      "  userEmo['timestamp'] -= initValue\n",
      "<ipython-input-210-ec21dfe28a42>:9: SettingWithCopyWarning: \n",
      "A value is trying to be set on a copy of a slice from a DataFrame.\n",
      "Try using .loc[row_indexer,col_indexer] = value instead\n",
      "\n",
      "See the caveats in the documentation: https://pandas.pydata.org/pandas-docs/stable/user_guide/indexing.html#returning-a-view-versus-a-copy\n",
      "  userEmo['timestamp'] /= 1000\n"
     ]
    },
    {
     "name": "stdout",
     "output_type": "stream",
     "text": [
      "0\n",
      "8\n",
      "11\n",
      "15\n",
      "23\n",
      "23\n",
      "35\n",
      "3\n",
      "8\n"
     ]
    },
    {
     "name": "stderr",
     "output_type": "stream",
     "text": [
      "<ipython-input-210-ec21dfe28a42>:8: SettingWithCopyWarning: \n",
      "A value is trying to be set on a copy of a slice from a DataFrame.\n",
      "Try using .loc[row_indexer,col_indexer] = value instead\n",
      "\n",
      "See the caveats in the documentation: https://pandas.pydata.org/pandas-docs/stable/user_guide/indexing.html#returning-a-view-versus-a-copy\n",
      "  userEmo['timestamp'] -= initValue\n",
      "<ipython-input-210-ec21dfe28a42>:9: SettingWithCopyWarning: \n",
      "A value is trying to be set on a copy of a slice from a DataFrame.\n",
      "Try using .loc[row_indexer,col_indexer] = value instead\n",
      "\n",
      "See the caveats in the documentation: https://pandas.pydata.org/pandas-docs/stable/user_guide/indexing.html#returning-a-view-versus-a-copy\n",
      "  userEmo['timestamp'] /= 1000\n"
     ]
    },
    {
     "name": "stdout",
     "output_type": "stream",
     "text": [
      "16\n",
      "17\n",
      "88\n",
      "93\n",
      "139\n"
     ]
    },
    {
     "name": "stderr",
     "output_type": "stream",
     "text": [
      "<ipython-input-210-ec21dfe28a42>:8: SettingWithCopyWarning: \n",
      "A value is trying to be set on a copy of a slice from a DataFrame.\n",
      "Try using .loc[row_indexer,col_indexer] = value instead\n",
      "\n",
      "See the caveats in the documentation: https://pandas.pydata.org/pandas-docs/stable/user_guide/indexing.html#returning-a-view-versus-a-copy\n",
      "  userEmo['timestamp'] -= initValue\n",
      "<ipython-input-210-ec21dfe28a42>:9: SettingWithCopyWarning: \n",
      "A value is trying to be set on a copy of a slice from a DataFrame.\n",
      "Try using .loc[row_indexer,col_indexer] = value instead\n",
      "\n",
      "See the caveats in the documentation: https://pandas.pydata.org/pandas-docs/stable/user_guide/indexing.html#returning-a-view-versus-a-copy\n",
      "  userEmo['timestamp'] /= 1000\n"
     ]
    },
    {
     "name": "stdout",
     "output_type": "stream",
     "text": [
      "23\n",
      "148\n",
      "483\n",
      "574\n",
      "902\n",
      "984\n",
      "1163\n",
      "324\n"
     ]
    },
    {
     "name": "stderr",
     "output_type": "stream",
     "text": [
      "<ipython-input-210-ec21dfe28a42>:8: SettingWithCopyWarning: \n",
      "A value is trying to be set on a copy of a slice from a DataFrame.\n",
      "Try using .loc[row_indexer,col_indexer] = value instead\n",
      "\n",
      "See the caveats in the documentation: https://pandas.pydata.org/pandas-docs/stable/user_guide/indexing.html#returning-a-view-versus-a-copy\n",
      "  userEmo['timestamp'] -= initValue\n",
      "<ipython-input-210-ec21dfe28a42>:9: SettingWithCopyWarning: \n",
      "A value is trying to be set on a copy of a slice from a DataFrame.\n",
      "Try using .loc[row_indexer,col_indexer] = value instead\n",
      "\n",
      "See the caveats in the documentation: https://pandas.pydata.org/pandas-docs/stable/user_guide/indexing.html#returning-a-view-versus-a-copy\n",
      "  userEmo['timestamp'] /= 1000\n"
     ]
    },
    {
     "name": "stdout",
     "output_type": "stream",
     "text": [
      "1337\n",
      "2683\n",
      "3037\n",
      "4149\n",
      "4437\n",
      "5411\n",
      "434\n",
      "1275\n"
     ]
    },
    {
     "name": "stderr",
     "output_type": "stream",
     "text": [
      "<ipython-input-210-ec21dfe28a42>:8: SettingWithCopyWarning: \n",
      "A value is trying to be set on a copy of a slice from a DataFrame.\n",
      "Try using .loc[row_indexer,col_indexer] = value instead\n",
      "\n",
      "See the caveats in the documentation: https://pandas.pydata.org/pandas-docs/stable/user_guide/indexing.html#returning-a-view-versus-a-copy\n",
      "  userEmo['timestamp'] -= initValue\n",
      "<ipython-input-210-ec21dfe28a42>:9: SettingWithCopyWarning: \n",
      "A value is trying to be set on a copy of a slice from a DataFrame.\n",
      "Try using .loc[row_indexer,col_indexer] = value instead\n",
      "\n",
      "See the caveats in the documentation: https://pandas.pydata.org/pandas-docs/stable/user_guide/indexing.html#returning-a-view-versus-a-copy\n",
      "  userEmo['timestamp'] /= 1000\n"
     ]
    },
    {
     "name": "stdout",
     "output_type": "stream",
     "text": [
      "3100\n",
      "3532\n",
      "5021\n",
      "5457\n",
      "6654\n"
     ]
    },
    {
     "name": "stderr",
     "output_type": "stream",
     "text": [
      "<ipython-input-210-ec21dfe28a42>:8: SettingWithCopyWarning: \n",
      "A value is trying to be set on a copy of a slice from a DataFrame.\n",
      "Try using .loc[row_indexer,col_indexer] = value instead\n",
      "\n",
      "See the caveats in the documentation: https://pandas.pydata.org/pandas-docs/stable/user_guide/indexing.html#returning-a-view-versus-a-copy\n",
      "  userEmo['timestamp'] -= initValue\n",
      "<ipython-input-210-ec21dfe28a42>:9: SettingWithCopyWarning: \n",
      "A value is trying to be set on a copy of a slice from a DataFrame.\n",
      "Try using .loc[row_indexer,col_indexer] = value instead\n",
      "\n",
      "See the caveats in the documentation: https://pandas.pydata.org/pandas-docs/stable/user_guide/indexing.html#returning-a-view-versus-a-copy\n",
      "  userEmo['timestamp'] /= 1000\n"
     ]
    },
    {
     "name": "stdout",
     "output_type": "stream",
     "text": [
      "92\n",
      "354\n",
      "804\n",
      "907\n",
      "1271\n",
      "1376\n",
      "1659\n",
      "78\n"
     ]
    },
    {
     "name": "stderr",
     "output_type": "stream",
     "text": [
      "<ipython-input-210-ec21dfe28a42>:8: SettingWithCopyWarning: \n",
      "A value is trying to be set on a copy of a slice from a DataFrame.\n",
      "Try using .loc[row_indexer,col_indexer] = value instead\n",
      "\n",
      "See the caveats in the documentation: https://pandas.pydata.org/pandas-docs/stable/user_guide/indexing.html#returning-a-view-versus-a-copy\n",
      "  userEmo['timestamp'] -= initValue\n",
      "<ipython-input-210-ec21dfe28a42>:9: SettingWithCopyWarning: \n",
      "A value is trying to be set on a copy of a slice from a DataFrame.\n",
      "Try using .loc[row_indexer,col_indexer] = value instead\n",
      "\n",
      "See the caveats in the documentation: https://pandas.pydata.org/pandas-docs/stable/user_guide/indexing.html#returning-a-view-versus-a-copy\n",
      "  userEmo['timestamp'] /= 1000\n"
     ]
    },
    {
     "name": "stdout",
     "output_type": "stream",
     "text": [
      "310\n",
      "675\n",
      "748\n",
      "995\n",
      "1082\n",
      "1348\n",
      "83\n",
      "264\n"
     ]
    },
    {
     "name": "stderr",
     "output_type": "stream",
     "text": [
      "<ipython-input-210-ec21dfe28a42>:8: SettingWithCopyWarning: \n",
      "A value is trying to be set on a copy of a slice from a DataFrame.\n",
      "Try using .loc[row_indexer,col_indexer] = value instead\n",
      "\n",
      "See the caveats in the documentation: https://pandas.pydata.org/pandas-docs/stable/user_guide/indexing.html#returning-a-view-versus-a-copy\n",
      "  userEmo['timestamp'] -= initValue\n",
      "<ipython-input-210-ec21dfe28a42>:9: SettingWithCopyWarning: \n",
      "A value is trying to be set on a copy of a slice from a DataFrame.\n",
      "Try using .loc[row_indexer,col_indexer] = value instead\n",
      "\n",
      "See the caveats in the documentation: https://pandas.pydata.org/pandas-docs/stable/user_guide/indexing.html#returning-a-view-versus-a-copy\n",
      "  userEmo['timestamp'] /= 1000\n"
     ]
    },
    {
     "name": "stdout",
     "output_type": "stream",
     "text": [
      "629\n",
      "698\n",
      "947\n",
      "1038\n",
      "1292\n"
     ]
    },
    {
     "name": "stderr",
     "output_type": "stream",
     "text": [
      "<ipython-input-210-ec21dfe28a42>:8: SettingWithCopyWarning: \n",
      "A value is trying to be set on a copy of a slice from a DataFrame.\n",
      "Try using .loc[row_indexer,col_indexer] = value instead\n",
      "\n",
      "See the caveats in the documentation: https://pandas.pydata.org/pandas-docs/stable/user_guide/indexing.html#returning-a-view-versus-a-copy\n",
      "  userEmo['timestamp'] -= initValue\n",
      "<ipython-input-210-ec21dfe28a42>:9: SettingWithCopyWarning: \n",
      "A value is trying to be set on a copy of a slice from a DataFrame.\n",
      "Try using .loc[row_indexer,col_indexer] = value instead\n",
      "\n",
      "See the caveats in the documentation: https://pandas.pydata.org/pandas-docs/stable/user_guide/indexing.html#returning-a-view-versus-a-copy\n",
      "  userEmo['timestamp'] /= 1000\n"
     ]
    },
    {
     "name": "stdout",
     "output_type": "stream",
     "text": [
      "476\n",
      "2187\n",
      "3832\n",
      "4344\n",
      "6075\n",
      "6562\n",
      "7887\n",
      "72\n"
     ]
    },
    {
     "name": "stderr",
     "output_type": "stream",
     "text": [
      "<ipython-input-210-ec21dfe28a42>:8: SettingWithCopyWarning: \n",
      "A value is trying to be set on a copy of a slice from a DataFrame.\n",
      "Try using .loc[row_indexer,col_indexer] = value instead\n",
      "\n",
      "See the caveats in the documentation: https://pandas.pydata.org/pandas-docs/stable/user_guide/indexing.html#returning-a-view-versus-a-copy\n",
      "  userEmo['timestamp'] -= initValue\n",
      "<ipython-input-210-ec21dfe28a42>:9: SettingWithCopyWarning: \n",
      "A value is trying to be set on a copy of a slice from a DataFrame.\n",
      "Try using .loc[row_indexer,col_indexer] = value instead\n",
      "\n",
      "See the caveats in the documentation: https://pandas.pydata.org/pandas-docs/stable/user_guide/indexing.html#returning-a-view-versus-a-copy\n",
      "  userEmo['timestamp'] /= 1000\n"
     ]
    },
    {
     "name": "stdout",
     "output_type": "stream",
     "text": [
      "233\n",
      "539\n",
      "603\n",
      "884\n",
      "974\n",
      "1200\n",
      "413\n",
      "1289\n"
     ]
    },
    {
     "name": "stderr",
     "output_type": "stream",
     "text": [
      "<ipython-input-210-ec21dfe28a42>:8: SettingWithCopyWarning: \n",
      "A value is trying to be set on a copy of a slice from a DataFrame.\n",
      "Try using .loc[row_indexer,col_indexer] = value instead\n",
      "\n",
      "See the caveats in the documentation: https://pandas.pydata.org/pandas-docs/stable/user_guide/indexing.html#returning-a-view-versus-a-copy\n",
      "  userEmo['timestamp'] -= initValue\n",
      "<ipython-input-210-ec21dfe28a42>:9: SettingWithCopyWarning: \n",
      "A value is trying to be set on a copy of a slice from a DataFrame.\n",
      "Try using .loc[row_indexer,col_indexer] = value instead\n",
      "\n",
      "See the caveats in the documentation: https://pandas.pydata.org/pandas-docs/stable/user_guide/indexing.html#returning-a-view-versus-a-copy\n",
      "  userEmo['timestamp'] /= 1000\n"
     ]
    },
    {
     "name": "stdout",
     "output_type": "stream",
     "text": [
      "2599\n",
      "2952\n",
      "3971\n",
      "4282\n",
      "5176\n"
     ]
    },
    {
     "name": "stderr",
     "output_type": "stream",
     "text": [
      "<ipython-input-210-ec21dfe28a42>:8: SettingWithCopyWarning: \n",
      "A value is trying to be set on a copy of a slice from a DataFrame.\n",
      "Try using .loc[row_indexer,col_indexer] = value instead\n",
      "\n",
      "See the caveats in the documentation: https://pandas.pydata.org/pandas-docs/stable/user_guide/indexing.html#returning-a-view-versus-a-copy\n",
      "  userEmo['timestamp'] -= initValue\n",
      "<ipython-input-210-ec21dfe28a42>:9: SettingWithCopyWarning: \n",
      "A value is trying to be set on a copy of a slice from a DataFrame.\n",
      "Try using .loc[row_indexer,col_indexer] = value instead\n",
      "\n",
      "See the caveats in the documentation: https://pandas.pydata.org/pandas-docs/stable/user_guide/indexing.html#returning-a-view-versus-a-copy\n",
      "  userEmo['timestamp'] /= 1000\n"
     ]
    },
    {
     "name": "stdout",
     "output_type": "stream",
     "text": [
      "719\n",
      "2528\n",
      "5055\n",
      "5611\n",
      "7427\n",
      "7899\n",
      "9083\n",
      "428\n"
     ]
    },
    {
     "name": "stderr",
     "output_type": "stream",
     "text": [
      "<ipython-input-210-ec21dfe28a42>:8: SettingWithCopyWarning: \n",
      "A value is trying to be set on a copy of a slice from a DataFrame.\n",
      "Try using .loc[row_indexer,col_indexer] = value instead\n",
      "\n",
      "See the caveats in the documentation: https://pandas.pydata.org/pandas-docs/stable/user_guide/indexing.html#returning-a-view-versus-a-copy\n",
      "  userEmo['timestamp'] -= initValue\n",
      "<ipython-input-210-ec21dfe28a42>:9: SettingWithCopyWarning: \n",
      "A value is trying to be set on a copy of a slice from a DataFrame.\n",
      "Try using .loc[row_indexer,col_indexer] = value instead\n",
      "\n",
      "See the caveats in the documentation: https://pandas.pydata.org/pandas-docs/stable/user_guide/indexing.html#returning-a-view-versus-a-copy\n",
      "  userEmo['timestamp'] /= 1000\n"
     ]
    },
    {
     "name": "stdout",
     "output_type": "stream",
     "text": [
      "1603\n",
      "3385\n",
      "3744\n",
      "5014\n",
      "5378\n",
      "6201\n",
      "402\n",
      "1509\n"
     ]
    },
    {
     "name": "stderr",
     "output_type": "stream",
     "text": [
      "<ipython-input-210-ec21dfe28a42>:8: SettingWithCopyWarning: \n",
      "A value is trying to be set on a copy of a slice from a DataFrame.\n",
      "Try using .loc[row_indexer,col_indexer] = value instead\n",
      "\n",
      "See the caveats in the documentation: https://pandas.pydata.org/pandas-docs/stable/user_guide/indexing.html#returning-a-view-versus-a-copy\n",
      "  userEmo['timestamp'] -= initValue\n",
      "<ipython-input-210-ec21dfe28a42>:9: SettingWithCopyWarning: \n",
      "A value is trying to be set on a copy of a slice from a DataFrame.\n",
      "Try using .loc[row_indexer,col_indexer] = value instead\n",
      "\n",
      "See the caveats in the documentation: https://pandas.pydata.org/pandas-docs/stable/user_guide/indexing.html#returning-a-view-versus-a-copy\n",
      "  userEmo['timestamp'] /= 1000\n"
     ]
    },
    {
     "name": "stdout",
     "output_type": "stream",
     "text": [
      "2921\n",
      "3283\n",
      "4498\n",
      "4900\n",
      "6026\n"
     ]
    },
    {
     "name": "stderr",
     "output_type": "stream",
     "text": [
      "<ipython-input-210-ec21dfe28a42>:8: SettingWithCopyWarning: \n",
      "A value is trying to be set on a copy of a slice from a DataFrame.\n",
      "Try using .loc[row_indexer,col_indexer] = value instead\n",
      "\n",
      "See the caveats in the documentation: https://pandas.pydata.org/pandas-docs/stable/user_guide/indexing.html#returning-a-view-versus-a-copy\n",
      "  userEmo['timestamp'] -= initValue\n",
      "<ipython-input-210-ec21dfe28a42>:9: SettingWithCopyWarning: \n",
      "A value is trying to be set on a copy of a slice from a DataFrame.\n",
      "Try using .loc[row_indexer,col_indexer] = value instead\n",
      "\n",
      "See the caveats in the documentation: https://pandas.pydata.org/pandas-docs/stable/user_guide/indexing.html#returning-a-view-versus-a-copy\n",
      "  userEmo['timestamp'] /= 1000\n"
     ]
    },
    {
     "name": "stdout",
     "output_type": "stream",
     "text": [
      "407\n",
      "1323\n",
      "3078\n",
      "3468\n",
      "4698\n",
      "5096\n",
      "6145\n",
      "601\n"
     ]
    },
    {
     "name": "stderr",
     "output_type": "stream",
     "text": [
      "<ipython-input-210-ec21dfe28a42>:8: SettingWithCopyWarning: \n",
      "A value is trying to be set on a copy of a slice from a DataFrame.\n",
      "Try using .loc[row_indexer,col_indexer] = value instead\n",
      "\n",
      "See the caveats in the documentation: https://pandas.pydata.org/pandas-docs/stable/user_guide/indexing.html#returning-a-view-versus-a-copy\n",
      "  userEmo['timestamp'] -= initValue\n",
      "<ipython-input-210-ec21dfe28a42>:9: SettingWithCopyWarning: \n",
      "A value is trying to be set on a copy of a slice from a DataFrame.\n",
      "Try using .loc[row_indexer,col_indexer] = value instead\n",
      "\n",
      "See the caveats in the documentation: https://pandas.pydata.org/pandas-docs/stable/user_guide/indexing.html#returning-a-view-versus-a-copy\n",
      "  userEmo['timestamp'] /= 1000\n"
     ]
    },
    {
     "name": "stdout",
     "output_type": "stream",
     "text": [
      "2222\n",
      "4659\n",
      "5179\n",
      "6748\n",
      "7283\n",
      "8509\n",
      "597\n"
     ]
    },
    {
     "name": "stderr",
     "output_type": "stream",
     "text": [
      "<ipython-input-210-ec21dfe28a42>:8: SettingWithCopyWarning: \n",
      "A value is trying to be set on a copy of a slice from a DataFrame.\n",
      "Try using .loc[row_indexer,col_indexer] = value instead\n",
      "\n",
      "See the caveats in the documentation: https://pandas.pydata.org/pandas-docs/stable/user_guide/indexing.html#returning-a-view-versus-a-copy\n",
      "  userEmo['timestamp'] -= initValue\n",
      "<ipython-input-210-ec21dfe28a42>:9: SettingWithCopyWarning: \n",
      "A value is trying to be set on a copy of a slice from a DataFrame.\n",
      "Try using .loc[row_indexer,col_indexer] = value instead\n",
      "\n",
      "See the caveats in the documentation: https://pandas.pydata.org/pandas-docs/stable/user_guide/indexing.html#returning-a-view-versus-a-copy\n",
      "  userEmo['timestamp'] /= 1000\n"
     ]
    },
    {
     "name": "stdout",
     "output_type": "stream",
     "text": [
      "1961\n",
      "4495\n",
      "5068\n",
      "7084\n",
      "7674\n",
      "9283\n",
      "605\n",
      "2101\n"
     ]
    },
    {
     "name": "stderr",
     "output_type": "stream",
     "text": [
      "<ipython-input-210-ec21dfe28a42>:8: SettingWithCopyWarning: \n",
      "A value is trying to be set on a copy of a slice from a DataFrame.\n",
      "Try using .loc[row_indexer,col_indexer] = value instead\n",
      "\n",
      "See the caveats in the documentation: https://pandas.pydata.org/pandas-docs/stable/user_guide/indexing.html#returning-a-view-versus-a-copy\n",
      "  userEmo['timestamp'] -= initValue\n",
      "<ipython-input-210-ec21dfe28a42>:9: SettingWithCopyWarning: \n",
      "A value is trying to be set on a copy of a slice from a DataFrame.\n",
      "Try using .loc[row_indexer,col_indexer] = value instead\n",
      "\n",
      "See the caveats in the documentation: https://pandas.pydata.org/pandas-docs/stable/user_guide/indexing.html#returning-a-view-versus-a-copy\n",
      "  userEmo['timestamp'] /= 1000\n"
     ]
    },
    {
     "name": "stdout",
     "output_type": "stream",
     "text": [
      "4579\n",
      "5160\n",
      "7186\n",
      "7775\n",
      "9383\n"
     ]
    },
    {
     "name": "stderr",
     "output_type": "stream",
     "text": [
      "<ipython-input-210-ec21dfe28a42>:8: SettingWithCopyWarning: \n",
      "A value is trying to be set on a copy of a slice from a DataFrame.\n",
      "Try using .loc[row_indexer,col_indexer] = value instead\n",
      "\n",
      "See the caveats in the documentation: https://pandas.pydata.org/pandas-docs/stable/user_guide/indexing.html#returning-a-view-versus-a-copy\n",
      "  userEmo['timestamp'] -= initValue\n",
      "<ipython-input-210-ec21dfe28a42>:9: SettingWithCopyWarning: \n",
      "A value is trying to be set on a copy of a slice from a DataFrame.\n",
      "Try using .loc[row_indexer,col_indexer] = value instead\n",
      "\n",
      "See the caveats in the documentation: https://pandas.pydata.org/pandas-docs/stable/user_guide/indexing.html#returning-a-view-versus-a-copy\n",
      "  userEmo['timestamp'] /= 1000\n"
     ]
    },
    {
     "name": "stdout",
     "output_type": "stream",
     "text": [
      "84\n",
      "306\n",
      "620\n",
      "710\n",
      "996\n",
      "1089\n",
      "1338\n"
     ]
    },
    {
     "name": "stderr",
     "output_type": "stream",
     "text": [
      "<ipython-input-210-ec21dfe28a42>:8: SettingWithCopyWarning: \n",
      "A value is trying to be set on a copy of a slice from a DataFrame.\n",
      "Try using .loc[row_indexer,col_indexer] = value instead\n",
      "\n",
      "See the caveats in the documentation: https://pandas.pydata.org/pandas-docs/stable/user_guide/indexing.html#returning-a-view-versus-a-copy\n",
      "  userEmo['timestamp'] -= initValue\n",
      "<ipython-input-210-ec21dfe28a42>:9: SettingWithCopyWarning: \n",
      "A value is trying to be set on a copy of a slice from a DataFrame.\n",
      "Try using .loc[row_indexer,col_indexer] = value instead\n",
      "\n",
      "See the caveats in the documentation: https://pandas.pydata.org/pandas-docs/stable/user_guide/indexing.html#returning-a-view-versus-a-copy\n",
      "  userEmo['timestamp'] /= 1000\n"
     ]
    },
    {
     "name": "stdout",
     "output_type": "stream",
     "text": [
      "103\n",
      "526\n",
      "922\n",
      "995\n",
      "1331\n",
      "1395\n",
      "1645\n"
     ]
    },
    {
     "name": "stderr",
     "output_type": "stream",
     "text": [
      "<ipython-input-210-ec21dfe28a42>:8: SettingWithCopyWarning: \n",
      "A value is trying to be set on a copy of a slice from a DataFrame.\n",
      "Try using .loc[row_indexer,col_indexer] = value instead\n",
      "\n",
      "See the caveats in the documentation: https://pandas.pydata.org/pandas-docs/stable/user_guide/indexing.html#returning-a-view-versus-a-copy\n",
      "  userEmo['timestamp'] -= initValue\n",
      "<ipython-input-210-ec21dfe28a42>:9: SettingWithCopyWarning: \n",
      "A value is trying to be set on a copy of a slice from a DataFrame.\n",
      "Try using .loc[row_indexer,col_indexer] = value instead\n",
      "\n",
      "See the caveats in the documentation: https://pandas.pydata.org/pandas-docs/stable/user_guide/indexing.html#returning-a-view-versus-a-copy\n",
      "  userEmo['timestamp'] /= 1000\n"
     ]
    },
    {
     "name": "stdout",
     "output_type": "stream",
     "text": [
      "128\n",
      "595\n",
      "1008\n",
      "1135\n",
      "1571\n",
      "1702\n",
      "2022\n"
     ]
    },
    {
     "name": "stderr",
     "output_type": "stream",
     "text": [
      "<ipython-input-210-ec21dfe28a42>:8: SettingWithCopyWarning: \n",
      "A value is trying to be set on a copy of a slice from a DataFrame.\n",
      "Try using .loc[row_indexer,col_indexer] = value instead\n",
      "\n",
      "See the caveats in the documentation: https://pandas.pydata.org/pandas-docs/stable/user_guide/indexing.html#returning-a-view-versus-a-copy\n",
      "  userEmo['timestamp'] -= initValue\n",
      "<ipython-input-210-ec21dfe28a42>:9: SettingWithCopyWarning: \n",
      "A value is trying to be set on a copy of a slice from a DataFrame.\n",
      "Try using .loc[row_indexer,col_indexer] = value instead\n",
      "\n",
      "See the caveats in the documentation: https://pandas.pydata.org/pandas-docs/stable/user_guide/indexing.html#returning-a-view-versus-a-copy\n",
      "  userEmo['timestamp'] /= 1000\n"
     ]
    },
    {
     "name": "stdout",
     "output_type": "stream",
     "text": [
      "596\n",
      "1336\n",
      "2856\n",
      "3098\n",
      "4900\n",
      "5417\n",
      "6037\n"
     ]
    },
    {
     "name": "stderr",
     "output_type": "stream",
     "text": [
      "<ipython-input-210-ec21dfe28a42>:8: SettingWithCopyWarning: \n",
      "A value is trying to be set on a copy of a slice from a DataFrame.\n",
      "Try using .loc[row_indexer,col_indexer] = value instead\n",
      "\n",
      "See the caveats in the documentation: https://pandas.pydata.org/pandas-docs/stable/user_guide/indexing.html#returning-a-view-versus-a-copy\n",
      "  userEmo['timestamp'] -= initValue\n",
      "<ipython-input-210-ec21dfe28a42>:9: SettingWithCopyWarning: \n",
      "A value is trying to be set on a copy of a slice from a DataFrame.\n",
      "Try using .loc[row_indexer,col_indexer] = value instead\n",
      "\n",
      "See the caveats in the documentation: https://pandas.pydata.org/pandas-docs/stable/user_guide/indexing.html#returning-a-view-versus-a-copy\n",
      "  userEmo['timestamp'] /= 1000\n"
     ]
    },
    {
     "name": "stdout",
     "output_type": "stream",
     "text": [
      "779\n",
      "3757\n",
      "6977\n",
      "7751\n",
      "10327\n",
      "11075\n",
      "13167\n"
     ]
    },
    {
     "name": "stderr",
     "output_type": "stream",
     "text": [
      "<ipython-input-210-ec21dfe28a42>:8: SettingWithCopyWarning: \n",
      "A value is trying to be set on a copy of a slice from a DataFrame.\n",
      "Try using .loc[row_indexer,col_indexer] = value instead\n",
      "\n",
      "See the caveats in the documentation: https://pandas.pydata.org/pandas-docs/stable/user_guide/indexing.html#returning-a-view-versus-a-copy\n",
      "  userEmo['timestamp'] -= initValue\n",
      "<ipython-input-210-ec21dfe28a42>:9: SettingWithCopyWarning: \n",
      "A value is trying to be set on a copy of a slice from a DataFrame.\n",
      "Try using .loc[row_indexer,col_indexer] = value instead\n",
      "\n",
      "See the caveats in the documentation: https://pandas.pydata.org/pandas-docs/stable/user_guide/indexing.html#returning-a-view-versus-a-copy\n",
      "  userEmo['timestamp'] /= 1000\n"
     ]
    },
    {
     "name": "stdout",
     "output_type": "stream",
     "text": [
      "254\n",
      "931\n",
      "1773\n",
      "1969\n",
      "2793\n",
      "2987\n",
      "3643\n"
     ]
    },
    {
     "name": "stderr",
     "output_type": "stream",
     "text": [
      "<ipython-input-210-ec21dfe28a42>:8: SettingWithCopyWarning: \n",
      "A value is trying to be set on a copy of a slice from a DataFrame.\n",
      "Try using .loc[row_indexer,col_indexer] = value instead\n",
      "\n",
      "See the caveats in the documentation: https://pandas.pydata.org/pandas-docs/stable/user_guide/indexing.html#returning-a-view-versus-a-copy\n",
      "  userEmo['timestamp'] -= initValue\n",
      "<ipython-input-210-ec21dfe28a42>:9: SettingWithCopyWarning: \n",
      "A value is trying to be set on a copy of a slice from a DataFrame.\n",
      "Try using .loc[row_indexer,col_indexer] = value instead\n",
      "\n",
      "See the caveats in the documentation: https://pandas.pydata.org/pandas-docs/stable/user_guide/indexing.html#returning-a-view-versus-a-copy\n",
      "  userEmo['timestamp'] /= 1000\n"
     ]
    },
    {
     "name": "stdout",
     "output_type": "stream",
     "text": [
      "68\n",
      "291\n",
      "539\n",
      "600\n",
      "766\n",
      "766\n",
      "766\n"
     ]
    },
    {
     "name": "stderr",
     "output_type": "stream",
     "text": [
      "<ipython-input-210-ec21dfe28a42>:8: SettingWithCopyWarning: \n",
      "A value is trying to be set on a copy of a slice from a DataFrame.\n",
      "Try using .loc[row_indexer,col_indexer] = value instead\n",
      "\n",
      "See the caveats in the documentation: https://pandas.pydata.org/pandas-docs/stable/user_guide/indexing.html#returning-a-view-versus-a-copy\n",
      "  userEmo['timestamp'] -= initValue\n",
      "<ipython-input-210-ec21dfe28a42>:9: SettingWithCopyWarning: \n",
      "A value is trying to be set on a copy of a slice from a DataFrame.\n",
      "Try using .loc[row_indexer,col_indexer] = value instead\n",
      "\n",
      "See the caveats in the documentation: https://pandas.pydata.org/pandas-docs/stable/user_guide/indexing.html#returning-a-view-versus-a-copy\n",
      "  userEmo['timestamp'] /= 1000\n"
     ]
    },
    {
     "name": "stdout",
     "output_type": "stream",
     "text": [
      "88\n",
      "419\n",
      "872\n",
      "996\n",
      "1259\n",
      "1369\n",
      "1616\n"
     ]
    }
   ],
   "source": [
    "for i, timeRow in timelines.iterrows():\n",
    "    # select user emotions\n",
    "    if timeRow['StartTime']:\n",
    "        userEmo = emo.loc[emo['userId'] == timeRow['UserId']]\n",
    "        if(len(userEmo) == 0):\n",
    "            continue\n",
    "        initValue = min(userEmo['timestamp'].values)\n",
    "        userEmo['timestamp'] -= initValue\n",
    "        userEmo['timestamp'] /= 1000\n",
    "        offset = timeRow['StartTime']\n",
    "        firstMoviePart = userEmo.loc[(userEmo['timestamp'] > offset )& (userEmo['timestamp'] < 60 + offset)]\n",
    "#         print(len(firstMoviePart))\n",
    "#         print('user id {} '.format(userEmo['userId'].values[0]))\n",
    "#         summed = firstMoviePart.(axis=0, skipna = True)\n",
    "#         print(summed)\n",
    "        firstMoviePart = firstMoviePart.describe().loc['mean']\n",
    "#         pd.concat([movieParts, frame.loc['mean']])\n",
    "#         print(frame.loc['mean'])\n",
    "        userId = userEmo['userId'].values[0]\n",
    "        firstMoviePart['part'] = 'M'\n",
    "        firstMoviePart['num'] = 1\n",
    "        firstMoviePart['userId'] = userId\n",
    "        \n",
    "        movieParts = movieParts.append(firstMoviePart)\n",
    "        \n",
    "        firstAd = userEmo.loc[(userEmo['timestamp'] > 60 + offset ) & (userEmo['timestamp'] < 60 + 32 + offset)]\n",
    "        print(len(firstAd))\n",
    "        firstAd = firstAd.describe().loc['mean']\n",
    "        firstAd['part'] = 'A'\n",
    "        firstAd['num'] = 1\n",
    "        firstAd['userId'] = userId\n",
    "        movieParts = movieParts.append(firstAd)\n",
    "#         break;\n",
    "        secondMoviePart = userEmo.loc[(userEmo['timestamp'] < 60 + 32 + offset) & (userEmo['timestamp'] < 225 + offset )]\n",
    "        print(len(secondMoviePart))\n",
    "        secondMoviePart = secondMoviePart.describe().loc['mean']\n",
    "        secondMoviePart['part'] = 'M'\n",
    "        secondMoviePart['num'] = 2\n",
    "        secondMoviePart['userId'] = userId\n",
    "        movieParts = movieParts.append(secondMoviePart)\n",
    "        \n",
    "        secondAd = userEmo.loc[(userEmo['timestamp'] < 225 + offset) & (userEmo['timestamp'] < 225 + 32 + offset)]\n",
    "        print(len(secondAd))\n",
    "        secondAd = secondAd.describe().loc['mean']\n",
    "        secondAd['part'] = 'A'\n",
    "        secondAd['num'] = 2\n",
    "        secondAd['userId'] = userId\n",
    "        movieParts = movieParts.append(secondAd)\n",
    "#         break\n",
    "        thirdMoviePart = userEmo.loc[(userEmo['timestamp'] < 225 + 32 + offset) & (userEmo['timestamp'] < 366 + offset )]\n",
    "        print(len(thirdMoviePart))\n",
    "        thirdMoviePart = thirdMoviePart.describe().loc['mean']\n",
    "        thirdMoviePart['part'] = 'M'\n",
    "        thirdMoviePart['num'] = 3\n",
    "        thirdMoviePart['userId'] = userId\n",
    "        movieParts = movieParts.append(thirdMoviePart)\n",
    "#         break\n",
    "        thirdAd = userEmo.loc[(userEmo['timestamp'] < 366 + offset ) & (userEmo['timestamp'] < 366 + offset +32 )]\n",
    "        print(len(thirdAd))\n",
    "        thirdAd = thirdAd.describe().loc['mean']\n",
    "        thirdAd['part'] = 'A'\n",
    "        thirdAd['num'] = 3\n",
    "        thirdAd['userId'] = userId\n",
    "        movieParts = movieParts.append(thirdAd)\n",
    "#         break\n",
    "        forthMoviePart = userEmo.loc[(userEmo['timestamp'] < 366 + offset +32 ) & (userEmo['timestamp'] < 486 + offset )]\n",
    "        print(len(forthMoviePart))\n",
    "        forthMoviePart = forthMoviePart.describe().loc['mean']\n",
    "        forthMoviePart['part'] = 'M'\n",
    "        forthMoviePart['num'] = 4\n",
    "        forthMoviePart['userId'] = userId\n",
    "        movieParts = movieParts.append(forthMoviePart)\n",
    "        \n",
    "        forthAd = userEmo.loc[(userEmo['timestamp'] < 486 + offset ) & (userEmo['timestamp'] < 486 + offset + 32 )]\n",
    "        print(len(forthAd))\n",
    "        forthAd = forthAd.describe().loc['mean']\n",
    "        forthAd['part'] = 'A'\n",
    "        forthAd['num'] = 4\n",
    "        forthAd['userId'] = userId\n",
    "        movieParts = movieParts.append(forthAd)\n",
    "        \n",
    "#         break"
   ]
  },
  {
   "cell_type": "code",
   "execution_count": null,
   "metadata": {},
   "outputs": [],
   "source": [
    "# 1 min ad duration for 32 seconds -> tikiri mari => children, snacks\n",
    "# 3 min 45 seconds duration for 32 seconds -> boc => elders, savings\n",
    "# 6 min 6 seconds duration for 32 seconds -> cream cracker => youth, middle age, snacks\n",
    "# 8 min 6 seconds duration for 32 seconds -> koththu mee => youth, food, snacks, fun"
   ]
  },
  {
   "cell_type": "code",
   "execution_count": null,
   "metadata": {},
   "outputs": [],
   "source": [
    "firstMoviePart = rows.loc[(rows['timestamp'] > 6 )& (rows['timestamp'] < 60 + 6)]\n",
    "firstAd = rows.loc[(rows['timestamp'] > 60 + 6 ) & (rows['timestamp'] < 60 + 30 + 6)]"
   ]
  },
  {
   "cell_type": "code",
   "execution_count": 211,
   "metadata": {},
   "outputs": [
    {
     "data": {
      "text/plain": [
       "624"
      ]
     },
     "execution_count": 211,
     "metadata": {},
     "output_type": "execute_result"
    }
   ],
   "source": [
    "len(movieParts['userId'])"
   ]
  },
  {
   "cell_type": "code",
   "execution_count": 212,
   "metadata": {},
   "outputs": [
    {
     "data": {
      "text/plain": [
       "77"
      ]
     },
     "execution_count": 212,
     "metadata": {},
     "output_type": "execute_result"
    }
   ],
   "source": [
    "len(set(list(movieParts['userId'].values)))"
   ]
  },
  {
   "cell_type": "code",
   "execution_count": 16,
   "metadata": {},
   "outputs": [],
   "source": [
    "# movieParts = movieParts.append(frame.loc['mean'])"
   ]
  },
  {
   "cell_type": "code",
   "execution_count": 1,
   "metadata": {},
   "outputs": [],
   "source": [
    "# pd.DataFrame(frame.loc['mean'], columns=['smile', 'innerBrowRaise', 'browRaise', 'browFurrow', 'noseWrinkle',\n",
    "#        'upperLipRaise', 'lipCornerDepressor', 'chinRaise', 'lipPucker',\n",
    "#        'lipPress', 'lipSuck', 'mouthOpen', 'smirk', 'eyeClosure', 'attention',\n",
    "#        'lidTighten', 'jawDrop', 'dimpler', 'eyeWiden', 'cheekRaise',\n",
    "#        'lipStretch', 'joy', 'sadness', 'disgust', 'contempt', 'anger', 'fear',\n",
    "#        'surprise', 'valence', 'engagement', 'timestamp'])"
   ]
  },
  {
   "cell_type": "code",
   "execution_count": 17,
   "metadata": {},
   "outputs": [],
   "source": [
    "movieParts = pd.read_csv('adsAndMovie_without_na.csv')"
   ]
  },
  {
   "cell_type": "code",
   "execution_count": 105,
   "metadata": {},
   "outputs": [],
   "source": [
    "# movieParts.to_csv('adsAndMovie_without_na.csv')"
   ]
  },
  {
   "cell_type": "code",
   "execution_count": 110,
   "metadata": {},
   "outputs": [],
   "source": [
    "# movieParts"
   ]
  },
  {
   "cell_type": "code",
   "execution_count": 13,
   "metadata": {},
   "outputs": [
    {
     "data": {
      "text/plain": [
       "Index(['Unnamed: 0', 'smile', 'innerBrowRaise', 'browRaise', 'browFurrow',\n",
       "       'noseWrinkle', 'upperLipRaise', 'lipCornerDepressor', 'chinRaise',\n",
       "       'lipPucker', 'lipPress', 'lipSuck', 'mouthOpen', 'smirk', 'eyeClosure',\n",
       "       'attention', 'lidTighten', 'jawDrop', 'dimpler', 'eyeWiden',\n",
       "       'cheekRaise', 'lipStretch', 'joy', 'sadness', 'disgust', 'contempt',\n",
       "       'anger', 'fear', 'surprise', 'valence', 'engagement', 'timestamp',\n",
       "       'userId', '_id', 'num', 'part'],\n",
       "      dtype='object')"
      ]
     },
     "execution_count": 13,
     "metadata": {},
     "output_type": "execute_result"
    }
   ],
   "source": [
    "movieParts.columns"
   ]
  },
  {
   "cell_type": "code",
   "execution_count": 18,
   "metadata": {},
   "outputs": [
    {
     "data": {
      "text/html": [
       "<div>\n",
       "<style scoped>\n",
       "    .dataframe tbody tr th:only-of-type {\n",
       "        vertical-align: middle;\n",
       "    }\n",
       "\n",
       "    .dataframe tbody tr th {\n",
       "        vertical-align: top;\n",
       "    }\n",
       "\n",
       "    .dataframe thead th {\n",
       "        text-align: right;\n",
       "    }\n",
       "</style>\n",
       "<table border=\"1\" class=\"dataframe\">\n",
       "  <thead>\n",
       "    <tr style=\"text-align: right;\">\n",
       "      <th></th>\n",
       "      <th>Unnamed: 0</th>\n",
       "      <th>smile</th>\n",
       "      <th>innerBrowRaise</th>\n",
       "      <th>browRaise</th>\n",
       "      <th>browFurrow</th>\n",
       "      <th>noseWrinkle</th>\n",
       "      <th>upperLipRaise</th>\n",
       "      <th>lipCornerDepressor</th>\n",
       "      <th>chinRaise</th>\n",
       "      <th>lipPucker</th>\n",
       "      <th>...</th>\n",
       "      <th>anger</th>\n",
       "      <th>fear</th>\n",
       "      <th>surprise</th>\n",
       "      <th>valence</th>\n",
       "      <th>engagement</th>\n",
       "      <th>timestamp</th>\n",
       "      <th>userId</th>\n",
       "      <th>_id</th>\n",
       "      <th>num</th>\n",
       "      <th>part</th>\n",
       "    </tr>\n",
       "  </thead>\n",
       "  <tbody>\n",
       "    <tr>\n",
       "      <th>0</th>\n",
       "      <td>mean</td>\n",
       "      <td>0.944980</td>\n",
       "      <td>0.007321</td>\n",
       "      <td>12.931460</td>\n",
       "      <td>0.000247</td>\n",
       "      <td>0.001265</td>\n",
       "      <td>6.469341</td>\n",
       "      <td>2.508669</td>\n",
       "      <td>3.186199</td>\n",
       "      <td>0.403462</td>\n",
       "      <td>...</td>\n",
       "      <td>0.037459</td>\n",
       "      <td>0.076230</td>\n",
       "      <td>4.207244</td>\n",
       "      <td>-5.051303</td>\n",
       "      <td>15.784402</td>\n",
       "      <td>36.196418</td>\n",
       "      <td>Lahiru_23_male</td>\n",
       "      <td>NaN</td>\n",
       "      <td>1.0</td>\n",
       "      <td>M</td>\n",
       "    </tr>\n",
       "    <tr>\n",
       "      <th>1</th>\n",
       "      <td>mean</td>\n",
       "      <td>0.000223</td>\n",
       "      <td>0.001590</td>\n",
       "      <td>12.212350</td>\n",
       "      <td>0.000247</td>\n",
       "      <td>0.003044</td>\n",
       "      <td>0.917955</td>\n",
       "      <td>4.922062</td>\n",
       "      <td>6.981729</td>\n",
       "      <td>3.227182</td>\n",
       "      <td>...</td>\n",
       "      <td>0.390009</td>\n",
       "      <td>0.003132</td>\n",
       "      <td>4.062983</td>\n",
       "      <td>-7.817432</td>\n",
       "      <td>14.007696</td>\n",
       "      <td>82.014279</td>\n",
       "      <td>Lahiru_23_male</td>\n",
       "      <td>NaN</td>\n",
       "      <td>1.0</td>\n",
       "      <td>A</td>\n",
       "    </tr>\n",
       "    <tr>\n",
       "      <th>2</th>\n",
       "      <td>mean</td>\n",
       "      <td>0.585185</td>\n",
       "      <td>0.005256</td>\n",
       "      <td>12.794181</td>\n",
       "      <td>0.000236</td>\n",
       "      <td>0.001991</td>\n",
       "      <td>4.346483</td>\n",
       "      <td>3.189683</td>\n",
       "      <td>4.299268</td>\n",
       "      <td>1.393436</td>\n",
       "      <td>...</td>\n",
       "      <td>0.152735</td>\n",
       "      <td>0.048412</td>\n",
       "      <td>4.056534</td>\n",
       "      <td>-5.722758</td>\n",
       "      <td>14.642886</td>\n",
       "      <td>49.798928</td>\n",
       "      <td>Lahiru_23_male</td>\n",
       "      <td>NaN</td>\n",
       "      <td>2.0</td>\n",
       "      <td>M</td>\n",
       "    </tr>\n",
       "    <tr>\n",
       "      <th>3</th>\n",
       "      <td>mean</td>\n",
       "      <td>0.250589</td>\n",
       "      <td>0.252834</td>\n",
       "      <td>10.394885</td>\n",
       "      <td>0.007487</td>\n",
       "      <td>0.077309</td>\n",
       "      <td>2.349885</td>\n",
       "      <td>9.574063</td>\n",
       "      <td>3.080715</td>\n",
       "      <td>2.015270</td>\n",
       "      <td>...</td>\n",
       "      <td>0.088650</td>\n",
       "      <td>0.226062</td>\n",
       "      <td>3.796687</td>\n",
       "      <td>-7.349686</td>\n",
       "      <td>13.669061</td>\n",
       "      <td>115.964499</td>\n",
       "      <td>Lahiru_23_male</td>\n",
       "      <td>NaN</td>\n",
       "      <td>2.0</td>\n",
       "      <td>A</td>\n",
       "    </tr>\n",
       "    <tr>\n",
       "      <th>4</th>\n",
       "      <td>mean</td>\n",
       "      <td>0.224445</td>\n",
       "      <td>0.237248</td>\n",
       "      <td>11.080581</td>\n",
       "      <td>0.117665</td>\n",
       "      <td>0.073010</td>\n",
       "      <td>2.119239</td>\n",
       "      <td>12.559441</td>\n",
       "      <td>2.798391</td>\n",
       "      <td>1.913271</td>\n",
       "      <td>...</td>\n",
       "      <td>0.094116</td>\n",
       "      <td>0.202612</td>\n",
       "      <td>4.322070</td>\n",
       "      <td>-9.253248</td>\n",
       "      <td>15.385725</td>\n",
       "      <td>129.701614</td>\n",
       "      <td>Lahiru_23_male</td>\n",
       "      <td>NaN</td>\n",
       "      <td>3.0</td>\n",
       "      <td>M</td>\n",
       "    </tr>\n",
       "    <tr>\n",
       "      <th>5</th>\n",
       "      <td>mean</td>\n",
       "      <td>2.009563</td>\n",
       "      <td>0.185200</td>\n",
       "      <td>11.330839</td>\n",
       "      <td>0.084009</td>\n",
       "      <td>0.055128</td>\n",
       "      <td>2.136273</td>\n",
       "      <td>14.387203</td>\n",
       "      <td>2.673038</td>\n",
       "      <td>2.903360</td>\n",
       "      <td>...</td>\n",
       "      <td>0.076611</td>\n",
       "      <td>0.144169</td>\n",
       "      <td>3.665013</td>\n",
       "      <td>-8.220958</td>\n",
       "      <td>17.396636</td>\n",
       "      <td>184.123915</td>\n",
       "      <td>Lahiru_23_male</td>\n",
       "      <td>NaN</td>\n",
       "      <td>3.0</td>\n",
       "      <td>A</td>\n",
       "    </tr>\n",
       "    <tr>\n",
       "      <th>6</th>\n",
       "      <td>mean</td>\n",
       "      <td>6.595376</td>\n",
       "      <td>0.170446</td>\n",
       "      <td>10.475908</td>\n",
       "      <td>0.077316</td>\n",
       "      <td>0.051068</td>\n",
       "      <td>2.951739</td>\n",
       "      <td>13.332749</td>\n",
       "      <td>2.535868</td>\n",
       "      <td>2.673610</td>\n",
       "      <td>...</td>\n",
       "      <td>0.071339</td>\n",
       "      <td>0.132743</td>\n",
       "      <td>3.669115</td>\n",
       "      <td>-2.989107</td>\n",
       "      <td>22.005073</td>\n",
       "      <td>200.334350</td>\n",
       "      <td>Lahiru_23_male</td>\n",
       "      <td>NaN</td>\n",
       "      <td>4.0</td>\n",
       "      <td>M</td>\n",
       "    </tr>\n",
       "    <tr>\n",
       "      <th>7</th>\n",
       "      <td>mean</td>\n",
       "      <td>5.527062</td>\n",
       "      <td>0.170824</td>\n",
       "      <td>9.908801</td>\n",
       "      <td>0.064805</td>\n",
       "      <td>0.043436</td>\n",
       "      <td>2.566737</td>\n",
       "      <td>16.759428</td>\n",
       "      <td>2.217050</td>\n",
       "      <td>2.273058</td>\n",
       "      <td>...</td>\n",
       "      <td>0.062985</td>\n",
       "      <td>0.111668</td>\n",
       "      <td>3.218508</td>\n",
       "      <td>-5.853229</td>\n",
       "      <td>21.800915</td>\n",
       "      <td>240.565510</td>\n",
       "      <td>Lahiru_23_male</td>\n",
       "      <td>NaN</td>\n",
       "      <td>4.0</td>\n",
       "      <td>A</td>\n",
       "    </tr>\n",
       "  </tbody>\n",
       "</table>\n",
       "<p>8 rows × 36 columns</p>\n",
       "</div>"
      ],
      "text/plain": [
       "  Unnamed: 0     smile  innerBrowRaise  browRaise  browFurrow  noseWrinkle  \\\n",
       "0       mean  0.944980        0.007321  12.931460    0.000247     0.001265   \n",
       "1       mean  0.000223        0.001590  12.212350    0.000247     0.003044   \n",
       "2       mean  0.585185        0.005256  12.794181    0.000236     0.001991   \n",
       "3       mean  0.250589        0.252834  10.394885    0.007487     0.077309   \n",
       "4       mean  0.224445        0.237248  11.080581    0.117665     0.073010   \n",
       "5       mean  2.009563        0.185200  11.330839    0.084009     0.055128   \n",
       "6       mean  6.595376        0.170446  10.475908    0.077316     0.051068   \n",
       "7       mean  5.527062        0.170824   9.908801    0.064805     0.043436   \n",
       "\n",
       "   upperLipRaise  lipCornerDepressor  chinRaise  lipPucker  ...     anger  \\\n",
       "0       6.469341            2.508669   3.186199   0.403462  ...  0.037459   \n",
       "1       0.917955            4.922062   6.981729   3.227182  ...  0.390009   \n",
       "2       4.346483            3.189683   4.299268   1.393436  ...  0.152735   \n",
       "3       2.349885            9.574063   3.080715   2.015270  ...  0.088650   \n",
       "4       2.119239           12.559441   2.798391   1.913271  ...  0.094116   \n",
       "5       2.136273           14.387203   2.673038   2.903360  ...  0.076611   \n",
       "6       2.951739           13.332749   2.535868   2.673610  ...  0.071339   \n",
       "7       2.566737           16.759428   2.217050   2.273058  ...  0.062985   \n",
       "\n",
       "       fear  surprise   valence  engagement   timestamp          userId  _id  \\\n",
       "0  0.076230  4.207244 -5.051303   15.784402   36.196418  Lahiru_23_male  NaN   \n",
       "1  0.003132  4.062983 -7.817432   14.007696   82.014279  Lahiru_23_male  NaN   \n",
       "2  0.048412  4.056534 -5.722758   14.642886   49.798928  Lahiru_23_male  NaN   \n",
       "3  0.226062  3.796687 -7.349686   13.669061  115.964499  Lahiru_23_male  NaN   \n",
       "4  0.202612  4.322070 -9.253248   15.385725  129.701614  Lahiru_23_male  NaN   \n",
       "5  0.144169  3.665013 -8.220958   17.396636  184.123915  Lahiru_23_male  NaN   \n",
       "6  0.132743  3.669115 -2.989107   22.005073  200.334350  Lahiru_23_male  NaN   \n",
       "7  0.111668  3.218508 -5.853229   21.800915  240.565510  Lahiru_23_male  NaN   \n",
       "\n",
       "   num  part  \n",
       "0  1.0     M  \n",
       "1  1.0     A  \n",
       "2  2.0     M  \n",
       "3  2.0     A  \n",
       "4  3.0     M  \n",
       "5  3.0     A  \n",
       "6  4.0     M  \n",
       "7  4.0     A  \n",
       "\n",
       "[8 rows x 36 columns]"
      ]
     },
     "execution_count": 18,
     "metadata": {},
     "output_type": "execute_result"
    }
   ],
   "source": [
    "movieParts.loc[movieParts['userId'] == 'Lahiru_23_male']"
   ]
  },
  {
   "cell_type": "code",
   "execution_count": 19,
   "metadata": {
    "scrolled": true
   },
   "outputs": [
    {
     "data": {
      "text/plain": [
       "77"
      ]
     },
     "execution_count": 19,
     "metadata": {},
     "output_type": "execute_result"
    }
   ],
   "source": [
    "len(set(list(movieParts['userId'])))"
   ]
  },
  {
   "cell_type": "code",
   "execution_count": 20,
   "metadata": {},
   "outputs": [],
   "source": [
    "# emotions => joy, sadness, disgust, contempt, anger, fear, surprise, valence, \n",
    "# compound feelings => engagement\n",
    "# facial features => smile, innerBrowRaise, browRaise, browFurrow, noseWrinkle, upperLipRaise, lipcornerDepressor,\n",
    "#                     chinRaise, attention, lidTighten, jawDrop, dimpler, eyeWiden, cheekraise, lipStrentch,"
   ]
  },
  {
   "cell_type": "code",
   "execution_count": 21,
   "metadata": {},
   "outputs": [
    {
     "data": {
      "text/html": [
       "<div>\n",
       "<style scoped>\n",
       "    .dataframe tbody tr th:only-of-type {\n",
       "        vertical-align: middle;\n",
       "    }\n",
       "\n",
       "    .dataframe tbody tr th {\n",
       "        vertical-align: top;\n",
       "    }\n",
       "\n",
       "    .dataframe thead th {\n",
       "        text-align: right;\n",
       "    }\n",
       "</style>\n",
       "<table border=\"1\" class=\"dataframe\">\n",
       "  <thead>\n",
       "    <tr style=\"text-align: right;\">\n",
       "      <th></th>\n",
       "      <th>Unnamed: 0</th>\n",
       "      <th>smile</th>\n",
       "      <th>innerBrowRaise</th>\n",
       "      <th>browRaise</th>\n",
       "      <th>browFurrow</th>\n",
       "      <th>noseWrinkle</th>\n",
       "      <th>upperLipRaise</th>\n",
       "      <th>lipCornerDepressor</th>\n",
       "      <th>chinRaise</th>\n",
       "      <th>lipPucker</th>\n",
       "      <th>...</th>\n",
       "      <th>anger</th>\n",
       "      <th>fear</th>\n",
       "      <th>surprise</th>\n",
       "      <th>valence</th>\n",
       "      <th>engagement</th>\n",
       "      <th>timestamp</th>\n",
       "      <th>userId</th>\n",
       "      <th>_id</th>\n",
       "      <th>num</th>\n",
       "      <th>part</th>\n",
       "    </tr>\n",
       "  </thead>\n",
       "  <tbody>\n",
       "    <tr>\n",
       "      <th>8</th>\n",
       "      <td>mean</td>\n",
       "      <td>0.000185</td>\n",
       "      <td>0.319007</td>\n",
       "      <td>6.998353</td>\n",
       "      <td>0.001138</td>\n",
       "      <td>0.674542</td>\n",
       "      <td>0.084816</td>\n",
       "      <td>0.046733</td>\n",
       "      <td>0.713155</td>\n",
       "      <td>4.945969</td>\n",
       "      <td>...</td>\n",
       "      <td>0.080026</td>\n",
       "      <td>0.007689</td>\n",
       "      <td>2.903018</td>\n",
       "      <td>-6.577463</td>\n",
       "      <td>19.246221</td>\n",
       "      <td>37.964057</td>\n",
       "      <td>Kavindu__19_m</td>\n",
       "      <td>NaN</td>\n",
       "      <td>1.0</td>\n",
       "      <td>M</td>\n",
       "    </tr>\n",
       "    <tr>\n",
       "      <th>9</th>\n",
       "      <td>mean</td>\n",
       "      <td>0.002921</td>\n",
       "      <td>0.073352</td>\n",
       "      <td>2.139370</td>\n",
       "      <td>0.000392</td>\n",
       "      <td>0.049952</td>\n",
       "      <td>0.000062</td>\n",
       "      <td>0.389043</td>\n",
       "      <td>1.708147</td>\n",
       "      <td>0.913682</td>\n",
       "      <td>...</td>\n",
       "      <td>0.065231</td>\n",
       "      <td>0.004226</td>\n",
       "      <td>0.523702</td>\n",
       "      <td>-2.471000</td>\n",
       "      <td>5.744845</td>\n",
       "      <td>83.650901</td>\n",
       "      <td>Kavindu__19_m</td>\n",
       "      <td>NaN</td>\n",
       "      <td>1.0</td>\n",
       "      <td>A</td>\n",
       "    </tr>\n",
       "    <tr>\n",
       "      <th>10</th>\n",
       "      <td>mean</td>\n",
       "      <td>0.001087</td>\n",
       "      <td>0.216695</td>\n",
       "      <td>4.936268</td>\n",
       "      <td>0.000922</td>\n",
       "      <td>0.422851</td>\n",
       "      <td>0.051089</td>\n",
       "      <td>0.158248</td>\n",
       "      <td>1.003444</td>\n",
       "      <td>3.284312</td>\n",
       "      <td>...</td>\n",
       "      <td>0.070103</td>\n",
       "      <td>0.006293</td>\n",
       "      <td>1.937645</td>\n",
       "      <td>-4.785826</td>\n",
       "      <td>13.578124</td>\n",
       "      <td>51.068849</td>\n",
       "      <td>Kavindu__19_m</td>\n",
       "      <td>NaN</td>\n",
       "      <td>2.0</td>\n",
       "      <td>M</td>\n",
       "    </tr>\n",
       "    <tr>\n",
       "      <th>11</th>\n",
       "      <td>mean</td>\n",
       "      <td>0.062620</td>\n",
       "      <td>0.630165</td>\n",
       "      <td>5.914644</td>\n",
       "      <td>0.023340</td>\n",
       "      <td>0.295892</td>\n",
       "      <td>0.021831</td>\n",
       "      <td>1.195718</td>\n",
       "      <td>4.034026</td>\n",
       "      <td>10.374758</td>\n",
       "      <td>...</td>\n",
       "      <td>0.214814</td>\n",
       "      <td>0.131591</td>\n",
       "      <td>1.620177</td>\n",
       "      <td>-6.955137</td>\n",
       "      <td>17.083415</td>\n",
       "      <td>117.537230</td>\n",
       "      <td>Kavindu__19_m</td>\n",
       "      <td>NaN</td>\n",
       "      <td>2.0</td>\n",
       "      <td>A</td>\n",
       "    </tr>\n",
       "    <tr>\n",
       "      <th>12</th>\n",
       "      <td>mean</td>\n",
       "      <td>0.915527</td>\n",
       "      <td>0.573557</td>\n",
       "      <td>8.255454</td>\n",
       "      <td>0.023003</td>\n",
       "      <td>0.268827</td>\n",
       "      <td>0.055385</td>\n",
       "      <td>1.074990</td>\n",
       "      <td>3.707468</td>\n",
       "      <td>12.903866</td>\n",
       "      <td>...</td>\n",
       "      <td>0.196061</td>\n",
       "      <td>0.117391</td>\n",
       "      <td>3.027437</td>\n",
       "      <td>-5.351784</td>\n",
       "      <td>22.595755</td>\n",
       "      <td>132.921146</td>\n",
       "      <td>Kavindu__19_m</td>\n",
       "      <td>NaN</td>\n",
       "      <td>3.0</td>\n",
       "      <td>M</td>\n",
       "    </tr>\n",
       "    <tr>\n",
       "      <th>13</th>\n",
       "      <td>mean</td>\n",
       "      <td>0.644131</td>\n",
       "      <td>0.491443</td>\n",
       "      <td>6.451533</td>\n",
       "      <td>0.017228</td>\n",
       "      <td>0.385417</td>\n",
       "      <td>0.038968</td>\n",
       "      <td>0.912979</td>\n",
       "      <td>2.765044</td>\n",
       "      <td>9.733340</td>\n",
       "      <td>...</td>\n",
       "      <td>0.142819</td>\n",
       "      <td>0.083972</td>\n",
       "      <td>2.311865</td>\n",
       "      <td>-4.290956</td>\n",
       "      <td>16.850744</td>\n",
       "      <td>187.996214</td>\n",
       "      <td>Kavindu__19_m</td>\n",
       "      <td>NaN</td>\n",
       "      <td>3.0</td>\n",
       "      <td>A</td>\n",
       "    </tr>\n",
       "    <tr>\n",
       "      <th>14</th>\n",
       "      <td>mean</td>\n",
       "      <td>0.601232</td>\n",
       "      <td>0.513519</td>\n",
       "      <td>6.740320</td>\n",
       "      <td>0.033288</td>\n",
       "      <td>0.424661</td>\n",
       "      <td>0.036857</td>\n",
       "      <td>1.299648</td>\n",
       "      <td>2.971253</td>\n",
       "      <td>11.184426</td>\n",
       "      <td>...</td>\n",
       "      <td>0.135610</td>\n",
       "      <td>0.078658</td>\n",
       "      <td>2.272716</td>\n",
       "      <td>-4.024977</td>\n",
       "      <td>17.257615</td>\n",
       "      <td>201.611946</td>\n",
       "      <td>Kavindu__19_m</td>\n",
       "      <td>NaN</td>\n",
       "      <td>4.0</td>\n",
       "      <td>M</td>\n",
       "    </tr>\n",
       "    <tr>\n",
       "      <th>15</th>\n",
       "      <td>mean</td>\n",
       "      <td>1.742424</td>\n",
       "      <td>0.477822</td>\n",
       "      <td>7.096407</td>\n",
       "      <td>0.027785</td>\n",
       "      <td>0.483938</td>\n",
       "      <td>0.030695</td>\n",
       "      <td>1.460800</td>\n",
       "      <td>3.778996</td>\n",
       "      <td>10.330821</td>\n",
       "      <td>...</td>\n",
       "      <td>0.117218</td>\n",
       "      <td>0.069286</td>\n",
       "      <td>2.640095</td>\n",
       "      <td>-2.960103</td>\n",
       "      <td>17.687075</td>\n",
       "      <td>245.601973</td>\n",
       "      <td>Kavindu__19_m</td>\n",
       "      <td>NaN</td>\n",
       "      <td>4.0</td>\n",
       "      <td>A</td>\n",
       "    </tr>\n",
       "  </tbody>\n",
       "</table>\n",
       "<p>8 rows × 36 columns</p>\n",
       "</div>"
      ],
      "text/plain": [
       "   Unnamed: 0     smile  innerBrowRaise  browRaise  browFurrow  noseWrinkle  \\\n",
       "8        mean  0.000185        0.319007   6.998353    0.001138     0.674542   \n",
       "9        mean  0.002921        0.073352   2.139370    0.000392     0.049952   \n",
       "10       mean  0.001087        0.216695   4.936268    0.000922     0.422851   \n",
       "11       mean  0.062620        0.630165   5.914644    0.023340     0.295892   \n",
       "12       mean  0.915527        0.573557   8.255454    0.023003     0.268827   \n",
       "13       mean  0.644131        0.491443   6.451533    0.017228     0.385417   \n",
       "14       mean  0.601232        0.513519   6.740320    0.033288     0.424661   \n",
       "15       mean  1.742424        0.477822   7.096407    0.027785     0.483938   \n",
       "\n",
       "    upperLipRaise  lipCornerDepressor  chinRaise  lipPucker  ...     anger  \\\n",
       "8        0.084816            0.046733   0.713155   4.945969  ...  0.080026   \n",
       "9        0.000062            0.389043   1.708147   0.913682  ...  0.065231   \n",
       "10       0.051089            0.158248   1.003444   3.284312  ...  0.070103   \n",
       "11       0.021831            1.195718   4.034026  10.374758  ...  0.214814   \n",
       "12       0.055385            1.074990   3.707468  12.903866  ...  0.196061   \n",
       "13       0.038968            0.912979   2.765044   9.733340  ...  0.142819   \n",
       "14       0.036857            1.299648   2.971253  11.184426  ...  0.135610   \n",
       "15       0.030695            1.460800   3.778996  10.330821  ...  0.117218   \n",
       "\n",
       "        fear  surprise   valence  engagement   timestamp         userId  _id  \\\n",
       "8   0.007689  2.903018 -6.577463   19.246221   37.964057  Kavindu__19_m  NaN   \n",
       "9   0.004226  0.523702 -2.471000    5.744845   83.650901  Kavindu__19_m  NaN   \n",
       "10  0.006293  1.937645 -4.785826   13.578124   51.068849  Kavindu__19_m  NaN   \n",
       "11  0.131591  1.620177 -6.955137   17.083415  117.537230  Kavindu__19_m  NaN   \n",
       "12  0.117391  3.027437 -5.351784   22.595755  132.921146  Kavindu__19_m  NaN   \n",
       "13  0.083972  2.311865 -4.290956   16.850744  187.996214  Kavindu__19_m  NaN   \n",
       "14  0.078658  2.272716 -4.024977   17.257615  201.611946  Kavindu__19_m  NaN   \n",
       "15  0.069286  2.640095 -2.960103   17.687075  245.601973  Kavindu__19_m  NaN   \n",
       "\n",
       "    num  part  \n",
       "8   1.0     M  \n",
       "9   1.0     A  \n",
       "10  2.0     M  \n",
       "11  2.0     A  \n",
       "12  3.0     M  \n",
       "13  3.0     A  \n",
       "14  4.0     M  \n",
       "15  4.0     A  \n",
       "\n",
       "[8 rows x 36 columns]"
      ]
     },
     "execution_count": 21,
     "metadata": {},
     "output_type": "execute_result"
    }
   ],
   "source": [
    "movieParts.loc[movieParts['userId'] == 'Kavindu__19_m']"
   ]
  },
  {
   "cell_type": "code",
   "execution_count": 113,
   "metadata": {},
   "outputs": [],
   "source": [
    "movieParts['age'] = -1"
   ]
  },
  {
   "cell_type": "code",
   "execution_count": null,
   "metadata": {},
   "outputs": [],
   "source": []
  },
  {
   "cell_type": "code",
   "execution_count": 116,
   "metadata": {
    "scrolled": true
   },
   "outputs": [],
   "source": [
    "for i, row in movieParts.iterrows():\n",
    "    movieParts.loc[i, 'age'] = getAgeGroup(timelines.loc[timelines['UserId'] == row['userId']]['Age'].values[0])\n",
    "    "
   ]
  },
  {
   "cell_type": "code",
   "execution_count": 117,
   "metadata": {
    "scrolled": true
   },
   "outputs": [
    {
     "data": {
      "text/plain": [
       "88"
      ]
     },
     "execution_count": 117,
     "metadata": {},
     "output_type": "execute_result"
    }
   ],
   "source": [
    "len(movieParts.loc[movieParts['age'] == 0])"
   ]
  },
  {
   "cell_type": "code",
   "execution_count": null,
   "metadata": {},
   "outputs": [],
   "source": [
    "# 05-19 => 0\n",
    "# 19-35 => 1\n",
    "# 35-55 => 2\n",
    "# 55-75 => 3"
   ]
  },
  {
   "cell_type": "code",
   "execution_count": 18,
   "metadata": {},
   "outputs": [
    {
     "data": {
      "text/plain": [
       "23.0"
      ]
     },
     "execution_count": 18,
     "metadata": {},
     "output_type": "execute_result"
    }
   ],
   "source": [
    "timelines.loc[timelines['UserId'] == 'Lahiru_23_male']['Age'].values[0]"
   ]
  },
  {
   "cell_type": "code",
   "execution_count": 22,
   "metadata": {},
   "outputs": [],
   "source": [
    "def getAgeGroup(age):\n",
    "    if age >= 5 and age < 19:\n",
    "        return 0\n",
    "    if age >= 19 and age < 35:\n",
    "        return 1\n",
    "    if age >=35 and age < 55:\n",
    "        return 2\n",
    "    if age >=55 and age < 100:\n",
    "        return 3"
   ]
  },
  {
   "cell_type": "code",
   "execution_count": 23,
   "metadata": {},
   "outputs": [],
   "source": [
    "moviePartsWithAge = pd.read_csv('meanOfMovieWithAge.csv')"
   ]
  },
  {
   "cell_type": "code",
   "execution_count": 97,
   "metadata": {},
   "outputs": [],
   "source": [
    "parallel = pd.DataFrame(columns=movie)"
   ]
  },
  {
   "cell_type": "code",
   "execution_count": 86,
   "metadata": {},
   "outputs": [],
   "source": [
    "movie.append('userId')"
   ]
  },
  {
   "cell_type": "code",
   "execution_count": 121,
   "metadata": {},
   "outputs": [],
   "source": [
    "movieColumns=['1.0_M', '1.0_A', '2.0_M', '2.0_A', '3.0_M', '3.0_A', '4.0_M', '4.0_A', 'userId']"
   ]
  },
  {
   "cell_type": "code",
   "execution_count": 110,
   "metadata": {},
   "outputs": [
    {
     "data": {
      "text/html": [
       "<div>\n",
       "<style scoped>\n",
       "    .dataframe tbody tr th:only-of-type {\n",
       "        vertical-align: middle;\n",
       "    }\n",
       "\n",
       "    .dataframe tbody tr th {\n",
       "        vertical-align: top;\n",
       "    }\n",
       "\n",
       "    .dataframe thead th {\n",
       "        text-align: right;\n",
       "    }\n",
       "</style>\n",
       "<table border=\"1\" class=\"dataframe\">\n",
       "  <thead>\n",
       "    <tr style=\"text-align: right;\">\n",
       "      <th></th>\n",
       "      <th>Unnamed: 0</th>\n",
       "      <th>Unnamed: 0.1</th>\n",
       "      <th>smile</th>\n",
       "      <th>innerBrowRaise</th>\n",
       "      <th>browRaise</th>\n",
       "      <th>browFurrow</th>\n",
       "      <th>noseWrinkle</th>\n",
       "      <th>upperLipRaise</th>\n",
       "      <th>lipCornerDepressor</th>\n",
       "      <th>chinRaise</th>\n",
       "      <th>...</th>\n",
       "      <th>anger</th>\n",
       "      <th>fear</th>\n",
       "      <th>surprise</th>\n",
       "      <th>valence</th>\n",
       "      <th>engagement</th>\n",
       "      <th>timestamp</th>\n",
       "      <th>userId</th>\n",
       "      <th>num</th>\n",
       "      <th>part</th>\n",
       "      <th>age</th>\n",
       "    </tr>\n",
       "  </thead>\n",
       "  <tbody>\n",
       "    <tr>\n",
       "      <th>381</th>\n",
       "      <td>384</td>\n",
       "      <td>mean</td>\n",
       "      <td>0.004478</td>\n",
       "      <td>0.079214</td>\n",
       "      <td>0.180139</td>\n",
       "      <td>0.000048</td>\n",
       "      <td>0.019494</td>\n",
       "      <td>0.000014</td>\n",
       "      <td>0.000417</td>\n",
       "      <td>0.025454</td>\n",
       "      <td>...</td>\n",
       "      <td>0.001961</td>\n",
       "      <td>0.004533</td>\n",
       "      <td>0.196332</td>\n",
       "      <td>0.000000</td>\n",
       "      <td>0.081275</td>\n",
       "      <td>116.850000</td>\n",
       "      <td>Sanuli_12_female</td>\n",
       "      <td>1.0</td>\n",
       "      <td>M</td>\n",
       "      <td>0</td>\n",
       "    </tr>\n",
       "    <tr>\n",
       "      <th>382</th>\n",
       "      <td>386</td>\n",
       "      <td>mean</td>\n",
       "      <td>13.734286</td>\n",
       "      <td>0.415568</td>\n",
       "      <td>17.645684</td>\n",
       "      <td>0.000025</td>\n",
       "      <td>0.004537</td>\n",
       "      <td>0.004453</td>\n",
       "      <td>0.007019</td>\n",
       "      <td>13.826852</td>\n",
       "      <td>...</td>\n",
       "      <td>0.016012</td>\n",
       "      <td>13.042611</td>\n",
       "      <td>8.926007</td>\n",
       "      <td>7.985348</td>\n",
       "      <td>22.887005</td>\n",
       "      <td>23.976889</td>\n",
       "      <td>Sanuli_12_female</td>\n",
       "      <td>2.0</td>\n",
       "      <td>M</td>\n",
       "      <td>0</td>\n",
       "    </tr>\n",
       "    <tr>\n",
       "      <th>383</th>\n",
       "      <td>387</td>\n",
       "      <td>mean</td>\n",
       "      <td>8.241858</td>\n",
       "      <td>0.823882</td>\n",
       "      <td>12.009674</td>\n",
       "      <td>0.000128</td>\n",
       "      <td>0.152310</td>\n",
       "      <td>0.020304</td>\n",
       "      <td>0.004561</td>\n",
       "      <td>8.315151</td>\n",
       "      <td>...</td>\n",
       "      <td>0.020905</td>\n",
       "      <td>17.406558</td>\n",
       "      <td>5.593456</td>\n",
       "      <td>6.987423</td>\n",
       "      <td>13.964845</td>\n",
       "      <td>95.617533</td>\n",
       "      <td>Sanuli_12_female</td>\n",
       "      <td>2.0</td>\n",
       "      <td>A</td>\n",
       "      <td>0</td>\n",
       "    </tr>\n",
       "    <tr>\n",
       "      <th>384</th>\n",
       "      <td>388</td>\n",
       "      <td>mean</td>\n",
       "      <td>13.850502</td>\n",
       "      <td>0.635482</td>\n",
       "      <td>8.981869</td>\n",
       "      <td>0.000129</td>\n",
       "      <td>0.209174</td>\n",
       "      <td>0.013873</td>\n",
       "      <td>0.003249</td>\n",
       "      <td>6.430514</td>\n",
       "      <td>...</td>\n",
       "      <td>0.017806</td>\n",
       "      <td>14.194206</td>\n",
       "      <td>3.959048</td>\n",
       "      <td>12.832455</td>\n",
       "      <td>19.135790</td>\n",
       "      <td>160.695545</td>\n",
       "      <td>Sanuli_12_female</td>\n",
       "      <td>3.0</td>\n",
       "      <td>M</td>\n",
       "      <td>0</td>\n",
       "    </tr>\n",
       "    <tr>\n",
       "      <th>385</th>\n",
       "      <td>389</td>\n",
       "      <td>mean</td>\n",
       "      <td>13.516180</td>\n",
       "      <td>0.862464</td>\n",
       "      <td>11.728724</td>\n",
       "      <td>0.000136</td>\n",
       "      <td>0.177068</td>\n",
       "      <td>7.918318</td>\n",
       "      <td>0.030543</td>\n",
       "      <td>5.536649</td>\n",
       "      <td>...</td>\n",
       "      <td>0.019624</td>\n",
       "      <td>11.725825</td>\n",
       "      <td>5.803370</td>\n",
       "      <td>8.919461</td>\n",
       "      <td>24.969143</td>\n",
       "      <td>229.309125</td>\n",
       "      <td>Sanuli_12_female</td>\n",
       "      <td>3.0</td>\n",
       "      <td>A</td>\n",
       "      <td>0</td>\n",
       "    </tr>\n",
       "    <tr>\n",
       "      <th>386</th>\n",
       "      <td>390</td>\n",
       "      <td>mean</td>\n",
       "      <td>13.946766</td>\n",
       "      <td>0.815472</td>\n",
       "      <td>11.343597</td>\n",
       "      <td>0.000145</td>\n",
       "      <td>0.166685</td>\n",
       "      <td>7.494038</td>\n",
       "      <td>0.029669</td>\n",
       "      <td>6.155555</td>\n",
       "      <td>...</td>\n",
       "      <td>0.018719</td>\n",
       "      <td>11.160208</td>\n",
       "      <td>5.493380</td>\n",
       "      <td>9.203861</td>\n",
       "      <td>24.156518</td>\n",
       "      <td>241.788088</td>\n",
       "      <td>Sanuli_12_female</td>\n",
       "      <td>4.0</td>\n",
       "      <td>M</td>\n",
       "      <td>0</td>\n",
       "    </tr>\n",
       "    <tr>\n",
       "      <th>387</th>\n",
       "      <td>391</td>\n",
       "      <td>mean</td>\n",
       "      <td>19.034046</td>\n",
       "      <td>0.873652</td>\n",
       "      <td>12.015184</td>\n",
       "      <td>0.000148</td>\n",
       "      <td>0.227015</td>\n",
       "      <td>6.036607</td>\n",
       "      <td>0.884949</td>\n",
       "      <td>10.122209</td>\n",
       "      <td>...</td>\n",
       "      <td>0.016171</td>\n",
       "      <td>9.891993</td>\n",
       "      <td>5.748975</td>\n",
       "      <td>12.669437</td>\n",
       "      <td>29.463930</td>\n",
       "      <td>292.534372</td>\n",
       "      <td>Sanuli_12_female</td>\n",
       "      <td>4.0</td>\n",
       "      <td>A</td>\n",
       "      <td>0</td>\n",
       "    </tr>\n",
       "  </tbody>\n",
       "</table>\n",
       "<p>7 rows × 37 columns</p>\n",
       "</div>"
      ],
      "text/plain": [
       "     Unnamed: 0 Unnamed: 0.1      smile  innerBrowRaise  browRaise  \\\n",
       "381         384         mean   0.004478        0.079214   0.180139   \n",
       "382         386         mean  13.734286        0.415568  17.645684   \n",
       "383         387         mean   8.241858        0.823882  12.009674   \n",
       "384         388         mean  13.850502        0.635482   8.981869   \n",
       "385         389         mean  13.516180        0.862464  11.728724   \n",
       "386         390         mean  13.946766        0.815472  11.343597   \n",
       "387         391         mean  19.034046        0.873652  12.015184   \n",
       "\n",
       "     browFurrow  noseWrinkle  upperLipRaise  lipCornerDepressor  chinRaise  \\\n",
       "381    0.000048     0.019494       0.000014            0.000417   0.025454   \n",
       "382    0.000025     0.004537       0.004453            0.007019  13.826852   \n",
       "383    0.000128     0.152310       0.020304            0.004561   8.315151   \n",
       "384    0.000129     0.209174       0.013873            0.003249   6.430514   \n",
       "385    0.000136     0.177068       7.918318            0.030543   5.536649   \n",
       "386    0.000145     0.166685       7.494038            0.029669   6.155555   \n",
       "387    0.000148     0.227015       6.036607            0.884949  10.122209   \n",
       "\n",
       "     ...     anger       fear  surprise    valence  engagement   timestamp  \\\n",
       "381  ...  0.001961   0.004533  0.196332   0.000000    0.081275  116.850000   \n",
       "382  ...  0.016012  13.042611  8.926007   7.985348   22.887005   23.976889   \n",
       "383  ...  0.020905  17.406558  5.593456   6.987423   13.964845   95.617533   \n",
       "384  ...  0.017806  14.194206  3.959048  12.832455   19.135790  160.695545   \n",
       "385  ...  0.019624  11.725825  5.803370   8.919461   24.969143  229.309125   \n",
       "386  ...  0.018719  11.160208  5.493380   9.203861   24.156518  241.788088   \n",
       "387  ...  0.016171   9.891993  5.748975  12.669437   29.463930  292.534372   \n",
       "\n",
       "               userId  num  part  age  \n",
       "381  Sanuli_12_female  1.0     M    0  \n",
       "382  Sanuli_12_female  2.0     M    0  \n",
       "383  Sanuli_12_female  2.0     A    0  \n",
       "384  Sanuli_12_female  3.0     M    0  \n",
       "385  Sanuli_12_female  3.0     A    0  \n",
       "386  Sanuli_12_female  4.0     M    0  \n",
       "387  Sanuli_12_female  4.0     A    0  \n",
       "\n",
       "[7 rows x 37 columns]"
      ]
     },
     "execution_count": 110,
     "metadata": {},
     "output_type": "execute_result"
    }
   ],
   "source": [
    "moviePartsWithAge.loc[moviePartsWithAge['userId'] == 'Sanuli_12_female']"
   ]
  },
  {
   "cell_type": "code",
   "execution_count": 111,
   "metadata": {},
   "outputs": [],
   "source": [
    "from sklearn.preprocessing import LabelEncoder \n",
    "labelencoder= LabelEncoder() #initializing an object of class LabelEncoder\n",
    "parallel['color'] = labelencoder.fit_transform(parallel['userId'])"
   ]
  },
  {
   "cell_type": "code",
   "execution_count": 156,
   "metadata": {},
   "outputs": [
    {
     "name": "stdout",
     "output_type": "stream",
     "text": [
      "Collecting plotly\n",
      "  Downloading plotly-5.1.0-py2.py3-none-any.whl (20.6 MB)\n",
      "\u001b[K     |████████████████████████████████| 20.6 MB 10.9 MB/s eta 0:00:01   |█████▍                          | 3.5 MB 4.6 MB/s eta 0:00:04     |████████████████▌               | 10.6 MB 4.6 MB/s eta 0:00:03\n",
      "\u001b[?25hCollecting tenacity>=6.2.0\n",
      "  Downloading tenacity-8.0.1-py3-none-any.whl (24 kB)\n",
      "Requirement already satisfied: six in /home/hicup/anaconda3/lib/python3.8/site-packages (from plotly) (1.15.0)\n",
      "Installing collected packages: tenacity, plotly\n",
      "Successfully installed plotly-5.1.0 tenacity-8.0.1\n"
     ]
    }
   ],
   "source": [
    "!pip install plotly"
   ]
  },
  {
   "cell_type": "code",
   "execution_count": null,
   "metadata": {},
   "outputs": [],
   "source": [
    "# what are the emotions that contributes a lot for recommending ads\n",
    "above question is incorrect because we cannot argue that the likability of the ad depends on the emotions triggered while watching the movie part\n",
    "\n",
    "# find the most suitable ad for each user, gender wise, age wise\n",
    "# find the most suitable ad for each user based on the previous emotions\n",
    "# find the most suitable ad for each user based on the previous facial features\n",
    "\n",
    "# the most dominant emotions for particular age groups while watching ads\n",
    "# the most dominant facial features for particular age groups while watching ads\n",
    "# the most dominant emotions for particular gender while watching ads\n",
    "# the most dominant facial features for particular gender while watching ads\n",
    "\n",
    "# emotions that contribues a lot for recommending ads gender wise\n",
    "# facial features contributes a lot for recommending ads gender wise\n",
    "\n",
    "# tags\n",
    "# 1st ad = tikiri mari, => children, busicuts, eating, age 5-18, message deliver\n",
    "# 2nd ad = boc => elders, investment, boc, tutorial\n",
    "# 3rd ad = cream cracker => young adults, adults, busicuts, family, love \n",
    "# 4th ad = maggi => young adults, music, fun, colorful, food, eating\n",
    "\n",
    "# find the most likable and hated ad for each user\n",
    "\n"
   ]
  },
  {
   "cell_type": "code",
   "execution_count": 173,
   "metadata": {},
   "outputs": [],
   "source": [
    "# moviePartsWithAge.to_csv('meanOfMovieWithAge.csv')"
   ]
  },
  {
   "cell_type": "code",
   "execution_count": 39,
   "metadata": {},
   "outputs": [],
   "source": [
    "# finding the most liked and hated ad\n",
    "moviePartsWithAge = pd.read_csv('meanOfMovieWithAge.csv')"
   ]
  },
  {
   "cell_type": "code",
   "execution_count": 40,
   "metadata": {},
   "outputs": [
    {
     "data": {
      "text/html": [
       "<div>\n",
       "<style scoped>\n",
       "    .dataframe tbody tr th:only-of-type {\n",
       "        vertical-align: middle;\n",
       "    }\n",
       "\n",
       "    .dataframe tbody tr th {\n",
       "        vertical-align: top;\n",
       "    }\n",
       "\n",
       "    .dataframe thead th {\n",
       "        text-align: right;\n",
       "    }\n",
       "</style>\n",
       "<table border=\"1\" class=\"dataframe\">\n",
       "  <thead>\n",
       "    <tr style=\"text-align: right;\">\n",
       "      <th></th>\n",
       "      <th>Unnamed: 0</th>\n",
       "      <th>Unnamed: 0.1</th>\n",
       "      <th>smile</th>\n",
       "      <th>innerBrowRaise</th>\n",
       "      <th>browRaise</th>\n",
       "      <th>browFurrow</th>\n",
       "      <th>noseWrinkle</th>\n",
       "      <th>upperLipRaise</th>\n",
       "      <th>lipCornerDepressor</th>\n",
       "      <th>chinRaise</th>\n",
       "      <th>...</th>\n",
       "      <th>anger</th>\n",
       "      <th>fear</th>\n",
       "      <th>surprise</th>\n",
       "      <th>valence</th>\n",
       "      <th>engagement</th>\n",
       "      <th>timestamp</th>\n",
       "      <th>userId</th>\n",
       "      <th>num</th>\n",
       "      <th>part</th>\n",
       "      <th>age</th>\n",
       "    </tr>\n",
       "  </thead>\n",
       "  <tbody>\n",
       "    <tr>\n",
       "      <th>0</th>\n",
       "      <td>0</td>\n",
       "      <td>mean</td>\n",
       "      <td>0.944980</td>\n",
       "      <td>0.007321</td>\n",
       "      <td>12.931460</td>\n",
       "      <td>0.000247</td>\n",
       "      <td>0.001265</td>\n",
       "      <td>6.469341</td>\n",
       "      <td>2.508669</td>\n",
       "      <td>3.186199</td>\n",
       "      <td>...</td>\n",
       "      <td>0.037459</td>\n",
       "      <td>0.076230</td>\n",
       "      <td>4.207244</td>\n",
       "      <td>-5.051303</td>\n",
       "      <td>15.784402</td>\n",
       "      <td>36.196418</td>\n",
       "      <td>Lahiru_23_male</td>\n",
       "      <td>1.0</td>\n",
       "      <td>M</td>\n",
       "      <td>1</td>\n",
       "    </tr>\n",
       "    <tr>\n",
       "      <th>1</th>\n",
       "      <td>1</td>\n",
       "      <td>mean</td>\n",
       "      <td>0.000223</td>\n",
       "      <td>0.001590</td>\n",
       "      <td>12.212350</td>\n",
       "      <td>0.000247</td>\n",
       "      <td>0.003044</td>\n",
       "      <td>0.917955</td>\n",
       "      <td>4.922062</td>\n",
       "      <td>6.981729</td>\n",
       "      <td>...</td>\n",
       "      <td>0.390009</td>\n",
       "      <td>0.003132</td>\n",
       "      <td>4.062983</td>\n",
       "      <td>-7.817432</td>\n",
       "      <td>14.007696</td>\n",
       "      <td>82.014279</td>\n",
       "      <td>Lahiru_23_male</td>\n",
       "      <td>1.0</td>\n",
       "      <td>A</td>\n",
       "      <td>1</td>\n",
       "    </tr>\n",
       "    <tr>\n",
       "      <th>2</th>\n",
       "      <td>2</td>\n",
       "      <td>mean</td>\n",
       "      <td>0.585185</td>\n",
       "      <td>0.005256</td>\n",
       "      <td>12.794181</td>\n",
       "      <td>0.000236</td>\n",
       "      <td>0.001991</td>\n",
       "      <td>4.346483</td>\n",
       "      <td>3.189683</td>\n",
       "      <td>4.299268</td>\n",
       "      <td>...</td>\n",
       "      <td>0.152735</td>\n",
       "      <td>0.048412</td>\n",
       "      <td>4.056534</td>\n",
       "      <td>-5.722758</td>\n",
       "      <td>14.642886</td>\n",
       "      <td>49.798928</td>\n",
       "      <td>Lahiru_23_male</td>\n",
       "      <td>2.0</td>\n",
       "      <td>M</td>\n",
       "      <td>1</td>\n",
       "    </tr>\n",
       "    <tr>\n",
       "      <th>3</th>\n",
       "      <td>3</td>\n",
       "      <td>mean</td>\n",
       "      <td>0.250589</td>\n",
       "      <td>0.252834</td>\n",
       "      <td>10.394885</td>\n",
       "      <td>0.007487</td>\n",
       "      <td>0.077309</td>\n",
       "      <td>2.349885</td>\n",
       "      <td>9.574063</td>\n",
       "      <td>3.080715</td>\n",
       "      <td>...</td>\n",
       "      <td>0.088650</td>\n",
       "      <td>0.226062</td>\n",
       "      <td>3.796687</td>\n",
       "      <td>-7.349686</td>\n",
       "      <td>13.669061</td>\n",
       "      <td>115.964499</td>\n",
       "      <td>Lahiru_23_male</td>\n",
       "      <td>2.0</td>\n",
       "      <td>A</td>\n",
       "      <td>1</td>\n",
       "    </tr>\n",
       "    <tr>\n",
       "      <th>4</th>\n",
       "      <td>4</td>\n",
       "      <td>mean</td>\n",
       "      <td>0.224445</td>\n",
       "      <td>0.237248</td>\n",
       "      <td>11.080581</td>\n",
       "      <td>0.117665</td>\n",
       "      <td>0.073010</td>\n",
       "      <td>2.119239</td>\n",
       "      <td>12.559441</td>\n",
       "      <td>2.798391</td>\n",
       "      <td>...</td>\n",
       "      <td>0.094116</td>\n",
       "      <td>0.202612</td>\n",
       "      <td>4.322070</td>\n",
       "      <td>-9.253248</td>\n",
       "      <td>15.385725</td>\n",
       "      <td>129.701614</td>\n",
       "      <td>Lahiru_23_male</td>\n",
       "      <td>3.0</td>\n",
       "      <td>M</td>\n",
       "      <td>1</td>\n",
       "    </tr>\n",
       "    <tr>\n",
       "      <th>5</th>\n",
       "      <td>5</td>\n",
       "      <td>mean</td>\n",
       "      <td>2.009563</td>\n",
       "      <td>0.185200</td>\n",
       "      <td>11.330839</td>\n",
       "      <td>0.084009</td>\n",
       "      <td>0.055128</td>\n",
       "      <td>2.136273</td>\n",
       "      <td>14.387203</td>\n",
       "      <td>2.673038</td>\n",
       "      <td>...</td>\n",
       "      <td>0.076611</td>\n",
       "      <td>0.144169</td>\n",
       "      <td>3.665013</td>\n",
       "      <td>-8.220958</td>\n",
       "      <td>17.396636</td>\n",
       "      <td>184.123915</td>\n",
       "      <td>Lahiru_23_male</td>\n",
       "      <td>3.0</td>\n",
       "      <td>A</td>\n",
       "      <td>1</td>\n",
       "    </tr>\n",
       "    <tr>\n",
       "      <th>6</th>\n",
       "      <td>6</td>\n",
       "      <td>mean</td>\n",
       "      <td>6.595376</td>\n",
       "      <td>0.170446</td>\n",
       "      <td>10.475908</td>\n",
       "      <td>0.077316</td>\n",
       "      <td>0.051068</td>\n",
       "      <td>2.951739</td>\n",
       "      <td>13.332749</td>\n",
       "      <td>2.535868</td>\n",
       "      <td>...</td>\n",
       "      <td>0.071339</td>\n",
       "      <td>0.132743</td>\n",
       "      <td>3.669115</td>\n",
       "      <td>-2.989107</td>\n",
       "      <td>22.005073</td>\n",
       "      <td>200.334350</td>\n",
       "      <td>Lahiru_23_male</td>\n",
       "      <td>4.0</td>\n",
       "      <td>M</td>\n",
       "      <td>1</td>\n",
       "    </tr>\n",
       "    <tr>\n",
       "      <th>7</th>\n",
       "      <td>7</td>\n",
       "      <td>mean</td>\n",
       "      <td>5.527062</td>\n",
       "      <td>0.170824</td>\n",
       "      <td>9.908801</td>\n",
       "      <td>0.064805</td>\n",
       "      <td>0.043436</td>\n",
       "      <td>2.566737</td>\n",
       "      <td>16.759428</td>\n",
       "      <td>2.217050</td>\n",
       "      <td>...</td>\n",
       "      <td>0.062985</td>\n",
       "      <td>0.111668</td>\n",
       "      <td>3.218508</td>\n",
       "      <td>-5.853229</td>\n",
       "      <td>21.800915</td>\n",
       "      <td>240.565510</td>\n",
       "      <td>Lahiru_23_male</td>\n",
       "      <td>4.0</td>\n",
       "      <td>A</td>\n",
       "      <td>1</td>\n",
       "    </tr>\n",
       "  </tbody>\n",
       "</table>\n",
       "<p>8 rows × 37 columns</p>\n",
       "</div>"
      ],
      "text/plain": [
       "   Unnamed: 0 Unnamed: 0.1     smile  innerBrowRaise  browRaise  browFurrow  \\\n",
       "0           0         mean  0.944980        0.007321  12.931460    0.000247   \n",
       "1           1         mean  0.000223        0.001590  12.212350    0.000247   \n",
       "2           2         mean  0.585185        0.005256  12.794181    0.000236   \n",
       "3           3         mean  0.250589        0.252834  10.394885    0.007487   \n",
       "4           4         mean  0.224445        0.237248  11.080581    0.117665   \n",
       "5           5         mean  2.009563        0.185200  11.330839    0.084009   \n",
       "6           6         mean  6.595376        0.170446  10.475908    0.077316   \n",
       "7           7         mean  5.527062        0.170824   9.908801    0.064805   \n",
       "\n",
       "   noseWrinkle  upperLipRaise  lipCornerDepressor  chinRaise  ...     anger  \\\n",
       "0     0.001265       6.469341            2.508669   3.186199  ...  0.037459   \n",
       "1     0.003044       0.917955            4.922062   6.981729  ...  0.390009   \n",
       "2     0.001991       4.346483            3.189683   4.299268  ...  0.152735   \n",
       "3     0.077309       2.349885            9.574063   3.080715  ...  0.088650   \n",
       "4     0.073010       2.119239           12.559441   2.798391  ...  0.094116   \n",
       "5     0.055128       2.136273           14.387203   2.673038  ...  0.076611   \n",
       "6     0.051068       2.951739           13.332749   2.535868  ...  0.071339   \n",
       "7     0.043436       2.566737           16.759428   2.217050  ...  0.062985   \n",
       "\n",
       "       fear  surprise   valence  engagement   timestamp          userId  num  \\\n",
       "0  0.076230  4.207244 -5.051303   15.784402   36.196418  Lahiru_23_male  1.0   \n",
       "1  0.003132  4.062983 -7.817432   14.007696   82.014279  Lahiru_23_male  1.0   \n",
       "2  0.048412  4.056534 -5.722758   14.642886   49.798928  Lahiru_23_male  2.0   \n",
       "3  0.226062  3.796687 -7.349686   13.669061  115.964499  Lahiru_23_male  2.0   \n",
       "4  0.202612  4.322070 -9.253248   15.385725  129.701614  Lahiru_23_male  3.0   \n",
       "5  0.144169  3.665013 -8.220958   17.396636  184.123915  Lahiru_23_male  3.0   \n",
       "6  0.132743  3.669115 -2.989107   22.005073  200.334350  Lahiru_23_male  4.0   \n",
       "7  0.111668  3.218508 -5.853229   21.800915  240.565510  Lahiru_23_male  4.0   \n",
       "\n",
       "   part  age  \n",
       "0     M    1  \n",
       "1     A    1  \n",
       "2     M    1  \n",
       "3     A    1  \n",
       "4     M    1  \n",
       "5     A    1  \n",
       "6     M    1  \n",
       "7     A    1  \n",
       "\n",
       "[8 rows x 37 columns]"
      ]
     },
     "execution_count": 40,
     "metadata": {},
     "output_type": "execute_result"
    }
   ],
   "source": [
    "moviePartsWithAge.loc[moviePartsWithAge['userId'] == 'Lahiru_23_male']"
   ]
  },
  {
   "cell_type": "code",
   "execution_count": 41,
   "metadata": {},
   "outputs": [
    {
     "data": {
      "text/plain": [
       "Index(['Unnamed: 0', 'Unnamed: 0.1', 'smile', 'innerBrowRaise', 'browRaise',\n",
       "       'browFurrow', 'noseWrinkle', 'upperLipRaise', 'lipCornerDepressor',\n",
       "       'chinRaise', 'lipPucker', 'lipPress', 'lipSuck', 'mouthOpen', 'smirk',\n",
       "       'eyeClosure', 'attention', 'lidTighten', 'jawDrop', 'dimpler',\n",
       "       'eyeWiden', 'cheekRaise', 'lipStretch', 'joy', 'sadness', 'disgust',\n",
       "       'contempt', 'anger', 'fear', 'surprise', 'valence', 'engagement',\n",
       "       'timestamp', 'userId', 'num', 'part', 'age'],\n",
       "      dtype='object')"
      ]
     },
     "execution_count": 41,
     "metadata": {},
     "output_type": "execute_result"
    }
   ],
   "source": [
    "# creating favAd dataframe\n",
    "moviePartsWithAge.columns"
   ]
  },
  {
   "cell_type": "code",
   "execution_count": 42,
   "metadata": {},
   "outputs": [],
   "source": [
    "negative = ['sadness', 'disgust', 'contempt', 'anger', 'fear']\n",
    "positive = ['joy', 'surprise', 'valence', 'engagement', 'attention']"
   ]
  },
  {
   "cell_type": "code",
   "execution_count": 43,
   "metadata": {},
   "outputs": [
    {
     "data": {
      "text/plain": [
       "619"
      ]
     },
     "execution_count": 43,
     "metadata": {},
     "output_type": "execute_result"
    }
   ],
   "source": [
    "# moviePartsWithAge[['joy', 'surprise', 'engagement', 'attention']]\n",
    "len(moviePartsWithAge)"
   ]
  },
  {
   "cell_type": "code",
   "execution_count": 44,
   "metadata": {},
   "outputs": [],
   "source": [
    "# moviePartsWithAge.drop('_id', axis=1, inplace=True)\n",
    "# df.drop('column_name', axis=1, inplace=True) "
   ]
  },
  {
   "cell_type": "code",
   "execution_count": 45,
   "metadata": {},
   "outputs": [
    {
     "data": {
      "text/plain": [
       "619"
      ]
     },
     "execution_count": 45,
     "metadata": {},
     "output_type": "execute_result"
    }
   ],
   "source": [
    "moviePartsWithAge = moviePartsWithAge.dropna()\n",
    "len(moviePartsWithAge)"
   ]
  },
  {
   "cell_type": "code",
   "execution_count": 27,
   "metadata": {},
   "outputs": [],
   "source": [
    "usernames = set(list(movieParts['userId']))"
   ]
  },
  {
   "cell_type": "code",
   "execution_count": 46,
   "metadata": {},
   "outputs": [],
   "source": [
    "favAd = pd.DataFrame(list(usernames), columns=['userId'])\n",
    "favAd['ad'] = 0"
   ]
  },
  {
   "cell_type": "code",
   "execution_count": 41,
   "metadata": {},
   "outputs": [],
   "source": [
    "# favAd.to_csv('favAd_with_all_emotions.csv', index=False)\n",
    "# moviePartsWithAge.to_csv('moviePartsWithAgeAd.csv', index=False)"
   ]
  },
  {
   "cell_type": "code",
   "execution_count": 42,
   "metadata": {},
   "outputs": [],
   "source": [
    "# favAd = pd.read_csv('favAd.csv')\n",
    "favAd = pd.read_csv('favAd_with_all_emotions.csv')"
   ]
  },
  {
   "cell_type": "code",
   "execution_count": 43,
   "metadata": {
    "scrolled": true
   },
   "outputs": [
    {
     "data": {
      "text/html": [
       "<div>\n",
       "<style scoped>\n",
       "    .dataframe tbody tr th:only-of-type {\n",
       "        vertical-align: middle;\n",
       "    }\n",
       "\n",
       "    .dataframe tbody tr th {\n",
       "        vertical-align: top;\n",
       "    }\n",
       "\n",
       "    .dataframe thead th {\n",
       "        text-align: right;\n",
       "    }\n",
       "</style>\n",
       "<table border=\"1\" class=\"dataframe\">\n",
       "  <thead>\n",
       "    <tr style=\"text-align: right;\">\n",
       "      <th></th>\n",
       "      <th>userId</th>\n",
       "      <th>ad</th>\n",
       "      <th>age</th>\n",
       "      <th>gender</th>\n",
       "      <th>ad_with_joy</th>\n",
       "      <th>ad_with_sadness</th>\n",
       "      <th>ad_with_disgust</th>\n",
       "      <th>ad_with_contempt</th>\n",
       "      <th>ad_with_anger</th>\n",
       "      <th>ad_with_fear</th>\n",
       "      <th>ad_with_surprice</th>\n",
       "      <th>ad_with_engagement</th>\n",
       "      <th>ad_with_surprise</th>\n",
       "    </tr>\n",
       "  </thead>\n",
       "  <tbody>\n",
       "    <tr>\n",
       "      <th>0</th>\n",
       "      <td>vihan_22_male</td>\n",
       "      <td>0.0</td>\n",
       "      <td>1</td>\n",
       "      <td>1</td>\n",
       "      <td>1.0</td>\n",
       "      <td>1.0</td>\n",
       "      <td>4.0</td>\n",
       "      <td>3.0</td>\n",
       "      <td>3.0</td>\n",
       "      <td>2.0</td>\n",
       "      <td>0</td>\n",
       "      <td>1.0</td>\n",
       "      <td>2.0</td>\n",
       "    </tr>\n",
       "    <tr>\n",
       "      <th>1</th>\n",
       "      <td>Rashmika_23_male</td>\n",
       "      <td>0.0</td>\n",
       "      <td>1</td>\n",
       "      <td>1</td>\n",
       "      <td>3.0</td>\n",
       "      <td>3.0</td>\n",
       "      <td>3.0</td>\n",
       "      <td>4.0</td>\n",
       "      <td>3.0</td>\n",
       "      <td>1.0</td>\n",
       "      <td>0</td>\n",
       "      <td>1.0</td>\n",
       "      <td>1.0</td>\n",
       "    </tr>\n",
       "    <tr>\n",
       "      <th>2</th>\n",
       "      <td>dylon_20_male</td>\n",
       "      <td>0.0</td>\n",
       "      <td>1</td>\n",
       "      <td>1</td>\n",
       "      <td>2.0</td>\n",
       "      <td>1.0</td>\n",
       "      <td>2.0</td>\n",
       "      <td>4.0</td>\n",
       "      <td>3.0</td>\n",
       "      <td>2.0</td>\n",
       "      <td>0</td>\n",
       "      <td>1.0</td>\n",
       "      <td>2.0</td>\n",
       "    </tr>\n",
       "    <tr>\n",
       "      <th>3</th>\n",
       "      <td>geethanjali_41_female</td>\n",
       "      <td>1.0</td>\n",
       "      <td>2</td>\n",
       "      <td>0</td>\n",
       "      <td>2.0</td>\n",
       "      <td>1.0</td>\n",
       "      <td>2.0</td>\n",
       "      <td>1.0</td>\n",
       "      <td>2.0</td>\n",
       "      <td>1.0</td>\n",
       "      <td>0</td>\n",
       "      <td>2.0</td>\n",
       "      <td>2.0</td>\n",
       "    </tr>\n",
       "    <tr>\n",
       "      <th>4</th>\n",
       "      <td>Sajith_28_male</td>\n",
       "      <td>0.0</td>\n",
       "      <td>1</td>\n",
       "      <td>1</td>\n",
       "      <td>3.0</td>\n",
       "      <td>2.0</td>\n",
       "      <td>4.0</td>\n",
       "      <td>3.0</td>\n",
       "      <td>2.0</td>\n",
       "      <td>3.0</td>\n",
       "      <td>0</td>\n",
       "      <td>3.0</td>\n",
       "      <td>3.0</td>\n",
       "    </tr>\n",
       "  </tbody>\n",
       "</table>\n",
       "</div>"
      ],
      "text/plain": [
       "                  userId   ad  age  gender  ad_with_joy  ad_with_sadness  \\\n",
       "0          vihan_22_male  0.0    1       1          1.0              1.0   \n",
       "1       Rashmika_23_male  0.0    1       1          3.0              3.0   \n",
       "2          dylon_20_male  0.0    1       1          2.0              1.0   \n",
       "3  geethanjali_41_female  1.0    2       0          2.0              1.0   \n",
       "4         Sajith_28_male  0.0    1       1          3.0              2.0   \n",
       "\n",
       "   ad_with_disgust  ad_with_contempt  ad_with_anger  ad_with_fear  \\\n",
       "0              4.0               3.0            3.0           2.0   \n",
       "1              3.0               4.0            3.0           1.0   \n",
       "2              2.0               4.0            3.0           2.0   \n",
       "3              2.0               1.0            2.0           1.0   \n",
       "4              4.0               3.0            2.0           3.0   \n",
       "\n",
       "   ad_with_surprice  ad_with_engagement  ad_with_surprise  \n",
       "0                 0                 1.0               2.0  \n",
       "1                 0                 1.0               1.0  \n",
       "2                 0                 1.0               2.0  \n",
       "3                 0                 2.0               2.0  \n",
       "4                 0                 3.0               3.0  "
      ]
     },
     "execution_count": 43,
     "metadata": {},
     "output_type": "execute_result"
    }
   ],
   "source": [
    "# favAd = favAd.drop(['Unnamed: 0'], axis=1)\n",
    "favAd.head()"
   ]
  },
  {
   "cell_type": "code",
   "execution_count": null,
   "metadata": {},
   "outputs": [],
   "source": [
    "favAd = pd.read_csv('favAd.csv')"
   ]
  },
  {
   "cell_type": "code",
   "execution_count": 50,
   "metadata": {},
   "outputs": [
    {
     "data": {
      "text/plain": [
       "{0.0, 1.0, 2.0, 3.0}"
      ]
     },
     "execution_count": 50,
     "metadata": {},
     "output_type": "execute_result"
    }
   ],
   "source": [
    "set(favAd['ad'].values)"
   ]
  },
  {
   "cell_type": "code",
   "execution_count": 51,
   "metadata": {},
   "outputs": [],
   "source": [
    "# for i in range(0,5):\n",
    "# #     if i == 1:\n",
    "# #     favAd.loc[favAd['ad'] == i, 'ad'] = i-1\n",
    "#     print(len(favAd.loc[favAd['ad'] == i]))"
   ]
  },
  {
   "cell_type": "code",
   "execution_count": 52,
   "metadata": {},
   "outputs": [],
   "source": [
    "favUsers = list(favAd['userId'].values)"
   ]
  },
  {
   "cell_type": "code",
   "execution_count": 53,
   "metadata": {},
   "outputs": [],
   "source": [
    "favAd['age'] = -1\n",
    "favAd['gender'] = -1"
   ]
  },
  {
   "cell_type": "code",
   "execution_count": 44,
   "metadata": {
    "scrolled": true
   },
   "outputs": [],
   "source": [
    "for i, row in favAd.iterrows():\n",
    "#     print(row['userId'])\n",
    "#     print(row['userId'])\n",
    "    age = moviePartsWithAge.loc[moviePartsWithAge['userId'] == row['userId']]['age'].values[0]\n",
    "    favAd.loc[favAd['userId'] == row['userId'], 'age'] = age\n",
    "    gender = timelines.loc[timelines['UserId'] == row['userId']]['Gender'].values[0].lower()\n",
    "    if 'female' == gender:\n",
    "        favAd.loc[favAd['userId'] == row['userId'], 'gender'] = 0\n",
    "    else:\n",
    "        favAd.loc[favAd['userId'] == row['userId'], 'gender'] = 1\n",
    "#     print(favAd.loc[moviePartsWithAge.loc[moviePartsWithAge['userId'] == row['userId']]['age'].values[0]])\n",
    "#     favAd.loc[favAd['userId'] == row['userId'], 'age'] = \n",
    "#     break"
   ]
  },
  {
   "cell_type": "code",
   "execution_count": 52,
   "metadata": {},
   "outputs": [
    {
     "data": {
      "text/plain": [
       "{0, 1, 2, 3}"
      ]
     },
     "execution_count": 52,
     "metadata": {},
     "output_type": "execute_result"
    }
   ],
   "source": [
    "set(moviePartsWithAge['age'].values)"
   ]
  },
  {
   "cell_type": "code",
   "execution_count": 48,
   "metadata": {},
   "outputs": [],
   "source": [
    "# building classifiers and ml dl models\n",
    "from sklearn.ensemble import RandomForestClassifier\n",
    "from keras.wrappers.scikit_learn import KerasClassifier\n",
    "from sklearn.model_selection import train_test_split\n",
    "from sklearn.metrics import confusion_matrix\n",
    "from sklearn.metrics import accuracy_score\n",
    "import numpy as np\n",
    "\n",
    "from pandas import read_csv\n",
    "from tensorflow.keras.models import Sequential\n",
    "from tensorflow.keras.layers import Dense, Flatten, Conv3D, MaxPooling3D, Dropout, SpatialDropout3D,LeakyReLU\n",
    "from keras.wrappers.scikit_learn import KerasClassifier\n",
    "from sklearn.model_selection import cross_val_score\n",
    "from sklearn.preprocessing import LabelEncoder\n",
    "from sklearn.model_selection import StratifiedKFold\n",
    "from sklearn.preprocessing import StandardScaler\n",
    "from sklearn.pipeline import Pipeline\n",
    "\n",
    "from tensorflow.keras.utils import to_categorical\n",
    "from sklearn.metrics import accuracy_score, precision_recall_fscore_support, roc_auc_score\n",
    "\n",
    "import tensorflow as tf\n",
    "from sklearn.metrics import classification_report, confusion_matrix, plot_confusion_matrix, ConfusionMatrixDisplay\n",
    "# from sklearn.metrics import \n",
    "import plotly.express as px"
   ]
  },
  {
   "cell_type": "code",
   "execution_count": 54,
   "metadata": {},
   "outputs": [
    {
     "name": "stdout",
     "output_type": "stream",
     "text": [
      "The tensorboard extension is already loaded. To reload it, use:\n",
      "  %reload_ext tensorboard\n"
     ]
    }
   ],
   "source": [
    "%load_ext tensorboard"
   ]
  },
  {
   "cell_type": "code",
   "execution_count": 91,
   "metadata": {},
   "outputs": [],
   "source": [
    "favAd = pd.read_csv('favAd.csv')"
   ]
  },
  {
   "cell_type": "code",
   "execution_count": 92,
   "metadata": {},
   "outputs": [],
   "source": [
    "x = favAd.drop(['userId', 'ad'], axis=1)\n",
    "x = np.asarray(x.values, dtype=int)\n",
    "y = np.asarray(favAd['ad'].values, dtype=int)"
   ]
  },
  {
   "cell_type": "code",
   "execution_count": 93,
   "metadata": {},
   "outputs": [
    {
     "data": {
      "text/html": [
       "<div>\n",
       "<style scoped>\n",
       "    .dataframe tbody tr th:only-of-type {\n",
       "        vertical-align: middle;\n",
       "    }\n",
       "\n",
       "    .dataframe tbody tr th {\n",
       "        vertical-align: top;\n",
       "    }\n",
       "\n",
       "    .dataframe thead th {\n",
       "        text-align: right;\n",
       "    }\n",
       "</style>\n",
       "<table border=\"1\" class=\"dataframe\">\n",
       "  <thead>\n",
       "    <tr style=\"text-align: right;\">\n",
       "      <th></th>\n",
       "      <th>userId</th>\n",
       "      <th>ad</th>\n",
       "      <th>age</th>\n",
       "      <th>gender</th>\n",
       "    </tr>\n",
       "  </thead>\n",
       "  <tbody>\n",
       "    <tr>\n",
       "      <th>0</th>\n",
       "      <td>vihan_22_male</td>\n",
       "      <td>0.0</td>\n",
       "      <td>1</td>\n",
       "      <td>1</td>\n",
       "    </tr>\n",
       "    <tr>\n",
       "      <th>1</th>\n",
       "      <td>Rashmika_23_male</td>\n",
       "      <td>0.0</td>\n",
       "      <td>1</td>\n",
       "      <td>1</td>\n",
       "    </tr>\n",
       "    <tr>\n",
       "      <th>2</th>\n",
       "      <td>dylon_20_male</td>\n",
       "      <td>0.0</td>\n",
       "      <td>1</td>\n",
       "      <td>1</td>\n",
       "    </tr>\n",
       "    <tr>\n",
       "      <th>3</th>\n",
       "      <td>geethanjali_41_female</td>\n",
       "      <td>1.0</td>\n",
       "      <td>2</td>\n",
       "      <td>0</td>\n",
       "    </tr>\n",
       "    <tr>\n",
       "      <th>4</th>\n",
       "      <td>Sajith_28_male</td>\n",
       "      <td>0.0</td>\n",
       "      <td>1</td>\n",
       "      <td>1</td>\n",
       "    </tr>\n",
       "  </tbody>\n",
       "</table>\n",
       "</div>"
      ],
      "text/plain": [
       "                  userId   ad  age  gender\n",
       "0          vihan_22_male  0.0    1       1\n",
       "1       Rashmika_23_male  0.0    1       1\n",
       "2          dylon_20_male  0.0    1       1\n",
       "3  geethanjali_41_female  1.0    2       0\n",
       "4         Sajith_28_male  0.0    1       1"
      ]
     },
     "execution_count": 93,
     "metadata": {},
     "output_type": "execute_result"
    }
   ],
   "source": [
    "favAd.head()"
   ]
  },
  {
   "cell_type": "code",
   "execution_count": 32,
   "metadata": {},
   "outputs": [],
   "source": [
    "df = favAd.drop(['userId'], axis=1)"
   ]
  },
  {
   "cell_type": "code",
   "execution_count": 35,
   "metadata": {},
   "outputs": [],
   "source": [
    "df = df.reindex(['gender', 'age', 'ad'], axis=1)"
   ]
  },
  {
   "cell_type": "code",
   "execution_count": 23,
   "metadata": {},
   "outputs": [],
   "source": [
    "x_train, x_test, y_train, y_test = train_test_split(x, y, test_size=0.3, random_state=0)\n",
    "# x_test, x_val, y_test, y_val = train_test_split(x_test, y_test, test_size=0.4, random_state=0)"
   ]
  },
  {
   "cell_type": "code",
   "execution_count": 24,
   "metadata": {},
   "outputs": [
    {
     "name": "stdout",
     "output_type": "stream",
     "text": [
      "(53, 2)\n",
      "(24, 2)\n"
     ]
    }
   ],
   "source": [
    "print(x_train.shape)\n",
    "print(x_test.shape)"
   ]
  },
  {
   "cell_type": "code",
   "execution_count": 81,
   "metadata": {},
   "outputs": [],
   "source": [
    "model = tf.keras.models.load_model('./models/emotions.h5')"
   ]
  },
  {
   "cell_type": "code",
   "execution_count": 101,
   "metadata": {},
   "outputs": [
    {
     "name": "stdout",
     "output_type": "stream",
     "text": [
      "              precision    recall  f1-score   support\n",
      "\n",
      "     class 0       0.69      0.83      0.75        93\n",
      "     class 1       0.58      0.58      0.58        24\n",
      "     class 2       0.89      0.50      0.64        34\n",
      "     class 3       0.41      0.37      0.39        35\n",
      "\n",
      "    accuracy                           0.65       186\n",
      "   macro avg       0.64      0.57      0.59       186\n",
      "weighted avg       0.66      0.65      0.64       186\n",
      "\n"
     ]
    }
   ],
   "source": [
    "predict = model.predict(x_test)\n",
    "y_pred = np.argmax(predict, axis=1)\n",
    "y_test_maxed = np.argmax(y_test, axis=1)\n",
    "print(classification_report(y_test_maxed, y_pred, target_names=['class 0', 'class 1', 'class 2', 'class 3']))"
   ]
  },
  {
   "cell_type": "code",
   "execution_count": 84,
   "metadata": {},
   "outputs": [
    {
     "name": "stdout",
     "output_type": "stream",
     "text": [
      "Test accuracy: 65.05376, AUC 80.15274, Precision 0.66211, Recall 0.65054, F1 0.64301, \n",
      "\n"
     ]
    }
   ],
   "source": [
    "auc = 100*roc_auc_score(y_test, predict, average='weighted')\n",
    "acc = 100*accuracy_score(np.argmax(y_test, axis=1), np.argmax(predict, axis=1))\n",
    "prec, rec, f1, _ = precision_recall_fscore_support(np.argmax(y_test, axis=1), np.argmax(predict, axis=1), average='weighted')\n",
    "print('Test accuracy: {:.5f}, AUC {:.5f}, Precision {:.5f}, Recall {:.5f}, F1 {:.5f}, \\n'.format( acc, auc, prec, rec, f1))\n"
   ]
  },
  {
   "cell_type": "code",
   "execution_count": 128,
   "metadata": {},
   "outputs": [],
   "source": [
    "model = tf.keras.models.load_model('models/facial_features.h5')"
   ]
  },
  {
   "cell_type": "code",
   "execution_count": 141,
   "metadata": {},
   "outputs": [
    {
     "name": "stdout",
     "output_type": "stream",
     "text": [
      "Test accuracy: 86.55914, AUC 94.99042, Precision 0.86813, Recall 0.86559, F1 0.86601, \n",
      "\n"
     ]
    }
   ],
   "source": [
    "\n",
    "auc = 100*roc_auc_score(y_test, predict, average='weighted')\n",
    "acc = 100*accuracy_score(np.argmax(y_test, axis=1), np.argmax(predict, axis=1))\n",
    "prec, rec, f1, _ = precision_recall_fscore_support(np.argmax(y_test, axis=1), np.argmax(predict, axis=1), average='weighted')\n",
    "print('Test accuracy: {:.5f}, AUC {:.5f}, Precision {:.5f}, Recall {:.5f}, F1 {:.5f}, \\n'.format( acc, auc, prec, rec, f1))\n"
   ]
  },
  {
   "cell_type": "code",
   "execution_count": 140,
   "metadata": {},
   "outputs": [],
   "source": [
    "model.save('models/facial_features.h5')\n"
   ]
  },
  {
   "cell_type": "code",
   "execution_count": 115,
   "metadata": {},
   "outputs": [],
   "source": [
    "# ensemble classifier"
   ]
  },
  {
   "cell_type": "code",
   "execution_count": 168,
   "metadata": {},
   "outputs": [],
   "source": [
    "# favAd.head()\n",
    "# ensembleInput = \n",
    "ensembleInput = moviePartsWithAge[['userId','joy', 'sadness', 'disgust', 'contempt',\n",
    "       'anger', 'fear', 'surprise', 'valence', 'engagement', 'smile', 'innerBrowRaise', 'browRaise', 'browFurrow',\n",
    "       'noseWrinkle', 'upperLipRaise', 'lipCornerDepressor', 'chinRaise',\n",
    "       'lipPucker', 'lipPress', 'lipSuck', 'mouthOpen', 'smirk', 'eyeClosure','lidTighten', 'jawDrop', 'dimpler', 'eyeWiden',\n",
    "       'cheekRaise', 'lipStretch', 'ad']]\n",
    "# ensembleInput "
   ]
  },
  {
   "cell_type": "code",
   "execution_count": 169,
   "metadata": {},
   "outputs": [
    {
     "data": {
      "text/html": [
       "<div>\n",
       "<style scoped>\n",
       "    .dataframe tbody tr th:only-of-type {\n",
       "        vertical-align: middle;\n",
       "    }\n",
       "\n",
       "    .dataframe tbody tr th {\n",
       "        vertical-align: top;\n",
       "    }\n",
       "\n",
       "    .dataframe thead th {\n",
       "        text-align: right;\n",
       "    }\n",
       "</style>\n",
       "<table border=\"1\" class=\"dataframe\">\n",
       "  <thead>\n",
       "    <tr style=\"text-align: right;\">\n",
       "      <th></th>\n",
       "      <th>userId</th>\n",
       "      <th>ad</th>\n",
       "      <th>age</th>\n",
       "      <th>gender</th>\n",
       "    </tr>\n",
       "  </thead>\n",
       "  <tbody>\n",
       "    <tr>\n",
       "      <th>0</th>\n",
       "      <td>vihan_22_male</td>\n",
       "      <td>0.0</td>\n",
       "      <td>1</td>\n",
       "      <td>1</td>\n",
       "    </tr>\n",
       "    <tr>\n",
       "      <th>1</th>\n",
       "      <td>Rashmika_23_male</td>\n",
       "      <td>0.0</td>\n",
       "      <td>1</td>\n",
       "      <td>1</td>\n",
       "    </tr>\n",
       "    <tr>\n",
       "      <th>2</th>\n",
       "      <td>dylon_20_male</td>\n",
       "      <td>0.0</td>\n",
       "      <td>1</td>\n",
       "      <td>1</td>\n",
       "    </tr>\n",
       "    <tr>\n",
       "      <th>3</th>\n",
       "      <td>geethanjali_41_female</td>\n",
       "      <td>1.0</td>\n",
       "      <td>2</td>\n",
       "      <td>0</td>\n",
       "    </tr>\n",
       "    <tr>\n",
       "      <th>4</th>\n",
       "      <td>Sajith_28_male</td>\n",
       "      <td>0.0</td>\n",
       "      <td>1</td>\n",
       "      <td>1</td>\n",
       "    </tr>\n",
       "  </tbody>\n",
       "</table>\n",
       "</div>"
      ],
      "text/plain": [
       "                  userId   ad  age  gender\n",
       "0          vihan_22_male  0.0    1       1\n",
       "1       Rashmika_23_male  0.0    1       1\n",
       "2          dylon_20_male  0.0    1       1\n",
       "3  geethanjali_41_female  1.0    2       0\n",
       "4         Sajith_28_male  0.0    1       1"
      ]
     },
     "execution_count": 169,
     "metadata": {},
     "output_type": "execute_result"
    }
   ],
   "source": [
    "favAd.head()"
   ]
  },
  {
   "cell_type": "code",
   "execution_count": 170,
   "metadata": {},
   "outputs": [
    {
     "name": "stderr",
     "output_type": "stream",
     "text": [
      "<ipython-input-170-cce44596906e>:1: SettingWithCopyWarning:\n",
      "\n",
      "\n",
      "A value is trying to be set on a copy of a slice from a DataFrame.\n",
      "Try using .loc[row_indexer,col_indexer] = value instead\n",
      "\n",
      "See the caveats in the documentation: https://pandas.pydata.org/pandas-docs/stable/user_guide/indexing.html#returning-a-view-versus-a-copy\n",
      "\n",
      "<ipython-input-170-cce44596906e>:2: SettingWithCopyWarning:\n",
      "\n",
      "\n",
      "A value is trying to be set on a copy of a slice from a DataFrame.\n",
      "Try using .loc[row_indexer,col_indexer] = value instead\n",
      "\n",
      "See the caveats in the documentation: https://pandas.pydata.org/pandas-docs/stable/user_guide/indexing.html#returning-a-view-versus-a-copy\n",
      "\n"
     ]
    }
   ],
   "source": [
    "ensembleInput['age'] = -1\n",
    "ensembleInput['gender'] = -1\n",
    "\n",
    "# for i, row in ensembleInput.iterrows():\n",
    "#     ensembleInput.loc[i, 'age'] = -1\n",
    "#     ensembleInput.loc[i, 'gender'] = -1\n",
    "    "
   ]
  },
  {
   "cell_type": "code",
   "execution_count": 171,
   "metadata": {},
   "outputs": [
    {
     "name": "stderr",
     "output_type": "stream",
     "text": [
      "/home/hicup/anaconda3/lib/python3.8/site-packages/pandas/core/indexing.py:1765: SettingWithCopyWarning:\n",
      "\n",
      "\n",
      "A value is trying to be set on a copy of a slice from a DataFrame.\n",
      "Try using .loc[row_indexer,col_indexer] = value instead\n",
      "\n",
      "See the caveats in the documentation: https://pandas.pydata.org/pandas-docs/stable/user_guide/indexing.html#returning-a-view-versus-a-copy\n",
      "\n"
     ]
    }
   ],
   "source": [
    "for i, row in ensembleInput.iterrows():\n",
    "#     print(row['userId'])\n",
    "    age = favAd.loc[favAd['userId'] == row['userId']]['age'].values[0]\n",
    "    gender = favAd.loc[favAd['userId'] == row['userId']]['gender'].values[0]\n",
    "#     print(age)\n",
    "#     print(gender)\n",
    "    ensembleInput.loc[ensembleInput['userId'] == row['userId'], 'age'] = age\n",
    "    ensembleInput.loc[ensembleInput['userId'] == row['userId'], 'gender'] = gender\n",
    "    \n",
    "#     break;"
   ]
  },
  {
   "cell_type": "code",
   "execution_count": 172,
   "metadata": {},
   "outputs": [],
   "source": [
    "ensembleInput = ensembleInput[['joy', 'sadness', 'disgust', 'contempt',\n",
    "       'anger', 'fear', 'surprise', 'valence', 'engagement', 'smile', 'innerBrowRaise', 'browRaise', 'browFurrow',\n",
    "       'noseWrinkle', 'upperLipRaise', 'lipCornerDepressor', 'chinRaise',\n",
    "       'lipPucker', 'lipPress', 'lipSuck', 'mouthOpen', 'smirk', 'eyeClosure','lidTighten', 'jawDrop', 'dimpler', 'eyeWiden',\n",
    "       'cheekRaise', 'lipStretch', 'age', 'gender', 'ad']]"
   ]
  },
  {
   "cell_type": "code",
   "execution_count": 173,
   "metadata": {},
   "outputs": [
    {
     "name": "stdout",
     "output_type": "stream",
     "text": [
      "(495, 31)\n",
      "(124, 31)\n"
     ]
    }
   ],
   "source": [
    "x = ensembleInput.drop(['ad'], axis=1)\n",
    "x = np.asarray(x.values, dtype=int)\n",
    "y = np.asarray(ensembleInput['ad'].values, dtype=int)\n",
    "x_train, x_test, y_train, y_test = train_test_split(x, y, test_size=0.2, random_state=50)\n",
    "# x_test, x_val, y_test, y_val = train_test_split(x_test, y_test, test_size=0.4, random_state=50)\n",
    "print(x_train.shape)\n",
    "print(x_test.shape)\n"
   ]
  },
  {
   "cell_type": "code",
   "execution_count": 172,
   "metadata": {},
   "outputs": [
    {
     "name": "stdout",
     "output_type": "stream",
     "text": [
      "[[65  0  0  0]\n",
      " [23  0  0  0]\n",
      " [12  0  6  0]\n",
      " [18  0  0  0]]\n",
      "Accuracy0.5725806451612904\n",
      "              precision    recall  f1-score   support\n",
      "\n",
      "     class 0       0.55      1.00      0.71        65\n",
      "     class 1       0.00      0.00      0.00        23\n",
      "     class 2       1.00      0.33      0.50        18\n",
      "     class 3       0.00      0.00      0.00        18\n",
      "\n",
      "    accuracy                           0.57       124\n",
      "   macro avg       0.39      0.33      0.30       124\n",
      "weighted avg       0.43      0.57      0.44       124\n",
      "\n"
     ]
    },
    {
     "name": "stderr",
     "output_type": "stream",
     "text": [
      "/home/hicup/anaconda3/lib/python3.8/site-packages/sklearn/metrics/_classification.py:1221: UndefinedMetricWarning: Precision and F-score are ill-defined and being set to 0.0 in labels with no predicted samples. Use `zero_division` parameter to control this behavior.\n",
      "  _warn_prf(average, modifier, msg_start, len(result))\n"
     ]
    }
   ],
   "source": [
    "\n",
    "classifier = RandomForestClassifier(max_depth=2, random_state=0)\n",
    "classifier.fit(x_train, y_train)\n",
    "\n",
    "# Predicting the Test set results\n",
    "y_pred = classifier.predict(x_test)\n",
    "\n",
    "cm = confusion_matrix(y_test, y_pred)\n",
    "print(cm)\n",
    "print('Accuracy' + str(accuracy_score(y_test, y_pred)))\n",
    "print(classification_report(y_test, y_pred, target_names=['class 0', 'class 1', 'class 2', 'class 3']))\n"
   ]
  },
  {
   "cell_type": "code",
   "execution_count": 173,
   "metadata": {},
   "outputs": [
    {
     "name": "stdout",
     "output_type": "stream",
     "text": [
      "[[64  1  0  0]\n",
      " [ 6 14  0  3]\n",
      " [ 5  0 13  0]\n",
      " [ 8  0  0 10]]\n",
      "Accuracy0.8145161290322581\n",
      "              precision    recall  f1-score   support\n",
      "\n",
      "     class 0       0.55      1.00      0.71        65\n",
      "     class 1       0.00      0.00      0.00        23\n",
      "     class 2       1.00      0.33      0.50        18\n",
      "     class 3       0.00      0.00      0.00        18\n",
      "\n",
      "    accuracy                           0.57       124\n",
      "   macro avg       0.39      0.33      0.30       124\n",
      "weighted avg       0.43      0.57      0.44       124\n",
      "\n"
     ]
    },
    {
     "name": "stderr",
     "output_type": "stream",
     "text": [
      "/home/hicup/anaconda3/lib/python3.8/site-packages/sklearn/metrics/_classification.py:1221: UndefinedMetricWarning: Precision and F-score are ill-defined and being set to 0.0 in labels with no predicted samples. Use `zero_division` parameter to control this behavior.\n",
      "  _warn_prf(average, modifier, msg_start, len(result))\n"
     ]
    }
   ],
   "source": [
    "clf = svm.SVC()\n",
    "clf.fit(x_train, y_train)\n",
    "svmPredict = clf.predict(x_test)\n",
    "cm = confusion_matrix(y_test, svmPredict)\n",
    "print(cm)\n",
    "print('Accuracy' + str(accuracy_score(y_test, svmPredict)))\n",
    "print(classification_report(y_test, y_pred, target_names=['class 0', 'class 1', 'class 2', 'class 3']))"
   ]
  },
  {
   "cell_type": "code",
   "execution_count": 174,
   "metadata": {},
   "outputs": [],
   "source": [
    "x = ensembleInput.drop(['ad'], axis=1)\n",
    "x = np.asarray(x.values, dtype=int)\n",
    "y = np.asarray(ensembleInput['ad'].values, dtype=int)\n",
    "x_train, x_test, y_train, y_test = train_test_split(x, y, test_size=0.5, random_state=50)\n",
    "x_test, x_val, y_test, y_val = train_test_split(x_test, y_test, test_size=0.4, random_state=50)\n",
    "\n",
    "y_test = to_categorical(y_test).astype(np.int32)\n",
    "y_train = to_categorical(y_train).astype(np.int32)\n",
    "y_val = to_categorical(y_val).astype(np.int32)\n"
   ]
  },
  {
   "cell_type": "code",
   "execution_count": 175,
   "metadata": {},
   "outputs": [
    {
     "data": {
      "text/plain": [
       "(309, 31)"
      ]
     },
     "execution_count": 175,
     "metadata": {},
     "output_type": "execute_result"
    }
   ],
   "source": [
    "x_train.shape"
   ]
  },
  {
   "cell_type": "code",
   "execution_count": 176,
   "metadata": {},
   "outputs": [],
   "source": [
    "def create_model():\n",
    "    model = Sequential()\n",
    "    model.add(Dense(100, input_dim=31))\n",
    "    model.add(LeakyReLU())\n",
    "    model.add(Dense(50))\n",
    "    model.add(LeakyReLU())\n",
    "    model.add(Dense(25))\n",
    "    model.add(LeakyReLU())\n",
    "    model.add(Dense(10))\n",
    "    model.add(LeakyReLU())\n",
    "    model.add(Dense(4, activation='softmax'))\n",
    "    # Compile model\n",
    "#     model.compile(loss='binary_crossentropy', optimizer='adam', metrics=['accuracy'])\n",
    "    return model\n"
   ]
  },
  {
   "cell_type": "code",
   "execution_count": 177,
   "metadata": {
    "scrolled": true
   },
   "outputs": [
    {
     "name": "stdout",
     "output_type": "stream",
     "text": [
      "Epoch 1/500\n",
      "10/10 [==============================] - 1s 22ms/step - loss: 2.0676 - accuracy: 0.1955 - val_loss: 1.7568 - val_accuracy: 0.2016\n",
      "Epoch 2/500\n",
      "10/10 [==============================] - 0s 6ms/step - loss: 1.5633 - accuracy: 0.2208 - val_loss: 1.3674 - val_accuracy: 0.2177\n",
      "Epoch 3/500\n",
      "10/10 [==============================] - 0s 6ms/step - loss: 1.1643 - accuracy: 0.2365 - val_loss: 1.1187 - val_accuracy: 0.2742\n",
      "Epoch 4/500\n",
      "10/10 [==============================] - 0s 6ms/step - loss: 1.0567 - accuracy: 0.2001 - val_loss: 0.9727 - val_accuracy: 0.2742\n",
      "Epoch 5/500\n",
      "10/10 [==============================] - 0s 6ms/step - loss: 0.9622 - accuracy: 0.2135 - val_loss: 0.8799 - val_accuracy: 0.2984\n",
      "Epoch 6/500\n",
      "10/10 [==============================] - 0s 7ms/step - loss: 0.8398 - accuracy: 0.2120 - val_loss: 0.8171 - val_accuracy: 0.3065\n",
      "Epoch 7/500\n",
      "10/10 [==============================] - 0s 6ms/step - loss: 0.7576 - accuracy: 0.2712 - val_loss: 0.7681 - val_accuracy: 0.3226\n",
      "Epoch 8/500\n",
      "10/10 [==============================] - 0s 6ms/step - loss: 0.7367 - accuracy: 0.2861 - val_loss: 0.7296 - val_accuracy: 0.3387\n",
      "Epoch 9/500\n",
      "10/10 [==============================] - 0s 6ms/step - loss: 0.6694 - accuracy: 0.2783 - val_loss: 0.7008 - val_accuracy: 0.3629\n",
      "Epoch 10/500\n",
      "10/10 [==============================] - 0s 6ms/step - loss: 0.6835 - accuracy: 0.2953 - val_loss: 0.6782 - val_accuracy: 0.3952\n",
      "Epoch 11/500\n",
      "10/10 [==============================] - 0s 6ms/step - loss: 0.6479 - accuracy: 0.3764 - val_loss: 0.6618 - val_accuracy: 0.4113\n",
      "Epoch 12/500\n",
      "10/10 [==============================] - 0s 6ms/step - loss: 0.6071 - accuracy: 0.4294 - val_loss: 0.6482 - val_accuracy: 0.4516\n",
      "Epoch 13/500\n",
      "10/10 [==============================] - 0s 6ms/step - loss: 0.6033 - accuracy: 0.4535 - val_loss: 0.6375 - val_accuracy: 0.4758\n",
      "Epoch 14/500\n",
      "10/10 [==============================] - 0s 7ms/step - loss: 0.6266 - accuracy: 0.4257 - val_loss: 0.6270 - val_accuracy: 0.4839\n",
      "Epoch 15/500\n",
      "10/10 [==============================] - 0s 6ms/step - loss: 0.5774 - accuracy: 0.4697 - val_loss: 0.6181 - val_accuracy: 0.4839\n",
      "Epoch 16/500\n",
      "10/10 [==============================] - 0s 6ms/step - loss: 0.5812 - accuracy: 0.4714 - val_loss: 0.6103 - val_accuracy: 0.4919\n",
      "Epoch 17/500\n",
      "10/10 [==============================] - 0s 7ms/step - loss: 0.5755 - accuracy: 0.5156 - val_loss: 0.6036 - val_accuracy: 0.5161\n",
      "Epoch 18/500\n",
      "10/10 [==============================] - 0s 7ms/step - loss: 0.5727 - accuracy: 0.5396 - val_loss: 0.5961 - val_accuracy: 0.5323\n",
      "Epoch 19/500\n",
      "10/10 [==============================] - 0s 6ms/step - loss: 0.5642 - accuracy: 0.5413 - val_loss: 0.5890 - val_accuracy: 0.5403\n",
      "Epoch 20/500\n",
      "10/10 [==============================] - 0s 6ms/step - loss: 0.5734 - accuracy: 0.5193 - val_loss: 0.5828 - val_accuracy: 0.5242\n",
      "Epoch 21/500\n",
      "10/10 [==============================] - 0s 6ms/step - loss: 0.5313 - accuracy: 0.5792 - val_loss: 0.5766 - val_accuracy: 0.5323\n",
      "Epoch 22/500\n",
      "10/10 [==============================] - 0s 6ms/step - loss: 0.5234 - accuracy: 0.5967 - val_loss: 0.5719 - val_accuracy: 0.5242\n",
      "Epoch 23/500\n",
      "10/10 [==============================] - 0s 6ms/step - loss: 0.5348 - accuracy: 0.5614 - val_loss: 0.5673 - val_accuracy: 0.5323\n",
      "Epoch 24/500\n",
      "10/10 [==============================] - 0s 6ms/step - loss: 0.5414 - accuracy: 0.5846 - val_loss: 0.5615 - val_accuracy: 0.5403\n",
      "Epoch 25/500\n",
      "10/10 [==============================] - 0s 6ms/step - loss: 0.5033 - accuracy: 0.6074 - val_loss: 0.5561 - val_accuracy: 0.5403\n",
      "Epoch 26/500\n",
      "10/10 [==============================] - 0s 6ms/step - loss: 0.5120 - accuracy: 0.6038 - val_loss: 0.5508 - val_accuracy: 0.5403\n",
      "Epoch 27/500\n",
      "10/10 [==============================] - 0s 6ms/step - loss: 0.5108 - accuracy: 0.5921 - val_loss: 0.5459 - val_accuracy: 0.5484\n",
      "Epoch 28/500\n",
      "10/10 [==============================] - 0s 6ms/step - loss: 0.5061 - accuracy: 0.5719 - val_loss: 0.5414 - val_accuracy: 0.5565\n",
      "Epoch 29/500\n",
      "10/10 [==============================] - 0s 6ms/step - loss: 0.4824 - accuracy: 0.6194 - val_loss: 0.5370 - val_accuracy: 0.5645\n",
      "Epoch 30/500\n",
      "10/10 [==============================] - 0s 6ms/step - loss: 0.5025 - accuracy: 0.5450 - val_loss: 0.5328 - val_accuracy: 0.5645\n",
      "Epoch 31/500\n",
      "10/10 [==============================] - 0s 6ms/step - loss: 0.5026 - accuracy: 0.5576 - val_loss: 0.5286 - val_accuracy: 0.5565\n",
      "Epoch 32/500\n",
      "10/10 [==============================] - 0s 6ms/step - loss: 0.5079 - accuracy: 0.5810 - val_loss: 0.5234 - val_accuracy: 0.5645\n",
      "Epoch 33/500\n",
      "10/10 [==============================] - 0s 6ms/step - loss: 0.4789 - accuracy: 0.6045 - val_loss: 0.5188 - val_accuracy: 0.5645\n",
      "Epoch 34/500\n",
      "10/10 [==============================] - 0s 6ms/step - loss: 0.4653 - accuracy: 0.6149 - val_loss: 0.5146 - val_accuracy: 0.5645\n",
      "Epoch 35/500\n",
      "10/10 [==============================] - 0s 6ms/step - loss: 0.4711 - accuracy: 0.5730 - val_loss: 0.5100 - val_accuracy: 0.5726\n",
      "Epoch 36/500\n",
      "10/10 [==============================] - 0s 6ms/step - loss: 0.4783 - accuracy: 0.6036 - val_loss: 0.5057 - val_accuracy: 0.5726\n",
      "Epoch 37/500\n",
      "10/10 [==============================] - 0s 6ms/step - loss: 0.4595 - accuracy: 0.6397 - val_loss: 0.5018 - val_accuracy: 0.5645\n",
      "Epoch 38/500\n",
      "10/10 [==============================] - 0s 6ms/step - loss: 0.4709 - accuracy: 0.6008 - val_loss: 0.4981 - val_accuracy: 0.5806\n",
      "Epoch 39/500\n",
      "10/10 [==============================] - 0s 6ms/step - loss: 0.4576 - accuracy: 0.6329 - val_loss: 0.4941 - val_accuracy: 0.5726\n",
      "Epoch 40/500\n",
      "10/10 [==============================] - 0s 6ms/step - loss: 0.4688 - accuracy: 0.6008 - val_loss: 0.4906 - val_accuracy: 0.6048\n",
      "Epoch 41/500\n",
      "10/10 [==============================] - 0s 6ms/step - loss: 0.4706 - accuracy: 0.6301 - val_loss: 0.4864 - val_accuracy: 0.6048\n",
      "Epoch 42/500\n",
      "10/10 [==============================] - 0s 6ms/step - loss: 0.4474 - accuracy: 0.6785 - val_loss: 0.4831 - val_accuracy: 0.6048\n",
      "Epoch 43/500\n",
      "10/10 [==============================] - 0s 6ms/step - loss: 0.4516 - accuracy: 0.6550 - val_loss: 0.4792 - val_accuracy: 0.6048\n",
      "Epoch 44/500\n",
      "10/10 [==============================] - 0s 6ms/step - loss: 0.4458 - accuracy: 0.6572 - val_loss: 0.4752 - val_accuracy: 0.5968\n",
      "Epoch 45/500\n",
      "10/10 [==============================] - 0s 6ms/step - loss: 0.4316 - accuracy: 0.6859 - val_loss: 0.4714 - val_accuracy: 0.5968\n",
      "Epoch 46/500\n",
      "10/10 [==============================] - 0s 6ms/step - loss: 0.4283 - accuracy: 0.6743 - val_loss: 0.4685 - val_accuracy: 0.6048\n",
      "Epoch 47/500\n",
      "10/10 [==============================] - 0s 6ms/step - loss: 0.4303 - accuracy: 0.6750 - val_loss: 0.4643 - val_accuracy: 0.5968\n",
      "Epoch 48/500\n",
      "10/10 [==============================] - 0s 6ms/step - loss: 0.4303 - accuracy: 0.6759 - val_loss: 0.4612 - val_accuracy: 0.6048\n",
      "Epoch 49/500\n",
      "10/10 [==============================] - 0s 6ms/step - loss: 0.4342 - accuracy: 0.6485 - val_loss: 0.4591 - val_accuracy: 0.5968\n",
      "Epoch 50/500\n",
      "10/10 [==============================] - 0s 6ms/step - loss: 0.4359 - accuracy: 0.6574 - val_loss: 0.4555 - val_accuracy: 0.5887\n",
      "Epoch 51/500\n",
      "10/10 [==============================] - 0s 6ms/step - loss: 0.4157 - accuracy: 0.6811 - val_loss: 0.4523 - val_accuracy: 0.5887\n",
      "Epoch 52/500\n",
      "10/10 [==============================] - 0s 6ms/step - loss: 0.4145 - accuracy: 0.6903 - val_loss: 0.4497 - val_accuracy: 0.5887\n",
      "Epoch 53/500\n",
      "10/10 [==============================] - 0s 6ms/step - loss: 0.4154 - accuracy: 0.6714 - val_loss: 0.4471 - val_accuracy: 0.5887\n",
      "Epoch 54/500\n",
      "10/10 [==============================] - 0s 6ms/step - loss: 0.4089 - accuracy: 0.6765 - val_loss: 0.4438 - val_accuracy: 0.5968\n",
      "Epoch 55/500\n",
      "10/10 [==============================] - 0s 6ms/step - loss: 0.4171 - accuracy: 0.6757 - val_loss: 0.4414 - val_accuracy: 0.5968\n",
      "Epoch 56/500\n",
      "10/10 [==============================] - 0s 6ms/step - loss: 0.4018 - accuracy: 0.7071 - val_loss: 0.4393 - val_accuracy: 0.6048\n",
      "Epoch 57/500\n",
      "10/10 [==============================] - 0s 6ms/step - loss: 0.4038 - accuracy: 0.6876 - val_loss: 0.4371 - val_accuracy: 0.6048\n",
      "Epoch 58/500\n",
      "10/10 [==============================] - 0s 6ms/step - loss: 0.4005 - accuracy: 0.6729 - val_loss: 0.4348 - val_accuracy: 0.6048\n"
     ]
    },
    {
     "name": "stdout",
     "output_type": "stream",
     "text": [
      "Epoch 59/500\n",
      "10/10 [==============================] - 0s 7ms/step - loss: 0.4015 - accuracy: 0.6901 - val_loss: 0.4325 - val_accuracy: 0.6048\n",
      "Epoch 60/500\n",
      "10/10 [==============================] - 0s 6ms/step - loss: 0.3980 - accuracy: 0.6896 - val_loss: 0.4310 - val_accuracy: 0.6129\n",
      "Epoch 61/500\n",
      "10/10 [==============================] - 0s 6ms/step - loss: 0.4003 - accuracy: 0.6898 - val_loss: 0.4283 - val_accuracy: 0.6048\n",
      "Epoch 62/500\n",
      "10/10 [==============================] - 0s 6ms/step - loss: 0.3824 - accuracy: 0.7244 - val_loss: 0.4267 - val_accuracy: 0.6048\n",
      "Epoch 63/500\n",
      "10/10 [==============================] - 0s 6ms/step - loss: 0.3970 - accuracy: 0.7151 - val_loss: 0.4246 - val_accuracy: 0.6210\n",
      "Epoch 64/500\n",
      "10/10 [==============================] - 0s 6ms/step - loss: 0.3998 - accuracy: 0.7274 - val_loss: 0.4224 - val_accuracy: 0.6129\n",
      "Epoch 65/500\n",
      "10/10 [==============================] - 0s 6ms/step - loss: 0.3923 - accuracy: 0.6866 - val_loss: 0.4206 - val_accuracy: 0.6210\n",
      "Epoch 66/500\n",
      "10/10 [==============================] - 0s 6ms/step - loss: 0.3905 - accuracy: 0.7081 - val_loss: 0.4184 - val_accuracy: 0.6210\n",
      "Epoch 67/500\n",
      "10/10 [==============================] - 0s 6ms/step - loss: 0.3956 - accuracy: 0.7004 - val_loss: 0.4165 - val_accuracy: 0.6129\n",
      "Epoch 68/500\n",
      "10/10 [==============================] - 0s 6ms/step - loss: 0.3879 - accuracy: 0.7203 - val_loss: 0.4146 - val_accuracy: 0.6129\n",
      "Epoch 69/500\n",
      "10/10 [==============================] - 0s 6ms/step - loss: 0.3817 - accuracy: 0.7325 - val_loss: 0.4126 - val_accuracy: 0.6210\n",
      "Epoch 70/500\n",
      "10/10 [==============================] - 0s 6ms/step - loss: 0.3583 - accuracy: 0.7247 - val_loss: 0.4112 - val_accuracy: 0.6371\n",
      "Epoch 71/500\n",
      "10/10 [==============================] - 0s 6ms/step - loss: 0.3616 - accuracy: 0.7478 - val_loss: 0.4099 - val_accuracy: 0.6371\n",
      "Epoch 72/500\n",
      "10/10 [==============================] - 0s 6ms/step - loss: 0.3705 - accuracy: 0.7256 - val_loss: 0.4072 - val_accuracy: 0.6371\n",
      "Epoch 73/500\n",
      "10/10 [==============================] - 0s 6ms/step - loss: 0.3604 - accuracy: 0.7197 - val_loss: 0.4055 - val_accuracy: 0.6290\n",
      "Epoch 74/500\n",
      "10/10 [==============================] - 0s 7ms/step - loss: 0.3725 - accuracy: 0.7284 - val_loss: 0.4043 - val_accuracy: 0.6532\n",
      "Epoch 75/500\n",
      "10/10 [==============================] - 0s 6ms/step - loss: 0.3609 - accuracy: 0.7818 - val_loss: 0.4024 - val_accuracy: 0.6532\n",
      "Epoch 76/500\n",
      "10/10 [==============================] - 0s 6ms/step - loss: 0.3589 - accuracy: 0.7592 - val_loss: 0.4005 - val_accuracy: 0.6371\n",
      "Epoch 77/500\n",
      "10/10 [==============================] - 0s 6ms/step - loss: 0.3665 - accuracy: 0.7205 - val_loss: 0.3987 - val_accuracy: 0.6371\n",
      "Epoch 78/500\n",
      "10/10 [==============================] - 0s 6ms/step - loss: 0.3673 - accuracy: 0.7211 - val_loss: 0.3978 - val_accuracy: 0.6532\n",
      "Epoch 79/500\n",
      "10/10 [==============================] - 0s 7ms/step - loss: 0.3626 - accuracy: 0.7334 - val_loss: 0.3962 - val_accuracy: 0.6532\n",
      "Epoch 80/500\n",
      "10/10 [==============================] - 0s 6ms/step - loss: 0.3590 - accuracy: 0.7474 - val_loss: 0.3946 - val_accuracy: 0.6532\n",
      "Epoch 81/500\n",
      "10/10 [==============================] - 0s 7ms/step - loss: 0.3554 - accuracy: 0.7478 - val_loss: 0.3931 - val_accuracy: 0.6532\n",
      "Epoch 82/500\n",
      "10/10 [==============================] - 0s 6ms/step - loss: 0.3702 - accuracy: 0.7313 - val_loss: 0.3918 - val_accuracy: 0.6532\n",
      "Epoch 83/500\n",
      "10/10 [==============================] - 0s 6ms/step - loss: 0.3597 - accuracy: 0.7205 - val_loss: 0.3904 - val_accuracy: 0.6532\n",
      "Epoch 84/500\n",
      "10/10 [==============================] - 0s 6ms/step - loss: 0.3450 - accuracy: 0.7933 - val_loss: 0.3894 - val_accuracy: 0.6532\n",
      "Epoch 85/500\n",
      "10/10 [==============================] - 0s 6ms/step - loss: 0.3331 - accuracy: 0.7836 - val_loss: 0.3878 - val_accuracy: 0.6613\n",
      "Epoch 86/500\n",
      "10/10 [==============================] - 0s 6ms/step - loss: 0.3545 - accuracy: 0.7584 - val_loss: 0.3866 - val_accuracy: 0.6694\n",
      "Epoch 87/500\n",
      "10/10 [==============================] - 0s 6ms/step - loss: 0.3537 - accuracy: 0.7136 - val_loss: 0.3849 - val_accuracy: 0.6613\n",
      "Epoch 88/500\n",
      "10/10 [==============================] - 0s 6ms/step - loss: 0.3353 - accuracy: 0.7629 - val_loss: 0.3840 - val_accuracy: 0.6694\n",
      "Epoch 89/500\n",
      "10/10 [==============================] - 0s 6ms/step - loss: 0.3433 - accuracy: 0.7509 - val_loss: 0.3826 - val_accuracy: 0.6774\n",
      "Epoch 90/500\n",
      "10/10 [==============================] - 0s 6ms/step - loss: 0.3389 - accuracy: 0.7841 - val_loss: 0.3809 - val_accuracy: 0.6774\n",
      "Epoch 91/500\n",
      "10/10 [==============================] - 0s 6ms/step - loss: 0.3383 - accuracy: 0.7627 - val_loss: 0.3798 - val_accuracy: 0.6935\n",
      "Epoch 92/500\n",
      "10/10 [==============================] - 0s 6ms/step - loss: 0.3382 - accuracy: 0.7690 - val_loss: 0.3785 - val_accuracy: 0.6774\n",
      "Epoch 93/500\n",
      "10/10 [==============================] - 0s 6ms/step - loss: 0.3543 - accuracy: 0.7449 - val_loss: 0.3779 - val_accuracy: 0.6935\n",
      "Epoch 94/500\n",
      "10/10 [==============================] - 0s 6ms/step - loss: 0.3357 - accuracy: 0.7446 - val_loss: 0.3759 - val_accuracy: 0.6694\n",
      "Epoch 95/500\n",
      "10/10 [==============================] - 0s 7ms/step - loss: 0.3511 - accuracy: 0.7336 - val_loss: 0.3748 - val_accuracy: 0.6935\n",
      "Epoch 96/500\n",
      "10/10 [==============================] - 0s 6ms/step - loss: 0.3195 - accuracy: 0.7970 - val_loss: 0.3741 - val_accuracy: 0.6855\n",
      "Epoch 97/500\n",
      "10/10 [==============================] - 0s 6ms/step - loss: 0.3407 - accuracy: 0.7592 - val_loss: 0.3724 - val_accuracy: 0.6935\n",
      "Epoch 98/500\n",
      "10/10 [==============================] - 0s 6ms/step - loss: 0.3157 - accuracy: 0.7947 - val_loss: 0.3714 - val_accuracy: 0.6935\n",
      "Epoch 99/500\n",
      "10/10 [==============================] - 0s 6ms/step - loss: 0.3195 - accuracy: 0.7936 - val_loss: 0.3706 - val_accuracy: 0.6935\n",
      "Epoch 100/500\n",
      "10/10 [==============================] - 0s 6ms/step - loss: 0.3136 - accuracy: 0.7860 - val_loss: 0.3683 - val_accuracy: 0.6935\n",
      "Epoch 101/500\n",
      "10/10 [==============================] - 0s 6ms/step - loss: 0.3297 - accuracy: 0.7613 - val_loss: 0.3676 - val_accuracy: 0.6935\n",
      "Epoch 102/500\n",
      "10/10 [==============================] - 0s 6ms/step - loss: 0.3180 - accuracy: 0.8029 - val_loss: 0.3666 - val_accuracy: 0.6935\n",
      "Epoch 103/500\n",
      "10/10 [==============================] - 0s 6ms/step - loss: 0.3067 - accuracy: 0.7761 - val_loss: 0.3650 - val_accuracy: 0.6935\n",
      "Epoch 104/500\n",
      "10/10 [==============================] - 0s 6ms/step - loss: 0.3222 - accuracy: 0.7994 - val_loss: 0.3643 - val_accuracy: 0.6935\n",
      "Epoch 105/500\n",
      "10/10 [==============================] - 0s 6ms/step - loss: 0.2966 - accuracy: 0.8149 - val_loss: 0.3629 - val_accuracy: 0.6935\n",
      "Epoch 106/500\n",
      "10/10 [==============================] - 0s 6ms/step - loss: 0.3208 - accuracy: 0.7698 - val_loss: 0.3614 - val_accuracy: 0.6935\n",
      "Epoch 107/500\n",
      "10/10 [==============================] - 0s 6ms/step - loss: 0.3267 - accuracy: 0.7679 - val_loss: 0.3596 - val_accuracy: 0.6935\n",
      "Epoch 108/500\n",
      "10/10 [==============================] - 0s 6ms/step - loss: 0.3039 - accuracy: 0.7838 - val_loss: 0.3585 - val_accuracy: 0.7016\n",
      "Epoch 109/500\n",
      "10/10 [==============================] - 0s 6ms/step - loss: 0.3098 - accuracy: 0.7773 - val_loss: 0.3575 - val_accuracy: 0.7016\n",
      "Epoch 110/500\n",
      "10/10 [==============================] - 0s 6ms/step - loss: 0.3181 - accuracy: 0.7789 - val_loss: 0.3561 - val_accuracy: 0.7016\n",
      "Epoch 111/500\n",
      "10/10 [==============================] - 0s 6ms/step - loss: 0.3034 - accuracy: 0.7830 - val_loss: 0.3542 - val_accuracy: 0.7016\n",
      "Epoch 112/500\n",
      "10/10 [==============================] - 0s 7ms/step - loss: 0.3104 - accuracy: 0.8073 - val_loss: 0.3543 - val_accuracy: 0.7016\n",
      "Epoch 113/500\n",
      "10/10 [==============================] - 0s 6ms/step - loss: 0.3134 - accuracy: 0.7880 - val_loss: 0.3533 - val_accuracy: 0.7016\n",
      "Epoch 114/500\n",
      "10/10 [==============================] - 0s 6ms/step - loss: 0.2871 - accuracy: 0.8160 - val_loss: 0.3513 - val_accuracy: 0.7097\n",
      "Epoch 115/500\n",
      "10/10 [==============================] - 0s 6ms/step - loss: 0.3007 - accuracy: 0.7843 - val_loss: 0.3502 - val_accuracy: 0.7016\n",
      "Epoch 116/500\n",
      "10/10 [==============================] - 0s 6ms/step - loss: 0.2881 - accuracy: 0.8138 - val_loss: 0.3491 - val_accuracy: 0.7016\n",
      "Epoch 117/500\n",
      "10/10 [==============================] - 0s 6ms/step - loss: 0.2878 - accuracy: 0.8235 - val_loss: 0.3477 - val_accuracy: 0.7016\n",
      "Epoch 118/500\n",
      "10/10 [==============================] - 0s 6ms/step - loss: 0.2914 - accuracy: 0.7965 - val_loss: 0.3471 - val_accuracy: 0.7097\n",
      "Epoch 119/500\n",
      "10/10 [==============================] - 0s 6ms/step - loss: 0.2961 - accuracy: 0.8059 - val_loss: 0.3459 - val_accuracy: 0.7177\n",
      "Epoch 120/500\n",
      "10/10 [==============================] - 0s 6ms/step - loss: 0.2879 - accuracy: 0.8168 - val_loss: 0.3456 - val_accuracy: 0.7177\n",
      "Epoch 121/500\n",
      "10/10 [==============================] - 0s 6ms/step - loss: 0.2911 - accuracy: 0.8125 - val_loss: 0.3443 - val_accuracy: 0.7177\n",
      "Epoch 122/500\n",
      "10/10 [==============================] - 0s 6ms/step - loss: 0.2951 - accuracy: 0.8018 - val_loss: 0.3430 - val_accuracy: 0.7258\n",
      "Epoch 123/500\n",
      "10/10 [==============================] - 0s 6ms/step - loss: 0.2977 - accuracy: 0.7965 - val_loss: 0.3417 - val_accuracy: 0.7258\n",
      "Epoch 124/500\n",
      "10/10 [==============================] - 0s 6ms/step - loss: 0.2944 - accuracy: 0.7918 - val_loss: 0.3410 - val_accuracy: 0.7258\n",
      "Epoch 125/500\n",
      "10/10 [==============================] - 0s 6ms/step - loss: 0.2921 - accuracy: 0.7972 - val_loss: 0.3406 - val_accuracy: 0.7258\n",
      "Epoch 126/500\n",
      "10/10 [==============================] - 0s 6ms/step - loss: 0.2874 - accuracy: 0.7949 - val_loss: 0.3396 - val_accuracy: 0.7258\n",
      "Epoch 127/500\n",
      "10/10 [==============================] - 0s 6ms/step - loss: 0.2794 - accuracy: 0.7984 - val_loss: 0.3380 - val_accuracy: 0.7258\n",
      "Epoch 128/500\n",
      "10/10 [==============================] - 0s 6ms/step - loss: 0.2791 - accuracy: 0.8201 - val_loss: 0.3370 - val_accuracy: 0.7339\n",
      "Epoch 129/500\n",
      "10/10 [==============================] - 0s 6ms/step - loss: 0.2996 - accuracy: 0.7800 - val_loss: 0.3366 - val_accuracy: 0.7258\n",
      "Epoch 130/500\n",
      "10/10 [==============================] - 0s 6ms/step - loss: 0.2948 - accuracy: 0.7982 - val_loss: 0.3357 - val_accuracy: 0.7258\n",
      "Epoch 131/500\n",
      "10/10 [==============================] - 0s 6ms/step - loss: 0.2749 - accuracy: 0.7929 - val_loss: 0.3337 - val_accuracy: 0.7258\n",
      "Epoch 132/500\n",
      "10/10 [==============================] - 0s 6ms/step - loss: 0.2765 - accuracy: 0.7900 - val_loss: 0.3332 - val_accuracy: 0.7258\n",
      "Epoch 133/500\n",
      "10/10 [==============================] - 0s 6ms/step - loss: 0.2627 - accuracy: 0.8270 - val_loss: 0.3318 - val_accuracy: 0.7339\n",
      "Epoch 134/500\n",
      "10/10 [==============================] - 0s 6ms/step - loss: 0.2745 - accuracy: 0.8381 - val_loss: 0.3306 - val_accuracy: 0.7258\n",
      "Epoch 135/500\n",
      "10/10 [==============================] - 0s 6ms/step - loss: 0.2741 - accuracy: 0.8029 - val_loss: 0.3287 - val_accuracy: 0.7339\n",
      "Epoch 136/500\n",
      "10/10 [==============================] - 0s 7ms/step - loss: 0.2578 - accuracy: 0.8355 - val_loss: 0.3283 - val_accuracy: 0.7258\n",
      "Epoch 137/500\n",
      "10/10 [==============================] - 0s 6ms/step - loss: 0.2953 - accuracy: 0.7897 - val_loss: 0.3273 - val_accuracy: 0.7419\n",
      "Epoch 138/500\n",
      "10/10 [==============================] - 0s 6ms/step - loss: 0.2698 - accuracy: 0.8309 - val_loss: 0.3256 - val_accuracy: 0.7339\n",
      "Epoch 139/500\n",
      "10/10 [==============================] - 0s 6ms/step - loss: 0.2773 - accuracy: 0.8070 - val_loss: 0.3255 - val_accuracy: 0.7419\n",
      "Epoch 140/500\n",
      "10/10 [==============================] - 0s 6ms/step - loss: 0.2659 - accuracy: 0.8240 - val_loss: 0.3239 - val_accuracy: 0.7419\n",
      "Epoch 141/500\n",
      "10/10 [==============================] - 0s 6ms/step - loss: 0.2736 - accuracy: 0.8204 - val_loss: 0.3238 - val_accuracy: 0.7500\n",
      "Epoch 142/500\n",
      "10/10 [==============================] - 0s 6ms/step - loss: 0.2668 - accuracy: 0.8221 - val_loss: 0.3231 - val_accuracy: 0.7419\n",
      "Epoch 143/500\n",
      "10/10 [==============================] - 0s 6ms/step - loss: 0.2604 - accuracy: 0.8358 - val_loss: 0.3215 - val_accuracy: 0.7581\n",
      "Epoch 144/500\n",
      "10/10 [==============================] - 0s 6ms/step - loss: 0.2436 - accuracy: 0.8398 - val_loss: 0.3207 - val_accuracy: 0.7500\n",
      "Epoch 145/500\n",
      "10/10 [==============================] - 0s 6ms/step - loss: 0.2666 - accuracy: 0.8431 - val_loss: 0.3218 - val_accuracy: 0.7500\n",
      "Epoch 146/500\n",
      "10/10 [==============================] - 0s 6ms/step - loss: 0.2604 - accuracy: 0.8479 - val_loss: 0.3196 - val_accuracy: 0.7581\n",
      "Epoch 147/500\n",
      "10/10 [==============================] - 0s 6ms/step - loss: 0.2564 - accuracy: 0.8234 - val_loss: 0.3188 - val_accuracy: 0.7581\n",
      "Epoch 148/500\n",
      "10/10 [==============================] - 0s 6ms/step - loss: 0.2521 - accuracy: 0.8432 - val_loss: 0.3170 - val_accuracy: 0.7661\n",
      "Epoch 149/500\n",
      "10/10 [==============================] - 0s 6ms/step - loss: 0.2639 - accuracy: 0.8189 - val_loss: 0.3168 - val_accuracy: 0.7661\n",
      "Epoch 150/500\n",
      "10/10 [==============================] - 0s 6ms/step - loss: 0.2523 - accuracy: 0.8527 - val_loss: 0.3162 - val_accuracy: 0.7500\n",
      "Epoch 151/500\n",
      "10/10 [==============================] - 0s 6ms/step - loss: 0.2616 - accuracy: 0.8387 - val_loss: 0.3144 - val_accuracy: 0.7661\n",
      "Epoch 152/500\n",
      "10/10 [==============================] - 0s 6ms/step - loss: 0.2537 - accuracy: 0.8398 - val_loss: 0.3133 - val_accuracy: 0.7661\n",
      "Epoch 153/500\n",
      "10/10 [==============================] - 0s 6ms/step - loss: 0.2577 - accuracy: 0.8235 - val_loss: 0.3128 - val_accuracy: 0.7661\n",
      "Epoch 154/500\n",
      "10/10 [==============================] - 0s 6ms/step - loss: 0.2527 - accuracy: 0.8397 - val_loss: 0.3136 - val_accuracy: 0.7661\n",
      "Epoch 155/500\n",
      "10/10 [==============================] - 0s 6ms/step - loss: 0.2431 - accuracy: 0.8421 - val_loss: 0.3110 - val_accuracy: 0.7742\n",
      "Epoch 156/500\n",
      "10/10 [==============================] - 0s 6ms/step - loss: 0.2220 - accuracy: 0.8667 - val_loss: 0.3111 - val_accuracy: 0.7742\n",
      "Epoch 157/500\n",
      "10/10 [==============================] - 0s 6ms/step - loss: 0.2591 - accuracy: 0.8152 - val_loss: 0.3114 - val_accuracy: 0.7742\n",
      "Epoch 158/500\n",
      "10/10 [==============================] - 0s 6ms/step - loss: 0.2504 - accuracy: 0.8377 - val_loss: 0.3089 - val_accuracy: 0.7742\n",
      "Epoch 159/500\n",
      "10/10 [==============================] - 0s 6ms/step - loss: 0.2534 - accuracy: 0.8334 - val_loss: 0.3084 - val_accuracy: 0.7742\n",
      "Epoch 160/500\n",
      "10/10 [==============================] - 0s 6ms/step - loss: 0.2256 - accuracy: 0.8520 - val_loss: 0.3083 - val_accuracy: 0.7903\n",
      "Epoch 161/500\n",
      "10/10 [==============================] - 0s 6ms/step - loss: 0.2554 - accuracy: 0.8256 - val_loss: 0.3068 - val_accuracy: 0.7823\n",
      "Epoch 162/500\n",
      "10/10 [==============================] - 0s 6ms/step - loss: 0.2358 - accuracy: 0.8367 - val_loss: 0.3058 - val_accuracy: 0.7823\n",
      "Epoch 163/500\n",
      "10/10 [==============================] - 0s 6ms/step - loss: 0.2308 - accuracy: 0.8547 - val_loss: 0.3058 - val_accuracy: 0.7903\n",
      "Epoch 164/500\n",
      "10/10 [==============================] - 0s 7ms/step - loss: 0.2641 - accuracy: 0.8141 - val_loss: 0.3045 - val_accuracy: 0.7903\n",
      "Epoch 165/500\n",
      "10/10 [==============================] - 0s 6ms/step - loss: 0.2236 - accuracy: 0.8585 - val_loss: 0.3031 - val_accuracy: 0.7903\n",
      "Epoch 166/500\n",
      "10/10 [==============================] - 0s 6ms/step - loss: 0.2379 - accuracy: 0.8080 - val_loss: 0.3031 - val_accuracy: 0.7903\n",
      "Epoch 167/500\n",
      "10/10 [==============================] - 0s 7ms/step - loss: 0.2448 - accuracy: 0.8181 - val_loss: 0.3019 - val_accuracy: 0.7823\n",
      "Epoch 168/500\n",
      "10/10 [==============================] - 0s 7ms/step - loss: 0.2403 - accuracy: 0.8343 - val_loss: 0.3003 - val_accuracy: 0.7823\n",
      "Epoch 169/500\n",
      "10/10 [==============================] - 0s 6ms/step - loss: 0.2375 - accuracy: 0.8262 - val_loss: 0.2998 - val_accuracy: 0.7903\n",
      "Epoch 170/500\n",
      "10/10 [==============================] - 0s 6ms/step - loss: 0.2317 - accuracy: 0.8406 - val_loss: 0.2996 - val_accuracy: 0.7903\n",
      "Epoch 171/500\n",
      "10/10 [==============================] - 0s 6ms/step - loss: 0.2197 - accuracy: 0.8421 - val_loss: 0.2989 - val_accuracy: 0.7823\n",
      "Epoch 172/500\n",
      "10/10 [==============================] - 0s 6ms/step - loss: 0.2254 - accuracy: 0.8406 - val_loss: 0.2970 - val_accuracy: 0.7903\n",
      "Epoch 173/500\n"
     ]
    },
    {
     "name": "stdout",
     "output_type": "stream",
     "text": [
      "10/10 [==============================] - 0s 6ms/step - loss: 0.2436 - accuracy: 0.8045 - val_loss: 0.2959 - val_accuracy: 0.7823\n",
      "Epoch 174/500\n",
      "10/10 [==============================] - 0s 6ms/step - loss: 0.2389 - accuracy: 0.8006 - val_loss: 0.2954 - val_accuracy: 0.7903\n",
      "Epoch 175/500\n",
      "10/10 [==============================] - 0s 6ms/step - loss: 0.2214 - accuracy: 0.8331 - val_loss: 0.2944 - val_accuracy: 0.7903\n",
      "Epoch 176/500\n",
      "10/10 [==============================] - 0s 6ms/step - loss: 0.2142 - accuracy: 0.8415 - val_loss: 0.2947 - val_accuracy: 0.7823\n",
      "Epoch 177/500\n",
      "10/10 [==============================] - 0s 6ms/step - loss: 0.2111 - accuracy: 0.8407 - val_loss: 0.2931 - val_accuracy: 0.7823\n",
      "Epoch 178/500\n",
      "10/10 [==============================] - 0s 6ms/step - loss: 0.2339 - accuracy: 0.8310 - val_loss: 0.2923 - val_accuracy: 0.7823\n",
      "Epoch 179/500\n",
      "10/10 [==============================] - 0s 6ms/step - loss: 0.2155 - accuracy: 0.8695 - val_loss: 0.2923 - val_accuracy: 0.7823\n",
      "Epoch 180/500\n",
      "10/10 [==============================] - 0s 6ms/step - loss: 0.2204 - accuracy: 0.8519 - val_loss: 0.2898 - val_accuracy: 0.7903\n",
      "Epoch 181/500\n",
      "10/10 [==============================] - 0s 6ms/step - loss: 0.2188 - accuracy: 0.8320 - val_loss: 0.2896 - val_accuracy: 0.7903\n",
      "Epoch 182/500\n",
      "10/10 [==============================] - 0s 6ms/step - loss: 0.2113 - accuracy: 0.8666 - val_loss: 0.2907 - val_accuracy: 0.7823\n",
      "Epoch 183/500\n",
      "10/10 [==============================] - 0s 6ms/step - loss: 0.2174 - accuracy: 0.8527 - val_loss: 0.2890 - val_accuracy: 0.7984\n",
      "Epoch 184/500\n",
      "10/10 [==============================] - 0s 6ms/step - loss: 0.2010 - accuracy: 0.8791 - val_loss: 0.2869 - val_accuracy: 0.8065\n",
      "Epoch 185/500\n",
      "10/10 [==============================] - 0s 7ms/step - loss: 0.1980 - accuracy: 0.8655 - val_loss: 0.2886 - val_accuracy: 0.7823\n",
      "Epoch 186/500\n",
      "10/10 [==============================] - 0s 7ms/step - loss: 0.2222 - accuracy: 0.8435 - val_loss: 0.2858 - val_accuracy: 0.7984\n",
      "Epoch 187/500\n",
      "10/10 [==============================] - 0s 6ms/step - loss: 0.2087 - accuracy: 0.8747 - val_loss: 0.2846 - val_accuracy: 0.7984\n",
      "Epoch 188/500\n",
      "10/10 [==============================] - 0s 6ms/step - loss: 0.1993 - accuracy: 0.8728 - val_loss: 0.2844 - val_accuracy: 0.7984\n",
      "Epoch 189/500\n",
      "10/10 [==============================] - 0s 6ms/step - loss: 0.2144 - accuracy: 0.8714 - val_loss: 0.2843 - val_accuracy: 0.7823\n",
      "Epoch 190/500\n",
      "10/10 [==============================] - 0s 6ms/step - loss: 0.2101 - accuracy: 0.8645 - val_loss: 0.2815 - val_accuracy: 0.8065\n",
      "Epoch 191/500\n",
      "10/10 [==============================] - 0s 6ms/step - loss: 0.2095 - accuracy: 0.8602 - val_loss: 0.2829 - val_accuracy: 0.7823\n",
      "Epoch 192/500\n",
      "10/10 [==============================] - 0s 6ms/step - loss: 0.2147 - accuracy: 0.8519 - val_loss: 0.2806 - val_accuracy: 0.7984\n",
      "Epoch 193/500\n",
      "10/10 [==============================] - 0s 6ms/step - loss: 0.2110 - accuracy: 0.8521 - val_loss: 0.2802 - val_accuracy: 0.7903\n",
      "Epoch 194/500\n",
      "10/10 [==============================] - 0s 6ms/step - loss: 0.2048 - accuracy: 0.8544 - val_loss: 0.2782 - val_accuracy: 0.7984\n",
      "Epoch 195/500\n",
      "10/10 [==============================] - 0s 6ms/step - loss: 0.1947 - accuracy: 0.8709 - val_loss: 0.2790 - val_accuracy: 0.7984\n",
      "Epoch 196/500\n",
      "10/10 [==============================] - 0s 6ms/step - loss: 0.1878 - accuracy: 0.8879 - val_loss: 0.2784 - val_accuracy: 0.7984\n",
      "Epoch 197/500\n",
      "10/10 [==============================] - 0s 6ms/step - loss: 0.2038 - accuracy: 0.8607 - val_loss: 0.2777 - val_accuracy: 0.7903\n",
      "Epoch 198/500\n",
      "10/10 [==============================] - 0s 6ms/step - loss: 0.2087 - accuracy: 0.8471 - val_loss: 0.2764 - val_accuracy: 0.7984\n",
      "Epoch 199/500\n",
      "10/10 [==============================] - 0s 6ms/step - loss: 0.1862 - accuracy: 0.8692 - val_loss: 0.2768 - val_accuracy: 0.7984\n",
      "Epoch 200/500\n",
      "10/10 [==============================] - 0s 6ms/step - loss: 0.1959 - accuracy: 0.8704 - val_loss: 0.2748 - val_accuracy: 0.7984\n",
      "Epoch 201/500\n",
      "10/10 [==============================] - 0s 6ms/step - loss: 0.1836 - accuracy: 0.8739 - val_loss: 0.2755 - val_accuracy: 0.7903\n",
      "Epoch 202/500\n",
      "10/10 [==============================] - 0s 6ms/step - loss: 0.1957 - accuracy: 0.8699 - val_loss: 0.2732 - val_accuracy: 0.7984\n",
      "Epoch 203/500\n",
      "10/10 [==============================] - 0s 6ms/step - loss: 0.1994 - accuracy: 0.8579 - val_loss: 0.2734 - val_accuracy: 0.7903\n",
      "Epoch 204/500\n",
      "10/10 [==============================] - 0s 6ms/step - loss: 0.1906 - accuracy: 0.8652 - val_loss: 0.2712 - val_accuracy: 0.7984\n",
      "Epoch 205/500\n",
      "10/10 [==============================] - 0s 6ms/step - loss: 0.1877 - accuracy: 0.8639 - val_loss: 0.2703 - val_accuracy: 0.8065\n",
      "Epoch 206/500\n",
      "10/10 [==============================] - 0s 7ms/step - loss: 0.2035 - accuracy: 0.8806 - val_loss: 0.2721 - val_accuracy: 0.7903\n",
      "Epoch 207/500\n",
      "10/10 [==============================] - 0s 6ms/step - loss: 0.1948 - accuracy: 0.8719 - val_loss: 0.2677 - val_accuracy: 0.7984\n",
      "Epoch 208/500\n",
      "10/10 [==============================] - 0s 6ms/step - loss: 0.1855 - accuracy: 0.8734 - val_loss: 0.2679 - val_accuracy: 0.7984\n",
      "Epoch 209/500\n",
      "10/10 [==============================] - 0s 6ms/step - loss: 0.1852 - accuracy: 0.8931 - val_loss: 0.2696 - val_accuracy: 0.7984\n",
      "Epoch 210/500\n",
      "10/10 [==============================] - 0s 6ms/step - loss: 0.1692 - accuracy: 0.8965 - val_loss: 0.2678 - val_accuracy: 0.8065\n",
      "Epoch 211/500\n",
      "10/10 [==============================] - 0s 7ms/step - loss: 0.1745 - accuracy: 0.9053 - val_loss: 0.2633 - val_accuracy: 0.8065\n",
      "Epoch 212/500\n",
      "10/10 [==============================] - 0s 6ms/step - loss: 0.1916 - accuracy: 0.8800 - val_loss: 0.2663 - val_accuracy: 0.7984\n",
      "Epoch 213/500\n",
      "10/10 [==============================] - 0s 6ms/step - loss: 0.1761 - accuracy: 0.8933 - val_loss: 0.2649 - val_accuracy: 0.8065\n",
      "Epoch 214/500\n",
      "10/10 [==============================] - 0s 6ms/step - loss: 0.1723 - accuracy: 0.8874 - val_loss: 0.2619 - val_accuracy: 0.8065\n",
      "Epoch 215/500\n",
      "10/10 [==============================] - 0s 6ms/step - loss: 0.1672 - accuracy: 0.9047 - val_loss: 0.2629 - val_accuracy: 0.8065\n",
      "Epoch 216/500\n",
      "10/10 [==============================] - 0s 6ms/step - loss: 0.1788 - accuracy: 0.8848 - val_loss: 0.2629 - val_accuracy: 0.8065\n",
      "Epoch 217/500\n",
      "10/10 [==============================] - 0s 6ms/step - loss: 0.1647 - accuracy: 0.9025 - val_loss: 0.2606 - val_accuracy: 0.8065\n",
      "Epoch 218/500\n",
      "10/10 [==============================] - 0s 6ms/step - loss: 0.1741 - accuracy: 0.8849 - val_loss: 0.2605 - val_accuracy: 0.8145\n",
      "Epoch 219/500\n",
      "10/10 [==============================] - 0s 6ms/step - loss: 0.1822 - accuracy: 0.8896 - val_loss: 0.2604 - val_accuracy: 0.8065\n",
      "Epoch 220/500\n",
      "10/10 [==============================] - 0s 6ms/step - loss: 0.1687 - accuracy: 0.8993 - val_loss: 0.2586 - val_accuracy: 0.8145\n",
      "Epoch 221/500\n",
      "10/10 [==============================] - 0s 7ms/step - loss: 0.1704 - accuracy: 0.8987 - val_loss: 0.2583 - val_accuracy: 0.8145\n",
      "Epoch 222/500\n",
      "10/10 [==============================] - 0s 6ms/step - loss: 0.1701 - accuracy: 0.8993 - val_loss: 0.2568 - val_accuracy: 0.8145\n",
      "Epoch 223/500\n",
      "10/10 [==============================] - 0s 6ms/step - loss: 0.1593 - accuracy: 0.9156 - val_loss: 0.2571 - val_accuracy: 0.8145\n",
      "Epoch 224/500\n",
      "10/10 [==============================] - 0s 6ms/step - loss: 0.1593 - accuracy: 0.9127 - val_loss: 0.2567 - val_accuracy: 0.8145\n",
      "Epoch 225/500\n",
      "10/10 [==============================] - 0s 6ms/step - loss: 0.1520 - accuracy: 0.9060 - val_loss: 0.2554 - val_accuracy: 0.8145\n",
      "Epoch 226/500\n",
      "10/10 [==============================] - 0s 6ms/step - loss: 0.1472 - accuracy: 0.9193 - val_loss: 0.2565 - val_accuracy: 0.8145\n",
      "Epoch 227/500\n",
      "10/10 [==============================] - 0s 6ms/step - loss: 0.1748 - accuracy: 0.8924 - val_loss: 0.2538 - val_accuracy: 0.8145\n",
      "Epoch 228/500\n",
      "10/10 [==============================] - 0s 6ms/step - loss: 0.1605 - accuracy: 0.8951 - val_loss: 0.2524 - val_accuracy: 0.8145\n",
      "Epoch 229/500\n",
      "10/10 [==============================] - 0s 6ms/step - loss: 0.1406 - accuracy: 0.9307 - val_loss: 0.2514 - val_accuracy: 0.8145\n",
      "Epoch 230/500\n",
      "10/10 [==============================] - 0s 6ms/step - loss: 0.1608 - accuracy: 0.8950 - val_loss: 0.2535 - val_accuracy: 0.8226\n",
      "Epoch 231/500\n",
      "10/10 [==============================] - 0s 6ms/step - loss: 0.1582 - accuracy: 0.8945 - val_loss: 0.2524 - val_accuracy: 0.8226\n",
      "Epoch 232/500\n",
      "10/10 [==============================] - 0s 6ms/step - loss: 0.1565 - accuracy: 0.9070 - val_loss: 0.2510 - val_accuracy: 0.8145\n",
      "Epoch 233/500\n",
      "10/10 [==============================] - 0s 6ms/step - loss: 0.1531 - accuracy: 0.9019 - val_loss: 0.2516 - val_accuracy: 0.8226\n",
      "Epoch 234/500\n",
      "10/10 [==============================] - 0s 6ms/step - loss: 0.1566 - accuracy: 0.9006 - val_loss: 0.2498 - val_accuracy: 0.8226\n",
      "Epoch 235/500\n",
      "10/10 [==============================] - 0s 6ms/step - loss: 0.1503 - accuracy: 0.9073 - val_loss: 0.2497 - val_accuracy: 0.8226\n",
      "Epoch 236/500\n",
      "10/10 [==============================] - 0s 6ms/step - loss: 0.1555 - accuracy: 0.9121 - val_loss: 0.2509 - val_accuracy: 0.8226\n",
      "Epoch 237/500\n",
      "10/10 [==============================] - 0s 6ms/step - loss: 0.1736 - accuracy: 0.8774 - val_loss: 0.2480 - val_accuracy: 0.8226\n",
      "Epoch 238/500\n",
      "10/10 [==============================] - 0s 6ms/step - loss: 0.1507 - accuracy: 0.8949 - val_loss: 0.2491 - val_accuracy: 0.8226\n",
      "Epoch 239/500\n",
      "10/10 [==============================] - 0s 6ms/step - loss: 0.1474 - accuracy: 0.9068 - val_loss: 0.2504 - val_accuracy: 0.8226\n",
      "Epoch 240/500\n",
      "10/10 [==============================] - 0s 6ms/step - loss: 0.1422 - accuracy: 0.9207 - val_loss: 0.2471 - val_accuracy: 0.8226\n",
      "Epoch 241/500\n",
      "10/10 [==============================] - 0s 6ms/step - loss: 0.1350 - accuracy: 0.9282 - val_loss: 0.2489 - val_accuracy: 0.8226\n",
      "Epoch 242/500\n",
      "10/10 [==============================] - 0s 7ms/step - loss: 0.1415 - accuracy: 0.9089 - val_loss: 0.2460 - val_accuracy: 0.8226\n",
      "Epoch 243/500\n",
      "10/10 [==============================] - 0s 6ms/step - loss: 0.1445 - accuracy: 0.9151 - val_loss: 0.2472 - val_accuracy: 0.8306\n",
      "Epoch 244/500\n",
      "10/10 [==============================] - 0s 6ms/step - loss: 0.1359 - accuracy: 0.9249 - val_loss: 0.2479 - val_accuracy: 0.8306\n",
      "Epoch 245/500\n",
      "10/10 [==============================] - 0s 6ms/step - loss: 0.1481 - accuracy: 0.9156 - val_loss: 0.2417 - val_accuracy: 0.8226\n",
      "Epoch 246/500\n",
      "10/10 [==============================] - 0s 6ms/step - loss: 0.1492 - accuracy: 0.9098 - val_loss: 0.2444 - val_accuracy: 0.8306\n",
      "Epoch 247/500\n",
      "10/10 [==============================] - 0s 6ms/step - loss: 0.1384 - accuracy: 0.9255 - val_loss: 0.2443 - val_accuracy: 0.8306\n",
      "Epoch 248/500\n",
      "10/10 [==============================] - 0s 6ms/step - loss: 0.1377 - accuracy: 0.9303 - val_loss: 0.2432 - val_accuracy: 0.8306\n",
      "Epoch 249/500\n",
      "10/10 [==============================] - 0s 6ms/step - loss: 0.1425 - accuracy: 0.9173 - val_loss: 0.2430 - val_accuracy: 0.8387\n",
      "Epoch 250/500\n",
      "10/10 [==============================] - 0s 6ms/step - loss: 0.1339 - accuracy: 0.9244 - val_loss: 0.2404 - val_accuracy: 0.8306\n",
      "Epoch 251/500\n",
      "10/10 [==============================] - 0s 6ms/step - loss: 0.1370 - accuracy: 0.9203 - val_loss: 0.2428 - val_accuracy: 0.8306\n",
      "Epoch 252/500\n",
      "10/10 [==============================] - 0s 6ms/step - loss: 0.1393 - accuracy: 0.9170 - val_loss: 0.2404 - val_accuracy: 0.8306\n",
      "Epoch 253/500\n",
      "10/10 [==============================] - 0s 6ms/step - loss: 0.1277 - accuracy: 0.9302 - val_loss: 0.2377 - val_accuracy: 0.8306\n",
      "Epoch 254/500\n",
      "10/10 [==============================] - 0s 6ms/step - loss: 0.1335 - accuracy: 0.9204 - val_loss: 0.2408 - val_accuracy: 0.8387\n",
      "Epoch 255/500\n",
      "10/10 [==============================] - 0s 6ms/step - loss: 0.1394 - accuracy: 0.9288 - val_loss: 0.2353 - val_accuracy: 0.8306\n",
      "Epoch 256/500\n",
      "10/10 [==============================] - 0s 6ms/step - loss: 0.1386 - accuracy: 0.9298 - val_loss: 0.2361 - val_accuracy: 0.8306\n",
      "Epoch 257/500\n",
      "10/10 [==============================] - 0s 6ms/step - loss: 0.1394 - accuracy: 0.9219 - val_loss: 0.2361 - val_accuracy: 0.8387\n",
      "Epoch 258/500\n",
      "10/10 [==============================] - 0s 6ms/step - loss: 0.1268 - accuracy: 0.9323 - val_loss: 0.2343 - val_accuracy: 0.8306\n",
      "Epoch 259/500\n",
      "10/10 [==============================] - 0s 6ms/step - loss: 0.1291 - accuracy: 0.9371 - val_loss: 0.2339 - val_accuracy: 0.8306\n",
      "Epoch 260/500\n",
      "10/10 [==============================] - 0s 6ms/step - loss: 0.1114 - accuracy: 0.9500 - val_loss: 0.2355 - val_accuracy: 0.8387\n",
      "Epoch 261/500\n",
      "10/10 [==============================] - 0s 6ms/step - loss: 0.1239 - accuracy: 0.9190 - val_loss: 0.2317 - val_accuracy: 0.8468\n",
      "Epoch 262/500\n",
      "10/10 [==============================] - 0s 6ms/step - loss: 0.1273 - accuracy: 0.9255 - val_loss: 0.2333 - val_accuracy: 0.8387\n",
      "Epoch 263/500\n",
      "10/10 [==============================] - 0s 6ms/step - loss: 0.1278 - accuracy: 0.9228 - val_loss: 0.2330 - val_accuracy: 0.8387\n",
      "Epoch 264/500\n",
      "10/10 [==============================] - 0s 6ms/step - loss: 0.1173 - accuracy: 0.9450 - val_loss: 0.2320 - val_accuracy: 0.8387\n",
      "Epoch 265/500\n",
      "10/10 [==============================] - 0s 6ms/step - loss: 0.1064 - accuracy: 0.9516 - val_loss: 0.2303 - val_accuracy: 0.8387\n",
      "Epoch 266/500\n",
      "10/10 [==============================] - 0s 6ms/step - loss: 0.1139 - accuracy: 0.9427 - val_loss: 0.2287 - val_accuracy: 0.8387\n",
      "Epoch 267/500\n",
      "10/10 [==============================] - 0s 6ms/step - loss: 0.1240 - accuracy: 0.9304 - val_loss: 0.2307 - val_accuracy: 0.8387\n",
      "Epoch 268/500\n",
      "10/10 [==============================] - 0s 6ms/step - loss: 0.1101 - accuracy: 0.9413 - val_loss: 0.2281 - val_accuracy: 0.8548\n",
      "Epoch 269/500\n",
      "10/10 [==============================] - 0s 6ms/step - loss: 0.1199 - accuracy: 0.9311 - val_loss: 0.2327 - val_accuracy: 0.8387\n",
      "Epoch 270/500\n",
      "10/10 [==============================] - 0s 6ms/step - loss: 0.1149 - accuracy: 0.9389 - val_loss: 0.2265 - val_accuracy: 0.8387\n",
      "Epoch 271/500\n",
      "10/10 [==============================] - 0s 6ms/step - loss: 0.1232 - accuracy: 0.9274 - val_loss: 0.2293 - val_accuracy: 0.8387\n",
      "Epoch 272/500\n",
      "10/10 [==============================] - 0s 6ms/step - loss: 0.1254 - accuracy: 0.9335 - val_loss: 0.2282 - val_accuracy: 0.8387\n",
      "Epoch 273/500\n",
      "10/10 [==============================] - 0s 6ms/step - loss: 0.1192 - accuracy: 0.9250 - val_loss: 0.2251 - val_accuracy: 0.8468\n",
      "Epoch 274/500\n",
      "10/10 [==============================] - 0s 6ms/step - loss: 0.1308 - accuracy: 0.9359 - val_loss: 0.2279 - val_accuracy: 0.8468\n",
      "Epoch 275/500\n",
      "10/10 [==============================] - 0s 6ms/step - loss: 0.1147 - accuracy: 0.9303 - val_loss: 0.2229 - val_accuracy: 0.8468\n",
      "Epoch 276/500\n",
      "10/10 [==============================] - 0s 6ms/step - loss: 0.1022 - accuracy: 0.9476 - val_loss: 0.2253 - val_accuracy: 0.8468\n",
      "Epoch 277/500\n",
      "10/10 [==============================] - 0s 6ms/step - loss: 0.1234 - accuracy: 0.9204 - val_loss: 0.2252 - val_accuracy: 0.8468\n",
      "Epoch 278/500\n",
      "10/10 [==============================] - 0s 6ms/step - loss: 0.1114 - accuracy: 0.9371 - val_loss: 0.2269 - val_accuracy: 0.8387\n",
      "Epoch 279/500\n",
      "10/10 [==============================] - 0s 6ms/step - loss: 0.1158 - accuracy: 0.9334 - val_loss: 0.2237 - val_accuracy: 0.8548\n",
      "Epoch 280/500\n",
      "10/10 [==============================] - 0s 6ms/step - loss: 0.1062 - accuracy: 0.9480 - val_loss: 0.2247 - val_accuracy: 0.8387\n",
      "Epoch 281/500\n",
      "10/10 [==============================] - 0s 6ms/step - loss: 0.1121 - accuracy: 0.9459 - val_loss: 0.2239 - val_accuracy: 0.8468\n",
      "Epoch 282/500\n",
      "10/10 [==============================] - 0s 6ms/step - loss: 0.1076 - accuracy: 0.9378 - val_loss: 0.2219 - val_accuracy: 0.8468\n",
      "Epoch 283/500\n",
      "10/10 [==============================] - 0s 6ms/step - loss: 0.1146 - accuracy: 0.9431 - val_loss: 0.2214 - val_accuracy: 0.8468\n",
      "Epoch 284/500\n",
      "10/10 [==============================] - 0s 6ms/step - loss: 0.1054 - accuracy: 0.9545 - val_loss: 0.2233 - val_accuracy: 0.8387\n",
      "Epoch 285/500\n",
      "10/10 [==============================] - 0s 6ms/step - loss: 0.0990 - accuracy: 0.9541 - val_loss: 0.2203 - val_accuracy: 0.8548\n",
      "Epoch 286/500\n",
      "10/10 [==============================] - 0s 6ms/step - loss: 0.0989 - accuracy: 0.9467 - val_loss: 0.2197 - val_accuracy: 0.8468\n",
      "Epoch 287/500\n"
     ]
    },
    {
     "name": "stdout",
     "output_type": "stream",
     "text": [
      "10/10 [==============================] - 0s 6ms/step - loss: 0.1053 - accuracy: 0.9291 - val_loss: 0.2207 - val_accuracy: 0.8468\n",
      "Epoch 288/500\n",
      "10/10 [==============================] - 0s 6ms/step - loss: 0.0954 - accuracy: 0.9508 - val_loss: 0.2199 - val_accuracy: 0.8468\n",
      "Epoch 289/500\n",
      "10/10 [==============================] - 0s 6ms/step - loss: 0.1022 - accuracy: 0.9425 - val_loss: 0.2211 - val_accuracy: 0.8468\n",
      "Epoch 290/500\n",
      "10/10 [==============================] - 0s 6ms/step - loss: 0.0979 - accuracy: 0.9542 - val_loss: 0.2200 - val_accuracy: 0.8387\n",
      "Epoch 291/500\n",
      "10/10 [==============================] - 0s 6ms/step - loss: 0.1017 - accuracy: 0.9423 - val_loss: 0.2200 - val_accuracy: 0.8468\n",
      "Epoch 292/500\n",
      "10/10 [==============================] - 0s 6ms/step - loss: 0.0935 - accuracy: 0.9477 - val_loss: 0.2179 - val_accuracy: 0.8468\n",
      "Epoch 293/500\n",
      "10/10 [==============================] - 0s 6ms/step - loss: 0.0936 - accuracy: 0.9550 - val_loss: 0.2193 - val_accuracy: 0.8468\n",
      "Epoch 294/500\n",
      "10/10 [==============================] - 0s 6ms/step - loss: 0.0889 - accuracy: 0.9658 - val_loss: 0.2191 - val_accuracy: 0.8548\n",
      "Epoch 295/500\n",
      "10/10 [==============================] - 0s 6ms/step - loss: 0.0907 - accuracy: 0.9566 - val_loss: 0.2170 - val_accuracy: 0.8629\n",
      "Epoch 296/500\n",
      "10/10 [==============================] - 0s 6ms/step - loss: 0.0953 - accuracy: 0.9516 - val_loss: 0.2187 - val_accuracy: 0.8629\n",
      "Epoch 297/500\n",
      "10/10 [==============================] - 0s 6ms/step - loss: 0.1001 - accuracy: 0.9498 - val_loss: 0.2160 - val_accuracy: 0.8629\n",
      "Epoch 298/500\n",
      "10/10 [==============================] - 0s 6ms/step - loss: 0.0861 - accuracy: 0.9648 - val_loss: 0.2165 - val_accuracy: 0.8629\n",
      "Epoch 299/500\n",
      "10/10 [==============================] - 0s 6ms/step - loss: 0.0866 - accuracy: 0.9611 - val_loss: 0.2158 - val_accuracy: 0.8629\n",
      "Epoch 300/500\n",
      "10/10 [==============================] - 0s 6ms/step - loss: 0.0962 - accuracy: 0.9492 - val_loss: 0.2147 - val_accuracy: 0.8790\n",
      "Epoch 301/500\n",
      "10/10 [==============================] - 0s 6ms/step - loss: 0.0876 - accuracy: 0.9467 - val_loss: 0.2151 - val_accuracy: 0.8710\n",
      "Epoch 302/500\n",
      "10/10 [==============================] - 0s 6ms/step - loss: 0.0942 - accuracy: 0.9569 - val_loss: 0.2180 - val_accuracy: 0.8629\n",
      "Epoch 303/500\n",
      "10/10 [==============================] - 0s 6ms/step - loss: 0.0953 - accuracy: 0.9458 - val_loss: 0.2134 - val_accuracy: 0.8871\n",
      "Epoch 304/500\n",
      "10/10 [==============================] - 0s 6ms/step - loss: 0.0945 - accuracy: 0.9455 - val_loss: 0.2135 - val_accuracy: 0.8710\n",
      "Epoch 305/500\n",
      "10/10 [==============================] - 0s 6ms/step - loss: 0.0788 - accuracy: 0.9651 - val_loss: 0.2148 - val_accuracy: 0.8710\n",
      "Epoch 306/500\n",
      "10/10 [==============================] - 0s 6ms/step - loss: 0.0804 - accuracy: 0.9601 - val_loss: 0.2118 - val_accuracy: 0.8710\n",
      "Epoch 307/500\n",
      "10/10 [==============================] - 0s 6ms/step - loss: 0.0941 - accuracy: 0.9566 - val_loss: 0.2147 - val_accuracy: 0.8710\n",
      "Epoch 308/500\n",
      "10/10 [==============================] - 0s 6ms/step - loss: 0.0755 - accuracy: 0.9768 - val_loss: 0.2104 - val_accuracy: 0.8790\n",
      "Epoch 309/500\n",
      "10/10 [==============================] - 0s 7ms/step - loss: 0.0897 - accuracy: 0.9453 - val_loss: 0.2101 - val_accuracy: 0.8790\n",
      "Epoch 310/500\n",
      "10/10 [==============================] - 0s 5ms/step - loss: 0.0898 - accuracy: 0.9485 - val_loss: 0.2147 - val_accuracy: 0.8710\n",
      "Epoch 311/500\n",
      "10/10 [==============================] - 0s 5ms/step - loss: 0.0918 - accuracy: 0.9552 - val_loss: 0.2136 - val_accuracy: 0.8710\n",
      "Epoch 312/500\n",
      "10/10 [==============================] - 0s 5ms/step - loss: 0.0832 - accuracy: 0.9514 - val_loss: 0.2098 - val_accuracy: 0.8790\n",
      "Epoch 313/500\n",
      "10/10 [==============================] - 0s 5ms/step - loss: 0.0888 - accuracy: 0.9459 - val_loss: 0.2122 - val_accuracy: 0.8710\n",
      "Epoch 314/500\n",
      "10/10 [==============================] - 0s 5ms/step - loss: 0.0816 - accuracy: 0.9539 - val_loss: 0.2132 - val_accuracy: 0.8790\n",
      "Epoch 315/500\n",
      "10/10 [==============================] - 0s 6ms/step - loss: 0.0801 - accuracy: 0.9639 - val_loss: 0.2110 - val_accuracy: 0.8790\n",
      "Epoch 316/500\n",
      "10/10 [==============================] - 0s 6ms/step - loss: 0.0773 - accuracy: 0.9643 - val_loss: 0.2155 - val_accuracy: 0.8629\n",
      "Epoch 317/500\n",
      "10/10 [==============================] - 0s 7ms/step - loss: 0.0892 - accuracy: 0.9374 - val_loss: 0.2103 - val_accuracy: 0.8790\n",
      "Epoch 318/500\n",
      "10/10 [==============================] - 0s 6ms/step - loss: 0.0752 - accuracy: 0.9668 - val_loss: 0.2100 - val_accuracy: 0.8710\n",
      "Epoch 319/500\n",
      "10/10 [==============================] - 0s 6ms/step - loss: 0.0730 - accuracy: 0.9737 - val_loss: 0.2124 - val_accuracy: 0.8629\n",
      "Epoch 320/500\n",
      "10/10 [==============================] - 0s 6ms/step - loss: 0.0789 - accuracy: 0.9602 - val_loss: 0.2102 - val_accuracy: 0.8710\n",
      "Epoch 321/500\n",
      "10/10 [==============================] - 0s 6ms/step - loss: 0.0770 - accuracy: 0.9637 - val_loss: 0.2113 - val_accuracy: 0.8629\n",
      "Epoch 322/500\n",
      "10/10 [==============================] - 0s 6ms/step - loss: 0.0721 - accuracy: 0.9693 - val_loss: 0.2103 - val_accuracy: 0.8629\n",
      "Epoch 323/500\n",
      "10/10 [==============================] - 0s 6ms/step - loss: 0.0731 - accuracy: 0.9574 - val_loss: 0.2093 - val_accuracy: 0.8629\n",
      "Epoch 324/500\n",
      "10/10 [==============================] - 0s 6ms/step - loss: 0.0827 - accuracy: 0.9467 - val_loss: 0.2088 - val_accuracy: 0.8629\n",
      "Epoch 325/500\n",
      "10/10 [==============================] - 0s 6ms/step - loss: 0.0757 - accuracy: 0.9649 - val_loss: 0.2101 - val_accuracy: 0.8629\n",
      "Epoch 326/500\n",
      "10/10 [==============================] - 0s 6ms/step - loss: 0.0837 - accuracy: 0.9553 - val_loss: 0.2068 - val_accuracy: 0.8790\n",
      "Epoch 327/500\n",
      "10/10 [==============================] - 0s 6ms/step - loss: 0.0762 - accuracy: 0.9478 - val_loss: 0.2049 - val_accuracy: 0.8790\n",
      "Epoch 328/500\n",
      "10/10 [==============================] - 0s 6ms/step - loss: 0.0660 - accuracy: 0.9670 - val_loss: 0.2093 - val_accuracy: 0.8629\n",
      "Epoch 329/500\n",
      "10/10 [==============================] - 0s 6ms/step - loss: 0.0671 - accuracy: 0.9698 - val_loss: 0.2071 - val_accuracy: 0.8710\n",
      "Epoch 330/500\n",
      "10/10 [==============================] - 0s 6ms/step - loss: 0.0759 - accuracy: 0.9608 - val_loss: 0.2063 - val_accuracy: 0.8629\n",
      "Epoch 331/500\n",
      "10/10 [==============================] - 0s 6ms/step - loss: 0.0696 - accuracy: 0.9740 - val_loss: 0.2097 - val_accuracy: 0.8629\n",
      "Epoch 332/500\n",
      "10/10 [==============================] - 0s 6ms/step - loss: 0.0654 - accuracy: 0.9730 - val_loss: 0.2044 - val_accuracy: 0.8710\n",
      "Epoch 333/500\n",
      "10/10 [==============================] - 0s 6ms/step - loss: 0.0647 - accuracy: 0.9749 - val_loss: 0.2068 - val_accuracy: 0.8629\n",
      "Epoch 334/500\n",
      "10/10 [==============================] - 0s 6ms/step - loss: 0.0682 - accuracy: 0.9663 - val_loss: 0.2056 - val_accuracy: 0.8629\n",
      "Epoch 335/500\n",
      "10/10 [==============================] - 0s 6ms/step - loss: 0.0627 - accuracy: 0.9836 - val_loss: 0.2043 - val_accuracy: 0.8710\n",
      "Epoch 336/500\n",
      "10/10 [==============================] - 0s 6ms/step - loss: 0.0676 - accuracy: 0.9692 - val_loss: 0.2044 - val_accuracy: 0.8710\n",
      "Epoch 337/500\n",
      "10/10 [==============================] - 0s 6ms/step - loss: 0.0641 - accuracy: 0.9666 - val_loss: 0.2062 - val_accuracy: 0.8710\n",
      "Epoch 338/500\n",
      "10/10 [==============================] - 0s 6ms/step - loss: 0.0604 - accuracy: 0.9737 - val_loss: 0.2056 - val_accuracy: 0.8629\n",
      "Epoch 339/500\n",
      "10/10 [==============================] - 0s 6ms/step - loss: 0.0569 - accuracy: 0.9678 - val_loss: 0.1996 - val_accuracy: 0.8790\n",
      "Epoch 340/500\n",
      "10/10 [==============================] - 0s 6ms/step - loss: 0.0640 - accuracy: 0.9800 - val_loss: 0.2054 - val_accuracy: 0.8629\n",
      "Epoch 341/500\n",
      "10/10 [==============================] - 0s 6ms/step - loss: 0.0600 - accuracy: 0.9763 - val_loss: 0.1994 - val_accuracy: 0.8710\n",
      "Epoch 342/500\n",
      "10/10 [==============================] - 0s 6ms/step - loss: 0.0661 - accuracy: 0.9715 - val_loss: 0.2008 - val_accuracy: 0.8710\n",
      "Epoch 343/500\n",
      "10/10 [==============================] - 0s 6ms/step - loss: 0.0585 - accuracy: 0.9843 - val_loss: 0.2019 - val_accuracy: 0.8710\n",
      "Epoch 344/500\n",
      "10/10 [==============================] - 0s 6ms/step - loss: 0.0596 - accuracy: 0.9746 - val_loss: 0.2007 - val_accuracy: 0.8710\n",
      "Epoch 345/500\n",
      "10/10 [==============================] - 0s 6ms/step - loss: 0.0704 - accuracy: 0.9587 - val_loss: 0.2029 - val_accuracy: 0.8629\n",
      "Epoch 346/500\n",
      "10/10 [==============================] - 0s 6ms/step - loss: 0.0571 - accuracy: 0.9787 - val_loss: 0.1987 - val_accuracy: 0.8710\n",
      "Epoch 347/500\n",
      "10/10 [==============================] - 0s 6ms/step - loss: 0.0541 - accuracy: 0.9846 - val_loss: 0.2004 - val_accuracy: 0.8710\n",
      "Epoch 348/500\n",
      "10/10 [==============================] - 0s 6ms/step - loss: 0.0633 - accuracy: 0.9677 - val_loss: 0.2003 - val_accuracy: 0.8710\n",
      "Epoch 349/500\n",
      "10/10 [==============================] - 0s 6ms/step - loss: 0.0568 - accuracy: 0.9802 - val_loss: 0.1982 - val_accuracy: 0.8710\n",
      "Epoch 350/500\n",
      "10/10 [==============================] - 0s 6ms/step - loss: 0.0613 - accuracy: 0.9779 - val_loss: 0.2044 - val_accuracy: 0.8629\n",
      "Epoch 351/500\n",
      "10/10 [==============================] - 0s 6ms/step - loss: 0.0532 - accuracy: 0.9883 - val_loss: 0.2026 - val_accuracy: 0.8629\n",
      "Epoch 352/500\n",
      "10/10 [==============================] - 0s 6ms/step - loss: 0.0554 - accuracy: 0.9820 - val_loss: 0.2014 - val_accuracy: 0.8710\n",
      "Epoch 353/500\n",
      "10/10 [==============================] - 0s 6ms/step - loss: 0.0584 - accuracy: 0.9823 - val_loss: 0.2001 - val_accuracy: 0.8710\n",
      "Epoch 354/500\n",
      "10/10 [==============================] - 0s 6ms/step - loss: 0.0586 - accuracy: 0.9842 - val_loss: 0.2016 - val_accuracy: 0.8710\n",
      "Epoch 355/500\n",
      "10/10 [==============================] - 0s 6ms/step - loss: 0.0576 - accuracy: 0.9778 - val_loss: 0.2019 - val_accuracy: 0.8710\n",
      "Epoch 356/500\n",
      "10/10 [==============================] - 0s 7ms/step - loss: 0.0668 - accuracy: 0.9726 - val_loss: 0.1999 - val_accuracy: 0.8710\n",
      "Epoch 357/500\n",
      "10/10 [==============================] - 0s 6ms/step - loss: 0.0559 - accuracy: 0.9757 - val_loss: 0.1999 - val_accuracy: 0.8710\n",
      "Epoch 358/500\n",
      "10/10 [==============================] - 0s 6ms/step - loss: 0.0516 - accuracy: 0.9854 - val_loss: 0.2011 - val_accuracy: 0.8710\n",
      "Epoch 359/500\n",
      "10/10 [==============================] - 0s 6ms/step - loss: 0.0508 - accuracy: 0.9829 - val_loss: 0.2008 - val_accuracy: 0.8710\n",
      "Epoch 360/500\n",
      "10/10 [==============================] - 0s 6ms/step - loss: 0.0539 - accuracy: 0.9831 - val_loss: 0.2028 - val_accuracy: 0.8710\n",
      "Epoch 361/500\n",
      "10/10 [==============================] - 0s 6ms/step - loss: 0.0477 - accuracy: 0.9934 - val_loss: 0.1983 - val_accuracy: 0.8710\n",
      "Epoch 362/500\n",
      "10/10 [==============================] - 0s 6ms/step - loss: 0.0554 - accuracy: 0.9840 - val_loss: 0.2030 - val_accuracy: 0.8790\n",
      "Epoch 363/500\n",
      "10/10 [==============================] - 0s 6ms/step - loss: 0.0542 - accuracy: 0.9869 - val_loss: 0.2000 - val_accuracy: 0.8790\n",
      "Epoch 364/500\n",
      "10/10 [==============================] - 0s 6ms/step - loss: 0.0502 - accuracy: 0.9847 - val_loss: 0.2002 - val_accuracy: 0.8790\n",
      "Epoch 365/500\n",
      "10/10 [==============================] - 0s 6ms/step - loss: 0.0431 - accuracy: 0.9920 - val_loss: 0.1949 - val_accuracy: 0.8710\n",
      "Epoch 366/500\n",
      "10/10 [==============================] - 0s 6ms/step - loss: 0.0444 - accuracy: 0.9868 - val_loss: 0.2055 - val_accuracy: 0.8710\n",
      "Epoch 367/500\n",
      "10/10 [==============================] - 0s 6ms/step - loss: 0.0419 - accuracy: 0.9958 - val_loss: 0.1978 - val_accuracy: 0.8790\n",
      "Epoch 368/500\n",
      "10/10 [==============================] - 0s 6ms/step - loss: 0.0495 - accuracy: 0.9895 - val_loss: 0.1967 - val_accuracy: 0.8790\n",
      "Epoch 369/500\n",
      "10/10 [==============================] - 0s 6ms/step - loss: 0.0462 - accuracy: 0.9928 - val_loss: 0.2024 - val_accuracy: 0.8790\n",
      "Epoch 370/500\n",
      "10/10 [==============================] - 0s 6ms/step - loss: 0.0450 - accuracy: 0.9916 - val_loss: 0.1990 - val_accuracy: 0.8790\n",
      "Epoch 371/500\n",
      "10/10 [==============================] - 0s 6ms/step - loss: 0.0484 - accuracy: 0.9913 - val_loss: 0.1972 - val_accuracy: 0.8790\n",
      "Epoch 372/500\n",
      "10/10 [==============================] - 0s 6ms/step - loss: 0.0466 - accuracy: 0.9835 - val_loss: 0.2008 - val_accuracy: 0.8790\n",
      "Epoch 373/500\n",
      "10/10 [==============================] - 0s 6ms/step - loss: 0.0547 - accuracy: 0.9889 - val_loss: 0.2016 - val_accuracy: 0.8790\n",
      "Epoch 374/500\n",
      "10/10 [==============================] - 0s 6ms/step - loss: 0.0380 - accuracy: 0.9961 - val_loss: 0.1983 - val_accuracy: 0.8790\n",
      "Epoch 375/500\n",
      "10/10 [==============================] - 0s 6ms/step - loss: 0.0415 - accuracy: 0.9949 - val_loss: 0.1968 - val_accuracy: 0.8790\n",
      "Epoch 376/500\n",
      "10/10 [==============================] - 0s 7ms/step - loss: 0.0429 - accuracy: 0.9929 - val_loss: 0.1998 - val_accuracy: 0.8790\n",
      "Epoch 377/500\n",
      "10/10 [==============================] - 0s 6ms/step - loss: 0.0441 - accuracy: 0.9891 - val_loss: 0.1996 - val_accuracy: 0.8790\n",
      "Epoch 378/500\n",
      "10/10 [==============================] - 0s 6ms/step - loss: 0.0391 - accuracy: 0.9935 - val_loss: 0.2002 - val_accuracy: 0.8790\n",
      "Epoch 379/500\n",
      "10/10 [==============================] - 0s 6ms/step - loss: 0.0486 - accuracy: 0.9871 - val_loss: 0.1980 - val_accuracy: 0.8790\n",
      "Epoch 380/500\n",
      "10/10 [==============================] - 0s 6ms/step - loss: 0.0404 - accuracy: 0.9899 - val_loss: 0.1991 - val_accuracy: 0.8790\n",
      "Epoch 381/500\n",
      "10/10 [==============================] - 0s 6ms/step - loss: 0.0381 - accuracy: 0.9947 - val_loss: 0.2011 - val_accuracy: 0.8790\n",
      "Epoch 382/500\n",
      "10/10 [==============================] - 0s 6ms/step - loss: 0.0428 - accuracy: 0.9889 - val_loss: 0.2008 - val_accuracy: 0.8790\n",
      "Epoch 383/500\n",
      "10/10 [==============================] - 0s 7ms/step - loss: 0.0360 - accuracy: 0.9916 - val_loss: 0.1996 - val_accuracy: 0.8790\n",
      "Epoch 384/500\n",
      "10/10 [==============================] - 0s 6ms/step - loss: 0.0393 - accuracy: 0.9909 - val_loss: 0.1991 - val_accuracy: 0.8790\n",
      "Epoch 385/500\n",
      "10/10 [==============================] - 0s 6ms/step - loss: 0.0439 - accuracy: 0.9892 - val_loss: 0.2035 - val_accuracy: 0.8790\n",
      "Epoch 386/500\n",
      "10/10 [==============================] - 0s 6ms/step - loss: 0.0424 - accuracy: 0.9905 - val_loss: 0.1945 - val_accuracy: 0.8790\n",
      "Epoch 387/500\n",
      "10/10 [==============================] - 0s 6ms/step - loss: 0.0433 - accuracy: 0.9917 - val_loss: 0.2028 - val_accuracy: 0.8710\n",
      "Epoch 388/500\n",
      "10/10 [==============================] - 0s 6ms/step - loss: 0.0384 - accuracy: 0.9861 - val_loss: 0.2013 - val_accuracy: 0.8790\n",
      "Epoch 389/500\n",
      "10/10 [==============================] - 0s 6ms/step - loss: 0.0402 - accuracy: 0.9917 - val_loss: 0.1993 - val_accuracy: 0.8790\n",
      "Epoch 390/500\n",
      "10/10 [==============================] - 0s 6ms/step - loss: 0.0459 - accuracy: 0.9793 - val_loss: 0.1957 - val_accuracy: 0.8790\n",
      "Epoch 391/500\n",
      "10/10 [==============================] - 0s 6ms/step - loss: 0.0369 - accuracy: 0.9957 - val_loss: 0.2022 - val_accuracy: 0.8790\n",
      "Epoch 392/500\n",
      "10/10 [==============================] - 0s 6ms/step - loss: 0.0417 - accuracy: 0.9843 - val_loss: 0.1978 - val_accuracy: 0.8790\n",
      "Epoch 393/500\n",
      "10/10 [==============================] - 0s 6ms/step - loss: 0.0441 - accuracy: 0.9871 - val_loss: 0.1968 - val_accuracy: 0.8790\n",
      "Epoch 394/500\n",
      "10/10 [==============================] - 0s 6ms/step - loss: 0.0373 - accuracy: 0.9885 - val_loss: 0.2020 - val_accuracy: 0.8790\n",
      "Epoch 395/500\n",
      "10/10 [==============================] - 0s 6ms/step - loss: 0.0387 - accuracy: 0.9841 - val_loss: 0.1990 - val_accuracy: 0.8790\n",
      "Epoch 396/500\n",
      "10/10 [==============================] - 0s 7ms/step - loss: 0.0346 - accuracy: 0.9947 - val_loss: 0.1975 - val_accuracy: 0.8790\n",
      "Epoch 397/500\n",
      "10/10 [==============================] - 0s 6ms/step - loss: 0.0376 - accuracy: 0.9888 - val_loss: 0.1999 - val_accuracy: 0.8790\n",
      "Epoch 398/500\n",
      "10/10 [==============================] - 0s 6ms/step - loss: 0.0385 - accuracy: 0.9885 - val_loss: 0.2047 - val_accuracy: 0.8790\n",
      "Epoch 399/500\n",
      "10/10 [==============================] - 0s 6ms/step - loss: 0.0334 - accuracy: 0.9927 - val_loss: 0.1984 - val_accuracy: 0.8790\n",
      "Epoch 400/500\n",
      "10/10 [==============================] - 0s 6ms/step - loss: 0.0370 - accuracy: 0.9902 - val_loss: 0.2030 - val_accuracy: 0.8790\n",
      "Epoch 401/500\n"
     ]
    },
    {
     "name": "stdout",
     "output_type": "stream",
     "text": [
      "10/10 [==============================] - 0s 7ms/step - loss: 0.0339 - accuracy: 0.9924 - val_loss: 0.1984 - val_accuracy: 0.8790\n",
      "Epoch 402/500\n",
      "10/10 [==============================] - 0s 6ms/step - loss: 0.0422 - accuracy: 0.9898 - val_loss: 0.2043 - val_accuracy: 0.8790\n",
      "Epoch 403/500\n",
      "10/10 [==============================] - 0s 6ms/step - loss: 0.0322 - accuracy: 0.9929 - val_loss: 0.2006 - val_accuracy: 0.8790\n",
      "Epoch 404/500\n",
      "10/10 [==============================] - 0s 6ms/step - loss: 0.0343 - accuracy: 0.9926 - val_loss: 0.2032 - val_accuracy: 0.8790\n",
      "Epoch 405/500\n",
      "10/10 [==============================] - 0s 6ms/step - loss: 0.0352 - accuracy: 0.9904 - val_loss: 0.1968 - val_accuracy: 0.8790\n",
      "Epoch 406/500\n",
      "10/10 [==============================] - 0s 6ms/step - loss: 0.0387 - accuracy: 0.9812 - val_loss: 0.2069 - val_accuracy: 0.8710\n",
      "Epoch 407/500\n",
      "10/10 [==============================] - 0s 6ms/step - loss: 0.0300 - accuracy: 0.9924 - val_loss: 0.1980 - val_accuracy: 0.8790\n",
      "Epoch 408/500\n",
      "10/10 [==============================] - 0s 7ms/step - loss: 0.0317 - accuracy: 0.9888 - val_loss: 0.1999 - val_accuracy: 0.8790\n",
      "Epoch 409/500\n",
      "10/10 [==============================] - 0s 6ms/step - loss: 0.0332 - accuracy: 0.9841 - val_loss: 0.2033 - val_accuracy: 0.8710\n",
      "Epoch 410/500\n",
      "10/10 [==============================] - 0s 6ms/step - loss: 0.0347 - accuracy: 0.9829 - val_loss: 0.1991 - val_accuracy: 0.8790\n",
      "Epoch 411/500\n",
      "10/10 [==============================] - 0s 7ms/step - loss: 0.0338 - accuracy: 0.9886 - val_loss: 0.2023 - val_accuracy: 0.8710\n",
      "Epoch 412/500\n",
      "10/10 [==============================] - 0s 6ms/step - loss: 0.0389 - accuracy: 0.9829 - val_loss: 0.1989 - val_accuracy: 0.8790\n",
      "Epoch 413/500\n",
      "10/10 [==============================] - 0s 6ms/step - loss: 0.0331 - accuracy: 0.9887 - val_loss: 0.2055 - val_accuracy: 0.8710\n",
      "Epoch 414/500\n",
      "10/10 [==============================] - 0s 6ms/step - loss: 0.0336 - accuracy: 0.9835 - val_loss: 0.2010 - val_accuracy: 0.8790\n",
      "Epoch 415/500\n",
      "10/10 [==============================] - 0s 6ms/step - loss: 0.0368 - accuracy: 0.9864 - val_loss: 0.2003 - val_accuracy: 0.8710\n",
      "Epoch 416/500\n",
      "10/10 [==============================] - 0s 6ms/step - loss: 0.0367 - accuracy: 0.9857 - val_loss: 0.2013 - val_accuracy: 0.8710\n",
      "Epoch 417/500\n",
      "10/10 [==============================] - 0s 6ms/step - loss: 0.0302 - accuracy: 0.9929 - val_loss: 0.1998 - val_accuracy: 0.8790\n",
      "Epoch 418/500\n",
      "10/10 [==============================] - 0s 6ms/step - loss: 0.0298 - accuracy: 0.9913 - val_loss: 0.2045 - val_accuracy: 0.8710\n",
      "Epoch 419/500\n",
      "10/10 [==============================] - 0s 6ms/step - loss: 0.0308 - accuracy: 0.9886 - val_loss: 0.2010 - val_accuracy: 0.8790\n",
      "Epoch 420/500\n",
      "10/10 [==============================] - 0s 6ms/step - loss: 0.0240 - accuracy: 0.9945 - val_loss: 0.2025 - val_accuracy: 0.8710\n",
      "Epoch 421/500\n",
      "10/10 [==============================] - 0s 6ms/step - loss: 0.0284 - accuracy: 0.9958 - val_loss: 0.2065 - val_accuracy: 0.8710\n",
      "Epoch 422/500\n",
      "10/10 [==============================] - 0s 6ms/step - loss: 0.0324 - accuracy: 0.9839 - val_loss: 0.2007 - val_accuracy: 0.8790\n",
      "Epoch 423/500\n",
      "10/10 [==============================] - 0s 6ms/step - loss: 0.0273 - accuracy: 0.9976 - val_loss: 0.2049 - val_accuracy: 0.8710\n",
      "Epoch 424/500\n",
      "10/10 [==============================] - 0s 6ms/step - loss: 0.0280 - accuracy: 0.9915 - val_loss: 0.2018 - val_accuracy: 0.8790\n",
      "Epoch 425/500\n",
      "10/10 [==============================] - 0s 7ms/step - loss: 0.0285 - accuracy: 0.9889 - val_loss: 0.2105 - val_accuracy: 0.8710\n",
      "Epoch 426/500\n",
      "10/10 [==============================] - 0s 6ms/step - loss: 0.0278 - accuracy: 0.9876 - val_loss: 0.2011 - val_accuracy: 0.8790\n",
      "Epoch 427/500\n",
      "10/10 [==============================] - 0s 7ms/step - loss: 0.0244 - accuracy: 0.9950 - val_loss: 0.2053 - val_accuracy: 0.8710\n",
      "Epoch 428/500\n",
      "10/10 [==============================] - 0s 6ms/step - loss: 0.0261 - accuracy: 0.9913 - val_loss: 0.2069 - val_accuracy: 0.8710\n",
      "Epoch 429/500\n",
      "10/10 [==============================] - 0s 6ms/step - loss: 0.0280 - accuracy: 0.9910 - val_loss: 0.2062 - val_accuracy: 0.8710\n",
      "Epoch 430/500\n",
      "10/10 [==============================] - 0s 8ms/step - loss: 0.0309 - accuracy: 0.9888 - val_loss: 0.2046 - val_accuracy: 0.8710\n",
      "Epoch 431/500\n",
      "10/10 [==============================] - 0s 6ms/step - loss: 0.0239 - accuracy: 0.9946 - val_loss: 0.2081 - val_accuracy: 0.8710\n",
      "Epoch 432/500\n",
      "10/10 [==============================] - 0s 6ms/step - loss: 0.0249 - accuracy: 0.9976 - val_loss: 0.2098 - val_accuracy: 0.8710\n",
      "Epoch 433/500\n",
      "10/10 [==============================] - 0s 6ms/step - loss: 0.0254 - accuracy: 0.9966 - val_loss: 0.2066 - val_accuracy: 0.8790\n",
      "Epoch 434/500\n",
      "10/10 [==============================] - 0s 6ms/step - loss: 0.0271 - accuracy: 0.9879 - val_loss: 0.2069 - val_accuracy: 0.8790\n",
      "Epoch 435/500\n",
      "10/10 [==============================] - 0s 6ms/step - loss: 0.0297 - accuracy: 0.9924 - val_loss: 0.2082 - val_accuracy: 0.8790\n",
      "Epoch 436/500\n",
      "10/10 [==============================] - 0s 6ms/step - loss: 0.0221 - accuracy: 0.9969 - val_loss: 0.2078 - val_accuracy: 0.8790\n",
      "Restoring model weights from the end of the best epoch.\n",
      "Epoch 00436: early stopping\n"
     ]
    }
   ],
   "source": [
    "model = create_model()\n",
    "visualizer = tf.keras.callbacks.TensorBoard(log_dir='./timestamps_ensemble/')\n",
    "earlystops = tf.keras.callbacks.EarlyStopping(patience=patience, restore_best_weights=True, verbose=1)\n",
    "\n",
    "\n",
    "# Compile the model\n",
    "model.compile(loss=tf.keras.losses.binary_crossentropy,\n",
    "              optimizer=tf.keras.optimizers.Adam(lr=learning_rate),\n",
    "              metrics=['accuracy'])\n",
    "\n",
    "# Fit data to model\n",
    "history = model.fit(x_train, y_train,\n",
    "            batch_size=batch_size,\n",
    "            epochs=epochs,\n",
    "            verbose=1,\n",
    "            validation_data=(x_val, y_val),\n",
    "            callbacks=[visualizer, earlystops])"
   ]
  },
  {
   "cell_type": "code",
   "execution_count": 179,
   "metadata": {},
   "outputs": [],
   "source": [
    "model = tf.keras.models.load_model('models/ensemble.h5')"
   ]
  },
  {
   "cell_type": "code",
   "execution_count": 180,
   "metadata": {},
   "outputs": [
    {
     "name": "stdout",
     "output_type": "stream",
     "text": [
      "              precision    recall  f1-score   support\n",
      "\n",
      "     class 0       0.90      0.96      0.93        96\n",
      "     class 1       0.87      0.90      0.89        30\n",
      "     class 2       0.96      0.83      0.89        29\n",
      "     class 3       0.89      0.81      0.85        31\n",
      "\n",
      "    accuracy                           0.90       186\n",
      "   macro avg       0.91      0.87      0.89       186\n",
      "weighted avg       0.90      0.90      0.90       186\n",
      "\n"
     ]
    }
   ],
   "source": [
    "# y_test.argmax(1)\n",
    "predict = model.predict(x_test)\n",
    "y_pred = np.argmax(predict, axis=1)\n",
    "y_test_maxed = np.argmax(y_test, axis=1)\n",
    "print(classification_report(y_test_maxed, y_pred, target_names=['class 0', 'class 1', 'class 2', 'class 3']))\n"
   ]
  },
  {
   "cell_type": "code",
   "execution_count": 154,
   "metadata": {},
   "outputs": [
    {
     "name": "stdout",
     "output_type": "stream",
     "text": [
      "Test accuracy: 90.32258, AUC 97.38086, Precision 0.90449, Recall 0.90323, F1 0.90225, \n",
      "\n"
     ]
    }
   ],
   "source": [
    "\n",
    "auc = 100*roc_auc_score(y_test, predict, average='weighted')\n",
    "acc = 100*accuracy_score(np.argmax(y_test, axis=1), np.argmax(predict, axis=1))\n",
    "prec, rec, f1, _ = precision_recall_fscore_support(np.argmax(y_test, axis=1), np.argmax(predict, axis=1), average='weighted')\n",
    "print('Test accuracy: {:.5f}, AUC {:.5f}, Precision {:.5f}, Recall {:.5f}, F1 {:.5f}, \\n'.format( acc, auc, prec, rec, f1))\n"
   ]
  },
  {
   "cell_type": "code",
   "execution_count": 155,
   "metadata": {},
   "outputs": [
    {
     "name": "stderr",
     "output_type": "stream",
     "text": [
      "/home/hicup/anaconda3/lib/python3.8/site-packages/sklearn/utils/validation.py:67: FutureWarning:\n",
      "\n",
      "Pass labels=[0, 1, 2, 3] as keyword args. From version 0.25 passing these as positional arguments will result in an error\n",
      "\n"
     ]
    },
    {
     "data": {
      "text/plain": [
       "<sklearn.metrics._plot.confusion_matrix.ConfusionMatrixDisplay at 0x7fb1541a6b50>"
      ]
     },
     "execution_count": 155,
     "metadata": {},
     "output_type": "execute_result"
    },
    {
     "data": {
      "image/png": "[encoded data removed]",
      "text/plain": [
       "<Figure size 432x288 with 2 Axes>"
      ]
     },
     "metadata": {
      "needs_background": "light"
     },
     "output_type": "display_data"
    }
   ],
   "source": [
    "model = tf.keras.models.load_model('models/facial_features.h5')\n",
    "\n",
    "\n",
    "labels = ['class 0', 'class 1', 'class 2', 'class 3']\n",
    "cm = confusion_matrix(np.argmax(y_test, axis=1), np.argmax(predict, axis=1), [0,1,2,3])\n",
    "d = cm/cm.sum(axis=1)[:, np.newaxis] * 100\n",
    "cm = d.astype(int)\n",
    "ax= plt.subplot()\n",
    "ax.set_xlabel('Predicted labels');\n",
    "ax.set_ylabel('True labels'); \n",
    "ax.set_title('Confusion matrix of the ensemble classifier'); \n",
    "# ax.legend()\n",
    "disp = ConfusionMatrixDisplay(confusion_matrix=cm, display_labels=labels)\n",
    "\n",
    "disp.plot(ax=ax)"
   ]
  },
  {
   "cell_type": "code",
   "execution_count": 184,
   "metadata": {},
   "outputs": [],
   "source": [
    "# %tensorboard --logdir ./timestamps_ensemble/ --host localhost"
   ]
  },
  {
   "cell_type": "code",
   "execution_count": 185,
   "metadata": {},
   "outputs": [
    {
     "data": {
      "image/png": "[encoded data removed]",
      "text/plain": [
       "<IPython.core.display.Image object>"
      ]
     },
     "execution_count": 185,
     "metadata": {},
     "output_type": "execute_result"
    }
   ],
   "source": [
    "Image(filename='trainingLogs/ensemble.png')\n"
   ]
  },
  {
   "cell_type": "code",
   "execution_count": 186,
   "metadata": {},
   "outputs": [],
   "source": [
    "model.save('models/ensemble.h5')"
   ]
  },
  {
   "cell_type": "code",
   "execution_count": 191,
   "metadata": {},
   "outputs": [],
   "source": [
    "\n",
    "# labels = ['class 0', 'class 1', 'class 2', 'class 3']\n",
    "# cm = confusion_matrix(np.argmax(y_test, axis=1), np.argmax(predict, axis=1), [0,1,2,3])\n",
    "# ax= plt.subplot()\n",
    "# ax.set_xlabel('Predicted labels');\n",
    "# ax.set_ylabel('True labels'); \n",
    "# ax.set_title('Confusion matrix of the facial features based classifier'); \n",
    "# # ax.legend()\n",
    "# disp = ConfusionMatrixDisplay(confusion_matrix=cm, display_labels=labels)\n",
    "\n",
    "# disp.plot(ax=ax)\n"
   ]
  },
  {
   "cell_type": "code",
   "execution_count": 192,
   "metadata": {},
   "outputs": [],
   "source": [
    "# labels = ['class 0', 'class 1', 'class 2', 'class 3']\n",
    "# cm = confusion_matrix(np.argmax(y_test, axis=1), np.argmax(predict, axis=1), [0,1,2,3])\n",
    "# ax= plt.subplot()\n",
    "# ax.set_xlabel('Predicted labels');\n",
    "# ax.set_ylabel('True labels'); \n",
    "# ax.set_title('Confusion matrix of the facial ensemble'); \n",
    "# # ax.legend()\n",
    "# disp = ConfusionMatrixDisplay(confusion_matrix=cm, display_labels=labels)\n",
    "\n",
    "# disp.plot(ax=ax)"
   ]
  },
  {
   "cell_type": "code",
   "execution_count": 182,
   "metadata": {},
   "outputs": [
    {
     "data": {
      "image/png": "[encoded data removed]",
      "text/plain": [
       "<IPython.core.display.Image object>"
      ]
     },
     "execution_count": 182,
     "metadata": {},
     "output_type": "execute_result"
    }
   ],
   "source": [
    "tf.keras.utils.plot_model(model, to_file='arch.png', show_shapes=True)"
   ]
  },
  {
   "cell_type": "code",
   "execution_count": null,
   "metadata": {},
   "outputs": [],
   "source": []
  }
 ],
 "metadata": {
  "kernelspec": {
   "display_name": "Python 3",
   "language": "python",
   "name": "python3"
  },
  "language_info": {
   "codemirror_mode": {
    "name": "ipython",
    "version": 3
   },
   "file_extension": ".py",
   "mimetype": "text/x-python",
   "name": "python",
   "nbconvert_exporter": "python",
   "pygments_lexer": "ipython3",
   "version": "3.8.5"
  }
 },
 "nbformat": 4,
 "nbformat_minor": 4
}
