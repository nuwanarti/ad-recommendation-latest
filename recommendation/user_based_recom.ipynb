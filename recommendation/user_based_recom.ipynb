{
 "cells": [
  {
   "cell_type": "code",
   "execution_count": 1,
   "metadata": {},
   "outputs": [],
   "source": [
    "import pandas as pd\n",
    "import numpy as np\n",
    "import math as mt\n",
    "from scipy import spatial"
   ]
  },
  {
   "cell_type": "code",
   "execution_count": 2,
   "metadata": {},
   "outputs": [
    {
     "data": {
      "text/html": [
       "<div>\n",
       "<style scoped>\n",
       "    .dataframe tbody tr th:only-of-type {\n",
       "        vertical-align: middle;\n",
       "    }\n",
       "\n",
       "    .dataframe tbody tr th {\n",
       "        vertical-align: top;\n",
       "    }\n",
       "\n",
       "    .dataframe thead th {\n",
       "        text-align: right;\n",
       "    }\n",
       "</style>\n",
       "<table border=\"1\" class=\"dataframe\">\n",
       "  <thead>\n",
       "    <tr style=\"text-align: right;\">\n",
       "      <th></th>\n",
       "      <th>Movie 1</th>\n",
       "      <th>Movie 2</th>\n",
       "      <th>Movie 3</th>\n",
       "      <th>Movie 4</th>\n",
       "      <th>Movie 5</th>\n",
       "    </tr>\n",
       "  </thead>\n",
       "  <tbody>\n",
       "    <tr>\n",
       "      <td>User x</td>\n",
       "      <td>3</td>\n",
       "      <td>5</td>\n",
       "      <td>3</td>\n",
       "      <td>5</td>\n",
       "      <td>-3</td>\n",
       "    </tr>\n",
       "    <tr>\n",
       "      <td>User 1</td>\n",
       "      <td>3</td>\n",
       "      <td>3</td>\n",
       "      <td>-3</td>\n",
       "      <td>4</td>\n",
       "      <td>2</td>\n",
       "    </tr>\n",
       "    <tr>\n",
       "      <td>User 2</td>\n",
       "      <td>3</td>\n",
       "      <td>-3</td>\n",
       "      <td>5</td>\n",
       "      <td>5</td>\n",
       "      <td>-3</td>\n",
       "    </tr>\n",
       "    <tr>\n",
       "      <td>User 3</td>\n",
       "      <td>1</td>\n",
       "      <td>3</td>\n",
       "      <td>-3</td>\n",
       "      <td>3</td>\n",
       "      <td>1</td>\n",
       "    </tr>\n",
       "  </tbody>\n",
       "</table>\n",
       "</div>"
      ],
      "text/plain": [
       "        Movie 1  Movie 2  Movie 3  Movie 4  Movie 5\n",
       "User x        3        5        3        5       -3\n",
       "User 1        3        3       -3        4        2\n",
       "User 2        3       -3        5        5       -3\n",
       "User 3        1        3       -3        3        1"
      ]
     },
     "execution_count": 2,
     "metadata": {},
     "output_type": "execute_result"
    }
   ],
   "source": [
    "user_data = [(3, 5, 3, 5, -3) ,\n",
    "            (3, 3, -3, 4, 2 ) ,\n",
    "            (3, -3, 5, 5, -3),\n",
    "            (1, 3, -3, 3, 1)]\n",
    "\n",
    "df = pd.DataFrame(user_data, columns = ['Movie 1' , 'Movie 2', 'Movie 3', 'Movie 4', 'Movie 5'], index=['User x', 'User 1', 'User 2', 'User 3']) \n",
    "df\n"
   ]
  },
  {
   "cell_type": "code",
   "execution_count": 3,
   "metadata": {},
   "outputs": [],
   "source": [
    "def get_mean_score(user):\n",
    "    user_data = []\n",
    "    for column in df.columns:\n",
    "        if df.loc[user][column] !=-3:\n",
    "            user_data.append(df.loc[user][column])\n",
    "    return(sum(user_data) / len(user_data))"
   ]
  },
  {
   "cell_type": "code",
   "execution_count": 4,
   "metadata": {},
   "outputs": [],
   "source": [
    "def get_common_score(user1, user2):\n",
    "    user1_common = []\n",
    "    user2_common = []\n",
    "    \n",
    "    for column in df.columns:\n",
    "        if df.loc[user1][column] !=-3 and df.loc[user2][column] !=-3:\n",
    "            user1_common.append(df.loc[user1][column])\n",
    "            user2_common.append(df.loc[user2][column])\n",
    "            \n",
    "    return (user1_common, user2_common)"
   ]
  },
  {
   "cell_type": "code",
   "execution_count": 5,
   "metadata": {},
   "outputs": [],
   "source": [
    "def pearson_similarity_score(user1, user2):\n",
    "    \n",
    "    user1_common, user2_common = get_common_score(user1, user2)\n",
    "    \n",
    "    mean_user1 = [get_mean_score(user1)] * len(user1_common)\n",
    "    mean_user2 = [get_mean_score(user2)] * len(user2_common)\n",
    "    \n",
    "    #subtract elementwise\n",
    "    diff_user1 = [a_i - b_i for a_i, b_i in zip(user1_common, mean_user1)]\n",
    "    diff_user2 = [a_i - b_i for a_i, b_i in zip(user2_common, mean_user2)]\n",
    "    \n",
    "    #multiply two lists of diff values for users elementwise\n",
    "    mult_term_numinator = [a_i * b_i for a_i, b_i in zip(diff_user1, diff_user2)]\n",
    "    \n",
    "    numinator = sum(mult_term_numinator)\n",
    "    \n",
    "    pow_term_denominator_user1 = [number**2 for number in diff_user1]\n",
    "    pow_term_denominator_user2 = [number**2 for number in diff_user2]\n",
    "    \n",
    "    sqrt_sum_pow_term_denominator_user1 = mt.sqrt(sum(pow_term_denominator_user1))\n",
    "    \n",
    "    sqrt_sum_pow_term_denominator_user2 =  mt.sqrt(sum(pow_term_denominator_user2))\n",
    "    \n",
    "    denominator = sqrt_sum_pow_term_denominator_user1 * sqrt_sum_pow_term_denominator_user2\n",
    "    \n",
    "    pred = (numinator / denominator)\n",
    "    \n",
    "    return pred\n",
    "    "
   ]
  },
  {
   "cell_type": "code",
   "execution_count": 6,
   "metadata": {},
   "outputs": [],
   "source": [
    "def prediction(user_a, item_p, alpha, similarity):\n",
    "    #pred(user_a, item_p) = avg_r_a + (sum(similarity(user_a, user_b) * (r_user_b - avg_r_b))/ sum(similarity(user_a, user_b))\n",
    "    avg_r_a = get_mean_score(user_a)\n",
    "    t1 = []\n",
    "    t2 = []\n",
    "    for index, row in df.iterrows():\n",
    "        if index != user_a and similarity(user_a, index) >= alpha and df.loc[index][item_p] != -3:\n",
    "            t1.append( similarity(user_a, index) * (df.loc[index][item_p] - get_mean_score(index)))\n",
    "            t2.append( similarity(user_a, index))\n",
    "    \n",
    "    pred = avg_r_a + (sum(t1) / sum(t2))\n",
    "    \n",
    "    return pred\n",
    "    "
   ]
  },
  {
   "cell_type": "code",
   "execution_count": 7,
   "metadata": {},
   "outputs": [
    {
     "data": {
      "text/plain": [
       "3.0"
      ]
     },
     "execution_count": 7,
     "metadata": {},
     "output_type": "execute_result"
    }
   ],
   "source": [
    "prediction('User x', 'Movie 5', 0.75, pearson_similarity_score)"
   ]
  },
  {
   "cell_type": "code",
   "execution_count": null,
   "metadata": {},
   "outputs": [],
   "source": []
  }
 ],
 "metadata": {
  "kernelspec": {
   "display_name": "Python 3",
   "language": "python",
   "name": "python3"
  },
  "language_info": {
   "codemirror_mode": {
    "name": "ipython",
    "version": 3
   },
   "file_extension": ".py",
   "mimetype": "text/x-python",
   "name": "python",
   "nbconvert_exporter": "python",
   "pygments_lexer": "ipython3",
   "version": "3.8.5"
  }
 },
 "nbformat": 4,
 "nbformat_minor": 2
}
